{
 "cells": [
  {
   "cell_type": "code",
   "execution_count": 1,
   "metadata": {},
   "outputs": [],
   "source": [
    "# Start loading libraries\n",
    "\n",
    "#! pip install yfinance\n",
    "\n",
    "import matplotlib.pyplot as plt\n",
    "import numpy as np\n",
    "import pandas as pd\n",
    "import seaborn as sns\n",
    "\n",
    "#! pip install pmdarima\n",
    "import pmdarima as pm\n",
    "from pmdarima import model_selection\n",
    "\n",
    "import scipy\n",
    "import statsmodels.api as sm\n",
    "from statsmodels.tsa.stattools import adfuller\n",
    "from arch.unitroot import PhillipsPerron\n",
    "from arch.unitroot import KPSS\n",
    "\n",
    "from statsmodels.graphics.tsaplots import plot_pacf\n",
    "from statsmodels.graphics.tsaplots import plot_acf\n",
    "#from statsmodels.graphics.tsaplots import plot_acf\n",
    "\n",
    "#from matplotlib.ticker import NullFormatter\n",
    "#import yfinance as yf\n",
    "#import warnings; warnings.simplefilter('ignore')\n",
    "#%matplotlib inline"
   ]
  },
  {
   "cell_type": "code",
   "execution_count": 2,
   "metadata": {},
   "outputs": [
    {
     "data": {
      "text/html": [
       "<div>\n",
       "<style scoped>\n",
       "    .dataframe tbody tr th:only-of-type {\n",
       "        vertical-align: middle;\n",
       "    }\n",
       "\n",
       "    .dataframe tbody tr th {\n",
       "        vertical-align: top;\n",
       "    }\n",
       "\n",
       "    .dataframe thead th {\n",
       "        text-align: right;\n",
       "    }\n",
       "</style>\n",
       "<table border=\"1\" class=\"dataframe\">\n",
       "  <thead>\n",
       "    <tr style=\"text-align: right;\">\n",
       "      <th></th>\n",
       "      <th>LGOc1</th>\n",
       "      <th>LGOc3</th>\n",
       "      <th>LGOc6</th>\n",
       "      <th>LGOc9</th>\n",
       "      <th>LGOc12</th>\n",
       "    </tr>\n",
       "    <tr>\n",
       "      <th>Timestamp</th>\n",
       "      <th></th>\n",
       "      <th></th>\n",
       "      <th></th>\n",
       "      <th></th>\n",
       "      <th></th>\n",
       "    </tr>\n",
       "  </thead>\n",
       "  <tbody>\n",
       "    <tr>\n",
       "      <th>1988-06-24</th>\n",
       "      <td>133.0</td>\n",
       "      <td>134.50</td>\n",
       "      <td>138.00</td>\n",
       "      <td>137.50</td>\n",
       "      <td>NaN</td>\n",
       "    </tr>\n",
       "    <tr>\n",
       "      <th>1988-07-01</th>\n",
       "      <td>129.0</td>\n",
       "      <td>128.00</td>\n",
       "      <td>131.50</td>\n",
       "      <td>129.00</td>\n",
       "      <td>NaN</td>\n",
       "    </tr>\n",
       "    <tr>\n",
       "      <th>1988-07-08</th>\n",
       "      <td>132.5</td>\n",
       "      <td>132.75</td>\n",
       "      <td>137.50</td>\n",
       "      <td>131.50</td>\n",
       "      <td>NaN</td>\n",
       "    </tr>\n",
       "    <tr>\n",
       "      <th>1988-07-15</th>\n",
       "      <td>125.5</td>\n",
       "      <td>128.00</td>\n",
       "      <td>129.25</td>\n",
       "      <td>130.00</td>\n",
       "      <td>NaN</td>\n",
       "    </tr>\n",
       "    <tr>\n",
       "      <th>1988-07-22</th>\n",
       "      <td>135.5</td>\n",
       "      <td>138.50</td>\n",
       "      <td>139.75</td>\n",
       "      <td>138.13</td>\n",
       "      <td>NaN</td>\n",
       "    </tr>\n",
       "  </tbody>\n",
       "</table>\n",
       "</div>"
      ],
      "text/plain": [
       "            LGOc1   LGOc3   LGOc6   LGOc9  LGOc12\n",
       "Timestamp                                        \n",
       "1988-06-24  133.0  134.50  138.00  137.50     NaN\n",
       "1988-07-01  129.0  128.00  131.50  129.00     NaN\n",
       "1988-07-08  132.5  132.75  137.50  131.50     NaN\n",
       "1988-07-15  125.5  128.00  129.25  130.00     NaN\n",
       "1988-07-22  135.5  138.50  139.75  138.13     NaN"
      ]
     },
     "execution_count": 2,
     "metadata": {},
     "output_type": "execute_result"
    }
   ],
   "source": [
    "xls_file = pd.ExcelFile(\"Data_weekly_final.xlsx\") # Read Excel\n",
    "df1=xls_file.parse(\"Gasoil\") # Read the first sheet (Portfolio holdings)\n",
    "\n",
    "#df1[\"Timestamp\"] = df1[\"Date\"].astype('datetime64[ns]') # Convert column to date format\n",
    "df1 = df1.set_index(['Timestamp']) # use first column as index\n",
    "\n",
    "#df1.to_excel(\"values.xlsx\")  #print to excel\n",
    "\n",
    "\n",
    "df1.head()"
   ]
  },
  {
   "cell_type": "code",
   "execution_count": 3,
   "metadata": {},
   "outputs": [
    {
     "data": {
      "text/plain": [
       "<AxesSubplot:xlabel='Timestamp'>"
      ]
     },
     "execution_count": 3,
     "metadata": {},
     "output_type": "execute_result"
    },
    {
     "data": {
      "image/png": "[encoded data removed]",
      "text/plain": [
       "<Figure size 432x288 with 1 Axes>"
      ]
     },
     "metadata": {
      "needs_background": "light"
     },
     "output_type": "display_data"
    }
   ],
   "source": [
    "spot = df1[\"LGOc1\"]\n",
    "#spot = np.log(spot).diff()\n",
    "spot.plot()"
   ]
  },
  {
   "cell_type": "code",
   "execution_count": 4,
   "metadata": {},
   "outputs": [
    {
     "data": {
      "text/plain": [
       "count    1801.000000\n",
       "mean      442.624864\n",
       "std       291.804344\n",
       "min        93.000000\n",
       "25%       177.500000\n",
       "50%       372.500000\n",
       "75%       623.250000\n",
       "max      1389.500000\n",
       "Name: LGOc1, dtype: float64"
      ]
     },
     "execution_count": 4,
     "metadata": {},
     "output_type": "execute_result"
    }
   ],
   "source": [
    "#statistics\n",
    "\n",
    "#mean\n",
    "#sd\n",
    "#skewness\n",
    "#kurtosis\n",
    "#jb test\n",
    "#Ljung Box Q(6) and Q^2(6)\n",
    "#observations\n",
    "\n",
    "spot.describe()\n",
    "#spot.dropna().describe()"
   ]
  },
  {
   "cell_type": "code",
   "execution_count": 5,
   "metadata": {},
   "outputs": [
    {
     "name": "stdout",
     "output_type": "stream",
     "text": [
      "Skewness spot: 0.7545123641960797\n",
      "Skewness logs: 0.03342705448965833\n",
      "Kurtosis spot: 2.5384618643505568\n",
      "Kurtosis logs: 1.6292715858833584\n",
      "JB spot: Jarque_beraResult(statistic=186.86673832856613, pvalue=0.0)\n",
      "JB logs: Jarque_beraResult(statistic=141.33091286394205, pvalue=0.0)\n",
      "Q(6) spot:         lb_stat  lb_pvalue\n",
      "6  10488.653472        0.0\n",
      "Q(6) logs:         lb_stat  lb_pvalue\n",
      "6  10572.102846        0.0\n"
     ]
    }
   ],
   "source": [
    "print(\"Skewness spot:\", scipy.stats.skew(spot.dropna(), axis=0, bias=True))\n",
    "print(\"Skewness logs:\", scipy.stats.skew(np.log(spot.dropna()), axis=0, bias=True))\n",
    "print(\"Kurtosis spot:\", scipy.stats.kurtosis(spot.dropna(), axis=0, fisher=False, bias=True))\n",
    "print(\"Kurtosis logs:\", scipy.stats.kurtosis(np.log(spot.dropna()), fisher=False, axis=0, bias=True))\n",
    "\n",
    "print(\"JB spot:\", scipy.stats.jarque_bera(spot.dropna()))\n",
    "print(\"JB logs:\", scipy.stats.jarque_bera(np.log(spot.dropna())))\n",
    "#The Jarque-Bera Test is typically used for large datasets (n > 2000) in which other normality tests (like the Shapiro-Wilk test) are unreliable.\n",
    "\n",
    "print(\"Q(6) spot:\", sm.stats.acorr_ljungbox(spot.dropna(), lags=[6]))\n",
    "print(\"Q(6) logs:\", sm.stats.acorr_ljungbox(np.log(spot.dropna()), lags=[6]))"
   ]
  },
  {
   "cell_type": "code",
   "execution_count": 6,
   "metadata": {},
   "outputs": [
    {
     "name": "stdout",
     "output_type": "stream",
     "text": [
      "ADF spot: (-2.262209596225549, 0.18444584579880546, 18, 1782, {'1%': -3.4340249409468155, '5%': -2.8631632820375903, '10%': -2.5676341842417187}, 16529.515414355315)\n",
      "ADF logs: (-1.7035508751160686, 0.42928389410026113, 6, 1794, {'1%': -3.4340003240943844, '5%': -2.8631524150111547, '10%': -2.567628397867784}, -5679.547741430049)\n",
      "PP spot:      Phillips-Perron Test (Z-tau)    \n",
      "=====================================\n",
      "Test Statistic                 -1.943\n",
      "P-value                         0.312\n",
      "Lags                               25\n",
      "-------------------------------------\n",
      "\n",
      "Trend: Constant\n",
      "Critical Values: -3.43 (1%), -2.86 (5%), -2.57 (10%)\n",
      "Null Hypothesis: The process contains a unit root.\n",
      "Alternative Hypothesis: The process is weakly stationary.\n",
      "PP logs:      Phillips-Perron Test (Z-tau)    \n",
      "=====================================\n",
      "Test Statistic                 -1.613\n",
      "P-value                         0.476\n",
      "Lags                               25\n",
      "-------------------------------------\n",
      "\n",
      "Trend: Constant\n",
      "Critical Values: -3.43 (1%), -2.86 (5%), -2.57 (10%)\n",
      "Null Hypothesis: The process contains a unit root.\n",
      "Alternative Hypothesis: The process is weakly stationary.\n"
     ]
    }
   ],
   "source": [
    "#stationarity\n",
    "\n",
    "#augmented Dickie-Fuller\n",
    "#PP test - Phillips and Perron\n",
    "#KPSS\n",
    "\n",
    "print(\"ADF spot:\", adfuller(spot.dropna()))\n",
    "print(\"ADF logs:\", adfuller(np.log(spot.dropna())))\n",
    "\n",
    "print(\"PP spot:\", PhillipsPerron(spot.dropna()).summary().as_text())\n",
    "print(\"PP logs:\", PhillipsPerron(np.log(spot.dropna())).summary().as_text())\n",
    "\n"
   ]
  },
  {
   "cell_type": "code",
   "execution_count": 7,
   "metadata": {},
   "outputs": [
    {
     "name": "stdout",
     "output_type": "stream",
     "text": [
      "KPSS spot:     KPSS Stationarity Test Results   \n",
      "=====================================\n",
      "Test Statistic                  4.055\n",
      "P-value                         0.000\n",
      "Lags                               27\n",
      "-------------------------------------\n",
      "\n",
      "Trend: Constant\n",
      "Critical Values: 0.74 (1%), 0.46 (5%), 0.35 (10%)\n",
      "Null Hypothesis: The process is weakly stationary.\n",
      "Alternative Hypothesis: The process contains a unit root.\n",
      "KPSS logs:     KPSS Stationarity Test Results   \n",
      "=====================================\n",
      "Test Statistic                  4.889\n",
      "P-value                         0.000\n",
      "Lags                               27\n",
      "-------------------------------------\n",
      "\n",
      "Trend: Constant\n",
      "Critical Values: 0.74 (1%), 0.46 (5%), 0.35 (10%)\n",
      "Null Hypothesis: The process is weakly stationary.\n",
      "Alternative Hypothesis: The process contains a unit root.\n"
     ]
    }
   ],
   "source": [
    "\n",
    "print(\"KPSS spot:\", KPSS(spot.dropna()).summary().as_text())\n",
    "print(\"KPSS logs:\", KPSS(np.log(spot.dropna())).summary().as_text())"
   ]
  },
  {
   "cell_type": "code",
   "execution_count": 8,
   "metadata": {},
   "outputs": [
    {
     "name": "stdout",
     "output_type": "stream",
     "text": [
      "ACF and PACF spot:\n",
      "ACF and PACF logs:\n"
     ]
    },
    {
     "name": "stderr",
     "output_type": "stream",
     "text": [
      "c:\\Users\\tatuh\\anaconda3\\lib\\site-packages\\statsmodels\\graphics\\tsaplots.py:348: FutureWarning: The default method 'yw' can produce PACF values outside of the [-1,1] interval. After 0.13, the default will change tounadjusted Yule-Walker ('ywm'). You can use this method now by setting method='ywm'.\n",
      "  warnings.warn(\n",
      "c:\\Users\\tatuh\\anaconda3\\lib\\site-packages\\statsmodels\\graphics\\tsaplots.py:348: FutureWarning: The default method 'yw' can produce PACF values outside of the [-1,1] interval. After 0.13, the default will change tounadjusted Yule-Walker ('ywm'). You can use this method now by setting method='ywm'.\n",
      "  warnings.warn(\n"
     ]
    },
    {
     "data": {
      "image/png": "[encoded data removed]",
      "text/plain": [
       "<Figure size 432x288 with 1 Axes>"
      ]
     },
     "execution_count": 8,
     "metadata": {},
     "output_type": "execute_result"
    },
    {
     "data": {
      "image/png": "[encoded data removed]",
      "text/plain": [
       "<Figure size 432x288 with 1 Axes>"
      ]
     },
     "metadata": {
      "needs_background": "light"
     },
     "output_type": "display_data"
    },
    {
     "data": {
      "image/png": "[encoded data removed]",
      "text/plain": [
       "<Figure size 432x288 with 1 Axes>"
      ]
     },
     "metadata": {
      "needs_background": "light"
     },
     "output_type": "display_data"
    },
    {
     "data": {
      "image/png": "[encoded data removed]",
      "text/plain": [
       "<Figure size 432x288 with 1 Axes>"
      ]
     },
     "metadata": {
      "needs_background": "light"
     },
     "output_type": "display_data"
    },
    {
     "data": {
      "image/png": "[encoded data removed]",
      "text/plain": [
       "<Figure size 432x288 with 1 Axes>"
      ]
     },
     "metadata": {
      "needs_background": "light"
     },
     "output_type": "display_data"
    }
   ],
   "source": [
    "#ACF and PACF\n",
    "\n",
    "print(\"ACF and PACF spot:\")\n",
    "plot_acf(spot.dropna(), lags = 15)\n",
    "plot_pacf(spot.dropna(), lags = 15)\n",
    "\n",
    "\n",
    "print(\"ACF and PACF logs:\")\n",
    "plot_acf(np.log(spot.dropna()), lags = 15)\n",
    "plot_pacf(np.log(spot.dropna()), lags = 15)\n",
    "\n"
   ]
  },
  {
   "cell_type": "code",
   "execution_count": 9,
   "metadata": {},
   "outputs": [
    {
     "data": {
      "text/plain": [
       "0.6782943507735172"
      ]
     },
     "execution_count": 9,
     "metadata": {},
     "output_type": "execute_result"
    },
    {
     "data": {
      "image/png": "[encoded data removed]",
      "text/plain": [
       "<Figure size 432x288 with 1 Axes>"
      ]
     },
     "metadata": {
      "needs_background": "light"
     },
     "output_type": "display_data"
    }
   ],
   "source": [
    "spot.hist()\n",
    "0.6782943507735172"
   ]
  },
  {
   "cell_type": "code",
   "execution_count": 10,
   "metadata": {},
   "outputs": [
    {
     "data": {
      "text/plain": [
       "<AxesSubplot:>"
      ]
     },
     "execution_count": 10,
     "metadata": {},
     "output_type": "execute_result"
    },
    {
     "data": {
      "image/png": "[encoded data removed]",
      "text/plain": [
       "<Figure size 432x288 with 1 Axes>"
      ]
     },
     "metadata": {
      "needs_background": "light"
     },
     "output_type": "display_data"
    }
   ],
   "source": [
    "np.log(spot).hist()"
   ]
  },
  {
   "cell_type": "code",
   "execution_count": 11,
   "metadata": {},
   "outputs": [],
   "source": [
    "# Load the data and split it into separate pieces\n",
    "data = np.array(spot.dropna())\n",
    "train, test = model_selection.train_test_split(data, train_size=1200)"
   ]
  },
  {
   "cell_type": "code",
   "execution_count": 12,
   "metadata": {},
   "outputs": [
    {
     "name": "stdout",
     "output_type": "stream",
     "text": [
      "Performing stepwise search to minimize aic\n",
      " ARIMA(2,1,2)(0,0,0)[0] intercept   : AIC=10495.236, Time=0.57 sec\n",
      " ARIMA(0,1,0)(0,0,0)[0] intercept   : AIC=10494.115, Time=0.03 sec\n",
      " ARIMA(1,1,0)(0,0,0)[0] intercept   : AIC=10496.031, Time=0.07 sec\n",
      " ARIMA(0,1,1)(0,0,0)[0] intercept   : AIC=10496.042, Time=0.11 sec\n",
      " ARIMA(0,1,0)(0,0,0)[0]             : AIC=10493.586, Time=0.02 sec\n",
      " ARIMA(1,1,1)(0,0,0)[0] intercept   : AIC=10495.854, Time=0.13 sec\n",
      "\n",
      "Best model:  ARIMA(0,1,0)(0,0,0)[0]          \n",
      "Total fit time: 0.957 seconds\n"
     ]
    },
    {
     "data": {
      "image/png": "[encoded data removed]",
      "text/plain": [
       "<Figure size 432x288 with 1 Axes>"
      ]
     },
     "metadata": {
      "needs_background": "light"
     },
     "output_type": "display_data"
    }
   ],
   "source": [
    "# Fit a simple auto_arima model\n",
    "arima = pm.auto_arima(train, error_action='ignore', trace=True,\n",
    "                      suppress_warnings=True, maxiter=5,\n",
    "                      seasonal=False)\n",
    "\n",
    "#arima = pm.auto_arima(train, error_action='ignore', trace=True,\n",
    "                      #suppress_warnings=True, maxiter=5,\n",
    "                      #seasonal=True, m=12)\n",
    "\n",
    "# #############################################################################\n",
    "# Plot actual test vs. forecasts:\n",
    "x = np.arange(test.shape[0])\n",
    "plt.scatter(x, test, marker='x')\n",
    "plt.plot(x, arima.predict(n_periods=test.shape[0]))\n",
    "plt.title('Actual test samples vs. forecasts')\n",
    "plt.show()"
   ]
  },
  {
   "cell_type": "code",
   "execution_count": 13,
   "metadata": {},
   "outputs": [
    {
     "data": {
      "text/html": [
       "<table class=\"simpletable\">\n",
       "<caption>SARIMAX Results</caption>\n",
       "<tr>\n",
       "  <th>Dep. Variable:</th>           <td>y</td>        <th>  No. Observations:  </th>   <td>1200</td>   \n",
       "</tr>\n",
       "<tr>\n",
       "  <th>Model:</th>           <td>SARIMAX(0, 1, 0)</td> <th>  Log Likelihood     </th> <td>-5245.793</td>\n",
       "</tr>\n",
       "<tr>\n",
       "  <th>Date:</th>            <td>Tue, 27 Dec 2022</td> <th>  AIC                </th> <td>10493.586</td>\n",
       "</tr>\n",
       "<tr>\n",
       "  <th>Time:</th>                <td>18:48:13</td>     <th>  BIC                </th> <td>10498.675</td>\n",
       "</tr>\n",
       "<tr>\n",
       "  <th>Sample:</th>                  <td>0</td>        <th>  HQIC               </th> <td>10495.503</td>\n",
       "</tr>\n",
       "<tr>\n",
       "  <th></th>                      <td> - 1200</td>     <th>                     </th>     <td> </td>    \n",
       "</tr>\n",
       "<tr>\n",
       "  <th>Covariance Type:</th>        <td>opg</td>       <th>                     </th>     <td> </td>    \n",
       "</tr>\n",
       "</table>\n",
       "<table class=\"simpletable\">\n",
       "<tr>\n",
       "     <td></td>       <th>coef</th>     <th>std err</th>      <th>z</th>      <th>P>|z|</th>  <th>[0.025</th>    <th>0.975]</th>  \n",
       "</tr>\n",
       "<tr>\n",
       "  <th>sigma2</th> <td>  369.5947</td> <td>    6.818</td> <td>   54.205</td> <td> 0.000</td> <td>  356.231</td> <td>  382.959</td>\n",
       "</tr>\n",
       "</table>\n",
       "<table class=\"simpletable\">\n",
       "<tr>\n",
       "  <th>Ljung-Box (L1) (Q):</th>     <td>0.08</td> <th>  Jarque-Bera (JB):  </th> <td>3375.96</td>\n",
       "</tr>\n",
       "<tr>\n",
       "  <th>Prob(Q):</th>                <td>0.77</td> <th>  Prob(JB):          </th>  <td>0.00</td>  \n",
       "</tr>\n",
       "<tr>\n",
       "  <th>Heteroskedasticity (H):</th> <td>7.14</td> <th>  Skew:              </th>  <td>-1.02</td> \n",
       "</tr>\n",
       "<tr>\n",
       "  <th>Prob(H) (two-sided):</th>    <td>0.00</td> <th>  Kurtosis:          </th>  <td>10.96</td> \n",
       "</tr>\n",
       "</table><br/><br/>Warnings:<br/>[1] Covariance matrix calculated using the outer product of gradients (complex-step)."
      ],
      "text/plain": [
       "<class 'statsmodels.iolib.summary.Summary'>\n",
       "\"\"\"\n",
       "                               SARIMAX Results                                \n",
       "==============================================================================\n",
       "Dep. Variable:                      y   No. Observations:                 1200\n",
       "Model:               SARIMAX(0, 1, 0)   Log Likelihood               -5245.793\n",
       "Date:                Tue, 27 Dec 2022   AIC                          10493.586\n",
       "Time:                        18:48:13   BIC                          10498.675\n",
       "Sample:                             0   HQIC                         10495.503\n",
       "                               - 1200                                         \n",
       "Covariance Type:                  opg                                         \n",
       "==============================================================================\n",
       "                 coef    std err          z      P>|z|      [0.025      0.975]\n",
       "------------------------------------------------------------------------------\n",
       "sigma2       369.5947      6.818     54.205      0.000     356.231     382.959\n",
       "===================================================================================\n",
       "Ljung-Box (L1) (Q):                   0.08   Jarque-Bera (JB):              3375.96\n",
       "Prob(Q):                              0.77   Prob(JB):                         0.00\n",
       "Heteroskedasticity (H):               7.14   Skew:                            -1.02\n",
       "Prob(H) (two-sided):                  0.00   Kurtosis:                        10.96\n",
       "===================================================================================\n",
       "\n",
       "Warnings:\n",
       "[1] Covariance matrix calculated using the outer product of gradients (complex-step).\n",
       "\"\"\""
      ]
     },
     "execution_count": 13,
     "metadata": {},
     "output_type": "execute_result"
    }
   ],
   "source": [
    "arima.summary()"
   ]
  },
  {
   "cell_type": "code",
   "execution_count": 14,
   "metadata": {},
   "outputs": [
    {
     "data": {
      "text/plain": [
       "[<matplotlib.lines.Line2D at 0x148982b0cd0>]"
      ]
     },
     "execution_count": 14,
     "metadata": {},
     "output_type": "execute_result"
    },
    {
     "data": {
      "image/png": "[encoded data removed]",
      "text/plain": [
       "<Figure size 432x288 with 1 Axes>"
      ]
     },
     "metadata": {
      "needs_background": "light"
     },
     "output_type": "display_data"
    }
   ],
   "source": [
    "plt.plot(x, arima.predict(n_periods=test.shape[0]))"
   ]
  },
  {
   "cell_type": "code",
   "execution_count": 15,
   "metadata": {},
   "outputs": [
    {
     "data": {
      "text/plain": [
       "array([940.25, 940.25, 940.25, 940.25, 940.25, 940.25, 940.25, 940.25,\n",
       "       940.25, 940.25, 940.25, 940.25, 940.25, 940.25, 940.25, 940.25,\n",
       "       940.25, 940.25, 940.25, 940.25, 940.25, 940.25, 940.25, 940.25,\n",
       "       940.25, 940.25, 940.25, 940.25, 940.25, 940.25, 940.25, 940.25,\n",
       "       940.25, 940.25, 940.25, 940.25, 940.25, 940.25, 940.25, 940.25,\n",
       "       940.25, 940.25, 940.25, 940.25, 940.25, 940.25, 940.25, 940.25,\n",
       "       940.25, 940.25, 940.25, 940.25, 940.25, 940.25, 940.25, 940.25,\n",
       "       940.25, 940.25, 940.25, 940.25, 940.25, 940.25, 940.25, 940.25,\n",
       "       940.25, 940.25, 940.25, 940.25, 940.25, 940.25, 940.25, 940.25,\n",
       "       940.25, 940.25, 940.25, 940.25, 940.25, 940.25, 940.25, 940.25,\n",
       "       940.25, 940.25, 940.25, 940.25, 940.25, 940.25, 940.25, 940.25,\n",
       "       940.25, 940.25, 940.25, 940.25, 940.25, 940.25, 940.25, 940.25,\n",
       "       940.25, 940.25, 940.25, 940.25, 940.25, 940.25, 940.25, 940.25,\n",
       "       940.25, 940.25, 940.25, 940.25, 940.25, 940.25, 940.25, 940.25,\n",
       "       940.25, 940.25, 940.25, 940.25, 940.25, 940.25, 940.25, 940.25,\n",
       "       940.25, 940.25, 940.25, 940.25, 940.25, 940.25, 940.25, 940.25,\n",
       "       940.25, 940.25, 940.25, 940.25, 940.25, 940.25, 940.25, 940.25,\n",
       "       940.25, 940.25, 940.25, 940.25, 940.25, 940.25, 940.25, 940.25,\n",
       "       940.25, 940.25, 940.25, 940.25, 940.25, 940.25, 940.25, 940.25,\n",
       "       940.25, 940.25, 940.25, 940.25, 940.25, 940.25, 940.25, 940.25,\n",
       "       940.25, 940.25, 940.25, 940.25, 940.25, 940.25, 940.25, 940.25,\n",
       "       940.25, 940.25, 940.25, 940.25, 940.25, 940.25, 940.25, 940.25,\n",
       "       940.25, 940.25, 940.25, 940.25, 940.25, 940.25, 940.25, 940.25,\n",
       "       940.25, 940.25, 940.25, 940.25, 940.25, 940.25, 940.25, 940.25,\n",
       "       940.25, 940.25, 940.25, 940.25, 940.25, 940.25, 940.25, 940.25,\n",
       "       940.25, 940.25, 940.25, 940.25, 940.25, 940.25, 940.25, 940.25,\n",
       "       940.25, 940.25, 940.25, 940.25, 940.25, 940.25, 940.25, 940.25,\n",
       "       940.25, 940.25, 940.25, 940.25, 940.25, 940.25, 940.25, 940.25,\n",
       "       940.25, 940.25, 940.25, 940.25, 940.25, 940.25, 940.25, 940.25,\n",
       "       940.25, 940.25, 940.25, 940.25, 940.25, 940.25, 940.25, 940.25,\n",
       "       940.25, 940.25, 940.25, 940.25, 940.25, 940.25, 940.25, 940.25,\n",
       "       940.25, 940.25, 940.25, 940.25, 940.25, 940.25, 940.25, 940.25,\n",
       "       940.25, 940.25, 940.25, 940.25, 940.25, 940.25, 940.25, 940.25,\n",
       "       940.25, 940.25, 940.25, 940.25, 940.25, 940.25, 940.25, 940.25,\n",
       "       940.25, 940.25, 940.25, 940.25, 940.25, 940.25, 940.25, 940.25,\n",
       "       940.25, 940.25, 940.25, 940.25, 940.25, 940.25, 940.25, 940.25,\n",
       "       940.25, 940.25, 940.25, 940.25, 940.25, 940.25, 940.25, 940.25,\n",
       "       940.25, 940.25, 940.25, 940.25, 940.25, 940.25, 940.25, 940.25,\n",
       "       940.25, 940.25, 940.25, 940.25, 940.25, 940.25, 940.25, 940.25,\n",
       "       940.25, 940.25, 940.25, 940.25, 940.25, 940.25, 940.25, 940.25,\n",
       "       940.25, 940.25, 940.25, 940.25, 940.25, 940.25, 940.25, 940.25,\n",
       "       940.25, 940.25, 940.25, 940.25, 940.25, 940.25, 940.25, 940.25,\n",
       "       940.25, 940.25, 940.25, 940.25, 940.25, 940.25, 940.25, 940.25,\n",
       "       940.25, 940.25, 940.25, 940.25, 940.25, 940.25, 940.25, 940.25,\n",
       "       940.25, 940.25, 940.25, 940.25, 940.25, 940.25, 940.25, 940.25,\n",
       "       940.25, 940.25, 940.25, 940.25, 940.25, 940.25, 940.25, 940.25,\n",
       "       940.25, 940.25, 940.25, 940.25, 940.25, 940.25, 940.25, 940.25,\n",
       "       940.25, 940.25, 940.25, 940.25, 940.25, 940.25, 940.25, 940.25,\n",
       "       940.25, 940.25, 940.25, 940.25, 940.25, 940.25, 940.25, 940.25,\n",
       "       940.25, 940.25, 940.25, 940.25, 940.25, 940.25, 940.25, 940.25,\n",
       "       940.25, 940.25, 940.25, 940.25, 940.25, 940.25, 940.25, 940.25,\n",
       "       940.25, 940.25, 940.25, 940.25, 940.25, 940.25, 940.25, 940.25,\n",
       "       940.25, 940.25, 940.25, 940.25, 940.25, 940.25, 940.25, 940.25,\n",
       "       940.25, 940.25, 940.25, 940.25, 940.25, 940.25, 940.25, 940.25,\n",
       "       940.25, 940.25, 940.25, 940.25, 940.25, 940.25, 940.25, 940.25,\n",
       "       940.25, 940.25, 940.25, 940.25, 940.25, 940.25, 940.25, 940.25,\n",
       "       940.25, 940.25, 940.25, 940.25, 940.25, 940.25, 940.25, 940.25,\n",
       "       940.25, 940.25, 940.25, 940.25, 940.25, 940.25, 940.25, 940.25,\n",
       "       940.25, 940.25, 940.25, 940.25, 940.25, 940.25, 940.25, 940.25,\n",
       "       940.25, 940.25, 940.25, 940.25, 940.25, 940.25, 940.25, 940.25,\n",
       "       940.25, 940.25, 940.25, 940.25, 940.25, 940.25, 940.25, 940.25,\n",
       "       940.25, 940.25, 940.25, 940.25, 940.25, 940.25, 940.25, 940.25,\n",
       "       940.25, 940.25, 940.25, 940.25, 940.25, 940.25, 940.25, 940.25,\n",
       "       940.25, 940.25, 940.25, 940.25, 940.25, 940.25, 940.25, 940.25,\n",
       "       940.25, 940.25, 940.25, 940.25, 940.25, 940.25, 940.25, 940.25,\n",
       "       940.25, 940.25, 940.25, 940.25, 940.25, 940.25, 940.25, 940.25,\n",
       "       940.25, 940.25, 940.25, 940.25, 940.25, 940.25, 940.25, 940.25,\n",
       "       940.25, 940.25, 940.25, 940.25, 940.25, 940.25, 940.25, 940.25,\n",
       "       940.25, 940.25, 940.25, 940.25, 940.25, 940.25, 940.25, 940.25,\n",
       "       940.25, 940.25, 940.25, 940.25, 940.25, 940.25, 940.25, 940.25,\n",
       "       940.25, 940.25, 940.25, 940.25, 940.25, 940.25, 940.25, 940.25,\n",
       "       940.25, 940.25, 940.25, 940.25, 940.25, 940.25, 940.25, 940.25,\n",
       "       940.25, 940.25, 940.25, 940.25, 940.25, 940.25, 940.25, 940.25,\n",
       "       940.25, 940.25, 940.25, 940.25, 940.25, 940.25, 940.25, 940.25,\n",
       "       940.25, 940.25, 940.25, 940.25, 940.25, 940.25, 940.25, 940.25,\n",
       "       940.25])"
      ]
     },
     "execution_count": 15,
     "metadata": {},
     "output_type": "execute_result"
    }
   ],
   "source": [
    "arima.predict(n_periods=test.shape[0])"
   ]
  },
  {
   "cell_type": "code",
   "execution_count": 16,
   "metadata": {},
   "outputs": [
    {
     "data": {
      "text/plain": [
       "<AxesSubplot:xlabel='Timestamp'>"
      ]
     },
     "execution_count": 16,
     "metadata": {},
     "output_type": "execute_result"
    },
    {
     "data": {
      "image/png": "[encoded data removed]",
      "text/plain": [
       "<Figure size 432x288 with 1 Axes>"
      ]
     },
     "metadata": {
      "needs_background": "light"
     },
     "output_type": "display_data"
    }
   ],
   "source": [
    "spot2 = np.log(spot).diff()\n",
    "spot2.plot()"
   ]
  },
  {
   "cell_type": "code",
   "execution_count": 17,
   "metadata": {},
   "outputs": [
    {
     "data": {
      "text/plain": [
       "count    1800.000000\n",
       "mean        0.001057\n",
       "std         0.049048\n",
       "min        -0.433394\n",
       "25%        -0.022088\n",
       "50%         0.003157\n",
       "75%         0.027319\n",
       "max         0.347638\n",
       "Name: LGOc1, dtype: float64"
      ]
     },
     "execution_count": 17,
     "metadata": {},
     "output_type": "execute_result"
    }
   ],
   "source": [
    "#statistics\n",
    "\n",
    "#mean\n",
    "#sd\n",
    "#skewness\n",
    "#kurtosis\n",
    "#jb test\n",
    "#Ljung Box Q(6) and Q^2(6)\n",
    "#observations\n",
    "\n",
    "spot2.describe()\n",
    "#spot.dropna().describe()"
   ]
  },
  {
   "cell_type": "code",
   "execution_count": 18,
   "metadata": {},
   "outputs": [
    {
     "name": "stdout",
     "output_type": "stream",
     "text": [
      "Skewness spot: -0.5839790518684945\n",
      "Kurtosis spot: 10.373443848328673\n",
      "JB spot: Jarque_beraResult(statistic=4179.885023740564, pvalue=0.0)\n",
      "Q(6) spot:      lb_stat  lb_pvalue\n",
      "6  19.607997   0.003251\n"
     ]
    }
   ],
   "source": [
    "print(\"Skewness spot:\", scipy.stats.skew(spot2.dropna(), axis=0, bias=True))\n",
    "#print(\"Skewness logs:\", scipy.stats.skew(np.log(spot2.dropna()), axis=0, bias=True))\n",
    "print(\"Kurtosis spot:\", scipy.stats.kurtosis(spot2.dropna(), axis=0, fisher=False, bias=True))\n",
    "#print(\"Kurtosis logs:\", scipy.stats.kurtosis(np.log(spot2.dropna()), fisher=False, axis=0, bias=True))\n",
    "\n",
    "print(\"JB spot:\", scipy.stats.jarque_bera(spot2.dropna()))\n",
    "#print(\"JB logs:\", scipy.stats.jarque_bera(np.log(spot2.dropna())))\n",
    "#The Jarque-Bera Test is typically used for large datasets (n > 2000) in which other normality tests (like the Shapiro-Wilk test) are unreliable.\n",
    "\n",
    "print(\"Q(6) spot:\", sm.stats.acorr_ljungbox(spot2.dropna(), lags=[6]))\n",
    "#print(\"Q(6) logs:\", sm.stats.acorr_ljungbox(np.log(spot2.dropna()), lags=[6]))"
   ]
  },
  {
   "cell_type": "code",
   "execution_count": 19,
   "metadata": {},
   "outputs": [
    {
     "name": "stdout",
     "output_type": "stream",
     "text": [
      "ADF spot: (-15.86713005123877, 9.070391583693168e-29, 5, 1794, {'1%': -3.4340003240943844, '5%': -2.8631524150111547, '10%': -2.567628397867784}, -5674.734337775983)\n",
      "PP spot:      Phillips-Perron Test (Z-tau)    \n",
      "=====================================\n",
      "Test Statistic                -44.105\n",
      "P-value                         0.000\n",
      "Lags                               25\n",
      "-------------------------------------\n",
      "\n",
      "Trend: Constant\n",
      "Critical Values: -3.43 (1%), -2.86 (5%), -2.57 (10%)\n",
      "Null Hypothesis: The process contains a unit root.\n",
      "Alternative Hypothesis: The process is weakly stationary.\n"
     ]
    }
   ],
   "source": [
    "#stationarity\n",
    "\n",
    "#augmented Dickie-Fuller\n",
    "#PP test - Phillips and Perron\n",
    "#KPSS\n",
    "\n",
    "print(\"ADF spot:\", adfuller(spot2.dropna()))\n",
    "#print(\"ADF logs:\", adfuller(np.log(spot2.dropna())))\n",
    "\n",
    "print(\"PP spot:\", PhillipsPerron(spot2.dropna()).summary().as_text())\n",
    "#print(\"PP logs:\", PhillipsPerron(np.log(spot2.dropna())).summary().as_text())"
   ]
  },
  {
   "cell_type": "code",
   "execution_count": 20,
   "metadata": {},
   "outputs": [
    {
     "name": "stdout",
     "output_type": "stream",
     "text": [
      "KPSS spot:     KPSS Stationarity Test Results   \n",
      "=====================================\n",
      "Test Statistic                  0.038\n",
      "P-value                         0.941\n",
      "Lags                                5\n",
      "-------------------------------------\n",
      "\n",
      "Trend: Constant\n",
      "Critical Values: 0.74 (1%), 0.46 (5%), 0.35 (10%)\n",
      "Null Hypothesis: The process is weakly stationary.\n",
      "Alternative Hypothesis: The process contains a unit root.\n"
     ]
    }
   ],
   "source": [
    "print(\"KPSS spot:\", KPSS(spot2.dropna()).summary().as_text())\n",
    "#print(\"KPSS logs:\", KPSS(np.log(spot2.dropna())).summary().as_text())"
   ]
  },
  {
   "cell_type": "code",
   "execution_count": 21,
   "metadata": {},
   "outputs": [
    {
     "name": "stdout",
     "output_type": "stream",
     "text": [
      "ACF and PACF spot:\n"
     ]
    },
    {
     "name": "stderr",
     "output_type": "stream",
     "text": [
      "c:\\Users\\tatuh\\anaconda3\\lib\\site-packages\\statsmodels\\graphics\\tsaplots.py:348: FutureWarning: The default method 'yw' can produce PACF values outside of the [-1,1] interval. After 0.13, the default will change tounadjusted Yule-Walker ('ywm'). You can use this method now by setting method='ywm'.\n",
      "  warnings.warn(\n"
     ]
    },
    {
     "data": {
      "image/png": "[encoded data removed]",
      "text/plain": [
       "<Figure size 432x288 with 1 Axes>"
      ]
     },
     "execution_count": 21,
     "metadata": {},
     "output_type": "execute_result"
    },
    {
     "data": {
      "image/png": "[encoded data removed]",
      "text/plain": [
       "<Figure size 432x288 with 1 Axes>"
      ]
     },
     "metadata": {
      "needs_background": "light"
     },
     "output_type": "display_data"
    },
    {
     "data": {
      "image/png": "[encoded data removed]",
      "text/plain": [
       "<Figure size 432x288 with 1 Axes>"
      ]
     },
     "metadata": {
      "needs_background": "light"
     },
     "output_type": "display_data"
    }
   ],
   "source": [
    "#ACF and PACF\n",
    "\n",
    "print(\"ACF and PACF spot:\")\n",
    "plot_acf(spot2.dropna(), lags = 15)\n",
    "plot_pacf(spot2.dropna(), lags = 15)\n",
    "\n",
    "\n",
    "#print(\"ACF and PACF logs:\")\n",
    "#plot_acf(np.log(spot2.dropna()), lags = 15)\n",
    "#plot_pacf(np.log(spot2.dropna()), lags = 15)\n"
   ]
  },
  {
   "cell_type": "code",
   "execution_count": 22,
   "metadata": {},
   "outputs": [
    {
     "data": {
      "text/plain": [
       "<AxesSubplot:>"
      ]
     },
     "execution_count": 22,
     "metadata": {},
     "output_type": "execute_result"
    },
    {
     "data": {
      "image/png": "[encoded data removed]",
      "text/plain": [
       "<Figure size 432x288 with 1 Axes>"
      ]
     },
     "metadata": {
      "needs_background": "light"
     },
     "output_type": "display_data"
    }
   ],
   "source": [
    "spot2.hist()\n"
   ]
  },
  {
   "cell_type": "code",
   "execution_count": 23,
   "metadata": {},
   "outputs": [],
   "source": [
    "# Load the data and split it into separate pieces\n",
    "data2 = np.array(spot2.dropna())\n",
    "train2, test2 = model_selection.train_test_split(data2, train_size=1200)"
   ]
  },
  {
   "cell_type": "code",
   "execution_count": 24,
   "metadata": {},
   "outputs": [
    {
     "name": "stdout",
     "output_type": "stream",
     "text": [
      "Performing stepwise search to minimize aic\n",
      " ARIMA(2,0,2)(0,0,0)[0]             : AIC=-3799.693, Time=0.11 sec\n",
      " ARIMA(0,0,0)(0,0,0)[0]             : AIC=-3796.651, Time=0.05 sec\n",
      " ARIMA(1,0,0)(0,0,0)[0]             : AIC=-3803.423, Time=0.16 sec\n",
      " ARIMA(0,0,1)(0,0,0)[0]             : AIC=-3802.667, Time=0.06 sec\n",
      " ARIMA(2,0,0)(0,0,0)[0]             : AIC=-3803.490, Time=0.10 sec\n",
      " ARIMA(3,0,0)(0,0,0)[0]             : AIC=-3802.341, Time=0.26 sec\n",
      " ARIMA(2,0,1)(0,0,0)[0]             : AIC=-3803.967, Time=0.09 sec\n",
      " ARIMA(1,0,1)(0,0,0)[0]             : AIC=-3802.891, Time=0.08 sec\n",
      " ARIMA(3,0,1)(0,0,0)[0]             : AIC=-3800.473, Time=0.13 sec\n",
      " ARIMA(1,0,2)(0,0,0)[0]             : AIC=-3801.604, Time=0.08 sec\n",
      " ARIMA(3,0,2)(0,0,0)[0]             : AIC=-3792.659, Time=0.11 sec\n",
      " ARIMA(2,0,1)(0,0,0)[0] intercept   : AIC=-3802.909, Time=0.14 sec\n",
      "\n",
      "Best model:  ARIMA(2,0,1)(0,0,0)[0]          \n",
      "Total fit time: 1.382 seconds\n"
     ]
    },
    {
     "data": {
      "image/png": "[encoded data removed]",
      "text/plain": [
       "<Figure size 432x288 with 1 Axes>"
      ]
     },
     "metadata": {
      "needs_background": "light"
     },
     "output_type": "display_data"
    }
   ],
   "source": [
    "# Fit a simple auto_arima model\n",
    "arima2 = pm.auto_arima(train2, error_action='ignore', trace=True,\n",
    "                      suppress_warnings=True, maxiter=5,\n",
    "                      seasonal=False)\n",
    "\n",
    "#arima = pm.auto_arima(train, error_action='ignore', trace=True,\n",
    "                      #suppress_warnings=True, maxiter=5,\n",
    "                      #seasonal=True, m=12)\n",
    "\n",
    "# #############################################################################\n",
    "# Plot actual test vs. forecasts:\n",
    "x2 = np.arange(test2.shape[0])\n",
    "plt.scatter(x2, test2, marker='x')\n",
    "plt.plot(x2, arima2.predict(n_periods=test2.shape[0]))\n",
    "plt.title('Actual test samples vs. forecasts')\n",
    "plt.show()"
   ]
  },
  {
   "cell_type": "code",
   "execution_count": 25,
   "metadata": {},
   "outputs": [
    {
     "data": {
      "text/html": [
       "<table class=\"simpletable\">\n",
       "<caption>SARIMAX Results</caption>\n",
       "<tr>\n",
       "  <th>Dep. Variable:</th>           <td>y</td>        <th>  No. Observations:  </th>   <td>1200</td>   \n",
       "</tr>\n",
       "<tr>\n",
       "  <th>Model:</th>           <td>SARIMAX(2, 0, 1)</td> <th>  Log Likelihood     </th> <td>1905.984</td> \n",
       "</tr>\n",
       "<tr>\n",
       "  <th>Date:</th>            <td>Tue, 27 Dec 2022</td> <th>  AIC                </th> <td>-3803.967</td>\n",
       "</tr>\n",
       "<tr>\n",
       "  <th>Time:</th>                <td>18:48:16</td>     <th>  BIC                </th> <td>-3783.607</td>\n",
       "</tr>\n",
       "<tr>\n",
       "  <th>Sample:</th>                  <td>0</td>        <th>  HQIC               </th> <td>-3796.298</td>\n",
       "</tr>\n",
       "<tr>\n",
       "  <th></th>                      <td> - 1200</td>     <th>                     </th>     <td> </td>    \n",
       "</tr>\n",
       "<tr>\n",
       "  <th>Covariance Type:</th>        <td>opg</td>       <th>                     </th>     <td> </td>    \n",
       "</tr>\n",
       "</table>\n",
       "<table class=\"simpletable\">\n",
       "<tr>\n",
       "     <td></td>       <th>coef</th>     <th>std err</th>      <th>z</th>      <th>P>|z|</th>  <th>[0.025</th>    <th>0.975]</th>  \n",
       "</tr>\n",
       "<tr>\n",
       "  <th>ar.L1</th>  <td>    0.5585</td> <td>    0.223</td> <td>    2.504</td> <td> 0.012</td> <td>    0.121</td> <td>    0.996</td>\n",
       "</tr>\n",
       "<tr>\n",
       "  <th>ar.L2</th>  <td>    0.0981</td> <td>    0.020</td> <td>    4.902</td> <td> 0.000</td> <td>    0.059</td> <td>    0.137</td>\n",
       "</tr>\n",
       "<tr>\n",
       "  <th>ma.L1</th>  <td>   -0.6418</td> <td>    0.220</td> <td>   -2.916</td> <td> 0.004</td> <td>   -1.073</td> <td>   -0.210</td>\n",
       "</tr>\n",
       "<tr>\n",
       "  <th>sigma2</th> <td>    0.0024</td> <td> 5.42e-05</td> <td>   44.897</td> <td> 0.000</td> <td>    0.002</td> <td>    0.003</td>\n",
       "</tr>\n",
       "</table>\n",
       "<table class=\"simpletable\">\n",
       "<tr>\n",
       "  <th>Ljung-Box (L1) (Q):</th>     <td>0.01</td> <th>  Jarque-Bera (JB):  </th> <td>2151.12</td>\n",
       "</tr>\n",
       "<tr>\n",
       "  <th>Prob(Q):</th>                <td>0.93</td> <th>  Prob(JB):          </th>  <td>0.00</td>  \n",
       "</tr>\n",
       "<tr>\n",
       "  <th>Heteroskedasticity (H):</th> <td>0.87</td> <th>  Skew:              </th>  <td>-0.84</td> \n",
       "</tr>\n",
       "<tr>\n",
       "  <th>Prob(H) (two-sided):</th>    <td>0.18</td> <th>  Kurtosis:          </th>  <td>9.34</td>  \n",
       "</tr>\n",
       "</table><br/><br/>Warnings:<br/>[1] Covariance matrix calculated using the outer product of gradients (complex-step)."
      ],
      "text/plain": [
       "<class 'statsmodels.iolib.summary.Summary'>\n",
       "\"\"\"\n",
       "                               SARIMAX Results                                \n",
       "==============================================================================\n",
       "Dep. Variable:                      y   No. Observations:                 1200\n",
       "Model:               SARIMAX(2, 0, 1)   Log Likelihood                1905.984\n",
       "Date:                Tue, 27 Dec 2022   AIC                          -3803.967\n",
       "Time:                        18:48:16   BIC                          -3783.607\n",
       "Sample:                             0   HQIC                         -3796.298\n",
       "                               - 1200                                         \n",
       "Covariance Type:                  opg                                         \n",
       "==============================================================================\n",
       "                 coef    std err          z      P>|z|      [0.025      0.975]\n",
       "------------------------------------------------------------------------------\n",
       "ar.L1          0.5585      0.223      2.504      0.012       0.121       0.996\n",
       "ar.L2          0.0981      0.020      4.902      0.000       0.059       0.137\n",
       "ma.L1         -0.6418      0.220     -2.916      0.004      -1.073      -0.210\n",
       "sigma2         0.0024   5.42e-05     44.897      0.000       0.002       0.003\n",
       "===================================================================================\n",
       "Ljung-Box (L1) (Q):                   0.01   Jarque-Bera (JB):              2151.12\n",
       "Prob(Q):                              0.93   Prob(JB):                         0.00\n",
       "Heteroskedasticity (H):               0.87   Skew:                            -0.84\n",
       "Prob(H) (two-sided):                  0.18   Kurtosis:                         9.34\n",
       "===================================================================================\n",
       "\n",
       "Warnings:\n",
       "[1] Covariance matrix calculated using the outer product of gradients (complex-step).\n",
       "\"\"\""
      ]
     },
     "execution_count": 25,
     "metadata": {},
     "output_type": "execute_result"
    }
   ],
   "source": [
    "arima2.summary()"
   ]
  },
  {
   "cell_type": "code",
   "execution_count": 26,
   "metadata": {},
   "outputs": [
    {
     "data": {
      "text/plain": [
       "[<matplotlib.lines.Line2D at 0x14898647af0>]"
      ]
     },
     "execution_count": 26,
     "metadata": {},
     "output_type": "execute_result"
    },
    {
     "data": {
      "image/png": "[encoded data removed]",
      "text/plain": [
       "<Figure size 432x288 with 1 Axes>"
      ]
     },
     "metadata": {
      "needs_background": "light"
     },
     "output_type": "display_data"
    }
   ],
   "source": [
    "plt.plot(x2, arima2.predict(n_periods=test2.shape[0]))"
   ]
  },
  {
   "cell_type": "code",
   "execution_count": 27,
   "metadata": {},
   "outputs": [
    {
     "data": {
      "text/plain": [
       "array([ 5.29646627e-03, -4.15645935e-03, -1.80146389e-03, -1.41396585e-03,\n",
       "       -9.66446257e-04, -6.78492749e-04, -4.73761353e-04, -3.31166310e-04,\n",
       "       -2.31439662e-04, -1.61751563e-04, -1.13046041e-04, -7.90065316e-05,\n",
       "       -5.52167043e-05, -3.85902860e-05, -2.69702832e-05, -1.88492041e-05,\n",
       "       -1.31734804e-05, -9.20678581e-06, -6.43451104e-06, -4.49700180e-06,\n",
       "       -3.14290006e-06, -2.19653477e-06, -1.53513154e-06, -1.07288483e-06,\n",
       "       -7.49826206e-07, -5.24044450e-07, -3.66248316e-07, -2.55966510e-07,\n",
       "       -1.78891892e-07, -1.25025376e-07, -8.73787202e-08, -6.10679288e-08,\n",
       "       -4.26796354e-08, -2.98282800e-08, -2.08466235e-08, -1.45694525e-08,\n",
       "       -1.01824138e-08, -7.11636565e-09, -4.97354172e-09, -3.47594804e-09,\n",
       "       -2.42929797e-09, -1.69780691e-09, -1.18657668e-09, -8.29284063e-10,\n",
       "       -5.79576583e-10, -4.05059051e-10, -2.83090863e-10, -1.97848774e-10,\n",
       "       -1.38274110e-10, -9.66381003e-11, -6.75391973e-11, -4.72023266e-11,\n",
       "       -3.29891341e-11, -2.30557061e-11, -1.61133536e-11, -1.12614276e-11,\n",
       "       -7.87047528e-12, -5.50057981e-12, -3.84428857e-12, -2.68672670e-12,\n",
       "       -1.87772074e-12, -1.31231627e-12, -9.17161939e-13, -6.40993366e-13,\n",
       "       -4.47982496e-13, -3.13089538e-13, -2.18814484e-13, -1.52926792e-13,\n",
       "       -1.06878682e-13, -7.46962156e-14, -5.22042799e-14, -3.64849387e-14,\n",
       "       -2.54988815e-14, -1.78208593e-14, -1.24547826e-14, -8.70449667e-15,\n",
       "       -6.08346725e-15, -4.25166155e-15, -2.97143474e-15, -2.07669973e-15,\n",
       "       -1.45138028e-15, -1.01435209e-15, -7.08918384e-16, -4.95454469e-16,\n",
       "       -3.46267125e-16, -2.42001898e-16, -1.69132194e-16, -1.18204441e-16,\n",
       "       -8.26116514e-17, -5.77362821e-17, -4.03511880e-17, -2.82009563e-17,\n",
       "       -1.97093067e-17, -1.37745956e-17, -9.62689795e-18, -6.72812233e-18,\n",
       "       -4.70220317e-18, -3.28631282e-18, -2.29676421e-18, -1.60518067e-18,\n",
       "       -1.12184132e-18, -7.84041306e-19, -5.47956968e-19, -3.82960485e-19,\n",
       "       -2.67646443e-19, -1.87054856e-19, -1.30730372e-19, -9.13658730e-20,\n",
       "       -6.38545015e-20, -4.46271374e-20, -3.11893655e-20, -2.17978696e-20,\n",
       "       -1.52342670e-20, -1.06470446e-20, -7.44109045e-21, -5.20048795e-21,\n",
       "       -3.63455801e-21, -2.54014855e-21, -1.77527904e-21, -1.24072101e-21,\n",
       "       -8.67124881e-22, -6.06023072e-22, -4.23542182e-22, -2.96008499e-22,\n",
       "       -2.06876753e-22, -1.44583656e-22, -1.01047765e-22, -7.06210586e-23,\n",
       "       -4.93562021e-23, -3.44944516e-23, -2.41077542e-23, -1.68486173e-23,\n",
       "       -1.17752945e-23, -8.22961063e-24, -5.75157515e-24, -4.01970618e-24,\n",
       "       -2.80932394e-24, -1.96340246e-24, -1.37219819e-24, -9.59012687e-25,\n",
       "       -6.70242346e-25, -4.68424254e-25, -3.27376035e-25, -2.28799144e-25,\n",
       "       -1.59904949e-25, -1.11755631e-25, -7.81046567e-26, -5.45863981e-26,\n",
       "       -3.81497722e-26, -2.66624135e-26, -1.86340377e-26, -1.30231032e-26,\n",
       "       -9.10168901e-27, -6.36106016e-27, -4.44566787e-27, -3.10702340e-27,\n",
       "       -2.17146101e-27, -1.51760779e-27, -1.06063769e-27, -7.41266831e-28,\n",
       "       -5.18062406e-28, -3.62067538e-28, -2.53044615e-28, -1.76849815e-28,\n",
       "       -1.23598193e-28, -8.63812794e-29, -6.03708295e-29, -4.21924412e-29,\n",
       "       -2.94877859e-29, -2.06086562e-29, -1.44031401e-29, -1.00661801e-29,\n",
       "       -7.03513130e-30, -4.91676802e-30, -3.43626959e-30, -2.40156718e-30,\n",
       "       -1.67842620e-30, -1.17303173e-30, -8.19817665e-31, -5.72960632e-31,\n",
       "       -4.00435243e-31, -2.79859339e-31, -1.95590301e-31, -1.36695691e-31,\n",
       "       -9.55349623e-32, -6.67682275e-32, -4.66635052e-32, -3.26125583e-32,\n",
       "       -2.27925218e-32, -1.59294173e-32, -1.11328768e-32, -7.78063266e-33,\n",
       "       -5.43778989e-33, -3.80040546e-33, -2.65605733e-33, -1.85628628e-33,\n",
       "       -1.29733599e-33, -9.06692402e-34, -6.33676333e-34, -4.42868711e-34,\n",
       "       -3.09515576e-34, -2.16316685e-34, -1.51181110e-34, -1.05658646e-34,\n",
       "       -7.38435474e-35, -5.16083605e-35, -3.60684578e-35, -2.52078081e-35,\n",
       "       -1.76174316e-35, -1.23126095e-35, -8.60513358e-36, -6.01402359e-36,\n",
       "       -4.20312821e-36, -2.93751538e-36, -2.05299390e-36, -1.43481256e-36,\n",
       "       -1.00277311e-36, -7.00825978e-37, -4.89798784e-37, -3.42314435e-37,\n",
       "       -2.39239411e-37, -1.67201525e-37, -1.16855120e-37, -8.16686274e-38,\n",
       "       -5.70772141e-38, -3.98905733e-38, -2.78790383e-38, -1.94843221e-38,\n",
       "       -1.36173566e-38, -9.51700551e-39, -6.65131983e-39, -4.64852684e-39,\n",
       "       -3.24879908e-39, -2.27054631e-39, -1.58685730e-39, -1.10903534e-39,\n",
       "       -7.75091361e-40, -5.41701960e-40, -3.78588936e-40, -2.64591220e-40,\n",
       "       -1.84919597e-40, -1.29238066e-40, -9.03229182e-41, -6.31255931e-41,\n",
       "       -4.41177121e-41, -3.08333344e-41, -2.15490438e-41, -1.50603656e-41,\n",
       "       -1.05255070e-41, -7.35614932e-42, -5.14112362e-42, -3.59306900e-42,\n",
       "       -2.51115239e-42, -1.75501398e-42, -1.22655800e-42, -8.57226525e-43,\n",
       "       -5.99105231e-43, -4.18707386e-43, -2.92629519e-43, -2.04515225e-43,\n",
       "       -1.42933212e-43, -9.98942902e-44, -6.98149090e-44, -4.87927939e-44,\n",
       "       -3.41006924e-44, -2.38325607e-44, -1.66562879e-44, -1.16408778e-44,\n",
       "       -8.13566843e-45, -5.68592008e-45, -3.97382065e-45, -2.77725510e-45,\n",
       "       -1.94098994e-45, -1.35653435e-45, -9.48065417e-46, -6.62591432e-46,\n",
       "       -4.63077123e-46, -3.23638990e-46, -2.26187369e-46, -1.58079611e-46,\n",
       "       -1.10479925e-46, -7.72130807e-47, -5.39632865e-47, -3.77142870e-47,\n",
       "       -2.63580582e-47, -1.84213275e-47, -1.28744426e-47, -8.99779191e-48,\n",
       "       -6.28844774e-48, -4.39491992e-48, -3.07155628e-48, -2.14667347e-48,\n",
       "       -1.50028407e-48, -1.04853036e-48, -7.32805163e-49, -5.12148649e-49,\n",
       "       -3.57934485e-49, -2.50156074e-49, -1.74831049e-49, -1.22187302e-49,\n",
       "       -8.53952246e-50, -5.96816877e-50, -4.17108083e-50, -2.91511785e-50,\n",
       "       -2.03734054e-50, -1.42387262e-50, -9.95127320e-51, -6.95482426e-51,\n",
       "       -4.86064240e-51, -3.39704408e-51, -2.37415294e-51, -1.65926672e-51,\n",
       "       -1.15964141e-51, -8.10459327e-52, -5.66420203e-52, -3.95864217e-52,\n",
       "       -2.76664704e-52, -1.93357609e-52, -1.35135290e-52, -9.44444168e-53,\n",
       "       -6.60060585e-53, -4.61308345e-53, -3.22402812e-53, -2.25323419e-53,\n",
       "       -1.57475807e-53, -1.10057933e-53, -7.69181561e-54, -5.37571673e-54,\n",
       "       -3.75702328e-54, -2.62573805e-54, -1.83509650e-54, -1.28252671e-54,\n",
       "       -8.96342377e-55, -6.26442826e-55, -4.37813300e-55, -3.05982410e-55,\n",
       "       -2.13847399e-55, -1.49455356e-55, -1.04452537e-55, -7.30006126e-56,\n",
       "       -5.10192436e-56, -3.56567311e-56, -2.49200573e-56, -1.74163261e-56,\n",
       "       -1.21720593e-56, -8.50690473e-57, -5.94537264e-57, -4.15514889e-57,\n",
       "       -2.90398321e-57, -2.02955868e-57, -1.41843397e-57, -9.91326313e-58,\n",
       "       -6.92825948e-58, -4.84207660e-58, -3.38406866e-58, -2.36508458e-58,\n",
       "       -1.65292896e-58, -1.15521202e-58, -8.07363681e-59, -5.64256694e-59,\n",
       "       -3.94352166e-59, -2.75607950e-59, -1.92619057e-59, -1.34619125e-59,\n",
       "       -9.40836751e-60, -6.57539405e-60, -4.59546323e-60, -3.21171356e-60,\n",
       "       -2.24462769e-60, -1.56874310e-60, -1.09637554e-60, -7.66243580e-61,\n",
       "       -5.35518353e-61, -3.74267288e-61, -2.61570873e-61, -1.82808713e-61,\n",
       "       -1.27762795e-61, -8.92918690e-62, -6.24050053e-62, -4.36141020e-62,\n",
       "       -3.04813674e-62, -2.13030583e-62, -1.48884493e-62, -1.04053568e-62,\n",
       "       -7.27217780e-63, -5.08243695e-63, -3.55205360e-63, -2.48248722e-63,\n",
       "       -1.73498024e-63, -1.21255666e-63, -8.47441159e-64, -5.92266358e-64,\n",
       "       -4.13927781e-64, -2.89289110e-64, -2.02180654e-64, -1.41301609e-64,\n",
       "       -9.87539823e-65, -6.90179616e-65, -4.82358171e-65, -3.37114281e-65,\n",
       "       -2.35605086e-65, -1.64661540e-65, -1.15079955e-65, -8.04279859e-66,\n",
       "       -5.62101448e-66, -3.92845891e-66, -2.74555233e-66, -1.91883325e-66,\n",
       "       -1.34104931e-66, -9.37243113e-67, -6.55027855e-67, -4.57791031e-67,\n",
       "       -3.19944604e-67, -2.23605407e-67, -1.56275109e-67, -1.09218780e-67,\n",
       "       -7.63316821e-68, -5.33472877e-68, -3.72837730e-68, -2.60571771e-68,\n",
       "       -1.82110454e-68, -1.27274789e-68, -8.89508081e-69, -6.21666419e-69,\n",
       "       -4.34475127e-69, -3.03649402e-69, -2.12216888e-69, -1.48315811e-69,\n",
       "       -1.03656123e-69, -7.24440085e-70, -5.06302397e-70, -3.53848611e-70,\n",
       "       -2.47300506e-70, -1.72835327e-70, -1.20792516e-70, -8.44204257e-71,\n",
       "       -5.90004125e-71, -4.12346734e-71, -2.88184136e-71, -2.01408401e-71,\n",
       "       -1.40761891e-71, -9.83767797e-72, -6.87543393e-72, -4.80515746e-72,\n",
       "       -3.35826632e-72, -2.34705164e-72, -1.64032595e-72, -1.14640393e-72,\n",
       "       -8.01207816e-73, -5.59954434e-73, -3.91345369e-73, -2.73506536e-73,\n",
       "       -1.91150404e-73, -1.33592701e-73, -9.33663201e-74, -6.52525898e-74,\n",
       "       -4.56042443e-74, -3.18722537e-74, -2.22751319e-74, -1.55678198e-74,\n",
       "       -1.08801606e-74, -7.60401242e-75, -5.31435214e-75, -3.71413631e-75,\n",
       "       -2.59576486e-75, -1.81414861e-75, -1.26788648e-75, -8.86110498e-76,\n",
       "       -6.19291890e-76, -4.32815598e-76, -3.02489577e-76, -2.11406300e-76,\n",
       "       -1.47749301e-76, -1.03260196e-76, -7.21673000e-77, -5.04368515e-77,\n",
       "       -3.52497044e-77, -2.46355912e-77, -1.72175162e-77, -1.20331134e-77,\n",
       "       -8.40979718e-78, -5.87750534e-78, -4.10771726e-78, -2.87083382e-78,\n",
       "       -2.00639097e-78, -1.40224234e-78, -9.80010179e-79, -6.84917239e-79,\n",
       "       -4.78680359e-79, -3.34543902e-79, -2.33808680e-79, -1.63406053e-79,\n",
       "       -1.14202510e-79, -7.98147507e-80, -5.57815622e-80, -3.89850579e-80,\n",
       "       -2.72461846e-80, -1.90420282e-80, -1.33082428e-80, -9.30096963e-81,\n",
       "       -6.50033497e-81, -4.54300535e-81, -3.17505139e-81, -2.21900494e-81,\n",
       "       -1.55083567e-81, -1.08386025e-81, -7.57496798e-82, -5.29405334e-82,\n",
       "       -3.69994973e-82, -2.58585003e-82, -1.80721925e-82, -1.26304364e-82,\n",
       "       -8.82725894e-83, -6.16926431e-83, -4.31162407e-83, -3.01334182e-83,\n",
       "       -2.10598808e-83, -1.47184955e-83, -1.02865782e-83, -7.18916484e-84,\n",
       "       -5.02442019e-84, -3.51150639e-84, -2.45414927e-84, -1.71517518e-84,\n",
       "       -1.19871515e-84, -8.37767495e-85, -5.85505551e-85, -4.09202735e-85,\n",
       "       -2.85986833e-85, -1.99872732e-85, -1.39688631e-85, -9.76266913e-86,\n",
       "       -6.82301116e-86, -4.76851982e-86, -3.33266072e-86, -2.32915620e-86,\n",
       "       -1.62781904e-86, -1.13766300e-86, -7.95098888e-87, -5.55684978e-87,\n",
       "       -3.88361498e-87, -2.71421145e-87, -1.89692949e-87, -1.32574104e-87,\n",
       "       -9.26544347e-88, -6.47550617e-88, -4.52565279e-88, -3.16292390e-88,\n",
       "       -2.21052919e-88, -1.54491206e-88, -1.07972032e-88, -7.54603449e-89,\n",
       "       -5.27383207e-89, -3.68581733e-89, -2.57597307e-89, -1.80031636e-89,\n",
       "       -1.25821929e-89, -8.79354217e-90, -6.14570007e-90, -4.29515531e-90,\n",
       "       -3.00183200e-90, -2.09794401e-90, -1.46622765e-90, -1.02472874e-90,\n",
       "       -7.16170496e-91, -5.00522882e-91, -3.49809377e-91, -2.44477535e-91,\n",
       "       -1.70862387e-91, -1.19413652e-91, -8.34567542e-92, -5.83269143e-92,\n",
       "       -4.07639736e-92, -2.84894472e-92, -1.99109294e-92, -1.39155073e-92,\n",
       "       -9.72537945e-93, -6.79694985e-93, -4.75030589e-93, -3.31993123e-93,\n",
       "       -2.32025971e-93, -1.62160139e-93, -1.13331756e-93, -7.92061913e-94,\n",
       "       -5.53562473e-94, -3.86878105e-94, -2.70384420e-94, -1.88968394e-94,\n",
       "       -1.32067721e-94, -9.23005300e-95, -6.45077220e-95, -4.50836652e-95,\n",
       "       -3.15084273e-95, -2.20208581e-95, -1.53901109e-95, -1.07559620e-95,\n",
       "       -7.51721151e-96, -5.25368804e-96, -3.67173891e-96, -2.56613383e-96])"
      ]
     },
     "execution_count": 27,
     "metadata": {},
     "output_type": "execute_result"
    }
   ],
   "source": [
    "arima2.predict(n_periods=test2.shape[0])"
   ]
  },
  {
   "cell_type": "code",
   "execution_count": 28,
   "metadata": {},
   "outputs": [],
   "source": [
    "#cointegration tests\n",
    "\n",
    "#normalized cv\n",
    "#LR test"
   ]
  },
  {
   "cell_type": "code",
   "execution_count": 29,
   "metadata": {},
   "outputs": [],
   "source": [
    "#correlaatiomatriisi"
   ]
  },
  {
   "cell_type": "code",
   "execution_count": 30,
   "metadata": {},
   "outputs": [],
   "source": [
    "#np.argwhere(np.isnan(x))"
   ]
  }
 ],
 "metadata": {
  "kernelspec": {
   "display_name": "Python 3.9.7 ('base')",
   "language": "python",
   "name": "python3"
  },
  "language_info": {
   "codemirror_mode": {
    "name": "ipython",
    "version": 3
   },
   "file_extension": ".py",
   "mimetype": "text/x-python",
   "name": "python",
   "nbconvert_exporter": "python",
   "pygments_lexer": "ipython3",
   "version": "3.9.7"
  },
  "orig_nbformat": 4,
  "vscode": {
   "interpreter": {
    "hash": "4166284f6c1be268893ecc7e1723c4ee59a7af301dc502cec5768712e1b57cd0"
   }
  }
 },
 "nbformat": 4,
 "nbformat_minor": 2
}
