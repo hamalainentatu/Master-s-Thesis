{
 "cells": [
  {
   "cell_type": "code",
   "execution_count": 2,
   "metadata": {},
   "outputs": [],
   "source": [
    "# Start loading libraries\n",
    "\n",
    "#! pip install yfinance\n",
    "\n",
    "# ! conda install seaborn\n",
    "\n",
    "import matplotlib.pyplot as plt\n",
    "import numpy as np\n",
    "import pandas as pd\n",
    "\n",
    "import scipy\n",
    "import scipy.stats as stats\n",
    "import statsmodels.api as sm\n",
    "\n",
    "import scipy\n",
    "import scipy.stats as stats\n",
    "import statsmodels.api as sm\n",
    "from statsmodels.tsa.stattools import adfuller\n",
    "\n",
    "import pmdarima as pm\n",
    "from pmdarima import model_selection\n",
    "from pmdarima.model_selection import SlidingWindowForecastCV\n",
    "\n",
    "from statsmodels.graphics.tsaplots import plot_pacf\n",
    "from statsmodels.graphics.tsaplots import plot_acf\n",
    "from statsmodels.tsa.arima.model import ARIMA\n",
    "\n",
    "from sklearn.metrics import mean_squared_error\n",
    "from sklearn.metrics import mean_absolute_error\n",
    "from sklearn.metrics import mean_absolute_percentage_error\n",
    "\n",
    "\n",
    "from scipy.optimize import minimize\n",
    "from random import gauss\n",
    "import math\n",
    "from statistics import mean, stdev\n",
    "\n",
    "from numpy import asarray\n",
    "from sklearn.ensemble import RandomForestRegressor\n",
    "from matplotlib import pyplot\n",
    "\n",
    "\n",
    "#! pip install tensorflow --user\n",
    "import tensorflow as tf\n",
    "from tensorflow.keras.models import Sequential\n",
    "from tensorflow.keras.layers import Dense\n",
    "from tensorflow.keras.layers import LSTM\n",
    "from tensorflow.keras.layers import InputLayer\n",
    "from tensorflow.keras.layers import Input\n",
    "from sklearn.preprocessing import MinMaxScaler\n",
    "\n",
    "#from statsmodels.graphics.tsaplots import plot_acf\n",
    "\n",
    "#from matplotlib.ticker import NullFormatter\n",
    "#import yfinance as yf\n",
    "#import warnings; warnings.simplefilter('ignore')\n",
    "#%matplotlib inline"
   ]
  },
  {
   "cell_type": "code",
   "execution_count": 3,
   "metadata": {},
   "outputs": [],
   "source": [
    "xls_file = pd.ExcelFile(\"Data_monthly_final.xlsx\") # Read Excel\n",
    "df1=xls_file.parse(\"Brent\") # Read the first sheet (Portfolio holdings)\n",
    "\n",
    "#df1[\"Timestamp\"] = df1[\"Date\"].astype('datetime64[ns]') # Convert column to date format\n",
    "df1 = df1.set_index(['Timestamp']) # use first column as index\n",
    "\n",
    "#df1.to_excel(\"values.xlsx\")  #print to excel\n",
    "\n"
   ]
  },
  {
   "cell_type": "code",
   "execution_count": 4,
   "metadata": {},
   "outputs": [],
   "source": [
    "spot = df1[\"LCOc1\"]\n",
    "spot = np.log(spot)\n",
    "spot = spot.loc['2004-01-31':'2022-11-30']\n",
    "spot_train = spot.loc[:'2016-07-31']\n",
    "#spot_train.plot()"
   ]
  },
  {
   "cell_type": "code",
   "execution_count": 5,
   "metadata": {},
   "outputs": [],
   "source": [
    "# transform a time series dataset into a supervised learning dataset\n",
    "def series_to_supervised(data, n_in=1, n_out=1, dropnan=True):\n",
    " #n_vars = 1 if type(data) is list else data.shape[1]\n",
    " df_temp = pd.DataFrame(data)\n",
    " cols = list()\n",
    " # input sequence (t-n, ... t-1)\n",
    " for i in range(n_in, 0, -1):\n",
    "    cols.append(df_temp.shift(i))\n",
    " # forecast sequence (t, t+1, ... t+n)\n",
    " for i in range(0, n_out):\n",
    "    cols.append(df_temp.shift(-i))\n",
    " # put it all together\n",
    " agg = pd.concat(cols, axis=1)\n",
    " # drop rows with NaN values\n",
    " if dropnan:\n",
    "    agg.dropna(inplace=True)\n",
    " return agg.values"
   ]
  },
  {
   "cell_type": "code",
   "execution_count": 6,
   "metadata": {},
   "outputs": [],
   "source": [
    "# split a univariate dataset into train/test sets\n",
    "def train_test_split(data, n_test):\n",
    "    return data[:-n_test, :], data[-n_test:, :]"
   ]
  },
  {
   "cell_type": "code",
   "execution_count": 7,
   "metadata": {},
   "outputs": [],
   "source": [
    "# fix random seed for reproducibility\n",
    "tf.random.set_seed(7)\n",
    "\n",
    "# Load the data and split it into separate pieces\n",
    "data = np.array(spot.dropna())\n",
    "train, test = model_selection.train_test_split(data, train_size=(spot_train.shape[0]))\n",
    "\n",
    "# normalize the dataset\n",
    "scaler1 = MinMaxScaler(feature_range=(0, 1)).fit(train.reshape(-1, 1))  ### using only train data in the scaling\n",
    "data_scaled = scaler1.transform(data.reshape(-1, 1))\n",
    "\n",
    "time_lag = 12\n",
    "\n",
    "batch_size = 1\n",
    "epochs = 1\n",
    "\n",
    "data_new = series_to_supervised(data_scaled, n_in=time_lag, n_out=1, dropnan=True)\n",
    "#train, test = model_selection.train_test_split(data, train_size=(spot.shape[0]-1))"
   ]
  },
  {
   "cell_type": "code",
   "execution_count": 7,
   "metadata": {},
   "outputs": [],
   "source": [
    "#data_scaled1 = scaler1.inverse_transform(data_scaled)\n",
    "#np.exp(data_scaled1)"
   ]
  },
  {
   "cell_type": "code",
   "execution_count": 8,
   "metadata": {},
   "outputs": [],
   "source": [
    "#train_new  = series_to_supervised(train, n_in=time_lag, n_out=1, dropnan=True)\n",
    "#test_new = series_to_supervised(test, n_in=time_lag, n_out=1, dropnan=True)"
   ]
  },
  {
   "cell_type": "code",
   "execution_count": 8,
   "metadata": {},
   "outputs": [],
   "source": [
    "# fit an lstm model and make a one step prediction\n",
    "def lstm_forecast(trainlocal, testX):\n",
    " # transform list into array\n",
    " trainlocalar = asarray(trainlocal)\n",
    " # split into input and output columns\n",
    " trainX, trainy = trainlocalar[:, :-1], trainlocalar[:, -1]\n",
    "\n",
    " # reshape input to be [samples, time steps, features]\n",
    " trainX = np.reshape(trainX, (trainX.shape[0], trainX.shape[1], 1))\n",
    " testX = np.reshape(testX, (1, testX.shape[0], 1))  ### batch size 1 because model is recalibrated after avery step\n",
    " #testX = np.reshape(testX, (testX.shape[0], trainX.shape[1], 1))     #### PURKKARATKAISU ###\n",
    "\n",
    " # create and fit the LSTM network\n",
    " model = Sequential()\n",
    " #model.add(InputLayer((time_lag,1)))\n",
    " model.add(InputLayer(batch_input_shape=(batch_size, trainX.shape[1], trainX.shape[2])))\n",
    " #model.add(LSTM(256))\n",
    " #model.add(LSTM(4))\n",
    " model.add(LSTM(150, stateful = True))\n",
    " model.add(Dense(1))\n",
    " model.compile(loss='mean_squared_error', optimizer='adam')\n",
    " for i in range(epochs):\n",
    "  model.fit(trainX, trainy, epochs=1, batch_size=batch_size, verbose=2, shuffle=False)\n",
    "  model.reset_states()\n",
    "  #model.fit(trainX, trainy, epochs=1, batch_size=1, verbose=2)\n",
    " \n",
    "  # make a one-step prediction\n",
    " yhat = model.predict(testX)\n",
    " return yhat[0]"
   ]
  },
  {
   "cell_type": "code",
   "execution_count": 9,
   "metadata": {},
   "outputs": [],
   "source": [
    "# walk-forward validation for univariate data\n",
    "def walk_forward_validation(data, n_test):\n",
    "   predictions = list()\n",
    "   # split dataset\n",
    "   train1, test1 = train_test_split(data, n_test)\n",
    "   # seed history with training dataset\n",
    "   history = [x for x in train1]\n",
    "   # step over each time-step in the test set\n",
    "   for i in range(len(test1)):\n",
    "      # split test row into input and output columns\n",
    "      testX, testy = test1[i, :-1], test1[i, -1]\n",
    "      # fit model on history and make a prediction\n",
    "      yhat = lstm_forecast(history, testX)\n",
    "      # store forecast in list of predictions\n",
    "      predictions.append(yhat)\n",
    "      # add actual observation to history for the next loop and delete oldest one\n",
    "      history.append(test1[i])\n",
    "      history.pop(0)\n",
    "      # summarize progress\n",
    "      print('>expected=%.1f, predicted=%.1f' % (testy, yhat))\n",
    "\n",
    "    # estimate prediction error\n",
    "   error = mean_absolute_error(test1[:, -1], predictions)\n",
    "   return error, test1[:, -1], predictions \n",
    "\n",
    "  "
   ]
  },
  {
   "cell_type": "code",
   "execution_count": 10,
   "metadata": {},
   "outputs": [
    {
     "name": "stdout",
     "output_type": "stream",
     "text": [
      "139/139 - 2s - loss: 0.0264 - 2s/epoch - 12ms/step\n",
      "1/1 [==============================] - 0s 385ms/step\n",
      ">expected=0.3, predicted=0.2\n"
     ]
    },
    {
     "name": "stderr",
     "output_type": "stream",
     "text": [
      "C:\\Users\\tatuh\\AppData\\Local\\Temp\\ipykernel_15184\\3682001088.py:20: DeprecationWarning: Conversion of an array with ndim > 0 to a scalar is deprecated, and will error in future. Ensure you extract a single element from your array before performing this operation. (Deprecated NumPy 1.25.)\n",
      "  print('>expected=%.1f, predicted=%.1f' % (testy, yhat))\n"
     ]
    },
    {
     "name": "stdout",
     "output_type": "stream",
     "text": [
      "139/139 - 2s - loss: 0.0264 - 2s/epoch - 13ms/step\n",
      "1/1 [==============================] - 0s 310ms/step\n",
      ">expected=0.3, predicted=0.2\n",
      "139/139 - 2s - loss: 0.0267 - 2s/epoch - 12ms/step\n",
      "1/1 [==============================] - 0s 342ms/step\n",
      ">expected=0.3, predicted=0.2\n",
      "139/139 - 2s - loss: 0.0262 - 2s/epoch - 12ms/step\n",
      "1/1 [==============================] - 0s 326ms/step\n",
      ">expected=0.3, predicted=0.2\n",
      "139/139 - 2s - loss: 0.0276 - 2s/epoch - 11ms/step\n",
      "WARNING:tensorflow:5 out of the last 5 calls to <function Model.make_predict_function.<locals>.predict_function at 0x0000026D053BCD30> triggered tf.function retracing. Tracing is expensive and the excessive number of tracings could be due to (1) creating @tf.function repeatedly in a loop, (2) passing tensors with different shapes, (3) passing Python objects instead of tensors. For (1), please define your @tf.function outside of the loop. For (2), @tf.function has reduce_retracing=True option that can avoid unnecessary retracing. For (3), please refer to https://www.tensorflow.org/guide/function#controlling_retracing and https://www.tensorflow.org/api_docs/python/tf/function for  more details.\n",
      "1/1 [==============================] - 0s 343ms/step\n",
      ">expected=0.4, predicted=0.2\n",
      "139/139 - 2s - loss: 0.0321 - 2s/epoch - 14ms/step\n",
      "WARNING:tensorflow:6 out of the last 6 calls to <function Model.make_predict_function.<locals>.predict_function at 0x0000026D7B3BBC10> triggered tf.function retracing. Tracing is expensive and the excessive number of tracings could be due to (1) creating @tf.function repeatedly in a loop, (2) passing tensors with different shapes, (3) passing Python objects instead of tensors. For (1), please define your @tf.function outside of the loop. For (2), @tf.function has reduce_retracing=True option that can avoid unnecessary retracing. For (3), please refer to https://www.tensorflow.org/guide/function#controlling_retracing and https://www.tensorflow.org/api_docs/python/tf/function for  more details.\n",
      "1/1 [==============================] - 0s 315ms/step\n",
      ">expected=0.4, predicted=0.3\n",
      "139/139 - 2s - loss: 0.0353 - 2s/epoch - 12ms/step\n",
      "1/1 [==============================] - 0s 323ms/step\n",
      ">expected=0.4, predicted=0.3\n",
      "139/139 - 2s - loss: 0.0284 - 2s/epoch - 12ms/step\n",
      "1/1 [==============================] - 0s 338ms/step\n",
      ">expected=0.4, predicted=0.3\n",
      "139/139 - 2s - loss: 0.0336 - 2s/epoch - 13ms/step\n",
      "1/1 [==============================] - 0s 331ms/step\n",
      ">expected=0.4, predicted=0.3\n",
      "139/139 - 2s - loss: 0.0307 - 2s/epoch - 15ms/step\n",
      "1/1 [==============================] - 0s 332ms/step\n",
      ">expected=0.3, predicted=0.3\n",
      "139/139 - 2s - loss: 0.0373 - 2s/epoch - 12ms/step\n",
      "1/1 [==============================] - 0s 329ms/step\n",
      ">expected=0.3, predicted=0.3\n",
      "139/139 - 2s - loss: 0.0446 - 2s/epoch - 13ms/step\n",
      "1/1 [==============================] - 0s 305ms/step\n",
      ">expected=0.4, predicted=0.3\n",
      "139/139 - 2s - loss: 0.0406 - 2s/epoch - 12ms/step\n",
      "1/1 [==============================] - 0s 321ms/step\n",
      ">expected=0.4, predicted=0.3\n",
      "139/139 - 2s - loss: 0.0452 - 2s/epoch - 12ms/step\n",
      "1/1 [==============================] - 1s 655ms/step\n",
      ">expected=0.4, predicted=0.3\n",
      "139/139 - 2s - loss: 0.0428 - 2s/epoch - 12ms/step\n",
      "1/1 [==============================] - 0s 371ms/step\n",
      ">expected=0.5, predicted=0.3\n",
      "139/139 - 2s - loss: 0.0406 - 2s/epoch - 17ms/step\n",
      "1/1 [==============================] - 0s 372ms/step\n",
      ">expected=0.5, predicted=0.3\n",
      "139/139 - 2s - loss: 0.0406 - 2s/epoch - 14ms/step\n",
      "1/1 [==============================] - 0s 417ms/step\n",
      ">expected=0.5, predicted=0.3\n",
      "139/139 - 2s - loss: 0.0366 - 2s/epoch - 13ms/step\n",
      "1/1 [==============================] - 1s 776ms/step\n",
      ">expected=0.5, predicted=0.4\n",
      "139/139 - 2s - loss: 0.0401 - 2s/epoch - 13ms/step\n",
      "1/1 [==============================] - 0s 312ms/step\n",
      ">expected=0.5, predicted=0.4\n",
      "139/139 - 2s - loss: 0.0369 - 2s/epoch - 11ms/step\n",
      "1/1 [==============================] - 0s 291ms/step\n",
      ">expected=0.6, predicted=0.4\n",
      "139/139 - 2s - loss: 0.0323 - 2s/epoch - 12ms/step\n",
      "1/1 [==============================] - 0s 404ms/step\n",
      ">expected=0.6, predicted=0.4\n",
      "139/139 - 2s - loss: 0.0402 - 2s/epoch - 12ms/step\n",
      "1/1 [==============================] - 0s 377ms/step\n",
      ">expected=0.6, predicted=0.4\n",
      "139/139 - 2s - loss: 0.0335 - 2s/epoch - 14ms/step\n",
      "1/1 [==============================] - 0s 492ms/step\n",
      ">expected=0.6, predicted=0.5\n",
      "139/139 - 2s - loss: 0.0331 - 2s/epoch - 13ms/step\n",
      "1/1 [==============================] - 0s 362ms/step\n",
      ">expected=0.6, predicted=0.5\n",
      "139/139 - 2s - loss: 0.0404 - 2s/epoch - 13ms/step\n",
      "1/1 [==============================] - 0s 291ms/step\n",
      ">expected=0.6, predicted=0.5\n",
      "139/139 - 2s - loss: 0.0444 - 2s/epoch - 12ms/step\n",
      "1/1 [==============================] - 0s 287ms/step\n",
      ">expected=0.7, predicted=0.5\n",
      "139/139 - 2s - loss: 0.0427 - 2s/epoch - 14ms/step\n",
      "1/1 [==============================] - 0s 293ms/step\n",
      ">expected=0.6, predicted=0.5\n",
      "139/139 - 2s - loss: 0.0338 - 2s/epoch - 11ms/step\n",
      "1/1 [==============================] - 0s 297ms/step\n",
      ">expected=0.4, predicted=0.6\n",
      "139/139 - 1s - loss: 0.0349 - 1s/epoch - 11ms/step\n",
      "1/1 [==============================] - 0s 329ms/step\n",
      ">expected=0.4, predicted=0.6\n",
      "139/139 - 2s - loss: 0.0380 - 2s/epoch - 11ms/step\n",
      "1/1 [==============================] - 0s 333ms/step\n",
      ">expected=0.5, predicted=0.6\n",
      "139/139 - 2s - loss: 0.0336 - 2s/epoch - 13ms/step\n",
      "1/1 [==============================] - 1s 648ms/step\n",
      ">expected=0.5, predicted=0.6\n",
      "139/139 - 2s - loss: 0.0376 - 2s/epoch - 11ms/step\n",
      "1/1 [==============================] - 0s 334ms/step\n",
      ">expected=0.5, predicted=0.6\n",
      "139/139 - 2s - loss: 0.0401 - 2s/epoch - 12ms/step\n",
      "1/1 [==============================] - 1s 544ms/step\n",
      ">expected=0.6, predicted=0.6\n",
      "139/139 - 2s - loss: 0.0438 - 2s/epoch - 13ms/step\n",
      "1/1 [==============================] - 0s 362ms/step\n",
      ">expected=0.5, predicted=0.6\n",
      "139/139 - 2s - loss: 0.0555 - 2s/epoch - 11ms/step\n",
      "1/1 [==============================] - 0s 295ms/step\n",
      ">expected=0.5, predicted=0.5\n",
      "139/139 - 2s - loss: 0.0630 - 2s/epoch - 11ms/step\n",
      "1/1 [==============================] - 0s 321ms/step\n",
      ">expected=0.5, predicted=0.5\n",
      "139/139 - 2s - loss: 0.0566 - 2s/epoch - 11ms/step\n",
      "1/1 [==============================] - 0s 305ms/step\n",
      ">expected=0.5, predicted=0.6\n",
      "139/139 - 2s - loss: 0.0611 - 2s/epoch - 11ms/step\n",
      "1/1 [==============================] - 0s 310ms/step\n",
      ">expected=0.5, predicted=0.6\n",
      "139/139 - 2s - loss: 0.0617 - 2s/epoch - 11ms/step\n",
      "1/1 [==============================] - 0s 310ms/step\n",
      ">expected=0.5, predicted=0.5\n",
      "139/139 - 2s - loss: 0.0460 - 2s/epoch - 11ms/step\n",
      "1/1 [==============================] - 0s 308ms/step\n",
      ">expected=0.5, predicted=0.5\n",
      "139/139 - 2s - loss: 0.0483 - 2s/epoch - 11ms/step\n",
      "1/1 [==============================] - 0s 317ms/step\n",
      ">expected=0.5, predicted=0.5\n",
      "139/139 - 2s - loss: 0.0350 - 2s/epoch - 11ms/step\n",
      "1/1 [==============================] - 0s 313ms/step\n",
      ">expected=0.4, predicted=0.5\n",
      "139/139 - 2s - loss: 0.0323 - 2s/epoch - 11ms/step\n",
      "1/1 [==============================] - 0s 308ms/step\n",
      ">expected=0.4, predicted=0.5\n",
      "139/139 - 2s - loss: 0.0278 - 2s/epoch - 11ms/step\n",
      "1/1 [==============================] - 0s 300ms/step\n",
      ">expected=-0.2, predicted=0.4\n",
      "139/139 - 2s - loss: 0.0263 - 2s/epoch - 11ms/step\n",
      "1/1 [==============================] - 0s 301ms/step\n",
      ">expected=-0.1, predicted=0.4\n",
      "139/139 - 2s - loss: 0.0232 - 2s/epoch - 11ms/step\n",
      "1/1 [==============================] - 0s 309ms/step\n",
      ">expected=0.1, predicted=0.3\n",
      "139/139 - 2s - loss: 0.0202 - 2s/epoch - 12ms/step\n",
      "1/1 [==============================] - 0s 295ms/step\n",
      ">expected=0.2, predicted=0.3\n",
      "139/139 - 2s - loss: 0.0175 - 2s/epoch - 13ms/step\n",
      "1/1 [==============================] - 0s 299ms/step\n",
      ">expected=0.3, predicted=0.3\n",
      "139/139 - 2s - loss: 0.0169 - 2s/epoch - 11ms/step\n",
      "1/1 [==============================] - 0s 297ms/step\n",
      ">expected=0.3, predicted=0.2\n",
      "139/139 - 2s - loss: 0.0174 - 2s/epoch - 11ms/step\n",
      "1/1 [==============================] - 0s 299ms/step\n",
      ">expected=0.2, predicted=0.2\n",
      "139/139 - 2s - loss: 0.0236 - 2s/epoch - 11ms/step\n",
      "1/1 [==============================] - 0s 314ms/step\n",
      ">expected=0.2, predicted=0.2\n",
      "139/139 - 2s - loss: 0.0252 - 2s/epoch - 13ms/step\n",
      "1/1 [==============================] - 0s 293ms/step\n",
      ">expected=0.3, predicted=0.2\n",
      "139/139 - 2s - loss: 0.0294 - 2s/epoch - 11ms/step\n",
      "1/1 [==============================] - 0s 299ms/step\n",
      ">expected=0.4, predicted=0.2\n",
      "139/139 - 2s - loss: 0.0299 - 2s/epoch - 11ms/step\n",
      "1/1 [==============================] - 0s 294ms/step\n",
      ">expected=0.4, predicted=0.2\n",
      "139/139 - 2s - loss: 0.0262 - 2s/epoch - 11ms/step\n",
      "1/1 [==============================] - 0s 309ms/step\n",
      ">expected=0.5, predicted=0.2\n",
      "139/139 - 2s - loss: 0.0256 - 2s/epoch - 14ms/step\n",
      "1/1 [==============================] - 0s 287ms/step\n",
      ">expected=0.5, predicted=0.3\n",
      "139/139 - 2s - loss: 0.0285 - 2s/epoch - 11ms/step\n",
      "1/1 [==============================] - 0s 297ms/step\n",
      ">expected=0.5, predicted=0.3\n",
      "139/139 - 2s - loss: 0.0289 - 2s/epoch - 12ms/step\n",
      "1/1 [==============================] - 0s 308ms/step\n",
      ">expected=0.6, predicted=0.3\n",
      "139/139 - 2s - loss: 0.0314 - 2s/epoch - 11ms/step\n",
      "1/1 [==============================] - 0s 286ms/step\n",
      ">expected=0.6, predicted=0.3\n",
      "139/139 - 2s - loss: 0.0283 - 2s/epoch - 13ms/step\n",
      "1/1 [==============================] - 0s 286ms/step\n",
      ">expected=0.6, predicted=0.3\n",
      "139/139 - 2s - loss: 0.0314 - 2s/epoch - 11ms/step\n",
      "1/1 [==============================] - 0s 294ms/step\n",
      ">expected=0.6, predicted=0.4\n",
      "139/139 - 2s - loss: 0.0280 - 2s/epoch - 11ms/step\n",
      "1/1 [==============================] - 0s 335ms/step\n",
      ">expected=0.6, predicted=0.4\n",
      "139/139 - 2s - loss: 0.0293 - 2s/epoch - 12ms/step\n",
      "1/1 [==============================] - 0s 304ms/step\n",
      ">expected=0.7, predicted=0.4\n",
      "139/139 - 2s - loss: 0.0255 - 2s/epoch - 14ms/step\n",
      "1/1 [==============================] - 0s 301ms/step\n",
      ">expected=0.6, predicted=0.4\n",
      "139/139 - 2s - loss: 0.0222 - 2s/epoch - 11ms/step\n",
      "1/1 [==============================] - 0s 292ms/step\n",
      ">expected=0.6, predicted=0.5\n",
      "139/139 - 2s - loss: 0.0254 - 2s/epoch - 11ms/step\n",
      "1/1 [==============================] - 0s 305ms/step\n",
      ">expected=0.7, predicted=0.5\n",
      "139/139 - 2s - loss: 0.0230 - 2s/epoch - 11ms/step\n",
      "1/1 [==============================] - 0s 344ms/step\n",
      ">expected=0.8, predicted=0.6\n",
      "139/139 - 2s - loss: 0.0327 - 2s/epoch - 11ms/step\n",
      "1/1 [==============================] - 1s 634ms/step\n",
      ">expected=0.8, predicted=0.5\n",
      "139/139 - 2s - loss: 0.0386 - 2s/epoch - 11ms/step\n",
      "1/1 [==============================] - 0s 299ms/step\n",
      ">expected=0.8, predicted=0.6\n",
      "139/139 - 2s - loss: 0.0476 - 2s/epoch - 11ms/step\n",
      "1/1 [==============================] - 0s 293ms/step\n",
      ">expected=0.9, predicted=0.6\n",
      "139/139 - 2s - loss: 0.0361 - 2s/epoch - 11ms/step\n",
      "1/1 [==============================] - 0s 301ms/step\n",
      ">expected=0.9, predicted=0.7\n",
      "139/139 - 2s - loss: 0.0439 - 2s/epoch - 11ms/step\n",
      "1/1 [==============================] - 0s 299ms/step\n",
      ">expected=0.8, predicted=0.8\n",
      "139/139 - 2s - loss: 0.0463 - 2s/epoch - 11ms/step\n",
      "1/1 [==============================] - 0s 297ms/step\n",
      ">expected=0.8, predicted=0.8\n",
      "139/139 - 2s - loss: 0.0447 - 2s/epoch - 11ms/step\n",
      "1/1 [==============================] - 0s 300ms/step\n",
      ">expected=0.7, predicted=0.9\n",
      "139/139 - 2s - loss: 0.0430 - 2s/epoch - 11ms/step\n",
      "1/1 [==============================] - 0s 295ms/step\n",
      ">expected=0.8, predicted=0.9\n",
      "139/139 - 2s - loss: 0.0340 - 2s/epoch - 11ms/step\n",
      "1/1 [==============================] - 0s 308ms/step\n",
      ">expected=0.7, predicted=0.9\n",
      "MAE: 0.150\n"
     ]
    }
   ],
   "source": [
    "# evaluate\n",
    "mae, y, yhat = walk_forward_validation(data_new, len(test))\n",
    "#mae, y, yhat = walk_forward_validation(data_new, 2)\n",
    "print('MAE: %.3f' % mae)\n",
    "\n"
   ]
  },
  {
   "cell_type": "code",
   "execution_count": 11,
   "metadata": {},
   "outputs": [],
   "source": [
    "y1 = scaler1.inverse_transform(y.reshape(-1, 1))\n",
    "yhat1 = scaler1.inverse_transform(yhat)\n",
    "#data_new1 = scaler1.inverse_transform(data_new)"
   ]
  },
  {
   "cell_type": "code",
   "execution_count": 12,
   "metadata": {},
   "outputs": [],
   "source": [
    "#yhat1"
   ]
  },
  {
   "cell_type": "code",
   "execution_count": 13,
   "metadata": {},
   "outputs": [
    {
     "data": {
      "image/png": "[encoded data removed]",
      "text/plain": [
       "<Figure size 640x480 with 1 Axes>"
      ]
     },
     "metadata": {},
     "output_type": "display_data"
    }
   ],
   "source": [
    "# plot expected vs predicted\n",
    "pyplot.plot(y1, label='Expected')\n",
    "pyplot.plot(yhat1, label='Predicted')\n",
    "pyplot.legend()\n",
    "pyplot.show()"
   ]
  },
  {
   "cell_type": "code",
   "execution_count": 14,
   "metadata": {},
   "outputs": [],
   "source": [
    "def smape_kun(y_true, y_pred):\n",
    "    return np.mean(np.abs(y_pred - y_true) / ((np.abs(y_pred) + np.abs(y_true))/2))*100"
   ]
  },
  {
   "cell_type": "code",
   "execution_count": 15,
   "metadata": {},
   "outputs": [],
   "source": [
    "predictions = yhat1"
   ]
  },
  {
   "cell_type": "code",
   "execution_count": 16,
   "metadata": {},
   "outputs": [
    {
     "data": {
      "image/png": "[encoded data removed]",
      "text/plain": [
       "<Figure size 640x480 with 1 Axes>"
      ]
     },
     "metadata": {},
     "output_type": "display_data"
    }
   ],
   "source": [
    "exp_predictions = np.exp(predictions)\n",
    "exp_spot= np.exp(spot)\n",
    "exp_test = np.exp(test)\n",
    "exp_train = np.exp(train)\n",
    "\n",
    "x_axis = np.arange(exp_spot.shape[0])\n",
    "n_test = exp_predictions.shape[0]\n",
    "\n",
    "plt.plot(x_axis, exp_spot, alpha=0.75, c='b')\n",
    "plt.plot(x_axis[-n_test:], exp_predictions, alpha=0.75, c='g')  # Forecasts\n",
    "plt.title(\"Cross-validated forecasts\")\n",
    "plt.show()"
   ]
  },
  {
   "cell_type": "code",
   "execution_count": 17,
   "metadata": {},
   "outputs": [
    {
     "name": "stdout",
     "output_type": "stream",
     "text": [
      "Mean Squared Error: 331.946\n",
      "Mean Absolute Error: 14.733\n",
      "Mean Absolute Percentage Error: 22.768\n",
      "Symmetric Mean Absolute Percentage Error: 32.915\n"
     ]
    }
   ],
   "source": [
    "error = mean_squared_error(exp_test, exp_predictions)\n",
    "print('Mean Squared Error: %.3f' % error)\n",
    "error2 = mean_absolute_error(exp_test, exp_predictions)\n",
    "print('Mean Absolute Error: %.3f' % error2)\n",
    "error3 = mean_absolute_percentage_error(exp_test, exp_predictions)\n",
    "print('Mean Absolute Percentage Error: %.3f' % (error3*100))\n",
    "error4 = smape_kun(exp_test, exp_predictions)\n",
    "print('Symmetric Mean Absolute Percentage Error: %.3f' % error4)"
   ]
  },
  {
   "cell_type": "code",
   "execution_count": 18,
   "metadata": {},
   "outputs": [],
   "source": [
    "### same with built-in function ###\n",
    "\n",
    "#predictions22 = model_selection.cross_val_score(\n",
    "#    ar, spot, scoring='mean_absolute_error', cv=cv, verbose=0)\n",
    "#np.average(predictions22)"
   ]
  },
  {
   "cell_type": "code",
   "execution_count": 19,
   "metadata": {},
   "outputs": [
    {
     "name": "stdout",
     "output_type": "stream",
     "text": [
      "Mean Absolute Scaled Error: 4.225\n"
     ]
    }
   ],
   "source": [
    "#### MASE ###\n",
    "\n",
    "abs_errors = abs(exp_predictions - exp_test)\n",
    "mae_naive_list = []\n",
    "\n",
    "for x in range(len(exp_test)):\n",
    "    insample_data = exp_spot[x:-(len(exp_test)-x)]\n",
    "    mae_insample = np.mean(abs(insample_data.diff().dropna()))\n",
    "    mae_naive_list.append(mae_insample)\n",
    "\n",
    "mase = np.mean(abs_errors / mae_naive_list)\n",
    "\n",
    "print('Mean Absolute Scaled Error: %.3f' % mase)"
   ]
  },
  {
   "cell_type": "code",
   "execution_count": 20,
   "metadata": {},
   "outputs": [
    {
     "data": {
      "text/html": [
       "<div>\n",
       "<style scoped>\n",
       "    .dataframe tbody tr th:only-of-type {\n",
       "        vertical-align: middle;\n",
       "    }\n",
       "\n",
       "    .dataframe tbody tr th {\n",
       "        vertical-align: top;\n",
       "    }\n",
       "\n",
       "    .dataframe thead th {\n",
       "        text-align: right;\n",
       "    }\n",
       "</style>\n",
       "<table border=\"1\" class=\"dataframe\">\n",
       "  <thead>\n",
       "    <tr style=\"text-align: right;\">\n",
       "      <th></th>\n",
       "      <th>0</th>\n",
       "    </tr>\n",
       "  </thead>\n",
       "  <tbody>\n",
       "    <tr>\n",
       "      <th>0</th>\n",
       "      <td>0.902636</td>\n",
       "    </tr>\n",
       "    <tr>\n",
       "      <th>1</th>\n",
       "      <td>0.958826</td>\n",
       "    </tr>\n",
       "    <tr>\n",
       "      <th>2</th>\n",
       "      <td>1.015735</td>\n",
       "    </tr>\n",
       "    <tr>\n",
       "      <th>3</th>\n",
       "      <td>0.957004</td>\n",
       "    </tr>\n",
       "    <tr>\n",
       "      <th>4</th>\n",
       "      <td>0.888244</td>\n",
       "    </tr>\n",
       "    <tr>\n",
       "      <th>...</th>\n",
       "      <td>...</td>\n",
       "    </tr>\n",
       "    <tr>\n",
       "      <th>71</th>\n",
       "      <td>1.043632</td>\n",
       "    </tr>\n",
       "    <tr>\n",
       "      <th>72</th>\n",
       "      <td>1.140118</td>\n",
       "    </tr>\n",
       "    <tr>\n",
       "      <th>73</th>\n",
       "      <td>0.911597</td>\n",
       "    </tr>\n",
       "    <tr>\n",
       "      <th>74</th>\n",
       "      <td>1.078104</td>\n",
       "    </tr>\n",
       "    <tr>\n",
       "      <th>75</th>\n",
       "      <td>0.900875</td>\n",
       "    </tr>\n",
       "  </tbody>\n",
       "</table>\n",
       "<p>76 rows × 1 columns</p>\n",
       "</div>"
      ],
      "text/plain": [
       "           0\n",
       "0   0.902636\n",
       "1   0.958826\n",
       "2   1.015735\n",
       "3   0.957004\n",
       "4   0.888244\n",
       "..       ...\n",
       "71  1.043632\n",
       "72  1.140118\n",
       "73  0.911597\n",
       "74  1.078104\n",
       "75  0.900875\n",
       "\n",
       "[76 rows x 1 columns]"
      ]
     },
     "execution_count": 20,
     "metadata": {},
     "output_type": "execute_result"
    }
   ],
   "source": [
    "### Returns ###\n",
    "\n",
    "returns = []\n",
    "\n",
    "test_app2 = list(exp_test)\n",
    "test_app2.insert(0, exp_train[-1]) ## append last of train data\n",
    "price_moves = np.array(pd.DataFrame(test_app2).pct_change().dropna()+1)\n",
    "\n",
    "pred_app2 = list(predictions)\n",
    "\n",
    "test_shift2 = list(test)\n",
    "test_shift2.insert(0, train[-1])\n",
    "test_shift2.pop()\n",
    "\n",
    "dir_pred2 = np.array(np.sign([a - b for a, b in zip(pred_app2,test_shift2)]))\n",
    "\n",
    "for t in range(len(dir_pred2)):\n",
    "    if dir_pred2[t] == 1:\n",
    "            returns.append(price_moves[t])\n",
    "        \n",
    "    if dir_pred2[t] == -1:\n",
    "        returns.append(1/price_moves[t])\n",
    "\n",
    "returns = pd.DataFrame(returns)\n",
    "returns\n"
   ]
  },
  {
   "cell_type": "code",
   "execution_count": 21,
   "metadata": {},
   "outputs": [
    {
     "name": "stdout",
     "output_type": "stream",
     "text": [
      "[-0.14326946] [0.5567692]\n"
     ]
    }
   ],
   "source": [
    "### Returns t-test ###\n",
    "\n",
    "t_statistic, p_value = stats.ttest_1samp(a=returns, popmean=1, alternative='greater') ### one tailed test?\n",
    "\n",
    "\n",
    "print(t_statistic , p_value)"
   ]
  },
  {
   "cell_type": "code",
   "execution_count": 22,
   "metadata": {},
   "outputs": [
    {
     "name": "stdout",
     "output_type": "stream",
     "text": [
      "Merton test: 1.004\n"
     ]
    }
   ],
   "source": [
    "### Merton test ###\n",
    "\n",
    "test_app = list(test)\n",
    "test_app.insert(0, train[-1]) ## append last of train data\n",
    "dir = np.array(np.sign(pd.DataFrame(test_app).diff().dropna()))\n",
    "\n",
    "pred_app = list(predictions)\n",
    "\n",
    "test_shift = list(test)\n",
    "test_shift.insert(0, train[-1])\n",
    "test_shift.pop()\n",
    "\n",
    "dir_pred = np.array(np.sign([a - b for a, b in zip(pred_app,test_shift)]))\n",
    "\n",
    "q_minus = 0\n",
    "q_plus = 0\n",
    "pred_minus = 0\n",
    "pred_plus = 0\n",
    "\n",
    "for t in range(len(dir)):\n",
    "    if dir[t] == 1:\n",
    "        q_plus += 1\n",
    "        if dir_pred[t] == 1:\n",
    "            pred_plus += 1\n",
    "    if dir[t] == -1:\n",
    "        q_minus += 1\n",
    "        if dir_pred[t] == -1:\n",
    "            pred_minus += 1\n",
    "\n",
    "print('Merton test: %.3f' % ((pred_plus / q_plus) + (pred_minus / q_minus)))"
   ]
  },
  {
   "cell_type": "code",
   "execution_count": 24,
   "metadata": {},
   "outputs": [
    {
     "data": {
      "text/plain": [
       "76"
      ]
     },
     "execution_count": 24,
     "metadata": {},
     "output_type": "execute_result"
    }
   ],
   "source": [
    "len(test)"
   ]
  }
 ],
 "metadata": {
  "kernelspec": {
   "display_name": "Python 3.9.7 ('base')",
   "language": "python",
   "name": "python3"
  },
  "language_info": {
   "codemirror_mode": {
    "name": "ipython",
    "version": 3
   },
   "file_extension": ".py",
   "mimetype": "text/x-python",
   "name": "python",
   "nbconvert_exporter": "python",
   "pygments_lexer": "ipython3",
   "version": "3.9.18"
  },
  "orig_nbformat": 4,
  "vscode": {
   "interpreter": {
    "hash": "4166284f6c1be268893ecc7e1723c4ee59a7af301dc502cec5768712e1b57cd0"
   }
  }
 },
 "nbformat": 4,
 "nbformat_minor": 2
}
