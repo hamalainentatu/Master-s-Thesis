{
 "cells": [
  {
   "cell_type": "code",
   "execution_count": 1,
   "metadata": {},
   "outputs": [],
   "source": [
    "# Start loading libraries\n",
    "\n",
    "#! pip install yfinance\n",
    "\n",
    "import matplotlib.pyplot as plt\n",
    "import numpy as np\n",
    "import pandas as pd\n",
    "import seaborn as sns\n",
    "\n",
    "#! pip install pmdarima\n",
    "import pmdarima as pm\n",
    "from pmdarima import model_selection\n",
    "\n",
    "import scipy\n",
    "import statsmodels.api as sm\n",
    "from statsmodels.tsa.stattools import adfuller\n",
    "from arch.unitroot import PhillipsPerron\n",
    "from arch.unitroot import KPSS\n",
    "\n",
    "from statsmodels.graphics.tsaplots import plot_pacf\n",
    "from statsmodels.graphics.tsaplots import plot_acf\n",
    "#from statsmodels.graphics.tsaplots import plot_acf\n",
    "\n",
    "#from matplotlib.ticker import NullFormatter\n",
    "#import yfinance as yf\n",
    "#import warnings; warnings.simplefilter('ignore')\n",
    "#%matplotlib inline"
   ]
  },
  {
   "cell_type": "code",
   "execution_count": 2,
   "metadata": {},
   "outputs": [
    {
     "data": {
      "text/html": [
       "<div>\n",
       "<style scoped>\n",
       "    .dataframe tbody tr th:only-of-type {\n",
       "        vertical-align: middle;\n",
       "    }\n",
       "\n",
       "    .dataframe tbody tr th {\n",
       "        vertical-align: top;\n",
       "    }\n",
       "\n",
       "    .dataframe thead th {\n",
       "        text-align: right;\n",
       "    }\n",
       "</style>\n",
       "<table border=\"1\" class=\"dataframe\">\n",
       "  <thead>\n",
       "    <tr style=\"text-align: right;\">\n",
       "      <th></th>\n",
       "      <th>FCPOc1</th>\n",
       "      <th>FCPOc3</th>\n",
       "      <th>FCPOc6</th>\n",
       "      <th>FCPOc9</th>\n",
       "      <th>FCPOc12</th>\n",
       "      <th>MYR=</th>\n",
       "      <th>MYR3MV=</th>\n",
       "      <th>MYR6MV=</th>\n",
       "      <th>MYR9MV=</th>\n",
       "      <th>MYR1YV=</th>\n",
       "      <th>MYR1YNDFOR=</th>\n",
       "      <th>FCPOc1 USD</th>\n",
       "      <th>FCPOc3 USD</th>\n",
       "      <th>FCPOc6 USD</th>\n",
       "      <th>FCPOc9 USD</th>\n",
       "      <th>FCPOc12 USD</th>\n",
       "    </tr>\n",
       "    <tr>\n",
       "      <th>Timestamp</th>\n",
       "      <th></th>\n",
       "      <th></th>\n",
       "      <th></th>\n",
       "      <th></th>\n",
       "      <th></th>\n",
       "      <th></th>\n",
       "      <th></th>\n",
       "      <th></th>\n",
       "      <th></th>\n",
       "      <th></th>\n",
       "      <th></th>\n",
       "      <th></th>\n",
       "      <th></th>\n",
       "      <th></th>\n",
       "      <th></th>\n",
       "      <th></th>\n",
       "    </tr>\n",
       "  </thead>\n",
       "  <tbody>\n",
       "    <tr>\n",
       "      <th>1980-10-24</th>\n",
       "      <td>839.0</td>\n",
       "      <td>878.0</td>\n",
       "      <td>915.0</td>\n",
       "      <td>988.0</td>\n",
       "      <td>NaN</td>\n",
       "      <td>2.141</td>\n",
       "      <td>NaN</td>\n",
       "      <td>NaN</td>\n",
       "      <td>NaN</td>\n",
       "      <td>NaN</td>\n",
       "      <td>NaN</td>\n",
       "      <td>391.872957</td>\n",
       "      <td>NaN</td>\n",
       "      <td>NaN</td>\n",
       "      <td>NaN</td>\n",
       "      <td>NaN</td>\n",
       "    </tr>\n",
       "    <tr>\n",
       "      <th>1980-10-31</th>\n",
       "      <td>870.0</td>\n",
       "      <td>885.0</td>\n",
       "      <td>920.0</td>\n",
       "      <td>960.0</td>\n",
       "      <td>NaN</td>\n",
       "      <td>2.147</td>\n",
       "      <td>NaN</td>\n",
       "      <td>NaN</td>\n",
       "      <td>NaN</td>\n",
       "      <td>NaN</td>\n",
       "      <td>NaN</td>\n",
       "      <td>405.216581</td>\n",
       "      <td>NaN</td>\n",
       "      <td>NaN</td>\n",
       "      <td>NaN</td>\n",
       "      <td>NaN</td>\n",
       "    </tr>\n",
       "    <tr>\n",
       "      <th>1980-11-07</th>\n",
       "      <td>921.0</td>\n",
       "      <td>942.0</td>\n",
       "      <td>945.0</td>\n",
       "      <td>NaN</td>\n",
       "      <td>NaN</td>\n",
       "      <td>2.158</td>\n",
       "      <td>NaN</td>\n",
       "      <td>NaN</td>\n",
       "      <td>NaN</td>\n",
       "      <td>NaN</td>\n",
       "      <td>NaN</td>\n",
       "      <td>426.784059</td>\n",
       "      <td>NaN</td>\n",
       "      <td>NaN</td>\n",
       "      <td>NaN</td>\n",
       "      <td>NaN</td>\n",
       "    </tr>\n",
       "    <tr>\n",
       "      <th>1980-11-14</th>\n",
       "      <td>946.0</td>\n",
       "      <td>954.0</td>\n",
       "      <td>NaN</td>\n",
       "      <td>NaN</td>\n",
       "      <td>NaN</td>\n",
       "      <td>2.158</td>\n",
       "      <td>NaN</td>\n",
       "      <td>NaN</td>\n",
       "      <td>NaN</td>\n",
       "      <td>NaN</td>\n",
       "      <td>NaN</td>\n",
       "      <td>438.368860</td>\n",
       "      <td>NaN</td>\n",
       "      <td>NaN</td>\n",
       "      <td>NaN</td>\n",
       "      <td>NaN</td>\n",
       "    </tr>\n",
       "    <tr>\n",
       "      <th>1980-11-21</th>\n",
       "      <td>1002.0</td>\n",
       "      <td>1017.0</td>\n",
       "      <td>NaN</td>\n",
       "      <td>NaN</td>\n",
       "      <td>NaN</td>\n",
       "      <td>2.173</td>\n",
       "      <td>NaN</td>\n",
       "      <td>NaN</td>\n",
       "      <td>NaN</td>\n",
       "      <td>NaN</td>\n",
       "      <td>NaN</td>\n",
       "      <td>461.113668</td>\n",
       "      <td>NaN</td>\n",
       "      <td>NaN</td>\n",
       "      <td>NaN</td>\n",
       "      <td>NaN</td>\n",
       "    </tr>\n",
       "  </tbody>\n",
       "</table>\n",
       "</div>"
      ],
      "text/plain": [
       "            FCPOc1  FCPOc3  FCPOc6  FCPOc9  FCPOc12   MYR=  MYR3MV=  MYR6MV=  \\\n",
       "Timestamp                                                                      \n",
       "1980-10-24   839.0   878.0   915.0   988.0      NaN  2.141      NaN      NaN   \n",
       "1980-10-31   870.0   885.0   920.0   960.0      NaN  2.147      NaN      NaN   \n",
       "1980-11-07   921.0   942.0   945.0     NaN      NaN  2.158      NaN      NaN   \n",
       "1980-11-14   946.0   954.0     NaN     NaN      NaN  2.158      NaN      NaN   \n",
       "1980-11-21  1002.0  1017.0     NaN     NaN      NaN  2.173      NaN      NaN   \n",
       "\n",
       "            MYR9MV=  MYR1YV=  MYR1YNDFOR=  FCPOc1 USD  FCPOc3 USD  FCPOc6 USD  \\\n",
       "Timestamp                                                                       \n",
       "1980-10-24      NaN      NaN          NaN  391.872957         NaN         NaN   \n",
       "1980-10-31      NaN      NaN          NaN  405.216581         NaN         NaN   \n",
       "1980-11-07      NaN      NaN          NaN  426.784059         NaN         NaN   \n",
       "1980-11-14      NaN      NaN          NaN  438.368860         NaN         NaN   \n",
       "1980-11-21      NaN      NaN          NaN  461.113668         NaN         NaN   \n",
       "\n",
       "            FCPOc9 USD  FCPOc12 USD  \n",
       "Timestamp                            \n",
       "1980-10-24         NaN          NaN  \n",
       "1980-10-31         NaN          NaN  \n",
       "1980-11-07         NaN          NaN  \n",
       "1980-11-14         NaN          NaN  \n",
       "1980-11-21         NaN          NaN  "
      ]
     },
     "execution_count": 2,
     "metadata": {},
     "output_type": "execute_result"
    }
   ],
   "source": [
    "xls_file = pd.ExcelFile(\"Data_weekly_final.xlsx\") # Read Excel\n",
    "df1=xls_file.parse(\"FCPO\") # Read the first sheet (Portfolio holdings)\n",
    "\n",
    "#df1[\"Timestamp\"] = df1[\"Date\"].astype('datetime64[ns]') # Convert column to date format\n",
    "df1 = df1.set_index(['Timestamp']) # use first column as index\n",
    "\n",
    "#df1.to_excel(\"values.xlsx\")  #print to excel\n",
    "\n",
    "\n",
    "df1.head()"
   ]
  },
  {
   "cell_type": "code",
   "execution_count": 28,
   "metadata": {},
   "outputs": [
    {
     "data": {
      "text/plain": [
       "<AxesSubplot:xlabel='Timestamp'>"
      ]
     },
     "execution_count": 28,
     "metadata": {},
     "output_type": "execute_result"
    },
    {
     "data": {
      "image/png": "[encoded data removed]",
      "text/plain": [
       "<Figure size 432x288 with 1 Axes>"
      ]
     },
     "metadata": {
      "needs_background": "light"
     },
     "output_type": "display_data"
    }
   ],
   "source": [
    "spot = df1[\"FCPOc1 USD\"]\n",
    "spot = spot[spot != 0]\n",
    "#spot = np.log(spot).diff()\n",
    "spot.plot()"
   ]
  },
  {
   "cell_type": "code",
   "execution_count": 29,
   "metadata": {},
   "outputs": [
    {
     "data": {
      "text/plain": [
       "count    2200.000000\n",
       "mean      539.116789\n",
       "std       256.253746\n",
       "min       166.347992\n",
       "25%       353.474642\n",
       "50%       476.420606\n",
       "75%       658.988074\n",
       "max      1765.395221\n",
       "Name: FCPOc1 USD, dtype: float64"
      ]
     },
     "execution_count": 29,
     "metadata": {},
     "output_type": "execute_result"
    }
   ],
   "source": [
    "#statistics\n",
    "\n",
    "#mean\n",
    "#sd\n",
    "#skewness\n",
    "#kurtosis\n",
    "#jb test\n",
    "#Ljung Box Q(6) and Q^2(6)\n",
    "#observations\n",
    "\n",
    "spot.describe()\n",
    "#spot.dropna().describe()"
   ]
  },
  {
   "cell_type": "code",
   "execution_count": 30,
   "metadata": {},
   "outputs": [
    {
     "name": "stdout",
     "output_type": "stream",
     "text": [
      "Skewness spot: 1.2819333819550094\n",
      "Skewness logs: 0.21480628153609868\n",
      "Kurtosis spot: 4.815408091694401\n",
      "Kurtosis logs: 2.546217935850284\n",
      "JB spot: Jarque_beraResult(statistic=904.6692712265946, pvalue=0.0)\n",
      "JB logs: Jarque_beraResult(statistic=35.794468975231986, pvalue=1.687834350061479e-08)\n",
      "Q(6) spot:        lb_stat  lb_pvalue\n",
      "6  12556.91593        0.0\n",
      "Q(6) logs:         lb_stat  lb_pvalue\n",
      "6  12667.004409        0.0\n"
     ]
    }
   ],
   "source": [
    "print(\"Skewness spot:\", scipy.stats.skew(spot.dropna(), axis=0, bias=True))\n",
    "print(\"Skewness logs:\", scipy.stats.skew(np.log(spot.dropna()), axis=0, bias=True))\n",
    "print(\"Kurtosis spot:\", scipy.stats.kurtosis(spot.dropna(), axis=0, fisher=False, bias=True))\n",
    "print(\"Kurtosis logs:\", scipy.stats.kurtosis(np.log(spot.dropna()), fisher=False, axis=0, bias=True))\n",
    "\n",
    "print(\"JB spot:\", scipy.stats.jarque_bera(spot.dropna()))\n",
    "print(\"JB logs:\", scipy.stats.jarque_bera(np.log(spot.dropna())))\n",
    "#The Jarque-Bera Test is typically used for large datasets (n > 2000) in which other normality tests (like the Shapiro-Wilk test) are unreliable.\n",
    "\n",
    "print(\"Q(6) spot:\", sm.stats.acorr_ljungbox(spot.dropna(), lags=[6]))\n",
    "print(\"Q(6) logs:\", sm.stats.acorr_ljungbox(np.log(spot.dropna()), lags=[6]))"
   ]
  },
  {
   "cell_type": "code",
   "execution_count": 31,
   "metadata": {},
   "outputs": [
    {
     "name": "stdout",
     "output_type": "stream",
     "text": [
      "ADF spot: (-2.943791407168873, 0.04048751305225831, 14, 2185, {'1%': -3.4333463382232248, '5%': -2.86286368244583, '10%': -2.5674746615942903}, 20382.293216298865)\n",
      "ADF logs: (-2.5914105637818694, 0.09478555612785433, 17, 2182, {'1%': -3.4333504627066542, '5%': -2.8628655035890977, '10%': -2.567475631233297}, -7842.103812979263)\n",
      "PP spot:      Phillips-Perron Test (Z-tau)    \n",
      "=====================================\n",
      "Test Statistic                 -2.847\n",
      "P-value                         0.052\n",
      "Lags                               26\n",
      "-------------------------------------\n",
      "\n",
      "Trend: Constant\n",
      "Critical Values: -3.43 (1%), -2.86 (5%), -2.57 (10%)\n",
      "Null Hypothesis: The process contains a unit root.\n",
      "Alternative Hypothesis: The process is weakly stationary.\n",
      "PP logs:      Phillips-Perron Test (Z-tau)    \n",
      "=====================================\n",
      "Test Statistic                 -2.501\n",
      "P-value                         0.115\n",
      "Lags                               26\n",
      "-------------------------------------\n",
      "\n",
      "Trend: Constant\n",
      "Critical Values: -3.43 (1%), -2.86 (5%), -2.57 (10%)\n",
      "Null Hypothesis: The process contains a unit root.\n",
      "Alternative Hypothesis: The process is weakly stationary.\n"
     ]
    }
   ],
   "source": [
    "#stationarity\n",
    "\n",
    "#augmented Dickie-Fuller\n",
    "#PP test - Phillips and Perron\n",
    "#KPSS\n",
    "\n",
    "print(\"ADF spot:\", adfuller(spot.dropna()))\n",
    "print(\"ADF logs:\", adfuller(np.log(spot.dropna())))\n",
    "\n",
    "print(\"PP spot:\", PhillipsPerron(spot.dropna()).summary().as_text())\n",
    "print(\"PP logs:\", PhillipsPerron(np.log(spot.dropna())).summary().as_text())\n",
    "\n"
   ]
  },
  {
   "cell_type": "code",
   "execution_count": 32,
   "metadata": {},
   "outputs": [
    {
     "name": "stdout",
     "output_type": "stream",
     "text": [
      "KPSS spot:     KPSS Stationarity Test Results   \n",
      "=====================================\n",
      "Test Statistic                  3.479\n",
      "P-value                         0.000\n",
      "Lags                               28\n",
      "-------------------------------------\n",
      "\n",
      "Trend: Constant\n",
      "Critical Values: 0.74 (1%), 0.46 (5%), 0.35 (10%)\n",
      "Null Hypothesis: The process is weakly stationary.\n",
      "Alternative Hypothesis: The process contains a unit root.\n",
      "KPSS logs:     KPSS Stationarity Test Results   \n",
      "=====================================\n",
      "Test Statistic                  3.682\n",
      "P-value                         0.000\n",
      "Lags                               28\n",
      "-------------------------------------\n",
      "\n",
      "Trend: Constant\n",
      "Critical Values: 0.74 (1%), 0.46 (5%), 0.35 (10%)\n",
      "Null Hypothesis: The process is weakly stationary.\n",
      "Alternative Hypothesis: The process contains a unit root.\n"
     ]
    }
   ],
   "source": [
    "\n",
    "print(\"KPSS spot:\", KPSS(spot.dropna()).summary().as_text())\n",
    "print(\"KPSS logs:\", KPSS(np.log(spot.dropna())).summary().as_text())"
   ]
  },
  {
   "cell_type": "code",
   "execution_count": 33,
   "metadata": {},
   "outputs": [
    {
     "name": "stdout",
     "output_type": "stream",
     "text": [
      "ACF and PACF spot:\n",
      "ACF and PACF logs:\n"
     ]
    },
    {
     "name": "stderr",
     "output_type": "stream",
     "text": [
      "c:\\Users\\tatuh\\anaconda3\\lib\\site-packages\\statsmodels\\graphics\\tsaplots.py:348: FutureWarning: The default method 'yw' can produce PACF values outside of the [-1,1] interval. After 0.13, the default will change tounadjusted Yule-Walker ('ywm'). You can use this method now by setting method='ywm'.\n",
      "  warnings.warn(\n",
      "c:\\Users\\tatuh\\anaconda3\\lib\\site-packages\\statsmodels\\graphics\\tsaplots.py:348: FutureWarning: The default method 'yw' can produce PACF values outside of the [-1,1] interval. After 0.13, the default will change tounadjusted Yule-Walker ('ywm'). You can use this method now by setting method='ywm'.\n",
      "  warnings.warn(\n"
     ]
    },
    {
     "data": {
      "image/png": "[encoded data removed]",
      "text/plain": [
       "<Figure size 432x288 with 1 Axes>"
      ]
     },
     "execution_count": 33,
     "metadata": {},
     "output_type": "execute_result"
    },
    {
     "data": {
      "image/png": "[encoded data removed]",
      "text/plain": [
       "<Figure size 432x288 with 1 Axes>"
      ]
     },
     "metadata": {
      "needs_background": "light"
     },
     "output_type": "display_data"
    },
    {
     "data": {
      "image/png": "[encoded data removed]",
      "text/plain": [
       "<Figure size 432x288 with 1 Axes>"
      ]
     },
     "metadata": {
      "needs_background": "light"
     },
     "output_type": "display_data"
    },
    {
     "data": {
      "image/png": "[encoded data removed]",
      "text/plain": [
       "<Figure size 432x288 with 1 Axes>"
      ]
     },
     "metadata": {
      "needs_background": "light"
     },
     "output_type": "display_data"
    },
    {
     "data": {
      "image/png": "[encoded data removed]",
      "text/plain": [
       "<Figure size 432x288 with 1 Axes>"
      ]
     },
     "metadata": {
      "needs_background": "light"
     },
     "output_type": "display_data"
    }
   ],
   "source": [
    "#ACF and PACF\n",
    "\n",
    "print(\"ACF and PACF spot:\")\n",
    "plot_acf(spot.dropna(), lags = 15)\n",
    "plot_pacf(spot.dropna(), lags = 15)\n",
    "\n",
    "\n",
    "print(\"ACF and PACF logs:\")\n",
    "plot_acf(np.log(spot.dropna()), lags = 15)\n",
    "plot_pacf(np.log(spot.dropna()), lags = 15)\n",
    "\n"
   ]
  },
  {
   "cell_type": "code",
   "execution_count": 34,
   "metadata": {},
   "outputs": [
    {
     "data": {
      "text/plain": [
       "0.6782943507735172"
      ]
     },
     "execution_count": 34,
     "metadata": {},
     "output_type": "execute_result"
    },
    {
     "data": {
      "image/png": "[encoded data removed]",
      "text/plain": [
       "<Figure size 432x288 with 1 Axes>"
      ]
     },
     "metadata": {
      "needs_background": "light"
     },
     "output_type": "display_data"
    }
   ],
   "source": [
    "spot.hist()\n",
    "0.6782943507735172"
   ]
  },
  {
   "cell_type": "code",
   "execution_count": 35,
   "metadata": {},
   "outputs": [
    {
     "data": {
      "text/plain": [
       "<AxesSubplot:>"
      ]
     },
     "execution_count": 35,
     "metadata": {},
     "output_type": "execute_result"
    },
    {
     "data": {
      "image/png": "[encoded data removed]",
      "text/plain": [
       "<Figure size 432x288 with 1 Axes>"
      ]
     },
     "metadata": {
      "needs_background": "light"
     },
     "output_type": "display_data"
    }
   ],
   "source": [
    "np.log(spot).hist()"
   ]
  },
  {
   "cell_type": "code",
   "execution_count": 51,
   "metadata": {},
   "outputs": [],
   "source": [
    "# Load the data and split it into separate pieces\n",
    "data = np.array(spot.dropna())\n",
    "train, test = model_selection.train_test_split(data, train_size=1500)"
   ]
  },
  {
   "cell_type": "code",
   "execution_count": 52,
   "metadata": {},
   "outputs": [
    {
     "name": "stdout",
     "output_type": "stream",
     "text": [
      "Performing stepwise search to minimize aic\n",
      " ARIMA(2,1,2)(0,0,0)[0] intercept   : AIC=13397.368, Time=0.22 sec\n",
      " ARIMA(0,1,0)(0,0,0)[0] intercept   : AIC=13458.583, Time=0.03 sec\n",
      " ARIMA(1,1,0)(0,0,0)[0] intercept   : AIC=13411.246, Time=0.06 sec\n",
      " ARIMA(0,1,1)(0,0,0)[0] intercept   : AIC=13420.826, Time=0.11 sec\n",
      " ARIMA(0,1,0)(0,0,0)[0]             : AIC=13456.653, Time=0.02 sec\n",
      " ARIMA(1,1,2)(0,0,0)[0] intercept   : AIC=13388.090, Time=0.20 sec\n",
      " ARIMA(0,1,2)(0,0,0)[0] intercept   : AIC=13403.912, Time=0.20 sec\n",
      " ARIMA(1,1,1)(0,0,0)[0] intercept   : AIC=13390.609, Time=0.18 sec\n",
      " ARIMA(1,1,3)(0,0,0)[0] intercept   : AIC=13383.637, Time=0.26 sec\n",
      " ARIMA(0,1,3)(0,0,0)[0] intercept   : AIC=13389.054, Time=0.20 sec\n",
      " ARIMA(2,1,3)(0,0,0)[0] intercept   : AIC=13379.641, Time=0.24 sec\n",
      " ARIMA(3,1,3)(0,0,0)[0] intercept   : AIC=13380.750, Time=0.28 sec\n",
      " ARIMA(2,1,4)(0,0,0)[0] intercept   : AIC=13379.270, Time=0.29 sec\n",
      " ARIMA(1,1,4)(0,0,0)[0] intercept   : AIC=13382.876, Time=0.25 sec\n",
      " ARIMA(3,1,4)(0,0,0)[0] intercept   : AIC=13380.801, Time=0.33 sec\n",
      " ARIMA(2,1,5)(0,0,0)[0] intercept   : AIC=13373.632, Time=0.36 sec\n",
      " ARIMA(1,1,5)(0,0,0)[0] intercept   : AIC=13371.833, Time=0.35 sec\n",
      " ARIMA(0,1,5)(0,0,0)[0] intercept   : AIC=13375.686, Time=0.30 sec\n",
      " ARIMA(0,1,4)(0,0,0)[0] intercept   : AIC=13374.998, Time=0.23 sec\n",
      " ARIMA(1,1,5)(0,0,0)[0]             : AIC=13369.807, Time=0.19 sec\n",
      " ARIMA(0,1,5)(0,0,0)[0]             : AIC=13373.712, Time=0.19 sec\n",
      " ARIMA(1,1,4)(0,0,0)[0]             : AIC=13380.906, Time=0.18 sec\n",
      " ARIMA(2,1,5)(0,0,0)[0]             : AIC=13371.573, Time=0.22 sec\n",
      " ARIMA(0,1,4)(0,0,0)[0]             : AIC=13373.025, Time=0.13 sec\n",
      " ARIMA(2,1,4)(0,0,0)[0]             : AIC=13377.307, Time=0.17 sec\n",
      "\n",
      "Best model:  ARIMA(1,1,5)(0,0,0)[0]          \n",
      "Total fit time: 5.223 seconds\n"
     ]
    },
    {
     "data": {
      "image/png": "[encoded data removed]",
      "text/plain": [
       "<Figure size 432x288 with 1 Axes>"
      ]
     },
     "metadata": {
      "needs_background": "light"
     },
     "output_type": "display_data"
    }
   ],
   "source": [
    "# Fit a simple auto_arima model\n",
    "arima = pm.auto_arima(train, error_action='ignore', trace=True,\n",
    "                      suppress_warnings=True, maxiter=5,\n",
    "                      seasonal=False)\n",
    "\n",
    "#arima = pm.auto_arima(train, error_action='ignore', trace=True,\n",
    "                      #suppress_warnings=True, maxiter=5,\n",
    "                      #seasonal=True, m=12)\n",
    "\n",
    "# #############################################################################\n",
    "# Plot actual test vs. forecasts:\n",
    "x = np.arange(test.shape[0])\n",
    "plt.scatter(x, test, marker='x')\n",
    "plt.plot(x, arima.predict(n_periods=test.shape[0]))\n",
    "plt.title('Actual test samples vs. forecasts')\n",
    "plt.show()"
   ]
  },
  {
   "cell_type": "code",
   "execution_count": 53,
   "metadata": {},
   "outputs": [
    {
     "data": {
      "text/html": [
       "<table class=\"simpletable\">\n",
       "<caption>SARIMAX Results</caption>\n",
       "<tr>\n",
       "  <th>Dep. Variable:</th>           <td>y</td>        <th>  No. Observations:  </th>   <td>1500</td>   \n",
       "</tr>\n",
       "<tr>\n",
       "  <th>Model:</th>           <td>SARIMAX(1, 1, 5)</td> <th>  Log Likelihood     </th> <td>-6677.904</td>\n",
       "</tr>\n",
       "<tr>\n",
       "  <th>Date:</th>            <td>Tue, 27 Dec 2022</td> <th>  AIC                </th> <td>13369.807</td>\n",
       "</tr>\n",
       "<tr>\n",
       "  <th>Time:</th>                <td>20:06:58</td>     <th>  BIC                </th> <td>13406.995</td>\n",
       "</tr>\n",
       "<tr>\n",
       "  <th>Sample:</th>                  <td>0</td>        <th>  HQIC               </th> <td>13383.661</td>\n",
       "</tr>\n",
       "<tr>\n",
       "  <th></th>                      <td> - 1500</td>     <th>                     </th>     <td> </td>    \n",
       "</tr>\n",
       "<tr>\n",
       "  <th>Covariance Type:</th>        <td>opg</td>       <th>                     </th>     <td> </td>    \n",
       "</tr>\n",
       "</table>\n",
       "<table class=\"simpletable\">\n",
       "<tr>\n",
       "     <td></td>       <th>coef</th>     <th>std err</th>      <th>z</th>      <th>P>|z|</th>  <th>[0.025</th>    <th>0.975]</th>  \n",
       "</tr>\n",
       "<tr>\n",
       "  <th>ar.L1</th>  <td>    0.7939</td> <td>    0.077</td> <td>   10.324</td> <td> 0.000</td> <td>    0.643</td> <td>    0.945</td>\n",
       "</tr>\n",
       "<tr>\n",
       "  <th>ma.L1</th>  <td>   -0.6514</td> <td>    0.077</td> <td>   -8.471</td> <td> 0.000</td> <td>   -0.802</td> <td>   -0.501</td>\n",
       "</tr>\n",
       "<tr>\n",
       "  <th>ma.L2</th>  <td>    0.0209</td> <td>    0.017</td> <td>    1.205</td> <td> 0.228</td> <td>   -0.013</td> <td>    0.055</td>\n",
       "</tr>\n",
       "<tr>\n",
       "  <th>ma.L3</th>  <td>    0.0073</td> <td>    0.018</td> <td>    0.402</td> <td> 0.688</td> <td>   -0.028</td> <td>    0.043</td>\n",
       "</tr>\n",
       "<tr>\n",
       "  <th>ma.L4</th>  <td>   -0.0086</td> <td>    0.017</td> <td>   -0.521</td> <td> 0.602</td> <td>   -0.041</td> <td>    0.024</td>\n",
       "</tr>\n",
       "<tr>\n",
       "  <th>ma.L5</th>  <td>   -0.1195</td> <td>    0.015</td> <td>   -8.112</td> <td> 0.000</td> <td>   -0.148</td> <td>   -0.091</td>\n",
       "</tr>\n",
       "<tr>\n",
       "  <th>sigma2</th> <td>  434.6824</td> <td>    5.458</td> <td>   79.635</td> <td> 0.000</td> <td>  423.984</td> <td>  445.381</td>\n",
       "</tr>\n",
       "</table>\n",
       "<table class=\"simpletable\">\n",
       "<tr>\n",
       "  <th>Ljung-Box (L1) (Q):</th>     <td>0.00</td> <th>  Jarque-Bera (JB):  </th> <td>74617.51</td>\n",
       "</tr>\n",
       "<tr>\n",
       "  <th>Prob(Q):</th>                <td>0.96</td> <th>  Prob(JB):          </th>   <td>0.00</td>  \n",
       "</tr>\n",
       "<tr>\n",
       "  <th>Heteroskedasticity (H):</th> <td>0.74</td> <th>  Skew:              </th>   <td>-1.68</td> \n",
       "</tr>\n",
       "<tr>\n",
       "  <th>Prob(H) (two-sided):</th>    <td>0.00</td> <th>  Kurtosis:          </th>   <td>37.40</td> \n",
       "</tr>\n",
       "</table><br/><br/>Warnings:<br/>[1] Covariance matrix calculated using the outer product of gradients (complex-step)."
      ],
      "text/plain": [
       "<class 'statsmodels.iolib.summary.Summary'>\n",
       "\"\"\"\n",
       "                               SARIMAX Results                                \n",
       "==============================================================================\n",
       "Dep. Variable:                      y   No. Observations:                 1500\n",
       "Model:               SARIMAX(1, 1, 5)   Log Likelihood               -6677.904\n",
       "Date:                Tue, 27 Dec 2022   AIC                          13369.807\n",
       "Time:                        20:06:58   BIC                          13406.995\n",
       "Sample:                             0   HQIC                         13383.661\n",
       "                               - 1500                                         \n",
       "Covariance Type:                  opg                                         \n",
       "==============================================================================\n",
       "                 coef    std err          z      P>|z|      [0.025      0.975]\n",
       "------------------------------------------------------------------------------\n",
       "ar.L1          0.7939      0.077     10.324      0.000       0.643       0.945\n",
       "ma.L1         -0.6514      0.077     -8.471      0.000      -0.802      -0.501\n",
       "ma.L2          0.0209      0.017      1.205      0.228      -0.013       0.055\n",
       "ma.L3          0.0073      0.018      0.402      0.688      -0.028       0.043\n",
       "ma.L4         -0.0086      0.017     -0.521      0.602      -0.041       0.024\n",
       "ma.L5         -0.1195      0.015     -8.112      0.000      -0.148      -0.091\n",
       "sigma2       434.6824      5.458     79.635      0.000     423.984     445.381\n",
       "===================================================================================\n",
       "Ljung-Box (L1) (Q):                   0.00   Jarque-Bera (JB):             74617.51\n",
       "Prob(Q):                              0.96   Prob(JB):                         0.00\n",
       "Heteroskedasticity (H):               0.74   Skew:                            -1.68\n",
       "Prob(H) (two-sided):                  0.00   Kurtosis:                        37.40\n",
       "===================================================================================\n",
       "\n",
       "Warnings:\n",
       "[1] Covariance matrix calculated using the outer product of gradients (complex-step).\n",
       "\"\"\""
      ]
     },
     "execution_count": 53,
     "metadata": {},
     "output_type": "execute_result"
    }
   ],
   "source": [
    "arima.summary()"
   ]
  },
  {
   "cell_type": "code",
   "execution_count": 54,
   "metadata": {},
   "outputs": [
    {
     "data": {
      "text/plain": [
       "[<matplotlib.lines.Line2D at 0x2b3f53088e0>]"
      ]
     },
     "execution_count": 54,
     "metadata": {},
     "output_type": "execute_result"
    },
    {
     "data": {
      "image/png": "[encoded data removed]",
      "text/plain": [
       "<Figure size 432x288 with 1 Axes>"
      ]
     },
     "metadata": {
      "needs_background": "light"
     },
     "output_type": "display_data"
    }
   ],
   "source": [
    "plt.plot(x, arima.predict(n_periods=test.shape[0]))"
   ]
  },
  {
   "cell_type": "code",
   "execution_count": 55,
   "metadata": {},
   "outputs": [
    {
     "data": {
      "text/plain": [
       "array([612.96929919, 618.80968925, 628.4084752 , 630.99325145,\n",
       "       631.5052616 , 631.91176577, 632.23450475, 632.4907394 ,\n",
       "       632.69417375, 632.85568795, 632.98392016, 633.08572855,\n",
       "       633.16655807, 633.23073167, 633.28168151, 633.32213251,\n",
       "       633.35424809, 633.37974585, 633.39998949, 633.41606168,\n",
       "       633.42882199, 633.43895289, 633.44699619, 633.45338207,\n",
       "       633.45845206, 633.46247731, 633.46567312, 633.46821039,\n",
       "       633.47022482, 633.47182415, 633.47309393, 633.47410204,\n",
       "       633.47490243, 633.47553788, 633.4760424 , 633.47644295,\n",
       "       633.47676096, 633.47701344, 633.4772139 , 633.47737305,\n",
       "       633.4774994 , 633.47759972, 633.47767936, 633.4777426 ,\n",
       "       633.4777928 , 633.47783266, 633.4778643 , 633.47788943,\n",
       "       633.47790938, 633.47792521, 633.47793779, 633.47794777,\n",
       "       633.47795569, 633.47796199, 633.47796698, 633.47797095,\n",
       "       633.4779741 , 633.4779766 , 633.47797858, 633.47798016,\n",
       "       633.47798141, 633.4779824 , 633.47798319, 633.47798382,\n",
       "       633.47798432, 633.47798471, 633.47798502, 633.47798527,\n",
       "       633.47798547, 633.47798563, 633.47798575, 633.47798585,\n",
       "       633.47798593, 633.47798599, 633.47798604, 633.47798608,\n",
       "       633.47798611, 633.47798614, 633.47798616, 633.47798617,\n",
       "       633.47798618, 633.47798619, 633.4779862 , 633.47798621,\n",
       "       633.47798621, 633.47798622, 633.47798622, 633.47798622,\n",
       "       633.47798622, 633.47798622, 633.47798623, 633.47798623,\n",
       "       633.47798623, 633.47798623, 633.47798623, 633.47798623,\n",
       "       633.47798623, 633.47798623, 633.47798623, 633.47798623,\n",
       "       633.47798623, 633.47798623, 633.47798623, 633.47798623,\n",
       "       633.47798623, 633.47798623, 633.47798623, 633.47798623,\n",
       "       633.47798623, 633.47798623, 633.47798623, 633.47798623,\n",
       "       633.47798623, 633.47798623, 633.47798623, 633.47798623,\n",
       "       633.47798623, 633.47798623, 633.47798623, 633.47798623,\n",
       "       633.47798623, 633.47798623, 633.47798623, 633.47798623,\n",
       "       633.47798623, 633.47798623, 633.47798623, 633.47798623,\n",
       "       633.47798623, 633.47798623, 633.47798623, 633.47798623,\n",
       "       633.47798623, 633.47798623, 633.47798623, 633.47798623,\n",
       "       633.47798623, 633.47798623, 633.47798623, 633.47798623,\n",
       "       633.47798623, 633.47798623, 633.47798623, 633.47798623,\n",
       "       633.47798623, 633.47798623, 633.47798623, 633.47798623,\n",
       "       633.47798623, 633.47798623, 633.47798623, 633.47798623,\n",
       "       633.47798623, 633.47798623, 633.47798623, 633.47798623,\n",
       "       633.47798623, 633.47798623, 633.47798623, 633.47798623,\n",
       "       633.47798623, 633.47798623, 633.47798623, 633.47798623,\n",
       "       633.47798623, 633.47798623, 633.47798623, 633.47798623,\n",
       "       633.47798623, 633.47798623, 633.47798623, 633.47798623,\n",
       "       633.47798623, 633.47798623, 633.47798623, 633.47798623,\n",
       "       633.47798623, 633.47798623, 633.47798623, 633.47798623,\n",
       "       633.47798623, 633.47798623, 633.47798623, 633.47798623,\n",
       "       633.47798623, 633.47798623, 633.47798623, 633.47798623,\n",
       "       633.47798623, 633.47798623, 633.47798623, 633.47798623,\n",
       "       633.47798623, 633.47798623, 633.47798623, 633.47798623,\n",
       "       633.47798623, 633.47798623, 633.47798623, 633.47798623,\n",
       "       633.47798623, 633.47798623, 633.47798623, 633.47798623,\n",
       "       633.47798623, 633.47798623, 633.47798623, 633.47798623,\n",
       "       633.47798623, 633.47798623, 633.47798623, 633.47798623,\n",
       "       633.47798623, 633.47798623, 633.47798623, 633.47798623,\n",
       "       633.47798623, 633.47798623, 633.47798623, 633.47798623,\n",
       "       633.47798623, 633.47798623, 633.47798623, 633.47798623,\n",
       "       633.47798623, 633.47798623, 633.47798623, 633.47798623,\n",
       "       633.47798623, 633.47798623, 633.47798623, 633.47798623,\n",
       "       633.47798623, 633.47798623, 633.47798623, 633.47798623,\n",
       "       633.47798623, 633.47798623, 633.47798623, 633.47798623,\n",
       "       633.47798623, 633.47798623, 633.47798623, 633.47798623,\n",
       "       633.47798623, 633.47798623, 633.47798623, 633.47798623,\n",
       "       633.47798623, 633.47798623, 633.47798623, 633.47798623,\n",
       "       633.47798623, 633.47798623, 633.47798623, 633.47798623,\n",
       "       633.47798623, 633.47798623, 633.47798623, 633.47798623,\n",
       "       633.47798623, 633.47798623, 633.47798623, 633.47798623,\n",
       "       633.47798623, 633.47798623, 633.47798623, 633.47798623,\n",
       "       633.47798623, 633.47798623, 633.47798623, 633.47798623,\n",
       "       633.47798623, 633.47798623, 633.47798623, 633.47798623,\n",
       "       633.47798623, 633.47798623, 633.47798623, 633.47798623,\n",
       "       633.47798623, 633.47798623, 633.47798623, 633.47798623,\n",
       "       633.47798623, 633.47798623, 633.47798623, 633.47798623,\n",
       "       633.47798623, 633.47798623, 633.47798623, 633.47798623,\n",
       "       633.47798623, 633.47798623, 633.47798623, 633.47798623,\n",
       "       633.47798623, 633.47798623, 633.47798623, 633.47798623,\n",
       "       633.47798623, 633.47798623, 633.47798623, 633.47798623,\n",
       "       633.47798623, 633.47798623, 633.47798623, 633.47798623,\n",
       "       633.47798623, 633.47798623, 633.47798623, 633.47798623,\n",
       "       633.47798623, 633.47798623, 633.47798623, 633.47798623,\n",
       "       633.47798623, 633.47798623, 633.47798623, 633.47798623,\n",
       "       633.47798623, 633.47798623, 633.47798623, 633.47798623,\n",
       "       633.47798623, 633.47798623, 633.47798623, 633.47798623,\n",
       "       633.47798623, 633.47798623, 633.47798623, 633.47798623,\n",
       "       633.47798623, 633.47798623, 633.47798623, 633.47798623,\n",
       "       633.47798623, 633.47798623, 633.47798623, 633.47798623,\n",
       "       633.47798623, 633.47798623, 633.47798623, 633.47798623,\n",
       "       633.47798623, 633.47798623, 633.47798623, 633.47798623,\n",
       "       633.47798623, 633.47798623, 633.47798623, 633.47798623,\n",
       "       633.47798623, 633.47798623, 633.47798623, 633.47798623,\n",
       "       633.47798623, 633.47798623, 633.47798623, 633.47798623,\n",
       "       633.47798623, 633.47798623, 633.47798623, 633.47798623,\n",
       "       633.47798623, 633.47798623, 633.47798623, 633.47798623,\n",
       "       633.47798623, 633.47798623, 633.47798623, 633.47798623,\n",
       "       633.47798623, 633.47798623, 633.47798623, 633.47798623,\n",
       "       633.47798623, 633.47798623, 633.47798623, 633.47798623,\n",
       "       633.47798623, 633.47798623, 633.47798623, 633.47798623,\n",
       "       633.47798623, 633.47798623, 633.47798623, 633.47798623,\n",
       "       633.47798623, 633.47798623, 633.47798623, 633.47798623,\n",
       "       633.47798623, 633.47798623, 633.47798623, 633.47798623,\n",
       "       633.47798623, 633.47798623, 633.47798623, 633.47798623,\n",
       "       633.47798623, 633.47798623, 633.47798623, 633.47798623,\n",
       "       633.47798623, 633.47798623, 633.47798623, 633.47798623,\n",
       "       633.47798623, 633.47798623, 633.47798623, 633.47798623,\n",
       "       633.47798623, 633.47798623, 633.47798623, 633.47798623,\n",
       "       633.47798623, 633.47798623, 633.47798623, 633.47798623,\n",
       "       633.47798623, 633.47798623, 633.47798623, 633.47798623,\n",
       "       633.47798623, 633.47798623, 633.47798623, 633.47798623,\n",
       "       633.47798623, 633.47798623, 633.47798623, 633.47798623,\n",
       "       633.47798623, 633.47798623, 633.47798623, 633.47798623,\n",
       "       633.47798623, 633.47798623, 633.47798623, 633.47798623,\n",
       "       633.47798623, 633.47798623, 633.47798623, 633.47798623,\n",
       "       633.47798623, 633.47798623, 633.47798623, 633.47798623,\n",
       "       633.47798623, 633.47798623, 633.47798623, 633.47798623,\n",
       "       633.47798623, 633.47798623, 633.47798623, 633.47798623,\n",
       "       633.47798623, 633.47798623, 633.47798623, 633.47798623,\n",
       "       633.47798623, 633.47798623, 633.47798623, 633.47798623,\n",
       "       633.47798623, 633.47798623, 633.47798623, 633.47798623,\n",
       "       633.47798623, 633.47798623, 633.47798623, 633.47798623,\n",
       "       633.47798623, 633.47798623, 633.47798623, 633.47798623,\n",
       "       633.47798623, 633.47798623, 633.47798623, 633.47798623,\n",
       "       633.47798623, 633.47798623, 633.47798623, 633.47798623,\n",
       "       633.47798623, 633.47798623, 633.47798623, 633.47798623,\n",
       "       633.47798623, 633.47798623, 633.47798623, 633.47798623,\n",
       "       633.47798623, 633.47798623, 633.47798623, 633.47798623,\n",
       "       633.47798623, 633.47798623, 633.47798623, 633.47798623,\n",
       "       633.47798623, 633.47798623, 633.47798623, 633.47798623,\n",
       "       633.47798623, 633.47798623, 633.47798623, 633.47798623,\n",
       "       633.47798623, 633.47798623, 633.47798623, 633.47798623,\n",
       "       633.47798623, 633.47798623, 633.47798623, 633.47798623,\n",
       "       633.47798623, 633.47798623, 633.47798623, 633.47798623,\n",
       "       633.47798623, 633.47798623, 633.47798623, 633.47798623,\n",
       "       633.47798623, 633.47798623, 633.47798623, 633.47798623,\n",
       "       633.47798623, 633.47798623, 633.47798623, 633.47798623,\n",
       "       633.47798623, 633.47798623, 633.47798623, 633.47798623,\n",
       "       633.47798623, 633.47798623, 633.47798623, 633.47798623,\n",
       "       633.47798623, 633.47798623, 633.47798623, 633.47798623,\n",
       "       633.47798623, 633.47798623, 633.47798623, 633.47798623,\n",
       "       633.47798623, 633.47798623, 633.47798623, 633.47798623,\n",
       "       633.47798623, 633.47798623, 633.47798623, 633.47798623,\n",
       "       633.47798623, 633.47798623, 633.47798623, 633.47798623,\n",
       "       633.47798623, 633.47798623, 633.47798623, 633.47798623,\n",
       "       633.47798623, 633.47798623, 633.47798623, 633.47798623,\n",
       "       633.47798623, 633.47798623, 633.47798623, 633.47798623,\n",
       "       633.47798623, 633.47798623, 633.47798623, 633.47798623,\n",
       "       633.47798623, 633.47798623, 633.47798623, 633.47798623,\n",
       "       633.47798623, 633.47798623, 633.47798623, 633.47798623,\n",
       "       633.47798623, 633.47798623, 633.47798623, 633.47798623,\n",
       "       633.47798623, 633.47798623, 633.47798623, 633.47798623,\n",
       "       633.47798623, 633.47798623, 633.47798623, 633.47798623,\n",
       "       633.47798623, 633.47798623, 633.47798623, 633.47798623,\n",
       "       633.47798623, 633.47798623, 633.47798623, 633.47798623,\n",
       "       633.47798623, 633.47798623, 633.47798623, 633.47798623,\n",
       "       633.47798623, 633.47798623, 633.47798623, 633.47798623,\n",
       "       633.47798623, 633.47798623, 633.47798623, 633.47798623,\n",
       "       633.47798623, 633.47798623, 633.47798623, 633.47798623,\n",
       "       633.47798623, 633.47798623, 633.47798623, 633.47798623,\n",
       "       633.47798623, 633.47798623, 633.47798623, 633.47798623,\n",
       "       633.47798623, 633.47798623, 633.47798623, 633.47798623,\n",
       "       633.47798623, 633.47798623, 633.47798623, 633.47798623,\n",
       "       633.47798623, 633.47798623, 633.47798623, 633.47798623,\n",
       "       633.47798623, 633.47798623, 633.47798623, 633.47798623,\n",
       "       633.47798623, 633.47798623, 633.47798623, 633.47798623,\n",
       "       633.47798623, 633.47798623, 633.47798623, 633.47798623,\n",
       "       633.47798623, 633.47798623, 633.47798623, 633.47798623,\n",
       "       633.47798623, 633.47798623, 633.47798623, 633.47798623,\n",
       "       633.47798623, 633.47798623, 633.47798623, 633.47798623,\n",
       "       633.47798623, 633.47798623, 633.47798623, 633.47798623,\n",
       "       633.47798623, 633.47798623, 633.47798623, 633.47798623,\n",
       "       633.47798623, 633.47798623, 633.47798623, 633.47798623,\n",
       "       633.47798623, 633.47798623, 633.47798623, 633.47798623,\n",
       "       633.47798623, 633.47798623, 633.47798623, 633.47798623,\n",
       "       633.47798623, 633.47798623, 633.47798623, 633.47798623,\n",
       "       633.47798623, 633.47798623, 633.47798623, 633.47798623,\n",
       "       633.47798623, 633.47798623, 633.47798623, 633.47798623,\n",
       "       633.47798623, 633.47798623, 633.47798623, 633.47798623])"
      ]
     },
     "execution_count": 55,
     "metadata": {},
     "output_type": "execute_result"
    }
   ],
   "source": [
    "arima.predict(n_periods=test.shape[0])"
   ]
  },
  {
   "cell_type": "code",
   "execution_count": 56,
   "metadata": {},
   "outputs": [
    {
     "data": {
      "text/plain": [
       "<AxesSubplot:xlabel='Timestamp'>"
      ]
     },
     "execution_count": 56,
     "metadata": {},
     "output_type": "execute_result"
    },
    {
     "data": {
      "image/png": "[encoded data removed]",
      "text/plain": [
       "<Figure size 432x288 with 1 Axes>"
      ]
     },
     "metadata": {
      "needs_background": "light"
     },
     "output_type": "display_data"
    }
   ],
   "source": [
    "spot2 = np.log(spot).diff()\n",
    "spot2.plot()"
   ]
  },
  {
   "cell_type": "code",
   "execution_count": 57,
   "metadata": {},
   "outputs": [
    {
     "data": {
      "text/plain": [
       "count    2199.000000\n",
       "mean        0.000371\n",
       "std         0.040736\n",
       "min        -0.341153\n",
       "25%        -0.019435\n",
       "50%         0.000832\n",
       "75%         0.022142\n",
       "max         0.248107\n",
       "Name: FCPOc1 USD, dtype: float64"
      ]
     },
     "execution_count": 57,
     "metadata": {},
     "output_type": "execute_result"
    }
   ],
   "source": [
    "#statistics\n",
    "\n",
    "#mean\n",
    "#sd\n",
    "#skewness\n",
    "#kurtosis\n",
    "#jb test\n",
    "#Ljung Box Q(6) and Q^2(6)\n",
    "#observations\n",
    "\n",
    "spot2.describe()\n",
    "#spot.dropna().describe()"
   ]
  },
  {
   "cell_type": "code",
   "execution_count": 58,
   "metadata": {},
   "outputs": [
    {
     "name": "stdout",
     "output_type": "stream",
     "text": [
      "Skewness spot: -0.42755403896161753\n",
      "Kurtosis spot: 8.496552970723187\n",
      "JB spot: Jarque_beraResult(statistic=2835.180264266046, pvalue=0.0)\n",
      "Q(6) spot:       lb_stat     lb_pvalue\n",
      "6  109.112798  3.126338e-21\n"
     ]
    }
   ],
   "source": [
    "print(\"Skewness spot:\", scipy.stats.skew(spot2.dropna(), axis=0, bias=True))\n",
    "#print(\"Skewness logs:\", scipy.stats.skew(np.log(spot2.dropna()), axis=0, bias=True))\n",
    "print(\"Kurtosis spot:\", scipy.stats.kurtosis(spot2.dropna(), axis=0, fisher=False, bias=True))\n",
    "#print(\"Kurtosis logs:\", scipy.stats.kurtosis(np.log(spot2.dropna()), fisher=False, axis=0, bias=True))\n",
    "\n",
    "print(\"JB spot:\", scipy.stats.jarque_bera(spot2.dropna()))\n",
    "#print(\"JB logs:\", scipy.stats.jarque_bera(np.log(spot2.dropna())))\n",
    "#The Jarque-Bera Test is typically used for large datasets (n > 2000) in which other normality tests (like the Shapiro-Wilk test) are unreliable.\n",
    "\n",
    "print(\"Q(6) spot:\", sm.stats.acorr_ljungbox(spot2.dropna(), lags=[6]))\n",
    "#print(\"Q(6) logs:\", sm.stats.acorr_ljungbox(np.log(spot2.dropna()), lags=[6]))"
   ]
  },
  {
   "cell_type": "code",
   "execution_count": 59,
   "metadata": {},
   "outputs": [
    {
     "name": "stdout",
     "output_type": "stream",
     "text": [
      "ADF spot: (-10.53894965619306, 8.751334776935141e-19, 16, 2182, {'1%': -3.4333504627066542, '5%': -2.8628655035890977, '10%': -2.567475631233297}, -7832.665106976123)\n",
      "PP spot:      Phillips-Perron Test (Z-tau)    \n",
      "=====================================\n",
      "Test Statistic                -41.877\n",
      "P-value                         0.000\n",
      "Lags                               26\n",
      "-------------------------------------\n",
      "\n",
      "Trend: Constant\n",
      "Critical Values: -3.43 (1%), -2.86 (5%), -2.57 (10%)\n",
      "Null Hypothesis: The process contains a unit root.\n",
      "Alternative Hypothesis: The process is weakly stationary.\n"
     ]
    }
   ],
   "source": [
    "#stationarity\n",
    "\n",
    "#augmented Dickie-Fuller\n",
    "#PP test - Phillips and Perron\n",
    "#KPSS\n",
    "\n",
    "print(\"ADF spot:\", adfuller(spot2.dropna()))\n",
    "#print(\"ADF logs:\", adfuller(np.log(spot2.dropna())))\n",
    "\n",
    "print(\"PP spot:\", PhillipsPerron(spot2.dropna()).summary().as_text())\n",
    "#print(\"PP logs:\", PhillipsPerron(np.log(spot2.dropna())).summary().as_text())"
   ]
  },
  {
   "cell_type": "code",
   "execution_count": 60,
   "metadata": {},
   "outputs": [
    {
     "name": "stdout",
     "output_type": "stream",
     "text": [
      "KPSS spot:     KPSS Stationarity Test Results   \n",
      "=====================================\n",
      "Test Statistic                  0.030\n",
      "P-value                         0.977\n",
      "Lags                               12\n",
      "-------------------------------------\n",
      "\n",
      "Trend: Constant\n",
      "Critical Values: 0.74 (1%), 0.46 (5%), 0.35 (10%)\n",
      "Null Hypothesis: The process is weakly stationary.\n",
      "Alternative Hypothesis: The process contains a unit root.\n"
     ]
    }
   ],
   "source": [
    "print(\"KPSS spot:\", KPSS(spot2.dropna()).summary().as_text())\n",
    "#print(\"KPSS logs:\", KPSS(np.log(spot2.dropna())).summary().as_text())"
   ]
  },
  {
   "cell_type": "code",
   "execution_count": 61,
   "metadata": {},
   "outputs": [
    {
     "name": "stdout",
     "output_type": "stream",
     "text": [
      "ACF and PACF spot:\n"
     ]
    },
    {
     "name": "stderr",
     "output_type": "stream",
     "text": [
      "c:\\Users\\tatuh\\anaconda3\\lib\\site-packages\\statsmodels\\graphics\\tsaplots.py:348: FutureWarning: The default method 'yw' can produce PACF values outside of the [-1,1] interval. After 0.13, the default will change tounadjusted Yule-Walker ('ywm'). You can use this method now by setting method='ywm'.\n",
      "  warnings.warn(\n"
     ]
    },
    {
     "data": {
      "image/png": "[encoded data removed]",
      "text/plain": [
       "<Figure size 432x288 with 1 Axes>"
      ]
     },
     "execution_count": 61,
     "metadata": {},
     "output_type": "execute_result"
    },
    {
     "data": {
      "image/png": "[encoded data removed]",
      "text/plain": [
       "<Figure size 432x288 with 1 Axes>"
      ]
     },
     "metadata": {
      "needs_background": "light"
     },
     "output_type": "display_data"
    },
    {
     "data": {
      "image/png": "[encoded data removed]",
      "text/plain": [
       "<Figure size 432x288 with 1 Axes>"
      ]
     },
     "metadata": {
      "needs_background": "light"
     },
     "output_type": "display_data"
    }
   ],
   "source": [
    "#ACF and PACF\n",
    "\n",
    "print(\"ACF and PACF spot:\")\n",
    "plot_acf(spot2.dropna(), lags = 15)\n",
    "plot_pacf(spot2.dropna(), lags = 15)\n",
    "\n",
    "\n",
    "#print(\"ACF and PACF logs:\")\n",
    "#plot_acf(np.log(spot2.dropna()), lags = 15)\n",
    "#plot_pacf(np.log(spot2.dropna()), lags = 15)\n"
   ]
  },
  {
   "cell_type": "code",
   "execution_count": 62,
   "metadata": {},
   "outputs": [
    {
     "data": {
      "text/plain": [
       "<AxesSubplot:>"
      ]
     },
     "execution_count": 62,
     "metadata": {},
     "output_type": "execute_result"
    },
    {
     "data": {
      "image/png": "[encoded data removed]",
      "text/plain": [
       "<Figure size 432x288 with 1 Axes>"
      ]
     },
     "metadata": {
      "needs_background": "light"
     },
     "output_type": "display_data"
    }
   ],
   "source": [
    "spot2.hist()\n"
   ]
  },
  {
   "cell_type": "code",
   "execution_count": 63,
   "metadata": {},
   "outputs": [],
   "source": [
    "# Load the data and split it into separate pieces\n",
    "data2 = np.array(spot2.dropna())\n",
    "train2, test2 = model_selection.train_test_split(data2, train_size=1500)"
   ]
  },
  {
   "cell_type": "code",
   "execution_count": 64,
   "metadata": {},
   "outputs": [
    {
     "name": "stdout",
     "output_type": "stream",
     "text": [
      "Performing stepwise search to minimize aic\n",
      " ARIMA(2,0,2)(0,0,0)[0]             : AIC=-5375.136, Time=0.16 sec\n",
      " ARIMA(0,0,0)(0,0,0)[0]             : AIC=-5312.585, Time=0.08 sec\n",
      " ARIMA(1,0,0)(0,0,0)[0]             : AIC=-5369.093, Time=0.05 sec\n",
      " ARIMA(0,0,1)(0,0,0)[0]             : AIC=-5358.382, Time=0.12 sec\n",
      " ARIMA(1,0,2)(0,0,0)[0]             : AIC=-5387.647, Time=0.10 sec\n",
      " ARIMA(0,0,2)(0,0,0)[0]             : AIC=-5372.508, Time=0.09 sec\n",
      " ARIMA(1,0,1)(0,0,0)[0]             : AIC=-5381.227, Time=0.08 sec\n",
      " ARIMA(1,0,3)(0,0,0)[0]             : AIC=-5391.744, Time=0.13 sec\n",
      " ARIMA(0,0,3)(0,0,0)[0]             : AIC=-5389.676, Time=0.13 sec\n",
      " ARIMA(2,0,3)(0,0,0)[0]             : AIC=-5393.465, Time=0.14 sec\n",
      " ARIMA(3,0,3)(0,0,0)[0]             : AIC=-5391.835, Time=0.19 sec\n",
      " ARIMA(2,0,4)(0,0,0)[0]             : AIC=-5390.982, Time=0.18 sec\n",
      " ARIMA(1,0,4)(0,0,0)[0]             : AIC=-5385.053, Time=0.16 sec\n",
      " ARIMA(3,0,2)(0,0,0)[0]             : AIC=-5384.614, Time=0.19 sec\n",
      " ARIMA(3,0,4)(0,0,0)[0]             : AIC=-5390.683, Time=0.23 sec\n",
      " ARIMA(2,0,3)(0,0,0)[0] intercept   : AIC=-5391.528, Time=0.24 sec\n",
      "\n",
      "Best model:  ARIMA(2,0,3)(0,0,0)[0]          \n",
      "Total fit time: 2.273 seconds\n"
     ]
    },
    {
     "data": {
      "image/png": "[encoded data removed]",
      "text/plain": [
       "<Figure size 432x288 with 1 Axes>"
      ]
     },
     "metadata": {
      "needs_background": "light"
     },
     "output_type": "display_data"
    }
   ],
   "source": [
    "# Fit a simple auto_arima model\n",
    "arima2 = pm.auto_arima(train2, error_action='ignore', trace=True,\n",
    "                      suppress_warnings=True, maxiter=5,\n",
    "                      seasonal=False)\n",
    "\n",
    "#arima = pm.auto_arima(train, error_action='ignore', trace=True,\n",
    "                      #suppress_warnings=True, maxiter=5,\n",
    "                      #seasonal=True, m=12)\n",
    "\n",
    "# #############################################################################\n",
    "# Plot actual test vs. forecasts:\n",
    "x2 = np.arange(test2.shape[0])\n",
    "plt.scatter(x2, test2, marker='x')\n",
    "plt.plot(x2, arima2.predict(n_periods=test2.shape[0]))\n",
    "plt.title('Actual test samples vs. forecasts')\n",
    "plt.show()"
   ]
  },
  {
   "cell_type": "code",
   "execution_count": 65,
   "metadata": {},
   "outputs": [
    {
     "data": {
      "text/html": [
       "<table class=\"simpletable\">\n",
       "<caption>SARIMAX Results</caption>\n",
       "<tr>\n",
       "  <th>Dep. Variable:</th>           <td>y</td>        <th>  No. Observations:  </th>   <td>1500</td>   \n",
       "</tr>\n",
       "<tr>\n",
       "  <th>Model:</th>           <td>SARIMAX(2, 0, 3)</td> <th>  Log Likelihood     </th> <td>2702.733</td> \n",
       "</tr>\n",
       "<tr>\n",
       "  <th>Date:</th>            <td>Tue, 27 Dec 2022</td> <th>  AIC                </th> <td>-5393.465</td>\n",
       "</tr>\n",
       "<tr>\n",
       "  <th>Time:</th>                <td>20:07:29</td>     <th>  BIC                </th> <td>-5361.586</td>\n",
       "</tr>\n",
       "<tr>\n",
       "  <th>Sample:</th>                  <td>0</td>        <th>  HQIC               </th> <td>-5381.589</td>\n",
       "</tr>\n",
       "<tr>\n",
       "  <th></th>                      <td> - 1500</td>     <th>                     </th>     <td> </td>    \n",
       "</tr>\n",
       "<tr>\n",
       "  <th>Covariance Type:</th>        <td>opg</td>       <th>                     </th>     <td> </td>    \n",
       "</tr>\n",
       "</table>\n",
       "<table class=\"simpletable\">\n",
       "<tr>\n",
       "     <td></td>       <th>coef</th>     <th>std err</th>      <th>z</th>      <th>P>|z|</th>  <th>[0.025</th>    <th>0.975]</th>  \n",
       "</tr>\n",
       "<tr>\n",
       "  <th>ar.L1</th>  <td>    0.8223</td> <td>    0.376</td> <td>    2.189</td> <td> 0.029</td> <td>    0.086</td> <td>    1.558</td>\n",
       "</tr>\n",
       "<tr>\n",
       "  <th>ar.L2</th>  <td>   -0.2758</td> <td>    0.240</td> <td>   -1.147</td> <td> 0.251</td> <td>   -0.747</td> <td>    0.196</td>\n",
       "</tr>\n",
       "<tr>\n",
       "  <th>ma.L1</th>  <td>   -0.6594</td> <td>    0.377</td> <td>   -1.750</td> <td> 0.080</td> <td>   -1.398</td> <td>    0.079</td>\n",
       "</tr>\n",
       "<tr>\n",
       "  <th>ma.L2</th>  <td>    0.2680</td> <td>    0.185</td> <td>    1.451</td> <td> 0.147</td> <td>   -0.094</td> <td>    0.630</td>\n",
       "</tr>\n",
       "<tr>\n",
       "  <th>ma.L3</th>  <td>    0.0632</td> <td>    0.029</td> <td>    2.150</td> <td> 0.032</td> <td>    0.006</td> <td>    0.121</td>\n",
       "</tr>\n",
       "<tr>\n",
       "  <th>sigma2</th> <td>    0.0016</td> <td>    3e-05</td> <td>   52.941</td> <td> 0.000</td> <td>    0.002</td> <td>    0.002</td>\n",
       "</tr>\n",
       "</table>\n",
       "<table class=\"simpletable\">\n",
       "<tr>\n",
       "  <th>Ljung-Box (L1) (Q):</th>     <td>0.00</td> <th>  Jarque-Bera (JB):  </th> <td>2979.98</td>\n",
       "</tr>\n",
       "<tr>\n",
       "  <th>Prob(Q):</th>                <td>0.97</td> <th>  Prob(JB):          </th>  <td>0.00</td>  \n",
       "</tr>\n",
       "<tr>\n",
       "  <th>Heteroskedasticity (H):</th> <td>0.65</td> <th>  Skew:              </th>  <td>-0.45</td> \n",
       "</tr>\n",
       "<tr>\n",
       "  <th>Prob(H) (two-sided):</th>    <td>0.00</td> <th>  Kurtosis:          </th>  <td>9.85</td>  \n",
       "</tr>\n",
       "</table><br/><br/>Warnings:<br/>[1] Covariance matrix calculated using the outer product of gradients (complex-step)."
      ],
      "text/plain": [
       "<class 'statsmodels.iolib.summary.Summary'>\n",
       "\"\"\"\n",
       "                               SARIMAX Results                                \n",
       "==============================================================================\n",
       "Dep. Variable:                      y   No. Observations:                 1500\n",
       "Model:               SARIMAX(2, 0, 3)   Log Likelihood                2702.733\n",
       "Date:                Tue, 27 Dec 2022   AIC                          -5393.465\n",
       "Time:                        20:07:29   BIC                          -5361.586\n",
       "Sample:                             0   HQIC                         -5381.589\n",
       "                               - 1500                                         \n",
       "Covariance Type:                  opg                                         \n",
       "==============================================================================\n",
       "                 coef    std err          z      P>|z|      [0.025      0.975]\n",
       "------------------------------------------------------------------------------\n",
       "ar.L1          0.8223      0.376      2.189      0.029       0.086       1.558\n",
       "ar.L2         -0.2758      0.240     -1.147      0.251      -0.747       0.196\n",
       "ma.L1         -0.6594      0.377     -1.750      0.080      -1.398       0.079\n",
       "ma.L2          0.2680      0.185      1.451      0.147      -0.094       0.630\n",
       "ma.L3          0.0632      0.029      2.150      0.032       0.006       0.121\n",
       "sigma2         0.0016      3e-05     52.941      0.000       0.002       0.002\n",
       "===================================================================================\n",
       "Ljung-Box (L1) (Q):                   0.00   Jarque-Bera (JB):              2979.98\n",
       "Prob(Q):                              0.97   Prob(JB):                         0.00\n",
       "Heteroskedasticity (H):               0.65   Skew:                            -0.45\n",
       "Prob(H) (two-sided):                  0.00   Kurtosis:                         9.85\n",
       "===================================================================================\n",
       "\n",
       "Warnings:\n",
       "[1] Covariance matrix calculated using the outer product of gradients (complex-step).\n",
       "\"\"\""
      ]
     },
     "execution_count": 65,
     "metadata": {},
     "output_type": "execute_result"
    }
   ],
   "source": [
    "arima2.summary()"
   ]
  },
  {
   "cell_type": "code",
   "execution_count": 66,
   "metadata": {},
   "outputs": [
    {
     "data": {
      "text/plain": [
       "[<matplotlib.lines.Line2D at 0x2b3f88ffbe0>]"
      ]
     },
     "execution_count": 66,
     "metadata": {},
     "output_type": "execute_result"
    },
    {
     "data": {
      "image/png": "[encoded data removed]",
      "text/plain": [
       "<Figure size 432x288 with 1 Axes>"
      ]
     },
     "metadata": {
      "needs_background": "light"
     },
     "output_type": "display_data"
    }
   ],
   "source": [
    "plt.plot(x2, arima2.predict(n_periods=test2.shape[0]))"
   ]
  },
  {
   "cell_type": "code",
   "execution_count": 67,
   "metadata": {},
   "outputs": [
    {
     "data": {
      "text/plain": [
       "array([ 1.50879234e-002,  1.32622298e-002,  1.00845996e-002,\n",
       "        4.63531761e-003,  1.03059485e-003, -4.30841860e-004,\n",
       "       -6.38504473e-004, -4.06237090e-004, -1.57970627e-004,\n",
       "       -1.78708520e-005,  2.88693003e-005,  2.86681370e-005,\n",
       "        1.56128104e-005,  4.93265512e-006, -2.49458144e-007,\n",
       "       -1.56545179e-006, -1.21850431e-006, -5.70280997e-007,\n",
       "       -1.32915702e-007,  4.79719703e-008,  7.61034491e-008,\n",
       "        4.93516310e-008,  1.95950827e-008,  2.50329687e-009,\n",
       "       -3.34538660e-009, -3.44132628e-009, -1.90728091e-009,\n",
       "       -6.19349535e-010,  1.66837924e-011,  1.84522370e-010,\n",
       "        1.47135067e-010,  7.01046195e-011,  1.70716829e-011,\n",
       "       -5.29495849e-012, -9.06213516e-012, -5.99172487e-012,\n",
       "       -2.42796633e-012, -3.44174739e-013,  3.86558608e-013,\n",
       "        4.12789977e-013,  2.32840315e-013,  7.76304116e-014,\n",
       "       -3.75345155e-016, -2.17174139e-014, -1.77551112e-014,\n",
       "       -8.61116449e-015, -2.18464734e-015,  5.78294735e-016,\n",
       "        1.07801995e-015,  7.26994372e-016,  3.00526449e-016,\n",
       "        4.66392822e-017, -4.45262603e-017, -4.94768396e-017,\n",
       "       -2.84063384e-017, -9.71442242e-018, -1.54502035e-019,\n",
       "        2.55197430e-018,  2.14114299e-018,  1.05692229e-018,\n",
       "        2.78646194e-019, -6.23401142e-020, -1.28107900e-019,\n",
       "       -8.81534156e-020, -3.71608092e-020, -6.24723313e-021,\n",
       "        5.11092114e-021,  5.92565265e-021,  3.46329190e-021,\n",
       "        1.21376299e-021,  4.29995427e-023, -2.99369844e-022,\n",
       "       -2.58035578e-022, -1.29627712e-022, -3.54346779e-023,\n",
       "        6.60989503e-024,  1.52075416e-023,  1.06825734e-023,\n",
       "        4.59056813e-024,  8.28888499e-025, -5.84367727e-025,\n",
       "       -7.09125399e-025, -4.21970899e-025, -1.51433124e-025,\n",
       "       -8.15590659e-027,  3.50551766e-026,  3.10757269e-026,\n",
       "        1.58866865e-026,  4.49390805e-027, -6.85776817e-028,\n",
       "       -1.80324775e-027, -1.29372114e-027, -5.66554262e-028,\n",
       "       -1.09107992e-028,  6.65217299e-029,  8.47916097e-029,\n",
       "        5.13804471e-029,  1.88674113e-029,  1.34541659e-030,\n",
       "       -4.09685676e-030, -3.73995590e-030, -1.94561050e-030,\n",
       "       -5.68513174e-031,  6.90579134e-032,  2.13571008e-031,\n",
       "        1.56578657e-031,  6.98592796e-032,  1.42656007e-032,\n",
       "       -7.53479137e-033, -1.01301346e-032, -6.25226348e-033,\n",
       "       -2.34768120e-033, -2.06303995e-034,  4.77791344e-034,\n",
       "        4.49790590e-034,  2.38106607e-034,  7.17570233e-035,\n",
       "       -6.65746633e-036, -2.52635647e-035, -1.89387043e-035,\n",
       "       -8.60650417e-036, -1.85440611e-036,  8.48572872e-037,\n",
       "        1.20920129e-036,  7.60330398e-037,  2.91762338e-037,\n",
       "        3.02390517e-038, -5.55955179e-038, -5.40564678e-038,\n",
       "       -2.91195918e-038, -9.03798284e-039,  5.98446099e-040,\n",
       "        2.98459004e-039,  2.28924421e-039,  1.05940270e-039,\n",
       "        2.39842819e-040, -9.49328751e-041, -1.44208400e-040,\n",
       "       -9.24047820e-041, -3.62166209e-041, -4.29837654e-042,\n",
       "        6.45311485e-042,  6.49191107e-042,  3.55878895e-042,\n",
       "        1.13613032e-042, -4.71751955e-044, -3.52112782e-043,\n",
       "       -2.76538842e-043, -1.30297938e-043, -3.08830240e-044,\n",
       "        1.05376363e-044,  1.71821484e-044,  1.12231437e-044,\n",
       "        4.49053571e-045,  5.97552635e-046, -7.47012658e-046,\n",
       "       -7.79073929e-046, -4.34636947e-046, -1.42558378e-046,\n",
       "        2.63497538e-048,  4.14812546e-047,  3.33841193e-047,\n",
       "        1.60127484e-047,  3.96096716e-048, -1.15878888e-048,\n",
       "       -2.04524076e-048, -1.36227005e-048, -5.56186923e-049,\n",
       "       -8.16784585e-050,  8.62184484e-050,  9.34241161e-050,\n",
       "        5.30471917e-050,  1.78573500e-050,  5.51734486e-053,\n",
       "       -4.87929441e-051, -4.02754787e-051, -1.96632349e-051,\n",
       "       -5.06234298e-052,  1.25983149e-052,  2.43206517e-052,\n",
       "        1.65249745e-052,  6.88168502e-053,  1.10170969e-053,\n",
       "       -9.91861587e-054, -1.11945307e-053, -6.47012934e-054,\n",
       "       -2.23329919e-054, -5.21629812e-056,  5.73000251e-055,\n",
       "        4.85573897e-055,  2.41275346e-055,  6.44944852e-056,\n",
       "       -1.35034515e-056, -2.88902940e-056, -2.00330574e-056,\n",
       "       -8.50623834e-057, -1.47015717e-057,  1.13689663e-057,\n",
       "        1.34032773e-057,  7.88644695e-058,  2.78883908e-058,\n",
       "        1.18404247e-059, -6.71734546e-059, -5.85032782e-059,\n",
       "       -2.95833442e-059, -8.19300230e-060,  1.42118163e-060,\n",
       "        3.42811332e-060,  2.42706908e-060,  1.05042461e-060,\n",
       "        1.94450909e-061, -1.29783507e-061, -1.60348616e-061,\n",
       "       -9.60661357e-062, -3.47763018e-062, -2.10425522e-063,\n",
       "        7.86017226e-063,  7.04386946e-063,  3.62463884e-063,\n",
       "        1.03806189e-063, -1.45978595e-064, -4.06315492e-064,\n",
       "       -2.93862907e-064, -1.29595916e-064, -2.55281416e-065,\n",
       "        1.47474507e-065,  1.91671963e-065,  1.16945102e-065,\n",
       "        4.33071644e-066,  3.36137811e-067, -9.17904165e-067,\n",
       "       -8.47508652e-067, -4.43783939e-067, -1.31207324e-067,\n",
       "        1.44916925e-068,  4.81008768e-068,  3.55577328e-068,\n",
       "        1.59746039e-068,  3.33016541e-069, -1.66698916e-069,\n",
       "       -2.28918181e-069, -1.42271674e-069, -5.38619748e-070,\n",
       "       -5.05627856e-071,  1.06960790e-070,  1.01899901e-070,\n",
       "        5.42967014e-071,  1.65474095e-071, -1.36660175e-072,\n",
       "       -5.68719312e-072, -4.29980328e-072, -1.96740335e-072,\n",
       "       -4.32040228e-073,  1.87292079e-073,  2.73160868e-073,\n",
       "        1.72974096e-073,  6.69079725e-074,  7.31718597e-075,\n",
       "       -1.24346931e-074, -1.22431926e-074, -6.63858422e-075,\n",
       "       -2.08262479e-075,  1.18195455e-076,  6.71536396e-076,\n",
       "        5.19620844e-076,  2.42098665e-076,  5.57821161e-077,\n",
       "       -2.08948439e-077, -3.25656901e-077, -2.10170187e-077,\n",
       "       -8.30177413e-078, -1.03066765e-078,  1.44191010e-078,\n",
       "        1.46994429e-078,  8.11114730e-079,  2.61616028e-079,\n",
       "       -8.55600734e-081, -7.91837088e-080, -6.27546404e-080,\n",
       "       -2.97671524e-080, -7.17171884e-081,  2.31169177e-081,\n",
       "        3.87874843e-081,  2.55205138e-081,  1.02892457e-081,\n",
       "        1.42303662e-082, -1.66735894e-082, -1.76354169e-082,\n",
       "       -9.90371364e-083, -3.28054299e-083,  3.35765217e-085,\n",
       "        9.32312214e-084,  7.57397567e-084,  3.65710537e-084,\n",
       "        9.18568069e-085, -2.53194085e-085, -4.61526964e-085,\n",
       "       -3.09696627e-085, -1.27390160e-085, -1.93477171e-086,\n",
       "        1.92214270e-086,  2.11418028e-086,  1.20844407e-086,\n",
       "        4.10681027e-087,  4.44814532e-089, -1.09599008e-087,\n",
       "       -9.13519513e-088, -4.48953688e-088, -1.17254158e-088,\n",
       "        2.73913369e-089,  5.48605118e-089,  3.75588648e-089,\n",
       "        1.57560124e-089,  2.59854540e-090, -2.20833082e-090,\n",
       "       -2.53257216e-090, -1.47357090e-090, -5.13316343e-091,\n",
       "       -1.57308764e-092,  1.28625577e-091,  1.10109374e-091,\n",
       "        5.50728276e-092,  1.49216400e-092, -2.91754000e-093,\n",
       "       -6.51420628e-093, -4.55215652e-093, -1.94684595e-093,\n",
       "       -3.45542027e-094,  2.52751838e-094,  3.03135312e-094,\n",
       "        1.79570262e-094,  6.40658270e-095,  3.16096057e-096,\n",
       "       -1.50686314e-095, -1.32629322e-095, -6.75075230e-096,\n",
       "       -1.89364088e-096,  3.04533841e-097,  7.72648221e-097,\n",
       "        5.51378900e-097,  2.40329472e-097,  4.55691030e-098,\n",
       "       -2.88052852e-098, -3.62540649e-098, -2.18685104e-098,\n",
       "       -7.98479847e-099, -5.35190143e-100,  1.76193531e-099,\n",
       "        1.59646502e-099,  8.26899104e-100,  2.39704169e-100,\n",
       "       -3.09275103e-101, -9.15373920e-101, -6.67437294e-101,\n",
       "       -2.96405783e-101, -5.96753167e-102,  3.26701037e-102,\n",
       "        4.33223589e-102,  2.66150647e-102,  9.93869601e-103,\n",
       "        8.32920198e-104, -2.05594848e-103, -1.92034478e-103,\n",
       "       -1.01214893e-103, -3.02719544e-104,  3.01966543e-105,\n",
       "        1.08314651e-104,  8.07415277e-105,  3.65244224e-105,\n",
       "        7.76795641e-106, -3.68490132e-106, -5.17239275e-106,\n",
       "       -3.23713755e-106, -1.23552468e-106, -1.23262977e-107,\n",
       "        2.39369164e-107,  2.30830821e-107,  1.23803616e-107,\n",
       "        3.81478920e-108, -2.77261230e-109, -1.28003193e-108,\n",
       "       -9.76130905e-109, -4.49685474e-109, -1.00589074e-109,\n",
       "        4.12971483e-110,  6.16996488e-110,  3.93478941e-110,\n",
       "        1.53410799e-110,  1.76396399e-111, -2.78019299e-111,\n",
       "       -2.77266558e-111, -1.51329706e-111, -4.79771399e-112,\n",
       "        2.28093419e-113,  1.51066939e-112,  1.17934767e-112,\n",
       "        5.53189565e-113,  1.29659647e-113, -4.59360418e-114,\n",
       "       -7.35313199e-114, -4.77979869e-114, -1.90268296e-114,\n",
       "       -2.46447298e-115,  3.22060049e-115,  3.32800563e-115,\n",
       "        1.84850855e-115,  6.02271301e-116, -1.45194085e-117,\n",
       "       -1.78032756e-116, -1.42395429e-116, -6.79968225e-117,\n",
       "       -1.66454910e-117,  5.06413973e-118,  8.75479436e-118,\n",
       "        5.80264770e-118,  2.35724258e-118,  3.38160643e-119,\n",
       "       -3.72000052e-119, -3.99159657e-119, -2.25646786e-119,\n",
       "       -7.54739845e-120,  1.64796966e-122,  2.09495811e-120,\n",
       "        1.71817729e-120,  8.35144946e-121,  2.12919305e-121,\n",
       "       -5.52272113e-122, -1.04132800e-121, -7.03998384e-122,\n",
       "       -2.91735264e-122, -4.57519194e-123,  4.28315392e-123,\n",
       "        4.78385246e-123,  2.75264891e-123,  9.44271764e-124,\n",
       "        1.73717365e-125, -2.46124298e-124, -2.07183215e-124,\n",
       "       -1.02494843e-124, -2.71467917e-125,  5.94252545e-126,\n",
       "        1.23731347e-125,  8.53583508e-126,  3.60693340e-126,\n",
       "        6.12051063e-127, -4.91412247e-127, -5.72887425e-127,\n",
       "       -3.35575021e-127, -1.17959666e-127, -4.45615857e-129,\n",
       "        2.88663025e-128,  2.49661944e-128,  1.25694626e-128,\n",
       "        3.45096943e-129, -6.28586722e-130, -1.46859975e-129,\n",
       "       -1.03430580e-129, -4.45520885e-130, -8.11210993e-131,\n",
       "        5.61575146e-131,  6.85507580e-131,  4.08835230e-131,\n",
       "        1.47144701e-131,  8.25198721e-133, -3.37935149e-132,\n",
       "       -3.00647365e-132, -1.54032694e-132, -4.37519429e-133,\n",
       "        6.50081480e-134,  1.74115618e-133,  1.25250611e-133,\n",
       "        5.49785883e-134,  1.06685250e-134, -6.38896444e-135,\n",
       "       -8.19590591e-135, -4.97770607e-135, -1.83300727e-135,\n",
       "       -1.34573210e-136,  3.94841116e-136,  3.61797340e-136,\n",
       "        1.88624012e-136,  5.53331921e-137, -6.51686863e-138,\n",
       "       -2.06186170e-137, -1.51578535e-137, -6.77841640e-138,\n",
       "       -1.39381194e-138,  7.23181389e-139,  9.79067856e-139,\n",
       "        6.05667718e-139,  2.28046154e-139,  2.04966455e-140,\n",
       "       -4.60353525e-140, -4.35082290e-140, -2.30820673e-140,\n",
       "       -6.98218933e-141,  6.23945838e-142,  2.43861628e-141,\n",
       "        1.83324783e-141,  8.34996165e-142,  1.81063036e-142,\n",
       "       -8.13821680e-143, -1.16855237e-142, -7.36487665e-143,\n",
       "       -2.83366106e-143, -2.99099797e-144,  5.35506237e-144,\n",
       "        5.22841634e-144,  2.82261306e-144,  8.79203611e-145,\n",
       "       -5.54295602e-146, -2.88045758e-145, -2.21578994e-145,\n",
       "       -1.02771736e-145, -2.34044466e-146,  9.09628471e-147,\n",
       "        1.39344716e-146,  8.95001327e-147,  3.51693723e-147,\n",
       "        4.23824347e-148, -6.21375524e-148, -6.27849794e-148,\n",
       "       -3.44930558e-148, -1.10495481e-148,  4.26182748e-150,\n",
       "        3.39768024e-149,  2.67644222e-149,  1.26388144e-149,\n",
       "        3.01208699e-150, -1.00861341e-150, -1.66006846e-150,\n",
       "       -1.08695098e-150, -4.36009113e-151, -5.87810127e-152,\n",
       "        7.19050352e-152,  7.53393249e-152,  4.21230647e-152,\n",
       "        1.38616302e-152, -2.17945345e-154, -4.00195327e-153,\n",
       "       -3.23077418e-153, -1.55307345e-153, -3.86143959e-154,\n",
       "        1.10770335e-154,  1.97578468e-154,  1.31924333e-154,\n",
       "        5.39959728e-155,  8.02003656e-156, -8.29588073e-156,\n",
       "       -9.03360287e-156, -5.14067387e-156, -1.73600025e-156,\n",
       "       -9.85963815e-159,  4.70642942e-157,  3.89737294e-157,\n",
       "        1.90695066e-157,  4.93310320e-158, -1.20237047e-158,\n",
       "       -2.34917244e-158, -1.60017974e-158, -6.68006696e-159,\n",
       "       -1.08019623e-159,  9.53950663e-160,  1.08234529e-159,\n",
       "        6.26953535e-160,  2.17068220e-160,  5.59913139e-162,\n",
       "       -5.52583756e-161, -4.69840813e-161, -2.33968166e-161,\n",
       "       -6.28244976e-162,  1.28615531e-162,  2.79019035e-162,\n",
       "        1.93973074e-162,  8.25602597e-163,  1.43972888e-163,\n",
       "       -1.09291529e-163, -1.29576963e-163, -7.64132845e-164,\n",
       "       -2.71015514e-164, -1.21299313e-165,  6.47654581e-165,\n",
       "        5.66029786e-165,  2.86847659e-165,  7.97814590e-166,\n",
       "       -1.35005379e-166, -3.31037094e-166, -2.34986288e-166,\n",
       "       -1.01940731e-166, -1.90236595e-167,  1.24695125e-167,\n",
       "        1.55002132e-167,  9.30728889e-168,  3.37893435e-168,\n",
       "        2.11813314e-169, -7.57657878e-169, -6.81449263e-169,\n",
       "       -3.51422696e-169, -1.01052528e-169,  1.38173274e-170,\n",
       "        3.92303045e-170,  2.84492754e-170,  1.25754994e-170,\n",
       "        2.49537641e-171, -1.41605299e-171, -1.85261600e-171,\n",
       "       -1.13292343e-171, -4.20712714e-172, -3.35243163e-173,\n",
       "        8.84556641e-173,  8.19839654e-173,  4.30227735e-173,\n",
       "        1.27690313e-173, -1.36452915e-174, -4.64349516e-174,\n",
       "       -3.44212310e-174, -1.54994635e-174, -3.25287101e-175,\n",
       "        1.59951646e-175,  2.21238169e-175,  1.37817009e-175,\n",
       "        5.23168020e-176,  5.01415346e-177, -1.03045945e-176,\n",
       "       -9.85644814e-177, -5.26335536e-177, -1.60996082e-177,\n",
       "        1.27617722e-178,  5.48934166e-178,  4.16204353e-178,\n",
       "        1.90868410e-178,  4.21745430e-179, -1.79564198e-179,\n",
       "       -2.63967013e-179, -1.67545001e-179, -6.49789931e-180,\n",
       "       -7.22817604e-181,  1.19759175e-180,  1.18413861e-180,\n",
       "        6.43469168e-181,  2.02576966e-181, -1.08719380e-182,\n",
       "       -6.48064653e-182, -5.02932897e-182, -2.34848854e-182,\n",
       "       -5.44226344e-183,  2.00134320e-183,  3.14659740e-183,\n",
       "        2.03557763e-183,  8.06129997e-184,  1.01527753e-184,\n",
       "       -1.38824818e-184, -1.42157287e-184, -7.86136810e-185,\n",
       "       -2.54416007e-185,  7.58835463e-187,  7.64023827e-186,\n",
       "        6.07343629e-186,  2.88728701e-186,  6.99348247e-187,\n",
       "       -2.21163539e-187, -3.74731658e-187, -2.47156594e-187,\n",
       "       -9.98985945e-188, -1.39880704e-188,  1.60471922e-188,\n",
       "        1.70534993e-188,  9.59793881e-189,  3.18957889e-189,\n",
       "       -2.40519727e-191, -8.99394106e-190, -7.32955071e-190,\n",
       "       -3.54689121e-190, -8.95343991e-191,  2.41897022e-191,\n",
       "        4.45832494e-191,  2.99906261e-191,  1.23667555e-191,\n",
       "        1.89865189e-192, -1.84918341e-192, -2.04422349e-192,\n",
       "       -1.17103790e-192, -3.99213798e-193, -5.33423549e-195,\n",
       "        1.05707950e-193,  8.83966283e-194,  4.35382212e-194,\n",
       "        1.14244219e-194, -2.61237498e-195, -5.29880770e-195,\n",
       "       -3.63687003e-195, -1.52936949e-195, -2.54659456e-196,\n",
       "        2.12355394e-196,  2.44853169e-196,  1.42784251e-196,\n",
       "        4.98889566e-197,  1.64783624e-198, -1.24032318e-197])"
      ]
     },
     "execution_count": 67,
     "metadata": {},
     "output_type": "execute_result"
    }
   ],
   "source": [
    "arima2.predict(n_periods=test2.shape[0])"
   ]
  },
  {
   "cell_type": "code",
   "execution_count": null,
   "metadata": {},
   "outputs": [],
   "source": [
    "#cointegration tests\n",
    "\n",
    "#normalized cv\n",
    "#LR test"
   ]
  },
  {
   "cell_type": "code",
   "execution_count": null,
   "metadata": {},
   "outputs": [],
   "source": [
    "#correlaatiomatriisi"
   ]
  },
  {
   "cell_type": "code",
   "execution_count": null,
   "metadata": {},
   "outputs": [],
   "source": [
    "#np.argwhere(np.isnan(x))"
   ]
  }
 ],
 "metadata": {
  "kernelspec": {
   "display_name": "Python 3.9.7 ('base')",
   "language": "python",
   "name": "python3"
  },
  "language_info": {
   "codemirror_mode": {
    "name": "ipython",
    "version": 3
   },
   "file_extension": ".py",
   "mimetype": "text/x-python",
   "name": "python",
   "nbconvert_exporter": "python",
   "pygments_lexer": "ipython3",
   "version": "3.9.7"
  },
  "orig_nbformat": 4,
  "vscode": {
   "interpreter": {
    "hash": "4166284f6c1be268893ecc7e1723c4ee59a7af301dc502cec5768712e1b57cd0"
   }
  }
 },
 "nbformat": 4,
 "nbformat_minor": 2
}
