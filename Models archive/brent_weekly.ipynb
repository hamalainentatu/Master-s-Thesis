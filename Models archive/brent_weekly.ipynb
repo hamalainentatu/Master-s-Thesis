{
 "cells": [
  {
   "cell_type": "code",
   "execution_count": 1,
   "metadata": {},
   "outputs": [],
   "source": [
    "# Start loading libraries\n",
    "\n",
    "#! pip install yfinance\n",
    "\n",
    "import matplotlib.pyplot as plt\n",
    "import numpy as np\n",
    "import pandas as pd\n",
    "import seaborn as sns\n",
    "\n",
    "#! pip install pmdarima\n",
    "import pmdarima as pm\n",
    "from pmdarima import model_selection\n",
    "\n",
    "import scipy\n",
    "import statsmodels.api as sm\n",
    "from statsmodels.tsa.stattools import adfuller\n",
    "from arch.unitroot import PhillipsPerron\n",
    "from arch.unitroot import KPSS\n",
    "\n",
    "from statsmodels.graphics.tsaplots import plot_pacf\n",
    "from statsmodels.graphics.tsaplots import plot_acf\n",
    "#from statsmodels.graphics.tsaplots import plot_acf\n",
    "\n",
    "#from matplotlib.ticker import NullFormatter\n",
    "#import yfinance as yf\n",
    "#import warnings; warnings.simplefilter('ignore')\n",
    "#%matplotlib inline"
   ]
  },
  {
   "cell_type": "code",
   "execution_count": 3,
   "metadata": {},
   "outputs": [
    {
     "data": {
      "text/html": [
       "<div>\n",
       "<style scoped>\n",
       "    .dataframe tbody tr th:only-of-type {\n",
       "        vertical-align: middle;\n",
       "    }\n",
       "\n",
       "    .dataframe tbody tr th {\n",
       "        vertical-align: top;\n",
       "    }\n",
       "\n",
       "    .dataframe thead th {\n",
       "        text-align: right;\n",
       "    }\n",
       "</style>\n",
       "<table border=\"1\" class=\"dataframe\">\n",
       "  <thead>\n",
       "    <tr style=\"text-align: right;\">\n",
       "      <th></th>\n",
       "      <th>LCOc1</th>\n",
       "      <th>LCOc3</th>\n",
       "      <th>LCOc6</th>\n",
       "      <th>LCOc9</th>\n",
       "      <th>LCOc12</th>\n",
       "    </tr>\n",
       "    <tr>\n",
       "      <th>Timestamp</th>\n",
       "      <th></th>\n",
       "      <th></th>\n",
       "      <th></th>\n",
       "      <th></th>\n",
       "      <th></th>\n",
       "    </tr>\n",
       "  </thead>\n",
       "  <tbody>\n",
       "    <tr>\n",
       "      <th>1988-06-24</th>\n",
       "      <td>15.65</td>\n",
       "      <td>NaN</td>\n",
       "      <td>NaN</td>\n",
       "      <td>NaN</td>\n",
       "      <td>NaN</td>\n",
       "    </tr>\n",
       "    <tr>\n",
       "      <th>1988-07-01</th>\n",
       "      <td>14.60</td>\n",
       "      <td>NaN</td>\n",
       "      <td>NaN</td>\n",
       "      <td>NaN</td>\n",
       "      <td>NaN</td>\n",
       "    </tr>\n",
       "    <tr>\n",
       "      <th>1988-07-08</th>\n",
       "      <td>15.05</td>\n",
       "      <td>NaN</td>\n",
       "      <td>NaN</td>\n",
       "      <td>NaN</td>\n",
       "      <td>NaN</td>\n",
       "    </tr>\n",
       "    <tr>\n",
       "      <th>1988-07-15</th>\n",
       "      <td>14.18</td>\n",
       "      <td>NaN</td>\n",
       "      <td>NaN</td>\n",
       "      <td>NaN</td>\n",
       "      <td>NaN</td>\n",
       "    </tr>\n",
       "    <tr>\n",
       "      <th>1988-07-22</th>\n",
       "      <td>15.71</td>\n",
       "      <td>NaN</td>\n",
       "      <td>NaN</td>\n",
       "      <td>NaN</td>\n",
       "      <td>NaN</td>\n",
       "    </tr>\n",
       "  </tbody>\n",
       "</table>\n",
       "</div>"
      ],
      "text/plain": [
       "            LCOc1  LCOc3  LCOc6  LCOc9  LCOc12\n",
       "Timestamp                                     \n",
       "1988-06-24  15.65    NaN    NaN    NaN     NaN\n",
       "1988-07-01  14.60    NaN    NaN    NaN     NaN\n",
       "1988-07-08  15.05    NaN    NaN    NaN     NaN\n",
       "1988-07-15  14.18    NaN    NaN    NaN     NaN\n",
       "1988-07-22  15.71    NaN    NaN    NaN     NaN"
      ]
     },
     "execution_count": 3,
     "metadata": {},
     "output_type": "execute_result"
    }
   ],
   "source": [
    "xls_file = pd.ExcelFile(\"Data_weekly_final.xlsx\") # Read Excel\n",
    "df1=xls_file.parse(\"Brent\") # Read the first sheet (Portfolio holdings)\n",
    "\n",
    "#df1[\"Timestamp\"] = df1[\"Date\"].astype('datetime64[ns]') # Convert column to date format\n",
    "df1 = df1.set_index(['Timestamp']) # use first column as index\n",
    "\n",
    "#df1.to_excel(\"values.xlsx\")  #print to excel\n",
    "\n",
    "\n",
    "df1.head()"
   ]
  },
  {
   "cell_type": "code",
   "execution_count": 6,
   "metadata": {},
   "outputs": [
    {
     "data": {
      "text/plain": [
       "<AxesSubplot:xlabel='Timestamp'>"
      ]
     },
     "execution_count": 6,
     "metadata": {},
     "output_type": "execute_result"
    },
    {
     "data": {
      "image/png": "[encoded data removed]",
      "text/plain": [
       "<Figure size 432x288 with 1 Axes>"
      ]
     },
     "metadata": {
      "needs_background": "light"
     },
     "output_type": "display_data"
    }
   ],
   "source": [
    "spot = df1[\"LCOc1\"]\n",
    "spot = spot.loc['2004-01-01':'2022-11-30']\n",
    "#spot = np.log(spot).diff()\n",
    "spot.plot()"
   ]
  },
  {
   "cell_type": "code",
   "execution_count": 7,
   "metadata": {},
   "outputs": [
    {
     "data": {
      "text/plain": [
       "count    987.000000\n",
       "mean      74.063465\n",
       "std       25.735714\n",
       "min       21.440000\n",
       "25%       54.395000\n",
       "50%       69.070000\n",
       "75%       97.605000\n",
       "max      144.490000\n",
       "Name: LCOc1, dtype: float64"
      ]
     },
     "execution_count": 7,
     "metadata": {},
     "output_type": "execute_result"
    }
   ],
   "source": [
    "#statistics\n",
    "\n",
    "#mean\n",
    "#sd\n",
    "#skewness\n",
    "#kurtosis\n",
    "#jb test\n",
    "#Ljung Box Q(6) and Q^2(6)\n",
    "#observations\n",
    "\n",
    "spot.describe()\n",
    "#spot.dropna().describe()"
   ]
  },
  {
   "cell_type": "code",
   "execution_count": 8,
   "metadata": {},
   "outputs": [
    {
     "name": "stdout",
     "output_type": "stream",
     "text": [
      "Skewness spot: 0.38106259620412514\n",
      "Skewness logs: -0.23346836509618438\n",
      "Kurtosis spot: 2.1282179661281493\n",
      "Kurtosis logs: 2.403891449571898\n",
      "JB spot: Jarque_beraResult(statistic=55.141992503322804, pvalue=1.0618173007514997e-12)\n",
      "JB logs: Jarque_beraResult(statistic=23.580059783982616, pvalue=7.579753398712086e-06)\n",
      "Q(6) spot:       lb_stat  lb_pvalue\n",
      "6  5520.63492        0.0\n",
      "Q(6) logs:       lb_stat  lb_pvalue\n",
      "6  5419.80057        0.0\n"
     ]
    }
   ],
   "source": [
    "print(\"Skewness spot:\", scipy.stats.skew(spot.dropna(), axis=0, bias=True))\n",
    "print(\"Skewness logs:\", scipy.stats.skew(np.log(spot.dropna()), axis=0, bias=True))\n",
    "print(\"Kurtosis spot:\", scipy.stats.kurtosis(spot.dropna(), axis=0, fisher=False, bias=True))\n",
    "print(\"Kurtosis logs:\", scipy.stats.kurtosis(np.log(spot.dropna()), fisher=False, axis=0, bias=True))\n",
    "\n",
    "print(\"JB spot:\", scipy.stats.jarque_bera(spot.dropna()))\n",
    "print(\"JB logs:\", scipy.stats.jarque_bera(np.log(spot.dropna())))\n",
    "#The Jarque-Bera Test is typically used for large datasets (n > 2000) in which other normality tests (like the Shapiro-Wilk test) are unreliable.\n",
    "\n",
    "print(\"Q(6) spot:\", sm.stats.acorr_ljungbox(spot.dropna(), lags=[6]))\n",
    "print(\"Q(6) logs:\", sm.stats.acorr_ljungbox(np.log(spot.dropna()), lags=[6]))"
   ]
  },
  {
   "cell_type": "code",
   "execution_count": 9,
   "metadata": {},
   "outputs": [
    {
     "name": "stdout",
     "output_type": "stream",
     "text": [
      "ADF spot: (-2.9288460090027124, 0.04209496157833418, 10, 976, {'1%': -3.4370678095881804, '5%': -2.8645058608075264, '10%': -2.568349178354273}, 5068.444908385977)\n",
      "ADF logs: (-3.1166189126496375, 0.02534751118728021, 12, 974, {'1%': -3.437081640468809, '5%': -2.864511960193817, '10%': -2.568352427087857}, -3034.439799323931)\n",
      "PP spot:      Phillips-Perron Test (Z-tau)    \n",
      "=====================================\n",
      "Test Statistic                 -2.803\n",
      "P-value                         0.058\n",
      "Lags                               22\n",
      "-------------------------------------\n",
      "\n",
      "Trend: Constant\n",
      "Critical Values: -3.44 (1%), -2.86 (5%), -2.57 (10%)\n",
      "Null Hypothesis: The process contains a unit root.\n",
      "Alternative Hypothesis: The process is weakly stationary.\n",
      "PP logs:      Phillips-Perron Test (Z-tau)    \n",
      "=====================================\n",
      "Test Statistic                 -3.069\n",
      "P-value                         0.029\n",
      "Lags                               22\n",
      "-------------------------------------\n",
      "\n",
      "Trend: Constant\n",
      "Critical Values: -3.44 (1%), -2.86 (5%), -2.57 (10%)\n",
      "Null Hypothesis: The process contains a unit root.\n",
      "Alternative Hypothesis: The process is weakly stationary.\n"
     ]
    }
   ],
   "source": [
    "#stationarity\n",
    "\n",
    "#augmented Dickie-Fuller\n",
    "#PP test - Phillips and Perron\n",
    "#KPSS\n",
    "\n",
    "print(\"ADF spot:\", adfuller(spot.dropna()))\n",
    "print(\"ADF logs:\", adfuller(np.log(spot.dropna())))\n",
    "\n",
    "print(\"PP spot:\", PhillipsPerron(spot.dropna()).summary().as_text())\n",
    "print(\"PP logs:\", PhillipsPerron(np.log(spot.dropna())).summary().as_text())\n",
    "\n"
   ]
  },
  {
   "cell_type": "code",
   "execution_count": 10,
   "metadata": {},
   "outputs": [
    {
     "name": "stdout",
     "output_type": "stream",
     "text": [
      "KPSS spot:     KPSS Stationarity Test Results   \n",
      "=====================================\n",
      "Test Statistic                  0.478\n",
      "P-value                         0.045\n",
      "Lags                               19\n",
      "-------------------------------------\n",
      "\n",
      "Trend: Constant\n",
      "Critical Values: 0.74 (1%), 0.46 (5%), 0.35 (10%)\n",
      "Null Hypothesis: The process is weakly stationary.\n",
      "Alternative Hypothesis: The process contains a unit root.\n",
      "KPSS logs:     KPSS Stationarity Test Results   \n",
      "=====================================\n",
      "Test Statistic                  0.456\n",
      "P-value                         0.052\n",
      "Lags                               19\n",
      "-------------------------------------\n",
      "\n",
      "Trend: Constant\n",
      "Critical Values: 0.74 (1%), 0.46 (5%), 0.35 (10%)\n",
      "Null Hypothesis: The process is weakly stationary.\n",
      "Alternative Hypothesis: The process contains a unit root.\n"
     ]
    }
   ],
   "source": [
    "\n",
    "print(\"KPSS spot:\", KPSS(spot.dropna()).summary().as_text())\n",
    "print(\"KPSS logs:\", KPSS(np.log(spot.dropna())).summary().as_text())"
   ]
  },
  {
   "cell_type": "code",
   "execution_count": 11,
   "metadata": {},
   "outputs": [
    {
     "name": "stdout",
     "output_type": "stream",
     "text": [
      "ACF and PACF spot:\n",
      "ACF and PACF logs:\n"
     ]
    },
    {
     "name": "stderr",
     "output_type": "stream",
     "text": [
      "c:\\Users\\tatuh\\anaconda3\\lib\\site-packages\\statsmodels\\graphics\\tsaplots.py:348: FutureWarning: The default method 'yw' can produce PACF values outside of the [-1,1] interval. After 0.13, the default will change tounadjusted Yule-Walker ('ywm'). You can use this method now by setting method='ywm'.\n",
      "  warnings.warn(\n",
      "c:\\Users\\tatuh\\anaconda3\\lib\\site-packages\\statsmodels\\graphics\\tsaplots.py:348: FutureWarning: The default method 'yw' can produce PACF values outside of the [-1,1] interval. After 0.13, the default will change tounadjusted Yule-Walker ('ywm'). You can use this method now by setting method='ywm'.\n",
      "  warnings.warn(\n"
     ]
    },
    {
     "data": {
      "image/png": "[encoded data removed]",
      "text/plain": [
       "<Figure size 432x288 with 1 Axes>"
      ]
     },
     "execution_count": 11,
     "metadata": {},
     "output_type": "execute_result"
    },
    {
     "data": {
      "image/png": "[encoded data removed]",
      "text/plain": [
       "<Figure size 432x288 with 1 Axes>"
      ]
     },
     "metadata": {
      "needs_background": "light"
     },
     "output_type": "display_data"
    },
    {
     "data": {
      "image/png": "[encoded data removed]",
      "text/plain": [
       "<Figure size 432x288 with 1 Axes>"
      ]
     },
     "metadata": {
      "needs_background": "light"
     },
     "output_type": "display_data"
    },
    {
     "data": {
      "image/png": "[encoded data removed]",
      "text/plain": [
       "<Figure size 432x288 with 1 Axes>"
      ]
     },
     "metadata": {
      "needs_background": "light"
     },
     "output_type": "display_data"
    },
    {
     "data": {
      "image/png": "[encoded data removed]",
      "text/plain": [
       "<Figure size 432x288 with 1 Axes>"
      ]
     },
     "metadata": {
      "needs_background": "light"
     },
     "output_type": "display_data"
    }
   ],
   "source": [
    "#ACF and PACF\n",
    "\n",
    "print(\"ACF and PACF spot:\")\n",
    "plot_acf(spot.dropna(), lags = 15)\n",
    "plot_pacf(spot.dropna(), lags = 15)\n",
    "\n",
    "\n",
    "print(\"ACF and PACF logs:\")\n",
    "plot_acf(np.log(spot.dropna()), lags = 15)\n",
    "plot_pacf(np.log(spot.dropna()), lags = 15)\n",
    "\n"
   ]
  },
  {
   "cell_type": "code",
   "execution_count": 12,
   "metadata": {},
   "outputs": [
    {
     "data": {
      "text/plain": [
       "0.6782943507735172"
      ]
     },
     "execution_count": 12,
     "metadata": {},
     "output_type": "execute_result"
    },
    {
     "data": {
      "image/png": "[encoded data removed]",
      "text/plain": [
       "<Figure size 432x288 with 1 Axes>"
      ]
     },
     "metadata": {
      "needs_background": "light"
     },
     "output_type": "display_data"
    }
   ],
   "source": [
    "spot.hist()\n",
    "0.6782943507735172"
   ]
  },
  {
   "cell_type": "code",
   "execution_count": 13,
   "metadata": {},
   "outputs": [
    {
     "data": {
      "text/plain": [
       "<AxesSubplot:>"
      ]
     },
     "execution_count": 13,
     "metadata": {},
     "output_type": "execute_result"
    },
    {
     "data": {
      "image/png": "[encoded data removed]",
      "text/plain": [
       "<Figure size 432x288 with 1 Axes>"
      ]
     },
     "metadata": {
      "needs_background": "light"
     },
     "output_type": "display_data"
    }
   ],
   "source": [
    "np.log(spot).hist()"
   ]
  },
  {
   "cell_type": "code",
   "execution_count": 16,
   "metadata": {},
   "outputs": [],
   "source": [
    "# Load the data and split it into separate pieces\n",
    "data = np.array(spot.dropna())\n",
    "train, test = model_selection.train_test_split(data, train_size=(spot.shape[0]*2//3))"
   ]
  },
  {
   "cell_type": "code",
   "execution_count": 17,
   "metadata": {},
   "outputs": [
    {
     "name": "stdout",
     "output_type": "stream",
     "text": [
      "Performing stepwise search to minimize aic\n",
      " ARIMA(2,1,2)(0,0,0)[0] intercept   : AIC=3429.840, Time=0.10 sec\n",
      " ARIMA(0,1,0)(0,0,0)[0] intercept   : AIC=3424.952, Time=0.01 sec\n",
      " ARIMA(1,1,0)(0,0,0)[0] intercept   : AIC=3426.781, Time=0.04 sec\n",
      " ARIMA(0,1,1)(0,0,0)[0] intercept   : AIC=3426.801, Time=0.05 sec\n",
      " ARIMA(0,1,0)(0,0,0)[0]             : AIC=3422.984, Time=0.02 sec\n",
      " ARIMA(1,1,1)(0,0,0)[0] intercept   : AIC=3428.400, Time=0.09 sec\n",
      "\n",
      "Best model:  ARIMA(0,1,0)(0,0,0)[0]          \n",
      "Total fit time: 0.323 seconds\n"
     ]
    },
    {
     "data": {
      "image/png": "[encoded data removed]",
      "text/plain": [
       "<Figure size 432x288 with 1 Axes>"
      ]
     },
     "metadata": {
      "needs_background": "light"
     },
     "output_type": "display_data"
    }
   ],
   "source": [
    "# Fit a simple auto_arima model\n",
    "arima = pm.auto_arima(train, error_action='ignore', trace=True,\n",
    "                      suppress_warnings=True, maxiter=5,\n",
    "                      seasonal=False)\n",
    "\n",
    "#arima = pm.auto_arima(train, error_action='ignore', trace=True,\n",
    "                      #suppress_warnings=True, maxiter=5,\n",
    "                      #seasonal=True, m=12)\n",
    "\n",
    "# #############################################################################\n",
    "# Plot actual test vs. forecasts:\n",
    "x = np.arange(test.shape[0])\n",
    "plt.scatter(x, test, marker='x')\n",
    "plt.plot(x, arima.predict(n_periods=test.shape[0]))\n",
    "plt.title('Actual test samples vs. forecasts')\n",
    "plt.show()"
   ]
  },
  {
   "cell_type": "code",
   "execution_count": 18,
   "metadata": {},
   "outputs": [
    {
     "data": {
      "text/html": [
       "<table class=\"simpletable\">\n",
       "<caption>SARIMAX Results</caption>\n",
       "<tr>\n",
       "  <th>Dep. Variable:</th>           <td>y</td>        <th>  No. Observations:  </th>    <td>658</td>   \n",
       "</tr>\n",
       "<tr>\n",
       "  <th>Model:</th>           <td>SARIMAX(0, 1, 0)</td> <th>  Log Likelihood     </th> <td>-1710.492</td>\n",
       "</tr>\n",
       "<tr>\n",
       "  <th>Date:</th>            <td>Wed, 28 Dec 2022</td> <th>  AIC                </th> <td>3422.984</td> \n",
       "</tr>\n",
       "<tr>\n",
       "  <th>Time:</th>                <td>13:01:47</td>     <th>  BIC                </th> <td>3427.472</td> \n",
       "</tr>\n",
       "<tr>\n",
       "  <th>Sample:</th>                  <td>0</td>        <th>  HQIC               </th> <td>3424.724</td> \n",
       "</tr>\n",
       "<tr>\n",
       "  <th></th>                      <td> - 658</td>      <th>                     </th>     <td> </td>    \n",
       "</tr>\n",
       "<tr>\n",
       "  <th>Covariance Type:</th>        <td>opg</td>       <th>                     </th>     <td> </td>    \n",
       "</tr>\n",
       "</table>\n",
       "<table class=\"simpletable\">\n",
       "<tr>\n",
       "     <td></td>       <th>coef</th>     <th>std err</th>      <th>z</th>      <th>P>|z|</th>  <th>[0.025</th>    <th>0.975]</th>  \n",
       "</tr>\n",
       "<tr>\n",
       "  <th>sigma2</th> <td>   10.6877</td> <td>    0.365</td> <td>   29.292</td> <td> 0.000</td> <td>    9.973</td> <td>   11.403</td>\n",
       "</tr>\n",
       "</table>\n",
       "<table class=\"simpletable\">\n",
       "<tr>\n",
       "  <th>Ljung-Box (L1) (Q):</th>     <td>0.17</td> <th>  Jarque-Bera (JB):  </th> <td>365.59</td>\n",
       "</tr>\n",
       "<tr>\n",
       "  <th>Prob(Q):</th>                <td>0.68</td> <th>  Prob(JB):          </th>  <td>0.00</td> \n",
       "</tr>\n",
       "<tr>\n",
       "  <th>Heteroskedasticity (H):</th> <td>1.30</td> <th>  Skew:              </th>  <td>-0.84</td>\n",
       "</tr>\n",
       "<tr>\n",
       "  <th>Prob(H) (two-sided):</th>    <td>0.05</td> <th>  Kurtosis:          </th>  <td>6.25</td> \n",
       "</tr>\n",
       "</table><br/><br/>Warnings:<br/>[1] Covariance matrix calculated using the outer product of gradients (complex-step)."
      ],
      "text/plain": [
       "<class 'statsmodels.iolib.summary.Summary'>\n",
       "\"\"\"\n",
       "                               SARIMAX Results                                \n",
       "==============================================================================\n",
       "Dep. Variable:                      y   No. Observations:                  658\n",
       "Model:               SARIMAX(0, 1, 0)   Log Likelihood               -1710.492\n",
       "Date:                Wed, 28 Dec 2022   AIC                           3422.984\n",
       "Time:                        13:01:47   BIC                           3427.472\n",
       "Sample:                             0   HQIC                          3424.724\n",
       "                                - 658                                         \n",
       "Covariance Type:                  opg                                         \n",
       "==============================================================================\n",
       "                 coef    std err          z      P>|z|      [0.025      0.975]\n",
       "------------------------------------------------------------------------------\n",
       "sigma2        10.6877      0.365     29.292      0.000       9.973      11.403\n",
       "===================================================================================\n",
       "Ljung-Box (L1) (Q):                   0.17   Jarque-Bera (JB):               365.59\n",
       "Prob(Q):                              0.68   Prob(JB):                         0.00\n",
       "Heteroskedasticity (H):               1.30   Skew:                            -0.84\n",
       "Prob(H) (two-sided):                  0.05   Kurtosis:                         6.25\n",
       "===================================================================================\n",
       "\n",
       "Warnings:\n",
       "[1] Covariance matrix calculated using the outer product of gradients (complex-step).\n",
       "\"\"\""
      ]
     },
     "execution_count": 18,
     "metadata": {},
     "output_type": "execute_result"
    }
   ],
   "source": [
    "arima.summary()"
   ]
  },
  {
   "cell_type": "code",
   "execution_count": 19,
   "metadata": {},
   "outputs": [
    {
     "data": {
      "text/plain": [
       "[<matplotlib.lines.Line2D at 0x1fdc4a8e4f0>]"
      ]
     },
     "execution_count": 19,
     "metadata": {},
     "output_type": "execute_result"
    },
    {
     "data": {
      "image/png": "[encoded data removed]",
      "text/plain": [
       "<Figure size 432x288 with 1 Axes>"
      ]
     },
     "metadata": {
      "needs_background": "light"
     },
     "output_type": "display_data"
    }
   ],
   "source": [
    "plt.plot(x, arima.predict(n_periods=test.shape[0]))"
   ]
  },
  {
   "cell_type": "code",
   "execution_count": 20,
   "metadata": {},
   "outputs": [
    {
     "data": {
      "text/plain": [
       "array([44.27, 44.27, 44.27, 44.27, 44.27, 44.27, 44.27, 44.27, 44.27,\n",
       "       44.27, 44.27, 44.27, 44.27, 44.27, 44.27, 44.27, 44.27, 44.27,\n",
       "       44.27, 44.27, 44.27, 44.27, 44.27, 44.27, 44.27, 44.27, 44.27,\n",
       "       44.27, 44.27, 44.27, 44.27, 44.27, 44.27, 44.27, 44.27, 44.27,\n",
       "       44.27, 44.27, 44.27, 44.27, 44.27, 44.27, 44.27, 44.27, 44.27,\n",
       "       44.27, 44.27, 44.27, 44.27, 44.27, 44.27, 44.27, 44.27, 44.27,\n",
       "       44.27, 44.27, 44.27, 44.27, 44.27, 44.27, 44.27, 44.27, 44.27,\n",
       "       44.27, 44.27, 44.27, 44.27, 44.27, 44.27, 44.27, 44.27, 44.27,\n",
       "       44.27, 44.27, 44.27, 44.27, 44.27, 44.27, 44.27, 44.27, 44.27,\n",
       "       44.27, 44.27, 44.27, 44.27, 44.27, 44.27, 44.27, 44.27, 44.27,\n",
       "       44.27, 44.27, 44.27, 44.27, 44.27, 44.27, 44.27, 44.27, 44.27,\n",
       "       44.27, 44.27, 44.27, 44.27, 44.27, 44.27, 44.27, 44.27, 44.27,\n",
       "       44.27, 44.27, 44.27, 44.27, 44.27, 44.27, 44.27, 44.27, 44.27,\n",
       "       44.27, 44.27, 44.27, 44.27, 44.27, 44.27, 44.27, 44.27, 44.27,\n",
       "       44.27, 44.27, 44.27, 44.27, 44.27, 44.27, 44.27, 44.27, 44.27,\n",
       "       44.27, 44.27, 44.27, 44.27, 44.27, 44.27, 44.27, 44.27, 44.27,\n",
       "       44.27, 44.27, 44.27, 44.27, 44.27, 44.27, 44.27, 44.27, 44.27,\n",
       "       44.27, 44.27, 44.27, 44.27, 44.27, 44.27, 44.27, 44.27, 44.27,\n",
       "       44.27, 44.27, 44.27, 44.27, 44.27, 44.27, 44.27, 44.27, 44.27,\n",
       "       44.27, 44.27, 44.27, 44.27, 44.27, 44.27, 44.27, 44.27, 44.27,\n",
       "       44.27, 44.27, 44.27, 44.27, 44.27, 44.27, 44.27, 44.27, 44.27,\n",
       "       44.27, 44.27, 44.27, 44.27, 44.27, 44.27, 44.27, 44.27, 44.27,\n",
       "       44.27, 44.27, 44.27, 44.27, 44.27, 44.27, 44.27, 44.27, 44.27,\n",
       "       44.27, 44.27, 44.27, 44.27, 44.27, 44.27, 44.27, 44.27, 44.27,\n",
       "       44.27, 44.27, 44.27, 44.27, 44.27, 44.27, 44.27, 44.27, 44.27,\n",
       "       44.27, 44.27, 44.27, 44.27, 44.27, 44.27, 44.27, 44.27, 44.27,\n",
       "       44.27, 44.27, 44.27, 44.27, 44.27, 44.27, 44.27, 44.27, 44.27,\n",
       "       44.27, 44.27, 44.27, 44.27, 44.27, 44.27, 44.27, 44.27, 44.27,\n",
       "       44.27, 44.27, 44.27, 44.27, 44.27, 44.27, 44.27, 44.27, 44.27,\n",
       "       44.27, 44.27, 44.27, 44.27, 44.27, 44.27, 44.27, 44.27, 44.27,\n",
       "       44.27, 44.27, 44.27, 44.27, 44.27, 44.27, 44.27, 44.27, 44.27,\n",
       "       44.27, 44.27, 44.27, 44.27, 44.27, 44.27, 44.27, 44.27, 44.27,\n",
       "       44.27, 44.27, 44.27, 44.27, 44.27, 44.27, 44.27, 44.27, 44.27,\n",
       "       44.27, 44.27, 44.27, 44.27, 44.27, 44.27, 44.27, 44.27, 44.27,\n",
       "       44.27, 44.27, 44.27, 44.27, 44.27, 44.27, 44.27, 44.27, 44.27,\n",
       "       44.27, 44.27, 44.27, 44.27, 44.27, 44.27, 44.27, 44.27, 44.27,\n",
       "       44.27, 44.27, 44.27, 44.27, 44.27])"
      ]
     },
     "execution_count": 20,
     "metadata": {},
     "output_type": "execute_result"
    }
   ],
   "source": [
    "arima.predict(n_periods=test.shape[0])"
   ]
  },
  {
   "cell_type": "code",
   "execution_count": 21,
   "metadata": {},
   "outputs": [
    {
     "data": {
      "text/plain": [
       "<AxesSubplot:xlabel='Timestamp'>"
      ]
     },
     "execution_count": 21,
     "metadata": {},
     "output_type": "execute_result"
    },
    {
     "data": {
      "image/png": "[encoded data removed]",
      "text/plain": [
       "<Figure size 432x288 with 1 Axes>"
      ]
     },
     "metadata": {
      "needs_background": "light"
     },
     "output_type": "display_data"
    }
   ],
   "source": [
    "spot2 = np.log(spot).diff()\n",
    "spot2.plot()"
   ]
  },
  {
   "cell_type": "code",
   "execution_count": 22,
   "metadata": {},
   "outputs": [
    {
     "data": {
      "text/plain": [
       "count    986.000000\n",
       "mean       0.001063\n",
       "std        0.050182\n",
       "min       -0.297136\n",
       "25%       -0.022791\n",
       "50%        0.004092\n",
       "75%        0.027451\n",
       "max        0.313519\n",
       "Name: LCOc1, dtype: float64"
      ]
     },
     "execution_count": 22,
     "metadata": {},
     "output_type": "execute_result"
    }
   ],
   "source": [
    "#statistics\n",
    "\n",
    "#mean\n",
    "#sd\n",
    "#skewness\n",
    "#kurtosis\n",
    "#jb test\n",
    "#Ljung Box Q(6) and Q^2(6)\n",
    "#observations\n",
    "\n",
    "spot2.describe()\n",
    "#spot.dropna().describe()"
   ]
  },
  {
   "cell_type": "code",
   "execution_count": 23,
   "metadata": {},
   "outputs": [
    {
     "name": "stdout",
     "output_type": "stream",
     "text": [
      "Skewness spot: -0.44332263941240574\n",
      "Kurtosis spot: 8.79092208295886\n",
      "JB spot: Jarque_beraResult(statistic=1410.0177318109927, pvalue=0.0)\n",
      "Q(6) spot:     lb_stat  lb_pvalue\n",
      "6  8.970665   0.175235\n"
     ]
    }
   ],
   "source": [
    "print(\"Skewness spot:\", scipy.stats.skew(spot2.dropna(), axis=0, bias=True))\n",
    "#print(\"Skewness logs:\", scipy.stats.skew(np.log(spot2.dropna()), axis=0, bias=True))\n",
    "print(\"Kurtosis spot:\", scipy.stats.kurtosis(spot2.dropna(), axis=0, fisher=False, bias=True))\n",
    "#print(\"Kurtosis logs:\", scipy.stats.kurtosis(np.log(spot2.dropna()), fisher=False, axis=0, bias=True))\n",
    "\n",
    "print(\"JB spot:\", scipy.stats.jarque_bera(spot2.dropna()))\n",
    "#print(\"JB logs:\", scipy.stats.jarque_bera(np.log(spot2.dropna())))\n",
    "#The Jarque-Bera Test is typically used for large datasets (n > 2000) in which other normality tests (like the Shapiro-Wilk test) are unreliable.\n",
    "\n",
    "print(\"Q(6) spot:\", sm.stats.acorr_ljungbox(spot2.dropna(), lags=[6]))\n",
    "#print(\"Q(6) logs:\", sm.stats.acorr_ljungbox(np.log(spot2.dropna()), lags=[6]))"
   ]
  },
  {
   "cell_type": "code",
   "execution_count": 24,
   "metadata": {},
   "outputs": [
    {
     "name": "stdout",
     "output_type": "stream",
     "text": [
      "ADF spot: (-8.773512840187045, 2.484162309639614e-14, 11, 974, {'1%': -3.437081640468809, '5%': -2.864511960193817, '10%': -2.568352427087857}, -3022.984856839601)\n",
      "PP spot:      Phillips-Perron Test (Z-tau)    \n",
      "=====================================\n",
      "Test Statistic                -31.047\n",
      "P-value                         0.000\n",
      "Lags                               22\n",
      "-------------------------------------\n",
      "\n",
      "Trend: Constant\n",
      "Critical Values: -3.44 (1%), -2.86 (5%), -2.57 (10%)\n",
      "Null Hypothesis: The process contains a unit root.\n",
      "Alternative Hypothesis: The process is weakly stationary.\n"
     ]
    }
   ],
   "source": [
    "#stationarity\n",
    "\n",
    "#augmented Dickie-Fuller\n",
    "#PP test - Phillips and Perron\n",
    "#KPSS\n",
    "\n",
    "print(\"ADF spot:\", adfuller(spot2.dropna()))\n",
    "#print(\"ADF logs:\", adfuller(np.log(spot2.dropna())))\n",
    "\n",
    "print(\"PP spot:\", PhillipsPerron(spot2.dropna()).summary().as_text())\n",
    "#print(\"PP logs:\", PhillipsPerron(np.log(spot2.dropna())).summary().as_text())"
   ]
  },
  {
   "cell_type": "code",
   "execution_count": 25,
   "metadata": {},
   "outputs": [
    {
     "name": "stdout",
     "output_type": "stream",
     "text": [
      "KPSS spot:     KPSS Stationarity Test Results   \n",
      "=====================================\n",
      "Test Statistic                  0.115\n",
      "P-value                         0.515\n",
      "Lags                                6\n",
      "-------------------------------------\n",
      "\n",
      "Trend: Constant\n",
      "Critical Values: 0.74 (1%), 0.46 (5%), 0.35 (10%)\n",
      "Null Hypothesis: The process is weakly stationary.\n",
      "Alternative Hypothesis: The process contains a unit root.\n"
     ]
    }
   ],
   "source": [
    "print(\"KPSS spot:\", KPSS(spot2.dropna()).summary().as_text())\n",
    "#print(\"KPSS logs:\", KPSS(np.log(spot2.dropna())).summary().as_text())"
   ]
  },
  {
   "cell_type": "code",
   "execution_count": 26,
   "metadata": {},
   "outputs": [
    {
     "name": "stdout",
     "output_type": "stream",
     "text": [
      "ACF and PACF spot:\n"
     ]
    },
    {
     "name": "stderr",
     "output_type": "stream",
     "text": [
      "c:\\Users\\tatuh\\anaconda3\\lib\\site-packages\\statsmodels\\graphics\\tsaplots.py:348: FutureWarning: The default method 'yw' can produce PACF values outside of the [-1,1] interval. After 0.13, the default will change tounadjusted Yule-Walker ('ywm'). You can use this method now by setting method='ywm'.\n",
      "  warnings.warn(\n"
     ]
    },
    {
     "data": {
      "image/png": "[encoded data removed]",
      "text/plain": [
       "<Figure size 432x288 with 1 Axes>"
      ]
     },
     "execution_count": 26,
     "metadata": {},
     "output_type": "execute_result"
    },
    {
     "data": {
      "image/png": "[encoded data removed]",
      "text/plain": [
       "<Figure size 432x288 with 1 Axes>"
      ]
     },
     "metadata": {
      "needs_background": "light"
     },
     "output_type": "display_data"
    },
    {
     "data": {
      "image/png": "[encoded data removed]",
      "text/plain": [
       "<Figure size 432x288 with 1 Axes>"
      ]
     },
     "metadata": {
      "needs_background": "light"
     },
     "output_type": "display_data"
    }
   ],
   "source": [
    "#ACF and PACF\n",
    "\n",
    "print(\"ACF and PACF spot:\")\n",
    "plot_acf(spot2.dropna(), lags = 15)\n",
    "plot_pacf(spot2.dropna(), lags = 15)\n",
    "\n",
    "\n",
    "#print(\"ACF and PACF logs:\")\n",
    "#plot_acf(np.log(spot2.dropna()), lags = 15)\n",
    "#plot_pacf(np.log(spot2.dropna()), lags = 15)\n"
   ]
  },
  {
   "cell_type": "code",
   "execution_count": 27,
   "metadata": {},
   "outputs": [
    {
     "data": {
      "text/plain": [
       "<AxesSubplot:>"
      ]
     },
     "execution_count": 27,
     "metadata": {},
     "output_type": "execute_result"
    },
    {
     "data": {
      "image/png": "[encoded data removed]",
      "text/plain": [
       "<Figure size 432x288 with 1 Axes>"
      ]
     },
     "metadata": {
      "needs_background": "light"
     },
     "output_type": "display_data"
    }
   ],
   "source": [
    "spot2.hist()\n"
   ]
  },
  {
   "cell_type": "code",
   "execution_count": 28,
   "metadata": {},
   "outputs": [],
   "source": [
    "# Load the data and split it into separate pieces\n",
    "data2 = np.array(spot2.dropna())\n",
    "train2, test2 = model_selection.train_test_split(data2, train_size=(spot2.shape[0]*2//3))"
   ]
  },
  {
   "cell_type": "code",
   "execution_count": 29,
   "metadata": {},
   "outputs": [
    {
     "name": "stdout",
     "output_type": "stream",
     "text": [
      "Performing stepwise search to minimize aic\n",
      " ARIMA(2,0,2)(0,0,0)[0]             : AIC=-2178.475, Time=0.06 sec\n",
      " ARIMA(0,0,0)(0,0,0)[0]             : AIC=-2181.351, Time=0.04 sec\n",
      " ARIMA(1,0,0)(0,0,0)[0]             : AIC=-2179.805, Time=0.09 sec\n",
      " ARIMA(0,0,1)(0,0,0)[0]             : AIC=-2179.760, Time=0.03 sec\n",
      " ARIMA(1,0,1)(0,0,0)[0]             : AIC=-2177.644, Time=0.04 sec\n",
      " ARIMA(0,0,0)(0,0,0)[0] intercept   : AIC=-2179.510, Time=0.07 sec\n",
      "\n",
      "Best model:  ARIMA(0,0,0)(0,0,0)[0]          \n",
      "Total fit time: 0.345 seconds\n"
     ]
    },
    {
     "data": {
      "image/png": "[encoded data removed]",
      "text/plain": [
       "<Figure size 432x288 with 1 Axes>"
      ]
     },
     "metadata": {
      "needs_background": "light"
     },
     "output_type": "display_data"
    }
   ],
   "source": [
    "# Fit a simple auto_arima model\n",
    "arima2 = pm.auto_arima(train2, error_action='ignore', trace=True,\n",
    "                      suppress_warnings=True, maxiter=5,\n",
    "                      seasonal=False)\n",
    "\n",
    "#arima = pm.auto_arima(train, error_action='ignore', trace=True,\n",
    "                      #suppress_warnings=True, maxiter=5,\n",
    "                      #seasonal=True, m=12)\n",
    "\n",
    "# #############################################################################\n",
    "# Plot actual test vs. forecasts:\n",
    "x2 = np.arange(test2.shape[0])\n",
    "plt.scatter(x2, test2, marker='x')\n",
    "plt.plot(x2, arima2.predict(n_periods=test2.shape[0]))\n",
    "plt.title('Actual test samples vs. forecasts')\n",
    "plt.show()"
   ]
  },
  {
   "cell_type": "code",
   "execution_count": 30,
   "metadata": {},
   "outputs": [
    {
     "data": {
      "text/html": [
       "<table class=\"simpletable\">\n",
       "<caption>SARIMAX Results</caption>\n",
       "<tr>\n",
       "  <th>Dep. Variable:</th>           <td>y</td>        <th>  No. Observations:  </th>    <td>658</td>   \n",
       "</tr>\n",
       "<tr>\n",
       "  <th>Model:</th>                <td>SARIMAX</td>     <th>  Log Likelihood     </th> <td>1091.676</td> \n",
       "</tr>\n",
       "<tr>\n",
       "  <th>Date:</th>            <td>Wed, 28 Dec 2022</td> <th>  AIC                </th> <td>-2181.351</td>\n",
       "</tr>\n",
       "<tr>\n",
       "  <th>Time:</th>                <td>13:02:13</td>     <th>  BIC                </th> <td>-2176.862</td>\n",
       "</tr>\n",
       "<tr>\n",
       "  <th>Sample:</th>                  <td>0</td>        <th>  HQIC               </th> <td>-2179.611</td>\n",
       "</tr>\n",
       "<tr>\n",
       "  <th></th>                      <td> - 658</td>      <th>                     </th>     <td> </td>    \n",
       "</tr>\n",
       "<tr>\n",
       "  <th>Covariance Type:</th>        <td>opg</td>       <th>                     </th>     <td> </td>    \n",
       "</tr>\n",
       "</table>\n",
       "<table class=\"simpletable\">\n",
       "<tr>\n",
       "     <td></td>       <th>coef</th>     <th>std err</th>      <th>z</th>      <th>P>|z|</th>  <th>[0.025</th>    <th>0.975]</th>  \n",
       "</tr>\n",
       "<tr>\n",
       "  <th>sigma2</th> <td>    0.0021</td> <td> 6.87e-05</td> <td>   30.861</td> <td> 0.000</td> <td>    0.002</td> <td>    0.002</td>\n",
       "</tr>\n",
       "</table>\n",
       "<table class=\"simpletable\">\n",
       "<tr>\n",
       "  <th>Ljung-Box (L1) (Q):</th>     <td>0.46</td> <th>  Jarque-Bera (JB):  </th> <td>445.96</td>\n",
       "</tr>\n",
       "<tr>\n",
       "  <th>Prob(Q):</th>                <td>0.50</td> <th>  Prob(JB):          </th>  <td>0.00</td> \n",
       "</tr>\n",
       "<tr>\n",
       "  <th>Heteroskedasticity (H):</th> <td>0.97</td> <th>  Skew:              </th>  <td>-0.63</td>\n",
       "</tr>\n",
       "<tr>\n",
       "  <th>Prob(H) (two-sided):</th>    <td>0.83</td> <th>  Kurtosis:          </th>  <td>6.83</td> \n",
       "</tr>\n",
       "</table><br/><br/>Warnings:<br/>[1] Covariance matrix calculated using the outer product of gradients (complex-step)."
      ],
      "text/plain": [
       "<class 'statsmodels.iolib.summary.Summary'>\n",
       "\"\"\"\n",
       "                               SARIMAX Results                                \n",
       "==============================================================================\n",
       "Dep. Variable:                      y   No. Observations:                  658\n",
       "Model:                        SARIMAX   Log Likelihood                1091.676\n",
       "Date:                Wed, 28 Dec 2022   AIC                          -2181.351\n",
       "Time:                        13:02:13   BIC                          -2176.862\n",
       "Sample:                             0   HQIC                         -2179.611\n",
       "                                - 658                                         \n",
       "Covariance Type:                  opg                                         \n",
       "==============================================================================\n",
       "                 coef    std err          z      P>|z|      [0.025      0.975]\n",
       "------------------------------------------------------------------------------\n",
       "sigma2         0.0021   6.87e-05     30.861      0.000       0.002       0.002\n",
       "===================================================================================\n",
       "Ljung-Box (L1) (Q):                   0.46   Jarque-Bera (JB):               445.96\n",
       "Prob(Q):                              0.50   Prob(JB):                         0.00\n",
       "Heteroskedasticity (H):               0.97   Skew:                            -0.63\n",
       "Prob(H) (two-sided):                  0.83   Kurtosis:                         6.83\n",
       "===================================================================================\n",
       "\n",
       "Warnings:\n",
       "[1] Covariance matrix calculated using the outer product of gradients (complex-step).\n",
       "\"\"\""
      ]
     },
     "execution_count": 30,
     "metadata": {},
     "output_type": "execute_result"
    }
   ],
   "source": [
    "arima2.summary()"
   ]
  },
  {
   "cell_type": "code",
   "execution_count": 31,
   "metadata": {},
   "outputs": [
    {
     "data": {
      "text/plain": [
       "[<matplotlib.lines.Line2D at 0x1fdc4d347f0>]"
      ]
     },
     "execution_count": 31,
     "metadata": {},
     "output_type": "execute_result"
    },
    {
     "data": {
      "image/png": "[encoded data removed]",
      "text/plain": [
       "<Figure size 432x288 with 1 Axes>"
      ]
     },
     "metadata": {
      "needs_background": "light"
     },
     "output_type": "display_data"
    }
   ],
   "source": [
    "plt.plot(x2, arima2.predict(n_periods=test2.shape[0]))"
   ]
  },
  {
   "cell_type": "code",
   "execution_count": 32,
   "metadata": {},
   "outputs": [
    {
     "data": {
      "text/plain": [
       "array([0., 0., 0., 0., 0., 0., 0., 0., 0., 0., 0., 0., 0., 0., 0., 0., 0.,\n",
       "       0., 0., 0., 0., 0., 0., 0., 0., 0., 0., 0., 0., 0., 0., 0., 0., 0.,\n",
       "       0., 0., 0., 0., 0., 0., 0., 0., 0., 0., 0., 0., 0., 0., 0., 0., 0.,\n",
       "       0., 0., 0., 0., 0., 0., 0., 0., 0., 0., 0., 0., 0., 0., 0., 0., 0.,\n",
       "       0., 0., 0., 0., 0., 0., 0., 0., 0., 0., 0., 0., 0., 0., 0., 0., 0.,\n",
       "       0., 0., 0., 0., 0., 0., 0., 0., 0., 0., 0., 0., 0., 0., 0., 0., 0.,\n",
       "       0., 0., 0., 0., 0., 0., 0., 0., 0., 0., 0., 0., 0., 0., 0., 0., 0.,\n",
       "       0., 0., 0., 0., 0., 0., 0., 0., 0., 0., 0., 0., 0., 0., 0., 0., 0.,\n",
       "       0., 0., 0., 0., 0., 0., 0., 0., 0., 0., 0., 0., 0., 0., 0., 0., 0.,\n",
       "       0., 0., 0., 0., 0., 0., 0., 0., 0., 0., 0., 0., 0., 0., 0., 0., 0.,\n",
       "       0., 0., 0., 0., 0., 0., 0., 0., 0., 0., 0., 0., 0., 0., 0., 0., 0.,\n",
       "       0., 0., 0., 0., 0., 0., 0., 0., 0., 0., 0., 0., 0., 0., 0., 0., 0.,\n",
       "       0., 0., 0., 0., 0., 0., 0., 0., 0., 0., 0., 0., 0., 0., 0., 0., 0.,\n",
       "       0., 0., 0., 0., 0., 0., 0., 0., 0., 0., 0., 0., 0., 0., 0., 0., 0.,\n",
       "       0., 0., 0., 0., 0., 0., 0., 0., 0., 0., 0., 0., 0., 0., 0., 0., 0.,\n",
       "       0., 0., 0., 0., 0., 0., 0., 0., 0., 0., 0., 0., 0., 0., 0., 0., 0.,\n",
       "       0., 0., 0., 0., 0., 0., 0., 0., 0., 0., 0., 0., 0., 0., 0., 0., 0.,\n",
       "       0., 0., 0., 0., 0., 0., 0., 0., 0., 0., 0., 0., 0., 0., 0., 0., 0.,\n",
       "       0., 0., 0., 0., 0., 0., 0., 0., 0., 0., 0., 0., 0., 0., 0., 0., 0.,\n",
       "       0., 0., 0., 0., 0.])"
      ]
     },
     "execution_count": 32,
     "metadata": {},
     "output_type": "execute_result"
    }
   ],
   "source": [
    "arima2.predict(n_periods=test2.shape[0])"
   ]
  },
  {
   "cell_type": "code",
   "execution_count": null,
   "metadata": {},
   "outputs": [],
   "source": [
    "#cointegration tests\n",
    "\n",
    "#normalized cv\n",
    "#LR test"
   ]
  },
  {
   "cell_type": "code",
   "execution_count": null,
   "metadata": {},
   "outputs": [],
   "source": [
    "#correlaatiomatriisi"
   ]
  },
  {
   "cell_type": "code",
   "execution_count": null,
   "metadata": {},
   "outputs": [],
   "source": [
    "#np.argwhere(np.isnan(x))"
   ]
  }
 ],
 "metadata": {
  "kernelspec": {
   "display_name": "Python 3.9.7 ('base')",
   "language": "python",
   "name": "python3"
  },
  "language_info": {
   "codemirror_mode": {
    "name": "ipython",
    "version": 3
   },
   "file_extension": ".py",
   "mimetype": "text/x-python",
   "name": "python",
   "nbconvert_exporter": "python",
   "pygments_lexer": "ipython3",
   "version": "3.9.7 (default, Sep 16 2021, 16:59:28) [MSC v.1916 64 bit (AMD64)]"
  },
  "orig_nbformat": 4,
  "vscode": {
   "interpreter": {
    "hash": "4166284f6c1be268893ecc7e1723c4ee59a7af301dc502cec5768712e1b57cd0"
   }
  }
 },
 "nbformat": 4,
 "nbformat_minor": 2
}
