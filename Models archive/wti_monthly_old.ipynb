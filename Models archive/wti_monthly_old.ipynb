{
 "cells": [
  {
   "cell_type": "code",
   "execution_count": 1,
   "metadata": {},
   "outputs": [],
   "source": [
    "# Start loading libraries\n",
    "\n",
    "#! pip install yfinance\n",
    "\n",
    "import matplotlib.pyplot as plt\n",
    "import numpy as np\n",
    "import pandas as pd\n",
    "import seaborn as sns\n",
    "\n",
    "#! pip install pmdarima\n",
    "import pmdarima as pm\n",
    "from pmdarima import model_selection\n",
    "\n",
    "import scipy\n",
    "import statsmodels.api as sm\n",
    "from statsmodels.tsa.stattools import adfuller\n",
    "from arch.unitroot import PhillipsPerron\n",
    "from arch.unitroot import KPSS\n",
    "\n",
    "from statsmodels.graphics.tsaplots import plot_pacf\n",
    "from statsmodels.graphics.tsaplots import plot_acf\n",
    "#from statsmodels.graphics.tsaplots import plot_acf\n",
    "\n",
    "#from matplotlib.ticker import NullFormatter\n",
    "#import yfinance as yf\n",
    "#import warnings; warnings.simplefilter('ignore')\n",
    "#%matplotlib inline"
   ]
  },
  {
   "cell_type": "code",
   "execution_count": 2,
   "metadata": {},
   "outputs": [
    {
     "data": {
      "text/html": [
       "<div>\n",
       "<style scoped>\n",
       "    .dataframe tbody tr th:only-of-type {\n",
       "        vertical-align: middle;\n",
       "    }\n",
       "\n",
       "    .dataframe tbody tr th {\n",
       "        vertical-align: top;\n",
       "    }\n",
       "\n",
       "    .dataframe thead th {\n",
       "        text-align: right;\n",
       "    }\n",
       "</style>\n",
       "<table border=\"1\" class=\"dataframe\">\n",
       "  <thead>\n",
       "    <tr style=\"text-align: right;\">\n",
       "      <th></th>\n",
       "      <th>CLc1</th>\n",
       "      <th>CLc3</th>\n",
       "      <th>CLc6</th>\n",
       "      <th>CLc9</th>\n",
       "      <th>CLc12</th>\n",
       "    </tr>\n",
       "    <tr>\n",
       "      <th>Timestamp</th>\n",
       "      <th></th>\n",
       "      <th></th>\n",
       "      <th></th>\n",
       "      <th></th>\n",
       "      <th></th>\n",
       "    </tr>\n",
       "  </thead>\n",
       "  <tbody>\n",
       "    <tr>\n",
       "      <th>1983-03-31</th>\n",
       "      <td>29.27</td>\n",
       "      <td>29.05</td>\n",
       "      <td>28.75</td>\n",
       "      <td>NaN</td>\n",
       "      <td>NaN</td>\n",
       "    </tr>\n",
       "    <tr>\n",
       "      <th>1983-04-30</th>\n",
       "      <td>30.63</td>\n",
       "      <td>30.57</td>\n",
       "      <td>30.65</td>\n",
       "      <td>NaN</td>\n",
       "      <td>NaN</td>\n",
       "    </tr>\n",
       "    <tr>\n",
       "      <th>1983-05-31</th>\n",
       "      <td>30.25</td>\n",
       "      <td>30.05</td>\n",
       "      <td>29.80</td>\n",
       "      <td>NaN</td>\n",
       "      <td>NaN</td>\n",
       "    </tr>\n",
       "    <tr>\n",
       "      <th>1983-06-30</th>\n",
       "      <td>31.38</td>\n",
       "      <td>31.21</td>\n",
       "      <td>30.97</td>\n",
       "      <td>NaN</td>\n",
       "      <td>NaN</td>\n",
       "    </tr>\n",
       "    <tr>\n",
       "      <th>1983-07-31</th>\n",
       "      <td>32.00</td>\n",
       "      <td>31.87</td>\n",
       "      <td>31.65</td>\n",
       "      <td>NaN</td>\n",
       "      <td>NaN</td>\n",
       "    </tr>\n",
       "  </tbody>\n",
       "</table>\n",
       "</div>"
      ],
      "text/plain": [
       "             CLc1   CLc3   CLc6  CLc9  CLc12\n",
       "Timestamp                                   \n",
       "1983-03-31  29.27  29.05  28.75   NaN    NaN\n",
       "1983-04-30  30.63  30.57  30.65   NaN    NaN\n",
       "1983-05-31  30.25  30.05  29.80   NaN    NaN\n",
       "1983-06-30  31.38  31.21  30.97   NaN    NaN\n",
       "1983-07-31  32.00  31.87  31.65   NaN    NaN"
      ]
     },
     "execution_count": 2,
     "metadata": {},
     "output_type": "execute_result"
    }
   ],
   "source": [
    "xls_file = pd.ExcelFile(\"Data_monthly_final.xlsx\") # Read Excel\n",
    "df1=xls_file.parse(\"WTI\") # Read the first sheet (Portfolio holdings)\n",
    "\n",
    "#df1[\"Timestamp\"] = df1[\"Date\"].astype('datetime64[ns]') # Convert column to date format\n",
    "df1 = df1.set_index(['Timestamp']) # use first column as index\n",
    "\n",
    "#df1.to_excel(\"values.xlsx\")  #print to excel\n",
    "\n",
    "\n",
    "df1.head()"
   ]
  },
  {
   "cell_type": "code",
   "execution_count": 3,
   "metadata": {},
   "outputs": [
    {
     "data": {
      "text/plain": [
       "<AxesSubplot:xlabel='Timestamp'>"
      ]
     },
     "execution_count": 3,
     "metadata": {},
     "output_type": "execute_result"
    },
    {
     "data": {
      "image/png": "[encoded data removed]",
      "text/plain": [
       "<Figure size 432x288 with 1 Axes>"
      ]
     },
     "metadata": {
      "needs_background": "light"
     },
     "output_type": "display_data"
    }
   ],
   "source": [
    "spot = df1[\"CLc1\"]\n",
    "#spot = np.log(spot).diff()\n",
    "spot.plot()"
   ]
  },
  {
   "cell_type": "code",
   "execution_count": 4,
   "metadata": {},
   "outputs": [
    {
     "data": {
      "text/plain": [
       "count    478.000000\n",
       "mean      44.985314\n",
       "std       28.912733\n",
       "min       10.420000\n",
       "25%       20.300000\n",
       "50%       31.290000\n",
       "75%       65.830000\n",
       "max      140.000000\n",
       "Name: CLc1, dtype: float64"
      ]
     },
     "execution_count": 4,
     "metadata": {},
     "output_type": "execute_result"
    }
   ],
   "source": [
    "#statistics\n",
    "\n",
    "#mean\n",
    "#sd\n",
    "#skewness\n",
    "#kurtosis\n",
    "#jb test\n",
    "#Ljung Box Q(6) and Q^2(6)\n",
    "#observations\n",
    "\n",
    "spot.describe()\n",
    "#spot.dropna().describe()"
   ]
  },
  {
   "cell_type": "code",
   "execution_count": 5,
   "metadata": {},
   "outputs": [
    {
     "name": "stdout",
     "output_type": "stream",
     "text": [
      "Skewness spot: 0.8448308154345094\n",
      "Skewness logs: 0.185054122656068\n",
      "Kurtosis spot: 2.5708182211237873\n",
      "Kurtosis logs: 1.7244953137674275\n",
      "JB spot: Jarque_beraResult(statistic=60.52980573749357, pvalue=7.183142969324763e-14)\n",
      "JB logs: Jarque_beraResult(statistic=35.13085533049819, pvalue=2.3519695413476427e-08)\n",
      "Q(6) spot:       lb_stat  lb_pvalue\n",
      "6  2479.58822        0.0\n",
      "Q(6) logs:        lb_stat  lb_pvalue\n",
      "6  2574.453403        0.0\n"
     ]
    }
   ],
   "source": [
    "print(\"Skewness spot:\", scipy.stats.skew(spot.dropna(), axis=0, bias=True))\n",
    "print(\"Skewness logs:\", scipy.stats.skew(np.log(spot.dropna()), axis=0, bias=True))\n",
    "print(\"Kurtosis spot:\", scipy.stats.kurtosis(spot.dropna(), axis=0, fisher=False, bias=True))\n",
    "print(\"Kurtosis logs:\", scipy.stats.kurtosis(np.log(spot.dropna()), fisher=False, axis=0, bias=True))\n",
    "\n",
    "print(\"JB spot:\", scipy.stats.jarque_bera(spot.dropna()))\n",
    "print(\"JB logs:\", scipy.stats.jarque_bera(np.log(spot.dropna())))\n",
    "#The Jarque-Bera Test is typically used for large datasets (n > 2000) in which other normality tests (like the Shapiro-Wilk test) are unreliable.\n",
    "\n",
    "print(\"Q(6) spot:\", sm.stats.acorr_ljungbox(spot.dropna(), lags=[6]))\n",
    "print(\"Q(6) logs:\", sm.stats.acorr_ljungbox(np.log(spot.dropna()), lags=[6]))"
   ]
  },
  {
   "cell_type": "code",
   "execution_count": 6,
   "metadata": {},
   "outputs": [
    {
     "name": "stdout",
     "output_type": "stream",
     "text": [
      "ADF spot: (-2.213825298679383, 0.20126599039858456, 1, 476, {'1%': -3.444162847239118, '5%': -2.8676311169658177, '10%': -2.5700143303792107}, 2777.39667113665)\n",
      "ADF logs: (-1.5066481588628446, 0.5302200636738359, 4, 473, {'1%': -3.444250937448703, '5%': -2.867669873870454, '10%': -2.5700349866579657}, -758.6235775092598)\n",
      "PP spot:      Phillips-Perron Test (Z-tau)    \n",
      "=====================================\n",
      "Test Statistic                 -1.737\n",
      "P-value                         0.412\n",
      "Lags                               18\n",
      "-------------------------------------\n",
      "\n",
      "Trend: Constant\n",
      "Critical Values: -3.44 (1%), -2.87 (5%), -2.57 (10%)\n",
      "Null Hypothesis: The process contains a unit root.\n",
      "Alternative Hypothesis: The process is weakly stationary.\n",
      "PP logs:      Phillips-Perron Test (Z-tau)    \n",
      "=====================================\n",
      "Test Statistic                 -1.431\n",
      "P-value                         0.567\n",
      "Lags                               18\n",
      "-------------------------------------\n",
      "\n",
      "Trend: Constant\n",
      "Critical Values: -3.44 (1%), -2.87 (5%), -2.57 (10%)\n",
      "Null Hypothesis: The process contains a unit root.\n",
      "Alternative Hypothesis: The process is weakly stationary.\n"
     ]
    }
   ],
   "source": [
    "#stationarity\n",
    "\n",
    "#augmented Dickie-Fuller\n",
    "#PP test - Phillips and Perron\n",
    "#KPSS\n",
    "\n",
    "print(\"ADF spot:\", adfuller(spot.dropna()))\n",
    "print(\"ADF logs:\", adfuller(np.log(spot.dropna())))\n",
    "\n",
    "print(\"PP spot:\", PhillipsPerron(spot.dropna()).summary().as_text())\n",
    "print(\"PP logs:\", PhillipsPerron(np.log(spot.dropna())).summary().as_text())\n",
    "\n"
   ]
  },
  {
   "cell_type": "code",
   "execution_count": 7,
   "metadata": {},
   "outputs": [
    {
     "name": "stdout",
     "output_type": "stream",
     "text": [
      "KPSS spot:     KPSS Stationarity Test Results   \n",
      "=====================================\n",
      "Test Statistic                  2.402\n",
      "P-value                         0.000\n",
      "Lags                               12\n",
      "-------------------------------------\n",
      "\n",
      "Trend: Constant\n",
      "Critical Values: 0.74 (1%), 0.46 (5%), 0.35 (10%)\n",
      "Null Hypothesis: The process is weakly stationary.\n",
      "Alternative Hypothesis: The process contains a unit root.\n",
      "KPSS logs:     KPSS Stationarity Test Results   \n",
      "=====================================\n",
      "Test Statistic                  2.707\n",
      "P-value                         0.000\n",
      "Lags                               12\n",
      "-------------------------------------\n",
      "\n",
      "Trend: Constant\n",
      "Critical Values: 0.74 (1%), 0.46 (5%), 0.35 (10%)\n",
      "Null Hypothesis: The process is weakly stationary.\n",
      "Alternative Hypothesis: The process contains a unit root.\n"
     ]
    }
   ],
   "source": [
    "\n",
    "print(\"KPSS spot:\", KPSS(spot.dropna()).summary().as_text())\n",
    "print(\"KPSS logs:\", KPSS(np.log(spot.dropna())).summary().as_text())"
   ]
  },
  {
   "cell_type": "code",
   "execution_count": 8,
   "metadata": {},
   "outputs": [
    {
     "name": "stdout",
     "output_type": "stream",
     "text": [
      "ACF and PACF spot:\n",
      "ACF and PACF logs:\n"
     ]
    },
    {
     "name": "stderr",
     "output_type": "stream",
     "text": [
      "c:\\Users\\tatuh\\anaconda3\\lib\\site-packages\\statsmodels\\graphics\\tsaplots.py:348: FutureWarning: The default method 'yw' can produce PACF values outside of the [-1,1] interval. After 0.13, the default will change tounadjusted Yule-Walker ('ywm'). You can use this method now by setting method='ywm'.\n",
      "  warnings.warn(\n",
      "c:\\Users\\tatuh\\anaconda3\\lib\\site-packages\\statsmodels\\graphics\\tsaplots.py:348: FutureWarning: The default method 'yw' can produce PACF values outside of the [-1,1] interval. After 0.13, the default will change tounadjusted Yule-Walker ('ywm'). You can use this method now by setting method='ywm'.\n",
      "  warnings.warn(\n"
     ]
    },
    {
     "data": {
      "image/png": "[encoded data removed]",
      "text/plain": [
       "<Figure size 432x288 with 1 Axes>"
      ]
     },
     "execution_count": 8,
     "metadata": {},
     "output_type": "execute_result"
    },
    {
     "data": {
      "image/png": "[encoded data removed]",
      "text/plain": [
       "<Figure size 432x288 with 1 Axes>"
      ]
     },
     "metadata": {
      "needs_background": "light"
     },
     "output_type": "display_data"
    },
    {
     "data": {
      "image/png": "[encoded data removed]",
      "text/plain": [
       "<Figure size 432x288 with 1 Axes>"
      ]
     },
     "metadata": {
      "needs_background": "light"
     },
     "output_type": "display_data"
    },
    {
     "data": {
      "image/png": "[encoded data removed]",
      "text/plain": [
       "<Figure size 432x288 with 1 Axes>"
      ]
     },
     "metadata": {
      "needs_background": "light"
     },
     "output_type": "display_data"
    },
    {
     "data": {
      "image/png": "[encoded data removed]",
      "text/plain": [
       "<Figure size 432x288 with 1 Axes>"
      ]
     },
     "metadata": {
      "needs_background": "light"
     },
     "output_type": "display_data"
    }
   ],
   "source": [
    "#ACF and PACF\n",
    "\n",
    "print(\"ACF and PACF spot:\")\n",
    "plot_acf(spot.dropna(), lags = 15)\n",
    "plot_pacf(spot.dropna(), lags = 15)\n",
    "\n",
    "\n",
    "print(\"ACF and PACF logs:\")\n",
    "plot_acf(np.log(spot.dropna()), lags = 15)\n",
    "plot_pacf(np.log(spot.dropna()), lags = 15)\n",
    "\n"
   ]
  },
  {
   "cell_type": "code",
   "execution_count": 9,
   "metadata": {},
   "outputs": [
    {
     "data": {
      "text/plain": [
       "0.6782943507735172"
      ]
     },
     "execution_count": 9,
     "metadata": {},
     "output_type": "execute_result"
    },
    {
     "data": {
      "image/png": "[encoded data removed]",
      "text/plain": [
       "<Figure size 432x288 with 1 Axes>"
      ]
     },
     "metadata": {
      "needs_background": "light"
     },
     "output_type": "display_data"
    }
   ],
   "source": [
    "spot.hist()\n",
    "0.6782943507735172"
   ]
  },
  {
   "cell_type": "code",
   "execution_count": 10,
   "metadata": {},
   "outputs": [
    {
     "data": {
      "text/plain": [
       "<AxesSubplot:>"
      ]
     },
     "execution_count": 10,
     "metadata": {},
     "output_type": "execute_result"
    },
    {
     "data": {
      "image/png": "[encoded data removed]",
      "text/plain": [
       "<Figure size 432x288 with 1 Axes>"
      ]
     },
     "metadata": {
      "needs_background": "light"
     },
     "output_type": "display_data"
    }
   ],
   "source": [
    "np.log(spot).hist()"
   ]
  },
  {
   "cell_type": "code",
   "execution_count": 11,
   "metadata": {},
   "outputs": [],
   "source": [
    "# Load the data and split it into separate pieces\n",
    "data = np.array(spot.dropna())\n",
    "train, test = model_selection.train_test_split(data, train_size=300)"
   ]
  },
  {
   "cell_type": "code",
   "execution_count": 12,
   "metadata": {},
   "outputs": [
    {
     "name": "stdout",
     "output_type": "stream",
     "text": [
      "Performing stepwise search to minimize aic\n",
      " ARIMA(2,2,2)(0,0,0)[0] intercept   : AIC=1484.613, Time=0.09 sec\n",
      " ARIMA(0,2,0)(0,0,0)[0] intercept   : AIC=1670.979, Time=0.02 sec\n",
      " ARIMA(1,2,0)(0,0,0)[0] intercept   : AIC=1605.693, Time=0.03 sec\n",
      " ARIMA(0,2,1)(0,0,0)[0] intercept   : AIC=1487.093, Time=0.06 sec\n",
      " ARIMA(0,2,0)(0,0,0)[0]             : AIC=1668.995, Time=0.02 sec\n",
      " ARIMA(1,2,2)(0,0,0)[0] intercept   : AIC=1486.190, Time=0.05 sec\n",
      " ARIMA(2,2,1)(0,0,0)[0] intercept   : AIC=1491.022, Time=0.05 sec\n",
      " ARIMA(3,2,2)(0,0,0)[0] intercept   : AIC=1488.207, Time=0.08 sec\n",
      " ARIMA(2,2,3)(0,0,0)[0] intercept   : AIC=1490.904, Time=0.06 sec\n",
      " ARIMA(1,2,1)(0,0,0)[0] intercept   : AIC=1497.344, Time=0.05 sec\n",
      " ARIMA(1,2,3)(0,0,0)[0] intercept   : AIC=1485.345, Time=0.06 sec\n",
      " ARIMA(3,2,1)(0,0,0)[0] intercept   : AIC=1500.015, Time=0.07 sec\n",
      " ARIMA(3,2,3)(0,0,0)[0] intercept   : AIC=1492.873, Time=0.07 sec\n",
      " ARIMA(2,2,2)(0,0,0)[0]             : AIC=1479.823, Time=0.05 sec\n",
      " ARIMA(1,2,2)(0,0,0)[0]             : AIC=1478.254, Time=0.04 sec\n",
      " ARIMA(0,2,2)(0,0,0)[0]             : AIC=1479.957, Time=0.03 sec\n",
      " ARIMA(1,2,1)(0,0,0)[0]             : AIC=1481.580, Time=0.03 sec\n",
      " ARIMA(1,2,3)(0,0,0)[0]             : AIC=1479.777, Time=0.05 sec\n",
      " ARIMA(0,2,1)(0,0,0)[0]             : AIC=1476.309, Time=0.03 sec\n",
      " ARIMA(1,2,0)(0,0,0)[0]             : AIC=1603.706, Time=0.02 sec\n",
      "\n",
      "Best model:  ARIMA(0,2,1)(0,0,0)[0]          \n",
      "Total fit time: 1.024 seconds\n"
     ]
    },
    {
     "data": {
      "image/png": "[encoded data removed]",
      "text/plain": [
       "<Figure size 432x288 with 1 Axes>"
      ]
     },
     "metadata": {
      "needs_background": "light"
     },
     "output_type": "display_data"
    }
   ],
   "source": [
    "# Fit a simple auto_arima model\n",
    "arima = pm.auto_arima(train, error_action='ignore', trace=True,\n",
    "                      suppress_warnings=True, maxiter=5,\n",
    "                      seasonal=False)\n",
    "\n",
    "#arima = pm.auto_arima(train, error_action='ignore', trace=True,\n",
    "                      #suppress_warnings=True, maxiter=5,\n",
    "                      #seasonal=True, m=12)\n",
    "\n",
    "# #############################################################################\n",
    "# Plot actual test vs. forecasts:\n",
    "x = np.arange(test.shape[0])\n",
    "plt.scatter(x, test, marker='x')\n",
    "plt.plot(x, arima.predict(n_periods=test.shape[0]))\n",
    "plt.title('Actual test samples vs. forecasts')\n",
    "plt.show()"
   ]
  },
  {
   "cell_type": "code",
   "execution_count": 13,
   "metadata": {},
   "outputs": [
    {
     "data": {
      "text/html": [
       "<table class=\"simpletable\">\n",
       "<caption>SARIMAX Results</caption>\n",
       "<tr>\n",
       "  <th>Dep. Variable:</th>           <td>y</td>        <th>  No. Observations:  </th>    <td>300</td>  \n",
       "</tr>\n",
       "<tr>\n",
       "  <th>Model:</th>           <td>SARIMAX(0, 2, 1)</td> <th>  Log Likelihood     </th> <td>-736.155</td>\n",
       "</tr>\n",
       "<tr>\n",
       "  <th>Date:</th>            <td>Tue, 27 Dec 2022</td> <th>  AIC                </th> <td>1476.309</td>\n",
       "</tr>\n",
       "<tr>\n",
       "  <th>Time:</th>                <td>18:36:26</td>     <th>  BIC                </th> <td>1483.703</td>\n",
       "</tr>\n",
       "<tr>\n",
       "  <th>Sample:</th>                  <td>0</td>        <th>  HQIC               </th> <td>1479.269</td>\n",
       "</tr>\n",
       "<tr>\n",
       "  <th></th>                      <td> - 300</td>      <th>                     </th>     <td> </td>   \n",
       "</tr>\n",
       "<tr>\n",
       "  <th>Covariance Type:</th>        <td>opg</td>       <th>                     </th>     <td> </td>   \n",
       "</tr>\n",
       "</table>\n",
       "<table class=\"simpletable\">\n",
       "<tr>\n",
       "     <td></td>       <th>coef</th>     <th>std err</th>      <th>z</th>      <th>P>|z|</th>  <th>[0.025</th>    <th>0.975]</th>  \n",
       "</tr>\n",
       "<tr>\n",
       "  <th>ma.L1</th>  <td>   -0.9735</td> <td>    0.013</td> <td>  -72.673</td> <td> 0.000</td> <td>   -1.000</td> <td>   -0.947</td>\n",
       "</tr>\n",
       "<tr>\n",
       "  <th>sigma2</th> <td>    8.0768</td> <td>    0.439</td> <td>   18.396</td> <td> 0.000</td> <td>    7.216</td> <td>    8.937</td>\n",
       "</tr>\n",
       "</table>\n",
       "<table class=\"simpletable\">\n",
       "<tr>\n",
       "  <th>Ljung-Box (L1) (Q):</th>     <td>0.07</td> <th>  Jarque-Bera (JB):  </th> <td>85.20</td>\n",
       "</tr>\n",
       "<tr>\n",
       "  <th>Prob(Q):</th>                <td>0.79</td> <th>  Prob(JB):          </th> <td>0.00</td> \n",
       "</tr>\n",
       "<tr>\n",
       "  <th>Heteroskedasticity (H):</th> <td>2.80</td> <th>  Skew:              </th> <td>0.31</td> \n",
       "</tr>\n",
       "<tr>\n",
       "  <th>Prob(H) (two-sided):</th>    <td>0.00</td> <th>  Kurtosis:          </th> <td>5.55</td> \n",
       "</tr>\n",
       "</table><br/><br/>Warnings:<br/>[1] Covariance matrix calculated using the outer product of gradients (complex-step)."
      ],
      "text/plain": [
       "<class 'statsmodels.iolib.summary.Summary'>\n",
       "\"\"\"\n",
       "                               SARIMAX Results                                \n",
       "==============================================================================\n",
       "Dep. Variable:                      y   No. Observations:                  300\n",
       "Model:               SARIMAX(0, 2, 1)   Log Likelihood                -736.155\n",
       "Date:                Tue, 27 Dec 2022   AIC                           1476.309\n",
       "Time:                        18:36:26   BIC                           1483.703\n",
       "Sample:                             0   HQIC                          1479.269\n",
       "                                - 300                                         \n",
       "Covariance Type:                  opg                                         \n",
       "==============================================================================\n",
       "                 coef    std err          z      P>|z|      [0.025      0.975]\n",
       "------------------------------------------------------------------------------\n",
       "ma.L1         -0.9735      0.013    -72.673      0.000      -1.000      -0.947\n",
       "sigma2         8.0768      0.439     18.396      0.000       7.216       8.937\n",
       "===================================================================================\n",
       "Ljung-Box (L1) (Q):                   0.07   Jarque-Bera (JB):                85.20\n",
       "Prob(Q):                              0.79   Prob(JB):                         0.00\n",
       "Heteroskedasticity (H):               2.80   Skew:                             0.31\n",
       "Prob(H) (two-sided):                  0.00   Kurtosis:                         5.55\n",
       "===================================================================================\n",
       "\n",
       "Warnings:\n",
       "[1] Covariance matrix calculated using the outer product of gradients (complex-step).\n",
       "\"\"\""
      ]
     },
     "execution_count": 13,
     "metadata": {},
     "output_type": "execute_result"
    }
   ],
   "source": [
    "arima.summary()"
   ]
  },
  {
   "cell_type": "code",
   "execution_count": 14,
   "metadata": {},
   "outputs": [
    {
     "data": {
      "text/plain": [
       "[<matplotlib.lines.Line2D at 0x2d1394038b0>]"
      ]
     },
     "execution_count": 14,
     "metadata": {},
     "output_type": "execute_result"
    },
    {
     "data": {
      "image/png": "[encoded data removed]",
      "text/plain": [
       "<Figure size 432x288 with 1 Axes>"
      ]
     },
     "metadata": {
      "needs_background": "light"
     },
     "output_type": "display_data"
    }
   ],
   "source": [
    "plt.plot(x, arima.predict(n_periods=test.shape[0]))"
   ]
  },
  {
   "cell_type": "code",
   "execution_count": 15,
   "metadata": {},
   "outputs": [
    {
     "data": {
      "text/plain": [
       "array([103.0767773 , 104.31355459, 105.55033189, 106.78710919,\n",
       "       108.02388648, 109.26066378, 110.49744108, 111.73421838,\n",
       "       112.97099567, 114.20777297, 115.44455027, 116.68132756,\n",
       "       117.91810486, 119.15488216, 120.39165945, 121.62843675,\n",
       "       122.86521405, 124.10199134, 125.33876864, 126.57554594,\n",
       "       127.81232324, 129.04910053, 130.28587783, 131.52265513,\n",
       "       132.75943242, 133.99620972, 135.23298702, 136.46976431,\n",
       "       137.70654161, 138.94331891, 140.1800962 , 141.4168735 ,\n",
       "       142.6536508 , 143.8904281 , 145.12720539, 146.36398269,\n",
       "       147.60075999, 148.83753728, 150.07431458, 151.31109188,\n",
       "       152.54786917, 153.78464647, 155.02142377, 156.25820106,\n",
       "       157.49497836, 158.73175566, 159.96853296, 161.20531025,\n",
       "       162.44208755, 163.67886485, 164.91564214, 166.15241944,\n",
       "       167.38919674, 168.62597403, 169.86275133, 171.09952863,\n",
       "       172.33630592, 173.57308322, 174.80986052, 176.04663782,\n",
       "       177.28341511, 178.52019241, 179.75696971, 180.993747  ,\n",
       "       182.2305243 , 183.4673016 , 184.70407889, 185.94085619,\n",
       "       187.17763349, 188.41441078, 189.65118808, 190.88796538,\n",
       "       192.12474268, 193.36151997, 194.59829727, 195.83507457,\n",
       "       197.07185186, 198.30862916, 199.54540646, 200.78218375,\n",
       "       202.01896105, 203.25573835, 204.49251564, 205.72929294,\n",
       "       206.96607024, 208.20284754, 209.43962483, 210.67640213,\n",
       "       211.91317943, 213.14995672, 214.38673402, 215.62351132,\n",
       "       216.86028861, 218.09706591, 219.33384321, 220.5706205 ,\n",
       "       221.8073978 , 223.0441751 , 224.2809524 , 225.51772969,\n",
       "       226.75450699, 227.99128429, 229.22806158, 230.46483888,\n",
       "       231.70161618, 232.93839347, 234.17517077, 235.41194807,\n",
       "       236.64872536, 237.88550266, 239.12227996, 240.35905726,\n",
       "       241.59583455, 242.83261185, 244.06938915, 245.30616644,\n",
       "       246.54294374, 247.77972104, 249.01649833, 250.25327563,\n",
       "       251.49005293, 252.72683022, 253.96360752, 255.20038482,\n",
       "       256.43716212, 257.67393941, 258.91071671, 260.14749401,\n",
       "       261.3842713 , 262.6210486 , 263.8578259 , 265.09460319,\n",
       "       266.33138049, 267.56815779, 268.80493508, 270.04171238,\n",
       "       271.27848968, 272.51526698, 273.75204427, 274.98882157,\n",
       "       276.22559887, 277.46237616, 278.69915346, 279.93593076,\n",
       "       281.17270805, 282.40948535, 283.64626265, 284.88303994,\n",
       "       286.11981724, 287.35659454, 288.59337184, 289.83014913,\n",
       "       291.06692643, 292.30370373, 293.54048102, 294.77725832,\n",
       "       296.01403562, 297.25081291, 298.48759021, 299.72436751,\n",
       "       300.9611448 , 302.1979221 , 303.4346994 , 304.6714767 ,\n",
       "       305.90825399, 307.14503129, 308.38180859, 309.61858588,\n",
       "       310.85536318, 312.09214048, 313.32891777, 314.56569507,\n",
       "       315.80247237, 317.03924966, 318.27602696, 319.51280426,\n",
       "       320.74958156, 321.98635885])"
      ]
     },
     "execution_count": 15,
     "metadata": {},
     "output_type": "execute_result"
    }
   ],
   "source": [
    "arima.predict(n_periods=test.shape[0])"
   ]
  },
  {
   "cell_type": "code",
   "execution_count": 16,
   "metadata": {},
   "outputs": [
    {
     "data": {
      "text/plain": [
       "<AxesSubplot:xlabel='Timestamp'>"
      ]
     },
     "execution_count": 16,
     "metadata": {},
     "output_type": "execute_result"
    },
    {
     "data": {
      "image/png": "[encoded data removed]",
      "text/plain": [
       "<Figure size 432x288 with 1 Axes>"
      ]
     },
     "metadata": {
      "needs_background": "light"
     },
     "output_type": "display_data"
    }
   ],
   "source": [
    "spot2 = np.log(spot).diff()\n",
    "spot2.plot()"
   ]
  },
  {
   "cell_type": "code",
   "execution_count": 17,
   "metadata": {},
   "outputs": [
    {
     "data": {
      "text/plain": [
       "count    477.000000\n",
       "mean       0.002107\n",
       "std        0.105630\n",
       "min       -0.781866\n",
       "25%       -0.053110\n",
       "50%        0.009248\n",
       "75%        0.062300\n",
       "max        0.633269\n",
       "Name: CLc1, dtype: float64"
      ]
     },
     "execution_count": 17,
     "metadata": {},
     "output_type": "execute_result"
    }
   ],
   "source": [
    "#statistics\n",
    "\n",
    "#mean\n",
    "#sd\n",
    "#skewness\n",
    "#kurtosis\n",
    "#jb test\n",
    "#Ljung Box Q(6) and Q^2(6)\n",
    "#observations\n",
    "\n",
    "spot2.describe()\n",
    "#spot.dropna().describe()"
   ]
  },
  {
   "cell_type": "code",
   "execution_count": 18,
   "metadata": {},
   "outputs": [
    {
     "name": "stdout",
     "output_type": "stream",
     "text": [
      "Skewness spot: -0.5764401660759515\n",
      "Kurtosis spot: 12.295013196277413\n",
      "JB spot: Jarque_beraResult(statistic=1743.5622671622755, pvalue=0.0)\n",
      "Q(6) spot:      lb_stat  lb_pvalue\n",
      "6  24.198427    0.00048\n"
     ]
    }
   ],
   "source": [
    "print(\"Skewness spot:\", scipy.stats.skew(spot2.dropna(), axis=0, bias=True))\n",
    "#print(\"Skewness logs:\", scipy.stats.skew(np.log(spot2.dropna()), axis=0, bias=True))\n",
    "print(\"Kurtosis spot:\", scipy.stats.kurtosis(spot2.dropna(), axis=0, fisher=False, bias=True))\n",
    "#print(\"Kurtosis logs:\", scipy.stats.kurtosis(np.log(spot2.dropna()), fisher=False, axis=0, bias=True))\n",
    "\n",
    "print(\"JB spot:\", scipy.stats.jarque_bera(spot2.dropna()))\n",
    "#print(\"JB logs:\", scipy.stats.jarque_bera(np.log(spot2.dropna())))\n",
    "#The Jarque-Bera Test is typically used for large datasets (n > 2000) in which other normality tests (like the Shapiro-Wilk test) are unreliable.\n",
    "\n",
    "print(\"Q(6) spot:\", sm.stats.acorr_ljungbox(spot2.dropna(), lags=[6]))\n",
    "#print(\"Q(6) logs:\", sm.stats.acorr_ljungbox(np.log(spot2.dropna()), lags=[6]))"
   ]
  },
  {
   "cell_type": "code",
   "execution_count": 19,
   "metadata": {},
   "outputs": [
    {
     "name": "stdout",
     "output_type": "stream",
     "text": [
      "ADF spot: (-12.115572041037499, 1.8758894462155855e-22, 3, 473, {'1%': -3.444250937448703, '5%': -2.867669873870454, '10%': -2.5700349866579657}, -755.8347873383541)\n",
      "PP spot:      Phillips-Perron Test (Z-tau)    \n",
      "=====================================\n",
      "Test Statistic                -18.510\n",
      "P-value                         0.000\n",
      "Lags                               18\n",
      "-------------------------------------\n",
      "\n",
      "Trend: Constant\n",
      "Critical Values: -3.44 (1%), -2.87 (5%), -2.57 (10%)\n",
      "Null Hypothesis: The process contains a unit root.\n",
      "Alternative Hypothesis: The process is weakly stationary.\n"
     ]
    }
   ],
   "source": [
    "#stationarity\n",
    "\n",
    "#augmented Dickie-Fuller\n",
    "#PP test - Phillips and Perron\n",
    "#KPSS\n",
    "\n",
    "print(\"ADF spot:\", adfuller(spot2.dropna()))\n",
    "#print(\"ADF logs:\", adfuller(np.log(spot2.dropna())))\n",
    "\n",
    "print(\"PP spot:\", PhillipsPerron(spot2.dropna()).summary().as_text())\n",
    "#print(\"PP logs:\", PhillipsPerron(np.log(spot2.dropna())).summary().as_text())"
   ]
  },
  {
   "cell_type": "code",
   "execution_count": 20,
   "metadata": {},
   "outputs": [
    {
     "name": "stdout",
     "output_type": "stream",
     "text": [
      "KPSS spot:     KPSS Stationarity Test Results   \n",
      "=====================================\n",
      "Test Statistic                  0.047\n",
      "P-value                         0.897\n",
      "Lags                                2\n",
      "-------------------------------------\n",
      "\n",
      "Trend: Constant\n",
      "Critical Values: 0.74 (1%), 0.46 (5%), 0.35 (10%)\n",
      "Null Hypothesis: The process is weakly stationary.\n",
      "Alternative Hypothesis: The process contains a unit root.\n"
     ]
    }
   ],
   "source": [
    "print(\"KPSS spot:\", KPSS(spot2.dropna()).summary().as_text())\n",
    "#print(\"KPSS logs:\", KPSS(np.log(spot2.dropna())).summary().as_text())"
   ]
  },
  {
   "cell_type": "code",
   "execution_count": 21,
   "metadata": {},
   "outputs": [
    {
     "name": "stdout",
     "output_type": "stream",
     "text": [
      "ACF and PACF spot:\n"
     ]
    },
    {
     "name": "stderr",
     "output_type": "stream",
     "text": [
      "c:\\Users\\tatuh\\anaconda3\\lib\\site-packages\\statsmodels\\graphics\\tsaplots.py:348: FutureWarning: The default method 'yw' can produce PACF values outside of the [-1,1] interval. After 0.13, the default will change tounadjusted Yule-Walker ('ywm'). You can use this method now by setting method='ywm'.\n",
      "  warnings.warn(\n"
     ]
    },
    {
     "data": {
      "image/png": "[encoded data removed]",
      "text/plain": [
       "<Figure size 432x288 with 1 Axes>"
      ]
     },
     "execution_count": 21,
     "metadata": {},
     "output_type": "execute_result"
    },
    {
     "data": {
      "image/png": "[encoded data removed]",
      "text/plain": [
       "<Figure size 432x288 with 1 Axes>"
      ]
     },
     "metadata": {
      "needs_background": "light"
     },
     "output_type": "display_data"
    },
    {
     "data": {
      "image/png": "[encoded data removed]",
      "text/plain": [
       "<Figure size 432x288 with 1 Axes>"
      ]
     },
     "metadata": {
      "needs_background": "light"
     },
     "output_type": "display_data"
    }
   ],
   "source": [
    "#ACF and PACF\n",
    "\n",
    "print(\"ACF and PACF spot:\")\n",
    "plot_acf(spot2.dropna(), lags = 15)\n",
    "plot_pacf(spot2.dropna(), lags = 15)\n",
    "\n",
    "\n",
    "#print(\"ACF and PACF logs:\")\n",
    "#plot_acf(np.log(spot2.dropna()), lags = 15)\n",
    "#plot_pacf(np.log(spot2.dropna()), lags = 15)\n"
   ]
  },
  {
   "cell_type": "code",
   "execution_count": 22,
   "metadata": {},
   "outputs": [
    {
     "data": {
      "text/plain": [
       "<AxesSubplot:>"
      ]
     },
     "execution_count": 22,
     "metadata": {},
     "output_type": "execute_result"
    },
    {
     "data": {
      "image/png": "[encoded data removed]",
      "text/plain": [
       "<Figure size 432x288 with 1 Axes>"
      ]
     },
     "metadata": {
      "needs_background": "light"
     },
     "output_type": "display_data"
    }
   ],
   "source": [
    "spot2.hist()\n"
   ]
  },
  {
   "cell_type": "code",
   "execution_count": 23,
   "metadata": {},
   "outputs": [],
   "source": [
    "# Load the data and split it into separate pieces\n",
    "data2 = np.array(spot2.dropna())\n",
    "train2, test2 = model_selection.train_test_split(data2, train_size=300)"
   ]
  },
  {
   "cell_type": "code",
   "execution_count": 24,
   "metadata": {},
   "outputs": [
    {
     "name": "stdout",
     "output_type": "stream",
     "text": [
      "Performing stepwise search to minimize aic\n",
      " ARIMA(2,0,2)(0,0,0)[0]             : AIC=-567.884, Time=0.04 sec\n",
      " ARIMA(0,0,0)(0,0,0)[0]             : AIC=-568.780, Time=0.02 sec\n",
      " ARIMA(1,0,0)(0,0,0)[0]             : AIC=-570.062, Time=0.04 sec\n",
      " ARIMA(0,0,1)(0,0,0)[0]             : AIC=-570.883, Time=0.02 sec\n",
      " ARIMA(1,0,1)(0,0,0)[0]             : AIC=-571.199, Time=0.02 sec\n",
      " ARIMA(2,0,1)(0,0,0)[0]             : AIC=-569.860, Time=0.03 sec\n",
      " ARIMA(1,0,2)(0,0,0)[0]             : AIC=-570.444, Time=0.03 sec\n",
      " ARIMA(0,0,2)(0,0,0)[0]             : AIC=-572.096, Time=0.03 sec\n",
      " ARIMA(0,0,3)(0,0,0)[0]             : AIC=-570.096, Time=0.04 sec\n",
      " ARIMA(1,0,3)(0,0,0)[0]             : AIC=-569.329, Time=0.04 sec\n",
      " ARIMA(0,0,2)(0,0,0)[0] intercept   : AIC=-570.676, Time=0.04 sec\n",
      "\n",
      "Best model:  ARIMA(0,0,2)(0,0,0)[0]          \n",
      "Total fit time: 0.368 seconds\n"
     ]
    },
    {
     "data": {
      "image/png": "[encoded data removed]",
      "text/plain": [
       "<Figure size 432x288 with 1 Axes>"
      ]
     },
     "metadata": {
      "needs_background": "light"
     },
     "output_type": "display_data"
    }
   ],
   "source": [
    "# Fit a simple auto_arima model\n",
    "arima2 = pm.auto_arima(train2, error_action='ignore', trace=True,\n",
    "                      suppress_warnings=True, maxiter=5,\n",
    "                      seasonal=False)\n",
    "\n",
    "#arima = pm.auto_arima(train, error_action='ignore', trace=True,\n",
    "                      #suppress_warnings=True, maxiter=5,\n",
    "                      #seasonal=True, m=12)\n",
    "\n",
    "# #############################################################################\n",
    "# Plot actual test vs. forecasts:\n",
    "x2 = np.arange(test2.shape[0])\n",
    "plt.scatter(x2, test2, marker='x')\n",
    "plt.plot(x2, arima2.predict(n_periods=test2.shape[0]))\n",
    "plt.title('Actual test samples vs. forecasts')\n",
    "plt.show()"
   ]
  },
  {
   "cell_type": "code",
   "execution_count": 25,
   "metadata": {},
   "outputs": [
    {
     "data": {
      "text/html": [
       "<table class=\"simpletable\">\n",
       "<caption>SARIMAX Results</caption>\n",
       "<tr>\n",
       "  <th>Dep. Variable:</th>           <td>y</td>        <th>  No. Observations:  </th>    <td>300</td>  \n",
       "</tr>\n",
       "<tr>\n",
       "  <th>Model:</th>           <td>SARIMAX(0, 0, 2)</td> <th>  Log Likelihood     </th>  <td>289.048</td>\n",
       "</tr>\n",
       "<tr>\n",
       "  <th>Date:</th>            <td>Tue, 27 Dec 2022</td> <th>  AIC                </th> <td>-572.096</td>\n",
       "</tr>\n",
       "<tr>\n",
       "  <th>Time:</th>                <td>18:36:28</td>     <th>  BIC                </th> <td>-560.984</td>\n",
       "</tr>\n",
       "<tr>\n",
       "  <th>Sample:</th>                  <td>0</td>        <th>  HQIC               </th> <td>-567.649</td>\n",
       "</tr>\n",
       "<tr>\n",
       "  <th></th>                      <td> - 300</td>      <th>                     </th>     <td> </td>   \n",
       "</tr>\n",
       "<tr>\n",
       "  <th>Covariance Type:</th>        <td>opg</td>       <th>                     </th>     <td> </td>   \n",
       "</tr>\n",
       "</table>\n",
       "<table class=\"simpletable\">\n",
       "<tr>\n",
       "     <td></td>       <th>coef</th>     <th>std err</th>      <th>z</th>      <th>P>|z|</th>  <th>[0.025</th>    <th>0.975]</th>  \n",
       "</tr>\n",
       "<tr>\n",
       "  <th>ma.L1</th>  <td>    0.1177</td> <td>    0.040</td> <td>    2.927</td> <td> 0.003</td> <td>    0.039</td> <td>    0.197</td>\n",
       "</tr>\n",
       "<tr>\n",
       "  <th>ma.L2</th>  <td>   -0.1072</td> <td>    0.046</td> <td>   -2.351</td> <td> 0.019</td> <td>   -0.197</td> <td>   -0.018</td>\n",
       "</tr>\n",
       "<tr>\n",
       "  <th>sigma2</th> <td>    0.0085</td> <td>    0.000</td> <td>   17.208</td> <td> 0.000</td> <td>    0.008</td> <td>    0.009</td>\n",
       "</tr>\n",
       "</table>\n",
       "<table class=\"simpletable\">\n",
       "<tr>\n",
       "  <th>Ljung-Box (L1) (Q):</th>     <td>0.00</td> <th>  Jarque-Bera (JB):  </th> <td>63.17</td>\n",
       "</tr>\n",
       "<tr>\n",
       "  <th>Prob(Q):</th>                <td>0.99</td> <th>  Prob(JB):          </th> <td>0.00</td> \n",
       "</tr>\n",
       "<tr>\n",
       "  <th>Heteroskedasticity (H):</th> <td>0.69</td> <th>  Skew:              </th> <td>0.13</td> \n",
       "</tr>\n",
       "<tr>\n",
       "  <th>Prob(H) (two-sided):</th>    <td>0.07</td> <th>  Kurtosis:          </th> <td>5.23</td> \n",
       "</tr>\n",
       "</table><br/><br/>Warnings:<br/>[1] Covariance matrix calculated using the outer product of gradients (complex-step)."
      ],
      "text/plain": [
       "<class 'statsmodels.iolib.summary.Summary'>\n",
       "\"\"\"\n",
       "                               SARIMAX Results                                \n",
       "==============================================================================\n",
       "Dep. Variable:                      y   No. Observations:                  300\n",
       "Model:               SARIMAX(0, 0, 2)   Log Likelihood                 289.048\n",
       "Date:                Tue, 27 Dec 2022   AIC                           -572.096\n",
       "Time:                        18:36:28   BIC                           -560.984\n",
       "Sample:                             0   HQIC                          -567.649\n",
       "                                - 300                                         \n",
       "Covariance Type:                  opg                                         \n",
       "==============================================================================\n",
       "                 coef    std err          z      P>|z|      [0.025      0.975]\n",
       "------------------------------------------------------------------------------\n",
       "ma.L1          0.1177      0.040      2.927      0.003       0.039       0.197\n",
       "ma.L2         -0.1072      0.046     -2.351      0.019      -0.197      -0.018\n",
       "sigma2         0.0085      0.000     17.208      0.000       0.008       0.009\n",
       "===================================================================================\n",
       "Ljung-Box (L1) (Q):                   0.00   Jarque-Bera (JB):                63.17\n",
       "Prob(Q):                              0.99   Prob(JB):                         0.00\n",
       "Heteroskedasticity (H):               0.69   Skew:                             0.13\n",
       "Prob(H) (two-sided):                  0.07   Kurtosis:                         5.23\n",
       "===================================================================================\n",
       "\n",
       "Warnings:\n",
       "[1] Covariance matrix calculated using the outer product of gradients (complex-step).\n",
       "\"\"\""
      ]
     },
     "execution_count": 25,
     "metadata": {},
     "output_type": "execute_result"
    }
   ],
   "source": [
    "arima2.summary()"
   ]
  },
  {
   "cell_type": "code",
   "execution_count": 26,
   "metadata": {},
   "outputs": [
    {
     "data": {
      "text/plain": [
       "[<matplotlib.lines.Line2D at 0x2d13a669190>]"
      ]
     },
     "execution_count": 26,
     "metadata": {},
     "output_type": "execute_result"
    },
    {
     "data": {
      "image/png": "[encoded data removed]",
      "text/plain": [
       "<Figure size 432x288 with 1 Axes>"
      ]
     },
     "metadata": {
      "needs_background": "light"
     },
     "output_type": "display_data"
    }
   ],
   "source": [
    "plt.plot(x2, arima2.predict(n_periods=test2.shape[0]))"
   ]
  },
  {
   "cell_type": "code",
   "execution_count": 27,
   "metadata": {},
   "outputs": [
    {
     "data": {
      "text/plain": [
       "array([-0.01595517,  0.0025575 ,  0.        ,  0.        ,  0.        ,\n",
       "        0.        ,  0.        ,  0.        ,  0.        ,  0.        ,\n",
       "        0.        ,  0.        ,  0.        ,  0.        ,  0.        ,\n",
       "        0.        ,  0.        ,  0.        ,  0.        ,  0.        ,\n",
       "        0.        ,  0.        ,  0.        ,  0.        ,  0.        ,\n",
       "        0.        ,  0.        ,  0.        ,  0.        ,  0.        ,\n",
       "        0.        ,  0.        ,  0.        ,  0.        ,  0.        ,\n",
       "        0.        ,  0.        ,  0.        ,  0.        ,  0.        ,\n",
       "        0.        ,  0.        ,  0.        ,  0.        ,  0.        ,\n",
       "        0.        ,  0.        ,  0.        ,  0.        ,  0.        ,\n",
       "        0.        ,  0.        ,  0.        ,  0.        ,  0.        ,\n",
       "        0.        ,  0.        ,  0.        ,  0.        ,  0.        ,\n",
       "        0.        ,  0.        ,  0.        ,  0.        ,  0.        ,\n",
       "        0.        ,  0.        ,  0.        ,  0.        ,  0.        ,\n",
       "        0.        ,  0.        ,  0.        ,  0.        ,  0.        ,\n",
       "        0.        ,  0.        ,  0.        ,  0.        ,  0.        ,\n",
       "        0.        ,  0.        ,  0.        ,  0.        ,  0.        ,\n",
       "        0.        ,  0.        ,  0.        ,  0.        ,  0.        ,\n",
       "        0.        ,  0.        ,  0.        ,  0.        ,  0.        ,\n",
       "        0.        ,  0.        ,  0.        ,  0.        ,  0.        ,\n",
       "        0.        ,  0.        ,  0.        ,  0.        ,  0.        ,\n",
       "        0.        ,  0.        ,  0.        ,  0.        ,  0.        ,\n",
       "        0.        ,  0.        ,  0.        ,  0.        ,  0.        ,\n",
       "        0.        ,  0.        ,  0.        ,  0.        ,  0.        ,\n",
       "        0.        ,  0.        ,  0.        ,  0.        ,  0.        ,\n",
       "        0.        ,  0.        ,  0.        ,  0.        ,  0.        ,\n",
       "        0.        ,  0.        ,  0.        ,  0.        ,  0.        ,\n",
       "        0.        ,  0.        ,  0.        ,  0.        ,  0.        ,\n",
       "        0.        ,  0.        ,  0.        ,  0.        ,  0.        ,\n",
       "        0.        ,  0.        ,  0.        ,  0.        ,  0.        ,\n",
       "        0.        ,  0.        ,  0.        ,  0.        ,  0.        ,\n",
       "        0.        ,  0.        ,  0.        ,  0.        ,  0.        ,\n",
       "        0.        ,  0.        ,  0.        ,  0.        ,  0.        ,\n",
       "        0.        ,  0.        ,  0.        ,  0.        ,  0.        ,\n",
       "        0.        ,  0.        ,  0.        ,  0.        ,  0.        ,\n",
       "        0.        ,  0.        ])"
      ]
     },
     "execution_count": 27,
     "metadata": {},
     "output_type": "execute_result"
    }
   ],
   "source": [
    "arima2.predict(n_periods=test2.shape[0])"
   ]
  },
  {
   "cell_type": "code",
   "execution_count": 28,
   "metadata": {},
   "outputs": [],
   "source": [
    "#cointegration tests\n",
    "\n",
    "#normalized cv\n",
    "#LR test"
   ]
  },
  {
   "cell_type": "code",
   "execution_count": 29,
   "metadata": {},
   "outputs": [],
   "source": [
    "#correlaatiomatriisi"
   ]
  },
  {
   "cell_type": "code",
   "execution_count": 30,
   "metadata": {},
   "outputs": [],
   "source": [
    "#np.argwhere(np.isnan(x))"
   ]
  }
 ],
 "metadata": {
  "kernelspec": {
   "display_name": "Python 3.9.7 ('base')",
   "language": "python",
   "name": "python3"
  },
  "language_info": {
   "codemirror_mode": {
    "name": "ipython",
    "version": 3
   },
   "file_extension": ".py",
   "mimetype": "text/x-python",
   "name": "python",
   "nbconvert_exporter": "python",
   "pygments_lexer": "ipython3",
   "version": "3.9.7 (default, Sep 16 2021, 16:59:28) [MSC v.1916 64 bit (AMD64)]"
  },
  "orig_nbformat": 4,
  "vscode": {
   "interpreter": {
    "hash": "4166284f6c1be268893ecc7e1723c4ee59a7af301dc502cec5768712e1b57cd0"
   }
  }
 },
 "nbformat": 4,
 "nbformat_minor": 2
}
