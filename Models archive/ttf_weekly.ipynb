{
 "cells": [
  {
   "cell_type": "code",
   "execution_count": 4,
   "metadata": {},
   "outputs": [],
   "source": [
    "# Start loading libraries\n",
    "\n",
    "#! pip install yfinance\n",
    "\n",
    "import matplotlib.pyplot as plt\n",
    "import numpy as np\n",
    "import pandas as pd\n",
    "import seaborn as sns\n",
    "\n",
    "#! pip install pmdarima\n",
    "import pmdarima as pm\n",
    "from pmdarima import model_selection\n",
    "\n",
    "import scipy\n",
    "import statsmodels.api as sm\n",
    "from statsmodels.tsa.stattools import adfuller\n",
    "from arch.unitroot import PhillipsPerron\n",
    "from arch.unitroot import KPSS\n",
    "\n",
    "from statsmodels.graphics.tsaplots import plot_pacf\n",
    "from statsmodels.graphics.tsaplots import plot_acf\n",
    "#from statsmodels.graphics.tsaplots import plot_acf\n",
    "\n",
    "#from matplotlib.ticker import NullFormatter\n",
    "#import yfinance as yf\n",
    "#import warnings; warnings.simplefilter('ignore')\n",
    "#%matplotlib inline"
   ]
  },
  {
   "cell_type": "code",
   "execution_count": 5,
   "metadata": {},
   "outputs": [
    {
     "data": {
      "text/html": [
       "<div>\n",
       "<style scoped>\n",
       "    .dataframe tbody tr th:only-of-type {\n",
       "        vertical-align: middle;\n",
       "    }\n",
       "\n",
       "    .dataframe tbody tr th {\n",
       "        vertical-align: top;\n",
       "    }\n",
       "\n",
       "    .dataframe thead th {\n",
       "        text-align: right;\n",
       "    }\n",
       "</style>\n",
       "<table border=\"1\" class=\"dataframe\">\n",
       "  <thead>\n",
       "    <tr style=\"text-align: right;\">\n",
       "      <th></th>\n",
       "      <th>TRNLTTFD1</th>\n",
       "      <th>TFMBMc3</th>\n",
       "      <th>TFMBMc6</th>\n",
       "      <th>TFMBMc9</th>\n",
       "      <th>TFMBMc12</th>\n",
       "      <th>EUR=</th>\n",
       "      <th>EUR3MV=</th>\n",
       "      <th>EUR6MV=</th>\n",
       "      <th>EUR9MV=</th>\n",
       "      <th>EUR1YV=</th>\n",
       "      <th>TRNLTTFD1 USD</th>\n",
       "      <th>TFMBMc3 USD</th>\n",
       "      <th>TFMBMc6 USD</th>\n",
       "      <th>TFMBMc9 USD</th>\n",
       "      <th>TFMBMc12 USD</th>\n",
       "    </tr>\n",
       "    <tr>\n",
       "      <th>Timestamp</th>\n",
       "      <th></th>\n",
       "      <th></th>\n",
       "      <th></th>\n",
       "      <th></th>\n",
       "      <th></th>\n",
       "      <th></th>\n",
       "      <th></th>\n",
       "      <th></th>\n",
       "      <th></th>\n",
       "      <th></th>\n",
       "      <th></th>\n",
       "      <th></th>\n",
       "      <th></th>\n",
       "      <th></th>\n",
       "      <th></th>\n",
       "    </tr>\n",
       "  </thead>\n",
       "  <tbody>\n",
       "    <tr>\n",
       "      <th>1988-06-24</th>\n",
       "      <td>NaN</td>\n",
       "      <td>NaN</td>\n",
       "      <td>NaN</td>\n",
       "      <td>NaN</td>\n",
       "      <td>NaN</td>\n",
       "      <td>1.1444</td>\n",
       "      <td>NaN</td>\n",
       "      <td>NaN</td>\n",
       "      <td>NaN</td>\n",
       "      <td>NaN</td>\n",
       "      <td>0.0</td>\n",
       "      <td>0.0</td>\n",
       "      <td>0.0</td>\n",
       "      <td>0.0</td>\n",
       "      <td>0.0</td>\n",
       "    </tr>\n",
       "    <tr>\n",
       "      <th>1988-07-01</th>\n",
       "      <td>NaN</td>\n",
       "      <td>NaN</td>\n",
       "      <td>NaN</td>\n",
       "      <td>NaN</td>\n",
       "      <td>NaN</td>\n",
       "      <td>1.1381</td>\n",
       "      <td>NaN</td>\n",
       "      <td>NaN</td>\n",
       "      <td>NaN</td>\n",
       "      <td>NaN</td>\n",
       "      <td>0.0</td>\n",
       "      <td>0.0</td>\n",
       "      <td>0.0</td>\n",
       "      <td>0.0</td>\n",
       "      <td>0.0</td>\n",
       "    </tr>\n",
       "    <tr>\n",
       "      <th>1988-07-08</th>\n",
       "      <td>NaN</td>\n",
       "      <td>NaN</td>\n",
       "      <td>NaN</td>\n",
       "      <td>NaN</td>\n",
       "      <td>NaN</td>\n",
       "      <td>1.1315</td>\n",
       "      <td>NaN</td>\n",
       "      <td>NaN</td>\n",
       "      <td>NaN</td>\n",
       "      <td>NaN</td>\n",
       "      <td>0.0</td>\n",
       "      <td>0.0</td>\n",
       "      <td>0.0</td>\n",
       "      <td>0.0</td>\n",
       "      <td>0.0</td>\n",
       "    </tr>\n",
       "    <tr>\n",
       "      <th>1988-07-15</th>\n",
       "      <td>NaN</td>\n",
       "      <td>NaN</td>\n",
       "      <td>NaN</td>\n",
       "      <td>NaN</td>\n",
       "      <td>NaN</td>\n",
       "      <td>1.1038</td>\n",
       "      <td>NaN</td>\n",
       "      <td>NaN</td>\n",
       "      <td>NaN</td>\n",
       "      <td>NaN</td>\n",
       "      <td>0.0</td>\n",
       "      <td>0.0</td>\n",
       "      <td>0.0</td>\n",
       "      <td>0.0</td>\n",
       "      <td>0.0</td>\n",
       "    </tr>\n",
       "    <tr>\n",
       "      <th>1988-07-22</th>\n",
       "      <td>NaN</td>\n",
       "      <td>NaN</td>\n",
       "      <td>NaN</td>\n",
       "      <td>NaN</td>\n",
       "      <td>NaN</td>\n",
       "      <td>1.1381</td>\n",
       "      <td>NaN</td>\n",
       "      <td>NaN</td>\n",
       "      <td>NaN</td>\n",
       "      <td>NaN</td>\n",
       "      <td>0.0</td>\n",
       "      <td>0.0</td>\n",
       "      <td>0.0</td>\n",
       "      <td>0.0</td>\n",
       "      <td>0.0</td>\n",
       "    </tr>\n",
       "  </tbody>\n",
       "</table>\n",
       "</div>"
      ],
      "text/plain": [
       "            TRNLTTFD1  TFMBMc3  TFMBMc6  TFMBMc9  TFMBMc12    EUR=  EUR3MV=  \\\n",
       "Timestamp                                                                     \n",
       "1988-06-24        NaN      NaN      NaN      NaN       NaN  1.1444      NaN   \n",
       "1988-07-01        NaN      NaN      NaN      NaN       NaN  1.1381      NaN   \n",
       "1988-07-08        NaN      NaN      NaN      NaN       NaN  1.1315      NaN   \n",
       "1988-07-15        NaN      NaN      NaN      NaN       NaN  1.1038      NaN   \n",
       "1988-07-22        NaN      NaN      NaN      NaN       NaN  1.1381      NaN   \n",
       "\n",
       "            EUR6MV=  EUR9MV=  EUR1YV=  TRNLTTFD1 USD  TFMBMc3 USD  \\\n",
       "Timestamp                                                           \n",
       "1988-06-24      NaN      NaN      NaN            0.0          0.0   \n",
       "1988-07-01      NaN      NaN      NaN            0.0          0.0   \n",
       "1988-07-08      NaN      NaN      NaN            0.0          0.0   \n",
       "1988-07-15      NaN      NaN      NaN            0.0          0.0   \n",
       "1988-07-22      NaN      NaN      NaN            0.0          0.0   \n",
       "\n",
       "            TFMBMc6 USD  TFMBMc9 USD  TFMBMc12 USD  \n",
       "Timestamp                                           \n",
       "1988-06-24          0.0          0.0           0.0  \n",
       "1988-07-01          0.0          0.0           0.0  \n",
       "1988-07-08          0.0          0.0           0.0  \n",
       "1988-07-15          0.0          0.0           0.0  \n",
       "1988-07-22          0.0          0.0           0.0  "
      ]
     },
     "execution_count": 5,
     "metadata": {},
     "output_type": "execute_result"
    }
   ],
   "source": [
    "xls_file = pd.ExcelFile(\"Data_weekly_final.xlsx\") # Read Excel\n",
    "df1=xls_file.parse(\"NatGas\") # Read the first sheet (Portfolio holdings)\n",
    "\n",
    "#df1[\"Timestamp\"] = df1[\"Date\"].astype('datetime64[ns]') # Convert column to date format\n",
    "df1 = df1.set_index(['Timestamp']) # use first column as index\n",
    "\n",
    "#df1.to_excel(\"values.xlsx\")  #print to excel\n",
    "\n",
    "\n",
    "df1.head()"
   ]
  },
  {
   "cell_type": "code",
   "execution_count": 6,
   "metadata": {},
   "outputs": [
    {
     "data": {
      "text/plain": [
       "<AxesSubplot:xlabel='Timestamp'>"
      ]
     },
     "execution_count": 6,
     "metadata": {},
     "output_type": "execute_result"
    },
    {
     "data": {
      "image/png": "[encoded data removed]",
      "text/plain": [
       "<Figure size 432x288 with 1 Axes>"
      ]
     },
     "metadata": {
      "needs_background": "light"
     },
     "output_type": "display_data"
    }
   ],
   "source": [
    "spot = df1[\"TRNLTTFD1 USD\"]\n",
    "\n",
    "spot = spot[spot != 0]\n",
    "#spot = np.log(spot).diff()\n",
    "spot.plot()"
   ]
  },
  {
   "cell_type": "code",
   "execution_count": 4,
   "metadata": {},
   "outputs": [
    {
     "data": {
      "text/plain": [
       "count    2222.000000\n",
       "mean        8.949659\n",
       "std        24.018130\n",
       "min         0.000000\n",
       "25%         0.000000\n",
       "50%         0.000000\n",
       "75%         6.082581\n",
       "max       328.713000\n",
       "Name: TRNLTTFD1 USD, dtype: float64"
      ]
     },
     "execution_count": 4,
     "metadata": {},
     "output_type": "execute_result"
    }
   ],
   "source": [
    "#statistics\n",
    "\n",
    "#mean\n",
    "#sd\n",
    "#skewness\n",
    "#kurtosis\n",
    "#jb test\n",
    "#Ljung Box Q(6) and Q^2(6)\n",
    "#observations\n",
    "\n",
    "spot.describe()\n",
    "#spot.dropna().describe()"
   ]
  },
  {
   "cell_type": "code",
   "execution_count": 5,
   "metadata": {},
   "outputs": [
    {
     "name": "stdout",
     "output_type": "stream",
     "text": [
      "Skewness spot: 5.296693096962282\n",
      "Skewness logs: nan\n",
      "Kurtosis spot: 41.841742700456244\n",
      "Kurtosis logs: nan\n",
      "JB spot: Jarque_beraResult(statistic=150068.39972049734, pvalue=0.0)\n",
      "JB logs: Jarque_beraResult(statistic=nan, pvalue=nan)\n",
      "Q(6) spot:        lb_stat  lb_pvalue\n",
      "6  10969.87803        0.0\n",
      "Q(6) logs:    lb_stat  lb_pvalue\n",
      "6      NaN        NaN\n"
     ]
    },
    {
     "name": "stderr",
     "output_type": "stream",
     "text": [
      "c:\\Users\\tatuh\\anaconda3\\lib\\site-packages\\pandas\\core\\arraylike.py:364: RuntimeWarning: divide by zero encountered in log\n",
      "  result = getattr(ufunc, method)(*inputs, **kwargs)\n",
      "c:\\Users\\tatuh\\anaconda3\\lib\\site-packages\\scipy\\stats\\stats.py:951: RuntimeWarning: invalid value encountered in subtract\n",
      "  a_zero_mean = a - mean\n",
      "c:\\Users\\tatuh\\anaconda3\\lib\\site-packages\\scipy\\stats\\stats.py:1695: RuntimeWarning: invalid value encountered in subtract\n",
      "  diffx = x - mu\n",
      "c:\\Users\\tatuh\\anaconda3\\lib\\site-packages\\pandas\\core\\arraylike.py:364: RuntimeWarning: divide by zero encountered in log\n",
      "  result = getattr(ufunc, method)(*inputs, **kwargs)\n",
      "c:\\Users\\tatuh\\anaconda3\\lib\\site-packages\\statsmodels\\tsa\\stattools.py:467: RuntimeWarning: invalid value encountered in subtract\n",
      "  xo = x - x.mean()\n"
     ]
    }
   ],
   "source": [
    "print(\"Skewness spot:\", scipy.stats.skew(spot.dropna(), axis=0, bias=True))\n",
    "print(\"Skewness logs:\", scipy.stats.skew(np.log(spot.dropna()), axis=0, bias=True))\n",
    "print(\"Kurtosis spot:\", scipy.stats.kurtosis(spot.dropna(), axis=0, fisher=False, bias=True))\n",
    "print(\"Kurtosis logs:\", scipy.stats.kurtosis(np.log(spot.dropna()), fisher=False, axis=0, bias=True))\n",
    "\n",
    "print(\"JB spot:\", scipy.stats.jarque_bera(spot.dropna()))\n",
    "print(\"JB logs:\", scipy.stats.jarque_bera(np.log(spot.dropna())))\n",
    "#The Jarque-Bera Test is typically used for large datasets (n > 2000) in which other normality tests (like the Shapiro-Wilk test) are unreliable.\n",
    "\n",
    "print(\"Q(6) spot:\", sm.stats.acorr_ljungbox(spot.dropna(), lags=[6]))\n",
    "print(\"Q(6) logs:\", sm.stats.acorr_ljungbox(np.log(spot.dropna()), lags=[6]))"
   ]
  },
  {
   "cell_type": "code",
   "execution_count": 6,
   "metadata": {},
   "outputs": [
    {
     "name": "stdout",
     "output_type": "stream",
     "text": [
      "ADF spot: (-0.31735965206982053, 0.9230094471945205, 26, 2195, {'1%': -3.4333326714656223, '5%': -2.8628576479452597, '10%': -2.5674714486226202}, 13098.538012404566)\n"
     ]
    },
    {
     "name": "stderr",
     "output_type": "stream",
     "text": [
      "c:\\Users\\tatuh\\anaconda3\\lib\\site-packages\\pandas\\core\\arraylike.py:364: RuntimeWarning: divide by zero encountered in log\n",
      "  result = getattr(ufunc, method)(*inputs, **kwargs)\n",
      "c:\\Users\\tatuh\\anaconda3\\lib\\site-packages\\numpy\\lib\\function_base.py:1423: RuntimeWarning: invalid value encountered in subtract\n",
      "  a = op(a[slice1], a[slice2])\n"
     ]
    },
    {
     "ename": "LinAlgError",
     "evalue": "SVD did not converge",
     "output_type": "error",
     "traceback": [
      "\u001b[1;31m---------------------------------------------------------------------------\u001b[0m",
      "\u001b[1;31mLinAlgError\u001b[0m                               Traceback (most recent call last)",
      "\u001b[1;32m~\\AppData\\Local\\Temp/ipykernel_89348/3697244923.py\u001b[0m in \u001b[0;36m<module>\u001b[1;34m\u001b[0m\n\u001b[0;32m      6\u001b[0m \u001b[1;33m\u001b[0m\u001b[0m\n\u001b[0;32m      7\u001b[0m \u001b[0mprint\u001b[0m\u001b[1;33m(\u001b[0m\u001b[1;34m\"ADF spot:\"\u001b[0m\u001b[1;33m,\u001b[0m \u001b[0madfuller\u001b[0m\u001b[1;33m(\u001b[0m\u001b[0mspot\u001b[0m\u001b[1;33m.\u001b[0m\u001b[0mdropna\u001b[0m\u001b[1;33m(\u001b[0m\u001b[1;33m)\u001b[0m\u001b[1;33m)\u001b[0m\u001b[1;33m)\u001b[0m\u001b[1;33m\u001b[0m\u001b[1;33m\u001b[0m\u001b[0m\n\u001b[1;32m----> 8\u001b[1;33m \u001b[0mprint\u001b[0m\u001b[1;33m(\u001b[0m\u001b[1;34m\"ADF logs:\"\u001b[0m\u001b[1;33m,\u001b[0m \u001b[0madfuller\u001b[0m\u001b[1;33m(\u001b[0m\u001b[0mnp\u001b[0m\u001b[1;33m.\u001b[0m\u001b[0mlog\u001b[0m\u001b[1;33m(\u001b[0m\u001b[0mspot\u001b[0m\u001b[1;33m.\u001b[0m\u001b[0mdropna\u001b[0m\u001b[1;33m(\u001b[0m\u001b[1;33m)\u001b[0m\u001b[1;33m)\u001b[0m\u001b[1;33m)\u001b[0m\u001b[1;33m)\u001b[0m\u001b[1;33m\u001b[0m\u001b[1;33m\u001b[0m\u001b[0m\n\u001b[0m\u001b[0;32m      9\u001b[0m \u001b[1;33m\u001b[0m\u001b[0m\n\u001b[0;32m     10\u001b[0m \u001b[0mprint\u001b[0m\u001b[1;33m(\u001b[0m\u001b[1;34m\"PP spot:\"\u001b[0m\u001b[1;33m,\u001b[0m \u001b[0mPhillipsPerron\u001b[0m\u001b[1;33m(\u001b[0m\u001b[0mspot\u001b[0m\u001b[1;33m.\u001b[0m\u001b[0mdropna\u001b[0m\u001b[1;33m(\u001b[0m\u001b[1;33m)\u001b[0m\u001b[1;33m)\u001b[0m\u001b[1;33m.\u001b[0m\u001b[0msummary\u001b[0m\u001b[1;33m(\u001b[0m\u001b[1;33m)\u001b[0m\u001b[1;33m.\u001b[0m\u001b[0mas_text\u001b[0m\u001b[1;33m(\u001b[0m\u001b[1;33m)\u001b[0m\u001b[1;33m)\u001b[0m\u001b[1;33m\u001b[0m\u001b[1;33m\u001b[0m\u001b[0m\n",
      "\u001b[1;32mc:\\Users\\tatuh\\anaconda3\\lib\\site-packages\\statsmodels\\tsa\\stattools.py\u001b[0m in \u001b[0;36madfuller\u001b[1;34m(x, maxlag, regression, autolag, store, regresults)\u001b[0m\n\u001b[0;32m    319\u001b[0m \u001b[1;33m\u001b[0m\u001b[0m\n\u001b[0;32m    320\u001b[0m         \u001b[1;32mif\u001b[0m \u001b[1;32mnot\u001b[0m \u001b[0mregresults\u001b[0m\u001b[1;33m:\u001b[0m\u001b[1;33m\u001b[0m\u001b[1;33m\u001b[0m\u001b[0m\n\u001b[1;32m--> 321\u001b[1;33m             icbest, bestlag = _autolag(\n\u001b[0m\u001b[0;32m    322\u001b[0m                 \u001b[0mOLS\u001b[0m\u001b[1;33m,\u001b[0m \u001b[0mxdshort\u001b[0m\u001b[1;33m,\u001b[0m \u001b[0mfullRHS\u001b[0m\u001b[1;33m,\u001b[0m \u001b[0mstartlag\u001b[0m\u001b[1;33m,\u001b[0m \u001b[0mmaxlag\u001b[0m\u001b[1;33m,\u001b[0m \u001b[0mautolag\u001b[0m\u001b[1;33m\u001b[0m\u001b[1;33m\u001b[0m\u001b[0m\n\u001b[0;32m    323\u001b[0m             )\n",
      "\u001b[1;32mc:\\Users\\tatuh\\anaconda3\\lib\\site-packages\\statsmodels\\tsa\\stattools.py\u001b[0m in \u001b[0;36m_autolag\u001b[1;34m(mod, endog, exog, startlag, maxlag, method, modargs, fitargs, regresults)\u001b[0m\n\u001b[0;32m    128\u001b[0m     \u001b[1;32mfor\u001b[0m \u001b[0mlag\u001b[0m \u001b[1;32min\u001b[0m \u001b[0mrange\u001b[0m\u001b[1;33m(\u001b[0m\u001b[0mstartlag\u001b[0m\u001b[1;33m,\u001b[0m \u001b[0mstartlag\u001b[0m \u001b[1;33m+\u001b[0m \u001b[0mmaxlag\u001b[0m \u001b[1;33m+\u001b[0m \u001b[1;36m1\u001b[0m\u001b[1;33m)\u001b[0m\u001b[1;33m:\u001b[0m\u001b[1;33m\u001b[0m\u001b[1;33m\u001b[0m\u001b[0m\n\u001b[0;32m    129\u001b[0m         \u001b[0mmod_instance\u001b[0m \u001b[1;33m=\u001b[0m \u001b[0mmod\u001b[0m\u001b[1;33m(\u001b[0m\u001b[0mendog\u001b[0m\u001b[1;33m,\u001b[0m \u001b[0mexog\u001b[0m\u001b[1;33m[\u001b[0m\u001b[1;33m:\u001b[0m\u001b[1;33m,\u001b[0m \u001b[1;33m:\u001b[0m\u001b[0mlag\u001b[0m\u001b[1;33m]\u001b[0m\u001b[1;33m,\u001b[0m \u001b[1;33m*\u001b[0m\u001b[0mmodargs\u001b[0m\u001b[1;33m)\u001b[0m\u001b[1;33m\u001b[0m\u001b[1;33m\u001b[0m\u001b[0m\n\u001b[1;32m--> 130\u001b[1;33m         \u001b[0mresults\u001b[0m\u001b[1;33m[\u001b[0m\u001b[0mlag\u001b[0m\u001b[1;33m]\u001b[0m \u001b[1;33m=\u001b[0m \u001b[0mmod_instance\u001b[0m\u001b[1;33m.\u001b[0m\u001b[0mfit\u001b[0m\u001b[1;33m(\u001b[0m\u001b[1;33m)\u001b[0m\u001b[1;33m\u001b[0m\u001b[1;33m\u001b[0m\u001b[0m\n\u001b[0m\u001b[0;32m    131\u001b[0m \u001b[1;33m\u001b[0m\u001b[0m\n\u001b[0;32m    132\u001b[0m     \u001b[1;32mif\u001b[0m \u001b[0mmethod\u001b[0m \u001b[1;33m==\u001b[0m \u001b[1;34m\"aic\"\u001b[0m\u001b[1;33m:\u001b[0m\u001b[1;33m\u001b[0m\u001b[1;33m\u001b[0m\u001b[0m\n",
      "\u001b[1;32mc:\\Users\\tatuh\\anaconda3\\lib\\site-packages\\statsmodels\\regression\\linear_model.py\u001b[0m in \u001b[0;36mfit\u001b[1;34m(self, method, cov_type, cov_kwds, use_t, **kwargs)\u001b[0m\n\u001b[0;32m    326\u001b[0m                 \u001b[1;31m# Cache these singular values for use later.\u001b[0m\u001b[1;33m\u001b[0m\u001b[1;33m\u001b[0m\u001b[0m\n\u001b[0;32m    327\u001b[0m                 \u001b[0mself\u001b[0m\u001b[1;33m.\u001b[0m\u001b[0mwexog_singular_values\u001b[0m \u001b[1;33m=\u001b[0m \u001b[0msingular_values\u001b[0m\u001b[1;33m\u001b[0m\u001b[1;33m\u001b[0m\u001b[0m\n\u001b[1;32m--> 328\u001b[1;33m                 \u001b[0mself\u001b[0m\u001b[1;33m.\u001b[0m\u001b[0mrank\u001b[0m \u001b[1;33m=\u001b[0m \u001b[0mnp\u001b[0m\u001b[1;33m.\u001b[0m\u001b[0mlinalg\u001b[0m\u001b[1;33m.\u001b[0m\u001b[0mmatrix_rank\u001b[0m\u001b[1;33m(\u001b[0m\u001b[0mnp\u001b[0m\u001b[1;33m.\u001b[0m\u001b[0mdiag\u001b[0m\u001b[1;33m(\u001b[0m\u001b[0msingular_values\u001b[0m\u001b[1;33m)\u001b[0m\u001b[1;33m)\u001b[0m\u001b[1;33m\u001b[0m\u001b[1;33m\u001b[0m\u001b[0m\n\u001b[0m\u001b[0;32m    329\u001b[0m \u001b[1;33m\u001b[0m\u001b[0m\n\u001b[0;32m    330\u001b[0m             \u001b[0mbeta\u001b[0m \u001b[1;33m=\u001b[0m \u001b[0mnp\u001b[0m\u001b[1;33m.\u001b[0m\u001b[0mdot\u001b[0m\u001b[1;33m(\u001b[0m\u001b[0mself\u001b[0m\u001b[1;33m.\u001b[0m\u001b[0mpinv_wexog\u001b[0m\u001b[1;33m,\u001b[0m \u001b[0mself\u001b[0m\u001b[1;33m.\u001b[0m\u001b[0mwendog\u001b[0m\u001b[1;33m)\u001b[0m\u001b[1;33m\u001b[0m\u001b[1;33m\u001b[0m\u001b[0m\n",
      "\u001b[1;32mc:\\Users\\tatuh\\anaconda3\\lib\\site-packages\\numpy\\core\\overrides.py\u001b[0m in \u001b[0;36mmatrix_rank\u001b[1;34m(*args, **kwargs)\u001b[0m\n",
      "\u001b[1;32mc:\\Users\\tatuh\\anaconda3\\lib\\site-packages\\numpy\\linalg\\linalg.py\u001b[0m in \u001b[0;36mmatrix_rank\u001b[1;34m(A, tol, hermitian)\u001b[0m\n\u001b[0;32m   1887\u001b[0m     \u001b[1;32mif\u001b[0m \u001b[0mA\u001b[0m\u001b[1;33m.\u001b[0m\u001b[0mndim\u001b[0m \u001b[1;33m<\u001b[0m \u001b[1;36m2\u001b[0m\u001b[1;33m:\u001b[0m\u001b[1;33m\u001b[0m\u001b[1;33m\u001b[0m\u001b[0m\n\u001b[0;32m   1888\u001b[0m         \u001b[1;32mreturn\u001b[0m \u001b[0mint\u001b[0m\u001b[1;33m(\u001b[0m\u001b[1;32mnot\u001b[0m \u001b[0mall\u001b[0m\u001b[1;33m(\u001b[0m\u001b[0mA\u001b[0m\u001b[1;33m==\u001b[0m\u001b[1;36m0\u001b[0m\u001b[1;33m)\u001b[0m\u001b[1;33m)\u001b[0m\u001b[1;33m\u001b[0m\u001b[1;33m\u001b[0m\u001b[0m\n\u001b[1;32m-> 1889\u001b[1;33m     \u001b[0mS\u001b[0m \u001b[1;33m=\u001b[0m \u001b[0msvd\u001b[0m\u001b[1;33m(\u001b[0m\u001b[0mA\u001b[0m\u001b[1;33m,\u001b[0m \u001b[0mcompute_uv\u001b[0m\u001b[1;33m=\u001b[0m\u001b[1;32mFalse\u001b[0m\u001b[1;33m,\u001b[0m \u001b[0mhermitian\u001b[0m\u001b[1;33m=\u001b[0m\u001b[0mhermitian\u001b[0m\u001b[1;33m)\u001b[0m\u001b[1;33m\u001b[0m\u001b[1;33m\u001b[0m\u001b[0m\n\u001b[0m\u001b[0;32m   1890\u001b[0m     \u001b[1;32mif\u001b[0m \u001b[0mtol\u001b[0m \u001b[1;32mis\u001b[0m \u001b[1;32mNone\u001b[0m\u001b[1;33m:\u001b[0m\u001b[1;33m\u001b[0m\u001b[1;33m\u001b[0m\u001b[0m\n\u001b[0;32m   1891\u001b[0m         \u001b[0mtol\u001b[0m \u001b[1;33m=\u001b[0m \u001b[0mS\u001b[0m\u001b[1;33m.\u001b[0m\u001b[0mmax\u001b[0m\u001b[1;33m(\u001b[0m\u001b[0maxis\u001b[0m\u001b[1;33m=\u001b[0m\u001b[1;33m-\u001b[0m\u001b[1;36m1\u001b[0m\u001b[1;33m,\u001b[0m \u001b[0mkeepdims\u001b[0m\u001b[1;33m=\u001b[0m\u001b[1;32mTrue\u001b[0m\u001b[1;33m)\u001b[0m \u001b[1;33m*\u001b[0m \u001b[0mmax\u001b[0m\u001b[1;33m(\u001b[0m\u001b[0mA\u001b[0m\u001b[1;33m.\u001b[0m\u001b[0mshape\u001b[0m\u001b[1;33m[\u001b[0m\u001b[1;33m-\u001b[0m\u001b[1;36m2\u001b[0m\u001b[1;33m:\u001b[0m\u001b[1;33m]\u001b[0m\u001b[1;33m)\u001b[0m \u001b[1;33m*\u001b[0m \u001b[0mfinfo\u001b[0m\u001b[1;33m(\u001b[0m\u001b[0mS\u001b[0m\u001b[1;33m.\u001b[0m\u001b[0mdtype\u001b[0m\u001b[1;33m)\u001b[0m\u001b[1;33m.\u001b[0m\u001b[0meps\u001b[0m\u001b[1;33m\u001b[0m\u001b[1;33m\u001b[0m\u001b[0m\n",
      "\u001b[1;32mc:\\Users\\tatuh\\anaconda3\\lib\\site-packages\\numpy\\core\\overrides.py\u001b[0m in \u001b[0;36msvd\u001b[1;34m(*args, **kwargs)\u001b[0m\n",
      "\u001b[1;32mc:\\Users\\tatuh\\anaconda3\\lib\\site-packages\\numpy\\linalg\\linalg.py\u001b[0m in \u001b[0;36msvd\u001b[1;34m(a, full_matrices, compute_uv, hermitian)\u001b[0m\n\u001b[0;32m   1658\u001b[0m \u001b[1;33m\u001b[0m\u001b[0m\n\u001b[0;32m   1659\u001b[0m         \u001b[0msignature\u001b[0m \u001b[1;33m=\u001b[0m \u001b[1;34m'D->d'\u001b[0m \u001b[1;32mif\u001b[0m \u001b[0misComplexType\u001b[0m\u001b[1;33m(\u001b[0m\u001b[0mt\u001b[0m\u001b[1;33m)\u001b[0m \u001b[1;32melse\u001b[0m \u001b[1;34m'd->d'\u001b[0m\u001b[1;33m\u001b[0m\u001b[1;33m\u001b[0m\u001b[0m\n\u001b[1;32m-> 1660\u001b[1;33m         \u001b[0ms\u001b[0m \u001b[1;33m=\u001b[0m \u001b[0mgufunc\u001b[0m\u001b[1;33m(\u001b[0m\u001b[0ma\u001b[0m\u001b[1;33m,\u001b[0m \u001b[0msignature\u001b[0m\u001b[1;33m=\u001b[0m\u001b[0msignature\u001b[0m\u001b[1;33m,\u001b[0m \u001b[0mextobj\u001b[0m\u001b[1;33m=\u001b[0m\u001b[0mextobj\u001b[0m\u001b[1;33m)\u001b[0m\u001b[1;33m\u001b[0m\u001b[1;33m\u001b[0m\u001b[0m\n\u001b[0m\u001b[0;32m   1661\u001b[0m         \u001b[0ms\u001b[0m \u001b[1;33m=\u001b[0m \u001b[0ms\u001b[0m\u001b[1;33m.\u001b[0m\u001b[0mastype\u001b[0m\u001b[1;33m(\u001b[0m\u001b[0m_realType\u001b[0m\u001b[1;33m(\u001b[0m\u001b[0mresult_t\u001b[0m\u001b[1;33m)\u001b[0m\u001b[1;33m,\u001b[0m \u001b[0mcopy\u001b[0m\u001b[1;33m=\u001b[0m\u001b[1;32mFalse\u001b[0m\u001b[1;33m)\u001b[0m\u001b[1;33m\u001b[0m\u001b[1;33m\u001b[0m\u001b[0m\n\u001b[0;32m   1662\u001b[0m         \u001b[1;32mreturn\u001b[0m \u001b[0ms\u001b[0m\u001b[1;33m\u001b[0m\u001b[1;33m\u001b[0m\u001b[0m\n",
      "\u001b[1;32mc:\\Users\\tatuh\\anaconda3\\lib\\site-packages\\numpy\\linalg\\linalg.py\u001b[0m in \u001b[0;36m_raise_linalgerror_svd_nonconvergence\u001b[1;34m(err, flag)\u001b[0m\n\u001b[0;32m     95\u001b[0m \u001b[1;33m\u001b[0m\u001b[0m\n\u001b[0;32m     96\u001b[0m \u001b[1;32mdef\u001b[0m \u001b[0m_raise_linalgerror_svd_nonconvergence\u001b[0m\u001b[1;33m(\u001b[0m\u001b[0merr\u001b[0m\u001b[1;33m,\u001b[0m \u001b[0mflag\u001b[0m\u001b[1;33m)\u001b[0m\u001b[1;33m:\u001b[0m\u001b[1;33m\u001b[0m\u001b[1;33m\u001b[0m\u001b[0m\n\u001b[1;32m---> 97\u001b[1;33m     \u001b[1;32mraise\u001b[0m \u001b[0mLinAlgError\u001b[0m\u001b[1;33m(\u001b[0m\u001b[1;34m\"SVD did not converge\"\u001b[0m\u001b[1;33m)\u001b[0m\u001b[1;33m\u001b[0m\u001b[1;33m\u001b[0m\u001b[0m\n\u001b[0m\u001b[0;32m     98\u001b[0m \u001b[1;33m\u001b[0m\u001b[0m\n\u001b[0;32m     99\u001b[0m \u001b[1;32mdef\u001b[0m \u001b[0m_raise_linalgerror_lstsq\u001b[0m\u001b[1;33m(\u001b[0m\u001b[0merr\u001b[0m\u001b[1;33m,\u001b[0m \u001b[0mflag\u001b[0m\u001b[1;33m)\u001b[0m\u001b[1;33m:\u001b[0m\u001b[1;33m\u001b[0m\u001b[1;33m\u001b[0m\u001b[0m\n",
      "\u001b[1;31mLinAlgError\u001b[0m: SVD did not converge"
     ]
    }
   ],
   "source": [
    "#stationarity\n",
    "\n",
    "#augmented Dickie-Fuller\n",
    "#PP test - Phillips and Perron\n",
    "#KPSS\n",
    "\n",
    "print(\"ADF spot:\", adfuller(spot.dropna()))\n",
    "print(\"ADF logs:\", adfuller(np.log(spot.dropna())))\n",
    "\n",
    "print(\"PP spot:\", PhillipsPerron(spot.dropna()).summary().as_text())\n",
    "print(\"PP logs:\", PhillipsPerron(np.log(spot.dropna())).summary().as_text())\n",
    "\n"
   ]
  },
  {
   "cell_type": "code",
   "execution_count": 7,
   "metadata": {},
   "outputs": [
    {
     "name": "stdout",
     "output_type": "stream",
     "text": [
      "KPSS spot:     KPSS Stationarity Test Results   \n",
      "=====================================\n",
      "Test Statistic                  2.625\n",
      "P-value                         0.000\n",
      "Lags                               28\n",
      "-------------------------------------\n",
      "\n",
      "Trend: Constant\n",
      "Critical Values: 0.74 (1%), 0.46 (5%), 0.35 (10%)\n",
      "Null Hypothesis: The process is weakly stationary.\n",
      "Alternative Hypothesis: The process contains a unit root.\n"
     ]
    },
    {
     "name": "stderr",
     "output_type": "stream",
     "text": [
      "c:\\Users\\tatuh\\anaconda3\\lib\\site-packages\\statsmodels\\regression\\linear_model.py:1674: RuntimeWarning: invalid value encountered in subtract\n",
      "  return self.model.endog - self.model.predict(\n"
     ]
    },
    {
     "ename": "ValueError",
     "evalue": "cannot convert float NaN to integer",
     "output_type": "error",
     "traceback": [
      "\u001b[1;31m---------------------------------------------------------------------------\u001b[0m",
      "\u001b[1;31mValueError\u001b[0m                                Traceback (most recent call last)",
      "\u001b[1;32m~\\AppData\\Local\\Temp/ipykernel_89348/3967822902.py\u001b[0m in \u001b[0;36m<module>\u001b[1;34m\u001b[0m\n\u001b[0;32m      1\u001b[0m \u001b[0mprint\u001b[0m\u001b[1;33m(\u001b[0m\u001b[1;34m\"KPSS spot:\"\u001b[0m\u001b[1;33m,\u001b[0m \u001b[0mKPSS\u001b[0m\u001b[1;33m(\u001b[0m\u001b[0mspot\u001b[0m\u001b[1;33m.\u001b[0m\u001b[0mdropna\u001b[0m\u001b[1;33m(\u001b[0m\u001b[1;33m)\u001b[0m\u001b[1;33m)\u001b[0m\u001b[1;33m.\u001b[0m\u001b[0msummary\u001b[0m\u001b[1;33m(\u001b[0m\u001b[1;33m)\u001b[0m\u001b[1;33m.\u001b[0m\u001b[0mas_text\u001b[0m\u001b[1;33m(\u001b[0m\u001b[1;33m)\u001b[0m\u001b[1;33m)\u001b[0m\u001b[1;33m\u001b[0m\u001b[1;33m\u001b[0m\u001b[0m\n\u001b[1;32m----> 2\u001b[1;33m \u001b[0mprint\u001b[0m\u001b[1;33m(\u001b[0m\u001b[1;34m\"KPSS logs:\"\u001b[0m\u001b[1;33m,\u001b[0m \u001b[0mKPSS\u001b[0m\u001b[1;33m(\u001b[0m\u001b[0mnp\u001b[0m\u001b[1;33m.\u001b[0m\u001b[0mlog\u001b[0m\u001b[1;33m(\u001b[0m\u001b[0mspot\u001b[0m\u001b[1;33m.\u001b[0m\u001b[0mdropna\u001b[0m\u001b[1;33m(\u001b[0m\u001b[1;33m)\u001b[0m\u001b[1;33m)\u001b[0m\u001b[1;33m)\u001b[0m\u001b[1;33m.\u001b[0m\u001b[0msummary\u001b[0m\u001b[1;33m(\u001b[0m\u001b[1;33m)\u001b[0m\u001b[1;33m.\u001b[0m\u001b[0mas_text\u001b[0m\u001b[1;33m(\u001b[0m\u001b[1;33m)\u001b[0m\u001b[1;33m)\u001b[0m\u001b[1;33m\u001b[0m\u001b[1;33m\u001b[0m\u001b[0m\n\u001b[0m",
      "\u001b[1;32mc:\\Users\\tatuh\\anaconda3\\lib\\site-packages\\arch\\unitroot\\unitroot.py\u001b[0m in \u001b[0;36msummary\u001b[1;34m(self)\u001b[0m\n\u001b[0;32m    577\u001b[0m         \u001b[1;34m\"\"\"Summary of test, containing statistic, p-value and critical values\"\"\"\u001b[0m\u001b[1;33m\u001b[0m\u001b[1;33m\u001b[0m\u001b[0m\n\u001b[0;32m    578\u001b[0m         table_data = [\n\u001b[1;32m--> 579\u001b[1;33m             \u001b[1;33m(\u001b[0m\u001b[1;34m\"Test Statistic\"\u001b[0m\u001b[1;33m,\u001b[0m \u001b[1;34m\"{0:0.3f}\"\u001b[0m\u001b[1;33m.\u001b[0m\u001b[0mformat\u001b[0m\u001b[1;33m(\u001b[0m\u001b[0mself\u001b[0m\u001b[1;33m.\u001b[0m\u001b[0mstat\u001b[0m\u001b[1;33m)\u001b[0m\u001b[1;33m)\u001b[0m\u001b[1;33m,\u001b[0m\u001b[1;33m\u001b[0m\u001b[1;33m\u001b[0m\u001b[0m\n\u001b[0m\u001b[0;32m    580\u001b[0m             \u001b[1;33m(\u001b[0m\u001b[1;34m\"P-value\"\u001b[0m\u001b[1;33m,\u001b[0m \u001b[1;34m\"{0:0.3f}\"\u001b[0m\u001b[1;33m.\u001b[0m\u001b[0mformat\u001b[0m\u001b[1;33m(\u001b[0m\u001b[0mself\u001b[0m\u001b[1;33m.\u001b[0m\u001b[0mpvalue\u001b[0m\u001b[1;33m)\u001b[0m\u001b[1;33m)\u001b[0m\u001b[1;33m,\u001b[0m\u001b[1;33m\u001b[0m\u001b[1;33m\u001b[0m\u001b[0m\n\u001b[0;32m    581\u001b[0m             \u001b[1;33m(\u001b[0m\u001b[1;34m\"Lags\"\u001b[0m\u001b[1;33m,\u001b[0m \u001b[1;34m\"{0:d}\"\u001b[0m\u001b[1;33m.\u001b[0m\u001b[0mformat\u001b[0m\u001b[1;33m(\u001b[0m\u001b[0mself\u001b[0m\u001b[1;33m.\u001b[0m\u001b[0mlags\u001b[0m\u001b[1;33m)\u001b[0m\u001b[1;33m)\u001b[0m\u001b[1;33m,\u001b[0m\u001b[1;33m\u001b[0m\u001b[1;33m\u001b[0m\u001b[0m\n",
      "\u001b[1;32mc:\\Users\\tatuh\\anaconda3\\lib\\site-packages\\arch\\unitroot\\unitroot.py\u001b[0m in \u001b[0;36mstat\u001b[1;34m(self)\u001b[0m\n\u001b[0;32m    562\u001b[0m     \u001b[1;32mdef\u001b[0m \u001b[0mstat\u001b[0m\u001b[1;33m(\u001b[0m\u001b[0mself\u001b[0m\u001b[1;33m)\u001b[0m \u001b[1;33m->\u001b[0m \u001b[0mfloat\u001b[0m\u001b[1;33m:\u001b[0m\u001b[1;33m\u001b[0m\u001b[1;33m\u001b[0m\u001b[0m\n\u001b[0;32m    563\u001b[0m         \u001b[1;34m\"\"\"The test statistic for a unit root\"\"\"\u001b[0m\u001b[1;33m\u001b[0m\u001b[1;33m\u001b[0m\u001b[0m\n\u001b[1;32m--> 564\u001b[1;33m         \u001b[0mself\u001b[0m\u001b[1;33m.\u001b[0m\u001b[0m_compute_if_needed\u001b[0m\u001b[1;33m(\u001b[0m\u001b[1;33m)\u001b[0m\u001b[1;33m\u001b[0m\u001b[1;33m\u001b[0m\u001b[0m\n\u001b[0m\u001b[0;32m    565\u001b[0m         \u001b[1;32massert\u001b[0m \u001b[0mself\u001b[0m\u001b[1;33m.\u001b[0m\u001b[0m_stat\u001b[0m \u001b[1;32mis\u001b[0m \u001b[1;32mnot\u001b[0m \u001b[1;32mNone\u001b[0m\u001b[1;33m\u001b[0m\u001b[1;33m\u001b[0m\u001b[0m\n\u001b[0;32m    566\u001b[0m         \u001b[1;32mreturn\u001b[0m \u001b[0mself\u001b[0m\u001b[1;33m.\u001b[0m\u001b[0m_stat\u001b[0m\u001b[1;33m\u001b[0m\u001b[1;33m\u001b[0m\u001b[0m\n",
      "\u001b[1;32mc:\\Users\\tatuh\\anaconda3\\lib\\site-packages\\arch\\unitroot\\unitroot.py\u001b[0m in \u001b[0;36m_compute_if_needed\u001b[1;34m(self)\u001b[0m\n\u001b[0;32m    529\u001b[0m         \u001b[1;32mif\u001b[0m \u001b[0mself\u001b[0m\u001b[1;33m.\u001b[0m\u001b[0m_stat\u001b[0m \u001b[1;32mis\u001b[0m \u001b[1;32mNone\u001b[0m\u001b[1;33m:\u001b[0m\u001b[1;33m\u001b[0m\u001b[1;33m\u001b[0m\u001b[0m\n\u001b[0;32m    530\u001b[0m             \u001b[0mself\u001b[0m\u001b[1;33m.\u001b[0m\u001b[0m_check_specification\u001b[0m\u001b[1;33m(\u001b[0m\u001b[1;33m)\u001b[0m\u001b[1;33m\u001b[0m\u001b[1;33m\u001b[0m\u001b[0m\n\u001b[1;32m--> 531\u001b[1;33m             \u001b[0mself\u001b[0m\u001b[1;33m.\u001b[0m\u001b[0m_compute_statistic\u001b[0m\u001b[1;33m(\u001b[0m\u001b[1;33m)\u001b[0m\u001b[1;33m\u001b[0m\u001b[1;33m\u001b[0m\u001b[0m\n\u001b[0m\u001b[0;32m    532\u001b[0m \u001b[1;33m\u001b[0m\u001b[0m\n\u001b[0;32m    533\u001b[0m     \u001b[1;33m@\u001b[0m\u001b[0mproperty\u001b[0m\u001b[1;33m\u001b[0m\u001b[1;33m\u001b[0m\u001b[0m\n",
      "\u001b[1;32mc:\\Users\\tatuh\\anaconda3\\lib\\site-packages\\arch\\unitroot\\unitroot.py\u001b[0m in \u001b[0;36m_compute_statistic\u001b[1;34m(self)\u001b[0m\n\u001b[0;32m   1292\u001b[0m                 \u001b[0mself\u001b[0m\u001b[1;33m.\u001b[0m\u001b[0m_lags\u001b[0m \u001b[1;33m=\u001b[0m \u001b[0mint\u001b[0m\u001b[1;33m(\u001b[0m\u001b[0mceil\u001b[0m\u001b[1;33m(\u001b[0m\u001b[1;36m12.0\u001b[0m \u001b[1;33m*\u001b[0m \u001b[0mpower\u001b[0m\u001b[1;33m(\u001b[0m\u001b[0mnobs\u001b[0m \u001b[1;33m/\u001b[0m \u001b[1;36m100.0\u001b[0m\u001b[1;33m,\u001b[0m \u001b[1;36m1\u001b[0m \u001b[1;33m/\u001b[0m \u001b[1;36m4.0\u001b[0m\u001b[1;33m)\u001b[0m\u001b[1;33m)\u001b[0m\u001b[1;33m)\u001b[0m\u001b[1;33m\u001b[0m\u001b[1;33m\u001b[0m\u001b[0m\n\u001b[0;32m   1293\u001b[0m             \u001b[1;32melse\u001b[0m\u001b[1;33m:\u001b[0m\u001b[1;33m\u001b[0m\u001b[1;33m\u001b[0m\u001b[0m\n\u001b[1;32m-> 1294\u001b[1;33m                 \u001b[0mself\u001b[0m\u001b[1;33m.\u001b[0m\u001b[0m_autolag\u001b[0m\u001b[1;33m(\u001b[0m\u001b[1;33m)\u001b[0m\u001b[1;33m\u001b[0m\u001b[1;33m\u001b[0m\u001b[0m\n\u001b[0m\u001b[0;32m   1295\u001b[0m         \u001b[1;32massert\u001b[0m \u001b[0mself\u001b[0m\u001b[1;33m.\u001b[0m\u001b[0m_lags\u001b[0m \u001b[1;32mis\u001b[0m \u001b[1;32mnot\u001b[0m \u001b[1;32mNone\u001b[0m\u001b[1;33m\u001b[0m\u001b[1;33m\u001b[0m\u001b[0m\n\u001b[0;32m   1296\u001b[0m         \u001b[1;32mif\u001b[0m \u001b[0mu\u001b[0m\u001b[1;33m.\u001b[0m\u001b[0mshape\u001b[0m\u001b[1;33m[\u001b[0m\u001b[1;36m0\u001b[0m\u001b[1;33m]\u001b[0m \u001b[1;33m<\u001b[0m \u001b[0mself\u001b[0m\u001b[1;33m.\u001b[0m\u001b[0m_lags\u001b[0m\u001b[1;33m:\u001b[0m\u001b[1;33m\u001b[0m\u001b[1;33m\u001b[0m\u001b[0m\n",
      "\u001b[1;32mc:\\Users\\tatuh\\anaconda3\\lib\\site-packages\\arch\\unitroot\\unitroot.py\u001b[0m in \u001b[0;36m_autolag\u001b[1;34m(self)\u001b[0m\n\u001b[0;32m   1344\u001b[0m         \u001b[0mpwr\u001b[0m \u001b[1;33m=\u001b[0m \u001b[1;36m1.0\u001b[0m \u001b[1;33m/\u001b[0m \u001b[1;36m3.0\u001b[0m\u001b[1;33m\u001b[0m\u001b[1;33m\u001b[0m\u001b[0m\n\u001b[0;32m   1345\u001b[0m         \u001b[0mgamma_hat\u001b[0m \u001b[1;33m=\u001b[0m \u001b[1;36m1.1447\u001b[0m \u001b[1;33m*\u001b[0m \u001b[0mpower\u001b[0m\u001b[1;33m(\u001b[0m\u001b[0ms_hat\u001b[0m \u001b[1;33m*\u001b[0m \u001b[0ms_hat\u001b[0m\u001b[1;33m,\u001b[0m \u001b[0mpwr\u001b[0m\u001b[1;33m)\u001b[0m\u001b[1;33m\u001b[0m\u001b[1;33m\u001b[0m\u001b[0m\n\u001b[1;32m-> 1346\u001b[1;33m         \u001b[0mautolags\u001b[0m \u001b[1;33m=\u001b[0m \u001b[0mamin\u001b[0m\u001b[1;33m(\u001b[0m\u001b[1;33m[\u001b[0m\u001b[0mself\u001b[0m\u001b[1;33m.\u001b[0m\u001b[0m_nobs\u001b[0m\u001b[1;33m,\u001b[0m \u001b[0mint\u001b[0m\u001b[1;33m(\u001b[0m\u001b[0mgamma_hat\u001b[0m \u001b[1;33m*\u001b[0m \u001b[0mpower\u001b[0m\u001b[1;33m(\u001b[0m\u001b[0mself\u001b[0m\u001b[1;33m.\u001b[0m\u001b[0m_nobs\u001b[0m\u001b[1;33m,\u001b[0m \u001b[0mpwr\u001b[0m\u001b[1;33m)\u001b[0m\u001b[1;33m)\u001b[0m\u001b[1;33m]\u001b[0m\u001b[1;33m)\u001b[0m\u001b[1;33m\u001b[0m\u001b[1;33m\u001b[0m\u001b[0m\n\u001b[0m\u001b[0;32m   1347\u001b[0m         \u001b[0mself\u001b[0m\u001b[1;33m.\u001b[0m\u001b[0m_lags\u001b[0m \u001b[1;33m=\u001b[0m \u001b[0mint\u001b[0m\u001b[1;33m(\u001b[0m\u001b[0mautolags\u001b[0m\u001b[1;33m)\u001b[0m\u001b[1;33m\u001b[0m\u001b[1;33m\u001b[0m\u001b[0m\n\u001b[0;32m   1348\u001b[0m \u001b[1;33m\u001b[0m\u001b[0m\n",
      "\u001b[1;31mValueError\u001b[0m: cannot convert float NaN to integer"
     ]
    }
   ],
   "source": [
    "\n",
    "print(\"KPSS spot:\", KPSS(spot.dropna()).summary().as_text())\n",
    "print(\"KPSS logs:\", KPSS(np.log(spot.dropna())).summary().as_text())"
   ]
  },
  {
   "cell_type": "code",
   "execution_count": 8,
   "metadata": {},
   "outputs": [
    {
     "name": "stdout",
     "output_type": "stream",
     "text": [
      "ACF and PACF spot:\n",
      "ACF and PACF logs:\n"
     ]
    },
    {
     "name": "stderr",
     "output_type": "stream",
     "text": [
      "c:\\Users\\tatuh\\anaconda3\\lib\\site-packages\\statsmodels\\graphics\\tsaplots.py:348: FutureWarning: The default method 'yw' can produce PACF values outside of the [-1,1] interval. After 0.13, the default will change tounadjusted Yule-Walker ('ywm'). You can use this method now by setting method='ywm'.\n",
      "  warnings.warn(\n",
      "c:\\Users\\tatuh\\anaconda3\\lib\\site-packages\\pandas\\core\\arraylike.py:364: RuntimeWarning: divide by zero encountered in log\n",
      "  result = getattr(ufunc, method)(*inputs, **kwargs)\n",
      "c:\\Users\\tatuh\\anaconda3\\lib\\site-packages\\statsmodels\\tsa\\stattools.py:467: RuntimeWarning: invalid value encountered in subtract\n",
      "  xo = x - x.mean()\n",
      "c:\\Users\\tatuh\\anaconda3\\lib\\site-packages\\matplotlib\\axes\\_base.py:2283: UserWarning: Warning: converting a masked element to nan.\n",
      "  xys = np.asarray(xys)\n",
      "c:\\Users\\tatuh\\anaconda3\\lib\\site-packages\\pandas\\core\\arraylike.py:364: RuntimeWarning: divide by zero encountered in log\n",
      "  result = getattr(ufunc, method)(*inputs, **kwargs)\n",
      "c:\\Users\\tatuh\\anaconda3\\lib\\site-packages\\statsmodels\\graphics\\tsaplots.py:348: FutureWarning: The default method 'yw' can produce PACF values outside of the [-1,1] interval. After 0.13, the default will change tounadjusted Yule-Walker ('ywm'). You can use this method now by setting method='ywm'.\n",
      "  warnings.warn(\n",
      "c:\\Users\\tatuh\\anaconda3\\lib\\site-packages\\statsmodels\\regression\\linear_model.py:1453: RuntimeWarning: invalid value encountered in subtract\n",
      "  x -= x.mean()\n"
     ]
    },
    {
     "data": {
      "image/png": "[encoded data removed]",
      "text/plain": [
       "<Figure size 432x288 with 1 Axes>"
      ]
     },
     "execution_count": 8,
     "metadata": {},
     "output_type": "execute_result"
    },
    {
     "data": {
      "image/png": "[encoded data removed]",
      "text/plain": [
       "<Figure size 432x288 with 1 Axes>"
      ]
     },
     "metadata": {
      "needs_background": "light"
     },
     "output_type": "display_data"
    },
    {
     "data": {
      "image/png": "[encoded data removed]",
      "text/plain": [
       "<Figure size 432x288 with 1 Axes>"
      ]
     },
     "metadata": {
      "needs_background": "light"
     },
     "output_type": "display_data"
    },
    {
     "data": {
      "image/png": "[encoded data removed]",
      "text/plain": [
       "<Figure size 432x288 with 1 Axes>"
      ]
     },
     "metadata": {
      "needs_background": "light"
     },
     "output_type": "display_data"
    },
    {
     "data": {
      "image/png": "[encoded data removed]",
      "text/plain": [
       "<Figure size 432x288 with 1 Axes>"
      ]
     },
     "metadata": {
      "needs_background": "light"
     },
     "output_type": "display_data"
    }
   ],
   "source": [
    "#ACF and PACF\n",
    "\n",
    "print(\"ACF and PACF spot:\")\n",
    "plot_acf(spot.dropna(), lags = 15)\n",
    "plot_pacf(spot.dropna(), lags = 15)\n",
    "\n",
    "\n",
    "print(\"ACF and PACF logs:\")\n",
    "plot_acf(np.log(spot.dropna()), lags = 15)\n",
    "plot_pacf(np.log(spot.dropna()), lags = 15)\n",
    "\n"
   ]
  },
  {
   "cell_type": "code",
   "execution_count": null,
   "metadata": {},
   "outputs": [
    {
     "data": {
      "text/plain": [
       "0.6782943507735172"
      ]
     },
     "execution_count": 9,
     "metadata": {},
     "output_type": "execute_result"
    },
    {
     "data": {
      "image/png": "[encoded data removed]",
      "text/plain": [
       "<Figure size 432x288 with 1 Axes>"
      ]
     },
     "metadata": {
      "needs_background": "light"
     },
     "output_type": "display_data"
    }
   ],
   "source": [
    "spot.hist()\n",
    "0.6782943507735172"
   ]
  },
  {
   "cell_type": "code",
   "execution_count": null,
   "metadata": {},
   "outputs": [
    {
     "data": {
      "text/plain": [
       "<AxesSubplot:>"
      ]
     },
     "execution_count": 10,
     "metadata": {},
     "output_type": "execute_result"
    },
    {
     "data": {
      "image/png": "[encoded data removed]",
      "text/plain": [
       "<Figure size 432x288 with 1 Axes>"
      ]
     },
     "metadata": {
      "needs_background": "light"
     },
     "output_type": "display_data"
    }
   ],
   "source": [
    "np.log(spot).hist()"
   ]
  },
  {
   "cell_type": "code",
   "execution_count": null,
   "metadata": {},
   "outputs": [],
   "source": [
    "# Load the data and split it into separate pieces\n",
    "data = np.array(spot.dropna())\n",
    "train, test = model_selection.train_test_split(data, train_size=1200)"
   ]
  },
  {
   "cell_type": "code",
   "execution_count": null,
   "metadata": {},
   "outputs": [
    {
     "name": "stdout",
     "output_type": "stream",
     "text": [
      "Performing stepwise search to minimize aic\n",
      " ARIMA(2,1,2)(0,0,0)[0] intercept   : AIC=5261.975, Time=0.27 sec\n",
      " ARIMA(0,1,0)(0,0,0)[0] intercept   : AIC=5272.003, Time=0.03 sec\n",
      " ARIMA(1,1,0)(0,0,0)[0] intercept   : AIC=5273.818, Time=0.09 sec\n",
      " ARIMA(0,1,1)(0,0,0)[0] intercept   : AIC=5273.843, Time=0.10 sec\n",
      " ARIMA(0,1,0)(0,0,0)[0]             : AIC=5271.677, Time=0.03 sec\n",
      " ARIMA(1,1,2)(0,0,0)[0] intercept   : AIC=5257.718, Time=0.14 sec\n",
      " ARIMA(0,1,2)(0,0,0)[0] intercept   : AIC=5268.578, Time=0.13 sec\n",
      " ARIMA(1,1,1)(0,0,0)[0] intercept   : AIC=5270.718, Time=0.12 sec\n",
      " ARIMA(1,1,3)(0,0,0)[0] intercept   : AIC=5261.296, Time=0.19 sec\n",
      " ARIMA(0,1,3)(0,0,0)[0] intercept   : AIC=5267.157, Time=0.17 sec\n",
      " ARIMA(2,1,1)(0,0,0)[0] intercept   : AIC=5254.949, Time=0.14 sec\n",
      " ARIMA(2,1,0)(0,0,0)[0] intercept   : AIC=5268.450, Time=0.12 sec\n",
      " ARIMA(3,1,1)(0,0,0)[0] intercept   : AIC=5267.416, Time=0.16 sec\n",
      " ARIMA(3,1,0)(0,0,0)[0] intercept   : AIC=5265.680, Time=0.16 sec\n",
      " ARIMA(3,1,2)(0,0,0)[0] intercept   : AIC=5269.971, Time=0.19 sec\n",
      " ARIMA(2,1,1)(0,0,0)[0]             : AIC=5253.773, Time=0.07 sec\n",
      " ARIMA(1,1,1)(0,0,0)[0]             : AIC=5269.049, Time=0.06 sec\n",
      " ARIMA(2,1,0)(0,0,0)[0]             : AIC=5267.907, Time=0.06 sec\n",
      " ARIMA(3,1,1)(0,0,0)[0]             : AIC=5266.339, Time=0.09 sec\n",
      " ARIMA(2,1,2)(0,0,0)[0]             : AIC=5257.441, Time=0.10 sec\n",
      " ARIMA(1,1,0)(0,0,0)[0]             : AIC=5273.535, Time=0.04 sec\n",
      " ARIMA(1,1,2)(0,0,0)[0]             : AIC=5255.086, Time=0.08 sec\n",
      " ARIMA(3,1,0)(0,0,0)[0]             : AIC=5264.957, Time=0.08 sec\n",
      " ARIMA(3,1,2)(0,0,0)[0]             : AIC=5269.271, Time=0.12 sec\n",
      "\n",
      "Best model:  ARIMA(2,1,1)(0,0,0)[0]          \n",
      "Total fit time: 2.840 seconds\n"
     ]
    },
    {
     "data": {
      "image/png": "[encoded data removed]",
      "text/plain": [
       "<Figure size 432x288 with 1 Axes>"
      ]
     },
     "metadata": {
      "needs_background": "light"
     },
     "output_type": "display_data"
    }
   ],
   "source": [
    "# Fit a simple auto_arima model\n",
    "arima = pm.auto_arima(train, error_action='ignore', trace=True,\n",
    "                      suppress_warnings=True, maxiter=5,\n",
    "                      seasonal=False)\n",
    "\n",
    "#arima = pm.auto_arima(train, error_action='ignore', trace=True,\n",
    "                      #suppress_warnings=True, maxiter=5,\n",
    "                      #seasonal=True, m=12)\n",
    "\n",
    "# #############################################################################\n",
    "# Plot actual test vs. forecasts:\n",
    "x = np.arange(test.shape[0])\n",
    "plt.scatter(x, test, marker='x')\n",
    "plt.plot(x, arima.predict(n_periods=test.shape[0]))\n",
    "plt.title('Actual test samples vs. forecasts')\n",
    "plt.show()"
   ]
  },
  {
   "cell_type": "code",
   "execution_count": null,
   "metadata": {},
   "outputs": [
    {
     "data": {
      "text/html": [
       "<table class=\"simpletable\">\n",
       "<caption>SARIMAX Results</caption>\n",
       "<tr>\n",
       "  <th>Dep. Variable:</th>           <td>y</td>        <th>  No. Observations:  </th>   <td>1200</td>   \n",
       "</tr>\n",
       "<tr>\n",
       "  <th>Model:</th>           <td>SARIMAX(2, 1, 1)</td> <th>  Log Likelihood     </th> <td>-2622.886</td>\n",
       "</tr>\n",
       "<tr>\n",
       "  <th>Date:</th>            <td>Tue, 20 Dec 2022</td> <th>  AIC                </th> <td>5253.773</td> \n",
       "</tr>\n",
       "<tr>\n",
       "  <th>Time:</th>                <td>21:06:50</td>     <th>  BIC                </th> <td>5274.130</td> \n",
       "</tr>\n",
       "<tr>\n",
       "  <th>Sample:</th>                  <td>0</td>        <th>  HQIC               </th> <td>5261.442</td> \n",
       "</tr>\n",
       "<tr>\n",
       "  <th></th>                      <td> - 1200</td>     <th>                     </th>     <td> </td>    \n",
       "</tr>\n",
       "<tr>\n",
       "  <th>Covariance Type:</th>        <td>opg</td>       <th>                     </th>     <td> </td>    \n",
       "</tr>\n",
       "</table>\n",
       "<table class=\"simpletable\">\n",
       "<tr>\n",
       "     <td></td>       <th>coef</th>     <th>std err</th>      <th>z</th>      <th>P>|z|</th>  <th>[0.025</th>    <th>0.975]</th>  \n",
       "</tr>\n",
       "<tr>\n",
       "  <th>ar.L1</th>  <td>    0.7847</td> <td>    0.038</td> <td>   20.588</td> <td> 0.000</td> <td>    0.710</td> <td>    0.859</td>\n",
       "</tr>\n",
       "<tr>\n",
       "  <th>ar.L2</th>  <td>    0.0924</td> <td>    0.015</td> <td>    6.010</td> <td> 0.000</td> <td>    0.062</td> <td>    0.123</td>\n",
       "</tr>\n",
       "<tr>\n",
       "  <th>ma.L1</th>  <td>   -0.8102</td> <td>    0.040</td> <td>  -20.425</td> <td> 0.000</td> <td>   -0.888</td> <td>   -0.732</td>\n",
       "</tr>\n",
       "<tr>\n",
       "  <th>sigma2</th> <td>    4.6537</td> <td>    0.073</td> <td>   63.335</td> <td> 0.000</td> <td>    4.510</td> <td>    4.798</td>\n",
       "</tr>\n",
       "</table>\n",
       "<table class=\"simpletable\">\n",
       "<tr>\n",
       "  <th>Ljung-Box (L1) (Q):</th>     <td>0.00</td>  <th>  Jarque-Bera (JB):  </th> <td>7953.91</td>\n",
       "</tr>\n",
       "<tr>\n",
       "  <th>Prob(Q):</th>                <td>0.95</td>  <th>  Prob(JB):          </th>  <td>0.00</td>  \n",
       "</tr>\n",
       "<tr>\n",
       "  <th>Heteroskedasticity (H):</th> <td>11.01</td> <th>  Skew:              </th>  <td>-1.46</td> \n",
       "</tr>\n",
       "<tr>\n",
       "  <th>Prob(H) (two-sided):</th>    <td>0.00</td>  <th>  Kurtosis:          </th>  <td>15.27</td> \n",
       "</tr>\n",
       "</table><br/><br/>Warnings:<br/>[1] Covariance matrix calculated using the outer product of gradients (complex-step)."
      ],
      "text/plain": [
       "<class 'statsmodels.iolib.summary.Summary'>\n",
       "\"\"\"\n",
       "                               SARIMAX Results                                \n",
       "==============================================================================\n",
       "Dep. Variable:                      y   No. Observations:                 1200\n",
       "Model:               SARIMAX(2, 1, 1)   Log Likelihood               -2622.886\n",
       "Date:                Tue, 20 Dec 2022   AIC                           5253.773\n",
       "Time:                        21:06:50   BIC                           5274.130\n",
       "Sample:                             0   HQIC                          5261.442\n",
       "                               - 1200                                         \n",
       "Covariance Type:                  opg                                         \n",
       "==============================================================================\n",
       "                 coef    std err          z      P>|z|      [0.025      0.975]\n",
       "------------------------------------------------------------------------------\n",
       "ar.L1          0.7847      0.038     20.588      0.000       0.710       0.859\n",
       "ar.L2          0.0924      0.015      6.010      0.000       0.062       0.123\n",
       "ma.L1         -0.8102      0.040    -20.425      0.000      -0.888      -0.732\n",
       "sigma2         4.6537      0.073     63.335      0.000       4.510       4.798\n",
       "===================================================================================\n",
       "Ljung-Box (L1) (Q):                   0.00   Jarque-Bera (JB):              7953.91\n",
       "Prob(Q):                              0.95   Prob(JB):                         0.00\n",
       "Heteroskedasticity (H):              11.01   Skew:                            -1.46\n",
       "Prob(H) (two-sided):                  0.00   Kurtosis:                        15.27\n",
       "===================================================================================\n",
       "\n",
       "Warnings:\n",
       "[1] Covariance matrix calculated using the outer product of gradients (complex-step).\n",
       "\"\"\""
      ]
     },
     "execution_count": 14,
     "metadata": {},
     "output_type": "execute_result"
    }
   ],
   "source": [
    "arima.summary()"
   ]
  },
  {
   "cell_type": "code",
   "execution_count": null,
   "metadata": {},
   "outputs": [
    {
     "data": {
      "text/plain": [
       "[<matplotlib.lines.Line2D at 0x1f19decdc40>]"
      ]
     },
     "execution_count": 15,
     "metadata": {},
     "output_type": "execute_result"
    },
    {
     "data": {
      "image/png": "[encoded data removed]",
      "text/plain": [
       "<Figure size 432x288 with 1 Axes>"
      ]
     },
     "metadata": {
      "needs_background": "light"
     },
     "output_type": "display_data"
    }
   ],
   "source": [
    "plt.plot(x, arima.predict(n_periods=test.shape[0]))"
   ]
  },
  {
   "cell_type": "code",
   "execution_count": null,
   "metadata": {},
   "outputs": [
    {
     "data": {
      "text/plain": [
       "array([113.58409386, 113.36278699, 113.22371071, 113.0941245 ,\n",
       "       112.97958576, 112.87773162, 112.78722171, 112.70678585,\n",
       "       112.63530346, 112.57177784, 112.51532332, 112.46515281,\n",
       "       112.42056682, 112.38094375, 112.34573116, 112.31443812,\n",
       "       112.28662834, 112.26191409, 112.23995082, 112.22043229,\n",
       "       112.20308639, 112.18767129, 112.17397205, 112.16179769,\n",
       "       112.15097846, 112.14136354, 112.13281886, 112.1252253 ,\n",
       "       112.11847699, 112.11247984, 112.10715024, 112.10241388,\n",
       "       112.09820473, 112.0944641 , 112.09113985, 112.08818562,\n",
       "       112.08556023, 112.08322708, 112.08115363, 112.07931098,\n",
       "       112.07767343, 112.07621817, 112.07492489, 112.07377556,\n",
       "       112.07275417, 112.07184647, 112.07103981, 112.07032294,\n",
       "       112.06968586, 112.0691197 , 112.06861656, 112.06816942,\n",
       "       112.06777206, 112.06741892, 112.06710509, 112.0668262 ,\n",
       "       112.06657835, 112.06635809, 112.06616234, 112.06598839,\n",
       "       112.06583379, 112.06569641, 112.06557432, 112.06546581,\n",
       "       112.06536939, 112.0652837 , 112.06520755, 112.06513987,\n",
       "       112.06507973, 112.06502628, 112.06497878, 112.06493657,\n",
       "       112.06489905, 112.06486571, 112.06483609, 112.06480976,\n",
       "       112.06478636, 112.06476557, 112.06474709, 112.06473066,\n",
       "       112.06471607, 112.0647031 , 112.06469157, 112.06468133,\n",
       "       112.06467223, 112.06466414, 112.06465695, 112.06465056,\n",
       "       112.06464488, 112.06463984, 112.06463535, 112.06463137,\n",
       "       112.06462783, 112.06462468, 112.06462188, 112.0646194 ,\n",
       "       112.06461719, 112.06461522, 112.06461348, 112.06461193,\n",
       "       112.06461055, 112.06460933, 112.06460824, 112.06460727,\n",
       "       112.06460641, 112.06460565, 112.06460497, 112.06460437,\n",
       "       112.06460383, 112.06460335, 112.06460293, 112.06460255,\n",
       "       112.06460222, 112.06460192, 112.06460166, 112.06460142,\n",
       "       112.06460122, 112.06460103, 112.06460087, 112.06460072,\n",
       "       112.06460059, 112.06460047, 112.06460037, 112.06460028,\n",
       "       112.0646002 , 112.06460013, 112.06460006, 112.06460001,\n",
       "       112.06459995, 112.06459991, 112.06459987, 112.06459983,\n",
       "       112.0645998 , 112.06459977, 112.06459975, 112.06459973,\n",
       "       112.06459971, 112.06459969, 112.06459967, 112.06459966,\n",
       "       112.06459965, 112.06459964, 112.06459963, 112.06459962,\n",
       "       112.06459961, 112.06459961, 112.0645996 , 112.06459959,\n",
       "       112.06459959, 112.06459958, 112.06459958, 112.06459958,\n",
       "       112.06459957, 112.06459957, 112.06459957, 112.06459957,\n",
       "       112.06459957, 112.06459956, 112.06459956, 112.06459956,\n",
       "       112.06459956, 112.06459956, 112.06459956, 112.06459956,\n",
       "       112.06459956, 112.06459956, 112.06459956, 112.06459955,\n",
       "       112.06459955, 112.06459955, 112.06459955, 112.06459955,\n",
       "       112.06459955, 112.06459955, 112.06459955, 112.06459955,\n",
       "       112.06459955, 112.06459955, 112.06459955, 112.06459955,\n",
       "       112.06459955, 112.06459955, 112.06459955, 112.06459955,\n",
       "       112.06459955, 112.06459955, 112.06459955, 112.06459955,\n",
       "       112.06459955, 112.06459955, 112.06459955, 112.06459955,\n",
       "       112.06459955, 112.06459955, 112.06459955, 112.06459955,\n",
       "       112.06459955, 112.06459955, 112.06459955, 112.06459955,\n",
       "       112.06459955, 112.06459955, 112.06459955, 112.06459955,\n",
       "       112.06459955, 112.06459955, 112.06459955, 112.06459955,\n",
       "       112.06459955, 112.06459955, 112.06459955, 112.06459955,\n",
       "       112.06459955, 112.06459955, 112.06459955, 112.06459955,\n",
       "       112.06459955, 112.06459955, 112.06459955, 112.06459955,\n",
       "       112.06459955, 112.06459955, 112.06459955, 112.06459955,\n",
       "       112.06459955, 112.06459955, 112.06459955, 112.06459955,\n",
       "       112.06459955, 112.06459955, 112.06459955, 112.06459955,\n",
       "       112.06459955, 112.06459955, 112.06459955, 112.06459955,\n",
       "       112.06459955, 112.06459955, 112.06459955, 112.06459955,\n",
       "       112.06459955, 112.06459955, 112.06459955, 112.06459955,\n",
       "       112.06459955, 112.06459955, 112.06459955, 112.06459955,\n",
       "       112.06459955, 112.06459955, 112.06459955, 112.06459955,\n",
       "       112.06459955, 112.06459955, 112.06459955, 112.06459955,\n",
       "       112.06459955, 112.06459955, 112.06459955, 112.06459955,\n",
       "       112.06459955, 112.06459955, 112.06459955, 112.06459955,\n",
       "       112.06459955, 112.06459955, 112.06459955, 112.06459955,\n",
       "       112.06459955, 112.06459955, 112.06459955, 112.06459955,\n",
       "       112.06459955, 112.06459955, 112.06459955, 112.06459955,\n",
       "       112.06459955, 112.06459955, 112.06459955, 112.06459955,\n",
       "       112.06459955, 112.06459955, 112.06459955, 112.06459955,\n",
       "       112.06459955, 112.06459955, 112.06459955, 112.06459955,\n",
       "       112.06459955, 112.06459955, 112.06459955, 112.06459955,\n",
       "       112.06459955, 112.06459955, 112.06459955, 112.06459955,\n",
       "       112.06459955, 112.06459955, 112.06459955, 112.06459955,\n",
       "       112.06459955, 112.06459955, 112.06459955, 112.06459955,\n",
       "       112.06459955, 112.06459955, 112.06459955, 112.06459955,\n",
       "       112.06459955, 112.06459955, 112.06459955, 112.06459955,\n",
       "       112.06459955, 112.06459955, 112.06459955, 112.06459955,\n",
       "       112.06459955, 112.06459955, 112.06459955, 112.06459955,\n",
       "       112.06459955, 112.06459955, 112.06459955, 112.06459955,\n",
       "       112.06459955, 112.06459955, 112.06459955, 112.06459955,\n",
       "       112.06459955, 112.06459955, 112.06459955, 112.06459955,\n",
       "       112.06459955, 112.06459955, 112.06459955, 112.06459955,\n",
       "       112.06459955, 112.06459955, 112.06459955, 112.06459955,\n",
       "       112.06459955, 112.06459955, 112.06459955, 112.06459955,\n",
       "       112.06459955, 112.06459955, 112.06459955, 112.06459955,\n",
       "       112.06459955, 112.06459955, 112.06459955, 112.06459955,\n",
       "       112.06459955, 112.06459955, 112.06459955, 112.06459955,\n",
       "       112.06459955, 112.06459955, 112.06459955, 112.06459955,\n",
       "       112.06459955, 112.06459955, 112.06459955, 112.06459955,\n",
       "       112.06459955, 112.06459955, 112.06459955, 112.06459955,\n",
       "       112.06459955, 112.06459955, 112.06459955, 112.06459955,\n",
       "       112.06459955, 112.06459955, 112.06459955, 112.06459955,\n",
       "       112.06459955, 112.06459955, 112.06459955, 112.06459955,\n",
       "       112.06459955, 112.06459955, 112.06459955, 112.06459955,\n",
       "       112.06459955, 112.06459955, 112.06459955, 112.06459955,\n",
       "       112.06459955, 112.06459955, 112.06459955, 112.06459955,\n",
       "       112.06459955, 112.06459955, 112.06459955, 112.06459955,\n",
       "       112.06459955, 112.06459955, 112.06459955, 112.06459955,\n",
       "       112.06459955, 112.06459955, 112.06459955, 112.06459955,\n",
       "       112.06459955, 112.06459955, 112.06459955, 112.06459955,\n",
       "       112.06459955, 112.06459955, 112.06459955, 112.06459955,\n",
       "       112.06459955, 112.06459955, 112.06459955, 112.06459955,\n",
       "       112.06459955, 112.06459955, 112.06459955, 112.06459955,\n",
       "       112.06459955, 112.06459955, 112.06459955, 112.06459955,\n",
       "       112.06459955, 112.06459955, 112.06459955, 112.06459955,\n",
       "       112.06459955, 112.06459955, 112.06459955, 112.06459955,\n",
       "       112.06459955, 112.06459955, 112.06459955, 112.06459955,\n",
       "       112.06459955, 112.06459955, 112.06459955, 112.06459955,\n",
       "       112.06459955, 112.06459955, 112.06459955, 112.06459955,\n",
       "       112.06459955, 112.06459955, 112.06459955, 112.06459955,\n",
       "       112.06459955, 112.06459955, 112.06459955, 112.06459955,\n",
       "       112.06459955, 112.06459955, 112.06459955, 112.06459955,\n",
       "       112.06459955, 112.06459955, 112.06459955, 112.06459955,\n",
       "       112.06459955, 112.06459955, 112.06459955, 112.06459955,\n",
       "       112.06459955, 112.06459955, 112.06459955, 112.06459955,\n",
       "       112.06459955, 112.06459955, 112.06459955, 112.06459955,\n",
       "       112.06459955, 112.06459955, 112.06459955, 112.06459955,\n",
       "       112.06459955, 112.06459955, 112.06459955, 112.06459955,\n",
       "       112.06459955, 112.06459955, 112.06459955, 112.06459955,\n",
       "       112.06459955, 112.06459955, 112.06459955, 112.06459955,\n",
       "       112.06459955, 112.06459955, 112.06459955, 112.06459955,\n",
       "       112.06459955, 112.06459955, 112.06459955, 112.06459955,\n",
       "       112.06459955, 112.06459955, 112.06459955, 112.06459955,\n",
       "       112.06459955, 112.06459955, 112.06459955, 112.06459955,\n",
       "       112.06459955, 112.06459955, 112.06459955, 112.06459955,\n",
       "       112.06459955, 112.06459955, 112.06459955, 112.06459955,\n",
       "       112.06459955, 112.06459955, 112.06459955, 112.06459955,\n",
       "       112.06459955, 112.06459955, 112.06459955, 112.06459955,\n",
       "       112.06459955, 112.06459955, 112.06459955, 112.06459955,\n",
       "       112.06459955, 112.06459955, 112.06459955, 112.06459955,\n",
       "       112.06459955, 112.06459955, 112.06459955, 112.06459955,\n",
       "       112.06459955, 112.06459955, 112.06459955, 112.06459955,\n",
       "       112.06459955, 112.06459955, 112.06459955, 112.06459955,\n",
       "       112.06459955, 112.06459955, 112.06459955, 112.06459955,\n",
       "       112.06459955, 112.06459955, 112.06459955, 112.06459955,\n",
       "       112.06459955, 112.06459955, 112.06459955, 112.06459955,\n",
       "       112.06459955, 112.06459955, 112.06459955, 112.06459955,\n",
       "       112.06459955, 112.06459955, 112.06459955, 112.06459955,\n",
       "       112.06459955, 112.06459955, 112.06459955, 112.06459955,\n",
       "       112.06459955, 112.06459955, 112.06459955, 112.06459955,\n",
       "       112.06459955, 112.06459955, 112.06459955, 112.06459955,\n",
       "       112.06459955, 112.06459955, 112.06459955, 112.06459955,\n",
       "       112.06459955, 112.06459955, 112.06459955, 112.06459955,\n",
       "       112.06459955, 112.06459955, 112.06459955, 112.06459955,\n",
       "       112.06459955, 112.06459955, 112.06459955, 112.06459955,\n",
       "       112.06459955, 112.06459955, 112.06459955, 112.06459955,\n",
       "       112.06459955, 112.06459955, 112.06459955, 112.06459955,\n",
       "       112.06459955, 112.06459955, 112.06459955, 112.06459955,\n",
       "       112.06459955])"
      ]
     },
     "execution_count": 16,
     "metadata": {},
     "output_type": "execute_result"
    }
   ],
   "source": [
    "arima.predict(n_periods=test.shape[0])"
   ]
  },
  {
   "cell_type": "code",
   "execution_count": null,
   "metadata": {},
   "outputs": [
    {
     "data": {
      "text/plain": [
       "<AxesSubplot:xlabel='Timestamp'>"
      ]
     },
     "execution_count": 18,
     "metadata": {},
     "output_type": "execute_result"
    },
    {
     "data": {
      "image/png": "[encoded data removed]",
      "text/plain": [
       "<Figure size 432x288 with 1 Axes>"
      ]
     },
     "metadata": {
      "needs_background": "light"
     },
     "output_type": "display_data"
    }
   ],
   "source": [
    "spot2 = np.log(spot).diff()\n",
    "spot2.plot()"
   ]
  },
  {
   "cell_type": "code",
   "execution_count": null,
   "metadata": {},
   "outputs": [
    {
     "data": {
      "text/plain": [
       "count    1800.000000\n",
       "mean        0.000909\n",
       "std         0.049472\n",
       "min        -0.343901\n",
       "25%        -0.022642\n",
       "50%         0.003125\n",
       "75%         0.027294\n",
       "max         0.313519\n",
       "Name: LCOc1, dtype: float64"
      ]
     },
     "execution_count": 19,
     "metadata": {},
     "output_type": "execute_result"
    }
   ],
   "source": [
    "#statistics\n",
    "\n",
    "#mean\n",
    "#sd\n",
    "#skewness\n",
    "#kurtosis\n",
    "#jb test\n",
    "#Ljung Box Q(6) and Q^2(6)\n",
    "#observations\n",
    "\n",
    "spot2.describe()\n",
    "#spot.dropna().describe()"
   ]
  },
  {
   "cell_type": "code",
   "execution_count": null,
   "metadata": {},
   "outputs": [
    {
     "name": "stdout",
     "output_type": "stream",
     "text": [
      "Skewness spot: -0.6151471970262871\n",
      "Kurtosis spot: 8.615984494540376\n",
      "JB spot: Jarque_beraResult(statistic=2478.967960421633, pvalue=0.0)\n",
      "Q(6) spot:      lb_stat  lb_pvalue\n",
      "6  12.055203   0.060749\n"
     ]
    }
   ],
   "source": [
    "print(\"Skewness spot:\", scipy.stats.skew(spot2.dropna(), axis=0, bias=True))\n",
    "#print(\"Skewness logs:\", scipy.stats.skew(np.log(spot2.dropna()), axis=0, bias=True))\n",
    "print(\"Kurtosis spot:\", scipy.stats.kurtosis(spot2.dropna(), axis=0, fisher=False, bias=True))\n",
    "#print(\"Kurtosis logs:\", scipy.stats.kurtosis(np.log(spot2.dropna()), fisher=False, axis=0, bias=True))\n",
    "\n",
    "print(\"JB spot:\", scipy.stats.jarque_bera(spot2.dropna()))\n",
    "#print(\"JB logs:\", scipy.stats.jarque_bera(np.log(spot2.dropna())))\n",
    "#The Jarque-Bera Test is typically used for large datasets (n > 2000) in which other normality tests (like the Shapiro-Wilk test) are unreliable.\n",
    "\n",
    "print(\"Q(6) spot:\", sm.stats.acorr_ljungbox(spot2.dropna(), lags=[6]))\n",
    "#print(\"Q(6) logs:\", sm.stats.acorr_ljungbox(np.log(spot2.dropna()), lags=[6]))"
   ]
  },
  {
   "cell_type": "code",
   "execution_count": null,
   "metadata": {},
   "outputs": [
    {
     "name": "stdout",
     "output_type": "stream",
     "text": [
      "ADF spot: (-17.1207202646874, 7.259680445319301e-30, 4, 1795, {'1%': -3.4339982875683357, '5%': -2.863151515989605, '10%': -2.567627919165742}, -5651.241842608104)\n",
      "PP spot:      Phillips-Perron Test (Z-tau)    \n",
      "=====================================\n",
      "Test Statistic                -43.728\n",
      "P-value                         0.000\n",
      "Lags                               25\n",
      "-------------------------------------\n",
      "\n",
      "Trend: Constant\n",
      "Critical Values: -3.43 (1%), -2.86 (5%), -2.57 (10%)\n",
      "Null Hypothesis: The process contains a unit root.\n",
      "Alternative Hypothesis: The process is weakly stationary.\n"
     ]
    }
   ],
   "source": [
    "#stationarity\n",
    "\n",
    "#augmented Dickie-Fuller\n",
    "#PP test - Phillips and Perron\n",
    "#KPSS\n",
    "\n",
    "print(\"ADF spot:\", adfuller(spot2.dropna()))\n",
    "#print(\"ADF logs:\", adfuller(np.log(spot2.dropna())))\n",
    "\n",
    "print(\"PP spot:\", PhillipsPerron(spot2.dropna()).summary().as_text())\n",
    "#print(\"PP logs:\", PhillipsPerron(np.log(spot2.dropna())).summary().as_text())"
   ]
  },
  {
   "cell_type": "code",
   "execution_count": null,
   "metadata": {},
   "outputs": [
    {
     "name": "stdout",
     "output_type": "stream",
     "text": [
      "KPSS spot:     KPSS Stationarity Test Results   \n",
      "=====================================\n",
      "Test Statistic                  0.038\n",
      "P-value                         0.943\n",
      "Lags                               11\n",
      "-------------------------------------\n",
      "\n",
      "Trend: Constant\n",
      "Critical Values: 0.74 (1%), 0.46 (5%), 0.35 (10%)\n",
      "Null Hypothesis: The process is weakly stationary.\n",
      "Alternative Hypothesis: The process contains a unit root.\n"
     ]
    }
   ],
   "source": [
    "print(\"KPSS spot:\", KPSS(spot2.dropna()).summary().as_text())\n",
    "#print(\"KPSS logs:\", KPSS(np.log(spot2.dropna())).summary().as_text())"
   ]
  },
  {
   "cell_type": "code",
   "execution_count": null,
   "metadata": {},
   "outputs": [
    {
     "name": "stdout",
     "output_type": "stream",
     "text": [
      "ACF and PACF spot:\n"
     ]
    },
    {
     "name": "stderr",
     "output_type": "stream",
     "text": [
      "c:\\Users\\tatuh\\anaconda3\\lib\\site-packages\\statsmodels\\graphics\\tsaplots.py:348: FutureWarning: The default method 'yw' can produce PACF values outside of the [-1,1] interval. After 0.13, the default will change tounadjusted Yule-Walker ('ywm'). You can use this method now by setting method='ywm'.\n",
      "  warnings.warn(\n"
     ]
    },
    {
     "data": {
      "image/png": "[encoded data removed]",
      "text/plain": [
       "<Figure size 432x288 with 1 Axes>"
      ]
     },
     "execution_count": 23,
     "metadata": {},
     "output_type": "execute_result"
    },
    {
     "data": {
      "image/png": "[encoded data removed]",
      "text/plain": [
       "<Figure size 432x288 with 1 Axes>"
      ]
     },
     "metadata": {
      "needs_background": "light"
     },
     "output_type": "display_data"
    },
    {
     "data": {
      "image/png": "[encoded data removed]",
      "text/plain": [
       "<Figure size 432x288 with 1 Axes>"
      ]
     },
     "metadata": {
      "needs_background": "light"
     },
     "output_type": "display_data"
    }
   ],
   "source": [
    "#ACF and PACF\n",
    "\n",
    "print(\"ACF and PACF spot:\")\n",
    "plot_acf(spot2.dropna(), lags = 15)\n",
    "plot_pacf(spot2.dropna(), lags = 15)\n",
    "\n",
    "\n",
    "#print(\"ACF and PACF logs:\")\n",
    "#plot_acf(np.log(spot2.dropna()), lags = 15)\n",
    "#plot_pacf(np.log(spot2.dropna()), lags = 15)\n"
   ]
  },
  {
   "cell_type": "code",
   "execution_count": null,
   "metadata": {},
   "outputs": [
    {
     "data": {
      "text/plain": [
       "<AxesSubplot:>"
      ]
     },
     "execution_count": 24,
     "metadata": {},
     "output_type": "execute_result"
    },
    {
     "data": {
      "image/png": "[encoded data removed]",
      "text/plain": [
       "<Figure size 432x288 with 1 Axes>"
      ]
     },
     "metadata": {
      "needs_background": "light"
     },
     "output_type": "display_data"
    }
   ],
   "source": [
    "spot2.hist()\n"
   ]
  },
  {
   "cell_type": "code",
   "execution_count": null,
   "metadata": {},
   "outputs": [],
   "source": [
    "# Load the data and split it into separate pieces\n",
    "data2 = np.array(spot2.dropna())\n",
    "train2, test2 = model_selection.train_test_split(data2, train_size=1200)"
   ]
  },
  {
   "cell_type": "code",
   "execution_count": null,
   "metadata": {},
   "outputs": [
    {
     "name": "stdout",
     "output_type": "stream",
     "text": [
      "Performing stepwise search to minimize aic\n",
      " ARIMA(2,0,2)(0,0,0)[0]             : AIC=-3835.585, Time=0.13 sec\n",
      " ARIMA(0,0,0)(0,0,0)[0]             : AIC=-3827.376, Time=0.05 sec\n",
      " ARIMA(1,0,0)(0,0,0)[0]             : AIC=-3833.777, Time=0.07 sec\n",
      " ARIMA(0,0,1)(0,0,0)[0]             : AIC=-3832.946, Time=0.05 sec\n",
      " ARIMA(1,0,2)(0,0,0)[0]             : AIC=-3837.740, Time=0.10 sec\n",
      " ARIMA(0,0,2)(0,0,0)[0]             : AIC=-3835.274, Time=0.08 sec\n",
      " ARIMA(1,0,1)(0,0,0)[0]             : AIC=-3832.469, Time=0.06 sec\n",
      " ARIMA(1,0,3)(0,0,0)[0]             : AIC=-3835.358, Time=0.12 sec\n",
      " ARIMA(0,0,3)(0,0,0)[0]             : AIC=-3836.497, Time=0.10 sec\n",
      " ARIMA(2,0,1)(0,0,0)[0]             : AIC=-3823.711, Time=0.07 sec\n",
      " ARIMA(2,0,3)(0,0,0)[0]             : AIC=-3833.846, Time=0.15 sec\n",
      " ARIMA(1,0,2)(0,0,0)[0] intercept   : AIC=-3836.565, Time=0.13 sec\n",
      "\n",
      "Best model:  ARIMA(1,0,2)(0,0,0)[0]          \n",
      "Total fit time: 1.124 seconds\n"
     ]
    },
    {
     "data": {
      "image/png": "[encoded data removed]",
      "text/plain": [
       "<Figure size 432x288 with 1 Axes>"
      ]
     },
     "metadata": {
      "needs_background": "light"
     },
     "output_type": "display_data"
    }
   ],
   "source": [
    "# Fit a simple auto_arima model\n",
    "arima2 = pm.auto_arima(train2, error_action='ignore', trace=True,\n",
    "                      suppress_warnings=True, maxiter=5,\n",
    "                      seasonal=False)\n",
    "\n",
    "#arima = pm.auto_arima(train, error_action='ignore', trace=True,\n",
    "                      #suppress_warnings=True, maxiter=5,\n",
    "                      #seasonal=True, m=12)\n",
    "\n",
    "# #############################################################################\n",
    "# Plot actual test vs. forecasts:\n",
    "x2 = np.arange(test2.shape[0])\n",
    "plt.scatter(x2, test2, marker='x')\n",
    "plt.plot(x2, arima2.predict(n_periods=test2.shape[0]))\n",
    "plt.title('Actual test samples vs. forecasts')\n",
    "plt.show()"
   ]
  },
  {
   "cell_type": "code",
   "execution_count": null,
   "metadata": {},
   "outputs": [
    {
     "data": {
      "text/html": [
       "<table class=\"simpletable\">\n",
       "<caption>SARIMAX Results</caption>\n",
       "<tr>\n",
       "  <th>Dep. Variable:</th>           <td>y</td>        <th>  No. Observations:  </th>   <td>1200</td>   \n",
       "</tr>\n",
       "<tr>\n",
       "  <th>Model:</th>           <td>SARIMAX(1, 0, 2)</td> <th>  Log Likelihood     </th> <td>1922.870</td> \n",
       "</tr>\n",
       "<tr>\n",
       "  <th>Date:</th>            <td>Tue, 20 Dec 2022</td> <th>  AIC                </th> <td>-3837.740</td>\n",
       "</tr>\n",
       "<tr>\n",
       "  <th>Time:</th>                <td>21:10:47</td>     <th>  BIC                </th> <td>-3817.380</td>\n",
       "</tr>\n",
       "<tr>\n",
       "  <th>Sample:</th>                  <td>0</td>        <th>  HQIC               </th> <td>-3830.071</td>\n",
       "</tr>\n",
       "<tr>\n",
       "  <th></th>                      <td> - 1200</td>     <th>                     </th>     <td> </td>    \n",
       "</tr>\n",
       "<tr>\n",
       "  <th>Covariance Type:</th>        <td>opg</td>       <th>                     </th>     <td> </td>    \n",
       "</tr>\n",
       "</table>\n",
       "<table class=\"simpletable\">\n",
       "<tr>\n",
       "     <td></td>       <th>coef</th>     <th>std err</th>      <th>z</th>      <th>P>|z|</th>  <th>[0.025</th>    <th>0.975]</th>  \n",
       "</tr>\n",
       "<tr>\n",
       "  <th>ar.L1</th>  <td>    0.6575</td> <td>    0.152</td> <td>    4.321</td> <td> 0.000</td> <td>    0.359</td> <td>    0.956</td>\n",
       "</tr>\n",
       "<tr>\n",
       "  <th>ma.L1</th>  <td>   -0.7439</td> <td>    0.156</td> <td>   -4.781</td> <td> 0.000</td> <td>   -1.049</td> <td>   -0.439</td>\n",
       "</tr>\n",
       "<tr>\n",
       "  <th>ma.L2</th>  <td>    0.1175</td> <td>    0.022</td> <td>    5.385</td> <td> 0.000</td> <td>    0.075</td> <td>    0.160</td>\n",
       "</tr>\n",
       "<tr>\n",
       "  <th>sigma2</th> <td>    0.0024</td> <td>  5.6e-05</td> <td>   42.404</td> <td> 0.000</td> <td>    0.002</td> <td>    0.002</td>\n",
       "</tr>\n",
       "</table>\n",
       "<table class=\"simpletable\">\n",
       "<tr>\n",
       "  <th>Ljung-Box (L1) (Q):</th>     <td>0.00</td> <th>  Jarque-Bera (JB):  </th> <td>1156.82</td>\n",
       "</tr>\n",
       "<tr>\n",
       "  <th>Prob(Q):</th>                <td>0.99</td> <th>  Prob(JB):          </th>  <td>0.00</td>  \n",
       "</tr>\n",
       "<tr>\n",
       "  <th>Heteroskedasticity (H):</th> <td>1.14</td> <th>  Skew:              </th>  <td>-0.79</td> \n",
       "</tr>\n",
       "<tr>\n",
       "  <th>Prob(H) (two-sided):</th>    <td>0.19</td> <th>  Kurtosis:          </th>  <td>7.54</td>  \n",
       "</tr>\n",
       "</table><br/><br/>Warnings:<br/>[1] Covariance matrix calculated using the outer product of gradients (complex-step)."
      ],
      "text/plain": [
       "<class 'statsmodels.iolib.summary.Summary'>\n",
       "\"\"\"\n",
       "                               SARIMAX Results                                \n",
       "==============================================================================\n",
       "Dep. Variable:                      y   No. Observations:                 1200\n",
       "Model:               SARIMAX(1, 0, 2)   Log Likelihood                1922.870\n",
       "Date:                Tue, 20 Dec 2022   AIC                          -3837.740\n",
       "Time:                        21:10:47   BIC                          -3817.380\n",
       "Sample:                             0   HQIC                         -3830.071\n",
       "                               - 1200                                         \n",
       "Covariance Type:                  opg                                         \n",
       "==============================================================================\n",
       "                 coef    std err          z      P>|z|      [0.025      0.975]\n",
       "------------------------------------------------------------------------------\n",
       "ar.L1          0.6575      0.152      4.321      0.000       0.359       0.956\n",
       "ma.L1         -0.7439      0.156     -4.781      0.000      -1.049      -0.439\n",
       "ma.L2          0.1175      0.022      5.385      0.000       0.075       0.160\n",
       "sigma2         0.0024    5.6e-05     42.404      0.000       0.002       0.002\n",
       "===================================================================================\n",
       "Ljung-Box (L1) (Q):                   0.00   Jarque-Bera (JB):              1156.82\n",
       "Prob(Q):                              0.99   Prob(JB):                         0.00\n",
       "Heteroskedasticity (H):               1.14   Skew:                            -0.79\n",
       "Prob(H) (two-sided):                  0.19   Kurtosis:                         7.54\n",
       "===================================================================================\n",
       "\n",
       "Warnings:\n",
       "[1] Covariance matrix calculated using the outer product of gradients (complex-step).\n",
       "\"\"\""
      ]
     },
     "execution_count": 28,
     "metadata": {},
     "output_type": "execute_result"
    }
   ],
   "source": [
    "arima2.summary()"
   ]
  },
  {
   "cell_type": "code",
   "execution_count": null,
   "metadata": {},
   "outputs": [
    {
     "data": {
      "text/plain": [
       "[<matplotlib.lines.Line2D at 0x1f19d3de700>]"
      ]
     },
     "execution_count": 29,
     "metadata": {},
     "output_type": "execute_result"
    },
    {
     "data": {
      "image/png": "[encoded data removed]",
      "text/plain": [
       "<Figure size 432x288 with 1 Axes>"
      ]
     },
     "metadata": {
      "needs_background": "light"
     },
     "output_type": "display_data"
    }
   ],
   "source": [
    "plt.plot(x2, arima2.predict(n_periods=test2.shape[0]))"
   ]
  },
  {
   "cell_type": "code",
   "execution_count": null,
   "metadata": {},
   "outputs": [
    {
     "data": {
      "text/plain": [
       "array([ 5.46981372e-003, -5.83087251e-003, -3.83402953e-003,\n",
       "       -2.52102621e-003, -1.65767454e-003, -1.08998664e-003,\n",
       "       -7.16709371e-004, -4.71264787e-004, -3.09875255e-004,\n",
       "       -2.03755249e-004, -1.33977143e-004, -8.80952758e-005,\n",
       "       -5.79261317e-005, -3.80887249e-005, -2.50448446e-005,\n",
       "       -1.64679769e-005, -1.08283468e-005, -7.12006673e-006,\n",
       "       -4.68172577e-006, -3.07842005e-006, -2.02418306e-006,\n",
       "       -1.33098050e-006, -8.75172376e-007, -5.75460487e-007,\n",
       "       -3.78388053e-007, -2.48805126e-007, -1.63599221e-007,\n",
       "       -1.07572965e-007, -7.07334833e-008, -4.65100657e-008,\n",
       "       -3.05822096e-008, -2.01090136e-008, -1.32224726e-008,\n",
       "       -8.69429922e-009, -5.71684596e-009, -3.75905255e-009,\n",
       "       -2.47172588e-009, -1.62525763e-009, -1.06867123e-009,\n",
       "       -7.02693647e-010, -4.62048894e-010, -3.03815441e-010,\n",
       "       -1.99770681e-010, -1.31357132e-010, -8.63725147e-011,\n",
       "       -5.67933480e-011, -3.73438749e-011, -2.45550762e-011,\n",
       "       -1.61459348e-011, -1.06165914e-011, -6.98082914e-012,\n",
       "       -4.59017154e-012, -3.01821952e-012, -1.98459883e-012,\n",
       "       -1.30495230e-012, -8.58057804e-013, -5.64206978e-013,\n",
       "       -3.70988426e-013, -2.43939578e-013, -1.60399930e-013,\n",
       "       -1.05469305e-013, -6.93502435e-014, -4.56005308e-014,\n",
       "       -2.99841544e-014, -1.97157686e-014, -1.29638984e-014,\n",
       "       -8.52427648e-015, -5.60504927e-015, -3.68554181e-015,\n",
       "       -2.42338965e-015, -1.59347464e-015, -1.04777267e-015,\n",
       "       -6.88952010e-016, -4.53013223e-016, -2.97874130e-016,\n",
       "       -1.95864033e-016, -1.28788357e-016, -8.46834433e-017,\n",
       "       -5.56827167e-017, -3.66135908e-017, -2.40748855e-017,\n",
       "       -1.58301904e-017, -1.04089769e-017, -6.84431443e-018,\n",
       "       -4.50040771e-018, -2.95919625e-018, -1.94578869e-018,\n",
       "       -1.27943310e-018, -8.41277919e-019, -5.53173539e-019,\n",
       "       -3.63733503e-019, -2.39169179e-019, -1.57263204e-019,\n",
       "       -1.03406783e-019, -6.79940538e-020, -4.47087824e-020,\n",
       "       -2.93977945e-020, -1.93302138e-020, -1.27103809e-020,\n",
       "       -8.35757864e-021, -5.49543884e-021, -3.61346861e-021,\n",
       "       -2.37599867e-021, -1.56231320e-021, -1.02728278e-021,\n",
       "       -6.75479100e-022, -4.44154251e-022, -2.92049005e-022,\n",
       "       -1.92033783e-022, -1.26269815e-022, -8.30274028e-023,\n",
       "       -5.45938045e-023, -3.58975879e-023, -2.36040853e-023,\n",
       "       -1.55206206e-023, -1.02054225e-023, -6.71046936e-024,\n",
       "       -4.41239928e-024, -2.90132722e-024, -1.90773751e-024,\n",
       "       -1.25441295e-024, -8.24826175e-025, -5.42355866e-025,\n",
       "       -3.56620455e-025, -2.34492068e-025, -1.54187819e-025,\n",
       "       -1.01384595e-025, -6.66643853e-026, -4.38344727e-026,\n",
       "       -2.88229013e-026, -1.89521987e-026, -1.24618210e-026,\n",
       "       -8.19414069e-027, -5.38797192e-027, -3.54280485e-027,\n",
       "       -2.32953446e-027, -1.53176113e-027, -1.00719359e-027,\n",
       "       -6.62269662e-028, -4.35468523e-028, -2.86337794e-028,\n",
       "       -1.88278436e-028, -1.23800526e-028, -8.14037473e-029,\n",
       "       -5.35261867e-029, -3.51955870e-029, -2.31424919e-029,\n",
       "       -1.52171046e-029, -1.00058488e-029, -6.57924171e-030,\n",
       "       -4.32611191e-030, -2.84458986e-030, -1.87043045e-030,\n",
       "       -1.22988207e-030, -8.08696157e-031, -5.31749740e-031,\n",
       "       -3.49646507e-031, -2.29906421e-031, -1.51172574e-031,\n",
       "       -9.94019527e-032, -6.53607194e-032, -4.29772607e-032,\n",
       "       -2.82592504e-032, -1.85815760e-032, -1.22181219e-032,\n",
       "       -8.03389887e-033, -5.28260658e-033, -3.47352297e-033,\n",
       "       -2.28397888e-033, -1.50180654e-033, -9.87497256e-034,\n",
       "       -6.49318542e-034, -4.26952649e-034, -2.80738270e-034,\n",
       "       -1.84596528e-034, -1.21379525e-034, -7.98118435e-035,\n",
       "       -5.24794469e-035, -3.45073141e-035, -2.26899252e-035,\n",
       "       -1.49195241e-035, -9.81017781e-036, -6.45058031e-036,\n",
       "       -4.24151194e-036, -2.78896203e-036, -1.83385295e-036,\n",
       "       -1.20583092e-036, -7.92881571e-037, -5.21351024e-037,\n",
       "       -3.42808939e-037, -2.25410450e-037, -1.48216295e-037,\n",
       "       -9.74580821e-038, -6.40825475e-038, -4.21368121e-038,\n",
       "       -2.77066222e-038, -1.82182010e-038, -1.19791885e-038,\n",
       "       -7.87679069e-039, -5.17930173e-039, -3.40559594e-039,\n",
       "       -2.23931416e-039, -1.47243772e-039, -9.68186097e-040,\n",
       "       -6.36620691e-040, -4.18603309e-040, -2.75248249e-040,\n",
       "       -1.80986621e-040, -1.19005869e-040, -7.82510703e-041,\n",
       "       -5.14531768e-041, -3.38325008e-041, -2.22462088e-041,\n",
       "       -1.46277630e-041, -9.61833332e-042, -6.32443496e-042,\n",
       "       -4.15856638e-042, -2.73442204e-042, -1.79799075e-042,\n",
       "       -1.18225010e-042, -7.77376250e-043, -5.11155662e-043,\n",
       "       -3.36105085e-043, -2.21002400e-043, -1.45317828e-043,\n",
       "       -9.55522251e-044, -6.28293711e-044, -4.13127990e-044,\n",
       "       -2.71648010e-044, -1.78619321e-044, -1.17449275e-044,\n",
       "       -7.72275486e-045, -5.07801708e-045, -3.33899727e-045,\n",
       "       -2.19552290e-045, -1.44364323e-045, -9.49252581e-046,\n",
       "       -6.24171154e-046, -4.10417246e-046, -2.69865588e-046,\n",
       "       -1.77447308e-046, -1.16678631e-046, -7.67208191e-047,\n",
       "       -5.04469760e-047, -3.31708840e-047, -2.18111695e-047,\n",
       "       -1.43417075e-047, -9.43024048e-048, -6.20075647e-048,\n",
       "       -4.07724288e-048, -2.68094862e-048, -1.76282986e-048,\n",
       "       -1.15913042e-048, -7.62174145e-049, -5.01159676e-049,\n",
       "       -3.29532329e-049, -2.16680553e-049, -1.42476042e-049,\n",
       "       -9.36836385e-050, -6.16007014e-050, -4.05049000e-050,\n",
       "       -2.66335754e-050, -1.75126303e-050, -1.15152478e-050,\n",
       "       -7.57173130e-051, -4.97871311e-051, -3.27370098e-051,\n",
       "       -2.15258801e-051, -1.41541184e-051, -9.30689322e-052,\n",
       "       -6.11965076e-052, -4.02391266e-052, -2.64588189e-052,\n",
       "       -1.73977209e-052, -1.14396903e-052, -7.52204930e-053,\n",
       "       -4.94604522e-053, -3.25222055e-053, -2.13846377e-053,\n",
       "       -1.40612460e-053, -9.24582592e-054, -6.07949660e-054,\n",
       "       -3.99750971e-054, -2.62852090e-054, -1.72835656e-054,\n",
       "       -1.13646287e-054, -7.47269328e-055, -4.91359169e-055,\n",
       "       -3.23088107e-055, -2.12443222e-055, -1.39689829e-055,\n",
       "       -9.18515932e-056, -6.03960591e-056, -3.97128000e-056,\n",
       "       -2.61127383e-056, -1.71701593e-056, -1.12900595e-056,\n",
       "       -7.42366111e-057, -4.88135110e-057, -3.20968160e-057,\n",
       "       -2.11049273e-057, -1.38773253e-057, -9.12489079e-058,\n",
       "       -5.99997696e-058, -3.94522240e-058, -2.59413992e-058,\n",
       "       -1.70574971e-058, -1.12159796e-058, -7.37495067e-059,\n",
       "       -4.84932205e-059, -3.18862124e-059, -2.09664471e-059,\n",
       "       -1.37862690e-059, -9.06501771e-060, -5.96060804e-060,\n",
       "       -3.91933578e-060, -2.57711844e-060, -1.69455741e-060,\n",
       "       -1.11423859e-060, -7.32655984e-061, -4.81750317e-061,\n",
       "       -3.16769906e-061, -2.08288755e-061, -1.36958103e-061,\n",
       "       -9.00553749e-062, -5.92149744e-062, -3.89361901e-062,\n",
       "       -2.56020865e-062, -1.68343855e-062, -1.10692750e-062,\n",
       "       -7.27848653e-063, -4.78589306e-063, -3.14691417e-063,\n",
       "       -2.06922066e-063, -1.36059450e-063, -8.94644754e-064,\n",
       "       -5.88264346e-064, -3.86807098e-064, -2.54340981e-064,\n",
       "       -1.67239265e-064, -1.09966438e-064, -7.23072866e-065,\n",
       "       -4.75449037e-065, -3.12626565e-065, -2.05564344e-065,\n",
       "       -1.35166695e-065, -8.88774532e-066, -5.84404443e-066,\n",
       "       -3.84269058e-066, -2.52672120e-066, -1.66141922e-066,\n",
       "       -1.09244892e-066, -7.18328414e-067, -4.72329372e-067,\n",
       "       -3.10575262e-067, -2.04215531e-067, -1.34279797e-067,\n",
       "       -8.82942827e-068, -5.80569866e-068, -3.81747672e-068,\n",
       "       -2.51014208e-068, -1.65051780e-068, -1.08528080e-068,\n",
       "       -7.13615094e-069, -4.69230177e-069, -3.08537419e-069,\n",
       "       -2.02875568e-069, -1.33398718e-069, -8.77149387e-070,\n",
       "       -5.76760450e-070, -3.79242830e-070, -2.49367176e-070,\n",
       "       -1.63968791e-070, -1.07815972e-070, -7.08932700e-071,\n",
       "       -4.66151318e-071, -3.06512947e-071, -2.01544398e-071,\n",
       "       -1.32523421e-071, -8.71393961e-072, -5.72976029e-072,\n",
       "       -3.76754424e-072, -2.47730950e-072, -1.62892908e-072,\n",
       "       -1.07108536e-072, -7.04281029e-073, -4.63092660e-073,\n",
       "       -3.04501759e-073, -2.00221962e-073, -1.31653867e-073,\n",
       "       -8.65676299e-074, -5.69216440e-074, -3.74282345e-074,\n",
       "       -2.46105460e-074, -1.61824084e-074, -1.06405742e-074,\n",
       "       -6.99659881e-075, -4.60054072e-075, -3.02503767e-075,\n",
       "       -1.98908203e-075, -1.30790019e-075, -8.59996154e-076,\n",
       "       -5.65481519e-076, -3.71826487e-076, -2.44490636e-076,\n",
       "       -1.60762273e-076, -1.05707559e-076, -6.95069054e-077,\n",
       "       -4.57035422e-077, -3.00518884e-077, -1.97603064e-077,\n",
       "       -1.29931838e-077, -8.54353278e-078, -5.61771106e-078,\n",
       "       -3.69386743e-078, -2.42886408e-078, -1.59707430e-078,\n",
       "       -1.05013958e-078, -6.90508350e-079, -4.54036578e-079,\n",
       "       -2.98547026e-079, -1.96306490e-079, -1.29079289e-079,\n",
       "       -8.48747429e-080, -5.58085038e-080, -3.66963008e-080,\n",
       "       -2.41292706e-080, -1.58659507e-080, -1.04324908e-080,\n",
       "       -6.85977571e-081, -4.51057412e-081, -2.96588106e-081,\n",
       "       -1.95018422e-081, -1.28232334e-081, -8.43178363e-082,\n",
       "       -5.54423156e-082, -3.64555175e-082, -2.39709461e-082,\n",
       "       -1.57618461e-082, -1.03640378e-082, -6.81476521e-083,\n",
       "       -4.48097793e-083, -2.94642040e-083, -1.93738806e-083,\n",
       "       -1.27390936e-083, -8.37645838e-084, -5.50785302e-084,\n",
       "       -3.62163142e-084, -2.38136605e-084, -1.56584246e-084,\n",
       "       -1.02960341e-084, -6.77005005e-085, -4.45157594e-085,\n",
       "       -2.92708743e-085, -1.92467587e-085, -1.26555058e-085,\n",
       "       -8.32149614e-086, -5.47171317e-086, -3.59786804e-086,\n",
       "       -2.36574068e-086, -1.55556816e-086, -1.02284765e-086,\n",
       "       -6.72562828e-087, -4.42236687e-087, -2.90788131e-087,\n",
       "       -1.91204709e-087, -1.25724666e-087, -8.26689455e-088,\n",
       "       -5.43581046e-088, -3.57426059e-088, -2.35021785e-088,\n",
       "       -1.54536128e-088, -1.01613623e-088, -6.68149799e-089,\n",
       "       -4.39334946e-089, -2.88880121e-089, -1.89950117e-089,\n",
       "       -1.24899722e-089, -8.21265122e-090, -5.40014333e-090,\n",
       "       -3.55080804e-090, -2.33479686e-090, -1.53522138e-090,\n",
       "       -1.00946884e-090, -6.63765726e-091, -4.36452244e-091,\n",
       "       -2.86984630e-091, -1.88703757e-091, -1.24080191e-091,\n",
       "       -8.15876381e-092, -5.36471022e-092, -3.52750937e-092,\n",
       "       -2.31947707e-092, -1.52514800e-092, -1.00284519e-092,\n",
       "       -6.59410419e-093, -4.33588458e-093, -2.85101577e-093,\n",
       "       -1.87465575e-093, -1.23266037e-093, -8.10522998e-094,\n",
       "       -5.32950961e-094, -3.50436357e-094, -2.30425779e-094,\n",
       "       -1.51514073e-094, -9.96265014e-095, -6.55083690e-095,\n",
       "       -4.30743462e-095, -2.83230880e-095, -1.86235517e-095,\n",
       "       -1.22457226e-095, -8.05204742e-096, -5.29453997e-096,\n",
       "       -3.48136965e-096, -2.28913837e-096, -1.50519911e-096,\n",
       "       -9.89728009e-097, -6.50785350e-097, -4.27917133e-097,\n",
       "       -2.81372457e-097, -1.85013530e-097, -1.21653721e-097,\n",
       "       -7.99921381e-098, -5.25979978e-098, -3.45852660e-098,\n",
       "       -2.27411817e-098, -1.49532273e-098, -9.83233896e-099,\n",
       "       -6.46515214e-099, -4.25109350e-099, -2.79526228e-099,\n",
       "       -1.83799562e-099, -1.20855489e-099, -7.94672687e-100,\n",
       "       -5.22528754e-100, -3.43583343e-100, -2.25919651e-100,\n",
       "       -1.48551115e-100, -9.76782395e-101, -6.42273097e-101,\n",
       "       -4.22319990e-101, -2.77692114e-101, -1.82593559e-101,\n",
       "       -1.20062494e-101, -7.89458433e-102, -5.19100175e-102,\n",
       "       -3.41328917e-102, -2.24437277e-102, -1.47576395e-102,\n",
       "       -9.70373226e-103, -6.38058814e-103, -4.19548932e-103,\n",
       "       -2.75870033e-103, -1.81395469e-103, -1.19274703e-103,\n",
       "       -7.84278392e-104, -5.15694093e-104, -3.39089283e-104,\n",
       "       -2.22964629e-104, -1.46608071e-104, -9.64006110e-105,\n",
       "       -6.33872184e-105, -4.16796057e-105, -2.74059909e-105,\n",
       "       -1.80205240e-105, -1.18492080e-105, -7.79132340e-106,\n",
       "       -5.12310360e-106, -3.36864345e-106, -2.21501644e-106,\n",
       "       -1.45646100e-106, -9.57680773e-107, -6.29713024e-107,\n",
       "       -4.14061244e-107, -2.72261661e-107, -1.79022822e-107,\n",
       "       -1.17714593e-107, -7.74020053e-108, -5.08948830e-108,\n",
       "       -3.34654005e-108, -2.20048258e-108, -1.44690442e-108,\n",
       "       -9.51396939e-109, -6.25581154e-109, -4.11344377e-109,\n",
       "       -2.70475213e-109, -1.77848161e-109, -1.16942207e-109,\n",
       "       -7.68941312e-110, -5.05609356e-110, -3.32458169e-110,\n",
       "       -2.18604409e-110, -1.43741054e-110, -9.45154336e-111,\n",
       "       -6.21476396e-111, -4.08645335e-111, -2.68700487e-111,\n",
       "       -1.76681208e-111, -1.16174890e-111, -7.63895894e-112])"
      ]
     },
     "execution_count": 30,
     "metadata": {},
     "output_type": "execute_result"
    }
   ],
   "source": [
    "arima2.predict(n_periods=test2.shape[0])"
   ]
  },
  {
   "cell_type": "code",
   "execution_count": null,
   "metadata": {},
   "outputs": [],
   "source": [
    "#cointegration tests\n",
    "\n",
    "#normalized cv\n",
    "#LR test"
   ]
  },
  {
   "cell_type": "code",
   "execution_count": null,
   "metadata": {},
   "outputs": [],
   "source": [
    "#correlaatiomatriisi"
   ]
  },
  {
   "cell_type": "code",
   "execution_count": null,
   "metadata": {},
   "outputs": [],
   "source": [
    "#np.argwhere(np.isnan(x))"
   ]
  }
 ],
 "metadata": {
  "kernelspec": {
   "display_name": "Python 3.9.7 ('base')",
   "language": "python",
   "name": "python3"
  },
  "language_info": {
   "codemirror_mode": {
    "name": "ipython",
    "version": 3
   },
   "file_extension": ".py",
   "mimetype": "text/x-python",
   "name": "python",
   "nbconvert_exporter": "python",
   "pygments_lexer": "ipython3",
   "version": "3.9.7"
  },
  "orig_nbformat": 4,
  "vscode": {
   "interpreter": {
    "hash": "4166284f6c1be268893ecc7e1723c4ee59a7af301dc502cec5768712e1b57cd0"
   }
  }
 },
 "nbformat": 4,
 "nbformat_minor": 2
}
