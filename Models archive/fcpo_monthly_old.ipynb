{
 "cells": [
  {
   "cell_type": "code",
   "execution_count": 2,
   "metadata": {},
   "outputs": [],
   "source": [
    "# Start loading libraries\n",
    "\n",
    "#! pip install yfinance\n",
    "\n",
    "import matplotlib.pyplot as plt\n",
    "import numpy as np\n",
    "import pandas as pd\n",
    "import seaborn as sns\n",
    "\n",
    "#! pip install pmdarima\n",
    "import pmdarima as pm\n",
    "from pmdarima import model_selection\n",
    "\n",
    "import scipy\n",
    "import statsmodels.api as sm\n",
    "from statsmodels.tsa.stattools import adfuller\n",
    "from arch.unitroot import PhillipsPerron\n",
    "from arch.unitroot import KPSS\n",
    "\n",
    "from statsmodels.graphics.tsaplots import plot_pacf\n",
    "from statsmodels.graphics.tsaplots import plot_acf\n",
    "#from statsmodels.graphics.tsaplots import plot_acf\n",
    "\n",
    "#from matplotlib.ticker import NullFormatter\n",
    "#import yfinance as yf\n",
    "#import warnings; warnings.simplefilter('ignore')\n",
    "#%matplotlib inline"
   ]
  },
  {
   "cell_type": "code",
   "execution_count": 3,
   "metadata": {},
   "outputs": [
    {
     "data": {
      "text/html": [
       "<div>\n",
       "<style scoped>\n",
       "    .dataframe tbody tr th:only-of-type {\n",
       "        vertical-align: middle;\n",
       "    }\n",
       "\n",
       "    .dataframe tbody tr th {\n",
       "        vertical-align: top;\n",
       "    }\n",
       "\n",
       "    .dataframe thead th {\n",
       "        text-align: right;\n",
       "    }\n",
       "</style>\n",
       "<table border=\"1\" class=\"dataframe\">\n",
       "  <thead>\n",
       "    <tr style=\"text-align: right;\">\n",
       "      <th></th>\n",
       "      <th>FCPOc1</th>\n",
       "      <th>FCPOc3</th>\n",
       "      <th>FCPOc6</th>\n",
       "      <th>FCPOc9</th>\n",
       "      <th>FCPOc12</th>\n",
       "      <th>MYR=</th>\n",
       "      <th>MYR3MV=</th>\n",
       "      <th>MYR6MV=</th>\n",
       "      <th>MYR9MV=</th>\n",
       "      <th>MYR1YV=</th>\n",
       "      <th>MYR1YNDFOR=</th>\n",
       "      <th>FCPOc1 USD</th>\n",
       "      <th>FCPOc3 USD</th>\n",
       "      <th>FCPOc6 USD</th>\n",
       "      <th>FCPOc9 USD</th>\n",
       "      <th>FCPOc12 USD</th>\n",
       "    </tr>\n",
       "    <tr>\n",
       "      <th>Timestamp</th>\n",
       "      <th></th>\n",
       "      <th></th>\n",
       "      <th></th>\n",
       "      <th></th>\n",
       "      <th></th>\n",
       "      <th></th>\n",
       "      <th></th>\n",
       "      <th></th>\n",
       "      <th></th>\n",
       "      <th></th>\n",
       "      <th></th>\n",
       "      <th></th>\n",
       "      <th></th>\n",
       "      <th></th>\n",
       "      <th></th>\n",
       "      <th></th>\n",
       "    </tr>\n",
       "  </thead>\n",
       "  <tbody>\n",
       "    <tr>\n",
       "      <th>1980-10-31</th>\n",
       "      <td>870</td>\n",
       "      <td>885.0</td>\n",
       "      <td>920.0</td>\n",
       "      <td>960.0</td>\n",
       "      <td>NaN</td>\n",
       "      <td>2.1470</td>\n",
       "      <td>NaN</td>\n",
       "      <td>NaN</td>\n",
       "      <td>NaN</td>\n",
       "      <td>NaN</td>\n",
       "      <td>NaN</td>\n",
       "      <td>405.216581</td>\n",
       "      <td>NaN</td>\n",
       "      <td>NaN</td>\n",
       "      <td>NaN</td>\n",
       "      <td>NaN</td>\n",
       "    </tr>\n",
       "    <tr>\n",
       "      <th>1980-11-30</th>\n",
       "      <td>1009</td>\n",
       "      <td>1020.0</td>\n",
       "      <td>1030.0</td>\n",
       "      <td>NaN</td>\n",
       "      <td>NaN</td>\n",
       "      <td>2.1905</td>\n",
       "      <td>NaN</td>\n",
       "      <td>NaN</td>\n",
       "      <td>NaN</td>\n",
       "      <td>NaN</td>\n",
       "      <td>NaN</td>\n",
       "      <td>460.625428</td>\n",
       "      <td>NaN</td>\n",
       "      <td>NaN</td>\n",
       "      <td>NaN</td>\n",
       "      <td>NaN</td>\n",
       "    </tr>\n",
       "    <tr>\n",
       "      <th>1980-12-31</th>\n",
       "      <td>984</td>\n",
       "      <td>985.0</td>\n",
       "      <td>1015.0</td>\n",
       "      <td>NaN</td>\n",
       "      <td>NaN</td>\n",
       "      <td>2.2200</td>\n",
       "      <td>NaN</td>\n",
       "      <td>NaN</td>\n",
       "      <td>NaN</td>\n",
       "      <td>NaN</td>\n",
       "      <td>NaN</td>\n",
       "      <td>443.243243</td>\n",
       "      <td>NaN</td>\n",
       "      <td>NaN</td>\n",
       "      <td>NaN</td>\n",
       "      <td>NaN</td>\n",
       "    </tr>\n",
       "    <tr>\n",
       "      <th>1981-01-31</th>\n",
       "      <td>986</td>\n",
       "      <td>985.0</td>\n",
       "      <td>975.0</td>\n",
       "      <td>NaN</td>\n",
       "      <td>NaN</td>\n",
       "      <td>2.2390</td>\n",
       "      <td>NaN</td>\n",
       "      <td>NaN</td>\n",
       "      <td>NaN</td>\n",
       "      <td>NaN</td>\n",
       "      <td>NaN</td>\n",
       "      <td>440.375167</td>\n",
       "      <td>NaN</td>\n",
       "      <td>NaN</td>\n",
       "      <td>NaN</td>\n",
       "      <td>NaN</td>\n",
       "    </tr>\n",
       "    <tr>\n",
       "      <th>1981-02-28</th>\n",
       "      <td>995</td>\n",
       "      <td>960.0</td>\n",
       "      <td>948.0</td>\n",
       "      <td>NaN</td>\n",
       "      <td>NaN</td>\n",
       "      <td>2.3030</td>\n",
       "      <td>NaN</td>\n",
       "      <td>NaN</td>\n",
       "      <td>NaN</td>\n",
       "      <td>NaN</td>\n",
       "      <td>NaN</td>\n",
       "      <td>432.045158</td>\n",
       "      <td>NaN</td>\n",
       "      <td>NaN</td>\n",
       "      <td>NaN</td>\n",
       "      <td>NaN</td>\n",
       "    </tr>\n",
       "  </tbody>\n",
       "</table>\n",
       "</div>"
      ],
      "text/plain": [
       "            FCPOc1  FCPOc3  FCPOc6  FCPOc9  FCPOc12    MYR=  MYR3MV=  MYR6MV=  \\\n",
       "Timestamp                                                                       \n",
       "1980-10-31     870   885.0   920.0   960.0      NaN  2.1470      NaN      NaN   \n",
       "1980-11-30    1009  1020.0  1030.0     NaN      NaN  2.1905      NaN      NaN   \n",
       "1980-12-31     984   985.0  1015.0     NaN      NaN  2.2200      NaN      NaN   \n",
       "1981-01-31     986   985.0   975.0     NaN      NaN  2.2390      NaN      NaN   \n",
       "1981-02-28     995   960.0   948.0     NaN      NaN  2.3030      NaN      NaN   \n",
       "\n",
       "            MYR9MV=  MYR1YV=  MYR1YNDFOR=  FCPOc1 USD  FCPOc3 USD  FCPOc6 USD  \\\n",
       "Timestamp                                                                       \n",
       "1980-10-31      NaN      NaN          NaN  405.216581         NaN         NaN   \n",
       "1980-11-30      NaN      NaN          NaN  460.625428         NaN         NaN   \n",
       "1980-12-31      NaN      NaN          NaN  443.243243         NaN         NaN   \n",
       "1981-01-31      NaN      NaN          NaN  440.375167         NaN         NaN   \n",
       "1981-02-28      NaN      NaN          NaN  432.045158         NaN         NaN   \n",
       "\n",
       "            FCPOc9 USD  FCPOc12 USD  \n",
       "Timestamp                            \n",
       "1980-10-31         NaN          NaN  \n",
       "1980-11-30         NaN          NaN  \n",
       "1980-12-31         NaN          NaN  \n",
       "1981-01-31         NaN          NaN  \n",
       "1981-02-28         NaN          NaN  "
      ]
     },
     "execution_count": 3,
     "metadata": {},
     "output_type": "execute_result"
    }
   ],
   "source": [
    "xls_file = pd.ExcelFile(\"Data_monthly_final.xlsx\") # Read Excel\n",
    "df1=xls_file.parse(\"FCPO\") # Read the first sheet (Portfolio holdings)\n",
    "\n",
    "#df1[\"Timestamp\"] = df1[\"Date\"].astype('datetime64[ns]') # Convert column to date format\n",
    "df1 = df1.set_index(['Timestamp']) # use first column as index\n",
    "\n",
    "#df1.to_excel(\"values.xlsx\")  #print to excel\n",
    "\n",
    "\n",
    "df1.head()"
   ]
  },
  {
   "cell_type": "code",
   "execution_count": 4,
   "metadata": {},
   "outputs": [
    {
     "data": {
      "text/plain": [
       "<AxesSubplot:xlabel='Timestamp'>"
      ]
     },
     "execution_count": 4,
     "metadata": {},
     "output_type": "execute_result"
    },
    {
     "data": {
      "image/png": "[encoded data removed]",
      "text/plain": [
       "<Figure size 432x288 with 1 Axes>"
      ]
     },
     "metadata": {
      "needs_background": "light"
     },
     "output_type": "display_data"
    }
   ],
   "source": [
    "spot = df1[\"FCPOc1 USD\"]\n",
    "spot = spot[spot != 0]\n",
    "#spot = np.log(spot).diff()\n",
    "spot.plot()"
   ]
  },
  {
   "cell_type": "code",
   "execution_count": 5,
   "metadata": {},
   "outputs": [
    {
     "data": {
      "text/plain": [
       "count     507.000000\n",
       "mean      539.169074\n",
       "std       258.906174\n",
       "min       172.744722\n",
       "25%       354.232570\n",
       "50%       475.426279\n",
       "75%       654.252357\n",
       "max      1775.738799\n",
       "Name: FCPOc1 USD, dtype: float64"
      ]
     },
     "execution_count": 5,
     "metadata": {},
     "output_type": "execute_result"
    }
   ],
   "source": [
    "#statistics\n",
    "\n",
    "#mean\n",
    "#sd\n",
    "#skewness\n",
    "#kurtosis\n",
    "#jb test\n",
    "#Ljung Box Q(6) and Q^2(6)\n",
    "#observations\n",
    "\n",
    "spot.describe()\n",
    "#spot.dropna().describe()"
   ]
  },
  {
   "cell_type": "code",
   "execution_count": 6,
   "metadata": {},
   "outputs": [
    {
     "name": "stdout",
     "output_type": "stream",
     "text": [
      "Skewness spot: 1.3711853005819945\n",
      "Skewness logs: 0.22589119881524353\n",
      "Kurtosis spot: 5.388879119264379\n",
      "Kurtosis logs: 2.595995623823248\n",
      "JB spot: Jarque_beraResult(statistic=279.427556667377, pvalue=0.0)\n",
      "JB logs: Jarque_beraResult(statistic=7.759780145200423, pvalue=0.020653095398005528)\n",
      "Q(6) spot:        lb_stat  lb_pvalue\n",
      "6  2377.372763        0.0\n",
      "Q(6) logs:        lb_stat  lb_pvalue\n",
      "6  2515.154908        0.0\n"
     ]
    }
   ],
   "source": [
    "print(\"Skewness spot:\", scipy.stats.skew(spot.dropna(), axis=0, bias=True))\n",
    "print(\"Skewness logs:\", scipy.stats.skew(np.log(spot.dropna()), axis=0, bias=True))\n",
    "print(\"Kurtosis spot:\", scipy.stats.kurtosis(spot.dropna(), axis=0, fisher=False, bias=True))\n",
    "print(\"Kurtosis logs:\", scipy.stats.kurtosis(np.log(spot.dropna()), fisher=False, axis=0, bias=True))\n",
    "\n",
    "print(\"JB spot:\", scipy.stats.jarque_bera(spot.dropna()))\n",
    "print(\"JB logs:\", scipy.stats.jarque_bera(np.log(spot.dropna())))\n",
    "#The Jarque-Bera Test is typically used for large datasets (n > 2000) in which other normality tests (like the Shapiro-Wilk test) are unreliable.\n",
    "\n",
    "print(\"Q(6) spot:\", sm.stats.acorr_ljungbox(spot.dropna(), lags=[6]))\n",
    "print(\"Q(6) logs:\", sm.stats.acorr_ljungbox(np.log(spot.dropna()), lags=[6]))"
   ]
  },
  {
   "cell_type": "code",
   "execution_count": 7,
   "metadata": {},
   "outputs": [
    {
     "name": "stdout",
     "output_type": "stream",
     "text": [
      "ADF spot: (-2.258242078586614, 0.18578946385494283, 12, 494, {'1%': -3.4436568932270095, '5%': -2.8674084917497074, '10%': -2.5698956806372832}, 5457.567708998221)\n",
      "ADF logs: (-2.4509238490380136, 0.1278760862974691, 12, 494, {'1%': -3.4436568932270095, '5%': -2.8674084917497074, '10%': -2.5698956806372832}, -849.9735131269163)\n",
      "PP spot:      Phillips-Perron Test (Z-tau)    \n",
      "=====================================\n",
      "Test Statistic                 -2.744\n",
      "P-value                         0.067\n",
      "Lags                               19\n",
      "-------------------------------------\n",
      "\n",
      "Trend: Constant\n",
      "Critical Values: -3.44 (1%), -2.87 (5%), -2.57 (10%)\n",
      "Null Hypothesis: The process contains a unit root.\n",
      "Alternative Hypothesis: The process is weakly stationary.\n",
      "PP logs:      Phillips-Perron Test (Z-tau)    \n",
      "=====================================\n",
      "Test Statistic                 -2.516\n",
      "P-value                         0.112\n",
      "Lags                               19\n",
      "-------------------------------------\n",
      "\n",
      "Trend: Constant\n",
      "Critical Values: -3.44 (1%), -2.87 (5%), -2.57 (10%)\n",
      "Null Hypothesis: The process contains a unit root.\n",
      "Alternative Hypothesis: The process is weakly stationary.\n"
     ]
    }
   ],
   "source": [
    "#stationarity\n",
    "\n",
    "#augmented Dickie-Fuller\n",
    "#PP test - Phillips and Perron\n",
    "#KPSS\n",
    "\n",
    "print(\"ADF spot:\", adfuller(spot.dropna()))\n",
    "print(\"ADF logs:\", adfuller(np.log(spot.dropna())))\n",
    "\n",
    "print(\"PP spot:\", PhillipsPerron(spot.dropna()).summary().as_text())\n",
    "print(\"PP logs:\", PhillipsPerron(np.log(spot.dropna())).summary().as_text())\n",
    "\n"
   ]
  },
  {
   "cell_type": "code",
   "execution_count": 8,
   "metadata": {},
   "outputs": [
    {
     "name": "stdout",
     "output_type": "stream",
     "text": [
      "KPSS spot:     KPSS Stationarity Test Results   \n",
      "=====================================\n",
      "Test Statistic                  1.931\n",
      "P-value                         0.000\n",
      "Lags                               12\n",
      "-------------------------------------\n",
      "\n",
      "Trend: Constant\n",
      "Critical Values: 0.74 (1%), 0.46 (5%), 0.35 (10%)\n",
      "Null Hypothesis: The process is weakly stationary.\n",
      "Alternative Hypothesis: The process contains a unit root.\n",
      "KPSS logs:     KPSS Stationarity Test Results   \n",
      "=====================================\n",
      "Test Statistic                  2.019\n",
      "P-value                         0.000\n",
      "Lags                               12\n",
      "-------------------------------------\n",
      "\n",
      "Trend: Constant\n",
      "Critical Values: 0.74 (1%), 0.46 (5%), 0.35 (10%)\n",
      "Null Hypothesis: The process is weakly stationary.\n",
      "Alternative Hypothesis: The process contains a unit root.\n"
     ]
    }
   ],
   "source": [
    "\n",
    "print(\"KPSS spot:\", KPSS(spot.dropna()).summary().as_text())\n",
    "print(\"KPSS logs:\", KPSS(np.log(spot.dropna())).summary().as_text())"
   ]
  },
  {
   "cell_type": "code",
   "execution_count": 9,
   "metadata": {},
   "outputs": [
    {
     "name": "stdout",
     "output_type": "stream",
     "text": [
      "ACF and PACF spot:\n",
      "ACF and PACF logs:\n"
     ]
    },
    {
     "name": "stderr",
     "output_type": "stream",
     "text": [
      "c:\\Users\\tatuh\\anaconda3\\lib\\site-packages\\statsmodels\\graphics\\tsaplots.py:348: FutureWarning: The default method 'yw' can produce PACF values outside of the [-1,1] interval. After 0.13, the default will change tounadjusted Yule-Walker ('ywm'). You can use this method now by setting method='ywm'.\n",
      "  warnings.warn(\n",
      "c:\\Users\\tatuh\\anaconda3\\lib\\site-packages\\statsmodels\\graphics\\tsaplots.py:348: FutureWarning: The default method 'yw' can produce PACF values outside of the [-1,1] interval. After 0.13, the default will change tounadjusted Yule-Walker ('ywm'). You can use this method now by setting method='ywm'.\n",
      "  warnings.warn(\n"
     ]
    },
    {
     "data": {
      "image/png": "[encoded data removed]",
      "text/plain": [
       "<Figure size 432x288 with 1 Axes>"
      ]
     },
     "execution_count": 9,
     "metadata": {},
     "output_type": "execute_result"
    },
    {
     "data": {
      "image/png": "[encoded data removed]",
      "text/plain": [
       "<Figure size 432x288 with 1 Axes>"
      ]
     },
     "metadata": {
      "needs_background": "light"
     },
     "output_type": "display_data"
    },
    {
     "data": {
      "image/png": "[encoded data removed]",
      "text/plain": [
       "<Figure size 432x288 with 1 Axes>"
      ]
     },
     "metadata": {
      "needs_background": "light"
     },
     "output_type": "display_data"
    },
    {
     "data": {
      "image/png": "[encoded data removed]",
      "text/plain": [
       "<Figure size 432x288 with 1 Axes>"
      ]
     },
     "metadata": {
      "needs_background": "light"
     },
     "output_type": "display_data"
    },
    {
     "data": {
      "image/png": "[encoded data removed]",
      "text/plain": [
       "<Figure size 432x288 with 1 Axes>"
      ]
     },
     "metadata": {
      "needs_background": "light"
     },
     "output_type": "display_data"
    }
   ],
   "source": [
    "#ACF and PACF\n",
    "\n",
    "print(\"ACF and PACF spot:\")\n",
    "plot_acf(spot.dropna(), lags = 15)\n",
    "plot_pacf(spot.dropna(), lags = 15)\n",
    "\n",
    "\n",
    "print(\"ACF and PACF logs:\")\n",
    "plot_acf(np.log(spot.dropna()), lags = 15)\n",
    "plot_pacf(np.log(spot.dropna()), lags = 15)\n",
    "\n"
   ]
  },
  {
   "cell_type": "code",
   "execution_count": 10,
   "metadata": {},
   "outputs": [
    {
     "data": {
      "text/plain": [
       "0.6782943507735172"
      ]
     },
     "execution_count": 10,
     "metadata": {},
     "output_type": "execute_result"
    },
    {
     "data": {
      "image/png": "[encoded data removed]",
      "text/plain": [
       "<Figure size 432x288 with 1 Axes>"
      ]
     },
     "metadata": {
      "needs_background": "light"
     },
     "output_type": "display_data"
    }
   ],
   "source": [
    "spot.hist()\n",
    "0.6782943507735172"
   ]
  },
  {
   "cell_type": "code",
   "execution_count": 11,
   "metadata": {},
   "outputs": [
    {
     "data": {
      "text/plain": [
       "<AxesSubplot:>"
      ]
     },
     "execution_count": 11,
     "metadata": {},
     "output_type": "execute_result"
    },
    {
     "data": {
      "image/png": "[encoded data removed]",
      "text/plain": [
       "<Figure size 432x288 with 1 Axes>"
      ]
     },
     "metadata": {
      "needs_background": "light"
     },
     "output_type": "display_data"
    }
   ],
   "source": [
    "np.log(spot).hist()"
   ]
  },
  {
   "cell_type": "code",
   "execution_count": 12,
   "metadata": {},
   "outputs": [],
   "source": [
    "# Load the data and split it into separate pieces\n",
    "data = np.array(spot.dropna())\n",
    "train, test = model_selection.train_test_split(data, train_size=338)"
   ]
  },
  {
   "cell_type": "code",
   "execution_count": 13,
   "metadata": {},
   "outputs": [
    {
     "name": "stdout",
     "output_type": "stream",
     "text": [
      "Performing stepwise search to minimize aic\n",
      " ARIMA(2,1,2)(0,0,0)[0] intercept   : AIC=3646.204, Time=0.08 sec\n",
      " ARIMA(0,1,0)(0,0,0)[0] intercept   : AIC=3653.433, Time=0.01 sec\n",
      " ARIMA(1,1,0)(0,0,0)[0] intercept   : AIC=3654.920, Time=0.03 sec\n",
      " ARIMA(0,1,1)(0,0,0)[0] intercept   : AIC=3654.713, Time=0.05 sec\n",
      " ARIMA(0,1,0)(0,0,0)[0]             : AIC=3651.435, Time=0.02 sec\n",
      " ARIMA(1,1,2)(0,0,0)[0] intercept   : AIC=3653.985, Time=0.07 sec\n",
      " ARIMA(2,1,1)(0,0,0)[0] intercept   : AIC=3651.626, Time=0.07 sec\n",
      " ARIMA(3,1,2)(0,0,0)[0] intercept   : AIC=3645.459, Time=0.10 sec\n",
      " ARIMA(3,1,1)(0,0,0)[0] intercept   : AIC=3651.925, Time=0.09 sec\n",
      " ARIMA(4,1,2)(0,0,0)[0] intercept   : AIC=3638.012, Time=0.12 sec\n",
      " ARIMA(4,1,1)(0,0,0)[0] intercept   : AIC=3637.701, Time=0.09 sec\n",
      " ARIMA(4,1,0)(0,0,0)[0] intercept   : AIC=3636.299, Time=0.07 sec\n",
      " ARIMA(3,1,0)(0,0,0)[0] intercept   : AIC=3650.951, Time=0.05 sec\n",
      " ARIMA(5,1,0)(0,0,0)[0] intercept   : AIC=3637.109, Time=0.10 sec\n",
      " ARIMA(5,1,1)(0,0,0)[0] intercept   : AIC=3638.572, Time=0.16 sec\n",
      " ARIMA(4,1,0)(0,0,0)[0]             : AIC=3634.303, Time=0.05 sec\n",
      " ARIMA(3,1,0)(0,0,0)[0]             : AIC=3648.953, Time=0.03 sec\n",
      " ARIMA(5,1,0)(0,0,0)[0]             : AIC=3635.124, Time=0.05 sec\n",
      " ARIMA(4,1,1)(0,0,0)[0]             : AIC=3635.710, Time=0.05 sec\n",
      " ARIMA(3,1,1)(0,0,0)[0]             : AIC=3649.926, Time=0.04 sec\n",
      " ARIMA(5,1,1)(0,0,0)[0]             : AIC=3636.590, Time=0.06 sec\n",
      "\n",
      "Best model:  ARIMA(4,1,0)(0,0,0)[0]          \n",
      "Total fit time: 1.418 seconds\n"
     ]
    },
    {
     "data": {
      "image/png": "[encoded data removed]",
      "text/plain": [
       "<Figure size 432x288 with 1 Axes>"
      ]
     },
     "metadata": {
      "needs_background": "light"
     },
     "output_type": "display_data"
    }
   ],
   "source": [
    "# Fit a simple auto_arima model\n",
    "arima = pm.auto_arima(train, error_action='ignore', trace=True,\n",
    "                      suppress_warnings=True, maxiter=5,\n",
    "                      seasonal=False)\n",
    "\n",
    "#arima = pm.auto_arima(train, error_action='ignore', trace=True,\n",
    "                      #suppress_warnings=True, maxiter=5,\n",
    "                      #seasonal=True, m=12)\n",
    "\n",
    "# #############################################################################\n",
    "# Plot actual test vs. forecasts:\n",
    "x = np.arange(test.shape[0])\n",
    "plt.scatter(x, test, marker='x')\n",
    "plt.plot(x, arima.predict(n_periods=test.shape[0]))\n",
    "plt.title('Actual test samples vs. forecasts')\n",
    "plt.show()"
   ]
  },
  {
   "cell_type": "code",
   "execution_count": 14,
   "metadata": {},
   "outputs": [
    {
     "data": {
      "text/html": [
       "<table class=\"simpletable\">\n",
       "<caption>SARIMAX Results</caption>\n",
       "<tr>\n",
       "  <th>Dep. Variable:</th>           <td>y</td>        <th>  No. Observations:  </th>    <td>338</td>   \n",
       "</tr>\n",
       "<tr>\n",
       "  <th>Model:</th>           <td>SARIMAX(4, 1, 0)</td> <th>  Log Likelihood     </th> <td>-1812.151</td>\n",
       "</tr>\n",
       "<tr>\n",
       "  <th>Date:</th>            <td>Tue, 27 Dec 2022</td> <th>  AIC                </th> <td>3634.303</td> \n",
       "</tr>\n",
       "<tr>\n",
       "  <th>Time:</th>                <td>20:08:51</td>     <th>  BIC                </th> <td>3653.403</td> \n",
       "</tr>\n",
       "<tr>\n",
       "  <th>Sample:</th>                  <td>0</td>        <th>  HQIC               </th> <td>3641.916</td> \n",
       "</tr>\n",
       "<tr>\n",
       "  <th></th>                      <td> - 338</td>      <th>                     </th>     <td> </td>    \n",
       "</tr>\n",
       "<tr>\n",
       "  <th>Covariance Type:</th>        <td>opg</td>       <th>                     </th>     <td> </td>    \n",
       "</tr>\n",
       "</table>\n",
       "<table class=\"simpletable\">\n",
       "<tr>\n",
       "     <td></td>       <th>coef</th>     <th>std err</th>      <th>z</th>      <th>P>|z|</th>  <th>[0.025</th>    <th>0.975]</th>  \n",
       "</tr>\n",
       "<tr>\n",
       "  <th>ar.L1</th>  <td>    0.0427</td> <td>    0.033</td> <td>    1.311</td> <td> 0.190</td> <td>   -0.021</td> <td>    0.107</td>\n",
       "</tr>\n",
       "<tr>\n",
       "  <th>ar.L2</th>  <td>   -0.1092</td> <td>    0.055</td> <td>   -1.982</td> <td> 0.047</td> <td>   -0.217</td> <td>   -0.001</td>\n",
       "</tr>\n",
       "<tr>\n",
       "  <th>ar.L3</th>  <td>    0.0390</td> <td>    0.049</td> <td>    0.803</td> <td> 0.422</td> <td>   -0.056</td> <td>    0.134</td>\n",
       "</tr>\n",
       "<tr>\n",
       "  <th>ar.L4</th>  <td>    0.2296</td> <td>    0.048</td> <td>    4.780</td> <td> 0.000</td> <td>    0.135</td> <td>    0.324</td>\n",
       "</tr>\n",
       "<tr>\n",
       "  <th>sigma2</th> <td> 2763.1366</td> <td>   91.508</td> <td>   30.196</td> <td> 0.000</td> <td> 2583.784</td> <td> 2942.489</td>\n",
       "</tr>\n",
       "</table>\n",
       "<table class=\"simpletable\">\n",
       "<tr>\n",
       "  <th>Ljung-Box (L1) (Q):</th>     <td>0.06</td> <th>  Jarque-Bera (JB):  </th> <td>2776.30</td>\n",
       "</tr>\n",
       "<tr>\n",
       "  <th>Prob(Q):</th>                <td>0.81</td> <th>  Prob(JB):          </th>  <td>0.00</td>  \n",
       "</tr>\n",
       "<tr>\n",
       "  <th>Heteroskedasticity (H):</th> <td>0.70</td> <th>  Skew:              </th>  <td>-1.03</td> \n",
       "</tr>\n",
       "<tr>\n",
       "  <th>Prob(H) (two-sided):</th>    <td>0.06</td> <th>  Kurtosis:          </th>  <td>16.91</td> \n",
       "</tr>\n",
       "</table><br/><br/>Warnings:<br/>[1] Covariance matrix calculated using the outer product of gradients (complex-step)."
      ],
      "text/plain": [
       "<class 'statsmodels.iolib.summary.Summary'>\n",
       "\"\"\"\n",
       "                               SARIMAX Results                                \n",
       "==============================================================================\n",
       "Dep. Variable:                      y   No. Observations:                  338\n",
       "Model:               SARIMAX(4, 1, 0)   Log Likelihood               -1812.151\n",
       "Date:                Tue, 27 Dec 2022   AIC                           3634.303\n",
       "Time:                        20:08:51   BIC                           3653.403\n",
       "Sample:                             0   HQIC                          3641.916\n",
       "                                - 338                                         \n",
       "Covariance Type:                  opg                                         \n",
       "==============================================================================\n",
       "                 coef    std err          z      P>|z|      [0.025      0.975]\n",
       "------------------------------------------------------------------------------\n",
       "ar.L1          0.0427      0.033      1.311      0.190      -0.021       0.107\n",
       "ar.L2         -0.1092      0.055     -1.982      0.047      -0.217      -0.001\n",
       "ar.L3          0.0390      0.049      0.803      0.422      -0.056       0.134\n",
       "ar.L4          0.2296      0.048      4.780      0.000       0.135       0.324\n",
       "sigma2      2763.1366     91.508     30.196      0.000    2583.784    2942.489\n",
       "===================================================================================\n",
       "Ljung-Box (L1) (Q):                   0.06   Jarque-Bera (JB):              2776.30\n",
       "Prob(Q):                              0.81   Prob(JB):                         0.00\n",
       "Heteroskedasticity (H):               0.70   Skew:                            -1.03\n",
       "Prob(H) (two-sided):                  0.06   Kurtosis:                        16.91\n",
       "===================================================================================\n",
       "\n",
       "Warnings:\n",
       "[1] Covariance matrix calculated using the outer product of gradients (complex-step).\n",
       "\"\"\""
      ]
     },
     "execution_count": 14,
     "metadata": {},
     "output_type": "execute_result"
    }
   ],
   "source": [
    "arima.summary()"
   ]
  },
  {
   "cell_type": "code",
   "execution_count": 15,
   "metadata": {},
   "outputs": [
    {
     "data": {
      "text/plain": [
       "[<matplotlib.lines.Line2D at 0x2302bdc33d0>]"
      ]
     },
     "execution_count": 15,
     "metadata": {},
     "output_type": "execute_result"
    },
    {
     "data": {
      "image/png": "[encoded data removed]",
      "text/plain": [
       "<Figure size 432x288 with 1 Axes>"
      ]
     },
     "metadata": {
      "needs_background": "light"
     },
     "output_type": "display_data"
    }
   ],
   "source": [
    "plt.plot(x, arima.predict(n_periods=test.shape[0]))"
   ]
  },
  {
   "cell_type": "code",
   "execution_count": 16,
   "metadata": {},
   "outputs": [
    {
     "data": {
      "text/plain": [
       "array([413.75348396, 371.87677071, 336.21350561, 339.22236941,\n",
       "       334.52170763, 322.9842389 , 314.93244366, 316.35600024,\n",
       "       315.76654337, 312.62227521, 310.75886277, 311.32654426,\n",
       "       311.2962573 , 310.4382137 , 309.99910233, 310.20322975,\n",
       "       310.21947216, 309.98369983, 309.87898099, 309.9477653 ,\n",
       "       309.95667089, 309.89131099, 309.86618242, 309.88838988,\n",
       "       309.8915778 , 309.87329908, 309.86726601, 309.87422858,\n",
       "       309.87520378, 309.87005216, 309.8686118 , 309.87074981,\n",
       "       309.87102139, 309.86956028, 309.86922086, 309.8698675 ,\n",
       "       309.86993755, 309.86952115, 309.869443  , 309.86963636,\n",
       "       309.86965299, 309.86953392, 309.86951661, 309.86957393,\n",
       "       309.86957744, 309.86954331, 309.86953973, 309.8695566 ,\n",
       "       309.86955719, 309.8695474 , 309.86954675, 309.86955169,\n",
       "       309.86955172, 309.86954891, 309.86954883, 309.86955027,\n",
       "       309.86955024, 309.86954943, 309.86954944, 309.86954986,\n",
       "       309.86954984, 309.8695496 , 309.86954961, 309.86954974,\n",
       "       309.86954973, 309.86954966, 309.86954966, 309.8695497 ,\n",
       "       309.86954969, 309.86954968, 309.86954968, 309.86954969,\n",
       "       309.86954969, 309.86954968, 309.86954968, 309.86954968,\n",
       "       309.86954968, 309.86954968, 309.86954968, 309.86954968,\n",
       "       309.86954968, 309.86954968, 309.86954968, 309.86954968,\n",
       "       309.86954968, 309.86954968, 309.86954968, 309.86954968,\n",
       "       309.86954968, 309.86954968, 309.86954968, 309.86954968,\n",
       "       309.86954968, 309.86954968, 309.86954968, 309.86954968,\n",
       "       309.86954968, 309.86954968, 309.86954968, 309.86954968,\n",
       "       309.86954968, 309.86954968, 309.86954968, 309.86954968,\n",
       "       309.86954968, 309.86954968, 309.86954968, 309.86954968,\n",
       "       309.86954968, 309.86954968, 309.86954968, 309.86954968,\n",
       "       309.86954968, 309.86954968, 309.86954968, 309.86954968,\n",
       "       309.86954968, 309.86954968, 309.86954968, 309.86954968,\n",
       "       309.86954968, 309.86954968, 309.86954968, 309.86954968,\n",
       "       309.86954968, 309.86954968, 309.86954968, 309.86954968,\n",
       "       309.86954968, 309.86954968, 309.86954968, 309.86954968,\n",
       "       309.86954968, 309.86954968, 309.86954968, 309.86954968,\n",
       "       309.86954968, 309.86954968, 309.86954968, 309.86954968,\n",
       "       309.86954968, 309.86954968, 309.86954968, 309.86954968,\n",
       "       309.86954968, 309.86954968, 309.86954968, 309.86954968,\n",
       "       309.86954968, 309.86954968, 309.86954968, 309.86954968,\n",
       "       309.86954968, 309.86954968, 309.86954968, 309.86954968,\n",
       "       309.86954968, 309.86954968, 309.86954968, 309.86954968,\n",
       "       309.86954968, 309.86954968, 309.86954968, 309.86954968,\n",
       "       309.86954968, 309.86954968, 309.86954968, 309.86954968,\n",
       "       309.86954968])"
      ]
     },
     "execution_count": 16,
     "metadata": {},
     "output_type": "execute_result"
    }
   ],
   "source": [
    "arima.predict(n_periods=test.shape[0])"
   ]
  },
  {
   "cell_type": "code",
   "execution_count": 17,
   "metadata": {},
   "outputs": [
    {
     "data": {
      "text/plain": [
       "<AxesSubplot:xlabel='Timestamp'>"
      ]
     },
     "execution_count": 17,
     "metadata": {},
     "output_type": "execute_result"
    },
    {
     "data": {
      "image/png": "[encoded data removed]",
      "text/plain": [
       "<Figure size 432x288 with 1 Axes>"
      ]
     },
     "metadata": {
      "needs_background": "light"
     },
     "output_type": "display_data"
    }
   ],
   "source": [
    "spot2 = np.log(spot).diff()\n",
    "spot2.plot()"
   ]
  },
  {
   "cell_type": "code",
   "execution_count": 18,
   "metadata": {},
   "outputs": [
    {
     "data": {
      "text/plain": [
       "count    506.000000\n",
       "mean       0.001620\n",
       "std        0.101573\n",
       "min       -0.515191\n",
       "25%       -0.048127\n",
       "50%        0.001146\n",
       "75%        0.055788\n",
       "max        0.377058\n",
       "Name: FCPOc1 USD, dtype: float64"
      ]
     },
     "execution_count": 18,
     "metadata": {},
     "output_type": "execute_result"
    }
   ],
   "source": [
    "#statistics\n",
    "\n",
    "#mean\n",
    "#sd\n",
    "#skewness\n",
    "#kurtosis\n",
    "#jb test\n",
    "#Ljung Box Q(6) and Q^2(6)\n",
    "#observations\n",
    "\n",
    "spot2.describe()\n",
    "#spot.dropna().describe()"
   ]
  },
  {
   "cell_type": "code",
   "execution_count": 19,
   "metadata": {},
   "outputs": [
    {
     "name": "stdout",
     "output_type": "stream",
     "text": [
      "Skewness spot: -0.17645586091292417\n",
      "Kurtosis spot: 5.496108585164645\n",
      "JB spot: Jarque_beraResult(statistic=133.9867918617241, pvalue=0.0)\n",
      "Q(6) spot:     lb_stat  lb_pvalue\n",
      "6  28.97423   0.000062\n"
     ]
    }
   ],
   "source": [
    "print(\"Skewness spot:\", scipy.stats.skew(spot2.dropna(), axis=0, bias=True))\n",
    "#print(\"Skewness logs:\", scipy.stats.skew(np.log(spot2.dropna()), axis=0, bias=True))\n",
    "print(\"Kurtosis spot:\", scipy.stats.kurtosis(spot2.dropna(), axis=0, fisher=False, bias=True))\n",
    "#print(\"Kurtosis logs:\", scipy.stats.kurtosis(np.log(spot2.dropna()), fisher=False, axis=0, bias=True))\n",
    "\n",
    "print(\"JB spot:\", scipy.stats.jarque_bera(spot2.dropna()))\n",
    "#print(\"JB logs:\", scipy.stats.jarque_bera(np.log(spot2.dropna())))\n",
    "#The Jarque-Bera Test is typically used for large datasets (n > 2000) in which other normality tests (like the Shapiro-Wilk test) are unreliable.\n",
    "\n",
    "print(\"Q(6) spot:\", sm.stats.acorr_ljungbox(spot2.dropna(), lags=[6]))\n",
    "#print(\"Q(6) logs:\", sm.stats.acorr_ljungbox(np.log(spot2.dropna()), lags=[6]))"
   ]
  },
  {
   "cell_type": "code",
   "execution_count": 20,
   "metadata": {},
   "outputs": [
    {
     "name": "stdout",
     "output_type": "stream",
     "text": [
      "ADF spot: (-8.556136232555685, 8.948969538796301e-14, 8, 497, {'1%': -3.4435761493506294, '5%': -2.867372960189225, '10%': -2.5698767442886696}, -846.520693085874)\n",
      "PP spot:      Phillips-Perron Test (Z-tau)    \n",
      "=====================================\n",
      "Test Statistic                -21.196\n",
      "P-value                         0.000\n",
      "Lags                               18\n",
      "-------------------------------------\n",
      "\n",
      "Trend: Constant\n",
      "Critical Values: -3.44 (1%), -2.87 (5%), -2.57 (10%)\n",
      "Null Hypothesis: The process contains a unit root.\n",
      "Alternative Hypothesis: The process is weakly stationary.\n"
     ]
    }
   ],
   "source": [
    "#stationarity\n",
    "\n",
    "#augmented Dickie-Fuller\n",
    "#PP test - Phillips and Perron\n",
    "#KPSS\n",
    "\n",
    "print(\"ADF spot:\", adfuller(spot2.dropna()))\n",
    "#print(\"ADF logs:\", adfuller(np.log(spot2.dropna())))\n",
    "\n",
    "print(\"PP spot:\", PhillipsPerron(spot2.dropna()).summary().as_text())\n",
    "#print(\"PP logs:\", PhillipsPerron(np.log(spot2.dropna())).summary().as_text())"
   ]
  },
  {
   "cell_type": "code",
   "execution_count": 21,
   "metadata": {},
   "outputs": [
    {
     "name": "stdout",
     "output_type": "stream",
     "text": [
      "KPSS spot:     KPSS Stationarity Test Results   \n",
      "=====================================\n",
      "Test Statistic                  0.032\n",
      "P-value                         0.969\n",
      "Lags                                5\n",
      "-------------------------------------\n",
      "\n",
      "Trend: Constant\n",
      "Critical Values: 0.74 (1%), 0.46 (5%), 0.35 (10%)\n",
      "Null Hypothesis: The process is weakly stationary.\n",
      "Alternative Hypothesis: The process contains a unit root.\n"
     ]
    }
   ],
   "source": [
    "print(\"KPSS spot:\", KPSS(spot2.dropna()).summary().as_text())\n",
    "#print(\"KPSS logs:\", KPSS(np.log(spot2.dropna())).summary().as_text())"
   ]
  },
  {
   "cell_type": "code",
   "execution_count": 22,
   "metadata": {},
   "outputs": [
    {
     "name": "stdout",
     "output_type": "stream",
     "text": [
      "ACF and PACF spot:\n"
     ]
    },
    {
     "name": "stderr",
     "output_type": "stream",
     "text": [
      "c:\\Users\\tatuh\\anaconda3\\lib\\site-packages\\statsmodels\\graphics\\tsaplots.py:348: FutureWarning: The default method 'yw' can produce PACF values outside of the [-1,1] interval. After 0.13, the default will change tounadjusted Yule-Walker ('ywm'). You can use this method now by setting method='ywm'.\n",
      "  warnings.warn(\n"
     ]
    },
    {
     "data": {
      "image/png": "[encoded data removed]",
      "text/plain": [
       "<Figure size 432x288 with 1 Axes>"
      ]
     },
     "execution_count": 22,
     "metadata": {},
     "output_type": "execute_result"
    },
    {
     "data": {
      "image/png": "[encoded data removed]",
      "text/plain": [
       "<Figure size 432x288 with 1 Axes>"
      ]
     },
     "metadata": {
      "needs_background": "light"
     },
     "output_type": "display_data"
    },
    {
     "data": {
      "image/png": "[encoded data removed]",
      "text/plain": [
       "<Figure size 432x288 with 1 Axes>"
      ]
     },
     "metadata": {
      "needs_background": "light"
     },
     "output_type": "display_data"
    }
   ],
   "source": [
    "#ACF and PACF\n",
    "\n",
    "print(\"ACF and PACF spot:\")\n",
    "plot_acf(spot2.dropna(), lags = 15)\n",
    "plot_pacf(spot2.dropna(), lags = 15)\n",
    "\n",
    "\n",
    "#print(\"ACF and PACF logs:\")\n",
    "#plot_acf(np.log(spot2.dropna()), lags = 15)\n",
    "#plot_pacf(np.log(spot2.dropna()), lags = 15)\n"
   ]
  },
  {
   "cell_type": "code",
   "execution_count": 23,
   "metadata": {},
   "outputs": [
    {
     "data": {
      "text/plain": [
       "<AxesSubplot:>"
      ]
     },
     "execution_count": 23,
     "metadata": {},
     "output_type": "execute_result"
    },
    {
     "data": {
      "image/png": "[encoded data removed]",
      "text/plain": [
       "<Figure size 432x288 with 1 Axes>"
      ]
     },
     "metadata": {
      "needs_background": "light"
     },
     "output_type": "display_data"
    }
   ],
   "source": [
    "spot2.hist()\n"
   ]
  },
  {
   "cell_type": "code",
   "execution_count": 24,
   "metadata": {},
   "outputs": [],
   "source": [
    "# Load the data and split it into separate pieces\n",
    "data2 = np.array(spot2.dropna())\n",
    "train2, test2 = model_selection.train_test_split(data2, train_size=338)"
   ]
  },
  {
   "cell_type": "code",
   "execution_count": 25,
   "metadata": {},
   "outputs": [
    {
     "name": "stdout",
     "output_type": "stream",
     "text": [
      "Performing stepwise search to minimize aic\n",
      " ARIMA(2,0,2)(0,0,0)[0]             : AIC=-563.835, Time=0.05 sec\n",
      " ARIMA(0,0,0)(0,0,0)[0]             : AIC=-551.991, Time=0.03 sec\n",
      " ARIMA(1,0,0)(0,0,0)[0]             : AIC=-551.878, Time=0.03 sec\n",
      " ARIMA(0,0,1)(0,0,0)[0]             : AIC=-552.948, Time=0.03 sec\n",
      " ARIMA(1,0,2)(0,0,0)[0]             : AIC=-556.695, Time=0.04 sec\n",
      " ARIMA(2,0,1)(0,0,0)[0]             : AIC=-560.247, Time=0.05 sec\n",
      " ARIMA(3,0,2)(0,0,0)[0]             : AIC=-560.119, Time=0.05 sec\n",
      " ARIMA(2,0,3)(0,0,0)[0]             : AIC=-561.061, Time=0.06 sec\n",
      " ARIMA(1,0,1)(0,0,0)[0]             : AIC=-554.037, Time=0.03 sec\n",
      " ARIMA(1,0,3)(0,0,0)[0]             : AIC=-555.120, Time=0.04 sec\n",
      " ARIMA(3,0,1)(0,0,0)[0]             : AIC=-558.272, Time=0.05 sec\n",
      " ARIMA(3,0,3)(0,0,0)[0]             : AIC=inf, Time=0.22 sec\n",
      " ARIMA(2,0,2)(0,0,0)[0] intercept   : AIC=-561.632, Time=0.07 sec\n",
      "\n",
      "Best model:  ARIMA(2,0,2)(0,0,0)[0]          \n",
      "Total fit time: 0.765 seconds\n"
     ]
    },
    {
     "data": {
      "image/png": "[encoded data removed]",
      "text/plain": [
       "<Figure size 432x288 with 1 Axes>"
      ]
     },
     "metadata": {
      "needs_background": "light"
     },
     "output_type": "display_data"
    }
   ],
   "source": [
    "# Fit a simple auto_arima model\n",
    "arima2 = pm.auto_arima(train2, error_action='ignore', trace=True,\n",
    "                      suppress_warnings=True, maxiter=5,\n",
    "                      seasonal=False)\n",
    "\n",
    "#arima = pm.auto_arima(train, error_action='ignore', trace=True,\n",
    "                      #suppress_warnings=True, maxiter=5,\n",
    "                      #seasonal=True, m=12)\n",
    "\n",
    "# #############################################################################\n",
    "# Plot actual test vs. forecasts:\n",
    "x2 = np.arange(test2.shape[0])\n",
    "plt.scatter(x2, test2, marker='x')\n",
    "plt.plot(x2, arima2.predict(n_periods=test2.shape[0]))\n",
    "plt.title('Actual test samples vs. forecasts')\n",
    "plt.show()"
   ]
  },
  {
   "cell_type": "code",
   "execution_count": 26,
   "metadata": {},
   "outputs": [
    {
     "data": {
      "text/html": [
       "<table class=\"simpletable\">\n",
       "<caption>SARIMAX Results</caption>\n",
       "<tr>\n",
       "  <th>Dep. Variable:</th>           <td>y</td>        <th>  No. Observations:  </th>    <td>338</td>  \n",
       "</tr>\n",
       "<tr>\n",
       "  <th>Model:</th>           <td>SARIMAX(2, 0, 2)</td> <th>  Log Likelihood     </th>  <td>286.918</td>\n",
       "</tr>\n",
       "<tr>\n",
       "  <th>Date:</th>            <td>Tue, 27 Dec 2022</td> <th>  AIC                </th> <td>-563.835</td>\n",
       "</tr>\n",
       "<tr>\n",
       "  <th>Time:</th>                <td>20:09:07</td>     <th>  BIC                </th> <td>-544.720</td>\n",
       "</tr>\n",
       "<tr>\n",
       "  <th>Sample:</th>                  <td>0</td>        <th>  HQIC               </th> <td>-556.217</td>\n",
       "</tr>\n",
       "<tr>\n",
       "  <th></th>                      <td> - 338</td>      <th>                     </th>     <td> </td>   \n",
       "</tr>\n",
       "<tr>\n",
       "  <th>Covariance Type:</th>        <td>opg</td>       <th>                     </th>     <td> </td>   \n",
       "</tr>\n",
       "</table>\n",
       "<table class=\"simpletable\">\n",
       "<tr>\n",
       "     <td></td>       <th>coef</th>     <th>std err</th>      <th>z</th>      <th>P>|z|</th>  <th>[0.025</th>    <th>0.975]</th>  \n",
       "</tr>\n",
       "<tr>\n",
       "  <th>ar.L1</th>  <td>    0.0426</td> <td>    0.140</td> <td>    0.304</td> <td> 0.761</td> <td>   -0.232</td> <td>    0.317</td>\n",
       "</tr>\n",
       "<tr>\n",
       "  <th>ar.L2</th>  <td>   -0.6754</td> <td>    0.144</td> <td>   -4.674</td> <td> 0.000</td> <td>   -0.959</td> <td>   -0.392</td>\n",
       "</tr>\n",
       "<tr>\n",
       "  <th>ma.L1</th>  <td>    0.0074</td> <td>    0.153</td> <td>    0.048</td> <td> 0.961</td> <td>   -0.292</td> <td>    0.307</td>\n",
       "</tr>\n",
       "<tr>\n",
       "  <th>ma.L2</th>  <td>    0.4945</td> <td>    0.179</td> <td>    2.765</td> <td> 0.006</td> <td>    0.144</td> <td>    0.845</td>\n",
       "</tr>\n",
       "<tr>\n",
       "  <th>sigma2</th> <td>    0.0108</td> <td>    0.001</td> <td>   18.631</td> <td> 0.000</td> <td>    0.010</td> <td>    0.012</td>\n",
       "</tr>\n",
       "</table>\n",
       "<table class=\"simpletable\">\n",
       "<tr>\n",
       "  <th>Ljung-Box (L1) (Q):</th>     <td>0.60</td> <th>  Jarque-Bera (JB):  </th> <td>87.19</td>\n",
       "</tr>\n",
       "<tr>\n",
       "  <th>Prob(Q):</th>                <td>0.44</td> <th>  Prob(JB):          </th> <td>0.00</td> \n",
       "</tr>\n",
       "<tr>\n",
       "  <th>Heteroskedasticity (H):</th> <td>0.61</td> <th>  Skew:              </th> <td>-0.26</td>\n",
       "</tr>\n",
       "<tr>\n",
       "  <th>Prob(H) (two-sided):</th>    <td>0.01</td> <th>  Kurtosis:          </th> <td>5.44</td> \n",
       "</tr>\n",
       "</table><br/><br/>Warnings:<br/>[1] Covariance matrix calculated using the outer product of gradients (complex-step)."
      ],
      "text/plain": [
       "<class 'statsmodels.iolib.summary.Summary'>\n",
       "\"\"\"\n",
       "                               SARIMAX Results                                \n",
       "==============================================================================\n",
       "Dep. Variable:                      y   No. Observations:                  338\n",
       "Model:               SARIMAX(2, 0, 2)   Log Likelihood                 286.918\n",
       "Date:                Tue, 27 Dec 2022   AIC                           -563.835\n",
       "Time:                        20:09:07   BIC                           -544.720\n",
       "Sample:                             0   HQIC                          -556.217\n",
       "                                - 338                                         \n",
       "Covariance Type:                  opg                                         \n",
       "==============================================================================\n",
       "                 coef    std err          z      P>|z|      [0.025      0.975]\n",
       "------------------------------------------------------------------------------\n",
       "ar.L1          0.0426      0.140      0.304      0.761      -0.232       0.317\n",
       "ar.L2         -0.6754      0.144     -4.674      0.000      -0.959      -0.392\n",
       "ma.L1          0.0074      0.153      0.048      0.961      -0.292       0.307\n",
       "ma.L2          0.4945      0.179      2.765      0.006       0.144       0.845\n",
       "sigma2         0.0108      0.001     18.631      0.000       0.010       0.012\n",
       "===================================================================================\n",
       "Ljung-Box (L1) (Q):                   0.60   Jarque-Bera (JB):                87.19\n",
       "Prob(Q):                              0.44   Prob(JB):                         0.00\n",
       "Heteroskedasticity (H):               0.61   Skew:                            -0.26\n",
       "Prob(H) (two-sided):                  0.01   Kurtosis:                         5.44\n",
       "===================================================================================\n",
       "\n",
       "Warnings:\n",
       "[1] Covariance matrix calculated using the outer product of gradients (complex-step).\n",
       "\"\"\""
      ]
     },
     "execution_count": 26,
     "metadata": {},
     "output_type": "execute_result"
    }
   ],
   "source": [
    "arima2.summary()"
   ]
  },
  {
   "cell_type": "code",
   "execution_count": 27,
   "metadata": {},
   "outputs": [
    {
     "data": {
      "text/plain": [
       "[<matplotlib.lines.Line2D at 0x2302cfb20d0>]"
      ]
     },
     "execution_count": 27,
     "metadata": {},
     "output_type": "execute_result"
    },
    {
     "data": {
      "image/png": "[encoded data removed]",
      "text/plain": [
       "<Figure size 432x288 with 1 Axes>"
      ]
     },
     "metadata": {
      "needs_background": "light"
     },
     "output_type": "display_data"
    }
   ],
   "source": [
    "plt.plot(x2, arima2.predict(n_periods=test2.shape[0]))"
   ]
  },
  {
   "cell_type": "code",
   "execution_count": 28,
   "metadata": {},
   "outputs": [
    {
     "data": {
      "text/plain": [
       "array([-3.02114799e-03, -3.61757947e-02,  4.98809738e-04,  2.44537587e-02,\n",
       "        7.05202441e-04, -1.64855910e-02, -1.17881015e-03,  1.10838465e-02,\n",
       "        1.26848277e-03, -7.43178100e-03, -1.17341438e-03,  4.96929082e-03,\n",
       "        1.00426854e-03, -3.31337591e-03, -8.19464049e-04,  2.20287519e-03,\n",
       "        6.47326644e-04, -1.46019792e-03, -4.99419061e-04,  9.64909663e-04,\n",
       "        3.78418287e-04, -6.35557005e-04, -2.82661202e-04,  4.17198614e-04,\n",
       "        2.08683254e-04, -2.72875705e-04, -1.52569557e-04,  1.77793794e-04,\n",
       "        1.10619454e-04, -1.15364818e-04, -7.96266923e-05,  7.45221215e-05,\n",
       "        5.69542207e-05, -4.79038561e-05, -4.05072983e-05,  3.06272238e-05,\n",
       "        2.86630945e-05, -1.94636244e-05, -2.01879918e-05,  1.22850877e-05,\n",
       "        1.41581437e-05, -7.69378918e-06, -9.89003245e-06,  4.77479042e-06,\n",
       "        6.88303209e-06, -2.93149192e-06, -4.77360475e-06,  1.77645283e-06,\n",
       "        3.29971258e-06, -1.05916902e-06, -2.27370462e-06,  6.18451057e-07,\n",
       "        1.56197564e-06, -3.51127939e-07, -1.06989437e-06,  1.91552459e-07,\n",
       "        7.30750991e-07, -9.82304544e-08, -4.97722562e-07,  4.51328360e-08,\n",
       "        3.38076478e-07, -1.60749005e-08, -2.29015996e-07,  1.09725755e-09,\n",
       "        1.54720177e-07,  5.85228694e-09, -1.04245921e-07, -8.39494251e-09,\n",
       "        7.00481324e-08,  8.65487896e-09, -4.69404642e-08, -7.84570891e-09,\n",
       "        3.13684298e-08,  6.63561180e-09, -2.09029168e-08, -5.37234847e-09,\n",
       "        1.38885251e-08,  4.22024613e-09, -9.20022356e-09, -3.24234564e-09,\n",
       "        6.07549923e-09,  2.44872945e-09, -3.99893453e-09, -1.82424269e-09,\n",
       "        2.62307120e-09,  1.34384318e-09, -1.71430914e-09, -9.80663082e-10,\n",
       "        1.11602388e-09,  7.09881811e-10, -7.23491697e-10, -5.10273209e-10,\n",
       "        4.66888554e-10,  3.64525964e-10, -2.99794234e-10, -2.58970136e-10,\n",
       "        1.91439870e-10,  1.83062077e-10, -1.21494019e-10, -1.28814373e-10,\n",
       "        7.65655582e-11,  9.02618044e-11, -4.78645646e-11, -6.30009862e-11,\n",
       "        2.96421250e-11,  4.38129601e-11, -1.81526986e-11, -3.03640826e-11,\n",
       "        1.09660601e-11,  2.09746884e-11, -6.51245584e-12, -1.44434659e-11,\n",
       "        3.78289520e-12,  9.91607242e-12, -2.13233101e-12, -6.78801139e-12,\n",
       "        1.15087011e-12,  4.63354873e-12, -5.79820299e-13, -3.15412704e-12,\n",
       "        2.57188326e-13,  2.14120251e-12, -8.24537927e-14, -1.44964465e-12,\n",
       "       -6.08833111e-15,  9.78805311e-13,  4.58234582e-14, -6.59115316e-13,\n",
       "       -5.90363747e-14,  4.42639194e-13,  5.87350811e-14, -2.96447829e-13,\n",
       "       -5.23016900e-14,  1.97986882e-13,  4.37608048e-14, -1.31852040e-13,\n",
       "       -3.51741224e-14,  8.75516377e-14,  2.74869778e-14, -5.79595026e-14,\n",
       "       -2.10341538e-14,  3.82484748e-14,  1.58360490e-14, -2.51575055e-14,\n",
       "       -1.17674717e-14,  1.64894739e-14,  8.65023973e-15, -1.07680762e-14,\n",
       "       -6.30109980e-15,  7.00405169e-15,  4.55412877e-15, -4.53634172e-15,\n",
       "       -3.26909419e-15,  2.92445474e-15,  2.33251411e-15, -1.87572641e-15,\n",
       "       -1.65527297e-15,  1.19629399e-15,  1.16892227e-15, -7.58142854e-16,\n",
       "       -8.21777796e-16,  4.77016664e-16,  5.75342347e-16, -2.97650704e-16,\n",
       "       -4.01260505e-16,  1.83928504e-16,  2.78842421e-16, -1.12339321e-16])"
      ]
     },
     "execution_count": 28,
     "metadata": {},
     "output_type": "execute_result"
    }
   ],
   "source": [
    "arima2.predict(n_periods=test2.shape[0])"
   ]
  },
  {
   "cell_type": "code",
   "execution_count": null,
   "metadata": {},
   "outputs": [],
   "source": [
    "#cointegration tests\n",
    "\n",
    "#normalized cv\n",
    "#LR test"
   ]
  },
  {
   "cell_type": "code",
   "execution_count": null,
   "metadata": {},
   "outputs": [],
   "source": [
    "#correlaatiomatriisi"
   ]
  },
  {
   "cell_type": "code",
   "execution_count": null,
   "metadata": {},
   "outputs": [],
   "source": [
    "#np.argwhere(np.isnan(x))"
   ]
  }
 ],
 "metadata": {
  "kernelspec": {
   "display_name": "Python 3.9.7 ('base')",
   "language": "python",
   "name": "python3"
  },
  "language_info": {
   "codemirror_mode": {
    "name": "ipython",
    "version": 3
   },
   "file_extension": ".py",
   "mimetype": "text/x-python",
   "name": "python",
   "nbconvert_exporter": "python",
   "pygments_lexer": "ipython3",
   "version": "3.9.7"
  },
  "orig_nbformat": 4,
  "vscode": {
   "interpreter": {
    "hash": "4166284f6c1be268893ecc7e1723c4ee59a7af301dc502cec5768712e1b57cd0"
   }
  }
 },
 "nbformat": 4,
 "nbformat_minor": 2
}
