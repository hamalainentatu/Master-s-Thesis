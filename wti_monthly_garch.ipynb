{
 "cells": [
  {
   "cell_type": "code",
   "execution_count": 40,
   "metadata": {},
   "outputs": [],
   "source": [
    "# Start loading libraries\n",
    "\n",
    "#! pip install yfinance\n",
    "\n",
    "import matplotlib.pyplot as plt\n",
    "import numpy as np\n",
    "import pandas as pd\n",
    "import seaborn as sns\n",
    "\n",
    "#! pip install pmdarima\n",
    "import pmdarima as pm\n",
    "from pmdarima import model_selection\n",
    "from pmdarima.model_selection import SlidingWindowForecastCV\n",
    "\n",
    "import scipy\n",
    "import scipy.stats as stats\n",
    "import statsmodels.api as sm\n",
    "from statsmodels.tsa.stattools import adfuller\n",
    "from arch.unitroot import PhillipsPerron\n",
    "from arch.unitroot import KPSS\n",
    "\n",
    "from statsmodels.graphics.tsaplots import plot_pacf\n",
    "from statsmodels.graphics.tsaplots import plot_acf\n",
    "from statsmodels.tsa.arima.model import ARIMA\n",
    "#from statsmodels.graphics.tsaplots import plot_acf\n",
    "\n",
    "from sklearn.metrics import mean_squared_error\n",
    "from sklearn.metrics import mean_absolute_error\n",
    "from sklearn.metrics import mean_absolute_percentage_error\n",
    "\n",
    "import arch\n",
    "import math\n",
    "import statistics\n",
    "#from matplotlib.ticker import NullFormatter\n",
    "#import yfinance as yf\n",
    "#import warnings; warnings.simplefilter('ignore')\n",
    "#%matplotlib inline"
   ]
  },
  {
   "cell_type": "code",
   "execution_count": 41,
   "metadata": {},
   "outputs": [],
   "source": [
    "xls_file = pd.ExcelFile(\"Data_monthly_final.xlsx\") # Read Excel\n",
    "df1=xls_file.parse(\"WTI\") # Read the first sheet (Portfolio holdings)\n",
    "\n",
    "#df1[\"Timestamp\"] = df1[\"Date\"].astype('datetime64[ns]') # Convert column to date format\n",
    "df1 = df1.set_index(['Timestamp']) # use first column as index\n",
    "\n",
    "#df1.to_excel(\"values.xlsx\")  #print to excel\n",
    "\n"
   ]
  },
  {
   "cell_type": "code",
   "execution_count": 42,
   "metadata": {},
   "outputs": [
    {
     "data": {
      "text/plain": [
       "<AxesSubplot:xlabel='Timestamp'>"
      ]
     },
     "execution_count": 42,
     "metadata": {},
     "output_type": "execute_result"
    },
    {
     "data": {
      "image/png": "[encoded data removed]",
      "text/plain": [
       "<Figure size 432x288 with 1 Axes>"
      ]
     },
     "metadata": {
      "needs_background": "light"
     },
     "output_type": "display_data"
    }
   ],
   "source": [
    "og = df1[\"CLc1\"]\n",
    "spot = df1[\"CLc1\"]\n",
    "spot = np.log(spot)\n",
    "spot = spot.loc['2004-01-31':'2022-11-30'].diff().dropna()\n",
    "spot_train = spot.loc[:'2016-07-31']\n",
    "spot_train.plot()"
   ]
  },
  {
   "cell_type": "code",
   "execution_count": 43,
   "metadata": {},
   "outputs": [],
   "source": [
    "### original series\n",
    "\n",
    "spotog = og.loc['2004-01-31':'2022-11-30'].dropna()\n",
    "trainog, testog = model_selection.train_test_split(spotog, train_size=((spot_train.shape[0])+1))"
   ]
  },
  {
   "cell_type": "code",
   "execution_count": 44,
   "metadata": {},
   "outputs": [
    {
     "data": {
      "text/plain": [
       "Timestamp\n",
       "2016-08-31      9.6100\n",
       "2016-09-30     12.5316\n",
       "2016-10-31      1.9044\n",
       "2016-11-30      6.6564\n",
       "2016-12-31     18.3184\n",
       "                ...   \n",
       "2022-07-31     50.9796\n",
       "2022-08-31     82.2649\n",
       "2022-09-30    101.2036\n",
       "2022-10-31     49.5616\n",
       "2022-11-30     35.7604\n",
       "Name: CLc1, Length: 76, dtype: float64"
      ]
     },
     "execution_count": 44,
     "metadata": {},
     "output_type": "execute_result"
    }
   ],
   "source": [
    "### realized vol ###\n",
    "\n",
    "diff_series = og.loc['2004-01-31':'2022-11-30'].diff().dropna()\n",
    "traindiff, testdiff = model_selection.train_test_split(diff_series, train_size=((spot_train.shape[0])))\n",
    "realized_vol = testdiff**2\n",
    "realized_vol\n"
   ]
  },
  {
   "cell_type": "code",
   "execution_count": 45,
   "metadata": {},
   "outputs": [],
   "source": [
    "# Load the data and split it into separate pieces\n",
    "#data = np.array(spot.dropna())**2\n",
    "data = np.array(spot.dropna())\n",
    "train, test = model_selection.train_test_split(data, train_size=(spot_train.shape[0]))\n",
    "#train, test = model_selection.train_test_split(data, train_size=(spot.shape[0]-1))"
   ]
  },
  {
   "cell_type": "code",
   "execution_count": 46,
   "metadata": {},
   "outputs": [
    {
     "name": "stdout",
     "output_type": "stream",
     "text": [
      "Iteration:      1,   Func. Count:      4,   Neg. LLF: 3352.186049410513\n",
      "Iteration:      2,   Func. Count:      9,   Neg. LLF: -132.46608097731135\n",
      "Iteration:      3,   Func. Count:     14,   Neg. LLF: -143.239774136571\n",
      "Iteration:      4,   Func. Count:     19,   Neg. LLF: -143.3130674455793\n",
      "Iteration:      5,   Func. Count:     22,   Neg. LLF: -143.3130801999012\n",
      "Iteration:      6,   Func. Count:     24,   Neg. LLF: -143.31308019989277\n",
      "Optimization terminated successfully    (Exit mode 0)\n",
      "            Current function value: -143.3130801999012\n",
      "            Iterations: 6\n",
      "            Function evaluations: 24\n",
      "            Gradient evaluations: 6\n"
     ]
    }
   ],
   "source": [
    "garch = arch.arch_model(train,mean='Zero', vol='ARCH', p=1, rescale=False)\n",
    "#garch = arch.arch_model(train, vol='GARCH', p=1, q=1)\n",
    "results = garch.fit()"
   ]
  },
  {
   "cell_type": "code",
   "execution_count": 47,
   "metadata": {},
   "outputs": [
    {
     "name": "stdout",
     "output_type": "stream",
     "text": [
      "                        Zero Mean - ARCH Model Results                        \n",
      "==============================================================================\n",
      "Dep. Variable:                      y   R-squared:                       0.000\n",
      "Mean Model:                 Zero Mean   Adj. R-squared:                  0.007\n",
      "Vol Model:                       ARCH   Log-Likelihood:                143.313\n",
      "Distribution:                  Normal   AIC:                          -282.626\n",
      "Method:            Maximum Likelihood   BIC:                          -276.605\n",
      "                                        No. Observations:                  150\n",
      "Date:                Sun, Nov 05 2023   Df Residuals:                      150\n",
      "Time:                        18:08:10   Df Model:                            0\n",
      "                              Volatility Model                              \n",
      "============================================================================\n",
      "                 coef    std err          t      P>|t|      95.0% Conf. Int.\n",
      "----------------------------------------------------------------------------\n",
      "omega      7.1556e-03  1.260e-03      5.681  1.340e-08 [4.687e-03,9.624e-03]\n",
      "alpha[1]       0.2089      0.171      1.223      0.221     [ -0.126,  0.544]\n",
      "============================================================================\n",
      "\n",
      "Covariance estimator: robust\n"
     ]
    }
   ],
   "source": [
    "print(results.summary())"
   ]
  },
  {
   "cell_type": "code",
   "execution_count": 48,
   "metadata": {},
   "outputs": [
    {
     "data": {
      "image/png": "[encoded data removed]",
      "text/plain": [
       "<Figure size 432x288 with 2 Axes>"
      ]
     },
     "metadata": {
      "needs_background": "light"
     },
     "output_type": "display_data"
    }
   ],
   "source": [
    "# Plot the standardized residuals\n",
    "fig = results.plot(annualize='M')\n",
    "#fig = results.plot()\n",
    "plt.show()"
   ]
  },
  {
   "cell_type": "code",
   "execution_count": 49,
   "metadata": {},
   "outputs": [
    {
     "data": {
      "text/plain": [
       "0.011852489364785581"
      ]
     },
     "execution_count": 49,
     "metadata": {},
     "output_type": "execute_result"
    }
   ],
   "source": [
    "yhat = results.forecast(horizon=1)\n",
    "#np.exp(yhat.variance.values)\n",
    "#math.sqrt(yhat.variance.values.flatten())\n",
    "#math.sqrt(yhat.variance.values.flatten()[0])\n",
    "#np.exp(yhat.variance.values.flatten()[0])\n",
    "yhat.variance.values.flatten()[0]"
   ]
  },
  {
   "cell_type": "code",
   "execution_count": 50,
   "metadata": {},
   "outputs": [],
   "source": [
    "# Generate statistics and diagnostic plots\n",
    "\n",
    "#a= results.conditional_volatility\n",
    "#plt.plot(a)"
   ]
  },
  {
   "cell_type": "code",
   "execution_count": 51,
   "metadata": {},
   "outputs": [
    {
     "data": {
      "text/plain": [
       "[4.784683417800267,\n",
       " 4.24052054613103,\n",
       " 4.625183743914171,\n",
       " 4.206866574062012,\n",
       " 4.557124605677529,\n",
       " 5.2148859243141175,\n",
       " 4.62179193334304,\n",
       " 4.681256673341764,\n",
       " 4.622833259898783,\n",
       " 4.236760479764648,\n",
       " 4.105159430561031,\n",
       " 4.033375550542317,\n",
       " 4.780997045506943,\n",
       " 4.22958288890311,\n",
       " 4.9807270925319855,\n",
       " 4.768274840827978,\n",
       " 5.0585481043350455,\n",
       " 5.285263918469781,\n",
       " 5.8776589581919865,\n",
       " 5.324318682998708,\n",
       " 5.635453832692519,\n",
       " 5.957383409911273,\n",
       " 5.5267639211025426,\n",
       " 7.332274443840049,\n",
       " 6.292955433618587,\n",
       " 5.710575375523746,\n",
       " 6.247698429213784,\n",
       " 6.724569299334519,\n",
       " 8.743491504291939,\n",
       " 4.815722222415303,\n",
       " 7.043063931936381,\n",
       " 5.198509086155632,\n",
       " 5.291623157023281,\n",
       " 5.768048074279903,\n",
       " 7.201834150933763,\n",
       " 5.784031424170621,\n",
       " 4.978817318248488,\n",
       " 5.055006790525368,\n",
       " 4.626065451382239,\n",
       " 4.599328501117711,\n",
       " 4.6756645202005345,\n",
       " 6.276428368913301,\n",
       " 6.789129336451779,\n",
       " 5.381017606900734,\n",
       " 22.239577085248175,\n",
       " 2.170396867404474,\n",
       " 31.735429302540375,\n",
       " 5.523800001333896,\n",
       " 3.684432290609003,\n",
       " 4.526592923759338,\n",
       " 4.278990921805104,\n",
       " 5.515679079515451,\n",
       " 12.929569272475845,\n",
       " 5.517081579138541,\n",
       " 6.130134012530988,\n",
       " 12.436430616984538,\n",
       " 5.716747977438402,\n",
       " 7.3937627746066426,\n",
       " 6.4624709080579095,\n",
       " 10.323492555624185,\n",
       " 6.376833980951403,\n",
       " 8.160769537467601,\n",
       " 9.805432733437499,\n",
       " 11.956346909764704,\n",
       " 18.46761529497084,\n",
       " 12.185654603923012,\n",
       " 17.1176336120201,\n",
       " 11.636720325344584,\n",
       " 9.696259884486707,\n",
       " 9.895703373352447,\n",
       " 14.776893425671588,\n",
       " 12.744881821901302,\n",
       " 11.051108325576081,\n",
       " 11.956937642840572,\n",
       " 12.286715765537735,\n",
       " 10.669585852934276]"
      ]
     },
     "execution_count": 51,
     "metadata": {},
     "output_type": "execute_result"
    }
   ],
   "source": [
    "#### One-step-ahead predictions of volatility ###\n",
    "\n",
    "predicted_returns = []\n",
    "\n",
    "for i in range(len(test)):\n",
    "    insample_data = data[i:-(len(test)-i)]\n",
    "    \n",
    "    garch = arch.arch_model(insample_data,mean='Zero', vol='ARCH', p=1, rescale=False)\n",
    "    #garch = arch.arch_model(train, vol='GARCH', p=1, q=1)\n",
    "    results = garch.fit(disp='off')\n",
    "\n",
    "    yhat = results.forecast(horizon=1)\n",
    "    log_std = math.sqrt(yhat.variance.values.flatten()[0])\n",
    "\n",
    "    const_std = np.exp(log_std)\n",
    "    predicted_returns.append(const_std)\n",
    "\n",
    "\n",
    "test_shift3 = list(testog)\n",
    "test_shift3.insert(0, trainog[-1])\n",
    "test_shift3.pop()\n",
    "\n",
    "predicted_std_price = list((test_shift3 * np.array(predicted_returns)) - test_shift3)\n",
    "\n",
    "predicted_vol = pd.DataFrame(predicted_std_price)**2\n",
    "predicted_std_price\n"
   ]
  },
  {
   "cell_type": "code",
   "execution_count": 52,
   "metadata": {},
   "outputs": [],
   "source": [
    "def smape_kun(y_true, y_pred):\n",
    "    return np.mean(np.abs(y_pred - y_true) / ((np.abs(y_pred) + np.abs(y_true))/2))*100"
   ]
  },
  {
   "cell_type": "code",
   "execution_count": 53,
   "metadata": {},
   "outputs": [
    {
     "data": {
      "image/png": "[encoded data removed]",
      "text/plain": [
       "<Figure size 432x288 with 1 Axes>"
      ]
     },
     "metadata": {
      "needs_background": "light"
     },
     "output_type": "display_data"
    }
   ],
   "source": [
    "exp_predictions = np.array(predicted_vol)\n",
    "exp_spot= diff_series**2\n",
    "exp_test = np.array(realized_vol)\n",
    "exp_train = traindiff**2\n",
    "\n",
    "#exp_predictions = np.sqrt(exp_predictions)\n",
    "#exp_spot= np.sqrt(exp_spot)\n",
    "#exp_test = np.sqrt(exp_test)\n",
    "#exp_train = np.sqrt(exp_train)\n",
    "\n",
    "x_axis = np.arange(exp_spot.shape[0])\n",
    "n_test = exp_predictions.shape[0]\n",
    "\n",
    "plt.plot(x_axis, exp_spot, alpha=0.75, c='b')\n",
    "plt.plot(x_axis[-n_test:], exp_predictions, alpha=0.75, c='g')  # Forecasts\n",
    "plt.title(\"Cross-validated forecasts\")\n",
    "plt.show()"
   ]
  },
  {
   "cell_type": "code",
   "execution_count": 54,
   "metadata": {},
   "outputs": [
    {
     "name": "stdout",
     "output_type": "stream",
     "text": [
      "Mean Squared Error: 25769.151\n",
      "Mean Absolute Error: 71.974\n",
      "Mean Absolute Percentage Error: 7336.881\n",
      "Symmetric Mean Absolute Percentage Error: 112.824\n"
     ]
    }
   ],
   "source": [
    "error = mean_squared_error(exp_test, exp_predictions)\n",
    "print('Mean Squared Error: %.3f' % error)\n",
    "error2 = mean_absolute_error(exp_test, exp_predictions)\n",
    "print('Mean Absolute Error: %.3f' % error2)\n",
    "error3 = mean_absolute_percentage_error(exp_test, exp_predictions)\n",
    "print('Mean Absolute Percentage Error: %.3f' % (error3*100))\n",
    "error4 = smape_kun(exp_test, exp_predictions)\n",
    "print('Symmetric Mean Absolute Percentage Error: %.3f' % error4)"
   ]
  },
  {
   "cell_type": "code",
   "execution_count": 55,
   "metadata": {},
   "outputs": [],
   "source": [
    "### same with built-in function ###\n",
    "\n",
    "#predictions22 = model_selection.cross_val_score(\n",
    "#    ar, spot, scoring='mean_absolute_error', cv=cv, verbose=0)\n",
    "#np.average(predictions22)"
   ]
  },
  {
   "cell_type": "code",
   "execution_count": 56,
   "metadata": {},
   "outputs": [
    {
     "name": "stdout",
     "output_type": "stream",
     "text": [
      "Mean Absolute Scaled Error: 1.413\n"
     ]
    }
   ],
   "source": [
    "#### MASE ###\n",
    "\n",
    "abs_errors = abs(exp_predictions - exp_test)\n",
    "mae_naive_list = []\n",
    "\n",
    "for x in range(len(exp_test)):\n",
    "    insample_data = exp_spot[x:-(len(exp_test)-x)]\n",
    "    mae_insample = np.mean(abs(insample_data.diff().dropna()))\n",
    "    mae_naive_list.append(mae_insample)\n",
    "\n",
    "mase = np.mean(abs_errors / mae_naive_list)\n",
    "\n",
    "print('Mean Absolute Scaled Error: %.3f' % mase)"
   ]
  },
  {
   "cell_type": "code",
   "execution_count": 57,
   "metadata": {},
   "outputs": [
    {
     "name": "stdout",
     "output_type": "stream",
     "text": [
      "Merton test: 1.105\n"
     ]
    }
   ],
   "source": [
    "### Merton test ###\n",
    "\n",
    "test_app = list(exp_test)\n",
    "test_app.insert(0, exp_train[-1]) ## append last of train data\n",
    "dir = np.array(np.sign(pd.DataFrame(test_app).diff().dropna()))\n",
    "\n",
    "pred_app = list(exp_predictions)\n",
    "\n",
    "test_shift = list(exp_test)\n",
    "test_shift.insert(0, exp_train[-1])\n",
    "test_shift.pop()\n",
    "\n",
    "dir_pred = np.array(np.sign([a - b for a, b in zip(pred_app,test_shift)]))\n",
    "\n",
    "q_minus = 0\n",
    "q_plus = 0\n",
    "pred_minus = 0\n",
    "pred_plus = 0\n",
    "\n",
    "for t in range(len(dir)):\n",
    "    if dir[t] == 1:\n",
    "        q_plus += 1\n",
    "        if dir_pred[t] == 1:\n",
    "            pred_plus += 1\n",
    "    if dir[t] == -1:\n",
    "        q_minus += 1\n",
    "        if dir_pred[t] == -1:\n",
    "            pred_minus += 1\n",
    "\n",
    "print('Merton test: %.3f' % ((pred_plus / q_plus) + (pred_minus / q_minus)))"
   ]
  },
  {
   "cell_type": "code",
   "execution_count": null,
   "metadata": {},
   "outputs": [],
   "source": []
  }
 ],
 "metadata": {
  "kernelspec": {
   "display_name": "Python 3.9.7 ('base')",
   "language": "python",
   "name": "python3"
  },
  "language_info": {
   "codemirror_mode": {
    "name": "ipython",
    "version": 3
   },
   "file_extension": ".py",
   "mimetype": "text/x-python",
   "name": "python",
   "nbconvert_exporter": "python",
   "pygments_lexer": "ipython3",
   "version": "3.9.7"
  },
  "orig_nbformat": 4,
  "vscode": {
   "interpreter": {
    "hash": "4166284f6c1be268893ecc7e1723c4ee59a7af301dc502cec5768712e1b57cd0"
   }
  }
 },
 "nbformat": 4,
 "nbformat_minor": 2
}
