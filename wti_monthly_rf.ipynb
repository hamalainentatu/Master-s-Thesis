{
 "cells": [
  {
   "cell_type": "code",
   "execution_count": 1,
   "metadata": {},
   "outputs": [],
   "source": [
    "# Start loading libraries\n",
    "\n",
    "#! pip install yfinance\n",
    "\n",
    "import matplotlib.pyplot as plt\n",
    "import numpy as np\n",
    "import pandas as pd\n",
    "import seaborn as sns\n",
    "\n",
    "#! pip install pmdarima\n",
    "import pmdarima as pm\n",
    "from pmdarima import model_selection\n",
    "from pmdarima.model_selection import SlidingWindowForecastCV\n",
    "\n",
    "import scipy\n",
    "import scipy.stats as stats\n",
    "import statsmodels.api as sm\n",
    "from statsmodels.tsa.stattools import adfuller\n",
    "from arch.unitroot import PhillipsPerron\n",
    "from arch.unitroot import KPSS\n",
    "\n",
    "from statsmodels.graphics.tsaplots import plot_pacf\n",
    "from statsmodels.graphics.tsaplots import plot_acf\n",
    "from statsmodels.tsa.arima.model import ARIMA\n",
    "#from statsmodels.graphics.tsaplots import plot_acf\n",
    "\n",
    "from sklearn.metrics import mean_squared_error\n",
    "from sklearn.metrics import mean_absolute_error\n",
    "from sklearn.metrics import mean_absolute_percentage_error\n",
    "\n",
    "from scipy.optimize import minimize\n",
    "from random import gauss\n",
    "import math\n",
    "from statistics import mean, stdev\n",
    "\n",
    "from numpy import asarray\n",
    "from sklearn.ensemble import RandomForestRegressor\n",
    "from matplotlib import pyplot\n",
    "\n",
    "#from matplotlib.ticker import NullFormatter\n",
    "#import yfinance as yf\n",
    "#import warnings; warnings.simplefilter('ignore')\n",
    "#%matplotlib inline"
   ]
  },
  {
   "cell_type": "code",
   "execution_count": 2,
   "metadata": {},
   "outputs": [],
   "source": [
    "xls_file = pd.ExcelFile(\"Data_monthly_final.xlsx\") # Read Excel\n",
    "df1=xls_file.parse(\"WTI\") # Read the first sheet (Portfolio holdings)\n",
    "\n",
    "#df1[\"Timestamp\"] = df1[\"Date\"].astype('datetime64[ns]') # Convert column to date format\n",
    "df1 = df1.set_index(['Timestamp']) # use first column as index\n",
    "\n",
    "#df1.to_excel(\"values.xlsx\")  #print to excel\n",
    "\n"
   ]
  },
  {
   "cell_type": "code",
   "execution_count": 4,
   "metadata": {},
   "outputs": [],
   "source": [
    "spot = df1[\"CLc1\"]\n",
    "spot = np.log(spot)\n",
    "spot = spot.loc['2004-01-31':'2022-11-30']\n",
    "spot_train = spot.loc[:'2016-07-31']\n",
    "#spot_train.plot()"
   ]
  },
  {
   "cell_type": "code",
   "execution_count": 5,
   "metadata": {},
   "outputs": [],
   "source": [
    "# transform a time series dataset into a supervised learning dataset\n",
    "def series_to_supervised(data, n_in=1, n_out=1, dropnan=True):\n",
    " #n_vars = 1 if type(data) is list else data.shape[1]\n",
    " df_temp = pd.DataFrame(data)\n",
    " cols = list()\n",
    " # input sequence (t-n, ... t-1)\n",
    " for i in range(n_in, 0, -1):\n",
    "    cols.append(df_temp.shift(i))\n",
    " # forecast sequence (t, t+1, ... t+n)\n",
    " for i in range(0, n_out):\n",
    "    cols.append(df_temp.shift(-i))\n",
    " # put it all together\n",
    " agg = pd.concat(cols, axis=1)\n",
    " # drop rows with NaN values\n",
    " if dropnan:\n",
    "    agg.dropna(inplace=True)\n",
    " return agg.values"
   ]
  },
  {
   "cell_type": "code",
   "execution_count": 6,
   "metadata": {},
   "outputs": [],
   "source": [
    "# split a univariate dataset into train/test sets\n",
    "def train_test_split(data, n_test):\n",
    "    return data[:-n_test, :], data[-n_test:, :]"
   ]
  },
  {
   "cell_type": "code",
   "execution_count": 7,
   "metadata": {},
   "outputs": [],
   "source": [
    "# Load the data and split it into separate pieces\n",
    "data = np.array(spot.dropna())\n",
    "train, test = model_selection.train_test_split(data, train_size=(spot_train.shape[0]))\n",
    "\n",
    "time_lag = 12\n",
    "\n",
    "data_new = series_to_supervised(data, n_in=time_lag, n_out=1, dropnan=True)\n",
    "#train, test = model_selection.train_test_split(data, train_size=(spot.shape[0]-1))"
   ]
  },
  {
   "cell_type": "code",
   "execution_count": 8,
   "metadata": {},
   "outputs": [],
   "source": [
    "#train_new  = series_to_supervised(train, n_in=time_lag, n_out=1, dropnan=True)\n",
    "#test_new = series_to_supervised(test, n_in=time_lag, n_out=1, dropnan=True)"
   ]
  },
  {
   "cell_type": "code",
   "execution_count": 9,
   "metadata": {},
   "outputs": [],
   "source": [
    "# fit an random forest model and make a one step prediction\n",
    "def random_forest_forecast(train, testX):\n",
    " # transform list into array\n",
    " train = asarray(train)\n",
    " # split into input and output columns\n",
    " trainX, trainy = train[:, :-1], train[:, -1]\n",
    " # fit model\n",
    " model = RandomForestRegressor(n_estimators=1000)\n",
    " #model = RandomForestRegressor(n_estimators=100, max_features=0.3)\n",
    " model.fit(trainX, trainy)\n",
    " # make a one-step prediction\n",
    " yhat = model.predict([testX])\n",
    " return yhat[0]"
   ]
  },
  {
   "cell_type": "code",
   "execution_count": 10,
   "metadata": {},
   "outputs": [],
   "source": [
    "# walk-forward validation for univariate data\n",
    "def walk_forward_validation(data, n_test):\n",
    "   predictions = list()\n",
    "   # split dataset\n",
    "   train1, test1 = train_test_split(data, n_test)\n",
    "   # seed history with training dataset\n",
    "   history = [x for x in train1]\n",
    "   # step over each time-step in the test set\n",
    "   for i in range(len(test1)):\n",
    "      # split test row into input and output columns\n",
    "      testX, testy = test1[i, :-1], test1[i, -1]\n",
    "      # fit model on history and make a prediction\n",
    "      yhat = random_forest_forecast(history, testX)\n",
    "      # store forecast in list of predictions\n",
    "      predictions.append(yhat)\n",
    "      # add actual observation to history for the next loop and delete oldest one\n",
    "      history.append(test1[i])\n",
    "      history.pop(0)\n",
    "      # summarize progress\n",
    "      print('>expected=%.1f, predicted=%.1f' % (testy, yhat))\n",
    "\n",
    "    # estimate prediction error\n",
    "   error = mean_absolute_error(test1[:, -1], predictions)\n",
    "   return error, test1[:, -1], predictions \n",
    "\n",
    "  "
   ]
  },
  {
   "cell_type": "code",
   "execution_count": 11,
   "metadata": {},
   "outputs": [
    {
     "name": "stdout",
     "output_type": "stream",
     "text": [
      ">expected=3.8, predicted=3.7\n",
      ">expected=3.9, predicted=3.8\n",
      ">expected=3.8, predicted=3.9\n",
      ">expected=3.9, predicted=3.9\n",
      ">expected=4.0, predicted=3.9\n",
      ">expected=4.0, predicted=4.0\n",
      ">expected=4.0, predicted=4.0\n",
      ">expected=3.9, predicted=4.0\n",
      ">expected=3.9, predicted=3.9\n",
      ">expected=3.9, predicted=3.9\n",
      ">expected=3.8, predicted=3.9\n",
      ">expected=3.9, predicted=3.8\n",
      ">expected=3.9, predicted=3.9\n",
      ">expected=3.9, predicted=3.9\n",
      ">expected=4.0, predicted=3.9\n",
      ">expected=4.1, predicted=3.9\n",
      ">expected=4.1, predicted=4.0\n",
      ">expected=4.2, predicted=4.1\n",
      ">expected=4.1, predicted=4.1\n",
      ">expected=4.2, predicted=4.1\n",
      ">expected=4.2, predicted=4.2\n",
      ">expected=4.2, predicted=4.2\n",
      ">expected=4.3, predicted=4.2\n",
      ">expected=4.2, predicted=4.4\n",
      ">expected=4.2, predicted=4.3\n",
      ">expected=4.3, predicted=4.3\n",
      ">expected=4.2, predicted=4.3\n",
      ">expected=3.9, predicted=4.2\n",
      ">expected=3.8, predicted=3.9\n",
      ">expected=4.0, predicted=3.8\n",
      ">expected=4.0, predicted=3.9\n",
      ">expected=4.1, predicted=4.0\n",
      ">expected=4.2, predicted=4.1\n",
      ">expected=4.0, predicted=4.1\n",
      ">expected=4.1, predicted=3.9\n",
      ">expected=4.1, predicted=4.1\n",
      ">expected=4.0, predicted=4.1\n",
      ">expected=4.0, predicted=4.0\n",
      ">expected=4.0, predicted=4.0\n",
      ">expected=4.0, predicted=4.0\n",
      ">expected=4.1, predicted=4.0\n",
      ">expected=3.9, predicted=4.1\n",
      ">expected=3.8, predicted=4.0\n",
      ">expected=3.0, predicted=3.9\n",
      ">expected=2.9, predicted=3.6\n",
      ">expected=3.6, predicted=3.3\n",
      ">expected=3.7, predicted=3.5\n",
      ">expected=3.7, predicted=3.7\n",
      ">expected=3.8, predicted=3.7\n",
      ">expected=3.7, predicted=3.8\n",
      ">expected=3.6, predicted=3.7\n",
      ">expected=3.8, predicted=3.7\n",
      ">expected=3.9, predicted=3.8\n",
      ">expected=4.0, predicted=3.9\n",
      ">expected=4.1, predicted=4.0\n",
      ">expected=4.1, predicted=4.1\n",
      ">expected=4.2, predicted=4.1\n",
      ">expected=4.2, predicted=4.1\n",
      ">expected=4.3, predicted=4.2\n",
      ">expected=4.3, predicted=4.3\n",
      ">expected=4.2, predicted=4.3\n",
      ">expected=4.3, predicted=4.3\n",
      ">expected=4.4, predicted=4.3\n",
      ">expected=4.2, predicted=4.4\n",
      ">expected=4.3, predicted=4.1\n",
      ">expected=4.5, predicted=4.3\n",
      ">expected=4.6, predicted=4.4\n",
      ">expected=4.6, predicted=4.5\n",
      ">expected=4.7, predicted=4.6\n",
      ">expected=4.7, predicted=4.7\n",
      ">expected=4.7, predicted=4.6\n",
      ">expected=4.6, predicted=4.6\n",
      ">expected=4.5, predicted=4.6\n",
      ">expected=4.4, predicted=4.5\n",
      ">expected=4.5, predicted=4.3\n",
      ">expected=4.4, predicted=4.5\n",
      "MAE: 0.103\n"
     ]
    },
    {
     "data": {
      "image/png": "[encoded data removed]",
      "text/plain": [
       "<Figure size 432x288 with 1 Axes>"
      ]
     },
     "metadata": {
      "needs_background": "light"
     },
     "output_type": "display_data"
    }
   ],
   "source": [
    "# evaluate\n",
    "mae, y, yhat = walk_forward_validation(data_new, len(test))\n",
    "print('MAE: %.3f' % mae)\n",
    "# plot expected vs predicted\n",
    "pyplot.plot(y, label='Expected')\n",
    "pyplot.plot(yhat, label='Predicted')\n",
    "pyplot.legend()\n",
    "pyplot.show()"
   ]
  },
  {
   "cell_type": "code",
   "execution_count": 12,
   "metadata": {},
   "outputs": [],
   "source": [
    "def smape_kun(y_true, y_pred):\n",
    "    return np.mean(np.abs(y_pred - y_true) / ((np.abs(y_pred) + np.abs(y_true))/2))*100"
   ]
  },
  {
   "cell_type": "code",
   "execution_count": 13,
   "metadata": {},
   "outputs": [],
   "source": [
    "predictions = yhat"
   ]
  },
  {
   "cell_type": "code",
   "execution_count": 14,
   "metadata": {},
   "outputs": [
    {
     "data": {
      "image/png": "[encoded data removed]",
      "text/plain": [
       "<Figure size 432x288 with 1 Axes>"
      ]
     },
     "metadata": {
      "needs_background": "light"
     },
     "output_type": "display_data"
    }
   ],
   "source": [
    "exp_predictions = np.exp(predictions)\n",
    "exp_spot= np.exp(spot)\n",
    "exp_test = np.exp(test)\n",
    "exp_train = np.exp(train)\n",
    "\n",
    "x_axis = np.arange(exp_spot.shape[0])\n",
    "n_test = exp_predictions.shape[0]\n",
    "\n",
    "plt.plot(x_axis, exp_spot, alpha=0.75, c='b')\n",
    "plt.plot(x_axis[-n_test:], exp_predictions, alpha=0.75, c='g')  # Forecasts\n",
    "plt.title(\"Cross-validated forecasts\")\n",
    "plt.show()"
   ]
  },
  {
   "cell_type": "code",
   "execution_count": 15,
   "metadata": {},
   "outputs": [
    {
     "name": "stdout",
     "output_type": "stream",
     "text": [
      "Mean Squared Error: 53.158\n",
      "Mean Absolute Error: 5.622\n",
      "Mean Absolute Percentage Error: 11.195\n",
      "Symmetric Mean Absolute Percentage Error: 10.168\n"
     ]
    }
   ],
   "source": [
    "error = mean_squared_error(exp_test, exp_predictions)\n",
    "print('Mean Squared Error: %.3f' % error)\n",
    "error2 = mean_absolute_error(exp_test, exp_predictions)\n",
    "print('Mean Absolute Error: %.3f' % error2)\n",
    "error3 = mean_absolute_percentage_error(exp_test, exp_predictions)\n",
    "print('Mean Absolute Percentage Error: %.3f' % (error3*100))\n",
    "error4 = smape_kun(exp_test, exp_predictions)\n",
    "print('Symmetric Mean Absolute Percentage Error: %.3f' % error4)"
   ]
  },
  {
   "cell_type": "code",
   "execution_count": 16,
   "metadata": {},
   "outputs": [],
   "source": [
    "### same with built-in function ###\n",
    "\n",
    "#predictions22 = model_selection.cross_val_score(\n",
    "#    ar, spot, scoring='mean_absolute_error', cv=cv, verbose=0)\n",
    "#np.average(predictions22)"
   ]
  },
  {
   "cell_type": "code",
   "execution_count": 17,
   "metadata": {},
   "outputs": [
    {
     "name": "stdout",
     "output_type": "stream",
     "text": [
      "Mean Absolute Scaled Error: 1.088\n"
     ]
    }
   ],
   "source": [
    "#### MASE ###\n",
    "\n",
    "abs_errors = abs(exp_predictions - exp_test)\n",
    "mae_naive_list = []\n",
    "\n",
    "for x in range(len(exp_test)):\n",
    "    insample_data = exp_spot[x:-(len(exp_test)-x)]\n",
    "    mae_insample = np.mean(abs(insample_data.diff().dropna()))\n",
    "    mae_naive_list.append(mae_insample)\n",
    "\n",
    "mase = np.mean(abs_errors / mae_naive_list)\n",
    "\n",
    "print('Mean Absolute Scaled Error: %.3f' % mase)"
   ]
  },
  {
   "cell_type": "code",
   "execution_count": 18,
   "metadata": {},
   "outputs": [
    {
     "data": {
      "text/html": [
       "<div>\n",
       "<style scoped>\n",
       "    .dataframe tbody tr th:only-of-type {\n",
       "        vertical-align: middle;\n",
       "    }\n",
       "\n",
       "    .dataframe tbody tr th {\n",
       "        vertical-align: top;\n",
       "    }\n",
       "\n",
       "    .dataframe thead th {\n",
       "        text-align: right;\n",
       "    }\n",
       "</style>\n",
       "<table border=\"1\" class=\"dataframe\">\n",
       "  <thead>\n",
       "    <tr style=\"text-align: right;\">\n",
       "      <th></th>\n",
       "      <th>0</th>\n",
       "    </tr>\n",
       "  </thead>\n",
       "  <tbody>\n",
       "    <tr>\n",
       "      <th>0</th>\n",
       "      <td>0.930649</td>\n",
       "    </tr>\n",
       "    <tr>\n",
       "      <th>1</th>\n",
       "      <td>1.079195</td>\n",
       "    </tr>\n",
       "    <tr>\n",
       "      <th>2</th>\n",
       "      <td>1.029449</td>\n",
       "    </tr>\n",
       "    <tr>\n",
       "      <th>3</th>\n",
       "      <td>1.055058</td>\n",
       "    </tr>\n",
       "    <tr>\n",
       "      <th>4</th>\n",
       "      <td>0.920328</td>\n",
       "    </tr>\n",
       "    <tr>\n",
       "      <th>...</th>\n",
       "      <td>...</td>\n",
       "    </tr>\n",
       "    <tr>\n",
       "      <th>71</th>\n",
       "      <td>1.072399</td>\n",
       "    </tr>\n",
       "    <tr>\n",
       "      <th>72</th>\n",
       "      <td>1.101284</td>\n",
       "    </tr>\n",
       "    <tr>\n",
       "      <th>73</th>\n",
       "      <td>1.126557</td>\n",
       "    </tr>\n",
       "    <tr>\n",
       "      <th>74</th>\n",
       "      <td>0.918641</td>\n",
       "    </tr>\n",
       "    <tr>\n",
       "      <th>75</th>\n",
       "      <td>0.930891</td>\n",
       "    </tr>\n",
       "  </tbody>\n",
       "</table>\n",
       "<p>76 rows × 1 columns</p>\n",
       "</div>"
      ],
      "text/plain": [
       "           0\n",
       "0   0.930649\n",
       "1   1.079195\n",
       "2   1.029449\n",
       "3   1.055058\n",
       "4   0.920328\n",
       "..       ...\n",
       "71  1.072399\n",
       "72  1.101284\n",
       "73  1.126557\n",
       "74  0.918641\n",
       "75  0.930891\n",
       "\n",
       "[76 rows x 1 columns]"
      ]
     },
     "execution_count": 18,
     "metadata": {},
     "output_type": "execute_result"
    }
   ],
   "source": [
    "### Returns ###\n",
    "\n",
    "returns = []\n",
    "\n",
    "test_app2 = list(exp_test)\n",
    "test_app2.insert(0, exp_train[-1]) ## append last of train data\n",
    "price_moves = np.array(pd.DataFrame(test_app2).pct_change().dropna()+1)\n",
    "\n",
    "pred_app2 = list(predictions)\n",
    "\n",
    "test_shift2 = list(test)\n",
    "test_shift2.insert(0, train[-1])\n",
    "test_shift2.pop()\n",
    "\n",
    "dir_pred2 = np.array(np.sign([a - b for a, b in zip(pred_app2,test_shift2)]))\n",
    "\n",
    "for t in range(len(dir_pred2)):\n",
    "    if dir_pred2[t] == 1:\n",
    "            returns.append(price_moves[t])\n",
    "        \n",
    "    if dir_pred2[t] == -1:\n",
    "        returns.append(1/price_moves[t])\n",
    "\n",
    "returns = pd.DataFrame(returns)\n",
    "returns\n"
   ]
  },
  {
   "cell_type": "code",
   "execution_count": 19,
   "metadata": {},
   "outputs": [
    {
     "name": "stdout",
     "output_type": "stream",
     "text": [
      "[0.51771295] [0.30309116]\n"
     ]
    }
   ],
   "source": [
    "### Returns t-test ###\n",
    "\n",
    "t_statistic, p_value = stats.ttest_1samp(a=returns, popmean=1, alternative='greater') ### one tailed test?\n",
    "\n",
    "\n",
    "print(t_statistic , p_value)"
   ]
  },
  {
   "cell_type": "code",
   "execution_count": 20,
   "metadata": {},
   "outputs": [
    {
     "name": "stdout",
     "output_type": "stream",
     "text": [
      "Merton test: 1.001\n"
     ]
    }
   ],
   "source": [
    "### Merton test ###\n",
    "\n",
    "test_app = list(test)\n",
    "test_app.insert(0, train[-1]) ## append last of train data\n",
    "dir = np.array(np.sign(pd.DataFrame(test_app).diff().dropna()))\n",
    "\n",
    "pred_app = list(predictions)\n",
    "\n",
    "test_shift = list(test)\n",
    "test_shift.insert(0, train[-1])\n",
    "test_shift.pop()\n",
    "\n",
    "dir_pred = np.array(np.sign([a - b for a, b in zip(pred_app,test_shift)]))\n",
    "\n",
    "q_minus = 0\n",
    "q_plus = 0\n",
    "pred_minus = 0\n",
    "pred_plus = 0\n",
    "\n",
    "for t in range(len(dir)):\n",
    "    if dir[t] == 1:\n",
    "        q_plus += 1\n",
    "        if dir_pred[t] == 1:\n",
    "            pred_plus += 1\n",
    "    if dir[t] == -1:\n",
    "        q_minus += 1\n",
    "        if dir_pred[t] == -1:\n",
    "            pred_minus += 1\n",
    "\n",
    "print('Merton test: %.3f' % ((pred_plus / q_plus) + (pred_minus / q_minus)))"
   ]
  },
  {
   "cell_type": "code",
   "execution_count": null,
   "metadata": {},
   "outputs": [],
   "source": []
  }
 ],
 "metadata": {
  "kernelspec": {
   "display_name": "Python 3.9.7 ('base')",
   "language": "python",
   "name": "python3"
  },
  "language_info": {
   "codemirror_mode": {
    "name": "ipython",
    "version": 3
   },
   "file_extension": ".py",
   "mimetype": "text/x-python",
   "name": "python",
   "nbconvert_exporter": "python",
   "pygments_lexer": "ipython3",
   "version": "3.9.7"
  },
  "orig_nbformat": 4,
  "vscode": {
   "interpreter": {
    "hash": "4166284f6c1be268893ecc7e1723c4ee59a7af301dc502cec5768712e1b57cd0"
   }
  }
 },
 "nbformat": 4,
 "nbformat_minor": 2
}
