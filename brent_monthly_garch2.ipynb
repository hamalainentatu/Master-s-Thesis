{
 "cells": [
  {
   "cell_type": "code",
   "execution_count": 19,
   "metadata": {},
   "outputs": [],
   "source": [
    "# Start loading libraries\n",
    "\n",
    "#! pip install yfinance\n",
    "\n",
    "import matplotlib.pyplot as plt\n",
    "import numpy as np\n",
    "import pandas as pd\n",
    "import seaborn as sns\n",
    "\n",
    "#! pip install pmdarima\n",
    "import pmdarima as pm\n",
    "from pmdarima import model_selection\n",
    "from pmdarima.model_selection import SlidingWindowForecastCV\n",
    "\n",
    "import scipy\n",
    "import scipy.stats as stats\n",
    "import statsmodels.api as sm\n",
    "from statsmodels.tsa.stattools import adfuller\n",
    "from arch.unitroot import PhillipsPerron\n",
    "from arch.unitroot import KPSS\n",
    "\n",
    "from statsmodels.graphics.tsaplots import plot_pacf\n",
    "from statsmodels.graphics.tsaplots import plot_acf\n",
    "from statsmodels.tsa.arima.model import ARIMA\n",
    "#from statsmodels.graphics.tsaplots import plot_acf\n",
    "\n",
    "from sklearn.metrics import mean_squared_error\n",
    "from sklearn.metrics import mean_absolute_error\n",
    "from sklearn.metrics import mean_absolute_percentage_error\n",
    "\n",
    "import arch\n",
    "import math\n",
    "import statistics\n",
    "#from matplotlib.ticker import NullFormatter\n",
    "#import yfinance as yf\n",
    "#import warnings; warnings.simplefilter('ignore')\n",
    "#%matplotlib inline"
   ]
  },
  {
   "cell_type": "code",
   "execution_count": 20,
   "metadata": {},
   "outputs": [],
   "source": [
    "xls_file = pd.ExcelFile(\"Data_monthly_final.xlsx\") # Read Excel\n",
    "df1=xls_file.parse(\"Brent\") # Read the first sheet (Portfolio holdings)\n",
    "\n",
    "#df1[\"Timestamp\"] = df1[\"Date\"].astype('datetime64[ns]') # Convert column to date format\n",
    "df1 = df1.set_index(['Timestamp']) # use first column as index\n",
    "\n",
    "#df1.to_excel(\"values.xlsx\")  #print to excel\n",
    "\n"
   ]
  },
  {
   "cell_type": "code",
   "execution_count": 21,
   "metadata": {},
   "outputs": [
    {
     "data": {
      "text/plain": [
       "<AxesSubplot:xlabel='Timestamp'>"
      ]
     },
     "execution_count": 21,
     "metadata": {},
     "output_type": "execute_result"
    },
    {
     "data": {
      "image/png": "[encoded data removed]",
      "text/plain": [
       "<Figure size 432x288 with 1 Axes>"
      ]
     },
     "metadata": {
      "needs_background": "light"
     },
     "output_type": "display_data"
    }
   ],
   "source": [
    "og = df1[\"LCOc1\"]\n",
    "spot = df1[\"LCOc1\"]\n",
    "spot = np.log(spot)\n",
    "spot = spot.loc['2004-01-31':'2022-11-30'].diff().dropna()\n",
    "spot_train = spot.loc[:'2016-07-31']\n",
    "spot_train.plot()"
   ]
  },
  {
   "cell_type": "code",
   "execution_count": 22,
   "metadata": {},
   "outputs": [],
   "source": [
    "### original series\n",
    "\n",
    "spotog = og.loc['2004-01-31':'2022-11-30'].dropna()\n",
    "trainog, testog = model_selection.train_test_split(spotog, train_size=((spot_train.shape[0])+1))"
   ]
  },
  {
   "cell_type": "code",
   "execution_count": 23,
   "metadata": {},
   "outputs": [
    {
     "data": {
      "text/plain": [
       "Timestamp\n",
       "2016-08-31     20.9764\n",
       "2016-09-30      4.0804\n",
       "2016-10-31      0.5776\n",
       "2016-11-30      4.7089\n",
       "2016-12-31     40.3225\n",
       "                ...   \n",
       "2022-07-31     23.0400\n",
       "2022-08-31    182.7904\n",
       "2022-09-30     72.7609\n",
       "2022-10-31     47.1969\n",
       "2022-11-30     88.3600\n",
       "Name: LCOc1, Length: 76, dtype: float64"
      ]
     },
     "execution_count": 23,
     "metadata": {},
     "output_type": "execute_result"
    }
   ],
   "source": [
    "### realized vol ###\n",
    "\n",
    "diff_series = og.loc['2004-01-31':'2022-11-30'].diff().dropna()\n",
    "traindiff, testdiff = model_selection.train_test_split(diff_series, train_size=((spot_train.shape[0])))\n",
    "realized_vol = testdiff**2\n",
    "realized_vol\n"
   ]
  },
  {
   "cell_type": "code",
   "execution_count": 24,
   "metadata": {},
   "outputs": [],
   "source": [
    "# Load the data and split it into separate pieces\n",
    "#data = np.array(spot.dropna())**2\n",
    "data = np.array(spot.dropna())\n",
    "train, test = model_selection.train_test_split(data, train_size=(spot_train.shape[0]))\n",
    "#train, test = model_selection.train_test_split(data, train_size=(spot.shape[0]-1))"
   ]
  },
  {
   "cell_type": "code",
   "execution_count": 25,
   "metadata": {},
   "outputs": [
    {
     "name": "stdout",
     "output_type": "stream",
     "text": [
      "Iteration:      1,   Func. Count:      5,   Neg. LLF: 292354.0975838043\n",
      "Iteration:      2,   Func. Count:     11,   Neg. LLF: -145.78730951852657\n",
      "Iteration:      3,   Func. Count:     17,   Neg. LLF: -115.71418436715652\n",
      "Iteration:      4,   Func. Count:     22,   Neg. LLF: -155.04161921495526\n",
      "Iteration:      5,   Func. Count:     26,   Neg. LLF: -154.45297665062566\n",
      "Iteration:      6,   Func. Count:     31,   Neg. LLF: -144.30406227098035\n",
      "Iteration:      7,   Func. Count:     37,   Neg. LLF: -155.43395733963058\n",
      "Iteration:      8,   Func. Count:     41,   Neg. LLF: -155.43409315130287\n",
      "Iteration:      9,   Func. Count:     45,   Neg. LLF: -155.43411230832157\n",
      "Iteration:     10,   Func. Count:     48,   Neg. LLF: -155.4341123078578\n",
      "Optimization terminated successfully    (Exit mode 0)\n",
      "            Current function value: -155.43411230832157\n",
      "            Iterations: 10\n",
      "            Function evaluations: 48\n",
      "            Gradient evaluations: 10\n"
     ]
    }
   ],
   "source": [
    "garch = arch.arch_model(train,mean='Zero', vol='GARCH', p=1, q=1, rescale=False)\n",
    "#garch = arch.arch_model(train, vol='GARCH', p=1, q=1)\n",
    "results = garch.fit()"
   ]
  },
  {
   "cell_type": "code",
   "execution_count": 26,
   "metadata": {},
   "outputs": [
    {
     "name": "stdout",
     "output_type": "stream",
     "text": [
      "                       Zero Mean - GARCH Model Results                        \n",
      "==============================================================================\n",
      "Dep. Variable:                      y   R-squared:                       0.000\n",
      "Mean Model:                 Zero Mean   Adj. R-squared:                  0.007\n",
      "Vol Model:                      GARCH   Log-Likelihood:                155.434\n",
      "Distribution:                  Normal   AIC:                          -304.868\n",
      "Method:            Maximum Likelihood   BIC:                          -295.836\n",
      "                                        No. Observations:                  150\n",
      "Date:                Sun, Nov 05 2023   Df Residuals:                      150\n",
      "Time:                        14:48:49   Df Model:                            0\n",
      "                               Volatility Model                              \n",
      "=============================================================================\n",
      "                 coef    std err          t      P>|t|       95.0% Conf. Int.\n",
      "-----------------------------------------------------------------------------\n",
      "omega      3.5873e-04  3.349e-04      1.071      0.284 [-2.976e-04,1.015e-03]\n",
      "alpha[1]       0.2795      0.126      2.221  2.637e-02    [3.282e-02,  0.526]\n",
      "beta[1]        0.7161  7.475e-02      9.579  9.764e-22      [  0.570,  0.863]\n",
      "=============================================================================\n",
      "\n",
      "Covariance estimator: robust\n"
     ]
    }
   ],
   "source": [
    "print(results.summary())"
   ]
  },
  {
   "cell_type": "code",
   "execution_count": 27,
   "metadata": {},
   "outputs": [
    {
     "data": {
      "image/png": "[encoded data removed]",
      "text/plain": [
       "<Figure size 432x288 with 2 Axes>"
      ]
     },
     "metadata": {
      "needs_background": "light"
     },
     "output_type": "display_data"
    }
   ],
   "source": [
    "# Plot the standardized residuals\n",
    "fig = results.plot(annualize='M')\n",
    "#fig = results.plot()\n",
    "plt.show()"
   ]
  },
  {
   "cell_type": "code",
   "execution_count": 28,
   "metadata": {},
   "outputs": [
    {
     "data": {
      "text/plain": [
       "0.014729250644285355"
      ]
     },
     "execution_count": 28,
     "metadata": {},
     "output_type": "execute_result"
    }
   ],
   "source": [
    "yhat = results.forecast(horizon=1)\n",
    "#np.exp(yhat.variance.values)\n",
    "#math.sqrt(yhat.variance.values.flatten())\n",
    "#math.sqrt(yhat.variance.values.flatten()[0])\n",
    "#np.exp(yhat.variance.values.flatten()[0])\n",
    "yhat.variance.values.flatten()[0]"
   ]
  },
  {
   "cell_type": "code",
   "execution_count": 29,
   "metadata": {},
   "outputs": [],
   "source": [
    "# Generate statistics and diagnostic plots\n",
    "\n",
    "#a= results.conditional_volatility\n",
    "#plt.plot(a)"
   ]
  },
  {
   "cell_type": "code",
   "execution_count": 30,
   "metadata": {},
   "outputs": [
    {
     "data": {
      "text/plain": [
       "[5.47886630310974,\n",
       " 5.865185390888854,\n",
       " 5.319848004601688,\n",
       " 4.493144783476687,\n",
       " 4.2115566818436605,\n",
       " 5.602691110112168,\n",
       " 4.784732276403119,\n",
       " 4.115153644621415,\n",
       " 3.7436425964372475,\n",
       " 3.2634125711156514,\n",
       " 2.908597147541613,\n",
       " 2.8115083063654325,\n",
       " 3.961228542967298,\n",
       " 3.448020859361044,\n",
       " 4.540599112658626,\n",
       " 4.768415021024957,\n",
       " 4.482132611205209,\n",
       " 4.561976382926318,\n",
       " 4.333548672825998,\n",
       " 4.085032766597735,\n",
       " 4.6793043328949295,\n",
       " 5.264377005360174,\n",
       " 4.961212396120644,\n",
       " 4.611915856558127,\n",
       " 4.790871215022548,\n",
       " 4.7724895359831265,\n",
       " 5.483089036944634,\n",
       " 5.928927002271536,\n",
       " 10.305084795737109,\n",
       " 8.216387051896724,\n",
       " 9.532155048150713,\n",
       " 8.738258543683145,\n",
       " 7.580675229886268,\n",
       " 7.240430076785259,\n",
       " 7.283643295785367,\n",
       " 6.3473895322185285,\n",
       " 5.270688691415373,\n",
       " 5.024116841243661,\n",
       " 4.302667348043485,\n",
       " 3.7027660708983277,\n",
       " 3.6414716712813586,\n",
       " 4.094532411188524,\n",
       " 5.528667440517552,\n",
       " 6.046838070019803,\n",
       " 27.915226020642866,\n",
       " 3.338662462368749,\n",
       " 14.074363013319832,\n",
       " 8.221843534762982,\n",
       " 4.107242557618633,\n",
       " 3.7308450598095675,\n",
       " 5.113018347315162,\n",
       " 4.365334147422466,\n",
       " 13.095687393686575,\n",
       " 6.451142058791071,\n",
       " 5.9197551650992395,\n",
       " 12.834754623217691,\n",
       " 5.613716675884341,\n",
       " 6.0395525258464176,\n",
       " 5.175055353192448,\n",
       " 7.970664363224913,\n",
       " 5.457945490731234,\n",
       " 5.8161490260307005,\n",
       " 7.047204992884616,\n",
       " 8.280168240636016,\n",
       " 12.579810721964023,\n",
       " 10.646725907767802,\n",
       " 15.534827816847397,\n",
       " 13.868464920837184,\n",
       " 11.230088799919173,\n",
       " 7.856843116997624,\n",
       " 14.82419997049442,\n",
       " 11.431006910276835,\n",
       " 8.771861934964747,\n",
       " 12.959953570043893,\n",
       " 10.506634958841616,\n",
       " 9.817539591186133]"
      ]
     },
     "execution_count": 30,
     "metadata": {},
     "output_type": "execute_result"
    }
   ],
   "source": [
    "#### One-step-ahead predictions of volatility ###\n",
    "\n",
    "predicted_returns = []\n",
    "\n",
    "for i in range(len(test)):\n",
    "    insample_data = data[i:-(len(test)-i)]\n",
    "    \n",
    "    garch = arch.arch_model(insample_data,mean='Zero', vol='GARCH', p=1, q=1, rescale=False)\n",
    "    #garch = arch.arch_model(train, vol='GARCH', p=1, q=1)\n",
    "    results = garch.fit(disp='off')\n",
    "\n",
    "    yhat = results.forecast(horizon=1)\n",
    "    log_std = math.sqrt(yhat.variance.values.flatten()[0])\n",
    "\n",
    "    const_std = np.exp(log_std)\n",
    "    predicted_returns.append(const_std)\n",
    "\n",
    "\n",
    "test_shift3 = list(testog)\n",
    "test_shift3.insert(0, trainog[-1])\n",
    "test_shift3.pop()\n",
    "\n",
    "predicted_std_price = list((test_shift3 * np.array(predicted_returns)) - test_shift3)\n",
    "\n",
    "predicted_vol = pd.DataFrame(predicted_std_price)**2\n",
    "predicted_std_price\n"
   ]
  },
  {
   "cell_type": "code",
   "execution_count": 31,
   "metadata": {},
   "outputs": [],
   "source": [
    "def smape_kun(y_true, y_pred):\n",
    "    return np.mean(np.abs(y_pred - y_true) / ((np.abs(y_pred) + np.abs(y_true))/2))*100"
   ]
  },
  {
   "cell_type": "code",
   "execution_count": 37,
   "metadata": {},
   "outputs": [
    {
     "data": {
      "image/png": "[encoded data removed]",
      "text/plain": [
       "<Figure size 432x288 with 1 Axes>"
      ]
     },
     "metadata": {
      "needs_background": "light"
     },
     "output_type": "display_data"
    }
   ],
   "source": [
    "exp_predictions = np.array(predicted_vol)\n",
    "exp_spot= diff_series**2\n",
    "exp_test = np.array(realized_vol)\n",
    "exp_train = traindiff**2\n",
    "\n",
    "#exp_predictions = np.sqrt(exp_predictions)\n",
    "#exp_spot= np.sqrt(exp_spot)\n",
    "#exp_test = np.sqrt(exp_test)\n",
    "#exp_train = np.sqrt(exp_train)\n",
    "\n",
    "x_axis = np.arange(exp_spot.shape[0])\n",
    "n_test = exp_predictions.shape[0]\n",
    "\n",
    "plt.plot(x_axis, exp_spot, alpha=0.75, c='b')\n",
    "plt.plot(x_axis[-n_test:], exp_predictions, alpha=0.75, c='g')  # Forecasts\n",
    "plt.title(\"Cross-validated forecasts\")\n",
    "plt.show()"
   ]
  },
  {
   "cell_type": "code",
   "execution_count": 33,
   "metadata": {},
   "outputs": [
    {
     "name": "stdout",
     "output_type": "stream",
     "text": [
      "Mean Squared Error: 32.983\n",
      "Mean Absolute Error: 4.000\n",
      "Mean Absolute Percentage Error: 216.329\n",
      "Symmetric Mean Absolute Percentage Error: 72.130\n"
     ]
    }
   ],
   "source": [
    "error = mean_squared_error(exp_test, exp_predictions)\n",
    "print('Mean Squared Error: %.3f' % error)\n",
    "error2 = mean_absolute_error(exp_test, exp_predictions)\n",
    "print('Mean Absolute Error: %.3f' % error2)\n",
    "error3 = mean_absolute_percentage_error(exp_test, exp_predictions)\n",
    "print('Mean Absolute Percentage Error: %.3f' % (error3*100))\n",
    "error4 = smape_kun(exp_test, exp_predictions)\n",
    "print('Symmetric Mean Absolute Percentage Error: %.3f' % error4)"
   ]
  },
  {
   "cell_type": "code",
   "execution_count": 34,
   "metadata": {},
   "outputs": [],
   "source": [
    "### same with built-in function ###\n",
    "\n",
    "#predictions22 = model_selection.cross_val_score(\n",
    "#    ar, spot, scoring='mean_absolute_error', cv=cv, verbose=0)\n",
    "#np.average(predictions22)"
   ]
  },
  {
   "cell_type": "code",
   "execution_count": 35,
   "metadata": {},
   "outputs": [
    {
     "name": "stdout",
     "output_type": "stream",
     "text": [
      "Mean Absolute Scaled Error: 1.122\n"
     ]
    }
   ],
   "source": [
    "#### MASE ###\n",
    "\n",
    "abs_errors = abs(exp_predictions - exp_test)\n",
    "mae_naive_list = []\n",
    "\n",
    "for x in range(len(exp_test)):\n",
    "    insample_data = exp_spot[x:-(len(exp_test)-x)]\n",
    "    mae_insample = np.mean(abs(insample_data.diff().dropna()))\n",
    "    mae_naive_list.append(mae_insample)\n",
    "\n",
    "mase = np.mean(abs_errors / mae_naive_list)\n",
    "\n",
    "print('Mean Absolute Scaled Error: %.3f' % mase)"
   ]
  },
  {
   "cell_type": "code",
   "execution_count": 36,
   "metadata": {},
   "outputs": [
    {
     "name": "stdout",
     "output_type": "stream",
     "text": [
      "Merton test: 1.211\n"
     ]
    }
   ],
   "source": [
    "### Merton test ###\n",
    "\n",
    "test_app = list(exp_test)\n",
    "test_app.insert(0, exp_train[-1]) ## append last of train data\n",
    "dir = np.array(np.sign(pd.DataFrame(test_app).diff().dropna()))\n",
    "\n",
    "pred_app = list(exp_predictions)\n",
    "\n",
    "test_shift = list(exp_test)\n",
    "test_shift.insert(0, exp_train[-1])\n",
    "test_shift.pop()\n",
    "\n",
    "dir_pred = np.array(np.sign([a - b for a, b in zip(pred_app,test_shift)]))\n",
    "\n",
    "q_minus = 0\n",
    "q_plus = 0\n",
    "pred_minus = 0\n",
    "pred_plus = 0\n",
    "\n",
    "for t in range(len(dir)):\n",
    "    if dir[t] == 1:\n",
    "        q_plus += 1\n",
    "        if dir_pred[t] == 1:\n",
    "            pred_plus += 1\n",
    "    if dir[t] == -1:\n",
    "        q_minus += 1\n",
    "        if dir_pred[t] == -1:\n",
    "            pred_minus += 1\n",
    "\n",
    "print('Merton test: %.3f' % ((pred_plus / q_plus) + (pred_minus / q_minus)))"
   ]
  },
  {
   "cell_type": "code",
   "execution_count": null,
   "metadata": {},
   "outputs": [],
   "source": []
  }
 ],
 "metadata": {
  "kernelspec": {
   "display_name": "Python 3.9.7 ('base')",
   "language": "python",
   "name": "python3"
  },
  "language_info": {
   "codemirror_mode": {
    "name": "ipython",
    "version": 3
   },
   "file_extension": ".py",
   "mimetype": "text/x-python",
   "name": "python",
   "nbconvert_exporter": "python",
   "pygments_lexer": "ipython3",
   "version": "3.9.7"
  },
  "orig_nbformat": 4,
  "vscode": {
   "interpreter": {
    "hash": "4166284f6c1be268893ecc7e1723c4ee59a7af301dc502cec5768712e1b57cd0"
   }
  }
 },
 "nbformat": 4,
 "nbformat_minor": 2
}
