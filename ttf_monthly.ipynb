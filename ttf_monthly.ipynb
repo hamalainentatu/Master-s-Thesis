{
 "cells": [
  {
   "cell_type": "code",
   "execution_count": 3,
   "metadata": {},
   "outputs": [],
   "source": [
    "# Start loading libraries\n",
    "\n",
    "#! pip install yfinance\n",
    "\n",
    "import matplotlib.pyplot as plt\n",
    "import numpy as np\n",
    "import pandas as pd\n",
    "import seaborn as sns\n",
    "\n",
    "#! pip install pmdarima\n",
    "import pmdarima as pm\n",
    "from pmdarima import model_selection\n",
    "\n",
    "import scipy\n",
    "import statsmodels.api as sm\n",
    "from statsmodels.tsa.stattools import adfuller\n",
    "from arch.unitroot import PhillipsPerron\n",
    "from arch.unitroot import KPSS\n",
    "\n",
    "from statsmodels.graphics.tsaplots import plot_pacf\n",
    "from statsmodels.graphics.tsaplots import plot_acf\n",
    "#from statsmodels.graphics.tsaplots import plot_acf\n",
    "\n",
    "#from matplotlib.ticker import NullFormatter\n",
    "#import yfinance as yf\n",
    "#import warnings; warnings.simplefilter('ignore')\n",
    "#%matplotlib inline"
   ]
  },
  {
   "cell_type": "code",
   "execution_count": 4,
   "metadata": {},
   "outputs": [
    {
     "data": {
      "text/html": [
       "<div>\n",
       "<style scoped>\n",
       "    .dataframe tbody tr th:only-of-type {\n",
       "        vertical-align: middle;\n",
       "    }\n",
       "\n",
       "    .dataframe tbody tr th {\n",
       "        vertical-align: top;\n",
       "    }\n",
       "\n",
       "    .dataframe thead th {\n",
       "        text-align: right;\n",
       "    }\n",
       "</style>\n",
       "<table border=\"1\" class=\"dataframe\">\n",
       "  <thead>\n",
       "    <tr style=\"text-align: right;\">\n",
       "      <th></th>\n",
       "      <th>TRNLTTFD1</th>\n",
       "      <th>TFMBMc3</th>\n",
       "      <th>TFMBMc6</th>\n",
       "      <th>TFMBMc9</th>\n",
       "      <th>TFMBMc12</th>\n",
       "      <th>EUR=</th>\n",
       "      <th>EUR3MV=</th>\n",
       "      <th>EUR6MV=</th>\n",
       "      <th>EUR9MV=</th>\n",
       "      <th>EUR1YV=</th>\n",
       "      <th>TRNLTTFD1 USD</th>\n",
       "      <th>TFMBMc3 USD</th>\n",
       "      <th>TFMBMc6 USD</th>\n",
       "      <th>TFMBMc9 USD</th>\n",
       "      <th>TFMBMc12 USD</th>\n",
       "    </tr>\n",
       "  </thead>\n",
       "  <tbody>\n",
       "    <tr>\n",
       "      <th>count</th>\n",
       "      <td>228.000000</td>\n",
       "      <td>154.000000</td>\n",
       "      <td>154.000000</td>\n",
       "      <td>154.000000</td>\n",
       "      <td>154.000000</td>\n",
       "      <td>415.000000</td>\n",
       "      <td>392.000000</td>\n",
       "      <td>209.000000</td>\n",
       "      <td>209.000000</td>\n",
       "      <td>209.000000</td>\n",
       "      <td>415.000000</td>\n",
       "      <td>415.000000</td>\n",
       "      <td>415.000000</td>\n",
       "      <td>415.000000</td>\n",
       "      <td>415.000000</td>\n",
       "    </tr>\n",
       "    <tr>\n",
       "      <th>mean</th>\n",
       "      <td>25.228114</td>\n",
       "      <td>31.033675</td>\n",
       "      <td>30.359370</td>\n",
       "      <td>29.354844</td>\n",
       "      <td>28.585058</td>\n",
       "      <td>1.196491</td>\n",
       "      <td>1.200202</td>\n",
       "      <td>1.250662</td>\n",
       "      <td>1.253326</td>\n",
       "      <td>1.256118</td>\n",
       "      <td>16.689972</td>\n",
       "      <td>13.429746</td>\n",
       "      <td>13.216233</td>\n",
       "      <td>12.865595</td>\n",
       "      <td>12.591149</td>\n",
       "    </tr>\n",
       "    <tr>\n",
       "      <th>std</th>\n",
       "      <td>28.162761</td>\n",
       "      <td>35.603122</td>\n",
       "      <td>33.005154</td>\n",
       "      <td>29.089521</td>\n",
       "      <td>27.154795</td>\n",
       "      <td>0.141522</td>\n",
       "      <td>0.142796</td>\n",
       "      <td>0.126912</td>\n",
       "      <td>0.124127</td>\n",
       "      <td>0.121465</td>\n",
       "      <td>26.322265</td>\n",
       "      <td>28.235322</td>\n",
       "      <td>26.838032</td>\n",
       "      <td>24.787551</td>\n",
       "      <td>23.654549</td>\n",
       "    </tr>\n",
       "    <tr>\n",
       "      <th>min</th>\n",
       "      <td>3.500000</td>\n",
       "      <td>5.655000</td>\n",
       "      <td>9.319000</td>\n",
       "      <td>11.130000</td>\n",
       "      <td>10.919000</td>\n",
       "      <td>0.845600</td>\n",
       "      <td>0.844300</td>\n",
       "      <td>0.993295</td>\n",
       "      <td>0.998372</td>\n",
       "      <td>1.003402</td>\n",
       "      <td>0.000000</td>\n",
       "      <td>0.000000</td>\n",
       "      <td>0.000000</td>\n",
       "      <td>0.000000</td>\n",
       "      <td>0.000000</td>\n",
       "    </tr>\n",
       "    <tr>\n",
       "      <th>25%</th>\n",
       "      <td>14.160000</td>\n",
       "      <td>16.786250</td>\n",
       "      <td>16.908000</td>\n",
       "      <td>17.482250</td>\n",
       "      <td>17.626000</td>\n",
       "      <td>1.109550</td>\n",
       "      <td>1.114561</td>\n",
       "      <td>1.139063</td>\n",
       "      <td>1.142070</td>\n",
       "      <td>1.147933</td>\n",
       "      <td>0.000000</td>\n",
       "      <td>0.000000</td>\n",
       "      <td>0.000000</td>\n",
       "      <td>0.000000</td>\n",
       "      <td>0.000000</td>\n",
       "    </tr>\n",
       "    <tr>\n",
       "      <th>50%</th>\n",
       "      <td>19.625000</td>\n",
       "      <td>21.046500</td>\n",
       "      <td>21.976500</td>\n",
       "      <td>21.985500</td>\n",
       "      <td>21.711000</td>\n",
       "      <td>1.198300</td>\n",
       "      <td>1.201500</td>\n",
       "      <td>1.237265</td>\n",
       "      <td>1.241095</td>\n",
       "      <td>1.245270</td>\n",
       "      <td>12.703680</td>\n",
       "      <td>0.000000</td>\n",
       "      <td>0.000000</td>\n",
       "      <td>0.000000</td>\n",
       "      <td>0.000000</td>\n",
       "    </tr>\n",
       "    <tr>\n",
       "      <th>75%</th>\n",
       "      <td>24.312500</td>\n",
       "      <td>26.202500</td>\n",
       "      <td>26.415000</td>\n",
       "      <td>26.282250</td>\n",
       "      <td>26.508500</td>\n",
       "      <td>1.295950</td>\n",
       "      <td>1.301230</td>\n",
       "      <td>1.346582</td>\n",
       "      <td>1.347424</td>\n",
       "      <td>1.348730</td>\n",
       "      <td>25.057282</td>\n",
       "      <td>20.657431</td>\n",
       "      <td>20.977485</td>\n",
       "      <td>21.931763</td>\n",
       "      <td>21.468235</td>\n",
       "    </tr>\n",
       "    <tr>\n",
       "      <th>max</th>\n",
       "      <td>231.300000</td>\n",
       "      <td>244.437000</td>\n",
       "      <td>224.295000</td>\n",
       "      <td>182.480000</td>\n",
       "      <td>176.601000</td>\n",
       "      <td>1.577200</td>\n",
       "      <td>1.570171</td>\n",
       "      <td>1.562002</td>\n",
       "      <td>1.554205</td>\n",
       "      <td>1.548915</td>\n",
       "      <td>232.618410</td>\n",
       "      <td>247.083764</td>\n",
       "      <td>228.204462</td>\n",
       "      <td>186.593099</td>\n",
       "      <td>181.424327</td>\n",
       "    </tr>\n",
       "  </tbody>\n",
       "</table>\n",
       "</div>"
      ],
      "text/plain": [
       "        TRNLTTFD1     TFMBMc3     TFMBMc6     TFMBMc9    TFMBMc12        EUR=  \\\n",
       "count  228.000000  154.000000  154.000000  154.000000  154.000000  415.000000   \n",
       "mean    25.228114   31.033675   30.359370   29.354844   28.585058    1.196491   \n",
       "std     28.162761   35.603122   33.005154   29.089521   27.154795    0.141522   \n",
       "min      3.500000    5.655000    9.319000   11.130000   10.919000    0.845600   \n",
       "25%     14.160000   16.786250   16.908000   17.482250   17.626000    1.109550   \n",
       "50%     19.625000   21.046500   21.976500   21.985500   21.711000    1.198300   \n",
       "75%     24.312500   26.202500   26.415000   26.282250   26.508500    1.295950   \n",
       "max    231.300000  244.437000  224.295000  182.480000  176.601000    1.577200   \n",
       "\n",
       "          EUR3MV=     EUR6MV=     EUR9MV=     EUR1YV=  TRNLTTFD1 USD  \\\n",
       "count  392.000000  209.000000  209.000000  209.000000     415.000000   \n",
       "mean     1.200202    1.250662    1.253326    1.256118      16.689972   \n",
       "std      0.142796    0.126912    0.124127    0.121465      26.322265   \n",
       "min      0.844300    0.993295    0.998372    1.003402       0.000000   \n",
       "25%      1.114561    1.139063    1.142070    1.147933       0.000000   \n",
       "50%      1.201500    1.237265    1.241095    1.245270      12.703680   \n",
       "75%      1.301230    1.346582    1.347424    1.348730      25.057282   \n",
       "max      1.570171    1.562002    1.554205    1.548915     232.618410   \n",
       "\n",
       "       TFMBMc3 USD  TFMBMc6 USD  TFMBMc9 USD  TFMBMc12 USD  \n",
       "count   415.000000   415.000000   415.000000    415.000000  \n",
       "mean     13.429746    13.216233    12.865595     12.591149  \n",
       "std      28.235322    26.838032    24.787551     23.654549  \n",
       "min       0.000000     0.000000     0.000000      0.000000  \n",
       "25%       0.000000     0.000000     0.000000      0.000000  \n",
       "50%       0.000000     0.000000     0.000000      0.000000  \n",
       "75%      20.657431    20.977485    21.931763     21.468235  \n",
       "max     247.083764   228.204462   186.593099    181.424327  "
      ]
     },
     "execution_count": 4,
     "metadata": {},
     "output_type": "execute_result"
    }
   ],
   "source": [
    "xls_file = pd.ExcelFile(\"Data_monthly_final.xlsx\") # Read Excel\n",
    "df1=xls_file.parse(\"NatGas\") # Read the first sheet (Portfolio holdings)\n",
    "\n",
    "#df1[\"Timestamp\"] = df1[\"Date\"].astype('datetime64[ns]') # Convert column to date format\n",
    "df1 = df1.set_index(['Timestamp']) # use first column as index\n",
    "\n",
    "#df1.to_excel(\"values.xlsx\")  #print to excel\n",
    "\n",
    "\n",
    "df1.describe()"
   ]
  },
  {
   "cell_type": "code",
   "execution_count": 1,
   "metadata": {},
   "outputs": [
    {
     "ename": "NameError",
     "evalue": "name 'df1' is not defined",
     "output_type": "error",
     "traceback": [
      "\u001b[1;31m---------------------------------------------------------------------------\u001b[0m",
      "\u001b[1;31mNameError\u001b[0m                                 Traceback (most recent call last)",
      "\u001b[1;32m~\\AppData\\Local\\Temp/ipykernel_13416/4184905678.py\u001b[0m in \u001b[0;36m<module>\u001b[1;34m\u001b[0m\n\u001b[1;32m----> 1\u001b[1;33m \u001b[0mspot\u001b[0m \u001b[1;33m=\u001b[0m \u001b[0mdf1\u001b[0m\u001b[1;33m[\u001b[0m\u001b[1;34m\"TRNLTTFD1 USD\"\u001b[0m\u001b[1;33m]\u001b[0m\u001b[1;33m\u001b[0m\u001b[1;33m\u001b[0m\u001b[0m\n\u001b[0m\u001b[0;32m      2\u001b[0m \u001b[0mspot\u001b[0m \u001b[1;33m=\u001b[0m \u001b[0mnp\u001b[0m\u001b[1;33m.\u001b[0m\u001b[0mlog\u001b[0m\u001b[1;33m(\u001b[0m\u001b[0mspot\u001b[0m\u001b[1;33m)\u001b[0m\u001b[1;33m\u001b[0m\u001b[1;33m\u001b[0m\u001b[0m\n\u001b[0;32m      3\u001b[0m \u001b[0mspot\u001b[0m \u001b[1;33m=\u001b[0m \u001b[0mspot\u001b[0m\u001b[1;33m.\u001b[0m\u001b[0mloc\u001b[0m\u001b[1;33m[\u001b[0m\u001b[1;34m'2004-01-31'\u001b[0m\u001b[1;33m:\u001b[0m\u001b[1;34m'2022-11-30'\u001b[0m\u001b[1;33m]\u001b[0m\u001b[1;33m\u001b[0m\u001b[1;33m\u001b[0m\u001b[0m\n\u001b[0;32m      4\u001b[0m \u001b[0mspot_train\u001b[0m \u001b[1;33m=\u001b[0m \u001b[0mspot\u001b[0m\u001b[1;33m.\u001b[0m\u001b[0mloc\u001b[0m\u001b[1;33m[\u001b[0m\u001b[1;33m:\u001b[0m\u001b[1;34m'2016-07-31'\u001b[0m\u001b[1;33m]\u001b[0m\u001b[1;33m\u001b[0m\u001b[1;33m\u001b[0m\u001b[0m\n\u001b[0;32m      5\u001b[0m \u001b[0mspot_train\u001b[0m\u001b[1;33m.\u001b[0m\u001b[0mplot\u001b[0m\u001b[1;33m(\u001b[0m\u001b[1;33m)\u001b[0m\u001b[1;33m\u001b[0m\u001b[1;33m\u001b[0m\u001b[0m\n",
      "\u001b[1;31mNameError\u001b[0m: name 'df1' is not defined"
     ]
    }
   ],
   "source": [
    "spot = df1[\"TRNLTTFD1 USD\"]\n",
    "spot = np.log(spot)\n",
    "spot = spot.loc['2004-01-31':'2022-11-30']\n",
    "spot_train = spot.loc[:'2016-07-31']\n",
    "spot_train.plot()"
   ]
  },
  {
   "cell_type": "code",
   "execution_count": 6,
   "metadata": {},
   "outputs": [
    {
     "data": {
      "text/plain": [
       "count    151.000000\n",
       "mean      25.024627\n",
       "std        8.437550\n",
       "min       10.547585\n",
       "25%       17.543185\n",
       "50%       24.677880\n",
       "75%       31.912180\n",
       "max       46.849790\n",
       "Name: TRNLTTFD1 USD, dtype: float64"
      ]
     },
     "execution_count": 6,
     "metadata": {},
     "output_type": "execute_result"
    }
   ],
   "source": [
    "#statistics\n",
    "\n",
    "#mean\n",
    "#sd\n",
    "#skewness\n",
    "#kurtosis\n",
    "#jb test\n",
    "#Ljung Box Q(6) and Q^2(6)\n",
    "#observations\n",
    "\n",
    "spot_train.describe()\n",
    "#spot.dropna().describe()"
   ]
  },
  {
   "cell_type": "code",
   "execution_count": 7,
   "metadata": {},
   "outputs": [
    {
     "name": "stdout",
     "output_type": "stream",
     "text": [
      "Skewness spot: 0.184309744429382\n",
      "Skewness logs: -0.29616492745180806\n",
      "Kurtosis spot: 2.0489068552753795\n",
      "Kurtosis logs: 1.9657859840142038\n",
      "JB spot: Jarque_beraResult(statistic=6.546218046825347, pvalue=0.037888447698919636)\n",
      "JB logs: Jarque_beraResult(statistic=8.937018602858863, pvalue=0.01146439307321423)\n",
      "Q(6) spot:       lb_stat     lb_pvalue\n",
      "6  456.631229  1.834991e-95\n",
      "Q(6) logs:       lb_stat     lb_pvalue\n",
      "6  445.053658  5.694611e-93\n"
     ]
    }
   ],
   "source": [
    "print(\"Skewness spot:\", scipy.stats.skew(spot_train.dropna(), axis=0, bias=True))\n",
    "print(\"Skewness logs:\", scipy.stats.skew(np.log(spot_train.dropna()), axis=0, bias=True))\n",
    "print(\"Kurtosis spot:\", scipy.stats.kurtosis(spot_train.dropna(), axis=0, fisher=False, bias=True))\n",
    "print(\"Kurtosis logs:\", scipy.stats.kurtosis(np.log(spot_train.dropna()), fisher=False, axis=0, bias=True))\n",
    "\n",
    "print(\"JB spot:\", scipy.stats.jarque_bera(spot_train.dropna()))\n",
    "print(\"JB logs:\", scipy.stats.jarque_bera(np.log(spot_train.dropna())))\n",
    "#The Jarque-Bera Test is typically used for large datasets (n > 2000) in which other normality tests (like the Shapiro-Wilk test) are unreliable.\n",
    "\n",
    "print(\"Q(6) spot:\", sm.stats.acorr_ljungbox(spot_train.dropna(), lags=[6]))\n",
    "print(\"Q(6) logs:\", sm.stats.acorr_ljungbox(np.log(spot_train.dropna()), lags=[6]))"
   ]
  },
  {
   "cell_type": "code",
   "execution_count": 8,
   "metadata": {},
   "outputs": [
    {
     "name": "stdout",
     "output_type": "stream",
     "text": [
      "ADF spot: (-3.062743191262226, 0.02943605915829928, 7, 143, {'1%': -3.4769274060112707, '5%': -2.8819726324025625, '10%': -2.577665408088415}, 754.9156120912834)\n",
      "ADF logs: (-3.904987433349705, 0.0019984474026486856, 6, 144, {'1%': -3.476597917537401, '5%': -2.8818291230495543, '10%': -2.5775887982253085}, -117.9617382506026)\n",
      "PP spot:      Phillips-Perron Test (Z-tau)    \n",
      "=====================================\n",
      "Test Statistic                 -3.315\n",
      "P-value                         0.014\n",
      "Lags                               14\n",
      "-------------------------------------\n",
      "\n",
      "Trend: Constant\n",
      "Critical Values: -3.47 (1%), -2.88 (5%), -2.58 (10%)\n",
      "Null Hypothesis: The process contains a unit root.\n",
      "Alternative Hypothesis: The process is weakly stationary.\n",
      "PP logs:      Phillips-Perron Test (Z-tau)    \n",
      "=====================================\n",
      "Test Statistic                 -3.154\n",
      "P-value                         0.023\n",
      "Lags                               14\n",
      "-------------------------------------\n",
      "\n",
      "Trend: Constant\n",
      "Critical Values: -3.47 (1%), -2.88 (5%), -2.58 (10%)\n",
      "Null Hypothesis: The process contains a unit root.\n",
      "Alternative Hypothesis: The process is weakly stationary.\n"
     ]
    }
   ],
   "source": [
    "#stationarity\n",
    "\n",
    "#augmented Dickie-Fuller\n",
    "#PP test - Phillips and Perron\n",
    "#KPSS\n",
    "\n",
    "print(\"ADF spot:\", adfuller(spot_train.dropna()))\n",
    "print(\"ADF logs:\", adfuller(np.log(spot_train.dropna())))\n",
    "\n",
    "print(\"PP spot:\", PhillipsPerron(spot_train.dropna()).summary().as_text())\n",
    "print(\"PP logs:\", PhillipsPerron(np.log(spot_train.dropna())).summary().as_text())\n",
    "\n"
   ]
  },
  {
   "cell_type": "code",
   "execution_count": 9,
   "metadata": {},
   "outputs": [
    {
     "name": "stdout",
     "output_type": "stream",
     "text": [
      "KPSS spot:     KPSS Stationarity Test Results   \n",
      "=====================================\n",
      "Test Statistic                  0.295\n",
      "P-value                         0.140\n",
      "Lags                                8\n",
      "-------------------------------------\n",
      "\n",
      "Trend: Constant\n",
      "Critical Values: 0.74 (1%), 0.46 (5%), 0.35 (10%)\n",
      "Null Hypothesis: The process is weakly stationary.\n",
      "Alternative Hypothesis: The process contains a unit root.\n",
      "KPSS logs:     KPSS Stationarity Test Results   \n",
      "=====================================\n",
      "Test Statistic                  0.323\n",
      "P-value                         0.117\n",
      "Lags                                8\n",
      "-------------------------------------\n",
      "\n",
      "Trend: Constant\n",
      "Critical Values: 0.74 (1%), 0.46 (5%), 0.35 (10%)\n",
      "Null Hypothesis: The process is weakly stationary.\n",
      "Alternative Hypothesis: The process contains a unit root.\n"
     ]
    }
   ],
   "source": [
    "\n",
    "print(\"KPSS spot:\", KPSS(spot_train.dropna()).summary().as_text())\n",
    "print(\"KPSS logs:\", KPSS(np.log(spot_train.dropna())).summary().as_text())"
   ]
  },
  {
   "cell_type": "code",
   "execution_count": 10,
   "metadata": {},
   "outputs": [
    {
     "name": "stdout",
     "output_type": "stream",
     "text": [
      "ACF and PACF spot:\n",
      "ACF and PACF logs:\n"
     ]
    },
    {
     "name": "stderr",
     "output_type": "stream",
     "text": [
      "c:\\Users\\tatuh\\anaconda3\\lib\\site-packages\\statsmodels\\graphics\\tsaplots.py:348: FutureWarning: The default method 'yw' can produce PACF values outside of the [-1,1] interval. After 0.13, the default will change tounadjusted Yule-Walker ('ywm'). You can use this method now by setting method='ywm'.\n",
      "  warnings.warn(\n",
      "c:\\Users\\tatuh\\anaconda3\\lib\\site-packages\\statsmodels\\graphics\\tsaplots.py:348: FutureWarning: The default method 'yw' can produce PACF values outside of the [-1,1] interval. After 0.13, the default will change tounadjusted Yule-Walker ('ywm'). You can use this method now by setting method='ywm'.\n",
      "  warnings.warn(\n"
     ]
    },
    {
     "data": {
      "image/png": "[encoded data removed]",
      "text/plain": [
       "<Figure size 432x288 with 1 Axes>"
      ]
     },
     "execution_count": 10,
     "metadata": {},
     "output_type": "execute_result"
    },
    {
     "data": {
      "image/png": "[encoded data removed]",
      "text/plain": [
       "<Figure size 432x288 with 1 Axes>"
      ]
     },
     "metadata": {
      "needs_background": "light"
     },
     "output_type": "display_data"
    },
    {
     "data": {
      "image/png": "[encoded data removed]",
      "text/plain": [
       "<Figure size 432x288 with 1 Axes>"
      ]
     },
     "metadata": {
      "needs_background": "light"
     },
     "output_type": "display_data"
    },
    {
     "data": {
      "image/png": "[encoded data removed]",
      "text/plain": [
       "<Figure size 432x288 with 1 Axes>"
      ]
     },
     "metadata": {
      "needs_background": "light"
     },
     "output_type": "display_data"
    },
    {
     "data": {
      "image/png": "[encoded data removed]",
      "text/plain": [
       "<Figure size 432x288 with 1 Axes>"
      ]
     },
     "metadata": {
      "needs_background": "light"
     },
     "output_type": "display_data"
    }
   ],
   "source": [
    "#ACF and PACF\n",
    "\n",
    "print(\"ACF and PACF spot:\")\n",
    "plot_acf(spot_train.dropna(), lags = 20)\n",
    "plot_pacf(spot_train.dropna(), lags = 20)\n",
    "\n",
    "\n",
    "print(\"ACF and PACF logs:\")\n",
    "plot_acf(np.log(spot_train.dropna()), lags = 20)\n",
    "plot_pacf(np.log(spot_train.dropna()), lags = 20)\n",
    "\n"
   ]
  },
  {
   "cell_type": "code",
   "execution_count": 11,
   "metadata": {},
   "outputs": [
    {
     "data": {
      "text/plain": [
       "0.6782943507735172"
      ]
     },
     "execution_count": 11,
     "metadata": {},
     "output_type": "execute_result"
    },
    {
     "data": {
      "image/png": "[encoded data removed]",
      "text/plain": [
       "<Figure size 432x288 with 1 Axes>"
      ]
     },
     "metadata": {
      "needs_background": "light"
     },
     "output_type": "display_data"
    }
   ],
   "source": [
    "spot_train.hist()\n",
    "0.6782943507735172"
   ]
  },
  {
   "cell_type": "code",
   "execution_count": 12,
   "metadata": {},
   "outputs": [
    {
     "data": {
      "text/plain": [
       "<AxesSubplot:>"
      ]
     },
     "execution_count": 12,
     "metadata": {},
     "output_type": "execute_result"
    },
    {
     "data": {
      "image/png": "[encoded data removed]",
      "text/plain": [
       "<Figure size 432x288 with 1 Axes>"
      ]
     },
     "metadata": {
      "needs_background": "light"
     },
     "output_type": "display_data"
    }
   ],
   "source": [
    "np.log(spot_train).hist()"
   ]
  },
  {
   "cell_type": "code",
   "execution_count": 13,
   "metadata": {},
   "outputs": [],
   "source": [
    "# Load the data and split it into separate pieces\n",
    "data = np.array(spot.dropna())\n",
    "train, test = model_selection.train_test_split(data, train_size=(spot_train.shape[0]))\n",
    "#train, test = model_selection.train_test_split(data, train_size=(spot.shape[0]-1))"
   ]
  },
  {
   "cell_type": "code",
   "execution_count": 48,
   "metadata": {},
   "outputs": [
    {
     "name": "stdout",
     "output_type": "stream",
     "text": [
      "Performing stepwise search to minimize aic\n",
      " ARIMA(2,0,2)(0,0,0)[0]             : AIC=860.685, Time=0.03 sec\n",
      " ARIMA(0,0,0)(0,0,0)[0]             : AIC=1419.074, Time=0.01 sec\n",
      " ARIMA(1,0,0)(0,0,0)[0]             : AIC=868.480, Time=0.01 sec\n",
      " ARIMA(0,0,1)(0,0,0)[0]             : AIC=1253.312, Time=0.02 sec\n",
      " ARIMA(1,0,2)(0,0,0)[0]             : AIC=859.843, Time=0.04 sec\n",
      " ARIMA(0,0,2)(0,0,0)[0]             : AIC=1220.646, Time=0.04 sec\n",
      " ARIMA(1,0,1)(0,0,0)[0]             : AIC=857.778, Time=0.02 sec\n",
      " ARIMA(2,0,1)(0,0,0)[0]             : AIC=860.443, Time=0.03 sec\n",
      " ARIMA(2,0,0)(0,0,0)[0]             : AIC=inf, Time=0.02 sec\n",
      " ARIMA(1,0,1)(0,0,0)[0] intercept   : AIC=855.109, Time=0.02 sec\n",
      " ARIMA(0,0,1)(0,0,0)[0] intercept   : AIC=976.988, Time=0.02 sec\n",
      " ARIMA(1,0,0)(0,0,0)[0] intercept   : AIC=860.755, Time=0.02 sec\n",
      " ARIMA(2,0,1)(0,0,0)[0] intercept   : AIC=856.526, Time=0.05 sec\n",
      " ARIMA(1,0,2)(0,0,0)[0] intercept   : AIC=856.834, Time=0.03 sec\n",
      " ARIMA(0,0,0)(0,0,0)[0] intercept   : AIC=1075.589, Time=0.01 sec\n",
      " ARIMA(0,0,2)(0,0,0)[0] intercept   : AIC=936.289, Time=0.04 sec\n",
      " ARIMA(2,0,0)(0,0,0)[0] intercept   : AIC=854.826, Time=0.03 sec\n",
      " ARIMA(3,0,0)(0,0,0)[0] intercept   : AIC=855.598, Time=0.04 sec\n",
      " ARIMA(3,0,1)(0,0,0)[0] intercept   : AIC=857.201, Time=0.05 sec\n",
      "\n",
      "Best model:  ARIMA(2,0,0)(0,0,0)[0] intercept\n",
      "Total fit time: 0.536 seconds\n"
     ]
    },
    {
     "data": {
      "image/png": "[encoded data removed]",
      "text/plain": [
       "<Figure size 432x288 with 1 Axes>"
      ]
     },
     "metadata": {
      "needs_background": "light"
     },
     "output_type": "display_data"
    }
   ],
   "source": [
    "# Fit a simple auto_arima model\n",
    "arima = pm.auto_arima(train, error_action='ignore', trace=True,\n",
    "                      suppress_warnings=True, maxiter=5,\n",
    "                      seasonal=False)\n",
    "\n",
    "#arima = pm.auto_arima(train, error_action='ignore', trace=True,\n",
    "                      #suppress_warnings=True, maxiter=5,\n",
    "                      #seasonal=True, m=12)\n",
    "\n",
    "# #############################################################################\n",
    "# Plot actual test vs. forecasts:\n",
    "x = np.arange(test.shape[0])\n",
    "plt.scatter(x, test, marker='x')\n",
    "plt.plot(x, arima.predict(n_periods=test.shape[0]))\n",
    "plt.title('Actual test samples vs. forecasts')\n",
    "plt.show()"
   ]
  },
  {
   "cell_type": "code",
   "execution_count": 15,
   "metadata": {},
   "outputs": [
    {
     "data": {
      "text/html": [
       "<table class=\"simpletable\">\n",
       "<caption>SARIMAX Results</caption>\n",
       "<tr>\n",
       "  <th>Dep. Variable:</th>           <td>y</td>        <th>  No. Observations:  </th>    <td>151</td>  \n",
       "</tr>\n",
       "<tr>\n",
       "  <th>Model:</th>           <td>SARIMAX(2, 0, 0)</td> <th>  Log Likelihood     </th> <td>-423.413</td>\n",
       "</tr>\n",
       "<tr>\n",
       "  <th>Date:</th>            <td>Sat, 07 Jan 2023</td> <th>  AIC                </th>  <td>854.826</td>\n",
       "</tr>\n",
       "<tr>\n",
       "  <th>Time:</th>                <td>17:58:47</td>     <th>  BIC                </th>  <td>866.895</td>\n",
       "</tr>\n",
       "<tr>\n",
       "  <th>Sample:</th>                  <td>0</td>        <th>  HQIC               </th>  <td>859.729</td>\n",
       "</tr>\n",
       "<tr>\n",
       "  <th></th>                      <td> - 151</td>      <th>                     </th>     <td> </td>   \n",
       "</tr>\n",
       "<tr>\n",
       "  <th>Covariance Type:</th>        <td>opg</td>       <th>                     </th>     <td> </td>   \n",
       "</tr>\n",
       "</table>\n",
       "<table class=\"simpletable\">\n",
       "<tr>\n",
       "      <td></td>         <th>coef</th>     <th>std err</th>      <th>z</th>      <th>P>|z|</th>  <th>[0.025</th>    <th>0.975]</th>  \n",
       "</tr>\n",
       "<tr>\n",
       "  <th>intercept</th> <td>    2.4823</td> <td>    1.136</td> <td>    2.185</td> <td> 0.029</td> <td>    0.256</td> <td>    4.709</td>\n",
       "</tr>\n",
       "<tr>\n",
       "  <th>ar.L1</th>     <td>    0.6728</td> <td>    0.062</td> <td>   10.856</td> <td> 0.000</td> <td>    0.551</td> <td>    0.794</td>\n",
       "</tr>\n",
       "<tr>\n",
       "  <th>ar.L2</th>     <td>    0.2233</td> <td>    0.063</td> <td>    3.537</td> <td> 0.000</td> <td>    0.100</td> <td>    0.347</td>\n",
       "</tr>\n",
       "<tr>\n",
       "  <th>sigma2</th>    <td>   15.8104</td> <td>    1.240</td> <td>   12.754</td> <td> 0.000</td> <td>   13.381</td> <td>   18.240</td>\n",
       "</tr>\n",
       "</table>\n",
       "<table class=\"simpletable\">\n",
       "<tr>\n",
       "  <th>Ljung-Box (L1) (Q):</th>     <td>0.05</td> <th>  Jarque-Bera (JB):  </th> <td>51.59</td>\n",
       "</tr>\n",
       "<tr>\n",
       "  <th>Prob(Q):</th>                <td>0.82</td> <th>  Prob(JB):          </th> <td>0.00</td> \n",
       "</tr>\n",
       "<tr>\n",
       "  <th>Heteroskedasticity (H):</th> <td>0.51</td> <th>  Skew:              </th> <td>0.12</td> \n",
       "</tr>\n",
       "<tr>\n",
       "  <th>Prob(H) (two-sided):</th>    <td>0.02</td> <th>  Kurtosis:          </th> <td>5.85</td> \n",
       "</tr>\n",
       "</table><br/><br/>Warnings:<br/>[1] Covariance matrix calculated using the outer product of gradients (complex-step)."
      ],
      "text/plain": [
       "<class 'statsmodels.iolib.summary.Summary'>\n",
       "\"\"\"\n",
       "                               SARIMAX Results                                \n",
       "==============================================================================\n",
       "Dep. Variable:                      y   No. Observations:                  151\n",
       "Model:               SARIMAX(2, 0, 0)   Log Likelihood                -423.413\n",
       "Date:                Sat, 07 Jan 2023   AIC                            854.826\n",
       "Time:                        17:58:47   BIC                            866.895\n",
       "Sample:                             0   HQIC                           859.729\n",
       "                                - 151                                         \n",
       "Covariance Type:                  opg                                         \n",
       "==============================================================================\n",
       "                 coef    std err          z      P>|z|      [0.025      0.975]\n",
       "------------------------------------------------------------------------------\n",
       "intercept      2.4823      1.136      2.185      0.029       0.256       4.709\n",
       "ar.L1          0.6728      0.062     10.856      0.000       0.551       0.794\n",
       "ar.L2          0.2233      0.063      3.537      0.000       0.100       0.347\n",
       "sigma2        15.8104      1.240     12.754      0.000      13.381      18.240\n",
       "===================================================================================\n",
       "Ljung-Box (L1) (Q):                   0.05   Jarque-Bera (JB):                51.59\n",
       "Prob(Q):                              0.82   Prob(JB):                         0.00\n",
       "Heteroskedasticity (H):               0.51   Skew:                             0.12\n",
       "Prob(H) (two-sided):                  0.02   Kurtosis:                         5.85\n",
       "===================================================================================\n",
       "\n",
       "Warnings:\n",
       "[1] Covariance matrix calculated using the outer product of gradients (complex-step).\n",
       "\"\"\""
      ]
     },
     "execution_count": 15,
     "metadata": {},
     "output_type": "execute_result"
    }
   ],
   "source": [
    "arima.summary()"
   ]
  },
  {
   "cell_type": "code",
   "execution_count": 16,
   "metadata": {},
   "outputs": [
    {
     "data": {
      "text/plain": [
       "[<matplotlib.lines.Line2D at 0x2d5a63e4d60>]"
      ]
     },
     "execution_count": 16,
     "metadata": {},
     "output_type": "execute_result"
    },
    {
     "data": {
      "image/png": "[encoded data removed]",
      "text/plain": [
       "<Figure size 432x288 with 1 Axes>"
      ]
     },
     "metadata": {
      "needs_background": "light"
     },
     "output_type": "display_data"
    }
   ],
   "source": [
    "plt.plot(x, arima.predict(n_periods=test.shape[0]))"
   ]
  },
  {
   "cell_type": "code",
   "execution_count": 17,
   "metadata": {},
   "outputs": [
    {
     "data": {
      "text/plain": [
       "array([16.13673165, 16.71881482, 17.33406098, 17.8779775 , 18.38131153,\n",
       "       18.84141286, 19.26336519, 19.64999683, 20.00434592, 20.32908809,\n",
       "       20.62670192, 20.89945249, 21.1494172 , 21.37849955, 21.58844409,\n",
       "       21.7808496 , 21.95718133, 22.11878209, 22.26688253, 22.40261048,\n",
       "       22.52699955, 22.64099702, 22.74547099, 22.84121708, 22.92896443,\n",
       "       23.00938126, 23.08307997, 23.15062181, 23.21252111, 23.26924927,\n",
       "       23.3212383 , 23.3688841 , 23.41254951, 23.45256706, 23.48924149,\n",
       "       23.5228521 , 23.55365484, 23.58188428, 23.6077554 , 23.63146521,\n",
       "       23.65319428, 23.67310808, 23.69135825, 23.70808378, 23.72341204,\n",
       "       23.73745976, 23.75033392, 23.76213255, 23.77294551, 23.78285514,\n",
       "       23.79193691, 23.80025998, 23.80788773, 23.81487825, 23.82128477,\n",
       "       23.82715609, 23.8325369 , 23.8374682 , 23.84198753, 23.84612931,\n",
       "       23.84992508, 23.85340375, 23.8565918 , 23.85951352, 23.86219116,\n",
       "       23.8646451 , 23.86689404, 23.8689551 , 23.87084398, 23.87257506,\n",
       "       23.87416152, 23.87561544, 23.87694791, 23.87816905, 23.87928819,\n",
       "       23.88031382])"
      ]
     },
     "execution_count": 17,
     "metadata": {},
     "output_type": "execute_result"
    }
   ],
   "source": [
    "arima.predict(n_periods=test.shape[0])"
   ]
  },
  {
   "cell_type": "code",
   "execution_count": 42,
   "metadata": {},
   "outputs": [
    {
     "data": {
      "text/plain": [
       "0"
      ]
     },
     "execution_count": 42,
     "metadata": {},
     "output_type": "execute_result"
    }
   ],
   "source": [
    "#ch = pm.arima.CHTest(12)\n",
    "#ch.estimate_seasonal_differencing_term(spot_train)\n",
    "\n",
    "#ocsb = pm.arima.OCSBTest(12)\n",
    "#ocsb.estimate_seasonal_differencing_term(spot_train)\n",
    "\n",
    "#pm.arima.KPSSTest().should_diff(spot_train)"
   ]
  },
  {
   "cell_type": "code",
   "execution_count": 29,
   "metadata": {},
   "outputs": [
    {
     "data": {
      "text/plain": [
       "<AxesSubplot:xlabel='Timestamp'>"
      ]
     },
     "execution_count": 29,
     "metadata": {},
     "output_type": "execute_result"
    },
    {
     "data": {
      "image/png": "[encoded data removed]",
      "text/plain": [
       "<Figure size 432x288 with 1 Axes>"
      ]
     },
     "metadata": {
      "needs_background": "light"
     },
     "output_type": "display_data"
    }
   ],
   "source": [
    "spot2 = np.log(spot).diff()\n",
    "#spot2 = spot.diff()\n",
    "spot_train2 = spot2.loc[:'2016-07-31'].dropna()\n",
    "spot_train2.plot()\n"
   ]
  },
  {
   "cell_type": "code",
   "execution_count": 30,
   "metadata": {},
   "outputs": [
    {
     "data": {
      "text/plain": [
       "count    150.000000\n",
       "mean       0.000874\n",
       "std        0.169671\n",
       "min       -0.719761\n",
       "25%       -0.070901\n",
       "50%       -0.005126\n",
       "75%        0.071322\n",
       "max        0.565226\n",
       "Name: TRNLTTFD1 USD, dtype: float64"
      ]
     },
     "execution_count": 30,
     "metadata": {},
     "output_type": "execute_result"
    }
   ],
   "source": [
    "#statistics\n",
    "\n",
    "#mean\n",
    "#sd\n",
    "#skewness\n",
    "#kurtosis\n",
    "#jb test\n",
    "#Ljung Box Q(6) and Q^2(6)\n",
    "#observations\n",
    "\n",
    "spot_train2.describe()\n",
    "#spot.dropna().describe()"
   ]
  },
  {
   "cell_type": "code",
   "execution_count": 31,
   "metadata": {},
   "outputs": [
    {
     "name": "stdout",
     "output_type": "stream",
     "text": [
      "Skewness spot: -0.11313191592293192\n",
      "Kurtosis spot: 6.527944151503723\n",
      "JB spot: Jarque_beraResult(statistic=78.10990786081815, pvalue=0.0)\n",
      "Q(6) spot:      lb_stat  lb_pvalue\n",
      "6  12.249458    0.05663\n"
     ]
    }
   ],
   "source": [
    "print(\"Skewness spot:\", scipy.stats.skew(spot_train2.dropna(), axis=0, bias=True))\n",
    "#print(\"Skewness logs:\", scipy.stats.skew(np.log(spot2.dropna()), axis=0, bias=True))\n",
    "print(\"Kurtosis spot:\", scipy.stats.kurtosis(spot_train2.dropna(), axis=0, fisher=False, bias=True))\n",
    "#print(\"Kurtosis logs:\", scipy.stats.kurtosis(np.log(spot2.dropna()), fisher=False, axis=0, bias=True))\n",
    "\n",
    "print(\"JB spot:\", scipy.stats.jarque_bera(spot_train2.dropna()))\n",
    "#print(\"JB logs:\", scipy.stats.jarque_bera(np.log(spot2.dropna())))\n",
    "#The Jarque-Bera Test is typically used for large datasets (n > 2000) in which other normality tests (like the Shapiro-Wilk test) are unreliable.\n",
    "\n",
    "print(\"Q(6) spot:\", sm.stats.acorr_ljungbox(spot_train2.dropna(), lags=[6]))\n",
    "#print(\"Q(6) logs:\", sm.stats.acorr_ljungbox(np.log(spot2.dropna()), lags=[6]))"
   ]
  },
  {
   "cell_type": "code",
   "execution_count": 32,
   "metadata": {},
   "outputs": [
    {
     "name": "stdout",
     "output_type": "stream",
     "text": [
      "ADF spot: (-15.258991798877455, 4.890429632601666e-28, 0, 149, {'1%': -3.4750180242954167, '5%': -2.8811408028842043, '10%': -2.577221358046935}, -112.92358744810298)\n",
      "PP spot:      Phillips-Perron Test (Z-tau)    \n",
      "=====================================\n",
      "Test Statistic                -15.311\n",
      "P-value                         0.000\n",
      "Lags                               14\n",
      "-------------------------------------\n",
      "\n",
      "Trend: Constant\n",
      "Critical Values: -3.48 (1%), -2.88 (5%), -2.58 (10%)\n",
      "Null Hypothesis: The process contains a unit root.\n",
      "Alternative Hypothesis: The process is weakly stationary.\n"
     ]
    }
   ],
   "source": [
    "#stationarity\n",
    "\n",
    "#augmented Dickie-Fuller\n",
    "#PP test - Phillips and Perron\n",
    "#KPSS\n",
    "\n",
    "print(\"ADF spot:\", adfuller(spot_train2.dropna()))\n",
    "#print(\"ADF logs:\", adfuller(np.log(spot2.dropna())))\n",
    "\n",
    "print(\"PP spot:\", PhillipsPerron(spot_train2.dropna()).summary().as_text())\n",
    "#print(\"PP logs:\", PhillipsPerron(np.log(spot2.dropna())).summary().as_text())"
   ]
  },
  {
   "cell_type": "code",
   "execution_count": 33,
   "metadata": {},
   "outputs": [
    {
     "name": "stdout",
     "output_type": "stream",
     "text": [
      "KPSS spot:     KPSS Stationarity Test Results   \n",
      "=====================================\n",
      "Test Statistic                  0.115\n",
      "P-value                         0.518\n",
      "Lags                                1\n",
      "-------------------------------------\n",
      "\n",
      "Trend: Constant\n",
      "Critical Values: 0.74 (1%), 0.46 (5%), 0.35 (10%)\n",
      "Null Hypothesis: The process is weakly stationary.\n",
      "Alternative Hypothesis: The process contains a unit root.\n"
     ]
    }
   ],
   "source": [
    "print(\"KPSS spot:\", KPSS(spot_train2.dropna()).summary().as_text())\n",
    "#print(\"KPSS logs:\", KPSS(np.log(spot2.dropna())).summary().as_text())"
   ]
  },
  {
   "cell_type": "code",
   "execution_count": 35,
   "metadata": {},
   "outputs": [
    {
     "name": "stdout",
     "output_type": "stream",
     "text": [
      "ACF and PACF spot:\n"
     ]
    },
    {
     "name": "stderr",
     "output_type": "stream",
     "text": [
      "c:\\Users\\tatuh\\anaconda3\\lib\\site-packages\\statsmodels\\graphics\\tsaplots.py:348: FutureWarning: The default method 'yw' can produce PACF values outside of the [-1,1] interval. After 0.13, the default will change tounadjusted Yule-Walker ('ywm'). You can use this method now by setting method='ywm'.\n",
      "  warnings.warn(\n"
     ]
    },
    {
     "data": {
      "image/png": "[encoded data removed]",
      "text/plain": [
       "<Figure size 432x288 with 1 Axes>"
      ]
     },
     "execution_count": 35,
     "metadata": {},
     "output_type": "execute_result"
    },
    {
     "data": {
      "image/png": "[encoded data removed]",
      "text/plain": [
       "<Figure size 432x288 with 1 Axes>"
      ]
     },
     "metadata": {
      "needs_background": "light"
     },
     "output_type": "display_data"
    },
    {
     "data": {
      "image/png": "[encoded data removed]",
      "text/plain": [
       "<Figure size 432x288 with 1 Axes>"
      ]
     },
     "metadata": {
      "needs_background": "light"
     },
     "output_type": "display_data"
    }
   ],
   "source": [
    "#ACF and PACF\n",
    "\n",
    "print(\"ACF and PACF spot:\")\n",
    "plot_acf(spot_train2.dropna(), lags = 20)\n",
    "plot_pacf(spot_train2.dropna(), lags = 20)\n",
    "\n",
    "\n",
    "#print(\"ACF and PACF logs:\")\n",
    "#plot_acf(np.log(spot2.dropna()), lags = 15)\n",
    "#plot_pacf(np.log(spot2.dropna()), lags = 15)\n"
   ]
  },
  {
   "cell_type": "code",
   "execution_count": 36,
   "metadata": {},
   "outputs": [
    {
     "data": {
      "text/plain": [
       "<AxesSubplot:>"
      ]
     },
     "execution_count": 36,
     "metadata": {},
     "output_type": "execute_result"
    },
    {
     "data": {
      "image/png": "[encoded data removed]",
      "text/plain": [
       "<Figure size 432x288 with 1 Axes>"
      ]
     },
     "metadata": {
      "needs_background": "light"
     },
     "output_type": "display_data"
    }
   ],
   "source": [
    "spot_train2.hist()\n"
   ]
  },
  {
   "cell_type": "code",
   "execution_count": 37,
   "metadata": {},
   "outputs": [],
   "source": [
    "# Load the data and split it into separate pieces\n",
    "data2 = np.array(spot2.dropna())\n",
    "train2, test2 = model_selection.train_test_split(data2, train_size=(spot_train2.shape[0]))"
   ]
  },
  {
   "cell_type": "code",
   "execution_count": 38,
   "metadata": {},
   "outputs": [
    {
     "data": {
      "text/plain": [
       "array([ 7.85503880e-02, -1.14653798e-01,  1.48587758e-02,  3.52338468e-02,\n",
       "       -6.05425503e-02, -1.87026596e-02,  3.21652204e-01, -1.41529092e-01,\n",
       "        8.30274404e-03,  2.83402626e-01, -5.05327997e-02, -4.89114119e-02,\n",
       "        5.65225562e-01, -5.45731853e-01, -8.75978642e-02,  4.30012905e-02,\n",
       "       -6.69037223e-03,  7.26218797e-02,  4.28864631e-02, -1.22778436e-01,\n",
       "        2.85541684e-02,  5.60843035e-01, -1.72163362e-02, -4.27356896e-02,\n",
       "       -1.13268964e-01,  2.77345042e-02, -4.47000985e-02,  6.83276680e-05,\n",
       "       -1.11645960e-01,  1.07891849e-01, -1.77890142e-01, -1.88773753e-01,\n",
       "        1.64263310e-01,  1.04224308e-01, -2.35007251e-01, -2.31118352e-01,\n",
       "       -1.43375923e-01,  1.26960172e-01, -3.12954964e-01,  3.33910892e-01,\n",
       "        1.12244838e-02,  3.09732418e-01, -4.23633544e-02,  2.32152433e-01,\n",
       "        1.14068476e-01,  7.40899928e-02,  2.84807327e-01, -1.24359207e-01,\n",
       "        2.94141269e-02,  7.57497279e-02,  3.70991749e-02, -1.11408086e-02,\n",
       "        8.84760800e-02, -3.03647979e-01,  2.46154701e-01,  4.03080543e-02,\n",
       "       -8.43071489e-02, -2.46431351e-01, -4.85814424e-02,  1.05821566e-01,\n",
       "       -8.80232027e-03, -7.19760775e-01, -1.37768599e-01,  8.68320656e-02,\n",
       "       -3.73611311e-02, -1.26835602e-01, -7.05442073e-02, -3.56214818e-03,\n",
       "        3.00915674e-01, -1.86202677e-01,  4.44066871e-01,  9.56068621e-02,\n",
       "       -2.87641379e-01,  2.71711502e-02,  1.58466890e-01,  7.17504718e-03,\n",
       "        2.02227947e-01, -7.70404711e-02,  1.59783979e-02,  2.78899292e-02,\n",
       "        3.13828433e-02,  1.80156631e-01,  9.12374913e-02, -1.13623261e-01,\n",
       "        5.98507117e-02,  7.99835947e-02,  5.23680752e-03, -1.68902879e-02,\n",
       "       -4.56146206e-02, -7.10196131e-02,  1.76204151e-01, -4.70955806e-01,\n",
       "        3.88298428e-01, -6.72491840e-02, -1.08486935e-01,  1.41083772e-01,\n",
       "        1.23789536e-02,  6.22956975e-02, -1.56545318e-02, -1.73579845e-01,\n",
       "        8.06695435e-02, -4.60863959e-02,  6.74241125e-02,  6.38868532e-02,\n",
       "        5.32958426e-02,  2.58369476e-02, -3.60120114e-02, -8.24459997e-03,\n",
       "        1.53974580e-03,  3.10714882e-01, -2.94749137e-01,  1.48357072e-02,\n",
       "       -5.36791445e-02,  1.44173420e-02, -1.90925180e-04,  3.54691604e-02,\n",
       "       -3.80134103e-02,  1.20961408e-01, -3.76416773e-02, -9.04871611e-02,\n",
       "       -6.23223358e-02, -8.63660925e-02, -1.00521621e-01, -2.77767339e-02,\n",
       "       -1.32500418e-01,  2.24706669e-02,  1.32334485e-01,  5.16078693e-04,\n",
       "       -1.33499308e-02,  1.48917740e-01, -1.93363231e-01, -8.17250809e-02,\n",
       "        1.62399734e-01, -1.07062526e-01, -3.16821315e-02, -2.84185525e-02,\n",
       "        2.20804549e-02, -3.18366298e-02, -2.49377518e-02, -6.11906182e-02,\n",
       "       -4.68871397e-02, -2.04532239e-02, -2.06464402e-01, -1.04675826e-01,\n",
       "       -1.60087299e-02,  1.77481741e-02,  4.61881864e-02,  6.58205098e-02,\n",
       "       -1.50241017e-02, -2.67445730e-02])"
      ]
     },
     "execution_count": 38,
     "metadata": {},
     "output_type": "execute_result"
    }
   ],
   "source": [
    "train2"
   ]
  },
  {
   "cell_type": "code",
   "execution_count": 39,
   "metadata": {},
   "outputs": [
    {
     "name": "stdout",
     "output_type": "stream",
     "text": [
      "Performing stepwise search to minimize aic\n",
      " ARIMA(2,0,2)(0,0,0)[0]             : AIC=-108.417, Time=0.03 sec\n",
      " ARIMA(0,0,0)(0,0,0)[0]             : AIC=-105.487, Time=0.02 sec\n",
      " ARIMA(1,0,0)(0,0,0)[0]             : AIC=-111.262, Time=0.01 sec\n",
      " ARIMA(0,0,1)(0,0,0)[0]             : AIC=-111.970, Time=0.02 sec\n",
      " ARIMA(1,0,1)(0,0,0)[0]             : AIC=-109.993, Time=0.02 sec\n",
      " ARIMA(0,0,2)(0,0,0)[0]             : AIC=-110.036, Time=0.03 sec\n",
      " ARIMA(1,0,2)(0,0,0)[0]             : AIC=-108.180, Time=0.02 sec\n",
      " ARIMA(0,0,1)(0,0,0)[0] intercept   : AIC=-109.976, Time=0.02 sec\n",
      "\n",
      "Best model:  ARIMA(0,0,1)(0,0,0)[0]          \n",
      "Total fit time: 0.174 seconds\n"
     ]
    },
    {
     "data": {
      "image/png": "[encoded data removed]",
      "text/plain": [
       "<Figure size 432x288 with 1 Axes>"
      ]
     },
     "metadata": {
      "needs_background": "light"
     },
     "output_type": "display_data"
    }
   ],
   "source": [
    "# Fit a simple auto_arima model\n",
    "arima2 = pm.auto_arima(train2, error_action='ignore', trace=True,\n",
    "                      suppress_warnings=True, maxiter=5,\n",
    "                      seasonal=False)\n",
    "\n",
    "#arima = pm.auto_arima(train, error_action='ignore', trace=True,\n",
    "                      #suppress_warnings=True, maxiter=5,\n",
    "                      #seasonal=True, m=12)\n",
    "\n",
    "# #############################################################################\n",
    "# Plot actual test vs. forecasts:\n",
    "x2 = np.arange(test2.shape[0])\n",
    "plt.scatter(x2, test2, marker='x')\n",
    "plt.plot(x2, arima2.predict(n_periods=test2.shape[0]))\n",
    "plt.title('Actual test samples vs. forecasts')\n",
    "plt.show()"
   ]
  },
  {
   "cell_type": "code",
   "execution_count": 40,
   "metadata": {},
   "outputs": [
    {
     "data": {
      "text/html": [
       "<table class=\"simpletable\">\n",
       "<caption>SARIMAX Results</caption>\n",
       "<tr>\n",
       "  <th>Dep. Variable:</th>           <td>y</td>        <th>  No. Observations:  </th>    <td>150</td>  \n",
       "</tr>\n",
       "<tr>\n",
       "  <th>Model:</th>           <td>SARIMAX(0, 0, 1)</td> <th>  Log Likelihood     </th>  <td>57.985</td> \n",
       "</tr>\n",
       "<tr>\n",
       "  <th>Date:</th>            <td>Sat, 31 Dec 2022</td> <th>  AIC                </th> <td>-111.970</td>\n",
       "</tr>\n",
       "<tr>\n",
       "  <th>Time:</th>                <td>14:26:16</td>     <th>  BIC                </th> <td>-105.948</td>\n",
       "</tr>\n",
       "<tr>\n",
       "  <th>Sample:</th>                  <td>0</td>        <th>  HQIC               </th> <td>-109.523</td>\n",
       "</tr>\n",
       "<tr>\n",
       "  <th></th>                      <td> - 150</td>      <th>                     </th>     <td> </td>   \n",
       "</tr>\n",
       "<tr>\n",
       "  <th>Covariance Type:</th>        <td>opg</td>       <th>                     </th>     <td> </td>   \n",
       "</tr>\n",
       "</table>\n",
       "<table class=\"simpletable\">\n",
       "<tr>\n",
       "     <td></td>       <th>coef</th>     <th>std err</th>      <th>z</th>      <th>P>|z|</th>  <th>[0.025</th>    <th>0.975]</th>  \n",
       "</tr>\n",
       "<tr>\n",
       "  <th>ma.L1</th>  <td>   -0.2358</td> <td>    0.065</td> <td>   -3.629</td> <td> 0.000</td> <td>   -0.363</td> <td>   -0.108</td>\n",
       "</tr>\n",
       "<tr>\n",
       "  <th>sigma2</th> <td>    0.0270</td> <td>    0.002</td> <td>   13.905</td> <td> 0.000</td> <td>    0.023</td> <td>    0.031</td>\n",
       "</tr>\n",
       "</table>\n",
       "<table class=\"simpletable\">\n",
       "<tr>\n",
       "  <th>Ljung-Box (L1) (Q):</th>     <td>0.01</td> <th>  Jarque-Bera (JB):  </th> <td>67.81</td>\n",
       "</tr>\n",
       "<tr>\n",
       "  <th>Prob(Q):</th>                <td>0.94</td> <th>  Prob(JB):          </th> <td>0.00</td> \n",
       "</tr>\n",
       "<tr>\n",
       "  <th>Heteroskedasticity (H):</th> <td>0.24</td> <th>  Skew:              </th> <td>-0.07</td>\n",
       "</tr>\n",
       "<tr>\n",
       "  <th>Prob(H) (two-sided):</th>    <td>0.00</td> <th>  Kurtosis:          </th> <td>6.29</td> \n",
       "</tr>\n",
       "</table><br/><br/>Warnings:<br/>[1] Covariance matrix calculated using the outer product of gradients (complex-step)."
      ],
      "text/plain": [
       "<class 'statsmodels.iolib.summary.Summary'>\n",
       "\"\"\"\n",
       "                               SARIMAX Results                                \n",
       "==============================================================================\n",
       "Dep. Variable:                      y   No. Observations:                  150\n",
       "Model:               SARIMAX(0, 0, 1)   Log Likelihood                  57.985\n",
       "Date:                Sat, 31 Dec 2022   AIC                           -111.970\n",
       "Time:                        14:26:16   BIC                           -105.948\n",
       "Sample:                             0   HQIC                          -109.523\n",
       "                                - 150                                         \n",
       "Covariance Type:                  opg                                         \n",
       "==============================================================================\n",
       "                 coef    std err          z      P>|z|      [0.025      0.975]\n",
       "------------------------------------------------------------------------------\n",
       "ma.L1         -0.2358      0.065     -3.629      0.000      -0.363      -0.108\n",
       "sigma2         0.0270      0.002     13.905      0.000       0.023       0.031\n",
       "===================================================================================\n",
       "Ljung-Box (L1) (Q):                   0.01   Jarque-Bera (JB):                67.81\n",
       "Prob(Q):                              0.94   Prob(JB):                         0.00\n",
       "Heteroskedasticity (H):               0.24   Skew:                            -0.07\n",
       "Prob(H) (two-sided):                  0.00   Kurtosis:                         6.29\n",
       "===================================================================================\n",
       "\n",
       "Warnings:\n",
       "[1] Covariance matrix calculated using the outer product of gradients (complex-step).\n",
       "\"\"\""
      ]
     },
     "execution_count": 40,
     "metadata": {},
     "output_type": "execute_result"
    }
   ],
   "source": [
    "arima2.summary()"
   ]
  },
  {
   "cell_type": "code",
   "execution_count": 41,
   "metadata": {},
   "outputs": [
    {
     "data": {
      "text/plain": [
       "[<matplotlib.lines.Line2D at 0x1f1ec5f67f0>]"
      ]
     },
     "execution_count": 41,
     "metadata": {},
     "output_type": "execute_result"
    },
    {
     "data": {
      "image/png": "[encoded data removed]",
      "text/plain": [
       "<Figure size 432x288 with 1 Axes>"
      ]
     },
     "metadata": {
      "needs_background": "light"
     },
     "output_type": "display_data"
    }
   ],
   "source": [
    "plt.plot(x2, arima2.predict(n_periods=test2.shape[0]))"
   ]
  },
  {
   "cell_type": "code",
   "execution_count": 42,
   "metadata": {},
   "outputs": [
    {
     "data": {
      "text/plain": [
       "array([0.00613187, 0.        , 0.        , 0.        , 0.        ,\n",
       "       0.        , 0.        , 0.        , 0.        , 0.        ,\n",
       "       0.        , 0.        , 0.        , 0.        , 0.        ,\n",
       "       0.        , 0.        , 0.        , 0.        , 0.        ,\n",
       "       0.        , 0.        , 0.        , 0.        , 0.        ,\n",
       "       0.        , 0.        , 0.        , 0.        , 0.        ,\n",
       "       0.        , 0.        , 0.        , 0.        , 0.        ,\n",
       "       0.        , 0.        , 0.        , 0.        , 0.        ,\n",
       "       0.        , 0.        , 0.        , 0.        , 0.        ,\n",
       "       0.        , 0.        , 0.        , 0.        , 0.        ,\n",
       "       0.        , 0.        , 0.        , 0.        , 0.        ,\n",
       "       0.        , 0.        , 0.        , 0.        , 0.        ,\n",
       "       0.        , 0.        , 0.        , 0.        , 0.        ,\n",
       "       0.        , 0.        , 0.        , 0.        , 0.        ,\n",
       "       0.        , 0.        , 0.        , 0.        , 0.        ,\n",
       "       0.        ])"
      ]
     },
     "execution_count": 42,
     "metadata": {},
     "output_type": "execute_result"
    }
   ],
   "source": [
    "tests = arima2.predict(n_periods=test2.shape[0])\n",
    "tests"
   ]
  },
  {
   "cell_type": "code",
   "execution_count": 43,
   "metadata": {},
   "outputs": [
    {
     "data": {
      "image/png": "[encoded data removed]",
      "text/plain": [
       "<Figure size 720x360 with 1 Axes>"
      ]
     },
     "metadata": {
      "needs_background": "light"
     },
     "output_type": "display_data"
    }
   ],
   "source": [
    "cum_res = np.exp(tests.cumsum())*spot.iloc[spot_train.shape[0]-1]\n",
    "#cum_res = tests.cumsum()+spot.iloc[spot_train.shape[0]-1]\n",
    "plt.figure(figsize=(10,5))\n",
    "plt.plot(cum_res, color='g',label = 'NAV Returns')\n",
    "plt.legend()\n",
    "plt.show()"
   ]
  },
  {
   "cell_type": "code",
   "execution_count": 44,
   "metadata": {},
   "outputs": [
    {
     "data": {
      "text/plain": [
       "array([15.22844318, 15.22844318, 15.22844318, 15.22844318, 15.22844318,\n",
       "       15.22844318, 15.22844318, 15.22844318, 15.22844318, 15.22844318,\n",
       "       15.22844318, 15.22844318, 15.22844318, 15.22844318, 15.22844318,\n",
       "       15.22844318, 15.22844318, 15.22844318, 15.22844318, 15.22844318,\n",
       "       15.22844318, 15.22844318, 15.22844318, 15.22844318, 15.22844318,\n",
       "       15.22844318, 15.22844318, 15.22844318, 15.22844318, 15.22844318,\n",
       "       15.22844318, 15.22844318, 15.22844318, 15.22844318, 15.22844318,\n",
       "       15.22844318, 15.22844318, 15.22844318, 15.22844318, 15.22844318,\n",
       "       15.22844318, 15.22844318, 15.22844318, 15.22844318, 15.22844318,\n",
       "       15.22844318, 15.22844318, 15.22844318, 15.22844318, 15.22844318,\n",
       "       15.22844318, 15.22844318, 15.22844318, 15.22844318, 15.22844318,\n",
       "       15.22844318, 15.22844318, 15.22844318, 15.22844318, 15.22844318,\n",
       "       15.22844318, 15.22844318, 15.22844318, 15.22844318, 15.22844318,\n",
       "       15.22844318, 15.22844318, 15.22844318, 15.22844318, 15.22844318,\n",
       "       15.22844318, 15.22844318, 15.22844318, 15.22844318, 15.22844318,\n",
       "       15.22844318])"
      ]
     },
     "execution_count": 44,
     "metadata": {},
     "output_type": "execute_result"
    }
   ],
   "source": [
    "cum_res"
   ]
  },
  {
   "cell_type": "code",
   "execution_count": 36,
   "metadata": {},
   "outputs": [],
   "source": [
    "#cointegration tests\n",
    "\n",
    "#normalized cv\n",
    "#LR test"
   ]
  },
  {
   "cell_type": "code",
   "execution_count": 37,
   "metadata": {},
   "outputs": [],
   "source": [
    "#correlaatiomatriisi"
   ]
  },
  {
   "cell_type": "code",
   "execution_count": 38,
   "metadata": {},
   "outputs": [],
   "source": [
    "#np.argwhere(np.isnan(x))"
   ]
  }
 ],
 "metadata": {
  "kernelspec": {
   "display_name": "Python 3.9.7 ('base')",
   "language": "python",
   "name": "python3"
  },
  "language_info": {
   "codemirror_mode": {
    "name": "ipython",
    "version": 3
   },
   "file_extension": ".py",
   "mimetype": "text/x-python",
   "name": "python",
   "nbconvert_exporter": "python",
   "pygments_lexer": "ipython3",
   "version": "3.9.7"
  },
  "orig_nbformat": 4,
  "vscode": {
   "interpreter": {
    "hash": "4166284f6c1be268893ecc7e1723c4ee59a7af301dc502cec5768712e1b57cd0"
   }
  }
 },
 "nbformat": 4,
 "nbformat_minor": 2
}
