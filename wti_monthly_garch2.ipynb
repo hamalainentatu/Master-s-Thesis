{
 "cells": [
  {
   "cell_type": "code",
   "execution_count": 39,
   "metadata": {},
   "outputs": [],
   "source": [
    "# Start loading libraries\n",
    "\n",
    "#! pip install yfinance\n",
    "\n",
    "import matplotlib.pyplot as plt\n",
    "import numpy as np\n",
    "import pandas as pd\n",
    "import seaborn as sns\n",
    "\n",
    "#! pip install pmdarima\n",
    "import pmdarima as pm\n",
    "from pmdarima import model_selection\n",
    "from pmdarima.model_selection import SlidingWindowForecastCV\n",
    "\n",
    "import scipy\n",
    "import scipy.stats as stats\n",
    "import statsmodels.api as sm\n",
    "from statsmodels.tsa.stattools import adfuller\n",
    "from arch.unitroot import PhillipsPerron\n",
    "from arch.unitroot import KPSS\n",
    "\n",
    "from statsmodels.graphics.tsaplots import plot_pacf\n",
    "from statsmodels.graphics.tsaplots import plot_acf\n",
    "from statsmodels.tsa.arima.model import ARIMA\n",
    "#from statsmodels.graphics.tsaplots import plot_acf\n",
    "\n",
    "from sklearn.metrics import mean_squared_error\n",
    "from sklearn.metrics import mean_absolute_error\n",
    "from sklearn.metrics import mean_absolute_percentage_error\n",
    "\n",
    "import arch\n",
    "import math\n",
    "import statistics\n",
    "#from matplotlib.ticker import NullFormatter\n",
    "#import yfinance as yf\n",
    "#import warnings; warnings.simplefilter('ignore')\n",
    "#%matplotlib inline"
   ]
  },
  {
   "cell_type": "code",
   "execution_count": 40,
   "metadata": {},
   "outputs": [],
   "source": [
    "xls_file = pd.ExcelFile(\"Data_monthly_final.xlsx\") # Read Excel\n",
    "df1=xls_file.parse(\"WTI\") # Read the first sheet (Portfolio holdings)\n",
    "\n",
    "#df1[\"Timestamp\"] = df1[\"Date\"].astype('datetime64[ns]') # Convert column to date format\n",
    "df1 = df1.set_index(['Timestamp']) # use first column as index\n",
    "\n",
    "#df1.to_excel(\"values.xlsx\")  #print to excel\n",
    "\n"
   ]
  },
  {
   "cell_type": "code",
   "execution_count": 41,
   "metadata": {},
   "outputs": [
    {
     "data": {
      "text/plain": [
       "<AxesSubplot:xlabel='Timestamp'>"
      ]
     },
     "execution_count": 41,
     "metadata": {},
     "output_type": "execute_result"
    },
    {
     "data": {
      "image/png": "[encoded data removed]",
      "text/plain": [
       "<Figure size 432x288 with 1 Axes>"
      ]
     },
     "metadata": {
      "needs_background": "light"
     },
     "output_type": "display_data"
    }
   ],
   "source": [
    "og = df1[\"CLc1\"]\n",
    "spot = df1[\"CLc1\"]\n",
    "spot = np.log(spot)\n",
    "spot = spot.loc['2004-01-31':'2022-11-30'].diff().dropna()\n",
    "spot_train = spot.loc[:'2016-07-31']\n",
    "spot_train.plot()"
   ]
  },
  {
   "cell_type": "code",
   "execution_count": 42,
   "metadata": {},
   "outputs": [],
   "source": [
    "### original series\n",
    "\n",
    "spotog = og.loc['2004-01-31':'2022-11-30'].dropna()\n",
    "trainog, testog = model_selection.train_test_split(spotog, train_size=((spot_train.shape[0])+1))"
   ]
  },
  {
   "cell_type": "code",
   "execution_count": 43,
   "metadata": {},
   "outputs": [
    {
     "data": {
      "text/plain": [
       "Timestamp\n",
       "2016-08-31      9.6100\n",
       "2016-09-30     12.5316\n",
       "2016-10-31      1.9044\n",
       "2016-11-30      6.6564\n",
       "2016-12-31     18.3184\n",
       "                ...   \n",
       "2022-07-31     50.9796\n",
       "2022-08-31     82.2649\n",
       "2022-09-30    101.2036\n",
       "2022-10-31     49.5616\n",
       "2022-11-30     35.7604\n",
       "Name: CLc1, Length: 76, dtype: float64"
      ]
     },
     "execution_count": 43,
     "metadata": {},
     "output_type": "execute_result"
    }
   ],
   "source": [
    "### realized vol ###\n",
    "\n",
    "diff_series = og.loc['2004-01-31':'2022-11-30'].diff().dropna()\n",
    "traindiff, testdiff = model_selection.train_test_split(diff_series, train_size=((spot_train.shape[0])))\n",
    "realized_vol = testdiff**2\n",
    "realized_vol\n"
   ]
  },
  {
   "cell_type": "code",
   "execution_count": 44,
   "metadata": {},
   "outputs": [],
   "source": [
    "# Load the data and split it into separate pieces\n",
    "#data = np.array(spot.dropna())**2\n",
    "data = np.array(spot.dropna())\n",
    "train, test = model_selection.train_test_split(data, train_size=(spot_train.shape[0]))\n",
    "#train, test = model_selection.train_test_split(data, train_size=(spot.shape[0]-1))"
   ]
  },
  {
   "cell_type": "code",
   "execution_count": 45,
   "metadata": {},
   "outputs": [
    {
     "name": "stdout",
     "output_type": "stream",
     "text": [
      "Iteration:      1,   Func. Count:      5,   Neg. LLF: 260.246810490493\n",
      "Iteration:      2,   Func. Count:     13,   Neg. LLF: -99.7906938703047\n",
      "Iteration:      3,   Func. Count:     18,   Neg. LLF: -145.4793270052699\n",
      "Iteration:      4,   Func. Count:     23,   Neg. LLF: -145.47998816239686\n",
      "Iteration:      5,   Func. Count:     28,   Neg. LLF: -145.88337168694966\n",
      "Iteration:      6,   Func. Count:     32,   Neg. LLF: -145.88337127440468\n",
      "Optimization terminated successfully    (Exit mode 0)\n",
      "            Current function value: -145.88337219405972\n",
      "            Iterations: 6\n",
      "            Function evaluations: 33\n",
      "            Gradient evaluations: 6\n"
     ]
    }
   ],
   "source": [
    "garch = arch.arch_model(train,mean='Zero', vol='GARCH', p=1, q=1, rescale=False)\n",
    "#garch = arch.arch_model(train, vol='GARCH', p=1, q=1)\n",
    "results = garch.fit()"
   ]
  },
  {
   "cell_type": "code",
   "execution_count": 46,
   "metadata": {},
   "outputs": [
    {
     "name": "stdout",
     "output_type": "stream",
     "text": [
      "                       Zero Mean - GARCH Model Results                        \n",
      "==============================================================================\n",
      "Dep. Variable:                      y   R-squared:                       0.000\n",
      "Mean Model:                 Zero Mean   Adj. R-squared:                  0.007\n",
      "Vol Model:                      GARCH   Log-Likelihood:                145.883\n",
      "Distribution:                  Normal   AIC:                          -285.767\n",
      "Method:            Maximum Likelihood   BIC:                          -276.735\n",
      "                                        No. Observations:                  150\n",
      "Date:                Sun, Nov 05 2023   Df Residuals:                      150\n",
      "Time:                        18:08:47   Df Model:                            0\n",
      "                               Volatility Model                              \n",
      "=============================================================================\n",
      "                 coef    std err          t      P>|t|       95.0% Conf. Int.\n",
      "-----------------------------------------------------------------------------\n",
      "omega      7.9289e-04  6.054e-04      1.310      0.190 [-3.936e-04,1.979e-03]\n",
      "alpha[1]       0.2051      0.122      1.684  9.218e-02   [-3.361e-02,  0.444]\n",
      "beta[1]        0.7266  8.149e-02      8.917  4.806e-19      [  0.567,  0.886]\n",
      "=============================================================================\n",
      "\n",
      "Covariance estimator: robust\n"
     ]
    }
   ],
   "source": [
    "print(results.summary())"
   ]
  },
  {
   "cell_type": "code",
   "execution_count": 47,
   "metadata": {},
   "outputs": [
    {
     "data": {
      "image/png": "[encoded data removed]",
      "text/plain": [
       "<Figure size 432x288 with 2 Axes>"
      ]
     },
     "metadata": {
      "needs_background": "light"
     },
     "output_type": "display_data"
    }
   ],
   "source": [
    "# Plot the standardized residuals\n",
    "fig = results.plot(annualize='M')\n",
    "#fig = results.plot()\n",
    "plt.show()"
   ]
  },
  {
   "cell_type": "code",
   "execution_count": 48,
   "metadata": {},
   "outputs": [
    {
     "data": {
      "text/plain": [
       "0.0127767097056774"
      ]
     },
     "execution_count": 48,
     "metadata": {},
     "output_type": "execute_result"
    }
   ],
   "source": [
    "yhat = results.forecast(horizon=1)\n",
    "#np.exp(yhat.variance.values)\n",
    "#math.sqrt(yhat.variance.values.flatten())\n",
    "#math.sqrt(yhat.variance.values.flatten()[0])\n",
    "#np.exp(yhat.variance.values.flatten()[0])\n",
    "yhat.variance.values.flatten()[0]"
   ]
  },
  {
   "cell_type": "code",
   "execution_count": 49,
   "metadata": {},
   "outputs": [],
   "source": [
    "# Generate statistics and diagnostic plots\n",
    "\n",
    "#a= results.conditional_volatility\n",
    "#plt.plot(a)"
   ]
  },
  {
   "cell_type": "code",
   "execution_count": 50,
   "metadata": {},
   "outputs": [
    {
     "data": {
      "text/plain": [
       "[4.978277103117591,\n",
       " 4.955260233724097,\n",
       " 5.066742192320902,\n",
       " 4.422345641068972,\n",
       " 4.371812760365856,\n",
       " 4.801679600145022,\n",
       " 4.310295657568169,\n",
       " 4.026302615875686,\n",
       " 3.8442312650836072,\n",
       " 3.475293589439218,\n",
       " 3.1561151638305276,\n",
       " 3.01367594878694,\n",
       " 3.7950347001064344,\n",
       " 3.5631193778047177,\n",
       " 4.2770271191037565,\n",
       " 4.291262904514163,\n",
       " 4.387531315560487,\n",
       " 4.478462238507106,\n",
       " 4.929068737153557,\n",
       " 4.526636496177332,\n",
       " 4.669543641951378,\n",
       " 4.886992595535148,\n",
       " 4.4072141545368595,\n",
       " 5.9676339138422065,\n",
       " 5.645573318866241,\n",
       " 5.1613044644450525,\n",
       " 5.243851912514927,\n",
       " 5.778496763925858,\n",
       " 8.302033071901839,\n",
       " 6.8093196920300585,\n",
       " 8.600705262295932,\n",
       " 7.806854001856166,\n",
       " 7.093485799901629,\n",
       " 6.749887457285013,\n",
       " 7.2769199738928165,\n",
       " 7.298079284336637,\n",
       " 6.225663180447171,\n",
       " 5.3992426819247115,\n",
       " 4.678513044210028,\n",
       " 4.164646137033301,\n",
       " 3.8508253642511434,\n",
       " 5.178003833825741,\n",
       " 6.101691846616745,\n",
       " 5.727750578710378,\n",
       " 15.436010019964424,\n",
       " 9.408411429441518,\n",
       " 24.804597098826925,\n",
       " 18.67291426612504,\n",
       " 13.078199901917856,\n",
       " 9.577941081108406,\n",
       " 6.253822434693554,\n",
       " 5.1790823194741975,\n",
       " 10.0057923870486,\n",
       " 8.129377457528626,\n",
       " 7.109362107633508,\n",
       " 10.068710535860333,\n",
       " 7.428699287593176,\n",
       " 7.074276069229853,\n",
       " 6.193491568359349,\n",
       " 8.09747317462785,\n",
       " 6.427816452702302,\n",
       " 6.4090956148082086,\n",
       " 7.839212423078564,\n",
       " 9.897177764545617,\n",
       " 13.784619464929023,\n",
       " 13.488563024475852,\n",
       " 15.98692820744104,\n",
       " 13.923988943262273,\n",
       " 11.303201575396429,\n",
       " 9.708060512218495,\n",
       " 11.919412252904095,\n",
       " 10.947819976972369,\n",
       " 9.688381952959858,\n",
       " 9.813608385980316,\n",
       " 10.12808673582731,\n",
       " 10.059802414832006]"
      ]
     },
     "execution_count": 50,
     "metadata": {},
     "output_type": "execute_result"
    }
   ],
   "source": [
    "#### One-step-ahead predictions of volatility ###\n",
    "\n",
    "predicted_returns = []\n",
    "\n",
    "for i in range(len(test)):\n",
    "    insample_data = data[i:-(len(test)-i)]\n",
    "    \n",
    "    garch = arch.arch_model(insample_data,mean='Zero', vol='GARCH', p=1, q=1, rescale=False)\n",
    "    #garch = arch.arch_model(train, vol='GARCH', p=1, q=1)\n",
    "    results = garch.fit(disp='off')\n",
    "\n",
    "    yhat = results.forecast(horizon=1)\n",
    "    log_std = math.sqrt(yhat.variance.values.flatten()[0])\n",
    "\n",
    "    const_std = np.exp(log_std)\n",
    "    predicted_returns.append(const_std)\n",
    "\n",
    "\n",
    "test_shift3 = list(testog)\n",
    "test_shift3.insert(0, trainog[-1])\n",
    "test_shift3.pop()\n",
    "\n",
    "predicted_std_price = list((test_shift3 * np.array(predicted_returns)) - test_shift3)\n",
    "\n",
    "predicted_vol = pd.DataFrame(predicted_std_price)**2\n",
    "predicted_std_price\n"
   ]
  },
  {
   "cell_type": "code",
   "execution_count": 51,
   "metadata": {},
   "outputs": [],
   "source": [
    "def smape_kun(y_true, y_pred):\n",
    "    return np.mean(np.abs(y_pred - y_true) / ((np.abs(y_pred) + np.abs(y_true))/2))*100"
   ]
  },
  {
   "cell_type": "code",
   "execution_count": 52,
   "metadata": {},
   "outputs": [
    {
     "data": {
      "image/png": "[encoded data removed]",
      "text/plain": [
       "<Figure size 432x288 with 1 Axes>"
      ]
     },
     "metadata": {
      "needs_background": "light"
     },
     "output_type": "display_data"
    }
   ],
   "source": [
    "exp_predictions = np.array(predicted_vol)\n",
    "exp_spot= diff_series**2\n",
    "exp_test = np.array(realized_vol)\n",
    "exp_train = traindiff**2\n",
    "\n",
    "#exp_predictions = np.sqrt(exp_predictions)\n",
    "#exp_spot= np.sqrt(exp_spot)\n",
    "#exp_test = np.sqrt(exp_test)\n",
    "#exp_train = np.sqrt(exp_train)\n",
    "\n",
    "x_axis = np.arange(exp_spot.shape[0])\n",
    "n_test = exp_predictions.shape[0]\n",
    "\n",
    "plt.plot(x_axis, exp_spot, alpha=0.75, c='b')\n",
    "plt.plot(x_axis[-n_test:], exp_predictions, alpha=0.75, c='g')  # Forecasts\n",
    "plt.title(\"Cross-validated forecasts\")\n",
    "plt.show()"
   ]
  },
  {
   "cell_type": "code",
   "execution_count": 53,
   "metadata": {},
   "outputs": [
    {
     "name": "stdout",
     "output_type": "stream",
     "text": [
      "Mean Squared Error: 15310.994\n",
      "Mean Absolute Error: 64.197\n",
      "Mean Absolute Percentage Error: 9568.039\n",
      "Symmetric Mean Absolute Percentage Error: 112.765\n"
     ]
    }
   ],
   "source": [
    "error = mean_squared_error(exp_test, exp_predictions)\n",
    "print('Mean Squared Error: %.3f' % error)\n",
    "error2 = mean_absolute_error(exp_test, exp_predictions)\n",
    "print('Mean Absolute Error: %.3f' % error2)\n",
    "error3 = mean_absolute_percentage_error(exp_test, exp_predictions)\n",
    "print('Mean Absolute Percentage Error: %.3f' % (error3*100))\n",
    "error4 = smape_kun(exp_test, exp_predictions)\n",
    "print('Symmetric Mean Absolute Percentage Error: %.3f' % error4)"
   ]
  },
  {
   "cell_type": "code",
   "execution_count": 54,
   "metadata": {},
   "outputs": [],
   "source": [
    "### same with built-in function ###\n",
    "\n",
    "#predictions22 = model_selection.cross_val_score(\n",
    "#    ar, spot, scoring='mean_absolute_error', cv=cv, verbose=0)\n",
    "#np.average(predictions22)"
   ]
  },
  {
   "cell_type": "code",
   "execution_count": 55,
   "metadata": {},
   "outputs": [
    {
     "name": "stdout",
     "output_type": "stream",
     "text": [
      "Mean Absolute Scaled Error: 1.261\n"
     ]
    }
   ],
   "source": [
    "#### MASE ###\n",
    "\n",
    "abs_errors = abs(exp_predictions - exp_test)\n",
    "mae_naive_list = []\n",
    "\n",
    "for x in range(len(exp_test)):\n",
    "    insample_data = exp_spot[x:-(len(exp_test)-x)]\n",
    "    mae_insample = np.mean(abs(insample_data.diff().dropna()))\n",
    "    mae_naive_list.append(mae_insample)\n",
    "\n",
    "mase = np.mean(abs_errors / mae_naive_list)\n",
    "\n",
    "print('Mean Absolute Scaled Error: %.3f' % mase)"
   ]
  },
  {
   "cell_type": "code",
   "execution_count": 56,
   "metadata": {},
   "outputs": [
    {
     "name": "stdout",
     "output_type": "stream",
     "text": [
      "Merton test: 1.193\n"
     ]
    }
   ],
   "source": [
    "### Merton test ###\n",
    "\n",
    "test_app = list(exp_test)\n",
    "test_app.insert(0, exp_train[-1]) ## append last of train data\n",
    "dir = np.array(np.sign(pd.DataFrame(test_app).diff().dropna()))\n",
    "\n",
    "pred_app = list(exp_predictions)\n",
    "\n",
    "test_shift = list(exp_test)\n",
    "test_shift.insert(0, exp_train[-1])\n",
    "test_shift.pop()\n",
    "\n",
    "dir_pred = np.array(np.sign([a - b for a, b in zip(pred_app,test_shift)]))\n",
    "\n",
    "q_minus = 0\n",
    "q_plus = 0\n",
    "pred_minus = 0\n",
    "pred_plus = 0\n",
    "\n",
    "for t in range(len(dir)):\n",
    "    if dir[t] == 1:\n",
    "        q_plus += 1\n",
    "        if dir_pred[t] == 1:\n",
    "            pred_plus += 1\n",
    "    if dir[t] == -1:\n",
    "        q_minus += 1\n",
    "        if dir_pred[t] == -1:\n",
    "            pred_minus += 1\n",
    "\n",
    "print('Merton test: %.3f' % ((pred_plus / q_plus) + (pred_minus / q_minus)))"
   ]
  },
  {
   "cell_type": "code",
   "execution_count": null,
   "metadata": {},
   "outputs": [],
   "source": []
  }
 ],
 "metadata": {
  "kernelspec": {
   "display_name": "Python 3.9.7 ('base')",
   "language": "python",
   "name": "python3"
  },
  "language_info": {
   "codemirror_mode": {
    "name": "ipython",
    "version": 3
   },
   "file_extension": ".py",
   "mimetype": "text/x-python",
   "name": "python",
   "nbconvert_exporter": "python",
   "pygments_lexer": "ipython3",
   "version": "3.9.7"
  },
  "orig_nbformat": 4,
  "vscode": {
   "interpreter": {
    "hash": "4166284f6c1be268893ecc7e1723c4ee59a7af301dc502cec5768712e1b57cd0"
   }
  }
 },
 "nbformat": 4,
 "nbformat_minor": 2
}
