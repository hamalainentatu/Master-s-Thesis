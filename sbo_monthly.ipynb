{
 "cells": [
  {
   "cell_type": "code",
   "execution_count": 1,
   "metadata": {},
   "outputs": [],
   "source": [
    "# Start loading libraries\n",
    "\n",
    "#! pip install yfinance\n",
    "\n",
    "import matplotlib.pyplot as plt\n",
    "import numpy as np\n",
    "import pandas as pd\n",
    "import seaborn as sns\n",
    "\n",
    "#! pip install pmdarima\n",
    "import pmdarima as pm\n",
    "from pmdarima import model_selection\n",
    "\n",
    "import scipy\n",
    "import statsmodels.api as sm\n",
    "from statsmodels.tsa.stattools import adfuller\n",
    "from arch.unitroot import PhillipsPerron\n",
    "from arch.unitroot import KPSS\n",
    "\n",
    "from statsmodels.graphics.tsaplots import plot_pacf\n",
    "from statsmodels.graphics.tsaplots import plot_acf\n",
    "#from statsmodels.graphics.tsaplots import plot_acf\n",
    "\n",
    "#from matplotlib.ticker import NullFormatter\n",
    "#import yfinance as yf\n",
    "#import warnings; warnings.simplefilter('ignore')\n",
    "#%matplotlib inline"
   ]
  },
  {
   "cell_type": "code",
   "execution_count": 2,
   "metadata": {},
   "outputs": [
    {
     "data": {
      "text/html": [
       "<div>\n",
       "<style scoped>\n",
       "    .dataframe tbody tr th:only-of-type {\n",
       "        vertical-align: middle;\n",
       "    }\n",
       "\n",
       "    .dataframe tbody tr th {\n",
       "        vertical-align: top;\n",
       "    }\n",
       "\n",
       "    .dataframe thead th {\n",
       "        text-align: right;\n",
       "    }\n",
       "</style>\n",
       "<table border=\"1\" class=\"dataframe\">\n",
       "  <thead>\n",
       "    <tr style=\"text-align: right;\">\n",
       "      <th></th>\n",
       "      <th>1</th>\n",
       "      <th>2</th>\n",
       "      <th>3</th>\n",
       "      <th>4</th>\n",
       "      <th>5</th>\n",
       "      <th>6</th>\n",
       "      <th>7</th>\n",
       "      <th>8</th>\n",
       "      <th>9</th>\n",
       "      <th>10</th>\n",
       "      <th>11</th>\n",
       "      <th>12</th>\n",
       "      <th>13</th>\n",
       "      <th>14</th>\n",
       "      <th>15</th>\n",
       "      <th>16</th>\n",
       "      <th>17</th>\n",
       "      <th>18</th>\n",
       "      <th>19</th>\n",
       "    </tr>\n",
       "  </thead>\n",
       "  <tbody>\n",
       "    <tr>\n",
       "      <th>count</th>\n",
       "      <td>507.000000</td>\n",
       "      <td>507.000000</td>\n",
       "      <td>507.000000</td>\n",
       "      <td>507.000000</td>\n",
       "      <td>507.000000</td>\n",
       "      <td>507.000000</td>\n",
       "      <td>507.000000</td>\n",
       "      <td>507.000000</td>\n",
       "      <td>507.000000</td>\n",
       "      <td>507.000000</td>\n",
       "      <td>507.000000</td>\n",
       "      <td>507.000000</td>\n",
       "      <td>507.000000</td>\n",
       "      <td>507.000000</td>\n",
       "      <td>507.000000</td>\n",
       "      <td>507.000000</td>\n",
       "      <td>507.000000</td>\n",
       "      <td>507.000000</td>\n",
       "      <td>507.000000</td>\n",
       "    </tr>\n",
       "    <tr>\n",
       "      <th>mean</th>\n",
       "      <td>29.675727</td>\n",
       "      <td>29.723833</td>\n",
       "      <td>29.767834</td>\n",
       "      <td>29.813131</td>\n",
       "      <td>29.904571</td>\n",
       "      <td>29.922280</td>\n",
       "      <td>29.934232</td>\n",
       "      <td>29.936104</td>\n",
       "      <td>29.963668</td>\n",
       "      <td>29.989095</td>\n",
       "      <td>29.971150</td>\n",
       "      <td>29.961392</td>\n",
       "      <td>29.942654</td>\n",
       "      <td>29.924029</td>\n",
       "      <td>29.887939</td>\n",
       "      <td>29.843596</td>\n",
       "      <td>29.797980</td>\n",
       "      <td>29.752120</td>\n",
       "      <td>29.687518</td>\n",
       "    </tr>\n",
       "    <tr>\n",
       "      <th>std</th>\n",
       "      <td>13.161684</td>\n",
       "      <td>13.001273</td>\n",
       "      <td>12.842833</td>\n",
       "      <td>12.707434</td>\n",
       "      <td>12.666739</td>\n",
       "      <td>12.565280</td>\n",
       "      <td>12.474697</td>\n",
       "      <td>12.387599</td>\n",
       "      <td>12.329806</td>\n",
       "      <td>12.278305</td>\n",
       "      <td>12.215360</td>\n",
       "      <td>12.167823</td>\n",
       "      <td>12.143366</td>\n",
       "      <td>12.112777</td>\n",
       "      <td>12.074348</td>\n",
       "      <td>12.057817</td>\n",
       "      <td>12.052729</td>\n",
       "      <td>12.080655</td>\n",
       "      <td>12.115200</td>\n",
       "    </tr>\n",
       "    <tr>\n",
       "      <th>min</th>\n",
       "      <td>13.560000</td>\n",
       "      <td>13.798924</td>\n",
       "      <td>14.008234</td>\n",
       "      <td>14.230000</td>\n",
       "      <td>14.378293</td>\n",
       "      <td>14.539042</td>\n",
       "      <td>14.683604</td>\n",
       "      <td>14.811979</td>\n",
       "      <td>14.900000</td>\n",
       "      <td>15.020168</td>\n",
       "      <td>15.099982</td>\n",
       "      <td>15.163609</td>\n",
       "      <td>15.220000</td>\n",
       "      <td>12.821429</td>\n",
       "      <td>9.740000</td>\n",
       "      <td>6.434286</td>\n",
       "      <td>2.904286</td>\n",
       "      <td>-0.850000</td>\n",
       "      <td>-4.828571</td>\n",
       "    </tr>\n",
       "    <tr>\n",
       "      <th>25%</th>\n",
       "      <td>20.760674</td>\n",
       "      <td>20.908079</td>\n",
       "      <td>21.059999</td>\n",
       "      <td>21.167519</td>\n",
       "      <td>21.267486</td>\n",
       "      <td>21.359170</td>\n",
       "      <td>21.403471</td>\n",
       "      <td>21.430000</td>\n",
       "      <td>21.495582</td>\n",
       "      <td>21.455204</td>\n",
       "      <td>21.474687</td>\n",
       "      <td>21.541627</td>\n",
       "      <td>21.492857</td>\n",
       "      <td>21.449141</td>\n",
       "      <td>21.360241</td>\n",
       "      <td>21.402031</td>\n",
       "      <td>21.315556</td>\n",
       "      <td>21.087863</td>\n",
       "      <td>21.093847</td>\n",
       "    </tr>\n",
       "    <tr>\n",
       "      <th>50%</th>\n",
       "      <td>26.074432</td>\n",
       "      <td>25.942968</td>\n",
       "      <td>25.856100</td>\n",
       "      <td>25.890000</td>\n",
       "      <td>26.020000</td>\n",
       "      <td>26.030000</td>\n",
       "      <td>25.940341</td>\n",
       "      <td>25.820000</td>\n",
       "      <td>25.834432</td>\n",
       "      <td>25.842795</td>\n",
       "      <td>25.777620</td>\n",
       "      <td>25.712117</td>\n",
       "      <td>25.730000</td>\n",
       "      <td>25.500000</td>\n",
       "      <td>25.333833</td>\n",
       "      <td>25.222727</td>\n",
       "      <td>25.120685</td>\n",
       "      <td>25.083864</td>\n",
       "      <td>25.101750</td>\n",
       "    </tr>\n",
       "    <tr>\n",
       "      <th>75%</th>\n",
       "      <td>33.385824</td>\n",
       "      <td>33.492957</td>\n",
       "      <td>33.527892</td>\n",
       "      <td>33.529540</td>\n",
       "      <td>33.617991</td>\n",
       "      <td>33.615162</td>\n",
       "      <td>33.727591</td>\n",
       "      <td>33.922146</td>\n",
       "      <td>34.034049</td>\n",
       "      <td>34.189761</td>\n",
       "      <td>34.118249</td>\n",
       "      <td>34.091162</td>\n",
       "      <td>34.005000</td>\n",
       "      <td>34.137149</td>\n",
       "      <td>34.131263</td>\n",
       "      <td>34.107760</td>\n",
       "      <td>34.098004</td>\n",
       "      <td>34.084343</td>\n",
       "      <td>34.130815</td>\n",
       "    </tr>\n",
       "    <tr>\n",
       "      <th>max</th>\n",
       "      <td>89.170000</td>\n",
       "      <td>85.807009</td>\n",
       "      <td>83.631193</td>\n",
       "      <td>79.950000</td>\n",
       "      <td>79.792559</td>\n",
       "      <td>78.129741</td>\n",
       "      <td>76.637922</td>\n",
       "      <td>75.340000</td>\n",
       "      <td>74.167283</td>\n",
       "      <td>73.510307</td>\n",
       "      <td>73.039018</td>\n",
       "      <td>72.569016</td>\n",
       "      <td>72.610000</td>\n",
       "      <td>72.330000</td>\n",
       "      <td>71.166737</td>\n",
       "      <td>70.906525</td>\n",
       "      <td>70.430000</td>\n",
       "      <td>71.513874</td>\n",
       "      <td>72.074047</td>\n",
       "    </tr>\n",
       "  </tbody>\n",
       "</table>\n",
       "</div>"
      ],
      "text/plain": [
       "                1           2           3           4           5           6  \\\n",
       "count  507.000000  507.000000  507.000000  507.000000  507.000000  507.000000   \n",
       "mean    29.675727   29.723833   29.767834   29.813131   29.904571   29.922280   \n",
       "std     13.161684   13.001273   12.842833   12.707434   12.666739   12.565280   \n",
       "min     13.560000   13.798924   14.008234   14.230000   14.378293   14.539042   \n",
       "25%     20.760674   20.908079   21.059999   21.167519   21.267486   21.359170   \n",
       "50%     26.074432   25.942968   25.856100   25.890000   26.020000   26.030000   \n",
       "75%     33.385824   33.492957   33.527892   33.529540   33.617991   33.615162   \n",
       "max     89.170000   85.807009   83.631193   79.950000   79.792559   78.129741   \n",
       "\n",
       "                7           8           9          10          11          12  \\\n",
       "count  507.000000  507.000000  507.000000  507.000000  507.000000  507.000000   \n",
       "mean    29.934232   29.936104   29.963668   29.989095   29.971150   29.961392   \n",
       "std     12.474697   12.387599   12.329806   12.278305   12.215360   12.167823   \n",
       "min     14.683604   14.811979   14.900000   15.020168   15.099982   15.163609   \n",
       "25%     21.403471   21.430000   21.495582   21.455204   21.474687   21.541627   \n",
       "50%     25.940341   25.820000   25.834432   25.842795   25.777620   25.712117   \n",
       "75%     33.727591   33.922146   34.034049   34.189761   34.118249   34.091162   \n",
       "max     76.637922   75.340000   74.167283   73.510307   73.039018   72.569016   \n",
       "\n",
       "               13          14          15          16          17          18  \\\n",
       "count  507.000000  507.000000  507.000000  507.000000  507.000000  507.000000   \n",
       "mean    29.942654   29.924029   29.887939   29.843596   29.797980   29.752120   \n",
       "std     12.143366   12.112777   12.074348   12.057817   12.052729   12.080655   \n",
       "min     15.220000   12.821429    9.740000    6.434286    2.904286   -0.850000   \n",
       "25%     21.492857   21.449141   21.360241   21.402031   21.315556   21.087863   \n",
       "50%     25.730000   25.500000   25.333833   25.222727   25.120685   25.083864   \n",
       "75%     34.005000   34.137149   34.131263   34.107760   34.098004   34.084343   \n",
       "max     72.610000   72.330000   71.166737   70.906525   70.430000   71.513874   \n",
       "\n",
       "               19  \n",
       "count  507.000000  \n",
       "mean    29.687518  \n",
       "std     12.115200  \n",
       "min     -4.828571  \n",
       "25%     21.093847  \n",
       "50%     25.101750  \n",
       "75%     34.130815  \n",
       "max     72.074047  "
      ]
     },
     "execution_count": 2,
     "metadata": {},
     "output_type": "execute_result"
    }
   ],
   "source": [
    "xls_file = pd.ExcelFile(\"sbo_interpolated.xlsx\") # Read Excel\n",
    "df1=xls_file.parse(\"Sheet1\") # Read the first sheet (Portfolio holdings)\n",
    "\n",
    "#df1[\"Timestamp\"] = df1[\"Date\"].astype('datetime64[ns]') # Convert column to date format\n",
    "df1 = df1.set_index(['Timestamp']) # use first column as index\n",
    "\n",
    "#df1.to_excel(\"values.xlsx\")  #print to excel\n",
    "\n",
    "\n",
    "df1.describe()"
   ]
  },
  {
   "cell_type": "code",
   "execution_count": 3,
   "metadata": {},
   "outputs": [
    {
     "data": {
      "text/plain": [
       "<AxesSubplot:xlabel='Timestamp'>"
      ]
     },
     "execution_count": 3,
     "metadata": {},
     "output_type": "execute_result"
    },
    {
     "data": {
      "image/png": "[encoded data removed]",
      "text/plain": [
       "<Figure size 432x288 with 1 Axes>"
      ]
     },
     "metadata": {
      "needs_background": "light"
     },
     "output_type": "display_data"
    }
   ],
   "source": [
    "spot = df1[1]\n",
    "spot = spot.loc['2004-01-31':'2022-11-30']*22.04623\n",
    "#spot = np.log(spot)\n",
    "spot_train = spot.loc[:'2016-07-31']\n",
    "spot_train.plot()"
   ]
  },
  {
   "cell_type": "code",
   "execution_count": 25,
   "metadata": {},
   "outputs": [
    {
     "data": {
      "text/plain": [
       "count    151.000000\n",
       "mean       6.685402\n",
       "std        0.306107\n",
       "min        6.053022\n",
       "25%        6.491561\n",
       "50%        6.673513\n",
       "75%        6.981589\n",
       "max        7.314853\n",
       "Name: 1, dtype: float64"
      ]
     },
     "execution_count": 25,
     "metadata": {},
     "output_type": "execute_result"
    }
   ],
   "source": [
    "#statistics\n",
    "\n",
    "#mean\n",
    "#sd\n",
    "#skewness\n",
    "#kurtosis\n",
    "#jb test\n",
    "#Ljung Box Q(6) and Q^2(6)\n",
    "#observations\n",
    "\n",
    "spot_train.describe()\n",
    "#spot.dropna().describe()"
   ]
  },
  {
   "cell_type": "code",
   "execution_count": 26,
   "metadata": {},
   "outputs": [
    {
     "name": "stdout",
     "output_type": "stream",
     "text": [
      "Skewness spot: -0.04940800211994622\n",
      "Skewness logs: -0.1252065235731067\n",
      "Kurtosis spot: 2.0985075538213276\n",
      "Kurtosis logs: 2.12625286433331\n",
      "JB spot: Jarque_beraResult(statistic=5.174601592286793, pvalue=0.07522280799970715)\n",
      "JB logs: Jarque_beraResult(statistic=5.197802226720265, pvalue=0.07435524131815796)\n",
      "Q(6) spot:       lb_stat      lb_pvalue\n",
      "6  713.731905  6.629797e-151\n",
      "Q(6) logs:       lb_stat      lb_pvalue\n",
      "6  718.002964  7.929016e-152\n"
     ]
    }
   ],
   "source": [
    "print(\"Skewness spot:\", scipy.stats.skew(spot_train.dropna(), axis=0, bias=True))\n",
    "print(\"Skewness logs:\", scipy.stats.skew(np.log(spot_train.dropna()), axis=0, bias=True))\n",
    "print(\"Kurtosis spot:\", scipy.stats.kurtosis(spot_train.dropna(), axis=0, fisher=False, bias=True))\n",
    "print(\"Kurtosis logs:\", scipy.stats.kurtosis(np.log(spot_train.dropna()), fisher=False, axis=0, bias=True))\n",
    "\n",
    "print(\"JB spot:\", scipy.stats.jarque_bera(spot_train.dropna()))\n",
    "print(\"JB logs:\", scipy.stats.jarque_bera(np.log(spot_train.dropna())))\n",
    "#The Jarque-Bera Test is typically used for large datasets (n > 2000) in which other normality tests (like the Shapiro-Wilk test) are unreliable.\n",
    "\n",
    "print(\"Q(6) spot:\", sm.stats.acorr_ljungbox(spot_train.dropna(), lags=[6]))\n",
    "print(\"Q(6) logs:\", sm.stats.acorr_ljungbox(np.log(spot_train.dropna()), lags=[6]))"
   ]
  },
  {
   "cell_type": "code",
   "execution_count": 27,
   "metadata": {},
   "outputs": [
    {
     "name": "stdout",
     "output_type": "stream",
     "text": [
      "ADF spot: (-1.660466225772639, 0.4515878593409928, 0, 150, {'1%': -3.474714913481481, '5%': -2.881008708148148, '10%': -2.5771508444444446}, -317.080824457851)\n",
      "ADF logs: (-1.6545010121678412, 0.45469408335965605, 0, 150, {'1%': -3.474714913481481, '5%': -2.881008708148148, '10%': -2.5771508444444446}, -839.5659166088581)\n",
      "PP spot:      Phillips-Perron Test (Z-tau)    \n",
      "=====================================\n",
      "Test Statistic                 -1.789\n",
      "P-value                         0.386\n",
      "Lags                               14\n",
      "-------------------------------------\n",
      "\n",
      "Trend: Constant\n",
      "Critical Values: -3.47 (1%), -2.88 (5%), -2.58 (10%)\n",
      "Null Hypothesis: The process contains a unit root.\n",
      "Alternative Hypothesis: The process is weakly stationary.\n",
      "PP logs:      Phillips-Perron Test (Z-tau)    \n",
      "=====================================\n",
      "Test Statistic                 -1.776\n",
      "P-value                         0.392\n",
      "Lags                               14\n",
      "-------------------------------------\n",
      "\n",
      "Trend: Constant\n",
      "Critical Values: -3.47 (1%), -2.88 (5%), -2.58 (10%)\n",
      "Null Hypothesis: The process contains a unit root.\n",
      "Alternative Hypothesis: The process is weakly stationary.\n"
     ]
    }
   ],
   "source": [
    "#stationarity\n",
    "\n",
    "#augmented Dickie-Fuller\n",
    "#PP test - Phillips and Perron\n",
    "#KPSS\n",
    "\n",
    "print(\"ADF spot:\", adfuller(spot_train.dropna()))\n",
    "print(\"ADF logs:\", adfuller(np.log(spot_train.dropna())))\n",
    "\n",
    "print(\"PP spot:\", PhillipsPerron(spot_train.dropna()).summary().as_text())\n",
    "print(\"PP logs:\", PhillipsPerron(np.log(spot_train.dropna())).summary().as_text())\n",
    "\n"
   ]
  },
  {
   "cell_type": "code",
   "execution_count": 28,
   "metadata": {},
   "outputs": [
    {
     "name": "stdout",
     "output_type": "stream",
     "text": [
      "KPSS spot:     KPSS Stationarity Test Results   \n",
      "=====================================\n",
      "Test Statistic                  0.576\n",
      "P-value                         0.026\n",
      "Lags                                8\n",
      "-------------------------------------\n",
      "\n",
      "Trend: Constant\n",
      "Critical Values: 0.74 (1%), 0.46 (5%), 0.35 (10%)\n",
      "Null Hypothesis: The process is weakly stationary.\n",
      "Alternative Hypothesis: The process contains a unit root.\n",
      "KPSS logs:     KPSS Stationarity Test Results   \n",
      "=====================================\n",
      "Test Statistic                  0.589\n",
      "P-value                         0.024\n",
      "Lags                                8\n",
      "-------------------------------------\n",
      "\n",
      "Trend: Constant\n",
      "Critical Values: 0.74 (1%), 0.46 (5%), 0.35 (10%)\n",
      "Null Hypothesis: The process is weakly stationary.\n",
      "Alternative Hypothesis: The process contains a unit root.\n"
     ]
    }
   ],
   "source": [
    "\n",
    "print(\"KPSS spot:\", KPSS(spot_train.dropna()).summary().as_text())\n",
    "print(\"KPSS logs:\", KPSS(np.log(spot_train.dropna())).summary().as_text())"
   ]
  },
  {
   "cell_type": "code",
   "execution_count": 29,
   "metadata": {},
   "outputs": [
    {
     "name": "stdout",
     "output_type": "stream",
     "text": [
      "ACF and PACF spot:\n",
      "ACF and PACF logs:\n"
     ]
    },
    {
     "name": "stderr",
     "output_type": "stream",
     "text": [
      "c:\\Users\\tatuh\\anaconda3\\lib\\site-packages\\statsmodels\\graphics\\tsaplots.py:348: FutureWarning: The default method 'yw' can produce PACF values outside of the [-1,1] interval. After 0.13, the default will change tounadjusted Yule-Walker ('ywm'). You can use this method now by setting method='ywm'.\n",
      "  warnings.warn(\n",
      "c:\\Users\\tatuh\\anaconda3\\lib\\site-packages\\statsmodels\\graphics\\tsaplots.py:348: FutureWarning: The default method 'yw' can produce PACF values outside of the [-1,1] interval. After 0.13, the default will change tounadjusted Yule-Walker ('ywm'). You can use this method now by setting method='ywm'.\n",
      "  warnings.warn(\n"
     ]
    },
    {
     "data": {
      "image/png": "[encoded data removed]",
      "text/plain": [
       "<Figure size 432x288 with 1 Axes>"
      ]
     },
     "execution_count": 29,
     "metadata": {},
     "output_type": "execute_result"
    },
    {
     "data": {
      "image/png": "[encoded data removed]",
      "text/plain": [
       "<Figure size 432x288 with 1 Axes>"
      ]
     },
     "metadata": {
      "needs_background": "light"
     },
     "output_type": "display_data"
    },
    {
     "data": {
      "image/png": "[encoded data removed]",
      "text/plain": [
       "<Figure size 432x288 with 1 Axes>"
      ]
     },
     "metadata": {
      "needs_background": "light"
     },
     "output_type": "display_data"
    },
    {
     "data": {
      "image/png": "[encoded data removed]",
      "text/plain": [
       "<Figure size 432x288 with 1 Axes>"
      ]
     },
     "metadata": {
      "needs_background": "light"
     },
     "output_type": "display_data"
    },
    {
     "data": {
      "image/png": "[encoded data removed]",
      "text/plain": [
       "<Figure size 432x288 with 1 Axes>"
      ]
     },
     "metadata": {
      "needs_background": "light"
     },
     "output_type": "display_data"
    }
   ],
   "source": [
    "#ACF and PACF\n",
    "\n",
    "print(\"ACF and PACF spot:\")\n",
    "plot_acf(spot_train.dropna(), lags = 20)\n",
    "plot_pacf(spot_train.dropna(), lags = 20)\n",
    "\n",
    "\n",
    "print(\"ACF and PACF logs:\")\n",
    "plot_acf(np.log(spot_train.dropna()), lags = 20)\n",
    "plot_pacf(np.log(spot_train.dropna()), lags = 20)\n",
    "\n"
   ]
  },
  {
   "cell_type": "code",
   "execution_count": 30,
   "metadata": {},
   "outputs": [
    {
     "data": {
      "text/plain": [
       "0.6782943507735172"
      ]
     },
     "execution_count": 30,
     "metadata": {},
     "output_type": "execute_result"
    },
    {
     "data": {
      "image/png": "[encoded data removed]",
      "text/plain": [
       "<Figure size 432x288 with 1 Axes>"
      ]
     },
     "metadata": {
      "needs_background": "light"
     },
     "output_type": "display_data"
    }
   ],
   "source": [
    "spot_train.hist()\n",
    "0.6782943507735172"
   ]
  },
  {
   "cell_type": "code",
   "execution_count": 31,
   "metadata": {},
   "outputs": [
    {
     "data": {
      "text/plain": [
       "<AxesSubplot:>"
      ]
     },
     "execution_count": 31,
     "metadata": {},
     "output_type": "execute_result"
    },
    {
     "data": {
      "image/png": "[encoded data removed]",
      "text/plain": [
       "<Figure size 432x288 with 1 Axes>"
      ]
     },
     "metadata": {
      "needs_background": "light"
     },
     "output_type": "display_data"
    }
   ],
   "source": [
    "np.log(spot_train).hist()"
   ]
  },
  {
   "cell_type": "code",
   "execution_count": 32,
   "metadata": {},
   "outputs": [],
   "source": [
    "# Load the data and split it into separate pieces\n",
    "data = np.array(spot.dropna())\n",
    "train, test = model_selection.train_test_split(data, train_size=(spot_train.shape[0]))\n",
    "#train, test = model_selection.train_test_split(data, train_size=(spot.shape[0]-1))"
   ]
  },
  {
   "cell_type": "code",
   "execution_count": 33,
   "metadata": {},
   "outputs": [
    {
     "name": "stdout",
     "output_type": "stream",
     "text": [
      "Performing stepwise search to minimize aic\n",
      " ARIMA(2,1,2)(0,0,0)[0] intercept   : AIC=-322.354, Time=0.05 sec\n",
      " ARIMA(0,1,0)(0,0,0)[0] intercept   : AIC=-319.927, Time=0.06 sec\n",
      " ARIMA(1,1,0)(0,0,0)[0] intercept   : AIC=-320.539, Time=0.03 sec\n",
      " ARIMA(0,1,1)(0,0,0)[0] intercept   : AIC=-319.782, Time=0.02 sec\n",
      " ARIMA(0,1,0)(0,0,0)[0]             : AIC=-321.927, Time=0.01 sec\n",
      " ARIMA(1,1,2)(0,0,0)[0] intercept   : AIC=-322.294, Time=0.03 sec\n",
      " ARIMA(2,1,1)(0,0,0)[0] intercept   : AIC=-323.409, Time=0.05 sec\n",
      " ARIMA(1,1,1)(0,0,0)[0] intercept   : AIC=-324.124, Time=0.03 sec\n",
      " ARIMA(0,1,2)(0,0,0)[0] intercept   : AIC=-322.714, Time=0.03 sec\n",
      " ARIMA(2,1,0)(0,0,0)[0] intercept   : AIC=-324.642, Time=0.03 sec\n",
      " ARIMA(3,1,0)(0,0,0)[0] intercept   : AIC=-322.950, Time=0.04 sec\n",
      " ARIMA(3,1,1)(0,0,0)[0] intercept   : AIC=-320.893, Time=0.04 sec\n",
      " ARIMA(2,1,0)(0,0,0)[0]             : AIC=-326.642, Time=0.03 sec\n",
      " ARIMA(1,1,0)(0,0,0)[0]             : AIC=-322.539, Time=0.02 sec\n",
      " ARIMA(3,1,0)(0,0,0)[0]             : AIC=-324.951, Time=0.04 sec\n",
      " ARIMA(2,1,1)(0,0,0)[0]             : AIC=-325.407, Time=0.02 sec\n",
      " ARIMA(1,1,1)(0,0,0)[0]             : AIC=-326.399, Time=0.02 sec\n",
      " ARIMA(3,1,1)(0,0,0)[0]             : AIC=-322.894, Time=0.03 sec\n",
      "\n",
      "Best model:  ARIMA(2,1,0)(0,0,0)[0]          \n",
      "Total fit time: 0.602 seconds\n"
     ]
    },
    {
     "data": {
      "image/png": "[encoded data removed]",
      "text/plain": [
       "<Figure size 432x288 with 1 Axes>"
      ]
     },
     "metadata": {
      "needs_background": "light"
     },
     "output_type": "display_data"
    }
   ],
   "source": [
    "# Fit a simple auto_arima model\n",
    "arima = pm.auto_arima(train, error_action='ignore', trace=True,\n",
    "                      suppress_warnings=True, maxiter=5,\n",
    "                      seasonal=False)\n",
    "\n",
    "#arima = pm.auto_arima(train, error_action='ignore', trace=True,\n",
    "                      #suppress_warnings=True, maxiter=5,\n",
    "                      #seasonal=True, m=12)\n",
    "\n",
    "# #############################################################################\n",
    "# Plot actual test vs. forecasts:\n",
    "x = np.arange(test.shape[0])\n",
    "plt.scatter(x, test, marker='x')\n",
    "plt.plot(x, arima.predict(n_periods=test.shape[0]))\n",
    "plt.title('Actual test samples vs. forecasts')\n",
    "plt.show()"
   ]
  },
  {
   "cell_type": "code",
   "execution_count": 34,
   "metadata": {},
   "outputs": [
    {
     "data": {
      "text/html": [
       "<table class=\"simpletable\">\n",
       "<caption>SARIMAX Results</caption>\n",
       "<tr>\n",
       "  <th>Dep. Variable:</th>           <td>y</td>        <th>  No. Observations:  </th>    <td>151</td>  \n",
       "</tr>\n",
       "<tr>\n",
       "  <th>Model:</th>           <td>SARIMAX(2, 1, 0)</td> <th>  Log Likelihood     </th>  <td>166.321</td>\n",
       "</tr>\n",
       "<tr>\n",
       "  <th>Date:</th>            <td>Sat, 07 Jan 2023</td> <th>  AIC                </th> <td>-326.642</td>\n",
       "</tr>\n",
       "<tr>\n",
       "  <th>Time:</th>                <td>14:20:55</td>     <th>  BIC                </th> <td>-317.610</td>\n",
       "</tr>\n",
       "<tr>\n",
       "  <th>Sample:</th>                  <td>0</td>        <th>  HQIC               </th> <td>-322.973</td>\n",
       "</tr>\n",
       "<tr>\n",
       "  <th></th>                      <td> - 151</td>      <th>                     </th>     <td> </td>   \n",
       "</tr>\n",
       "<tr>\n",
       "  <th>Covariance Type:</th>        <td>opg</td>       <th>                     </th>     <td> </td>   \n",
       "</tr>\n",
       "</table>\n",
       "<table class=\"simpletable\">\n",
       "<tr>\n",
       "     <td></td>       <th>coef</th>     <th>std err</th>      <th>z</th>      <th>P>|z|</th>  <th>[0.025</th>    <th>0.975]</th>  \n",
       "</tr>\n",
       "<tr>\n",
       "  <th>ar.L1</th>  <td>   -0.1045</td> <td>    0.056</td> <td>   -1.850</td> <td> 0.064</td> <td>   -0.215</td> <td>    0.006</td>\n",
       "</tr>\n",
       "<tr>\n",
       "  <th>ar.L2</th>  <td>    0.2000</td> <td>    0.070</td> <td>    2.870</td> <td> 0.004</td> <td>    0.063</td> <td>    0.337</td>\n",
       "</tr>\n",
       "<tr>\n",
       "  <th>sigma2</th> <td>    0.0064</td> <td>    0.001</td> <td>   11.312</td> <td> 0.000</td> <td>    0.005</td> <td>    0.007</td>\n",
       "</tr>\n",
       "</table>\n",
       "<table class=\"simpletable\">\n",
       "<tr>\n",
       "  <th>Ljung-Box (L1) (Q):</th>     <td>0.01</td> <th>  Jarque-Bera (JB):  </th> <td>25.21</td>\n",
       "</tr>\n",
       "<tr>\n",
       "  <th>Prob(Q):</th>                <td>0.91</td> <th>  Prob(JB):          </th> <td>0.00</td> \n",
       "</tr>\n",
       "<tr>\n",
       "  <th>Heteroskedasticity (H):</th> <td>0.37</td> <th>  Skew:              </th> <td>-0.61</td>\n",
       "</tr>\n",
       "<tr>\n",
       "  <th>Prob(H) (two-sided):</th>    <td>0.00</td> <th>  Kurtosis:          </th> <td>4.60</td> \n",
       "</tr>\n",
       "</table><br/><br/>Warnings:<br/>[1] Covariance matrix calculated using the outer product of gradients (complex-step)."
      ],
      "text/plain": [
       "<class 'statsmodels.iolib.summary.Summary'>\n",
       "\"\"\"\n",
       "                               SARIMAX Results                                \n",
       "==============================================================================\n",
       "Dep. Variable:                      y   No. Observations:                  151\n",
       "Model:               SARIMAX(2, 1, 0)   Log Likelihood                 166.321\n",
       "Date:                Sat, 07 Jan 2023   AIC                           -326.642\n",
       "Time:                        14:20:55   BIC                           -317.610\n",
       "Sample:                             0   HQIC                          -322.973\n",
       "                                - 151                                         \n",
       "Covariance Type:                  opg                                         \n",
       "==============================================================================\n",
       "                 coef    std err          z      P>|z|      [0.025      0.975]\n",
       "------------------------------------------------------------------------------\n",
       "ar.L1         -0.1045      0.056     -1.850      0.064      -0.215       0.006\n",
       "ar.L2          0.2000      0.070      2.870      0.004       0.063       0.337\n",
       "sigma2         0.0064      0.001     11.312      0.000       0.005       0.007\n",
       "===================================================================================\n",
       "Ljung-Box (L1) (Q):                   0.01   Jarque-Bera (JB):                25.21\n",
       "Prob(Q):                              0.91   Prob(JB):                         0.00\n",
       "Heteroskedasticity (H):               0.37   Skew:                            -0.61\n",
       "Prob(H) (two-sided):                  0.00   Kurtosis:                         4.60\n",
       "===================================================================================\n",
       "\n",
       "Warnings:\n",
       "[1] Covariance matrix calculated using the outer product of gradients (complex-step).\n",
       "\"\"\""
      ]
     },
     "execution_count": 34,
     "metadata": {},
     "output_type": "execute_result"
    }
   ],
   "source": [
    "arima.summary()"
   ]
  },
  {
   "cell_type": "code",
   "execution_count": 49,
   "metadata": {},
   "outputs": [
    {
     "data": {
      "text/plain": [
       "[<matplotlib.lines.Line2D at 0x21ada37c1f0>]"
      ]
     },
     "execution_count": 49,
     "metadata": {},
     "output_type": "execute_result"
    },
    {
     "data": {
      "image/png": "[encoded data removed]",
      "text/plain": [
       "<Figure size 432x288 with 1 Axes>"
      ]
     },
     "metadata": {
      "needs_background": "light"
     },
     "output_type": "display_data"
    }
   ],
   "source": [
    "plt.plot(x, arima.predict(n_periods=test.shape[0]))"
   ]
  },
  {
   "cell_type": "code",
   "execution_count": 50,
   "metadata": {},
   "outputs": [
    {
     "data": {
      "text/plain": [
       "array([670.58583025, 666.71993395, 667.38236524, 666.67960988,\n",
       "       666.86412668, 666.72940497, 666.77416267, 666.74731496,\n",
       "       666.75753737, 666.75204535, 666.75431049, 666.7531681 ,\n",
       "       666.75366191, 666.75342182, 666.7535285 , 666.75347773,\n",
       "       666.75350066, 666.75348988, 666.75349479, 666.7534925 ,\n",
       "       666.75349355, 666.75349306, 666.75349329, 666.75349318,\n",
       "       666.75349323, 666.75349321, 666.75349322, 666.75349321,\n",
       "       666.75349322, 666.75349321, 666.75349322, 666.75349322,\n",
       "       666.75349322, 666.75349322, 666.75349322, 666.75349322,\n",
       "       666.75349322, 666.75349322, 666.75349322, 666.75349322,\n",
       "       666.75349322, 666.75349322, 666.75349322, 666.75349322,\n",
       "       666.75349322, 666.75349322, 666.75349322, 666.75349322,\n",
       "       666.75349322, 666.75349322, 666.75349322, 666.75349322,\n",
       "       666.75349322, 666.75349322, 666.75349322, 666.75349322,\n",
       "       666.75349322, 666.75349322, 666.75349322, 666.75349322,\n",
       "       666.75349322, 666.75349322, 666.75349322, 666.75349322,\n",
       "       666.75349322, 666.75349322, 666.75349322, 666.75349322,\n",
       "       666.75349322, 666.75349322, 666.75349322, 666.75349322,\n",
       "       666.75349322, 666.75349322, 666.75349322, 666.75349322])"
      ]
     },
     "execution_count": 50,
     "metadata": {},
     "output_type": "execute_result"
    }
   ],
   "source": [
    "arima.predict(n_periods=test.shape[0])"
   ]
  },
  {
   "cell_type": "code",
   "execution_count": 51,
   "metadata": {},
   "outputs": [
    {
     "data": {
      "text/plain": [
       "<AxesSubplot:xlabel='Timestamp'>"
      ]
     },
     "execution_count": 51,
     "metadata": {},
     "output_type": "execute_result"
    },
    {
     "data": {
      "image/png": "[encoded data removed]",
      "text/plain": [
       "<Figure size 432x288 with 1 Axes>"
      ]
     },
     "metadata": {
      "needs_background": "light"
     },
     "output_type": "display_data"
    }
   ],
   "source": [
    "spot2 = np.log(spot).diff()\n",
    "#spot2 = spot.diff()\n",
    "spot_train2 = spot2.loc[:'2016-07-31'].dropna()\n",
    "spot_train2.plot()\n"
   ]
  },
  {
   "cell_type": "code",
   "execution_count": 52,
   "metadata": {},
   "outputs": [
    {
     "data": {
      "text/plain": [
       "count    150.000000\n",
       "mean       0.000110\n",
       "std        0.082468\n",
       "min       -0.294218\n",
       "25%       -0.036043\n",
       "50%        0.001940\n",
       "75%        0.055231\n",
       "max        0.241209\n",
       "Name: 1, dtype: float64"
      ]
     },
     "execution_count": 52,
     "metadata": {},
     "output_type": "execute_result"
    }
   ],
   "source": [
    "#statistics\n",
    "\n",
    "#mean\n",
    "#sd\n",
    "#skewness\n",
    "#kurtosis\n",
    "#jb test\n",
    "#Ljung Box Q(6) and Q^2(6)\n",
    "#observations\n",
    "\n",
    "spot_train2.describe()\n",
    "#spot.dropna().describe()"
   ]
  },
  {
   "cell_type": "code",
   "execution_count": 53,
   "metadata": {},
   "outputs": [
    {
     "name": "stdout",
     "output_type": "stream",
     "text": [
      "Skewness spot: -0.6883715637374259\n",
      "Kurtosis spot: 4.902217548158615\n",
      "JB spot: Jarque_beraResult(statistic=34.461582747323824, pvalue=3.286717575878839e-08)\n",
      "Q(6) spot:      lb_stat  lb_pvalue\n",
      "6  18.697229   0.004707\n"
     ]
    }
   ],
   "source": [
    "print(\"Skewness spot:\", scipy.stats.skew(spot_train2.dropna(), axis=0, bias=True))\n",
    "#print(\"Skewness logs:\", scipy.stats.skew(np.log(spot2.dropna()), axis=0, bias=True))\n",
    "print(\"Kurtosis spot:\", scipy.stats.kurtosis(spot_train2.dropna(), axis=0, fisher=False, bias=True))\n",
    "#print(\"Kurtosis logs:\", scipy.stats.kurtosis(np.log(spot2.dropna()), fisher=False, axis=0, bias=True))\n",
    "\n",
    "print(\"JB spot:\", scipy.stats.jarque_bera(spot_train2.dropna()))\n",
    "#print(\"JB logs:\", scipy.stats.jarque_bera(np.log(spot2.dropna())))\n",
    "#The Jarque-Bera Test is typically used for large datasets (n > 2000) in which other normality tests (like the Shapiro-Wilk test) are unreliable.\n",
    "\n",
    "print(\"Q(6) spot:\", sm.stats.acorr_ljungbox(spot_train2.dropna(), lags=[6]))\n",
    "#print(\"Q(6) logs:\", sm.stats.acorr_ljungbox(np.log(spot2.dropna()), lags=[6]))"
   ]
  },
  {
   "cell_type": "code",
   "execution_count": 54,
   "metadata": {},
   "outputs": [
    {
     "name": "stdout",
     "output_type": "stream",
     "text": [
      "ADF spot: (-13.949443883009335, 4.7313366029911366e-26, 0, 149, {'1%': -3.4750180242954167, '5%': -2.8811408028842043, '10%': -2.577221358046935}, -310.29845428599634)\n",
      "PP spot:      Phillips-Perron Test (Z-tau)    \n",
      "=====================================\n",
      "Test Statistic                -13.813\n",
      "P-value                         0.000\n",
      "Lags                               14\n",
      "-------------------------------------\n",
      "\n",
      "Trend: Constant\n",
      "Critical Values: -3.48 (1%), -2.88 (5%), -2.58 (10%)\n",
      "Null Hypothesis: The process contains a unit root.\n",
      "Alternative Hypothesis: The process is weakly stationary.\n"
     ]
    }
   ],
   "source": [
    "#stationarity\n",
    "\n",
    "#augmented Dickie-Fuller\n",
    "#PP test - Phillips and Perron\n",
    "#KPSS\n",
    "\n",
    "print(\"ADF spot:\", adfuller(spot_train2.dropna()))\n",
    "#print(\"ADF logs:\", adfuller(np.log(spot2.dropna())))\n",
    "\n",
    "print(\"PP spot:\", PhillipsPerron(spot_train2.dropna()).summary().as_text())\n",
    "#print(\"PP logs:\", PhillipsPerron(np.log(spot2.dropna())).summary().as_text())"
   ]
  },
  {
   "cell_type": "code",
   "execution_count": 55,
   "metadata": {},
   "outputs": [
    {
     "name": "stdout",
     "output_type": "stream",
     "text": [
      "KPSS spot:     KPSS Stationarity Test Results   \n",
      "=====================================\n",
      "Test Statistic                  0.126\n",
      "P-value                         0.471\n",
      "Lags                                0\n",
      "-------------------------------------\n",
      "\n",
      "Trend: Constant\n",
      "Critical Values: 0.74 (1%), 0.46 (5%), 0.35 (10%)\n",
      "Null Hypothesis: The process is weakly stationary.\n",
      "Alternative Hypothesis: The process contains a unit root.\n"
     ]
    }
   ],
   "source": [
    "print(\"KPSS spot:\", KPSS(spot_train2.dropna()).summary().as_text())\n",
    "#print(\"KPSS logs:\", KPSS(np.log(spot2.dropna())).summary().as_text())"
   ]
  },
  {
   "cell_type": "code",
   "execution_count": 56,
   "metadata": {},
   "outputs": [
    {
     "name": "stdout",
     "output_type": "stream",
     "text": [
      "ACF and PACF spot:\n"
     ]
    },
    {
     "name": "stderr",
     "output_type": "stream",
     "text": [
      "c:\\Users\\tatuh\\anaconda3\\lib\\site-packages\\statsmodels\\graphics\\tsaplots.py:348: FutureWarning: The default method 'yw' can produce PACF values outside of the [-1,1] interval. After 0.13, the default will change tounadjusted Yule-Walker ('ywm'). You can use this method now by setting method='ywm'.\n",
      "  warnings.warn(\n"
     ]
    },
    {
     "data": {
      "image/png": "[encoded data removed]",
      "text/plain": [
       "<Figure size 432x288 with 1 Axes>"
      ]
     },
     "execution_count": 56,
     "metadata": {},
     "output_type": "execute_result"
    },
    {
     "data": {
      "image/png": "[encoded data removed]",
      "text/plain": [
       "<Figure size 432x288 with 1 Axes>"
      ]
     },
     "metadata": {
      "needs_background": "light"
     },
     "output_type": "display_data"
    },
    {
     "data": {
      "image/png": "[encoded data removed]",
      "text/plain": [
       "<Figure size 432x288 with 1 Axes>"
      ]
     },
     "metadata": {
      "needs_background": "light"
     },
     "output_type": "display_data"
    }
   ],
   "source": [
    "#ACF and PACF\n",
    "\n",
    "print(\"ACF and PACF spot:\")\n",
    "plot_acf(spot_train2.dropna(), lags = 20)\n",
    "plot_pacf(spot_train2.dropna(), lags = 20)\n",
    "\n",
    "\n",
    "#print(\"ACF and PACF logs:\")\n",
    "#plot_acf(np.log(spot2.dropna()), lags = 15)\n",
    "#plot_pacf(np.log(spot2.dropna()), lags = 15)\n"
   ]
  },
  {
   "cell_type": "code",
   "execution_count": 57,
   "metadata": {},
   "outputs": [
    {
     "data": {
      "text/plain": [
       "<AxesSubplot:>"
      ]
     },
     "execution_count": 57,
     "metadata": {},
     "output_type": "execute_result"
    },
    {
     "data": {
      "image/png": "[encoded data removed]",
      "text/plain": [
       "<Figure size 432x288 with 1 Axes>"
      ]
     },
     "metadata": {
      "needs_background": "light"
     },
     "output_type": "display_data"
    }
   ],
   "source": [
    "spot_train2.hist()\n"
   ]
  },
  {
   "cell_type": "code",
   "execution_count": 58,
   "metadata": {},
   "outputs": [],
   "source": [
    "# Load the data and split it into separate pieces\n",
    "data2 = np.array(spot2.dropna())\n",
    "train2, test2 = model_selection.train_test_split(data2, train_size=(spot_train2.shape[0]))"
   ]
  },
  {
   "cell_type": "code",
   "execution_count": 59,
   "metadata": {},
   "outputs": [
    {
     "data": {
      "text/plain": [
       "array([ 0.13562507, -0.02466235,  0.01997163, -0.17778618, -0.0108438 ,\n",
       "       -0.24757005,  0.17089286, -0.24053529,  0.04110898, -0.03624752,\n",
       "       -0.00048508, -0.06589605,  0.18513363, -0.00689943, -0.02060721,\n",
       "        0.01923151,  0.02493151,  0.02921744, -0.0813805 ,  0.05681129,\n",
       "       -0.03715087, -0.08226715,  0.01180651,  0.03325659,  0.06885923,\n",
       "       -0.04567949,  0.12510244, -0.02566257,  0.05726443,  0.01356464,\n",
       "       -0.05817161, -0.05881646,  0.1128152 ,  0.09224406,  0.00273785,\n",
       "       -0.00820294,  0.04147773,  0.05900173,  0.03855986,  0.05715931,\n",
       "        0.0366505 ,  0.03038276, -0.03284279,  0.07763992,  0.06475624,\n",
       "        0.07998081,  0.06796985,  0.09174782,  0.24120896, -0.29421768,\n",
       "        0.12724363,  0.05027156,  0.08525195, -0.12534487, -0.08710501,\n",
       "       -0.19362111, -0.27707254, -0.02341849,  0.02155845, -0.02426605,\n",
       "       -0.05185425,  0.07946849,  0.08100621,  0.06750464, -0.10119676,\n",
       "        0.00114155, -0.00199857, -0.02958452,  0.06528207,  0.10285835,\n",
       "        0.00397319, -0.11721987,  0.0905985 , -0.03185715,  0.01362113,\n",
       "       -0.03307931, -0.02838808,  0.09335377, -0.00882618,  0.12417929,\n",
       "        0.0961167 ,  0.02884903,  0.13101094, -0.00270254, -0.01423962,\n",
       "        0.03147303, -0.00779917, -0.00056175, -0.05405994,  0.01102188,\n",
       "        0.05079901, -0.15885858,  0.01919747, -0.03290459,  0.05565762,\n",
       "       -0.02804654,  0.06572288,  0.0132523 , -0.00276945, -0.11490782,\n",
       "        0.06904969,  0.00649105,  0.07105861, -0.07812443, -0.04173003,\n",
       "       -0.01281642, -0.00507255,  0.07600964, -0.08294986,  0.02899419,\n",
       "       -0.02266441, -0.01418986, -0.04254959, -0.09792022,  0.04187632,\n",
       "       -0.0722694 ,  0.0095204 , -0.02457312, -0.03542881, -0.0323763 ,\n",
       "        0.09961596, -0.02298704,  0.03162019, -0.08827309,  0.01317278,\n",
       "       -0.07313824, -0.11958471,  0.00715288,  0.07414703, -0.07693989,\n",
       "       -0.00654718, -0.06250638,  0.08813693, -0.07740357,  0.03728001,\n",
       "        0.0539525 ,  0.00907743, -0.11280439, -0.07118721, -0.02980955,\n",
       "        0.03871678,  0.03248767,  0.04862651,  0.00903423, -0.00609257,\n",
       "        0.10724901, -0.03669079, -0.03798357, -0.00871025, -0.03337423])"
      ]
     },
     "execution_count": 59,
     "metadata": {},
     "output_type": "execute_result"
    }
   ],
   "source": [
    "train2"
   ]
  },
  {
   "cell_type": "code",
   "execution_count": 60,
   "metadata": {},
   "outputs": [
    {
     "name": "stdout",
     "output_type": "stream",
     "text": [
      "Performing stepwise search to minimize aic\n",
      " ARIMA(2,0,2)(0,0,0)[0]             : AIC=-324.300, Time=0.03 sec\n",
      " ARIMA(0,0,0)(0,0,0)[0]             : AIC=-321.927, Time=0.02 sec\n",
      " ARIMA(1,0,0)(0,0,0)[0]             : AIC=-322.539, Time=0.02 sec\n",
      " ARIMA(0,0,1)(0,0,0)[0]             : AIC=-321.782, Time=0.02 sec\n",
      " ARIMA(1,0,2)(0,0,0)[0]             : AIC=-324.297, Time=0.02 sec\n",
      " ARIMA(2,0,1)(0,0,0)[0]             : AIC=-325.407, Time=0.02 sec\n",
      " ARIMA(1,0,1)(0,0,0)[0]             : AIC=-326.399, Time=0.02 sec\n",
      " ARIMA(0,0,2)(0,0,0)[0]             : AIC=-324.715, Time=0.02 sec\n",
      " ARIMA(2,0,0)(0,0,0)[0]             : AIC=-326.642, Time=0.02 sec\n",
      " ARIMA(3,0,0)(0,0,0)[0]             : AIC=-324.951, Time=0.02 sec\n",
      " ARIMA(3,0,1)(0,0,0)[0]             : AIC=-322.894, Time=0.03 sec\n",
      " ARIMA(2,0,0)(0,0,0)[0] intercept   : AIC=-324.642, Time=0.03 sec\n",
      "\n",
      "Best model:  ARIMA(2,0,0)(0,0,0)[0]          \n",
      "Total fit time: 0.268 seconds\n"
     ]
    },
    {
     "data": {
      "image/png": "[encoded data removed]",
      "text/plain": [
       "<Figure size 432x288 with 1 Axes>"
      ]
     },
     "metadata": {
      "needs_background": "light"
     },
     "output_type": "display_data"
    }
   ],
   "source": [
    "# Fit a simple auto_arima model\n",
    "arima2 = pm.auto_arima(train2, error_action='ignore', trace=True,\n",
    "                      suppress_warnings=True, maxiter=5,\n",
    "                      seasonal=False)\n",
    "\n",
    "#arima = pm.auto_arima(train, error_action='ignore', trace=True,\n",
    "                      #suppress_warnings=True, maxiter=5,\n",
    "                      #seasonal=True, m=12)\n",
    "\n",
    "# #############################################################################\n",
    "# Plot actual test vs. forecasts:\n",
    "x2 = np.arange(test2.shape[0])\n",
    "plt.scatter(x2, test2, marker='x')\n",
    "plt.plot(x2, arima2.predict(n_periods=test2.shape[0]))\n",
    "plt.title('Actual test samples vs. forecasts')\n",
    "plt.show()"
   ]
  },
  {
   "cell_type": "code",
   "execution_count": 61,
   "metadata": {},
   "outputs": [
    {
     "data": {
      "text/html": [
       "<table class=\"simpletable\">\n",
       "<caption>SARIMAX Results</caption>\n",
       "<tr>\n",
       "  <th>Dep. Variable:</th>           <td>y</td>        <th>  No. Observations:  </th>    <td>150</td>  \n",
       "</tr>\n",
       "<tr>\n",
       "  <th>Model:</th>           <td>SARIMAX(2, 0, 0)</td> <th>  Log Likelihood     </th>  <td>166.321</td>\n",
       "</tr>\n",
       "<tr>\n",
       "  <th>Date:</th>            <td>Sun, 01 Jan 2023</td> <th>  AIC                </th> <td>-326.642</td>\n",
       "</tr>\n",
       "<tr>\n",
       "  <th>Time:</th>                <td>21:17:35</td>     <th>  BIC                </th> <td>-317.610</td>\n",
       "</tr>\n",
       "<tr>\n",
       "  <th>Sample:</th>                  <td>0</td>        <th>  HQIC               </th> <td>-322.973</td>\n",
       "</tr>\n",
       "<tr>\n",
       "  <th></th>                      <td> - 150</td>      <th>                     </th>     <td> </td>   \n",
       "</tr>\n",
       "<tr>\n",
       "  <th>Covariance Type:</th>        <td>opg</td>       <th>                     </th>     <td> </td>   \n",
       "</tr>\n",
       "</table>\n",
       "<table class=\"simpletable\">\n",
       "<tr>\n",
       "     <td></td>       <th>coef</th>     <th>std err</th>      <th>z</th>      <th>P>|z|</th>  <th>[0.025</th>    <th>0.975]</th>  \n",
       "</tr>\n",
       "<tr>\n",
       "  <th>ar.L1</th>  <td>   -0.1045</td> <td>    0.056</td> <td>   -1.850</td> <td> 0.064</td> <td>   -0.215</td> <td>    0.006</td>\n",
       "</tr>\n",
       "<tr>\n",
       "  <th>ar.L2</th>  <td>    0.2000</td> <td>    0.070</td> <td>    2.871</td> <td> 0.004</td> <td>    0.063</td> <td>    0.337</td>\n",
       "</tr>\n",
       "<tr>\n",
       "  <th>sigma2</th> <td>    0.0064</td> <td>    0.001</td> <td>   11.312</td> <td> 0.000</td> <td>    0.005</td> <td>    0.007</td>\n",
       "</tr>\n",
       "</table>\n",
       "<table class=\"simpletable\">\n",
       "<tr>\n",
       "  <th>Ljung-Box (L1) (Q):</th>     <td>0.01</td> <th>  Jarque-Bera (JB):  </th> <td>25.21</td>\n",
       "</tr>\n",
       "<tr>\n",
       "  <th>Prob(Q):</th>                <td>0.91</td> <th>  Prob(JB):          </th> <td>0.00</td> \n",
       "</tr>\n",
       "<tr>\n",
       "  <th>Heteroskedasticity (H):</th> <td>0.37</td> <th>  Skew:              </th> <td>-0.61</td>\n",
       "</tr>\n",
       "<tr>\n",
       "  <th>Prob(H) (two-sided):</th>    <td>0.00</td> <th>  Kurtosis:          </th> <td>4.60</td> \n",
       "</tr>\n",
       "</table><br/><br/>Warnings:<br/>[1] Covariance matrix calculated using the outer product of gradients (complex-step)."
      ],
      "text/plain": [
       "<class 'statsmodels.iolib.summary.Summary'>\n",
       "\"\"\"\n",
       "                               SARIMAX Results                                \n",
       "==============================================================================\n",
       "Dep. Variable:                      y   No. Observations:                  150\n",
       "Model:               SARIMAX(2, 0, 0)   Log Likelihood                 166.321\n",
       "Date:                Sun, 01 Jan 2023   AIC                           -326.642\n",
       "Time:                        21:17:35   BIC                           -317.610\n",
       "Sample:                             0   HQIC                          -322.973\n",
       "                                - 150                                         \n",
       "Covariance Type:                  opg                                         \n",
       "==============================================================================\n",
       "                 coef    std err          z      P>|z|      [0.025      0.975]\n",
       "------------------------------------------------------------------------------\n",
       "ar.L1         -0.1045      0.056     -1.850      0.064      -0.215       0.006\n",
       "ar.L2          0.2000      0.070      2.871      0.004       0.063       0.337\n",
       "sigma2         0.0064      0.001     11.312      0.000       0.005       0.007\n",
       "===================================================================================\n",
       "Ljung-Box (L1) (Q):                   0.01   Jarque-Bera (JB):                25.21\n",
       "Prob(Q):                              0.91   Prob(JB):                         0.00\n",
       "Heteroskedasticity (H):               0.37   Skew:                            -0.61\n",
       "Prob(H) (two-sided):                  0.00   Kurtosis:                         4.60\n",
       "===================================================================================\n",
       "\n",
       "Warnings:\n",
       "[1] Covariance matrix calculated using the outer product of gradients (complex-step).\n",
       "\"\"\""
      ]
     },
     "execution_count": 61,
     "metadata": {},
     "output_type": "execute_result"
    }
   ],
   "source": [
    "arima2.summary()"
   ]
  },
  {
   "cell_type": "code",
   "execution_count": 62,
   "metadata": {},
   "outputs": [
    {
     "data": {
      "text/plain": [
       "[<matplotlib.lines.Line2D at 0x21ada75b5e0>]"
      ]
     },
     "execution_count": 62,
     "metadata": {},
     "output_type": "execute_result"
    },
    {
     "data": {
      "image/png": "[encoded data removed]",
      "text/plain": [
       "<Figure size 432x288 with 1 Axes>"
      ]
     },
     "metadata": {
      "needs_background": "light"
     },
     "output_type": "display_data"
    }
   ],
   "source": [
    "plt.plot(x2, arima2.predict(n_periods=test2.shape[0]))"
   ]
  },
  {
   "cell_type": "code",
   "execution_count": 63,
   "metadata": {},
   "outputs": [
    {
     "data": {
      "text/plain": [
       "array([ 1.74572369e-03, -6.85657061e-03,  1.06561626e-03, -1.48252615e-03,\n",
       "        3.68024075e-04, -3.34932354e-04,  1.08597334e-04, -7.83277877e-05,\n",
       "        2.99023960e-05, -1.87886943e-05,  7.94325904e-06, -4.58740998e-06,\n",
       "        2.06786668e-06, -1.13347647e-06,  5.31977538e-07, -2.82262824e-07,\n",
       "        1.35880635e-07, -7.06460823e-08,  3.45557474e-08, -1.77387878e-08,\n",
       "        8.76411662e-09, -4.46323002e-09,  2.21904417e-09, -1.12444107e-09,\n",
       "        5.61265658e-10, -2.83516528e-10,  1.41868654e-10, -7.15225416e-11,\n",
       "        3.58448146e-11, -1.80487682e-11,  9.05429573e-12, -4.55554313e-12,\n",
       "        2.28672055e-12, -1.14997390e-12,  5.77467678e-13, -2.90315659e-13,\n",
       "        1.45819223e-13, -7.32950572e-14,  3.68200722e-14, -1.85051479e-14,\n",
       "        9.29701818e-15, -4.67217385e-15,  2.34744779e-15, -1.17964355e-15,\n",
       "        5.92712311e-16, -2.97842022e-16,  1.49654329e-16, -7.52009382e-17,\n",
       "        3.77861765e-17, -1.89872414e-17,  9.54059722e-18, -4.79403628e-18,\n",
       "        2.40889303e-18, -1.21043447e-18,  6.08217703e-19, -3.05619864e-19,\n",
       "        1.53567862e-19, -7.71653050e-20,  3.87740760e-20, -1.94833084e-20,\n",
       "        9.78999509e-21, -4.91930120e-21,  2.47185748e-21, -1.24206457e-21,\n",
       "        6.24114596e-22, -3.13606435e-22,  1.57581499e-22, -7.91818742e-23,\n",
       "        3.97874493e-23, -1.99924768e-23,  1.00458563e-23, -5.04786153e-24,\n",
       "        2.53645882e-24, -1.27452474e-24,  6.40425576e-25, -3.21802275e-25])"
      ]
     },
     "execution_count": 63,
     "metadata": {},
     "output_type": "execute_result"
    }
   ],
   "source": [
    "tests = arima2.predict(n_periods=test2.shape[0])\n",
    "tests"
   ]
  },
  {
   "cell_type": "code",
   "execution_count": 64,
   "metadata": {},
   "outputs": [
    {
     "data": {
      "image/png": "[encoded data removed]",
      "text/plain": [
       "<Figure size 720x360 with 1 Axes>"
      ]
     },
     "metadata": {
      "needs_background": "light"
     },
     "output_type": "display_data"
    }
   ],
   "source": [
    "cum_res = np.exp(tests.cumsum())*spot.iloc[spot_train.shape[0]-1]\n",
    "#cum_res = tests.cumsum()+spot.iloc[spot_train.shape[0]-1]\n",
    "plt.figure(figsize=(10,5))\n",
    "plt.plot(cum_res, color='g',label = 'NAV Returns')\n",
    "plt.legend()\n",
    "plt.show()"
   ]
  },
  {
   "cell_type": "code",
   "execution_count": 65,
   "metadata": {},
   "outputs": [
    {
     "data": {
      "text/plain": [
       "array([670.27216975, 665.69212096, 666.4018714 , 665.41464517,\n",
       "       665.65957885, 665.43666525, 665.50893382, 665.45680802,\n",
       "       665.47670707, 665.46420375, 665.46948973, 665.46643695,\n",
       "       665.46781305, 665.46705876, 665.46741277, 665.46722494,\n",
       "       665.46731536, 665.46726835, 665.46729134, 665.46727954,\n",
       "       665.46728537, 665.4672824 , 665.46728388, 665.46728313,\n",
       "       665.4672835 , 665.46728332, 665.46728341, 665.46728336,\n",
       "       665.46728339, 665.46728337, 665.46728338, 665.46728338,\n",
       "       665.46728338, 665.46728338, 665.46728338, 665.46728338,\n",
       "       665.46728338, 665.46728338, 665.46728338, 665.46728338,\n",
       "       665.46728338, 665.46728338, 665.46728338, 665.46728338,\n",
       "       665.46728338, 665.46728338, 665.46728338, 665.46728338,\n",
       "       665.46728338, 665.46728338, 665.46728338, 665.46728338,\n",
       "       665.46728338, 665.46728338, 665.46728338, 665.46728338,\n",
       "       665.46728338, 665.46728338, 665.46728338, 665.46728338,\n",
       "       665.46728338, 665.46728338, 665.46728338, 665.46728338,\n",
       "       665.46728338, 665.46728338, 665.46728338, 665.46728338,\n",
       "       665.46728338, 665.46728338, 665.46728338, 665.46728338,\n",
       "       665.46728338, 665.46728338, 665.46728338, 665.46728338])"
      ]
     },
     "execution_count": 65,
     "metadata": {},
     "output_type": "execute_result"
    }
   ],
   "source": [
    "cum_res"
   ]
  },
  {
   "cell_type": "code",
   "execution_count": 36,
   "metadata": {},
   "outputs": [],
   "source": [
    "#cointegration tests\n",
    "\n",
    "#normalized cv\n",
    "#LR test"
   ]
  },
  {
   "cell_type": "code",
   "execution_count": 37,
   "metadata": {},
   "outputs": [],
   "source": [
    "#correlaatiomatriisi"
   ]
  },
  {
   "cell_type": "code",
   "execution_count": 38,
   "metadata": {},
   "outputs": [],
   "source": [
    "#np.argwhere(np.isnan(x))"
   ]
  }
 ],
 "metadata": {
  "kernelspec": {
   "display_name": "Python 3.9.7 ('base')",
   "language": "python",
   "name": "python3"
  },
  "language_info": {
   "codemirror_mode": {
    "name": "ipython",
    "version": 3
   },
   "file_extension": ".py",
   "mimetype": "text/x-python",
   "name": "python",
   "nbconvert_exporter": "python",
   "pygments_lexer": "ipython3",
   "version": "3.9.7"
  },
  "orig_nbformat": 4,
  "vscode": {
   "interpreter": {
    "hash": "4166284f6c1be268893ecc7e1723c4ee59a7af301dc502cec5768712e1b57cd0"
   }
  }
 },
 "nbformat": 4,
 "nbformat_minor": 2
}
