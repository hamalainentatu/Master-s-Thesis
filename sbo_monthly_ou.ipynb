{
 "cells": [
  {
   "cell_type": "code",
   "execution_count": 1,
   "metadata": {},
   "outputs": [],
   "source": [
    "# Start loading libraries\n",
    "\n",
    "#! pip install yfinance\n",
    "\n",
    "import matplotlib.pyplot as plt\n",
    "import numpy as np\n",
    "import pandas as pd\n",
    "import seaborn as sns\n",
    "\n",
    "#! pip install pmdarima\n",
    "import pmdarima as pm\n",
    "from pmdarima import model_selection\n",
    "from pmdarima.model_selection import SlidingWindowForecastCV\n",
    "\n",
    "import scipy\n",
    "import scipy.stats as stats\n",
    "import statsmodels.api as sm\n",
    "from statsmodels.tsa.stattools import adfuller\n",
    "from arch.unitroot import PhillipsPerron\n",
    "from arch.unitroot import KPSS\n",
    "\n",
    "from statsmodels.graphics.tsaplots import plot_pacf\n",
    "from statsmodels.graphics.tsaplots import plot_acf\n",
    "from statsmodels.tsa.arima.model import ARIMA\n",
    "#from statsmodels.graphics.tsaplots import plot_acf\n",
    "\n",
    "from sklearn.metrics import mean_squared_error\n",
    "from sklearn.metrics import mean_absolute_error\n",
    "from sklearn.metrics import mean_absolute_percentage_error\n",
    "\n",
    "from scipy.optimize import minimize\n",
    "from random import gauss\n",
    "import math\n",
    "from statistics import mean, stdev\n",
    "\n",
    "#from matplotlib.ticker import NullFormatter\n",
    "#import yfinance as yf\n",
    "#import warnings; warnings.simplefilter('ignore')\n",
    "#%matplotlib inline"
   ]
  },
  {
   "cell_type": "code",
   "execution_count": 2,
   "metadata": {},
   "outputs": [],
   "source": [
    "xls_file = pd.ExcelFile(\"sbo_interpolated.xlsx\") # Read Excel\n",
    "df1=xls_file.parse(\"Sheet1\") # Read the first sheet (Portfolio holdings)\n",
    "\n",
    "#df1[\"Timestamp\"] = df1[\"Date\"].astype('datetime64[ns]') # Convert column to date format\n",
    "df1 = df1.set_index(['Timestamp']) # use first column as index\n",
    "\n",
    "#df1.to_excel(\"values.xlsx\")  #print to excel\n",
    "\n"
   ]
  },
  {
   "cell_type": "code",
   "execution_count": 3,
   "metadata": {},
   "outputs": [
    {
     "data": {
      "text/plain": [
       "<AxesSubplot:xlabel='Timestamp'>"
      ]
     },
     "execution_count": 3,
     "metadata": {},
     "output_type": "execute_result"
    },
    {
     "data": {
      "image/png": "[encoded data removed]",
      "text/plain": [
       "<Figure size 432x288 with 1 Axes>"
      ]
     },
     "metadata": {
      "needs_background": "light"
     },
     "output_type": "display_data"
    }
   ],
   "source": [
    "spot = df1[1]\n",
    "spot = spot.loc['2004-01-31':'2022-11-30']*22.04623\n",
    "spot = np.log(spot)\n",
    "spot_train = spot.loc[:'2016-07-31']\n",
    "spot_train.plot()"
   ]
  },
  {
   "cell_type": "code",
   "execution_count": 4,
   "metadata": {},
   "outputs": [],
   "source": [
    "# Load the data and split it into separate pieces\n",
    "data = np.array(spot.dropna())\n",
    "train, test = model_selection.train_test_split(data, train_size=(spot_train.shape[0]))\n",
    "#train, test = model_selection.train_test_split(data, train_size=(spot.shape[0]-1))"
   ]
  },
  {
   "cell_type": "code",
   "execution_count": 5,
   "metadata": {},
   "outputs": [],
   "source": [
    "# Time series 1\n",
    "model_1 = \"OU\" # \"BS\" = Brennan-Schwartz, \"OU\" = Ornestein-Uhlenbeck\n",
    "sim_start_1 = \"latest\" # \"beginning\" = beginning of fit_date_range, \"end\" = end of fit_date_range, \"latest\" = last value in time series \n",
    "constrained_fit_1 = False # Constrain fit parameters mu within observed range\n",
    "\n",
    "\n",
    "# Simulation paramaters\n",
    "N_sims = 5000 # Number of simulations\n",
    "N_points = 15 # How many points simulated *beyond* historical data\n",
    "\n",
    "obs_1 = train"
   ]
  },
  {
   "cell_type": "code",
   "execution_count": 6,
   "metadata": {},
   "outputs": [],
   "source": [
    "##### ORNSTEIN-UHLENBECK MODEL ##### From Neste\n",
    "# One price iteration step\n",
    "def OU_next(mu,sigma,kappa,x_prev,gen_rand=True,rand=None):\n",
    "    if gen_rand:\n",
    "        return x_prev + kappa*(mu-x_prev)+sigma*gauss(0,1)\n",
    "    else:\n",
    "        return x_prev + kappa*(mu-x_prev)+sigma*rand\n",
    "# Simulate BS time series with parameters params = [mu,sigma,kappa], starting value x0 and N total simulation points\n",
    "def OU_sim(params,x0,N,gen_rand=True,rands=None):\n",
    "    mu = params[0]\n",
    "    sigma = params[1]\n",
    "    kappa = params[2]\n",
    "    sim = [None]*N\n",
    "    sim[0] = x0\n",
    "    if gen_rand:\n",
    "        for i in range(1,N):\n",
    "            sim[i] = OU_next(mu,sigma,kappa,sim[i-1])\n",
    "    else:\n",
    "        for i in range(1,N):\n",
    "            sim[i] = OU_next(mu,sigma,kappa,sim[i-1],False,rands[i])\n",
    "    return sim\n",
    "# Log-likelihood function for price change: x_prev -> x\n",
    "def OU_LL(mu,sigma,kappa,x,x_prev):\n",
    "    return 0.5*math.log(2*math.pi*(sigma)**2) + 0.5*((x-x_prev-kappa*(mu-x_prev))**2) / (sigma**2)\n",
    "# Total log-likelihood value for simulation\n",
    "def OU_LL_sim_1(params):\n",
    "    mu = params[0]\n",
    "    sigma = params[1]\n",
    "    kappa = params[2]\n",
    "    LL = [OU_LL(mu,sigma,kappa,obs_1[i],obs_1[i-1]) for i in range(1,len(obs_1))]\n",
    "    return sum(LL)\n"
   ]
  },
  {
   "cell_type": "code",
   "execution_count": 7,
   "metadata": {},
   "outputs": [],
   "source": [
    "##### SET SELECTED MODEL #####\n",
    "if model_1 == \"OU\":\n",
    "    LL_fun_1 = OU_LL_sim_1\n",
    "    sim_fun_1 = OU_sim\n",
    "    params0_1 = [mean(obs_1),stdev(obs_1),0.1] # Initial parameters for MLE optimizer\n",
    "elif model_1 == \"BS\":\n",
    "    LL_fun_1 = BS_LL_sim_1\n",
    "    sim_fun_1 = BS_sim\n",
    "    params0_1 = [mean(obs_1),stdev(obs_1)/mean(obs_1),0.1] # Initial parameters for MLE optimizer\n",
    "else:\n",
    "    raise ValueError(\"Model name \\\"\" + \"model\" + \"\\\" not valid!\")\n"
   ]
  },
  {
   "cell_type": "code",
   "execution_count": 8,
   "metadata": {},
   "outputs": [
    {
     "name": "stdout",
     "output_type": "stream",
     "text": [
      "\n",
      "##### FITTING MODELS #####\n",
      "\n",
      "Fitting model 1 (\"OU\") using initial parameters:\n",
      "mu_0 = 6.6854017666634915\n",
      "sigma_0 = 0.30610716240993413\n",
      "kappa_0 = 0.1\n",
      "Final fit parameters:\n",
      "mu = 6.689624695982831\n",
      "sigma = 0.08143710729315057\n",
      "kappa = 0.036353741902174365\n",
      "latest value (2016-07-31 00:00:00) = 6.505938129723772\n"
     ]
    }
   ],
   "source": [
    "##### FIT MODEL 1 #####\n",
    "print(\"\\n##### FITTING MODELS #####\")\n",
    "print(\"\\nFitting model 1 (\\\"\" + model_1 + \"\\\") using initial parameters:\")\n",
    "print(\"mu_0 = \" + str(params0_1[0]))\n",
    "print(\"sigma_0 = \" + str(params0_1[1]))\n",
    "print(\"kappa_0 = \" + str(params0_1[2])+\"\")\n",
    "if constrained_fit_1:\n",
    "    print(\"NOTE: using constrained fit\")\n",
    "    # Constrain mu withing observed range\n",
    "    res_1 = minimize(LL_fun_1,params0_1,bounds=[(min(obs_1),max(obs_1)),(None,None),(None,None)], method='L-BFGS-B') # Minimize LL function\n",
    "else:\n",
    "    res_1 = minimize(LL_fun_1,params0_1, method='L-BFGS-B') # Minimize LL function\n",
    "if res_1.x[1] < 0:\n",
    "    res_1.x[1] = -res_1.x[1]\n",
    "##### PRINT RESULTS #####\n",
    "print(\"Final fit parameters:\")\n",
    "print(\"mu = \"+str(res_1.x[0]))\n",
    "print(\"sigma = \"+str(res_1.x[1]))\n",
    "print(\"kappa = \"+str(res_1.x[2]))\n",
    "print(\"latest value (\" + str(spot_train.index[-1]) + \") = \" + str(spot_train[-1]))"
   ]
  },
  {
   "cell_type": "code",
   "execution_count": 9,
   "metadata": {},
   "outputs": [],
   "source": [
    "### Calculate sliding window one step ahead forecasts ###\n",
    "\n",
    "insample = list(train)\n",
    "predictions = []\n",
    "paramsnew_1 = params0_1 #initial parameters\n",
    "\n",
    "def OU_LL_sim_new(params):\n",
    "    mu = params[0]\n",
    "    sigma = params[1]\n",
    "    kappa = params[2]\n",
    "    LL = [OU_LL(mu,sigma,kappa,insample[i],insample[i-1]) for i in range(1,len(insample))]\n",
    "    return sum(LL)\n",
    "\n",
    "LL_fun_1 = OU_LL_sim_new\n",
    "\n",
    "for i in range (len(test)):\n",
    "    x_prev = insample[-1]\n",
    "    res_1 = minimize(LL_fun_1,paramsnew_1, method='L-BFGS-B') # Minimize LL function\n",
    "    nextstep = x_prev + res_1.x[2]*(res_1.x[0]-x_prev)\n",
    "    predictions.append(nextstep)\n",
    "    insample.pop(0)\n",
    "    insample.append(test[i])\n",
    "\n",
    "    paramsnew_1 = [mean(insample),stdev(insample)/mean(insample),0.1] # new initial parameters"
   ]
  },
  {
   "cell_type": "code",
   "execution_count": 10,
   "metadata": {},
   "outputs": [],
   "source": [
    "def smape_kun(y_true, y_pred):\n",
    "    return np.mean(np.abs(y_pred - y_true) / ((np.abs(y_pred) + np.abs(y_true))/2))*100"
   ]
  },
  {
   "cell_type": "code",
   "execution_count": 11,
   "metadata": {},
   "outputs": [
    {
     "data": {
      "image/png": "[encoded data removed]",
      "text/plain": [
       "<Figure size 432x288 with 1 Axes>"
      ]
     },
     "metadata": {
      "needs_background": "light"
     },
     "output_type": "display_data"
    }
   ],
   "source": [
    "exp_predictions = np.exp(predictions)\n",
    "exp_spot= np.exp(spot)\n",
    "exp_test = np.exp(test)\n",
    "exp_train = np.exp(train)\n",
    "\n",
    "x_axis = np.arange(exp_spot.shape[0])\n",
    "n_test = exp_predictions.shape[0]\n",
    "\n",
    "plt.plot(x_axis, exp_spot, alpha=0.75, c='b')\n",
    "plt.plot(x_axis[-n_test:], exp_predictions, alpha=0.75, c='g')  # Forecasts\n",
    "plt.title(\"Cross-validated forecasts\")\n",
    "plt.show()"
   ]
  },
  {
   "cell_type": "code",
   "execution_count": 12,
   "metadata": {},
   "outputs": [
    {
     "name": "stdout",
     "output_type": "stream",
     "text": [
      "Mean Squared Error: 9068.382\n",
      "Mean Absolute Error: 58.420\n",
      "Mean Absolute Percentage Error: 5.465\n",
      "Symmetric Mean Absolute Percentage Error: 5.543\n"
     ]
    }
   ],
   "source": [
    "error = mean_squared_error(exp_test, exp_predictions)\n",
    "print('Mean Squared Error: %.3f' % error)\n",
    "error2 = mean_absolute_error(exp_test, exp_predictions)\n",
    "print('Mean Absolute Error: %.3f' % error2)\n",
    "error3 = mean_absolute_percentage_error(exp_test, exp_predictions)\n",
    "print('Mean Absolute Percentage Error: %.3f' % (error3*100))\n",
    "error4 = smape_kun(exp_test, exp_predictions)\n",
    "print('Symmetric Mean Absolute Percentage Error: %.3f' % error4)"
   ]
  },
  {
   "cell_type": "code",
   "execution_count": 13,
   "metadata": {},
   "outputs": [],
   "source": [
    "### same with built-in function ###\n",
    "\n",
    "#predictions22 = model_selection.cross_val_score(\n",
    "#    ar, spot, scoring='mean_absolute_error', cv=cv, verbose=0)\n",
    "#np.average(predictions22)"
   ]
  },
  {
   "cell_type": "code",
   "execution_count": 14,
   "metadata": {},
   "outputs": [
    {
     "name": "stdout",
     "output_type": "stream",
     "text": [
      "Mean Absolute Scaled Error: 1.293\n"
     ]
    }
   ],
   "source": [
    "#### MASE ###\n",
    "\n",
    "abs_errors = abs(exp_predictions - exp_test)\n",
    "mae_naive_list = []\n",
    "\n",
    "for x in range(len(exp_test)):\n",
    "    insample_data = exp_spot[x:-(len(exp_test)-x)]\n",
    "    mae_insample = np.mean(abs(insample_data.diff().dropna()))\n",
    "    mae_naive_list.append(mae_insample)\n",
    "\n",
    "mase = np.mean(abs_errors / mae_naive_list)\n",
    "\n",
    "print('Mean Absolute Scaled Error: %.3f' % mase)"
   ]
  },
  {
   "cell_type": "code",
   "execution_count": 15,
   "metadata": {},
   "outputs": [
    {
     "data": {
      "text/html": [
       "<div>\n",
       "<style scoped>\n",
       "    .dataframe tbody tr th:only-of-type {\n",
       "        vertical-align: middle;\n",
       "    }\n",
       "\n",
       "    .dataframe tbody tr th {\n",
       "        vertical-align: top;\n",
       "    }\n",
       "\n",
       "    .dataframe thead th {\n",
       "        text-align: right;\n",
       "    }\n",
       "</style>\n",
       "<table border=\"1\" class=\"dataframe\">\n",
       "  <thead>\n",
       "    <tr style=\"text-align: right;\">\n",
       "      <th></th>\n",
       "      <th>0</th>\n",
       "    </tr>\n",
       "  </thead>\n",
       "  <tbody>\n",
       "    <tr>\n",
       "      <th>0</th>\n",
       "      <td>1.069852</td>\n",
       "    </tr>\n",
       "    <tr>\n",
       "      <th>1</th>\n",
       "      <td>1.023714</td>\n",
       "    </tr>\n",
       "    <tr>\n",
       "      <th>2</th>\n",
       "      <td>1.055454</td>\n",
       "    </tr>\n",
       "    <tr>\n",
       "      <th>3</th>\n",
       "      <td>1.048648</td>\n",
       "    </tr>\n",
       "    <tr>\n",
       "      <th>4</th>\n",
       "      <td>0.935580</td>\n",
       "    </tr>\n",
       "    <tr>\n",
       "      <th>...</th>\n",
       "      <td>...</td>\n",
       "    </tr>\n",
       "    <tr>\n",
       "      <th>71</th>\n",
       "      <td>1.019388</td>\n",
       "    </tr>\n",
       "    <tr>\n",
       "      <th>72</th>\n",
       "      <td>0.943085</td>\n",
       "    </tr>\n",
       "    <tr>\n",
       "      <th>73</th>\n",
       "      <td>1.113083</td>\n",
       "    </tr>\n",
       "    <tr>\n",
       "      <th>74</th>\n",
       "      <td>0.877218</td>\n",
       "    </tr>\n",
       "    <tr>\n",
       "      <th>75</th>\n",
       "      <td>0.990255</td>\n",
       "    </tr>\n",
       "  </tbody>\n",
       "</table>\n",
       "<p>76 rows × 1 columns</p>\n",
       "</div>"
      ],
      "text/plain": [
       "           0\n",
       "0   1.069852\n",
       "1   1.023714\n",
       "2   1.055454\n",
       "3   1.048648\n",
       "4   0.935580\n",
       "..       ...\n",
       "71  1.019388\n",
       "72  0.943085\n",
       "73  1.113083\n",
       "74  0.877218\n",
       "75  0.990255\n",
       "\n",
       "[76 rows x 1 columns]"
      ]
     },
     "execution_count": 15,
     "metadata": {},
     "output_type": "execute_result"
    }
   ],
   "source": [
    "### Returns ###\n",
    "\n",
    "returns = []\n",
    "\n",
    "test_app2 = list(exp_test)\n",
    "test_app2.insert(0, exp_train[-1]) ## append last of train data\n",
    "price_moves = np.array(pd.DataFrame(test_app2).pct_change().dropna()+1)\n",
    "\n",
    "pred_app2 = list(predictions)\n",
    "\n",
    "test_shift2 = list(test)\n",
    "test_shift2.insert(0, train[-1])\n",
    "test_shift2.pop()\n",
    "\n",
    "dir_pred2 = np.array(np.sign([a - b for a, b in zip(pred_app2,test_shift2)]))\n",
    "\n",
    "for t in range(len(dir_pred2)):\n",
    "    if dir_pred2[t] == 1:\n",
    "            returns.append(price_moves[t])\n",
    "        \n",
    "    if dir_pred2[t] == -1:\n",
    "        returns.append(1/price_moves[t])\n",
    "\n",
    "returns = pd.DataFrame(returns)\n",
    "returns\n"
   ]
  },
  {
   "cell_type": "code",
   "execution_count": 16,
   "metadata": {},
   "outputs": [
    {
     "name": "stdout",
     "output_type": "stream",
     "text": [
      "[-0.87455156] [0.80769504]\n"
     ]
    }
   ],
   "source": [
    "### Returns t-test ###\n",
    "\n",
    "t_statistic, p_value = stats.ttest_1samp(a=returns, popmean=1, alternative='greater') ### one tailed test?\n",
    "\n",
    "\n",
    "print(t_statistic , p_value)"
   ]
  },
  {
   "cell_type": "code",
   "execution_count": 17,
   "metadata": {},
   "outputs": [
    {
     "name": "stdout",
     "output_type": "stream",
     "text": [
      "Merton test: 0.842\n"
     ]
    }
   ],
   "source": [
    "### Merton test ###\n",
    "\n",
    "test_app = list(test)\n",
    "test_app.insert(0, train[-1]) ## append last of train data\n",
    "dir = np.array(np.sign(pd.DataFrame(test_app).diff().dropna()))\n",
    "\n",
    "pred_app = list(predictions)\n",
    "\n",
    "test_shift = list(test)\n",
    "test_shift.insert(0, train[-1])\n",
    "test_shift.pop()\n",
    "\n",
    "dir_pred = np.array(np.sign([a - b for a, b in zip(pred_app,test_shift)]))\n",
    "\n",
    "q_minus = 0\n",
    "q_plus = 0\n",
    "pred_minus = 0\n",
    "pred_plus = 0\n",
    "\n",
    "for t in range(len(dir)):\n",
    "    if dir[t] == 1:\n",
    "        q_plus += 1\n",
    "        if dir_pred[t] == 1:\n",
    "            pred_plus += 1\n",
    "    if dir[t] == -1:\n",
    "        q_minus += 1\n",
    "        if dir_pred[t] == -1:\n",
    "            pred_minus += 1\n",
    "\n",
    "print('Merton test: %.3f' % ((pred_plus / q_plus) + (pred_minus / q_minus)))"
   ]
  },
  {
   "cell_type": "code",
   "execution_count": null,
   "metadata": {},
   "outputs": [],
   "source": []
  }
 ],
 "metadata": {
  "kernelspec": {
   "display_name": "Python 3.9.7 ('base')",
   "language": "python",
   "name": "python3"
  },
  "language_info": {
   "codemirror_mode": {
    "name": "ipython",
    "version": 3
   },
   "file_extension": ".py",
   "mimetype": "text/x-python",
   "name": "python",
   "nbconvert_exporter": "python",
   "pygments_lexer": "ipython3",
   "version": "3.9.7"
  },
  "orig_nbformat": 4,
  "vscode": {
   "interpreter": {
    "hash": "4166284f6c1be268893ecc7e1723c4ee59a7af301dc502cec5768712e1b57cd0"
   }
  }
 },
 "nbformat": 4,
 "nbformat_minor": 2
}
