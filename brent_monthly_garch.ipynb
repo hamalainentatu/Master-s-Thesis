{
 "cells": [
  {
   "cell_type": "code",
   "execution_count": 50,
   "metadata": {},
   "outputs": [],
   "source": [
    "# Start loading libraries\n",
    "\n",
    "#! pip install yfinance\n",
    "\n",
    "import matplotlib.pyplot as plt\n",
    "import numpy as np\n",
    "import pandas as pd\n",
    "import seaborn as sns\n",
    "\n",
    "#! pip install pmdarima\n",
    "import pmdarima as pm\n",
    "from pmdarima import model_selection\n",
    "from pmdarima.model_selection import SlidingWindowForecastCV\n",
    "\n",
    "import scipy\n",
    "import scipy.stats as stats\n",
    "import statsmodels.api as sm\n",
    "from statsmodels.tsa.stattools import adfuller\n",
    "from arch.unitroot import PhillipsPerron\n",
    "from arch.unitroot import KPSS\n",
    "\n",
    "from statsmodels.graphics.tsaplots import plot_pacf\n",
    "from statsmodels.graphics.tsaplots import plot_acf\n",
    "from statsmodels.tsa.arima.model import ARIMA\n",
    "#from statsmodels.graphics.tsaplots import plot_acf\n",
    "\n",
    "from sklearn.metrics import mean_squared_error\n",
    "from sklearn.metrics import mean_absolute_error\n",
    "from sklearn.metrics import mean_absolute_percentage_error\n",
    "\n",
    "import arch\n",
    "import math\n",
    "import statistics\n",
    "#from matplotlib.ticker import NullFormatter\n",
    "#import yfinance as yf\n",
    "#import warnings; warnings.simplefilter('ignore')\n",
    "#%matplotlib inline"
   ]
  },
  {
   "cell_type": "code",
   "execution_count": 51,
   "metadata": {},
   "outputs": [],
   "source": [
    "xls_file = pd.ExcelFile(\"Data_monthly_final.xlsx\") # Read Excel\n",
    "df1=xls_file.parse(\"Brent\") # Read the first sheet (Portfolio holdings)\n",
    "\n",
    "#df1[\"Timestamp\"] = df1[\"Date\"].astype('datetime64[ns]') # Convert column to date format\n",
    "df1 = df1.set_index(['Timestamp']) # use first column as index\n",
    "\n",
    "#df1.to_excel(\"values.xlsx\")  #print to excel\n",
    "\n"
   ]
  },
  {
   "cell_type": "code",
   "execution_count": 52,
   "metadata": {},
   "outputs": [
    {
     "data": {
      "text/plain": [
       "<AxesSubplot:xlabel='Timestamp'>"
      ]
     },
     "execution_count": 52,
     "metadata": {},
     "output_type": "execute_result"
    },
    {
     "data": {
      "image/png": "[encoded data removed]",
      "text/plain": [
       "<Figure size 432x288 with 1 Axes>"
      ]
     },
     "metadata": {
      "needs_background": "light"
     },
     "output_type": "display_data"
    }
   ],
   "source": [
    "og = df1[\"LCOc1\"]\n",
    "spot = df1[\"LCOc1\"]\n",
    "spot = np.log(spot)\n",
    "spot = spot.loc['2004-01-31':'2022-11-30'].diff().dropna()\n",
    "spot_train = spot.loc[:'2016-07-31']\n",
    "spot_train.plot()"
   ]
  },
  {
   "cell_type": "code",
   "execution_count": 53,
   "metadata": {},
   "outputs": [],
   "source": [
    "### original series\n",
    "\n",
    "spotog = og.loc['2004-01-31':'2022-11-30'].dropna()\n",
    "trainog, testog = model_selection.train_test_split(spotog, train_size=((spot_train.shape[0])+1))"
   ]
  },
  {
   "cell_type": "code",
   "execution_count": 54,
   "metadata": {},
   "outputs": [
    {
     "data": {
      "text/plain": [
       "Timestamp\n",
       "2016-08-31     20.9764\n",
       "2016-09-30      4.0804\n",
       "2016-10-31      0.5776\n",
       "2016-11-30      4.7089\n",
       "2016-12-31     40.3225\n",
       "                ...   \n",
       "2022-07-31     23.0400\n",
       "2022-08-31    182.7904\n",
       "2022-09-30     72.7609\n",
       "2022-10-31     47.1969\n",
       "2022-11-30     88.3600\n",
       "Name: LCOc1, Length: 76, dtype: float64"
      ]
     },
     "execution_count": 54,
     "metadata": {},
     "output_type": "execute_result"
    }
   ],
   "source": [
    "### realized vol ###\n",
    "\n",
    "diff_series = og.loc['2004-01-31':'2022-11-30'].diff().dropna()\n",
    "traindiff, testdiff = model_selection.train_test_split(diff_series, train_size=((spot_train.shape[0])))\n",
    "realized_vol = testdiff**2\n",
    "realized_vol\n"
   ]
  },
  {
   "cell_type": "code",
   "execution_count": 55,
   "metadata": {},
   "outputs": [],
   "source": [
    "# Load the data and split it into separate pieces\n",
    "#data = np.array(spot.dropna())**2\n",
    "data = np.array(spot.dropna())\n",
    "train, test = model_selection.train_test_split(data, train_size=(spot_train.shape[0]))\n",
    "#train, test = model_selection.train_test_split(data, train_size=(spot.shape[0]-1))"
   ]
  },
  {
   "cell_type": "code",
   "execution_count": 56,
   "metadata": {},
   "outputs": [
    {
     "name": "stdout",
     "output_type": "stream",
     "text": [
      "Iteration:      1,   Func. Count:      4,   Neg. LLF: -34.798802479777706\n",
      "Iteration:      2,   Func. Count:     10,   Neg. LLF: -142.29690067790446\n",
      "Iteration:      3,   Func. Count:     14,   Neg. LLF: -150.3659601109831\n",
      "Iteration:      4,   Func. Count:     17,   Neg. LLF: -150.36604253292867\n",
      "Iteration:      5,   Func. Count:     20,   Neg. LLF: -150.36604329990496\n",
      "Optimization terminated successfully    (Exit mode 0)\n",
      "            Current function value: -150.36604329990496\n",
      "            Iterations: 5\n",
      "            Function evaluations: 20\n",
      "            Gradient evaluations: 5\n"
     ]
    }
   ],
   "source": [
    "garch = arch.arch_model(train,mean='Zero', vol='ARCH', p=1, rescale=False)\n",
    "#garch = arch.arch_model(train, vol='GARCH', p=1, q=1)\n",
    "results = garch.fit()"
   ]
  },
  {
   "cell_type": "code",
   "execution_count": 57,
   "metadata": {},
   "outputs": [
    {
     "name": "stdout",
     "output_type": "stream",
     "text": [
      "                        Zero Mean - ARCH Model Results                        \n",
      "==============================================================================\n",
      "Dep. Variable:                      y   R-squared:                       0.000\n",
      "Mean Model:                 Zero Mean   Adj. R-squared:                  0.007\n",
      "Vol Model:                       ARCH   Log-Likelihood:                150.366\n",
      "Distribution:                  Normal   AIC:                          -296.732\n",
      "Method:            Maximum Likelihood   BIC:                          -290.711\n",
      "                                        No. Observations:                  150\n",
      "Date:                Sun, Nov 05 2023   Df Residuals:                      150\n",
      "Time:                        15:25:26   Df Model:                            0\n",
      "                              Volatility Model                              \n",
      "============================================================================\n",
      "                 coef    std err          t      P>|t|      95.0% Conf. Int.\n",
      "----------------------------------------------------------------------------\n",
      "omega      5.7507e-03  1.236e-03      4.653  3.275e-06 [3.328e-03,8.173e-03]\n",
      "alpha[1]       0.3516      0.247      1.421      0.155     [ -0.133,  0.837]\n",
      "============================================================================\n",
      "\n",
      "Covariance estimator: robust\n"
     ]
    }
   ],
   "source": [
    "print(results.summary())"
   ]
  },
  {
   "cell_type": "code",
   "execution_count": 58,
   "metadata": {},
   "outputs": [
    {
     "data": {
      "image/png": "[encoded data removed]",
      "text/plain": [
       "<Figure size 432x288 with 2 Axes>"
      ]
     },
     "metadata": {
      "needs_background": "light"
     },
     "output_type": "display_data"
    }
   ],
   "source": [
    "# Plot the standardized residuals\n",
    "fig = results.plot(annualize='M')\n",
    "#fig = results.plot()\n",
    "plt.show()"
   ]
  },
  {
   "cell_type": "code",
   "execution_count": 59,
   "metadata": {},
   "outputs": [
    {
     "data": {
      "text/plain": [
       "0.014422645838130702"
      ]
     },
     "execution_count": 59,
     "metadata": {},
     "output_type": "execute_result"
    }
   ],
   "source": [
    "yhat = results.forecast(horizon=1)\n",
    "#np.exp(yhat.variance.values)\n",
    "#math.sqrt(yhat.variance.values.flatten())\n",
    "#math.sqrt(yhat.variance.values.flatten()[0])\n",
    "#np.exp(yhat.variance.values.flatten()[0])\n",
    "yhat.variance.values.flatten()[0]"
   ]
  },
  {
   "cell_type": "code",
   "execution_count": 60,
   "metadata": {},
   "outputs": [],
   "source": [
    "# Generate statistics and diagnostic plots\n",
    "\n",
    "#a= results.conditional_volatility\n",
    "#plt.plot(a)"
   ]
  },
  {
   "cell_type": "code",
   "execution_count": 61,
   "metadata": {},
   "outputs": [
    {
     "data": {
      "text/plain": [
       "[5.418031989353118,\n",
       " 4.788600608120568,\n",
       " 4.068415668130314,\n",
       " 3.812219961836739,\n",
       " 4.177290775247883,\n",
       " 6.228852808673238,\n",
       " 4.372550565873226,\n",
       " 4.162423777677532,\n",
       " 4.322977315730249,\n",
       " 3.890238631709174,\n",
       " 3.8091487032846487,\n",
       " 3.8529696259067165,\n",
       " 5.157598352168513,\n",
       " 3.830148659778395,\n",
       " 5.6085488163609725,\n",
       " 5.248880519846729,\n",
       " 4.8986079312262305,\n",
       " 5.3984378063504295,\n",
       " 5.232108898270496,\n",
       " 5.221871566433023,\n",
       " 5.991793100315363,\n",
       " 6.44242496359621,\n",
       " 5.815283939451405,\n",
       " 5.800927452497106,\n",
       " 6.333710233411523,\n",
       " 5.93447135553987,\n",
       " 7.004383274266814,\n",
       " 7.240897859279883,\n",
       " 12.413974969072108,\n",
       " 5.195732012907143,\n",
       " 7.953309141665017,\n",
       " 5.721022619775269,\n",
       " 5.21991747313416,\n",
       " 6.213823716908564,\n",
       " 7.505663182635189,\n",
       " 5.050755075662153,\n",
       " 4.791315931211997,\n",
       " 5.511985613881869,\n",
       " 4.372513349927999,\n",
       " 4.345537199726941,\n",
       " 4.770561164215515,\n",
       " 5.448749067195877,\n",
       " 6.956286181942218,\n",
       " 6.570770551455148,\n",
       " 27.915225608755033,\n",
       " 3.3387206284490496,\n",
       " 14.387705198011297,\n",
       " 7.450756711635066,\n",
       " 3.778970383592302,\n",
       " 3.770637575641807,\n",
       " 5.226894435855783,\n",
       " 4.384799292141842,\n",
       " 13.419145519307442,\n",
       " 5.889522676361345,\n",
       " 5.923318400591121,\n",
       " 13.130992934373367,\n",
       " 5.140457335495576,\n",
       " 6.130415083543809,\n",
       " 5.216140031567704,\n",
       " 8.222991679013887,\n",
       " 5.358071118022508,\n",
       " 6.048181548773769,\n",
       " 8.122286297482944,\n",
       " 8.394267923377171,\n",
       " 14.679768170448526,\n",
       " 9.489288691148928,\n",
       " 17.002546223273782,\n",
       " 12.814183377288586,\n",
       " 10.256096261003975,\n",
       " 7.1329035061190496,\n",
       " 17.411386363955415,\n",
       " 11.1156816840235,\n",
       " 8.686415772546312,\n",
       " 15.142876898612116,\n",
       " 10.463329011848614,\n",
       " 9.804050915741087]"
      ]
     },
     "execution_count": 61,
     "metadata": {},
     "output_type": "execute_result"
    }
   ],
   "source": [
    "#### One-step-ahead predictions of volatility ###\n",
    "\n",
    "predicted_returns = []\n",
    "\n",
    "for i in range(len(test)):\n",
    "    insample_data = data[i:-(len(test)-i)]\n",
    "    \n",
    "    garch = arch.arch_model(insample_data,mean='Zero', vol='ARCH', p=1, rescale=False)\n",
    "    #garch = arch.arch_model(train, vol='GARCH', p=1, q=1)\n",
    "    results = garch.fit(disp='off')\n",
    "\n",
    "    yhat = results.forecast(horizon=1)\n",
    "    log_std = math.sqrt(yhat.variance.values.flatten()[0])\n",
    "\n",
    "    const_std = np.exp(log_std)\n",
    "    predicted_returns.append(const_std)\n",
    "\n",
    "\n",
    "test_shift3 = list(testog)\n",
    "test_shift3.insert(0, trainog[-1])\n",
    "test_shift3.pop()\n",
    "\n",
    "predicted_std_price = list((test_shift3 * np.array(predicted_returns)) - test_shift3)\n",
    "\n",
    "predicted_vol = pd.DataFrame(predicted_std_price)**2\n",
    "predicted_std_price\n"
   ]
  },
  {
   "cell_type": "code",
   "execution_count": 62,
   "metadata": {},
   "outputs": [],
   "source": [
    "def smape_kun(y_true, y_pred):\n",
    "    return np.mean(np.abs(y_pred - y_true) / ((np.abs(y_pred) + np.abs(y_true))/2))*100"
   ]
  },
  {
   "cell_type": "code",
   "execution_count": 63,
   "metadata": {},
   "outputs": [
    {
     "data": {
      "image/png": "[encoded data removed]",
      "text/plain": [
       "<Figure size 432x288 with 1 Axes>"
      ]
     },
     "metadata": {
      "needs_background": "light"
     },
     "output_type": "display_data"
    }
   ],
   "source": [
    "exp_predictions = np.array(predicted_vol)\n",
    "exp_spot= diff_series**2\n",
    "exp_test = np.array(realized_vol)\n",
    "exp_train = traindiff**2\n",
    "\n",
    "#exp_predictions = np.sqrt(exp_predictions)\n",
    "#exp_spot= np.sqrt(exp_spot)\n",
    "#exp_test = np.sqrt(exp_test)\n",
    "#exp_train = np.sqrt(exp_train)\n",
    "\n",
    "x_axis = np.arange(exp_spot.shape[0])\n",
    "n_test = exp_predictions.shape[0]\n",
    "\n",
    "plt.plot(x_axis, exp_spot, alpha=0.75, c='b')\n",
    "plt.plot(x_axis[-n_test:], exp_predictions, alpha=0.75, c='g')  # Forecasts\n",
    "plt.title(\"Cross-validated forecasts\")\n",
    "plt.show()"
   ]
  },
  {
   "cell_type": "code",
   "execution_count": 64,
   "metadata": {},
   "outputs": [
    {
     "name": "stdout",
     "output_type": "stream",
     "text": [
      "Mean Squared Error: 20626.899\n",
      "Mean Absolute Error: 69.258\n",
      "Mean Absolute Percentage Error: 3589.846\n",
      "Symmetric Mean Absolute Percentage Error: 111.605\n"
     ]
    }
   ],
   "source": [
    "error = mean_squared_error(exp_test, exp_predictions)\n",
    "print('Mean Squared Error: %.3f' % error)\n",
    "error2 = mean_absolute_error(exp_test, exp_predictions)\n",
    "print('Mean Absolute Error: %.3f' % error2)\n",
    "error3 = mean_absolute_percentage_error(exp_test, exp_predictions)\n",
    "print('Mean Absolute Percentage Error: %.3f' % (error3*100))\n",
    "error4 = smape_kun(exp_test, exp_predictions)\n",
    "print('Symmetric Mean Absolute Percentage Error: %.3f' % error4)"
   ]
  },
  {
   "cell_type": "code",
   "execution_count": 65,
   "metadata": {},
   "outputs": [],
   "source": [
    "### same with built-in function ###\n",
    "\n",
    "#predictions22 = model_selection.cross_val_score(\n",
    "#    ar, spot, scoring='mean_absolute_error', cv=cv, verbose=0)\n",
    "#np.average(predictions22)"
   ]
  },
  {
   "cell_type": "code",
   "execution_count": 66,
   "metadata": {},
   "outputs": [
    {
     "name": "stdout",
     "output_type": "stream",
     "text": [
      "Mean Absolute Scaled Error: 1.279\n"
     ]
    }
   ],
   "source": [
    "#### MASE ###\n",
    "\n",
    "abs_errors = abs(exp_predictions - exp_test)\n",
    "mae_naive_list = []\n",
    "\n",
    "for x in range(len(exp_test)):\n",
    "    insample_data = exp_spot[x:-(len(exp_test)-x)]\n",
    "    mae_insample = np.mean(abs(insample_data.diff().dropna()))\n",
    "    mae_naive_list.append(mae_insample)\n",
    "\n",
    "mase = np.mean(abs_errors / mae_naive_list)\n",
    "\n",
    "print('Mean Absolute Scaled Error: %.3f' % mase)"
   ]
  },
  {
   "cell_type": "code",
   "execution_count": 67,
   "metadata": {},
   "outputs": [
    {
     "name": "stdout",
     "output_type": "stream",
     "text": [
      "Merton test: 1.105\n"
     ]
    }
   ],
   "source": [
    "### Merton test ###\n",
    "\n",
    "test_app = list(exp_test)\n",
    "test_app.insert(0, exp_train[-1]) ## append last of train data\n",
    "dir = np.array(np.sign(pd.DataFrame(test_app).diff().dropna()))\n",
    "\n",
    "pred_app = list(exp_predictions)\n",
    "\n",
    "test_shift = list(exp_test)\n",
    "test_shift.insert(0, exp_train[-1])\n",
    "test_shift.pop()\n",
    "\n",
    "dir_pred = np.array(np.sign([a - b for a, b in zip(pred_app,test_shift)]))\n",
    "\n",
    "q_minus = 0\n",
    "q_plus = 0\n",
    "pred_minus = 0\n",
    "pred_plus = 0\n",
    "\n",
    "for t in range(len(dir)):\n",
    "    if dir[t] == 1:\n",
    "        q_plus += 1\n",
    "        if dir_pred[t] == 1:\n",
    "            pred_plus += 1\n",
    "    if dir[t] == -1:\n",
    "        q_minus += 1\n",
    "        if dir_pred[t] == -1:\n",
    "            pred_minus += 1\n",
    "\n",
    "print('Merton test: %.3f' % ((pred_plus / q_plus) + (pred_minus / q_minus)))"
   ]
  },
  {
   "cell_type": "code",
   "execution_count": null,
   "metadata": {},
   "outputs": [],
   "source": []
  }
 ],
 "metadata": {
  "kernelspec": {
   "display_name": "Python 3.9.7 ('base')",
   "language": "python",
   "name": "python3"
  },
  "language_info": {
   "codemirror_mode": {
    "name": "ipython",
    "version": 3
   },
   "file_extension": ".py",
   "mimetype": "text/x-python",
   "name": "python",
   "nbconvert_exporter": "python",
   "pygments_lexer": "ipython3",
   "version": "3.9.7"
  },
  "orig_nbformat": 4,
  "vscode": {
   "interpreter": {
    "hash": "4166284f6c1be268893ecc7e1723c4ee59a7af301dc502cec5768712e1b57cd0"
   }
  }
 },
 "nbformat": 4,
 "nbformat_minor": 2
}
