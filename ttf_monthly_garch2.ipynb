{
 "cells": [
  {
   "cell_type": "code",
   "execution_count": 1,
   "metadata": {},
   "outputs": [],
   "source": [
    "# Start loading libraries\n",
    "\n",
    "#! pip install yfinance\n",
    "\n",
    "import matplotlib.pyplot as plt\n",
    "import numpy as np\n",
    "import pandas as pd\n",
    "import seaborn as sns\n",
    "\n",
    "#! pip install pmdarima\n",
    "import pmdarima as pm\n",
    "from pmdarima import model_selection\n",
    "from pmdarima.model_selection import SlidingWindowForecastCV\n",
    "\n",
    "import scipy\n",
    "import scipy.stats as stats\n",
    "import statsmodels.api as sm\n",
    "from statsmodels.tsa.stattools import adfuller\n",
    "from arch.unitroot import PhillipsPerron\n",
    "from arch.unitroot import KPSS\n",
    "\n",
    "from statsmodels.graphics.tsaplots import plot_pacf\n",
    "from statsmodels.graphics.tsaplots import plot_acf\n",
    "from statsmodels.tsa.arima.model import ARIMA\n",
    "#from statsmodels.graphics.tsaplots import plot_acf\n",
    "\n",
    "from sklearn.metrics import mean_squared_error\n",
    "from sklearn.metrics import mean_absolute_error\n",
    "from sklearn.metrics import mean_absolute_percentage_error\n",
    "\n",
    "import arch\n",
    "import math\n",
    "import statistics\n",
    "#from matplotlib.ticker import NullFormatter\n",
    "#import yfinance as yf\n",
    "#import warnings; warnings.simplefilter('ignore')\n",
    "#%matplotlib inline"
   ]
  },
  {
   "cell_type": "code",
   "execution_count": 2,
   "metadata": {},
   "outputs": [],
   "source": [
    "xls_file = pd.ExcelFile(\"Data_monthly_final.xlsx\") # Read Excel\n",
    "df1=xls_file.parse(\"NatGas\") # Read the first sheet (Portfolio holdings)\n",
    "\n",
    "#df1[\"Timestamp\"] = df1[\"Date\"].astype('datetime64[ns]') # Convert column to date format\n",
    "df1 = df1.set_index(['Timestamp']) # use first column as index\n",
    "\n",
    "#df1.to_excel(\"values.xlsx\")  #print to excel\n",
    "\n"
   ]
  },
  {
   "cell_type": "code",
   "execution_count": 3,
   "metadata": {},
   "outputs": [
    {
     "name": "stderr",
     "output_type": "stream",
     "text": [
      "c:\\Users\\tatuh\\anaconda3\\lib\\site-packages\\pandas\\core\\arraylike.py:364: RuntimeWarning: divide by zero encountered in log\n",
      "  result = getattr(ufunc, method)(*inputs, **kwargs)\n"
     ]
    },
    {
     "data": {
      "text/plain": [
       "<AxesSubplot:xlabel='Timestamp'>"
      ]
     },
     "execution_count": 3,
     "metadata": {},
     "output_type": "execute_result"
    },
    {
     "data": {
      "image/png": "[encoded data removed]",
      "text/plain": [
       "<Figure size 432x288 with 1 Axes>"
      ]
     },
     "metadata": {
      "needs_background": "light"
     },
     "output_type": "display_data"
    }
   ],
   "source": [
    "og = df1[\"TRNLTTFD1 USD\"]\n",
    "spot = df1[\"TRNLTTFD1 USD\"]\n",
    "spot = np.log(spot)\n",
    "spot = spot.loc['2004-01-31':'2022-11-30'].diff().dropna()\n",
    "spot_train = spot.loc[:'2016-07-31']\n",
    "spot_train.plot()"
   ]
  },
  {
   "cell_type": "code",
   "execution_count": 4,
   "metadata": {},
   "outputs": [],
   "source": [
    "### original series\n",
    "\n",
    "spotog = og.loc['2004-01-31':'2022-11-30'].dropna()\n",
    "trainog, testog = model_selection.train_test_split(spotog, train_size=((spot_train.shape[0])+1))"
   ]
  },
  {
   "cell_type": "code",
   "execution_count": 5,
   "metadata": {},
   "outputs": [
    {
     "data": {
      "text/plain": [
       "Timestamp\n",
       "2016-08-31        4.108932\n",
       "2016-09-30        4.163738\n",
       "2016-10-31       19.305443\n",
       "2016-11-30        0.077240\n",
       "2016-12-31        2.245427\n",
       "                  ...     \n",
       "2022-07-31     1518.053029\n",
       "2022-08-31     1346.028422\n",
       "2022-09-30     5242.449271\n",
       "2022-10-31    17449.489275\n",
       "2022-11-30    13575.131198\n",
       "Name: TRNLTTFD1 USD, Length: 76, dtype: float64"
      ]
     },
     "execution_count": 5,
     "metadata": {},
     "output_type": "execute_result"
    }
   ],
   "source": [
    "### realized vol ###\n",
    "\n",
    "diff_series = og.loc['2004-01-31':'2022-11-30'].diff().dropna()\n",
    "traindiff, testdiff = model_selection.train_test_split(diff_series, train_size=((spot_train.shape[0])))\n",
    "realized_vol = testdiff**2\n",
    "realized_vol\n"
   ]
  },
  {
   "cell_type": "code",
   "execution_count": 6,
   "metadata": {},
   "outputs": [],
   "source": [
    "# Load the data and split it into separate pieces\n",
    "#data = np.array(spot.dropna())**2\n",
    "data = np.array(spot.dropna())\n",
    "train, test = model_selection.train_test_split(data, train_size=(spot_train.shape[0]))\n",
    "#train, test = model_selection.train_test_split(data, train_size=(spot.shape[0]-1))"
   ]
  },
  {
   "cell_type": "code",
   "execution_count": 7,
   "metadata": {},
   "outputs": [
    {
     "name": "stdout",
     "output_type": "stream",
     "text": [
      "Iteration:      1,   Func. Count:      5,   Neg. LLF: 90767.62919423934\n",
      "Iteration:      2,   Func. Count:     12,   Neg. LLF: -15.228588629185559\n",
      "Iteration:      3,   Func. Count:     17,   Neg. LLF: -50.4922553306824\n",
      "Iteration:      4,   Func. Count:     22,   Neg. LLF: -50.4922553306824\n",
      "Iteration:      5,   Func. Count:     27,   Neg. LLF: 831660.5819738262\n",
      "Iteration:      6,   Func. Count:     34,   Neg. LLF: -44.92344411703441\n",
      "Iteration:      7,   Func. Count:     39,   Neg. LLF: -50.4922553306824\n",
      "Iteration:      8,   Func. Count:     44,   Neg. LLF: 29606.982503333275\n",
      "Iteration:      9,   Func. Count:     51,   Neg. LLF: -56.317241670466494\n",
      "Iteration:     10,   Func. Count:     56,   Neg. LLF: -50.4922553306824\n",
      "Iteration:     11,   Func. Count:     61,   Neg. LLF: 47772.67893674657\n",
      "Iteration:     12,   Func. Count:     68,   Neg. LLF: -60.1470787664781\n",
      "Iteration:     13,   Func. Count:     72,   Neg. LLF: -59.40949804841746\n",
      "Iteration:     14,   Func. Count:     77,   Neg. LLF: 2095.6170215653983\n",
      "Iteration:     15,   Func. Count:     86,   Neg. LLF: -52.17794677895155\n",
      "Iteration:     16,   Func. Count:     92,   Neg. LLF: -61.127067060374785\n",
      "Optimization terminated successfully    (Exit mode 0)\n",
      "            Current function value: -61.12706743094715\n",
      "            Iterations: 20\n",
      "            Function evaluations: 92\n",
      "            Gradient evaluations: 16\n"
     ]
    }
   ],
   "source": [
    "garch = arch.arch_model(train,mean='Zero', vol='GARCH', p=1, q=1, rescale=False)\n",
    "#garch = arch.arch_model(train, vol='GARCH', p=1, q=1)\n",
    "results = garch.fit()"
   ]
  },
  {
   "cell_type": "code",
   "execution_count": 8,
   "metadata": {},
   "outputs": [
    {
     "name": "stdout",
     "output_type": "stream",
     "text": [
      "                       Zero Mean - GARCH Model Results                        \n",
      "==============================================================================\n",
      "Dep. Variable:                      y   R-squared:                       0.000\n",
      "Mean Model:                 Zero Mean   Adj. R-squared:                  0.007\n",
      "Vol Model:                      GARCH   Log-Likelihood:                61.1271\n",
      "Distribution:                  Normal   AIC:                          -116.254\n",
      "Method:            Maximum Likelihood   BIC:                          -107.222\n",
      "                                        No. Observations:                  150\n",
      "Date:                Mon, Nov 06 2023   Df Residuals:                      150\n",
      "Time:                        20:19:28   Df Model:                            0\n",
      "                               Volatility Model                              \n",
      "=============================================================================\n",
      "                 coef    std err          t      P>|t|       95.0% Conf. Int.\n",
      "-----------------------------------------------------------------------------\n",
      "omega      1.3327e-05  1.013e-03  1.315e-02      0.990 [-1.973e-03,2.000e-03]\n",
      "alpha[1]   3.8477e-06  3.890e-02  9.890e-05      1.000 [-7.625e-02,7.626e-02]\n",
      "beta[1]        0.9922  1.744e-02     56.886      0.000      [  0.958,  1.026]\n",
      "=============================================================================\n",
      "\n",
      "Covariance estimator: robust\n"
     ]
    }
   ],
   "source": [
    "print(results.summary())"
   ]
  },
  {
   "cell_type": "code",
   "execution_count": 9,
   "metadata": {},
   "outputs": [
    {
     "data": {
      "image/png": "[encoded data removed]",
      "text/plain": [
       "<Figure size 432x288 with 2 Axes>"
      ]
     },
     "metadata": {
      "needs_background": "light"
     },
     "output_type": "display_data"
    }
   ],
   "source": [
    "# Plot the standardized residuals\n",
    "fig = results.plot(annualize='M')\n",
    "#fig = results.plot()\n",
    "plt.show()"
   ]
  },
  {
   "cell_type": "code",
   "execution_count": 10,
   "metadata": {},
   "outputs": [
    {
     "data": {
      "text/plain": [
       "0.013111592778566964"
      ]
     },
     "execution_count": 10,
     "metadata": {},
     "output_type": "execute_result"
    }
   ],
   "source": [
    "yhat = results.forecast(horizon=1)\n",
    "#np.exp(yhat.variance.values)\n",
    "#math.sqrt(yhat.variance.values.flatten())\n",
    "#math.sqrt(yhat.variance.values.flatten()[0])\n",
    "#np.exp(yhat.variance.values.flatten()[0])\n",
    "yhat.variance.values.flatten()[0]"
   ]
  },
  {
   "cell_type": "code",
   "execution_count": 11,
   "metadata": {},
   "outputs": [],
   "source": [
    "# Generate statistics and diagnostic plots\n",
    "\n",
    "#a= results.conditional_volatility\n",
    "#plt.plot(a)"
   ]
  },
  {
   "cell_type": "code",
   "execution_count": 12,
   "metadata": {},
   "outputs": [
    {
     "data": {
      "text/plain": [
       "[1.8362087945697692,\n",
       " 1.5296918822137204,\n",
       " 1.7375862448666286,\n",
       " 2.2873274040029727,\n",
       " 2.2265343514587492,\n",
       " 2.718524090199182,\n",
       " 2.416297008411483,\n",
       " 2.0163662855201103,\n",
       " 1.782152909694851,\n",
       " 1.916484702623265,\n",
       " 1.809661877119602,\n",
       " 1.7785381009761139,\n",
       " 1.741855543690349,\n",
       " 2.5228489887239576,\n",
       " 2.346126980204758,\n",
       " 2.437682792233815,\n",
       " 2.843388493893382,\n",
       " 2.577477079171164,\n",
       " 2.3741481257748056,\n",
       " 9.606800400011764,\n",
       " 10.18963233961654,\n",
       " 4.7775038575517,\n",
       " 4.613616597983732,\n",
       " 4.427968889235782,\n",
       " 4.507878078733974,\n",
       " 5.63349372278741,\n",
       " 5.519999072143968,\n",
       " 5.048401966259487,\n",
       " 4.825439518717992,\n",
       " 4.4443327434922,\n",
       " 4.050452989567116,\n",
       " 3.7017486427445796,\n",
       " 3.2410149804365105,\n",
       " 2.825342233903797,\n",
       " 2.6489201812894656,\n",
       " 1.9385526615230297,\n",
       " 1.989508914487546,\n",
       " 1.819955785600813,\n",
       " 1.6163608012745065,\n",
       " 2.196332740126552,\n",
       " 4.495078090972246,\n",
       " 2.845342907299786,\n",
       " 2.0851836101659345,\n",
       " 1.819586848349882,\n",
       " 1.6918046704353387,\n",
       " 1.307409466648207,\n",
       " 1.158999193091967,\n",
       " 1.988379547415315,\n",
       " 1.0735156088073046,\n",
       " 5.4679197868831135,\n",
       " 3.801841597794409,\n",
       " 3.545393774518958,\n",
       " 3.7605414287498604,\n",
       " 5.227866504811455,\n",
       " 4.69754448164926,\n",
       " 4.20903522418395,\n",
       " 4.607373254664022,\n",
       " 6.460382577875269,\n",
       " 6.245879534981526,\n",
       " 10.187371625778773,\n",
       " 10.318757344376266,\n",
       " 13.19992778726239,\n",
       " 52.629802045225176,\n",
       " 31.488005182406155,\n",
       " 42.65756487186307,\n",
       " 26.619226711328082,\n",
       " 27.348470070491643,\n",
       " 27.55936634923819,\n",
       " 32.19782057380647,\n",
       " 29.37519001670978,\n",
       " 19.91763734365321,\n",
       " 69.21845964773325,\n",
       " 64.87577562113913,\n",
       " 61.70212784651844,\n",
       " 54.746298281829695,\n",
       " 96.22040785795113]"
      ]
     },
     "execution_count": 12,
     "metadata": {},
     "output_type": "execute_result"
    }
   ],
   "source": [
    "#### One-step-ahead predictions of volatility ###\n",
    "\n",
    "predicted_returns = []\n",
    "\n",
    "for i in range(len(test)):\n",
    "    insample_data = data[i:-(len(test)-i)]\n",
    "    \n",
    "    garch = arch.arch_model(insample_data,mean='Zero', vol='GARCH', p=1, q=1, rescale=False)\n",
    "    #garch = arch.arch_model(train, vol='GARCH', p=1, q=1)\n",
    "    results = garch.fit(disp='off')\n",
    "\n",
    "    yhat = results.forecast(horizon=1)\n",
    "    log_std = math.sqrt(yhat.variance.values.flatten()[0])\n",
    "\n",
    "    const_std = np.exp(log_std)\n",
    "    predicted_returns.append(const_std)\n",
    "\n",
    "\n",
    "test_shift3 = list(testog)\n",
    "test_shift3.insert(0, trainog[-1])\n",
    "test_shift3.pop()\n",
    "\n",
    "predicted_std_price = list((test_shift3 * np.array(predicted_returns)) - test_shift3)\n",
    "\n",
    "predicted_vol = pd.DataFrame(predicted_std_price)**2\n",
    "predicted_std_price\n"
   ]
  },
  {
   "cell_type": "code",
   "execution_count": 13,
   "metadata": {},
   "outputs": [],
   "source": [
    "def smape_kun(y_true, y_pred):\n",
    "    return np.mean(np.abs(y_pred - y_true) / ((np.abs(y_pred) + np.abs(y_true))/2))*100"
   ]
  },
  {
   "cell_type": "code",
   "execution_count": 14,
   "metadata": {},
   "outputs": [
    {
     "data": {
      "image/png": "[encoded data removed]",
      "text/plain": [
       "<Figure size 432x288 with 1 Axes>"
      ]
     },
     "metadata": {
      "needs_background": "light"
     },
     "output_type": "display_data"
    }
   ],
   "source": [
    "exp_predictions = np.array(predicted_vol)\n",
    "exp_spot= diff_series**2\n",
    "exp_test = np.array(realized_vol)\n",
    "exp_train = traindiff**2\n",
    "\n",
    "#exp_predictions = np.sqrt(exp_predictions)\n",
    "#exp_spot= np.sqrt(exp_spot)\n",
    "#exp_test = np.sqrt(exp_test)\n",
    "#exp_train = np.sqrt(exp_train)\n",
    "\n",
    "x_axis = np.arange(exp_spot.shape[0])\n",
    "n_test = exp_predictions.shape[0]\n",
    "\n",
    "plt.plot(x_axis, exp_spot, alpha=0.75, c='b')\n",
    "plt.plot(x_axis[-n_test:], exp_predictions, alpha=0.75, c='g')  # Forecasts\n",
    "plt.title(\"Cross-validated forecasts\")\n",
    "plt.show()"
   ]
  },
  {
   "cell_type": "code",
   "execution_count": 15,
   "metadata": {},
   "outputs": [
    {
     "name": "stdout",
     "output_type": "stream",
     "text": [
      "Mean Squared Error: 3598689.008\n",
      "Mean Absolute Error: 520.102\n",
      "Mean Absolute Percentage Error: 4057.425\n",
      "Symmetric Mean Absolute Percentage Error: 142.880\n"
     ]
    }
   ],
   "source": [
    "error = mean_squared_error(exp_test, exp_predictions)\n",
    "print('Mean Squared Error: %.3f' % error)\n",
    "error2 = mean_absolute_error(exp_test, exp_predictions)\n",
    "print('Mean Absolute Error: %.3f' % error2)\n",
    "error3 = mean_absolute_percentage_error(exp_test, exp_predictions)\n",
    "print('Mean Absolute Percentage Error: %.3f' % (error3*100))\n",
    "error4 = smape_kun(exp_test, exp_predictions)\n",
    "print('Symmetric Mean Absolute Percentage Error: %.3f' % error4)"
   ]
  },
  {
   "cell_type": "code",
   "execution_count": 16,
   "metadata": {},
   "outputs": [],
   "source": [
    "### same with built-in function ###\n",
    "\n",
    "#predictions22 = model_selection.cross_val_score(\n",
    "#    ar, spot, scoring='mean_absolute_error', cv=cv, verbose=0)\n",
    "#np.average(predictions22)"
   ]
  },
  {
   "cell_type": "code",
   "execution_count": 17,
   "metadata": {},
   "outputs": [
    {
     "name": "stdout",
     "output_type": "stream",
     "text": [
      "Mean Absolute Scaled Error: 20.842\n"
     ]
    }
   ],
   "source": [
    "#### MASE ###\n",
    "\n",
    "abs_errors = abs(exp_predictions - exp_test)\n",
    "mae_naive_list = []\n",
    "\n",
    "for x in range(len(exp_test)):\n",
    "    insample_data = exp_spot[x:-(len(exp_test)-x)]\n",
    "    mae_insample = np.mean(abs(insample_data.diff().dropna()))\n",
    "    mae_naive_list.append(mae_insample)\n",
    "\n",
    "mase = np.mean(abs_errors / mae_naive_list)\n",
    "\n",
    "print('Mean Absolute Scaled Error: %.3f' % mase)"
   ]
  },
  {
   "cell_type": "code",
   "execution_count": 18,
   "metadata": {},
   "outputs": [
    {
     "name": "stdout",
     "output_type": "stream",
     "text": [
      "Merton test: 1.326\n"
     ]
    }
   ],
   "source": [
    "### Merton test ###\n",
    "\n",
    "test_app = list(exp_test)\n",
    "test_app.insert(0, exp_train[-1]) ## append last of train data\n",
    "dir = np.array(np.sign(pd.DataFrame(test_app).diff().dropna()))\n",
    "\n",
    "pred_app = list(exp_predictions)\n",
    "\n",
    "test_shift = list(exp_test)\n",
    "test_shift.insert(0, exp_train[-1])\n",
    "test_shift.pop()\n",
    "\n",
    "dir_pred = np.array(np.sign([a - b for a, b in zip(pred_app,test_shift)]))\n",
    "\n",
    "q_minus = 0\n",
    "q_plus = 0\n",
    "pred_minus = 0\n",
    "pred_plus = 0\n",
    "\n",
    "for t in range(len(dir)):\n",
    "    if dir[t] == 1:\n",
    "        q_plus += 1\n",
    "        if dir_pred[t] == 1:\n",
    "            pred_plus += 1\n",
    "    if dir[t] == -1:\n",
    "        q_minus += 1\n",
    "        if dir_pred[t] == -1:\n",
    "            pred_minus += 1\n",
    "\n",
    "print('Merton test: %.3f' % ((pred_plus / q_plus) + (pred_minus / q_minus)))"
   ]
  },
  {
   "cell_type": "code",
   "execution_count": null,
   "metadata": {},
   "outputs": [],
   "source": []
  }
 ],
 "metadata": {
  "kernelspec": {
   "display_name": "Python 3.9.7 ('base')",
   "language": "python",
   "name": "python3"
  },
  "language_info": {
   "codemirror_mode": {
    "name": "ipython",
    "version": 3
   },
   "file_extension": ".py",
   "mimetype": "text/x-python",
   "name": "python",
   "nbconvert_exporter": "python",
   "pygments_lexer": "ipython3",
   "version": "3.9.7"
  },
  "orig_nbformat": 4,
  "vscode": {
   "interpreter": {
    "hash": "4166284f6c1be268893ecc7e1723c4ee59a7af301dc502cec5768712e1b57cd0"
   }
  }
 },
 "nbformat": 4,
 "nbformat_minor": 2
}
