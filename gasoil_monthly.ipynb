{
 "cells": [
  {
   "cell_type": "code",
   "execution_count": 1,
   "metadata": {},
   "outputs": [],
   "source": [
    "# Start loading libraries\n",
    "\n",
    "#! pip install yfinance\n",
    "\n",
    "import matplotlib.pyplot as plt\n",
    "import numpy as np\n",
    "import pandas as pd\n",
    "import seaborn as sns\n",
    "\n",
    "#! pip install pmdarima\n",
    "import pmdarima as pm\n",
    "from pmdarima import model_selection\n",
    "\n",
    "import scipy\n",
    "import statsmodels.api as sm\n",
    "from statsmodels.tsa.stattools import adfuller\n",
    "from arch.unitroot import PhillipsPerron\n",
    "from arch.unitroot import KPSS\n",
    "\n",
    "from statsmodels.graphics.tsaplots import plot_pacf\n",
    "from statsmodels.graphics.tsaplots import plot_acf\n",
    "#from statsmodels.graphics.tsaplots import plot_acf\n",
    "\n",
    "#from matplotlib.ticker import NullFormatter\n",
    "#import yfinance as yf\n",
    "#import warnings; warnings.simplefilter('ignore')\n",
    "#%matplotlib inline"
   ]
  },
  {
   "cell_type": "code",
   "execution_count": 2,
   "metadata": {},
   "outputs": [
    {
     "data": {
      "text/html": [
       "<div>\n",
       "<style scoped>\n",
       "    .dataframe tbody tr th:only-of-type {\n",
       "        vertical-align: middle;\n",
       "    }\n",
       "\n",
       "    .dataframe tbody tr th {\n",
       "        vertical-align: top;\n",
       "    }\n",
       "\n",
       "    .dataframe thead th {\n",
       "        text-align: right;\n",
       "    }\n",
       "</style>\n",
       "<table border=\"1\" class=\"dataframe\">\n",
       "  <thead>\n",
       "    <tr style=\"text-align: right;\">\n",
       "      <th></th>\n",
       "      <th>LGOc1</th>\n",
       "      <th>LGOc3</th>\n",
       "      <th>LGOc6</th>\n",
       "      <th>LGOc9</th>\n",
       "      <th>LGOc12</th>\n",
       "    </tr>\n",
       "  </thead>\n",
       "  <tbody>\n",
       "    <tr>\n",
       "      <th>count</th>\n",
       "      <td>415.000000</td>\n",
       "      <td>415.000000</td>\n",
       "      <td>415.000000</td>\n",
       "      <td>415.000000</td>\n",
       "      <td>358.000000</td>\n",
       "    </tr>\n",
       "    <tr>\n",
       "      <th>mean</th>\n",
       "      <td>443.368675</td>\n",
       "      <td>441.331928</td>\n",
       "      <td>440.084337</td>\n",
       "      <td>439.361157</td>\n",
       "      <td>482.122207</td>\n",
       "    </tr>\n",
       "    <tr>\n",
       "      <th>std</th>\n",
       "      <td>292.224335</td>\n",
       "      <td>288.605805</td>\n",
       "      <td>285.924459</td>\n",
       "      <td>284.277162</td>\n",
       "      <td>281.469537</td>\n",
       "    </tr>\n",
       "    <tr>\n",
       "      <th>min</th>\n",
       "      <td>94.500000</td>\n",
       "      <td>99.250000</td>\n",
       "      <td>105.250000</td>\n",
       "      <td>112.000000</td>\n",
       "      <td>117.750000</td>\n",
       "    </tr>\n",
       "    <tr>\n",
       "      <th>25%</th>\n",
       "      <td>177.625000</td>\n",
       "      <td>175.375000</td>\n",
       "      <td>175.875000</td>\n",
       "      <td>174.500000</td>\n",
       "      <td>192.875000</td>\n",
       "    </tr>\n",
       "    <tr>\n",
       "      <th>50%</th>\n",
       "      <td>370.250000</td>\n",
       "      <td>374.000000</td>\n",
       "      <td>384.500000</td>\n",
       "      <td>390.250000</td>\n",
       "      <td>495.750000</td>\n",
       "    </tr>\n",
       "    <tr>\n",
       "      <th>75%</th>\n",
       "      <td>626.375000</td>\n",
       "      <td>635.125000</td>\n",
       "      <td>644.375000</td>\n",
       "      <td>640.000000</td>\n",
       "      <td>678.187500</td>\n",
       "    </tr>\n",
       "    <tr>\n",
       "      <th>max</th>\n",
       "      <td>1262.500000</td>\n",
       "      <td>1277.250000</td>\n",
       "      <td>1299.750000</td>\n",
       "      <td>1302.500000</td>\n",
       "      <td>1289.000000</td>\n",
       "    </tr>\n",
       "  </tbody>\n",
       "</table>\n",
       "</div>"
      ],
      "text/plain": [
       "             LGOc1        LGOc3        LGOc6        LGOc9       LGOc12\n",
       "count   415.000000   415.000000   415.000000   415.000000   358.000000\n",
       "mean    443.368675   441.331928   440.084337   439.361157   482.122207\n",
       "std     292.224335   288.605805   285.924459   284.277162   281.469537\n",
       "min      94.500000    99.250000   105.250000   112.000000   117.750000\n",
       "25%     177.625000   175.375000   175.875000   174.500000   192.875000\n",
       "50%     370.250000   374.000000   384.500000   390.250000   495.750000\n",
       "75%     626.375000   635.125000   644.375000   640.000000   678.187500\n",
       "max    1262.500000  1277.250000  1299.750000  1302.500000  1289.000000"
      ]
     },
     "execution_count": 2,
     "metadata": {},
     "output_type": "execute_result"
    }
   ],
   "source": [
    "xls_file = pd.ExcelFile(\"Data_monthly_final.xlsx\") # Read Excel\n",
    "df1=xls_file.parse(\"Gasoil\") # Read the first sheet (Portfolio holdings)\n",
    "\n",
    "#df1[\"Timestamp\"] = df1[\"Date\"].astype('datetime64[ns]') # Convert column to date format\n",
    "df1 = df1.set_index(['Timestamp']) # use first column as index\n",
    "\n",
    "#df1.to_excel(\"values.xlsx\")  #print to excel\n",
    "\n",
    "\n",
    "df1.describe()"
   ]
  },
  {
   "cell_type": "code",
   "execution_count": 3,
   "metadata": {},
   "outputs": [
    {
     "data": {
      "text/plain": [
       "<AxesSubplot:xlabel='Timestamp'>"
      ]
     },
     "execution_count": 3,
     "metadata": {},
     "output_type": "execute_result"
    },
    {
     "data": {
      "image/png": "[encoded data removed]",
      "text/plain": [
       "<Figure size 432x288 with 1 Axes>"
      ]
     },
     "metadata": {
      "needs_background": "light"
     },
     "output_type": "display_data"
    }
   ],
   "source": [
    "spot = df1[\"LGOc1\"]\n",
    "#spot = np.log(spot)\n",
    "spot = spot.loc['2004-01-31':'2022-11-30']\n",
    "spot_train = spot.loc[:'2016-07-31']\n",
    "spot_train.plot()"
   ]
  },
  {
   "cell_type": "code",
   "execution_count": 4,
   "metadata": {},
   "outputs": [
    {
     "data": {
      "text/plain": [
       "count    151.000000\n",
       "mean       6.463176\n",
       "std        0.358866\n",
       "min        5.554896\n",
       "25%        6.238325\n",
       "50%        6.454412\n",
       "75%        6.815365\n",
       "max        7.140849\n",
       "Name: LGOc1, dtype: float64"
      ]
     },
     "execution_count": 4,
     "metadata": {},
     "output_type": "execute_result"
    }
   ],
   "source": [
    "#statistics\n",
    "\n",
    "#mean\n",
    "#sd\n",
    "#skewness\n",
    "#kurtosis\n",
    "#jb test\n",
    "#Ljung Box Q(6) and Q^2(6)\n",
    "#observations\n",
    "\n",
    "spot_train.describe()\n",
    "#spot.dropna().describe()"
   ]
  },
  {
   "cell_type": "code",
   "execution_count": 5,
   "metadata": {},
   "outputs": [
    {
     "name": "stdout",
     "output_type": "stream",
     "text": [
      "Skewness spot: -0.3860894639921177\n",
      "Skewness logs: -0.4894899553105847\n",
      "Kurtosis spot: 2.338353274792951\n",
      "Kurtosis logs: 2.4989417257210262\n",
      "JB spot: Jarque_beraResult(statistic=6.50581414815893, pvalue=0.03866165202049143)\n",
      "JB logs: Jarque_beraResult(statistic=7.60952583346299, pvalue=0.022264475074902812)\n",
      "Q(6) spot:       lb_stat      lb_pvalue\n",
      "6  547.733737  4.348614e-115\n",
      "Q(6) logs:       lb_stat      lb_pvalue\n",
      "6  540.988147  1.237123e-113\n"
     ]
    }
   ],
   "source": [
    "print(\"Skewness spot:\", scipy.stats.skew(spot_train.dropna(), axis=0, bias=True))\n",
    "print(\"Skewness logs:\", scipy.stats.skew(np.log(spot_train.dropna()), axis=0, bias=True))\n",
    "print(\"Kurtosis spot:\", scipy.stats.kurtosis(spot_train.dropna(), axis=0, fisher=False, bias=True))\n",
    "print(\"Kurtosis logs:\", scipy.stats.kurtosis(np.log(spot_train.dropna()), fisher=False, axis=0, bias=True))\n",
    "\n",
    "print(\"JB spot:\", scipy.stats.jarque_bera(spot_train.dropna()))\n",
    "print(\"JB logs:\", scipy.stats.jarque_bera(np.log(spot_train.dropna())))\n",
    "#The Jarque-Bera Test is typically used for large datasets (n > 2000) in which other normality tests (like the Shapiro-Wilk test) are unreliable.\n",
    "\n",
    "print(\"Q(6) spot:\", sm.stats.acorr_ljungbox(spot_train.dropna(), lags=[6]))\n",
    "print(\"Q(6) logs:\", sm.stats.acorr_ljungbox(np.log(spot_train.dropna()), lags=[6]))"
   ]
  },
  {
   "cell_type": "code",
   "execution_count": 6,
   "metadata": {},
   "outputs": [
    {
     "name": "stdout",
     "output_type": "stream",
     "text": [
      "ADF spot: (-2.5945943039505095, 0.09411966982093789, 2, 148, {'1%': -3.4753253063120644, '5%': -2.881274703275226, '10%': -2.5772928360116873}, -269.8613899758993)\n",
      "ADF logs: (-2.6422027029143016, 0.08458468992884544, 2, 148, {'1%': -3.4753253063120644, '5%': -2.881274703275226, '10%': -2.5772928360116873}, -773.3349723787401)\n",
      "PP spot:      Phillips-Perron Test (Z-tau)    \n",
      "=====================================\n",
      "Test Statistic                 -2.480\n",
      "P-value                         0.120\n",
      "Lags                               14\n",
      "-------------------------------------\n",
      "\n",
      "Trend: Constant\n",
      "Critical Values: -3.47 (1%), -2.88 (5%), -2.58 (10%)\n",
      "Null Hypothesis: The process contains a unit root.\n",
      "Alternative Hypothesis: The process is weakly stationary.\n",
      "PP logs:      Phillips-Perron Test (Z-tau)    \n",
      "=====================================\n",
      "Test Statistic                 -2.572\n",
      "P-value                         0.099\n",
      "Lags                               14\n",
      "-------------------------------------\n",
      "\n",
      "Trend: Constant\n",
      "Critical Values: -3.47 (1%), -2.88 (5%), -2.58 (10%)\n",
      "Null Hypothesis: The process contains a unit root.\n",
      "Alternative Hypothesis: The process is weakly stationary.\n"
     ]
    }
   ],
   "source": [
    "#stationarity\n",
    "\n",
    "#augmented Dickie-Fuller\n",
    "#PP test - Phillips and Perron\n",
    "#KPSS\n",
    "\n",
    "print(\"ADF spot:\", adfuller(spot_train.dropna()))\n",
    "print(\"ADF logs:\", adfuller(np.log(spot_train.dropna())))\n",
    "\n",
    "print(\"PP spot:\", PhillipsPerron(spot_train.dropna()).summary().as_text())\n",
    "print(\"PP logs:\", PhillipsPerron(np.log(spot_train.dropna())).summary().as_text())\n",
    "\n"
   ]
  },
  {
   "cell_type": "code",
   "execution_count": 7,
   "metadata": {},
   "outputs": [
    {
     "name": "stdout",
     "output_type": "stream",
     "text": [
      "KPSS spot:     KPSS Stationarity Test Results   \n",
      "=====================================\n",
      "Test Statistic                  0.452\n",
      "P-value                         0.053\n",
      "Lags                                8\n",
      "-------------------------------------\n",
      "\n",
      "Trend: Constant\n",
      "Critical Values: 0.74 (1%), 0.46 (5%), 0.35 (10%)\n",
      "Null Hypothesis: The process is weakly stationary.\n",
      "Alternative Hypothesis: The process contains a unit root.\n",
      "KPSS logs:     KPSS Stationarity Test Results   \n",
      "=====================================\n",
      "Test Statistic                  0.453\n",
      "P-value                         0.053\n",
      "Lags                                8\n",
      "-------------------------------------\n",
      "\n",
      "Trend: Constant\n",
      "Critical Values: 0.74 (1%), 0.46 (5%), 0.35 (10%)\n",
      "Null Hypothesis: The process is weakly stationary.\n",
      "Alternative Hypothesis: The process contains a unit root.\n"
     ]
    }
   ],
   "source": [
    "\n",
    "print(\"KPSS spot:\", KPSS(spot_train.dropna()).summary().as_text())\n",
    "print(\"KPSS logs:\", KPSS(np.log(spot_train.dropna())).summary().as_text())"
   ]
  },
  {
   "cell_type": "code",
   "execution_count": 8,
   "metadata": {},
   "outputs": [
    {
     "name": "stdout",
     "output_type": "stream",
     "text": [
      "ACF and PACF spot:\n",
      "ACF and PACF logs:\n"
     ]
    },
    {
     "name": "stderr",
     "output_type": "stream",
     "text": [
      "c:\\Users\\tatuh\\anaconda3\\lib\\site-packages\\statsmodels\\graphics\\tsaplots.py:348: FutureWarning: The default method 'yw' can produce PACF values outside of the [-1,1] interval. After 0.13, the default will change tounadjusted Yule-Walker ('ywm'). You can use this method now by setting method='ywm'.\n",
      "  warnings.warn(\n",
      "c:\\Users\\tatuh\\anaconda3\\lib\\site-packages\\statsmodels\\graphics\\tsaplots.py:348: FutureWarning: The default method 'yw' can produce PACF values outside of the [-1,1] interval. After 0.13, the default will change tounadjusted Yule-Walker ('ywm'). You can use this method now by setting method='ywm'.\n",
      "  warnings.warn(\n"
     ]
    },
    {
     "data": {
      "image/png": "[encoded data removed]",
      "text/plain": [
       "<Figure size 432x288 with 1 Axes>"
      ]
     },
     "execution_count": 8,
     "metadata": {},
     "output_type": "execute_result"
    },
    {
     "data": {
      "image/png": "[encoded data removed]",
      "text/plain": [
       "<Figure size 432x288 with 1 Axes>"
      ]
     },
     "metadata": {
      "needs_background": "light"
     },
     "output_type": "display_data"
    },
    {
     "data": {
      "image/png": "[encoded data removed]",
      "text/plain": [
       "<Figure size 432x288 with 1 Axes>"
      ]
     },
     "metadata": {
      "needs_background": "light"
     },
     "output_type": "display_data"
    },
    {
     "data": {
      "image/png": "[encoded data removed]",
      "text/plain": [
       "<Figure size 432x288 with 1 Axes>"
      ]
     },
     "metadata": {
      "needs_background": "light"
     },
     "output_type": "display_data"
    },
    {
     "data": {
      "image/png": "[encoded data removed]",
      "text/plain": [
       "<Figure size 432x288 with 1 Axes>"
      ]
     },
     "metadata": {
      "needs_background": "light"
     },
     "output_type": "display_data"
    }
   ],
   "source": [
    "#ACF and PACF\n",
    "\n",
    "print(\"ACF and PACF spot:\")\n",
    "plot_acf(spot_train.dropna(), lags = 20)\n",
    "plot_pacf(spot_train.dropna(), lags = 20)\n",
    "\n",
    "\n",
    "print(\"ACF and PACF logs:\")\n",
    "plot_acf(np.log(spot_train.dropna()), lags = 20)\n",
    "plot_pacf(np.log(spot_train.dropna()), lags = 20)\n",
    "\n"
   ]
  },
  {
   "cell_type": "code",
   "execution_count": 9,
   "metadata": {},
   "outputs": [
    {
     "data": {
      "text/plain": [
       "0.6782943507735172"
      ]
     },
     "execution_count": 9,
     "metadata": {},
     "output_type": "execute_result"
    },
    {
     "data": {
      "image/png": "[encoded data removed]",
      "text/plain": [
       "<Figure size 432x288 with 1 Axes>"
      ]
     },
     "metadata": {
      "needs_background": "light"
     },
     "output_type": "display_data"
    }
   ],
   "source": [
    "spot_train.hist()\n",
    "0.6782943507735172"
   ]
  },
  {
   "cell_type": "code",
   "execution_count": 10,
   "metadata": {},
   "outputs": [
    {
     "data": {
      "text/plain": [
       "<AxesSubplot:>"
      ]
     },
     "execution_count": 10,
     "metadata": {},
     "output_type": "execute_result"
    },
    {
     "data": {
      "image/png": "[encoded data removed]",
      "text/plain": [
       "<Figure size 432x288 with 1 Axes>"
      ]
     },
     "metadata": {
      "needs_background": "light"
     },
     "output_type": "display_data"
    }
   ],
   "source": [
    "np.log(spot_train).hist()"
   ]
  },
  {
   "cell_type": "code",
   "execution_count": 11,
   "metadata": {},
   "outputs": [],
   "source": [
    "# Load the data and split it into separate pieces\n",
    "data = np.array(spot.dropna())\n",
    "train, test = model_selection.train_test_split(data, train_size=(spot_train.shape[0]))\n",
    "#train, test = model_selection.train_test_split(data, train_size=(spot.shape[0]-1))"
   ]
  },
  {
   "cell_type": "code",
   "execution_count": 12,
   "metadata": {},
   "outputs": [
    {
     "name": "stdout",
     "output_type": "stream",
     "text": [
      "Performing stepwise search to minimize aic\n",
      " ARIMA(2,1,2)(0,0,0)[0] intercept   : AIC=-286.847, Time=0.06 sec\n",
      " ARIMA(0,1,0)(0,0,0)[0] intercept   : AIC=-282.858, Time=0.02 sec\n",
      " ARIMA(1,1,0)(0,0,0)[0] intercept   : AIC=-288.103, Time=0.02 sec\n",
      " ARIMA(0,1,1)(0,0,0)[0] intercept   : AIC=-286.252, Time=0.02 sec\n",
      " ARIMA(0,1,0)(0,0,0)[0]             : AIC=-284.757, Time=0.02 sec\n",
      " ARIMA(2,1,0)(0,0,0)[0] intercept   : AIC=-287.746, Time=0.03 sec\n",
      " ARIMA(1,1,1)(0,0,0)[0] intercept   : AIC=-286.790, Time=0.04 sec\n",
      " ARIMA(2,1,1)(0,0,0)[0] intercept   : AIC=-281.452, Time=0.05 sec\n",
      " ARIMA(1,1,0)(0,0,0)[0]             : AIC=-290.050, Time=0.02 sec\n",
      " ARIMA(2,1,0)(0,0,0)[0]             : AIC=-289.708, Time=0.03 sec\n",
      " ARIMA(1,1,1)(0,0,0)[0]             : AIC=-288.751, Time=0.03 sec\n",
      " ARIMA(0,1,1)(0,0,0)[0]             : AIC=-288.393, Time=0.02 sec\n",
      " ARIMA(2,1,1)(0,0,0)[0]             : AIC=-284.041, Time=0.03 sec\n",
      "\n",
      "Best model:  ARIMA(1,1,0)(0,0,0)[0]          \n",
      "Total fit time: 0.394 seconds\n"
     ]
    },
    {
     "data": {
      "image/png": "[encoded data removed]",
      "text/plain": [
       "<Figure size 432x288 with 1 Axes>"
      ]
     },
     "metadata": {
      "needs_background": "light"
     },
     "output_type": "display_data"
    }
   ],
   "source": [
    "# Fit a simple auto_arima model\n",
    "arima = pm.auto_arima(train, error_action='ignore', trace=True,\n",
    "                      suppress_warnings=True, maxiter=5,\n",
    "                      seasonal=False)\n",
    "\n",
    "#arima = pm.auto_arima(train, error_action='ignore', trace=True,\n",
    "                      #suppress_warnings=True, maxiter=5,\n",
    "                      #seasonal=True, m=12)\n",
    "\n",
    "# #############################################################################\n",
    "# Plot actual test vs. forecasts:\n",
    "x = np.arange(test.shape[0])\n",
    "plt.scatter(x, test, marker='x')\n",
    "plt.plot(x, arima.predict(n_periods=test.shape[0]))\n",
    "plt.title('Actual test samples vs. forecasts')\n",
    "plt.show()"
   ]
  },
  {
   "cell_type": "code",
   "execution_count": 21,
   "metadata": {},
   "outputs": [
    {
     "data": {
      "text/html": [
       "<table class=\"simpletable\">\n",
       "<caption>SARIMAX Results</caption>\n",
       "<tr>\n",
       "  <th>Dep. Variable:</th>           <td>y</td>        <th>  No. Observations:  </th>    <td>151</td>  \n",
       "</tr>\n",
       "<tr>\n",
       "  <th>Model:</th>           <td>SARIMAX(1, 1, 0)</td> <th>  Log Likelihood     </th> <td>-818.602</td>\n",
       "</tr>\n",
       "<tr>\n",
       "  <th>Date:</th>            <td>Sat, 31 Dec 2022</td> <th>  AIC                </th> <td>1641.203</td>\n",
       "</tr>\n",
       "<tr>\n",
       "  <th>Time:</th>                <td>11:10:35</td>     <th>  BIC                </th> <td>1647.225</td>\n",
       "</tr>\n",
       "<tr>\n",
       "  <th>Sample:</th>                  <td>0</td>        <th>  HQIC               </th> <td>1643.650</td>\n",
       "</tr>\n",
       "<tr>\n",
       "  <th></th>                      <td> - 151</td>      <th>                     </th>     <td> </td>   \n",
       "</tr>\n",
       "<tr>\n",
       "  <th>Covariance Type:</th>        <td>opg</td>       <th>                     </th>     <td> </td>   \n",
       "</tr>\n",
       "</table>\n",
       "<table class=\"simpletable\">\n",
       "<tr>\n",
       "     <td></td>       <th>coef</th>     <th>std err</th>      <th>z</th>      <th>P>|z|</th>  <th>[0.025</th>    <th>0.975]</th>  \n",
       "</tr>\n",
       "<tr>\n",
       "  <th>ar.L1</th>  <td>    0.2877</td> <td>    0.074</td> <td>    3.902</td> <td> 0.000</td> <td>    0.143</td> <td>    0.432</td>\n",
       "</tr>\n",
       "<tr>\n",
       "  <th>sigma2</th> <td> 3232.7231</td> <td>  301.098</td> <td>   10.736</td> <td> 0.000</td> <td> 2642.582</td> <td> 3822.864</td>\n",
       "</tr>\n",
       "</table>\n",
       "<table class=\"simpletable\">\n",
       "<tr>\n",
       "  <th>Ljung-Box (L1) (Q):</th>     <td>0.09</td> <th>  Jarque-Bera (JB):  </th> <td>26.27</td>\n",
       "</tr>\n",
       "<tr>\n",
       "  <th>Prob(Q):</th>                <td>0.77</td> <th>  Prob(JB):          </th> <td>0.00</td> \n",
       "</tr>\n",
       "<tr>\n",
       "  <th>Heteroskedasticity (H):</th> <td>1.06</td> <th>  Skew:              </th> <td>-0.64</td>\n",
       "</tr>\n",
       "<tr>\n",
       "  <th>Prob(H) (two-sided):</th>    <td>0.83</td> <th>  Kurtosis:          </th> <td>4.59</td> \n",
       "</tr>\n",
       "</table><br/><br/>Warnings:<br/>[1] Covariance matrix calculated using the outer product of gradients (complex-step)."
      ],
      "text/plain": [
       "<class 'statsmodels.iolib.summary.Summary'>\n",
       "\"\"\"\n",
       "                               SARIMAX Results                                \n",
       "==============================================================================\n",
       "Dep. Variable:                      y   No. Observations:                  151\n",
       "Model:               SARIMAX(1, 1, 0)   Log Likelihood                -818.602\n",
       "Date:                Sat, 31 Dec 2022   AIC                           1641.203\n",
       "Time:                        11:10:35   BIC                           1647.225\n",
       "Sample:                             0   HQIC                          1643.650\n",
       "                                - 151                                         \n",
       "Covariance Type:                  opg                                         \n",
       "==============================================================================\n",
       "                 coef    std err          z      P>|z|      [0.025      0.975]\n",
       "------------------------------------------------------------------------------\n",
       "ar.L1          0.2877      0.074      3.902      0.000       0.143       0.432\n",
       "sigma2      3232.7231    301.098     10.736      0.000    2642.582    3822.864\n",
       "===================================================================================\n",
       "Ljung-Box (L1) (Q):                   0.09   Jarque-Bera (JB):                26.27\n",
       "Prob(Q):                              0.77   Prob(JB):                         0.00\n",
       "Heteroskedasticity (H):               1.06   Skew:                            -0.64\n",
       "Prob(H) (two-sided):                  0.83   Kurtosis:                         4.59\n",
       "===================================================================================\n",
       "\n",
       "Warnings:\n",
       "[1] Covariance matrix calculated using the outer product of gradients (complex-step).\n",
       "\"\"\""
      ]
     },
     "execution_count": 21,
     "metadata": {},
     "output_type": "execute_result"
    }
   ],
   "source": [
    "arima.summary()"
   ]
  },
  {
   "cell_type": "code",
   "execution_count": 22,
   "metadata": {},
   "outputs": [
    {
     "data": {
      "text/plain": [
       "[<matplotlib.lines.Line2D at 0x1838f177430>]"
      ]
     },
     "execution_count": 22,
     "metadata": {},
     "output_type": "execute_result"
    },
    {
     "data": {
      "image/png": "[encoded data removed]",
      "text/plain": [
       "<Figure size 432x288 with 1 Axes>"
      ]
     },
     "metadata": {
      "needs_background": "light"
     },
     "output_type": "display_data"
    }
   ],
   "source": [
    "plt.plot(x, arima.predict(n_periods=test.shape[0]))"
   ]
  },
  {
   "cell_type": "code",
   "execution_count": 23,
   "metadata": {},
   "outputs": [
    {
     "data": {
      "text/plain": [
       "array([350.74999033, 344.85173915, 343.15469767, 342.66642585,\n",
       "       342.52594056, 342.48552021, 342.47389049, 342.47054439,\n",
       "       342.46958166, 342.46930466, 342.46922496, 342.46920203,\n",
       "       342.46919543, 342.46919353, 342.46919299, 342.46919283,\n",
       "       342.46919279, 342.46919277, 342.46919277, 342.46919277,\n",
       "       342.46919277, 342.46919277, 342.46919277, 342.46919277,\n",
       "       342.46919277, 342.46919277, 342.46919277, 342.46919277,\n",
       "       342.46919277, 342.46919277, 342.46919277, 342.46919277,\n",
       "       342.46919277, 342.46919277, 342.46919277, 342.46919277,\n",
       "       342.46919277, 342.46919277, 342.46919277, 342.46919277,\n",
       "       342.46919277, 342.46919277, 342.46919277, 342.46919277,\n",
       "       342.46919277, 342.46919277, 342.46919277, 342.46919277,\n",
       "       342.46919277, 342.46919277, 342.46919277, 342.46919277,\n",
       "       342.46919277, 342.46919277, 342.46919277, 342.46919277,\n",
       "       342.46919277, 342.46919277, 342.46919277, 342.46919277,\n",
       "       342.46919277, 342.46919277, 342.46919277, 342.46919277,\n",
       "       342.46919277, 342.46919277, 342.46919277, 342.46919277,\n",
       "       342.46919277, 342.46919277, 342.46919277, 342.46919277,\n",
       "       342.46919277, 342.46919277, 342.46919277, 342.46919277])"
      ]
     },
     "execution_count": 23,
     "metadata": {},
     "output_type": "execute_result"
    }
   ],
   "source": [
    "arima.predict(n_periods=test.shape[0])"
   ]
  },
  {
   "cell_type": "code",
   "execution_count": 24,
   "metadata": {},
   "outputs": [
    {
     "data": {
      "text/plain": [
       "<AxesSubplot:xlabel='Timestamp'>"
      ]
     },
     "execution_count": 24,
     "metadata": {},
     "output_type": "execute_result"
    },
    {
     "data": {
      "image/png": "[encoded data removed]",
      "text/plain": [
       "<Figure size 432x288 with 1 Axes>"
      ]
     },
     "metadata": {
      "needs_background": "light"
     },
     "output_type": "display_data"
    }
   ],
   "source": [
    "spot2 = np.log(spot).diff()\n",
    "#spot2 = spot.diff()\n",
    "spot_train2 = spot2.loc[:'2016-07-31'].dropna()\n",
    "spot_train2.plot()\n"
   ]
  },
  {
   "cell_type": "code",
   "execution_count": 25,
   "metadata": {},
   "outputs": [
    {
     "data": {
      "text/plain": [
       "count    150.000000\n",
       "mean       0.002413\n",
       "std        0.093314\n",
       "min       -0.362393\n",
       "25%       -0.041174\n",
       "50%        0.004014\n",
       "75%        0.064726\n",
       "max        0.236949\n",
       "Name: LGOc1, dtype: float64"
      ]
     },
     "execution_count": 25,
     "metadata": {},
     "output_type": "execute_result"
    }
   ],
   "source": [
    "#statistics\n",
    "\n",
    "#mean\n",
    "#sd\n",
    "#skewness\n",
    "#kurtosis\n",
    "#jb test\n",
    "#Ljung Box Q(6) and Q^2(6)\n",
    "#observations\n",
    "\n",
    "spot_train2.describe()\n",
    "#spot.dropna().describe()"
   ]
  },
  {
   "cell_type": "code",
   "execution_count": 26,
   "metadata": {},
   "outputs": [
    {
     "name": "stdout",
     "output_type": "stream",
     "text": [
      "Skewness spot: -0.5911732191425311\n",
      "Kurtosis spot: 4.344731951199348\n",
      "JB spot: Jarque_beraResult(statistic=20.039044504386112, pvalue=4.452221623241215e-05)\n",
      "Q(6) spot:      lb_stat  lb_pvalue\n",
      "6  11.674169   0.069645\n"
     ]
    }
   ],
   "source": [
    "print(\"Skewness spot:\", scipy.stats.skew(spot_train2.dropna(), axis=0, bias=True))\n",
    "#print(\"Skewness logs:\", scipy.stats.skew(np.log(spot2.dropna()), axis=0, bias=True))\n",
    "print(\"Kurtosis spot:\", scipy.stats.kurtosis(spot_train2.dropna(), axis=0, fisher=False, bias=True))\n",
    "#print(\"Kurtosis logs:\", scipy.stats.kurtosis(np.log(spot2.dropna()), fisher=False, axis=0, bias=True))\n",
    "\n",
    "print(\"JB spot:\", scipy.stats.jarque_bera(spot_train2.dropna()))\n",
    "#print(\"JB logs:\", scipy.stats.jarque_bera(np.log(spot2.dropna())))\n",
    "#The Jarque-Bera Test is typically used for large datasets (n > 2000) in which other normality tests (like the Shapiro-Wilk test) are unreliable.\n",
    "\n",
    "print(\"Q(6) spot:\", sm.stats.acorr_ljungbox(spot_train2.dropna(), lags=[6]))\n",
    "#print(\"Q(6) logs:\", sm.stats.acorr_ljungbox(np.log(spot2.dropna()), lags=[6]))"
   ]
  },
  {
   "cell_type": "code",
   "execution_count": 27,
   "metadata": {},
   "outputs": [
    {
     "name": "stdout",
     "output_type": "stream",
     "text": [
      "ADF spot: (-9.579315030281256, 2.1799975345363345e-16, 0, 149, {'1%': -3.4750180242954167, '5%': -2.8811408028842043, '10%': -2.577221358046935}, -267.25674494126)\n",
      "PP spot:      Phillips-Perron Test (Z-tau)    \n",
      "=====================================\n",
      "Test Statistic                 -9.424\n",
      "P-value                         0.000\n",
      "Lags                               14\n",
      "-------------------------------------\n",
      "\n",
      "Trend: Constant\n",
      "Critical Values: -3.48 (1%), -2.88 (5%), -2.58 (10%)\n",
      "Null Hypothesis: The process contains a unit root.\n",
      "Alternative Hypothesis: The process is weakly stationary.\n"
     ]
    }
   ],
   "source": [
    "#stationarity\n",
    "\n",
    "#augmented Dickie-Fuller\n",
    "#PP test - Phillips and Perron\n",
    "#KPSS\n",
    "\n",
    "print(\"ADF spot:\", adfuller(spot_train2.dropna()))\n",
    "#print(\"ADF logs:\", adfuller(np.log(spot2.dropna())))\n",
    "\n",
    "print(\"PP spot:\", PhillipsPerron(spot_train2.dropna()).summary().as_text())\n",
    "#print(\"PP logs:\", PhillipsPerron(np.log(spot2.dropna())).summary().as_text())"
   ]
  },
  {
   "cell_type": "code",
   "execution_count": 28,
   "metadata": {},
   "outputs": [
    {
     "name": "stdout",
     "output_type": "stream",
     "text": [
      "KPSS spot:     KPSS Stationarity Test Results   \n",
      "=====================================\n",
      "Test Statistic                  0.348\n",
      "P-value                         0.099\n",
      "Lags                                3\n",
      "-------------------------------------\n",
      "\n",
      "Trend: Constant\n",
      "Critical Values: 0.74 (1%), 0.46 (5%), 0.35 (10%)\n",
      "Null Hypothesis: The process is weakly stationary.\n",
      "Alternative Hypothesis: The process contains a unit root.\n"
     ]
    }
   ],
   "source": [
    "print(\"KPSS spot:\", KPSS(spot_train2.dropna()).summary().as_text())\n",
    "#print(\"KPSS logs:\", KPSS(np.log(spot2.dropna())).summary().as_text())"
   ]
  },
  {
   "cell_type": "code",
   "execution_count": 26,
   "metadata": {},
   "outputs": [
    {
     "name": "stdout",
     "output_type": "stream",
     "text": [
      "ACF and PACF spot:\n"
     ]
    },
    {
     "name": "stderr",
     "output_type": "stream",
     "text": [
      "c:\\Users\\tatuh\\anaconda3\\lib\\site-packages\\statsmodels\\graphics\\tsaplots.py:348: FutureWarning: The default method 'yw' can produce PACF values outside of the [-1,1] interval. After 0.13, the default will change tounadjusted Yule-Walker ('ywm'). You can use this method now by setting method='ywm'.\n",
      "  warnings.warn(\n"
     ]
    },
    {
     "data": {
      "image/png": "[encoded data removed]",
      "text/plain": [
       "<Figure size 432x288 with 1 Axes>"
      ]
     },
     "execution_count": 26,
     "metadata": {},
     "output_type": "execute_result"
    },
    {
     "data": {
      "image/png": "[encoded data removed]",
      "text/plain": [
       "<Figure size 432x288 with 1 Axes>"
      ]
     },
     "metadata": {
      "needs_background": "light"
     },
     "output_type": "display_data"
    },
    {
     "data": {
      "image/png": "[encoded data removed]",
      "text/plain": [
       "<Figure size 432x288 with 1 Axes>"
      ]
     },
     "metadata": {
      "needs_background": "light"
     },
     "output_type": "display_data"
    }
   ],
   "source": [
    "#ACF and PACF\n",
    "\n",
    "print(\"ACF and PACF spot:\")\n",
    "plot_acf(spot_train2.dropna(), lags = 20)\n",
    "plot_pacf(spot_train2.dropna(), lags = 20)\n",
    "\n",
    "\n",
    "#print(\"ACF and PACF logs:\")\n",
    "#plot_acf(np.log(spot2.dropna()), lags = 15)\n",
    "#plot_pacf(np.log(spot2.dropna()), lags = 15)\n"
   ]
  },
  {
   "cell_type": "code",
   "execution_count": 27,
   "metadata": {},
   "outputs": [
    {
     "data": {
      "text/plain": [
       "<AxesSubplot:>"
      ]
     },
     "execution_count": 27,
     "metadata": {},
     "output_type": "execute_result"
    },
    {
     "data": {
      "image/png": "[encoded data removed]",
      "text/plain": [
       "<Figure size 432x288 with 1 Axes>"
      ]
     },
     "metadata": {
      "needs_background": "light"
     },
     "output_type": "display_data"
    }
   ],
   "source": [
    "spot_train2.hist()\n"
   ]
  },
  {
   "cell_type": "code",
   "execution_count": 28,
   "metadata": {},
   "outputs": [],
   "source": [
    "# Load the data and split it into separate pieces\n",
    "data2 = np.array(spot2.dropna())\n",
    "train2, test2 = model_selection.train_test_split(data2, train_size=(spot_train2.shape[0]))"
   ]
  },
  {
   "cell_type": "code",
   "execution_count": 29,
   "metadata": {},
   "outputs": [
    {
     "data": {
      "text/plain": [
       "array([ 9.94141527e-02, -2.25927401e-02,  9.00744900e-02,  5.91221972e-02,\n",
       "       -5.85423189e-02,  1.48669849e-01, -1.05475614e-02,  1.57786720e-01,\n",
       "        5.45437197e-02, -7.34799695e-02, -1.17618250e-01,  1.26586920e-01,\n",
       "        8.63215340e-02,  8.11177619e-02, -6.07512646e-02, -7.07133176e-03,\n",
       "        9.13059727e-02,  6.59656240e-02,  1.21202034e-01, -5.42661867e-02,\n",
       "       -8.85592318e-02, -5.39238007e-02,  6.89565402e-02,  1.12304812e-01,\n",
       "       -6.62473097e-02,  6.50342693e-02,  9.52963868e-02, -2.92512633e-02,\n",
       "        4.30861529e-02,  2.20646648e-02, -6.74258080e-02, -1.17213803e-01,\n",
       "       -5.68007163e-02,  8.48915644e-02, -5.43612092e-02, -5.85318411e-02,\n",
       "        7.53143124e-02,  9.56185974e-02, -6.62985854e-03,  5.74841291e-03,\n",
       "        4.83421480e-02,  7.60166462e-02, -5.82507383e-02,  8.53936157e-02,\n",
       "        1.35187845e-01, -2.64982802e-02,  6.14107592e-02, -1.76291785e-02,\n",
       "        8.21011018e-02,  1.99600865e-03,  1.04602502e-01,  1.37541839e-01,\n",
       "        9.01173639e-02, -1.20307137e-01, -8.34833135e-02, -1.49936279e-01,\n",
       "       -4.07402402e-01, -1.99803548e-01, -1.59806326e-01,  6.34089804e-03,\n",
       "        1.01919998e-02,  6.02819018e-02,  3.13931608e-02,  2.54459085e-01,\n",
       "        5.60894667e-02,  3.40458414e-02, -2.90080474e-02, -8.36221712e-03,\n",
       "        8.50307479e-02,  4.25651552e-02, -6.90539828e-03, -8.66731353e-02,\n",
       "        8.23007003e-02,  6.37810491e-02,  5.57332418e-02, -1.58142320e-01,\n",
       "        4.81091400e-03,  4.13924224e-02, -4.63373038e-02,  9.78160504e-02,\n",
       "        1.01535987e-02,  3.27704251e-02,  9.78252132e-02,  6.39776779e-02,\n",
       "        1.01492039e-01,  4.85345731e-02,  7.01623759e-02, -7.55449341e-02,\n",
       "       -3.70881476e-02,  3.71738117e-02, -1.63223106e-02, -1.11230757e-01,\n",
       "        6.40761722e-02,  8.72415566e-03, -2.88225551e-02,  3.29760599e-02,\n",
       "        1.00066295e-01,  1.79196920e-03, -2.81429756e-02, -1.59367803e-01,\n",
       "       -4.07729136e-02,  7.02735780e-02,  8.79878349e-02, -1.92110244e-02,\n",
       "       -3.33831714e-02,  2.30083355e-02, -1.07942801e-03,  3.91826351e-02,\n",
       "       -3.67555586e-02, -1.22856107e-02, -7.20684665e-02, -1.95311002e-02,\n",
       "        1.74776110e-02,  5.28093724e-02,  5.69365797e-02, -5.07348659e-02,\n",
       "        4.32761598e-03,  7.77929151e-03,  1.00685689e-02, -4.05211974e-02,\n",
       "        2.47843010e-02, -1.20833458e-02,  2.87263321e-03,  1.23231282e-02,\n",
       "        2.66057087e-02, -5.80802467e-02, -2.70558064e-02, -8.61747890e-02,\n",
       "       -9.76790973e-02, -2.02082256e-01, -2.01811760e-01, -7.87208304e-02,\n",
       "        1.66342522e-01, -1.27114550e-01,  1.92072447e-01, -1.84378806e-02,\n",
       "       -3.05095286e-02, -1.97182178e-01,  3.64839260e-02, -1.12878187e-01,\n",
       "        2.43042699e-02, -1.05226008e-01, -1.79501059e-01, -7.05652290e-02,\n",
       "        3.47934969e-02,  9.61438606e-02,  1.95076565e-01,  3.18980223e-02,\n",
       "       -2.01267989e-04, -1.57039981e-01])"
      ]
     },
     "execution_count": 29,
     "metadata": {},
     "output_type": "execute_result"
    }
   ],
   "source": [
    "train2"
   ]
  },
  {
   "cell_type": "code",
   "execution_count": 30,
   "metadata": {},
   "outputs": [
    {
     "name": "stdout",
     "output_type": "stream",
     "text": [
      "Performing stepwise search to minimize aic\n",
      " ARIMA(2,0,2)(0,0,0)[0]             : AIC=-296.359, Time=0.04 sec\n",
      " ARIMA(0,0,0)(0,0,0)[0]             : AIC=-288.825, Time=0.02 sec\n",
      " ARIMA(1,0,0)(0,0,0)[0]             : AIC=-298.902, Time=0.07 sec\n",
      " ARIMA(0,0,1)(0,0,0)[0]             : AIC=-296.306, Time=0.02 sec\n",
      " ARIMA(2,0,0)(0,0,0)[0]             : AIC=-297.814, Time=0.02 sec\n",
      " ARIMA(1,0,1)(0,0,0)[0]             : AIC=-297.394, Time=0.02 sec\n",
      " ARIMA(2,0,1)(0,0,0)[0]             : AIC=-287.640, Time=0.02 sec\n",
      " ARIMA(1,0,0)(0,0,0)[0] intercept   : AIC=-296.957, Time=0.02 sec\n",
      "\n",
      "Best model:  ARIMA(1,0,0)(0,0,0)[0]          \n",
      "Total fit time: 0.239 seconds\n"
     ]
    },
    {
     "data": {
      "image/png": "[encoded data removed]",
      "text/plain": [
       "<Figure size 432x288 with 1 Axes>"
      ]
     },
     "metadata": {
      "needs_background": "light"
     },
     "output_type": "display_data"
    }
   ],
   "source": [
    "# Fit a simple auto_arima model\n",
    "arima2 = pm.auto_arima(train2, error_action='ignore', trace=True,\n",
    "                      suppress_warnings=True, maxiter=5,\n",
    "                      seasonal=False)\n",
    "\n",
    "#arima = pm.auto_arima(train, error_action='ignore', trace=True,\n",
    "                      #suppress_warnings=True, maxiter=5,\n",
    "                      #seasonal=True, m=12)\n",
    "\n",
    "# #############################################################################\n",
    "# Plot actual test vs. forecasts:\n",
    "x2 = np.arange(test2.shape[0])\n",
    "plt.scatter(x2, test2, marker='x')\n",
    "plt.plot(x2, arima2.predict(n_periods=test2.shape[0]))\n",
    "plt.title('Actual test samples vs. forecasts')\n",
    "plt.show()"
   ]
  },
  {
   "cell_type": "code",
   "execution_count": 31,
   "metadata": {},
   "outputs": [
    {
     "data": {
      "text/html": [
       "<table class=\"simpletable\">\n",
       "<caption>SARIMAX Results</caption>\n",
       "<tr>\n",
       "  <th>Dep. Variable:</th>           <td>y</td>        <th>  No. Observations:  </th>    <td>150</td>  \n",
       "</tr>\n",
       "<tr>\n",
       "  <th>Model:</th>           <td>SARIMAX(1, 0, 0)</td> <th>  Log Likelihood     </th>  <td>151.451</td>\n",
       "</tr>\n",
       "<tr>\n",
       "  <th>Date:</th>            <td>Sat, 31 Dec 2022</td> <th>  AIC                </th> <td>-298.902</td>\n",
       "</tr>\n",
       "<tr>\n",
       "  <th>Time:</th>                <td>08:55:51</td>     <th>  BIC                </th> <td>-292.881</td>\n",
       "</tr>\n",
       "<tr>\n",
       "  <th>Sample:</th>                  <td>0</td>        <th>  HQIC               </th> <td>-296.456</td>\n",
       "</tr>\n",
       "<tr>\n",
       "  <th></th>                      <td> - 150</td>      <th>                     </th>     <td> </td>   \n",
       "</tr>\n",
       "<tr>\n",
       "  <th>Covariance Type:</th>        <td>opg</td>       <th>                     </th>     <td> </td>   \n",
       "</tr>\n",
       "</table>\n",
       "<table class=\"simpletable\">\n",
       "<tr>\n",
       "     <td></td>       <th>coef</th>     <th>std err</th>      <th>z</th>      <th>P>|z|</th>  <th>[0.025</th>    <th>0.975]</th>  \n",
       "</tr>\n",
       "<tr>\n",
       "  <th>ar.L1</th>  <td>    0.2807</td> <td>    0.075</td> <td>    3.757</td> <td> 0.000</td> <td>    0.134</td> <td>    0.427</td>\n",
       "</tr>\n",
       "<tr>\n",
       "  <th>sigma2</th> <td>    0.0078</td> <td>    0.001</td> <td>   10.617</td> <td> 0.000</td> <td>    0.006</td> <td>    0.009</td>\n",
       "</tr>\n",
       "</table>\n",
       "<table class=\"simpletable\">\n",
       "<tr>\n",
       "  <th>Ljung-Box (L1) (Q):</th>     <td>0.08</td> <th>  Jarque-Bera (JB):  </th> <td>14.59</td>\n",
       "</tr>\n",
       "<tr>\n",
       "  <th>Prob(Q):</th>                <td>0.78</td> <th>  Prob(JB):          </th> <td>0.00</td> \n",
       "</tr>\n",
       "<tr>\n",
       "  <th>Heteroskedasticity (H):</th> <td>1.22</td> <th>  Skew:              </th> <td>-0.37</td>\n",
       "</tr>\n",
       "<tr>\n",
       "  <th>Prob(H) (two-sided):</th>    <td>0.49</td> <th>  Kurtosis:          </th> <td>4.34</td> \n",
       "</tr>\n",
       "</table><br/><br/>Warnings:<br/>[1] Covariance matrix calculated using the outer product of gradients (complex-step)."
      ],
      "text/plain": [
       "<class 'statsmodels.iolib.summary.Summary'>\n",
       "\"\"\"\n",
       "                               SARIMAX Results                                \n",
       "==============================================================================\n",
       "Dep. Variable:                      y   No. Observations:                  150\n",
       "Model:               SARIMAX(1, 0, 0)   Log Likelihood                 151.451\n",
       "Date:                Sat, 31 Dec 2022   AIC                           -298.902\n",
       "Time:                        08:55:51   BIC                           -292.881\n",
       "Sample:                             0   HQIC                          -296.456\n",
       "                                - 150                                         \n",
       "Covariance Type:                  opg                                         \n",
       "==============================================================================\n",
       "                 coef    std err          z      P>|z|      [0.025      0.975]\n",
       "------------------------------------------------------------------------------\n",
       "ar.L1          0.2807      0.075      3.757      0.000       0.134       0.427\n",
       "sigma2         0.0078      0.001     10.617      0.000       0.006       0.009\n",
       "===================================================================================\n",
       "Ljung-Box (L1) (Q):                   0.08   Jarque-Bera (JB):                14.59\n",
       "Prob(Q):                              0.78   Prob(JB):                         0.00\n",
       "Heteroskedasticity (H):               1.22   Skew:                            -0.37\n",
       "Prob(H) (two-sided):                  0.49   Kurtosis:                         4.34\n",
       "===================================================================================\n",
       "\n",
       "Warnings:\n",
       "[1] Covariance matrix calculated using the outer product of gradients (complex-step).\n",
       "\"\"\""
      ]
     },
     "execution_count": 31,
     "metadata": {},
     "output_type": "execute_result"
    }
   ],
   "source": [
    "arima2.summary()"
   ]
  },
  {
   "cell_type": "code",
   "execution_count": 32,
   "metadata": {},
   "outputs": [
    {
     "data": {
      "text/plain": [
       "[<matplotlib.lines.Line2D at 0x171fe591640>]"
      ]
     },
     "execution_count": 32,
     "metadata": {},
     "output_type": "execute_result"
    },
    {
     "data": {
      "image/png": "[encoded data removed]",
      "text/plain": [
       "<Figure size 432x288 with 1 Axes>"
      ]
     },
     "metadata": {
      "needs_background": "light"
     },
     "output_type": "display_data"
    }
   ],
   "source": [
    "plt.plot(x2, arima2.predict(n_periods=test2.shape[0]))"
   ]
  },
  {
   "cell_type": "code",
   "execution_count": 33,
   "metadata": {},
   "outputs": [
    {
     "data": {
      "text/plain": [
       "array([-4.40798827e-02, -1.23728750e-02, -3.47296832e-03, -9.74834783e-04,\n",
       "       -2.73628426e-04, -7.68053385e-05, -2.15586520e-05, -6.05134339e-06,\n",
       "       -1.69856431e-06, -4.76773589e-07, -1.33826582e-07, -3.75640647e-08,\n",
       "       -1.05439363e-08, -2.95959967e-09, -8.30736259e-10, -2.33181108e-10,\n",
       "       -6.54520958e-11, -1.83718864e-11, -5.15684346e-12, -1.44748524e-12,\n",
       "       -4.06297677e-13, -1.14044550e-13, -3.20114045e-14, -8.98534848e-15,\n",
       "       -2.52211637e-15, -7.07938149e-16, -1.98712648e-16, -5.57770713e-17,\n",
       "       -1.56561835e-17, -4.39456707e-18, -1.23352028e-18, -3.46239401e-19,\n",
       "       -9.71866660e-20, -2.72795297e-20, -7.65714859e-21, -2.14930114e-21,\n",
       "       -6.03291860e-22, -1.69339261e-22, -4.75321935e-23, -1.33419114e-23,\n",
       "       -3.74496917e-24, -1.05118328e-24, -2.95058845e-25, -8.28206879e-26,\n",
       "       -2.32471131e-26, -6.52528108e-27, -1.83159487e-27, -5.14114218e-28,\n",
       "       -1.44307802e-28, -4.05060604e-29, -1.13697313e-29, -3.19139380e-30,\n",
       "       -8.95799039e-31, -2.51443717e-31, -7.05782658e-32, -1.98107619e-32,\n",
       "       -5.56072443e-33, -1.56085144e-33, -4.38118674e-34, -1.22976452e-34,\n",
       "       -3.45185191e-35, -9.68907574e-36, -2.71964705e-36, -7.63383452e-37,\n",
       "       -2.14275707e-37, -6.01454990e-38, -1.68823666e-38, -4.73874701e-39,\n",
       "       -1.33012887e-39, -3.73356670e-40, -1.04798269e-40, -2.94160466e-41,\n",
       "       -8.25685201e-42, -2.31763316e-42, -6.50541327e-43, -1.82601814e-43])"
      ]
     },
     "execution_count": 33,
     "metadata": {},
     "output_type": "execute_result"
    }
   ],
   "source": [
    "tests = arima2.predict(n_periods=test2.shape[0])\n",
    "tests"
   ]
  },
  {
   "cell_type": "code",
   "execution_count": 34,
   "metadata": {},
   "outputs": [
    {
     "data": {
      "image/png": "[encoded data removed]",
      "text/plain": [
       "<Figure size 720x360 with 1 Axes>"
      ]
     },
     "metadata": {
      "needs_background": "light"
     },
     "output_type": "display_data"
    }
   ],
   "source": [
    "cum_res = np.exp(tests.cumsum())*spot.iloc[spot_train.shape[0]-1]\n",
    "#cum_res = tests.cumsum()+spot.iloc[spot_train.shape[0]-1]\n",
    "plt.figure(figsize=(10,5))\n",
    "plt.plot(cum_res, color='g',label = 'NAV Returns')\n",
    "plt.legend()\n",
    "plt.show()"
   ]
  },
  {
   "cell_type": "code",
   "execution_count": 35,
   "metadata": {},
   "outputs": [
    {
     "data": {
      "text/plain": [
       "array([40.62901935, 40.12941869, 39.99029222, 39.95132729, 39.94039697,\n",
       "       39.93732945, 39.93646846, 39.93622679, 39.93615896, 39.93613992,\n",
       "       39.93613458, 39.93613307, 39.93613265, 39.93613254, 39.9361325 ,\n",
       "       39.93613249, 39.93613249, 39.93613249, 39.93613249, 39.93613249,\n",
       "       39.93613249, 39.93613249, 39.93613249, 39.93613249, 39.93613249,\n",
       "       39.93613249, 39.93613249, 39.93613249, 39.93613249, 39.93613249,\n",
       "       39.93613249, 39.93613249, 39.93613249, 39.93613249, 39.93613249,\n",
       "       39.93613249, 39.93613249, 39.93613249, 39.93613249, 39.93613249,\n",
       "       39.93613249, 39.93613249, 39.93613249, 39.93613249, 39.93613249,\n",
       "       39.93613249, 39.93613249, 39.93613249, 39.93613249, 39.93613249,\n",
       "       39.93613249, 39.93613249, 39.93613249, 39.93613249, 39.93613249,\n",
       "       39.93613249, 39.93613249, 39.93613249, 39.93613249, 39.93613249,\n",
       "       39.93613249, 39.93613249, 39.93613249, 39.93613249, 39.93613249,\n",
       "       39.93613249, 39.93613249, 39.93613249, 39.93613249, 39.93613249,\n",
       "       39.93613249, 39.93613249, 39.93613249, 39.93613249, 39.93613249,\n",
       "       39.93613249])"
      ]
     },
     "execution_count": 35,
     "metadata": {},
     "output_type": "execute_result"
    }
   ],
   "source": [
    "cum_res"
   ]
  },
  {
   "cell_type": "code",
   "execution_count": 36,
   "metadata": {},
   "outputs": [],
   "source": [
    "#cointegration tests\n",
    "\n",
    "#normalized cv\n",
    "#LR test"
   ]
  },
  {
   "cell_type": "code",
   "execution_count": 37,
   "metadata": {},
   "outputs": [],
   "source": [
    "#correlaatiomatriisi"
   ]
  },
  {
   "cell_type": "code",
   "execution_count": 38,
   "metadata": {},
   "outputs": [],
   "source": [
    "#np.argwhere(np.isnan(x))"
   ]
  }
 ],
 "metadata": {
  "kernelspec": {
   "display_name": "Python 3.9.7 ('base')",
   "language": "python",
   "name": "python3"
  },
  "language_info": {
   "codemirror_mode": {
    "name": "ipython",
    "version": 3
   },
   "file_extension": ".py",
   "mimetype": "text/x-python",
   "name": "python",
   "nbconvert_exporter": "python",
   "pygments_lexer": "ipython3",
   "version": "3.9.7"
  },
  "orig_nbformat": 4,
  "vscode": {
   "interpreter": {
    "hash": "4166284f6c1be268893ecc7e1723c4ee59a7af301dc502cec5768712e1b57cd0"
   }
  }
 },
 "nbformat": 4,
 "nbformat_minor": 2
}
