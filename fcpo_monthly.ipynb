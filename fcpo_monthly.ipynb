{
 "cells": [
  {
   "cell_type": "code",
   "execution_count": 1,
   "metadata": {},
   "outputs": [],
   "source": [
    "# Start loading libraries\n",
    "\n",
    "#! pip install yfinance\n",
    "\n",
    "import matplotlib.pyplot as plt\n",
    "import numpy as np\n",
    "import pandas as pd\n",
    "import seaborn as sns\n",
    "\n",
    "#! pip install pmdarima\n",
    "import pmdarima as pm\n",
    "from pmdarima import model_selection\n",
    "\n",
    "import scipy\n",
    "import statsmodels.api as sm\n",
    "from statsmodels.tsa.stattools import adfuller\n",
    "from arch.unitroot import PhillipsPerron\n",
    "from arch.unitroot import KPSS\n",
    "\n",
    "from statsmodels.graphics.tsaplots import plot_pacf\n",
    "from statsmodels.graphics.tsaplots import plot_acf\n",
    "#from statsmodels.graphics.tsaplots import plot_acf\n",
    "\n",
    "#from matplotlib.ticker import NullFormatter\n",
    "#import yfinance as yf\n",
    "#import warnings; warnings.simplefilter('ignore')\n",
    "#%matplotlib inline"
   ]
  },
  {
   "cell_type": "code",
   "execution_count": 2,
   "metadata": {},
   "outputs": [
    {
     "data": {
      "text/html": [
       "<div>\n",
       "<style scoped>\n",
       "    .dataframe tbody tr th:only-of-type {\n",
       "        vertical-align: middle;\n",
       "    }\n",
       "\n",
       "    .dataframe tbody tr th {\n",
       "        vertical-align: top;\n",
       "    }\n",
       "\n",
       "    .dataframe thead th {\n",
       "        text-align: right;\n",
       "    }\n",
       "</style>\n",
       "<table border=\"1\" class=\"dataframe\">\n",
       "  <thead>\n",
       "    <tr style=\"text-align: right;\">\n",
       "      <th></th>\n",
       "      <th>FCPOc1</th>\n",
       "      <th>FCPOc3</th>\n",
       "      <th>FCPOc6</th>\n",
       "      <th>FCPOc9</th>\n",
       "      <th>FCPOc12</th>\n",
       "      <th>MYR=</th>\n",
       "      <th>MYR3MV=</th>\n",
       "      <th>MYR6MV=</th>\n",
       "      <th>MYR9MV=</th>\n",
       "      <th>MYR1YV=</th>\n",
       "      <th>MYR1YNDFOR=</th>\n",
       "      <th>FCPOc1 USD</th>\n",
       "      <th>FCPOc3 USD</th>\n",
       "      <th>FCPOc6 USD</th>\n",
       "      <th>FCPOc9 USD</th>\n",
       "      <th>FCPOc12 USD</th>\n",
       "    </tr>\n",
       "  </thead>\n",
       "  <tbody>\n",
       "    <tr>\n",
       "      <th>count</th>\n",
       "      <td>507.000000</td>\n",
       "      <td>506.000000</td>\n",
       "      <td>462.000000</td>\n",
       "      <td>387.000000</td>\n",
       "      <td>190.000000</td>\n",
       "      <td>507.000000</td>\n",
       "      <td>392.000000</td>\n",
       "      <td>392.000000</td>\n",
       "      <td>337.000000</td>\n",
       "      <td>375.000000</td>\n",
       "      <td>220.000000</td>\n",
       "      <td>507.000000</td>\n",
       "      <td>392.000000</td>\n",
       "      <td>392.000000</td>\n",
       "      <td>337.000000</td>\n",
       "      <td>375.000000</td>\n",
       "    </tr>\n",
       "    <tr>\n",
       "      <th>mean</th>\n",
       "      <td>1805.964497</td>\n",
       "      <td>1781.381423</td>\n",
       "      <td>1838.099567</td>\n",
       "      <td>2021.581395</td>\n",
       "      <td>2768.121053</td>\n",
       "      <td>3.250021</td>\n",
       "      <td>3.487300</td>\n",
       "      <td>3.523551</td>\n",
       "      <td>3.217639</td>\n",
       "      <td>3.535610</td>\n",
       "      <td>3.729375</td>\n",
       "      <td>539.169074</td>\n",
       "      <td>578.063262</td>\n",
       "      <td>564.944348</td>\n",
       "      <td>670.837715</td>\n",
       "      <td>379.219281</td>\n",
       "    </tr>\n",
       "    <tr>\n",
       "      <th>std</th>\n",
       "      <td>1071.874249</td>\n",
       "      <td>1021.147841</td>\n",
       "      <td>985.900508</td>\n",
       "      <td>936.214918</td>\n",
       "      <td>685.140360</td>\n",
       "      <td>0.675405</td>\n",
       "      <td>0.592425</td>\n",
       "      <td>0.548910</td>\n",
       "      <td>0.635356</td>\n",
       "      <td>0.587528</td>\n",
       "      <td>0.462950</td>\n",
       "      <td>258.906174</td>\n",
       "      <td>254.011060</td>\n",
       "      <td>246.249191</td>\n",
       "      <td>244.061359</td>\n",
       "      <td>398.023928</td>\n",
       "    </tr>\n",
       "    <tr>\n",
       "      <th>min</th>\n",
       "      <td>450.000000</td>\n",
       "      <td>448.000000</td>\n",
       "      <td>445.000000</td>\n",
       "      <td>768.000000</td>\n",
       "      <td>1620.000000</td>\n",
       "      <td>2.147000</td>\n",
       "      <td>2.434800</td>\n",
       "      <td>2.491200</td>\n",
       "      <td>2.664500</td>\n",
       "      <td>2.437000</td>\n",
       "      <td>2.986000</td>\n",
       "      <td>172.744722</td>\n",
       "      <td>198.587937</td>\n",
       "      <td>0.000000</td>\n",
       "      <td>0.000000</td>\n",
       "      <td>0.000000</td>\n",
       "    </tr>\n",
       "    <tr>\n",
       "      <th>25%</th>\n",
       "      <td>952.500000</td>\n",
       "      <td>943.750000</td>\n",
       "      <td>1002.250000</td>\n",
       "      <td>1241.000000</td>\n",
       "      <td>2367.500000</td>\n",
       "      <td>2.565500</td>\n",
       "      <td>3.060790</td>\n",
       "      <td>3.079750</td>\n",
       "      <td>2.776500</td>\n",
       "      <td>3.165750</td>\n",
       "      <td>3.307125</td>\n",
       "      <td>354.232570</td>\n",
       "      <td>371.918549</td>\n",
       "      <td>371.339232</td>\n",
       "      <td>507.706256</td>\n",
       "      <td>0.000000</td>\n",
       "    </tr>\n",
       "    <tr>\n",
       "      <th>50%</th>\n",
       "      <td>1455.000000</td>\n",
       "      <td>1443.500000</td>\n",
       "      <td>1515.500000</td>\n",
       "      <td>2050.000000</td>\n",
       "      <td>2543.000000</td>\n",
       "      <td>3.245000</td>\n",
       "      <td>3.659100</td>\n",
       "      <td>3.651700</td>\n",
       "      <td>2.817500</td>\n",
       "      <td>3.676800</td>\n",
       "      <td>3.690000</td>\n",
       "      <td>475.426279</td>\n",
       "      <td>538.159826</td>\n",
       "      <td>523.181643</td>\n",
       "      <td>607.327971</td>\n",
       "      <td>506.811232</td>\n",
       "    </tr>\n",
       "    <tr>\n",
       "      <th>75%</th>\n",
       "      <td>2405.000000</td>\n",
       "      <td>2416.000000</td>\n",
       "      <td>2455.750000</td>\n",
       "      <td>2544.500000</td>\n",
       "      <td>3029.000000</td>\n",
       "      <td>3.799750</td>\n",
       "      <td>3.813700</td>\n",
       "      <td>3.829200</td>\n",
       "      <td>3.968000</td>\n",
       "      <td>3.944500</td>\n",
       "      <td>4.180850</td>\n",
       "      <td>654.252357</td>\n",
       "      <td>709.699589</td>\n",
       "      <td>699.747068</td>\n",
       "      <td>808.629381</td>\n",
       "      <td>702.619061</td>\n",
       "    </tr>\n",
       "    <tr>\n",
       "      <th>max</th>\n",
       "      <td>7683.000000</td>\n",
       "      <td>7104.000000</td>\n",
       "      <td>6391.000000</td>\n",
       "      <td>6266.000000</td>\n",
       "      <td>6193.000000</td>\n",
       "      <td>4.726000</td>\n",
       "      <td>4.692000</td>\n",
       "      <td>4.662000</td>\n",
       "      <td>4.640000</td>\n",
       "      <td>4.710500</td>\n",
       "      <td>4.709500</td>\n",
       "      <td>1775.738799</td>\n",
       "      <td>1631.340850</td>\n",
       "      <td>1469.533226</td>\n",
       "      <td>1441.785550</td>\n",
       "      <td>1426.958525</td>\n",
       "    </tr>\n",
       "  </tbody>\n",
       "</table>\n",
       "</div>"
      ],
      "text/plain": [
       "            FCPOc1       FCPOc3       FCPOc6       FCPOc9      FCPOc12  \\\n",
       "count   507.000000   506.000000   462.000000   387.000000   190.000000   \n",
       "mean   1805.964497  1781.381423  1838.099567  2021.581395  2768.121053   \n",
       "std    1071.874249  1021.147841   985.900508   936.214918   685.140360   \n",
       "min     450.000000   448.000000   445.000000   768.000000  1620.000000   \n",
       "25%     952.500000   943.750000  1002.250000  1241.000000  2367.500000   \n",
       "50%    1455.000000  1443.500000  1515.500000  2050.000000  2543.000000   \n",
       "75%    2405.000000  2416.000000  2455.750000  2544.500000  3029.000000   \n",
       "max    7683.000000  7104.000000  6391.000000  6266.000000  6193.000000   \n",
       "\n",
       "             MYR=     MYR3MV=     MYR6MV=     MYR9MV=     MYR1YV=  \\\n",
       "count  507.000000  392.000000  392.000000  337.000000  375.000000   \n",
       "mean     3.250021    3.487300    3.523551    3.217639    3.535610   \n",
       "std      0.675405    0.592425    0.548910    0.635356    0.587528   \n",
       "min      2.147000    2.434800    2.491200    2.664500    2.437000   \n",
       "25%      2.565500    3.060790    3.079750    2.776500    3.165750   \n",
       "50%      3.245000    3.659100    3.651700    2.817500    3.676800   \n",
       "75%      3.799750    3.813700    3.829200    3.968000    3.944500   \n",
       "max      4.726000    4.692000    4.662000    4.640000    4.710500   \n",
       "\n",
       "       MYR1YNDFOR=   FCPOc1 USD   FCPOc3 USD   FCPOc6 USD   FCPOc9 USD  \\\n",
       "count   220.000000   507.000000   392.000000   392.000000   337.000000   \n",
       "mean      3.729375   539.169074   578.063262   564.944348   670.837715   \n",
       "std       0.462950   258.906174   254.011060   246.249191   244.061359   \n",
       "min       2.986000   172.744722   198.587937     0.000000     0.000000   \n",
       "25%       3.307125   354.232570   371.918549   371.339232   507.706256   \n",
       "50%       3.690000   475.426279   538.159826   523.181643   607.327971   \n",
       "75%       4.180850   654.252357   709.699589   699.747068   808.629381   \n",
       "max       4.709500  1775.738799  1631.340850  1469.533226  1441.785550   \n",
       "\n",
       "       FCPOc12 USD  \n",
       "count   375.000000  \n",
       "mean    379.219281  \n",
       "std     398.023928  \n",
       "min       0.000000  \n",
       "25%       0.000000  \n",
       "50%     506.811232  \n",
       "75%     702.619061  \n",
       "max    1426.958525  "
      ]
     },
     "execution_count": 2,
     "metadata": {},
     "output_type": "execute_result"
    }
   ],
   "source": [
    "xls_file = pd.ExcelFile(\"Data_monthly_final.xlsx\") # Read Excel\n",
    "df1=xls_file.parse(\"FCPO\") # Read the first sheet (Portfolio holdings)\n",
    "\n",
    "#df1[\"Timestamp\"] = df1[\"Date\"].astype('datetime64[ns]') # Convert column to date format\n",
    "df1 = df1.set_index(['Timestamp']) # use first column as index\n",
    "\n",
    "#df1.to_excel(\"values.xlsx\")  #print to excel\n",
    "\n",
    "\n",
    "df1.describe()"
   ]
  },
  {
   "cell_type": "code",
   "execution_count": 24,
   "metadata": {},
   "outputs": [
    {
     "data": {
      "text/plain": [
       "<AxesSubplot:xlabel='Timestamp'>"
      ]
     },
     "execution_count": 24,
     "metadata": {},
     "output_type": "execute_result"
    },
    {
     "data": {
      "image/png": "[encoded data removed]",
      "text/plain": [
       "<Figure size 432x288 with 1 Axes>"
      ]
     },
     "metadata": {
      "needs_background": "light"
     },
     "output_type": "display_data"
    }
   ],
   "source": [
    "spot = df1[\"FCPOc1 USD\"]\n",
    "#spot = np.log(spot)\n",
    "spot = spot.loc['2004-01-31':'2022-11-30']\n",
    "spot_train = spot.loc[:'2016-07-31']\n",
    "spot_train.plot()"
   ]
  },
  {
   "cell_type": "code",
   "execution_count": 25,
   "metadata": {},
   "outputs": [
    {
     "data": {
      "text/plain": [
       "count    151.000000\n",
       "mean       6.486399\n",
       "std        0.350372\n",
       "min        5.815832\n",
       "25%        6.249389\n",
       "50%        6.547753\n",
       "75%        6.719360\n",
       "max        7.134813\n",
       "Name: FCPOc1 USD, dtype: float64"
      ]
     },
     "execution_count": 25,
     "metadata": {},
     "output_type": "execute_result"
    }
   ],
   "source": [
    "#statistics\n",
    "\n",
    "#mean\n",
    "#sd\n",
    "#skewness\n",
    "#kurtosis\n",
    "#jb test\n",
    "#Ljung Box Q(6) and Q^2(6)\n",
    "#observations\n",
    "\n",
    "spot_train.describe()\n",
    "#spot.dropna().describe()"
   ]
  },
  {
   "cell_type": "code",
   "execution_count": 26,
   "metadata": {},
   "outputs": [
    {
     "name": "stdout",
     "output_type": "stream",
     "text": [
      "Skewness spot: -0.17006574375806946\n",
      "Skewness logs: -0.2500808475104122\n",
      "Kurtosis spot: 2.0283912472250507\n",
      "Kurtosis logs: 2.0361906227188964\n",
      "JB spot: Jarque_beraResult(statistic=6.667360941149747, pvalue=0.03566161172479254)\n",
      "JB logs: Jarque_beraResult(statistic=7.418442740502711, pvalue=0.024496589621295306)\n",
      "Q(6) spot:       lb_stat      lb_pvalue\n",
      "6  692.458316  2.598921e-146\n",
      "Q(6) logs:       lb_stat      lb_pvalue\n",
      "6  698.713489  1.159547e-147\n"
     ]
    }
   ],
   "source": [
    "print(\"Skewness spot:\", scipy.stats.skew(spot_train.dropna(), axis=0, bias=True))\n",
    "print(\"Skewness logs:\", scipy.stats.skew(np.log(spot_train.dropna()), axis=0, bias=True))\n",
    "print(\"Kurtosis spot:\", scipy.stats.kurtosis(spot_train.dropna(), axis=0, fisher=False, bias=True))\n",
    "print(\"Kurtosis logs:\", scipy.stats.kurtosis(np.log(spot_train.dropna()), fisher=False, axis=0, bias=True))\n",
    "\n",
    "print(\"JB spot:\", scipy.stats.jarque_bera(spot_train.dropna()))\n",
    "print(\"JB logs:\", scipy.stats.jarque_bera(np.log(spot_train.dropna())))\n",
    "#The Jarque-Bera Test is typically used for large datasets (n > 2000) in which other normality tests (like the Shapiro-Wilk test) are unreliable.\n",
    "\n",
    "print(\"Q(6) spot:\", sm.stats.acorr_ljungbox(spot_train.dropna(), lags=[6]))\n",
    "print(\"Q(6) logs:\", sm.stats.acorr_ljungbox(np.log(spot_train.dropna()), lags=[6]))"
   ]
  },
  {
   "cell_type": "code",
   "execution_count": 27,
   "metadata": {},
   "outputs": [
    {
     "name": "stdout",
     "output_type": "stream",
     "text": [
      "ADF spot: (-1.9717050963632765, 0.2991155382496726, 6, 144, {'1%': -3.476597917537401, '5%': -2.8818291230495543, '10%': -2.5775887982253085}, -276.5995759512085)\n",
      "ADF logs: (-1.763873683183738, 0.3985390892987292, 1, 149, {'1%': -3.4750180242954167, '5%': -2.8811408028842043, '10%': -2.577221358046935}, -787.4985924826756)\n",
      "PP spot:      Phillips-Perron Test (Z-tau)    \n",
      "=====================================\n",
      "Test Statistic                 -1.831\n",
      "P-value                         0.365\n",
      "Lags                               14\n",
      "-------------------------------------\n",
      "\n",
      "Trend: Constant\n",
      "Critical Values: -3.47 (1%), -2.88 (5%), -2.58 (10%)\n",
      "Null Hypothesis: The process contains a unit root.\n",
      "Alternative Hypothesis: The process is weakly stationary.\n",
      "PP logs:      Phillips-Perron Test (Z-tau)    \n",
      "=====================================\n",
      "Test Statistic                 -1.814\n",
      "P-value                         0.374\n",
      "Lags                               14\n",
      "-------------------------------------\n",
      "\n",
      "Trend: Constant\n",
      "Critical Values: -3.47 (1%), -2.88 (5%), -2.58 (10%)\n",
      "Null Hypothesis: The process contains a unit root.\n",
      "Alternative Hypothesis: The process is weakly stationary.\n"
     ]
    }
   ],
   "source": [
    "#stationarity\n",
    "\n",
    "#augmented Dickie-Fuller\n",
    "#PP test - Phillips and Perron\n",
    "#KPSS\n",
    "\n",
    "print(\"ADF spot:\", adfuller(spot_train.dropna()))\n",
    "print(\"ADF logs:\", adfuller(np.log(spot_train.dropna())))\n",
    "\n",
    "print(\"PP spot:\", PhillipsPerron(spot_train.dropna()).summary().as_text())\n",
    "print(\"PP logs:\", PhillipsPerron(np.log(spot_train.dropna())).summary().as_text())\n",
    "\n"
   ]
  },
  {
   "cell_type": "code",
   "execution_count": 28,
   "metadata": {},
   "outputs": [
    {
     "name": "stdout",
     "output_type": "stream",
     "text": [
      "KPSS spot:     KPSS Stationarity Test Results   \n",
      "=====================================\n",
      "Test Statistic                  0.668\n",
      "P-value                         0.015\n",
      "Lags                                8\n",
      "-------------------------------------\n",
      "\n",
      "Trend: Constant\n",
      "Critical Values: 0.74 (1%), 0.46 (5%), 0.35 (10%)\n",
      "Null Hypothesis: The process is weakly stationary.\n",
      "Alternative Hypothesis: The process contains a unit root.\n",
      "KPSS logs:     KPSS Stationarity Test Results   \n",
      "=====================================\n",
      "Test Statistic                  0.686\n",
      "P-value                         0.014\n",
      "Lags                                8\n",
      "-------------------------------------\n",
      "\n",
      "Trend: Constant\n",
      "Critical Values: 0.74 (1%), 0.46 (5%), 0.35 (10%)\n",
      "Null Hypothesis: The process is weakly stationary.\n",
      "Alternative Hypothesis: The process contains a unit root.\n"
     ]
    }
   ],
   "source": [
    "\n",
    "print(\"KPSS spot:\", KPSS(spot_train.dropna()).summary().as_text())\n",
    "print(\"KPSS logs:\", KPSS(np.log(spot_train.dropna())).summary().as_text())"
   ]
  },
  {
   "cell_type": "code",
   "execution_count": 29,
   "metadata": {},
   "outputs": [
    {
     "name": "stdout",
     "output_type": "stream",
     "text": [
      "ACF and PACF spot:\n",
      "ACF and PACF logs:\n"
     ]
    },
    {
     "name": "stderr",
     "output_type": "stream",
     "text": [
      "c:\\Users\\tatuh\\anaconda3\\lib\\site-packages\\statsmodels\\graphics\\tsaplots.py:348: FutureWarning: The default method 'yw' can produce PACF values outside of the [-1,1] interval. After 0.13, the default will change tounadjusted Yule-Walker ('ywm'). You can use this method now by setting method='ywm'.\n",
      "  warnings.warn(\n",
      "c:\\Users\\tatuh\\anaconda3\\lib\\site-packages\\statsmodels\\graphics\\tsaplots.py:348: FutureWarning: The default method 'yw' can produce PACF values outside of the [-1,1] interval. After 0.13, the default will change tounadjusted Yule-Walker ('ywm'). You can use this method now by setting method='ywm'.\n",
      "  warnings.warn(\n"
     ]
    },
    {
     "data": {
      "image/png": "[encoded data removed]",
      "text/plain": [
       "<Figure size 432x288 with 1 Axes>"
      ]
     },
     "execution_count": 29,
     "metadata": {},
     "output_type": "execute_result"
    },
    {
     "data": {
      "image/png": "[encoded data removed]",
      "text/plain": [
       "<Figure size 432x288 with 1 Axes>"
      ]
     },
     "metadata": {
      "needs_background": "light"
     },
     "output_type": "display_data"
    },
    {
     "data": {
      "image/png": "[encoded data removed]",
      "text/plain": [
       "<Figure size 432x288 with 1 Axes>"
      ]
     },
     "metadata": {
      "needs_background": "light"
     },
     "output_type": "display_data"
    },
    {
     "data": {
      "image/png": "[encoded data removed]",
      "text/plain": [
       "<Figure size 432x288 with 1 Axes>"
      ]
     },
     "metadata": {
      "needs_background": "light"
     },
     "output_type": "display_data"
    },
    {
     "data": {
      "image/png": "[encoded data removed]",
      "text/plain": [
       "<Figure size 432x288 with 1 Axes>"
      ]
     },
     "metadata": {
      "needs_background": "light"
     },
     "output_type": "display_data"
    }
   ],
   "source": [
    "#ACF and PACF\n",
    "\n",
    "print(\"ACF and PACF spot:\")\n",
    "plot_acf(spot_train.dropna(), lags = 20)\n",
    "plot_pacf(spot_train.dropna(), lags = 20)\n",
    "\n",
    "\n",
    "print(\"ACF and PACF logs:\")\n",
    "plot_acf(np.log(spot_train.dropna()), lags = 20)\n",
    "plot_pacf(np.log(spot_train.dropna()), lags = 20)\n",
    "\n"
   ]
  },
  {
   "cell_type": "code",
   "execution_count": 30,
   "metadata": {},
   "outputs": [
    {
     "data": {
      "text/plain": [
       "0.6782943507735172"
      ]
     },
     "execution_count": 30,
     "metadata": {},
     "output_type": "execute_result"
    },
    {
     "data": {
      "image/png": "[encoded data removed]",
      "text/plain": [
       "<Figure size 432x288 with 1 Axes>"
      ]
     },
     "metadata": {
      "needs_background": "light"
     },
     "output_type": "display_data"
    }
   ],
   "source": [
    "spot_train.hist()\n",
    "0.6782943507735172"
   ]
  },
  {
   "cell_type": "code",
   "execution_count": 31,
   "metadata": {},
   "outputs": [
    {
     "data": {
      "text/plain": [
       "<AxesSubplot:>"
      ]
     },
     "execution_count": 31,
     "metadata": {},
     "output_type": "execute_result"
    },
    {
     "data": {
      "image/png": "[encoded data removed]",
      "text/plain": [
       "<Figure size 432x288 with 1 Axes>"
      ]
     },
     "metadata": {
      "needs_background": "light"
     },
     "output_type": "display_data"
    }
   ],
   "source": [
    "np.log(spot_train).hist()"
   ]
  },
  {
   "cell_type": "code",
   "execution_count": 32,
   "metadata": {},
   "outputs": [],
   "source": [
    "# Load the data and split it into separate pieces\n",
    "data = np.array(spot.dropna())\n",
    "train, test = model_selection.train_test_split(data, train_size=(spot_train.shape[0]))\n",
    "#train, test = model_selection.train_test_split(data, train_size=(spot.shape[0]-1))"
   ]
  },
  {
   "cell_type": "code",
   "execution_count": 33,
   "metadata": {},
   "outputs": [
    {
     "name": "stdout",
     "output_type": "stream",
     "text": [
      "Performing stepwise search to minimize aic\n",
      " ARIMA(2,1,2)(0,0,0)[0] intercept   : AIC=-293.105, Time=0.05 sec\n",
      " ARIMA(0,1,0)(0,0,0)[0] intercept   : AIC=-303.439, Time=0.02 sec\n",
      " ARIMA(1,1,0)(0,0,0)[0] intercept   : AIC=-304.070, Time=0.02 sec\n",
      " ARIMA(0,1,1)(0,0,0)[0] intercept   : AIC=-303.932, Time=0.02 sec\n",
      " ARIMA(0,1,0)(0,0,0)[0]             : AIC=-305.401, Time=0.02 sec\n",
      " ARIMA(1,1,1)(0,0,0)[0] intercept   : AIC=-302.197, Time=0.03 sec\n",
      "\n",
      "Best model:  ARIMA(0,1,0)(0,0,0)[0]          \n",
      "Total fit time: 0.167 seconds\n"
     ]
    },
    {
     "data": {
      "image/png": "[encoded data removed]",
      "text/plain": [
       "<Figure size 432x288 with 1 Axes>"
      ]
     },
     "metadata": {
      "needs_background": "light"
     },
     "output_type": "display_data"
    }
   ],
   "source": [
    "# Fit a simple auto_arima model\n",
    "arima = pm.auto_arima(train, error_action='ignore', trace=True,\n",
    "                      suppress_warnings=True, maxiter=5,\n",
    "                      seasonal=False)\n",
    "\n",
    "#arima = pm.auto_arima(train, error_action='ignore', trace=True,\n",
    "                      #suppress_warnings=True, maxiter=5,\n",
    "                      #seasonal=True, m=12)\n",
    "\n",
    "# #############################################################################\n",
    "# Plot actual test vs. forecasts:\n",
    "x = np.arange(test.shape[0])\n",
    "plt.scatter(x, test, marker='x')\n",
    "plt.plot(x, arima.predict(n_periods=test.shape[0]))\n",
    "plt.title('Actual test samples vs. forecasts')\n",
    "plt.show()"
   ]
  },
  {
   "cell_type": "code",
   "execution_count": 34,
   "metadata": {},
   "outputs": [
    {
     "data": {
      "text/html": [
       "<table class=\"simpletable\">\n",
       "<caption>SARIMAX Results</caption>\n",
       "<tr>\n",
       "  <th>Dep. Variable:</th>           <td>y</td>        <th>  No. Observations:  </th>    <td>151</td>  \n",
       "</tr>\n",
       "<tr>\n",
       "  <th>Model:</th>           <td>SARIMAX(0, 1, 0)</td> <th>  Log Likelihood     </th>  <td>153.701</td>\n",
       "</tr>\n",
       "<tr>\n",
       "  <th>Date:</th>            <td>Sat, 07 Jan 2023</td> <th>  AIC                </th> <td>-305.401</td>\n",
       "</tr>\n",
       "<tr>\n",
       "  <th>Time:</th>                <td>14:17:03</td>     <th>  BIC                </th> <td>-302.391</td>\n",
       "</tr>\n",
       "<tr>\n",
       "  <th>Sample:</th>                  <td>0</td>        <th>  HQIC               </th> <td>-304.178</td>\n",
       "</tr>\n",
       "<tr>\n",
       "  <th></th>                      <td> - 151</td>      <th>                     </th>     <td> </td>   \n",
       "</tr>\n",
       "<tr>\n",
       "  <th>Covariance Type:</th>        <td>opg</td>       <th>                     </th>     <td> </td>   \n",
       "</tr>\n",
       "</table>\n",
       "<table class=\"simpletable\">\n",
       "<tr>\n",
       "     <td></td>       <th>coef</th>     <th>std err</th>      <th>z</th>      <th>P>|z|</th>  <th>[0.025</th>    <th>0.975]</th>  \n",
       "</tr>\n",
       "<tr>\n",
       "  <th>sigma2</th> <td>    0.0075</td> <td>    0.001</td> <td>   11.177</td> <td> 0.000</td> <td>    0.006</td> <td>    0.009</td>\n",
       "</tr>\n",
       "</table>\n",
       "<table class=\"simpletable\">\n",
       "<tr>\n",
       "  <th>Ljung-Box (L1) (Q):</th>     <td>2.66</td> <th>  Jarque-Bera (JB):  </th> <td>14.68</td>\n",
       "</tr>\n",
       "<tr>\n",
       "  <th>Prob(Q):</th>                <td>0.10</td> <th>  Prob(JB):          </th> <td>0.00</td> \n",
       "</tr>\n",
       "<tr>\n",
       "  <th>Heteroskedasticity (H):</th> <td>0.91</td> <th>  Skew:              </th> <td>-0.36</td>\n",
       "</tr>\n",
       "<tr>\n",
       "  <th>Prob(H) (two-sided):</th>    <td>0.73</td> <th>  Kurtosis:          </th> <td>4.35</td> \n",
       "</tr>\n",
       "</table><br/><br/>Warnings:<br/>[1] Covariance matrix calculated using the outer product of gradients (complex-step)."
      ],
      "text/plain": [
       "<class 'statsmodels.iolib.summary.Summary'>\n",
       "\"\"\"\n",
       "                               SARIMAX Results                                \n",
       "==============================================================================\n",
       "Dep. Variable:                      y   No. Observations:                  151\n",
       "Model:               SARIMAX(0, 1, 0)   Log Likelihood                 153.701\n",
       "Date:                Sat, 07 Jan 2023   AIC                           -305.401\n",
       "Time:                        14:17:03   BIC                           -302.391\n",
       "Sample:                             0   HQIC                          -304.178\n",
       "                                - 151                                         \n",
       "Covariance Type:                  opg                                         \n",
       "==============================================================================\n",
       "                 coef    std err          z      P>|z|      [0.025      0.975]\n",
       "------------------------------------------------------------------------------\n",
       "sigma2         0.0075      0.001     11.177      0.000       0.006       0.009\n",
       "===================================================================================\n",
       "Ljung-Box (L1) (Q):                   2.66   Jarque-Bera (JB):                14.68\n",
       "Prob(Q):                              0.10   Prob(JB):                         0.00\n",
       "Heteroskedasticity (H):               0.91   Skew:                            -0.36\n",
       "Prob(H) (two-sided):                  0.73   Kurtosis:                         4.35\n",
       "===================================================================================\n",
       "\n",
       "Warnings:\n",
       "[1] Covariance matrix calculated using the outer product of gradients (complex-step).\n",
       "\"\"\""
      ]
     },
     "execution_count": 34,
     "metadata": {},
     "output_type": "execute_result"
    }
   ],
   "source": [
    "arima.summary()"
   ]
  },
  {
   "cell_type": "code",
   "execution_count": 18,
   "metadata": {},
   "outputs": [
    {
     "data": {
      "text/plain": [
       "[<matplotlib.lines.Line2D at 0x23d2b87b610>]"
      ]
     },
     "execution_count": 18,
     "metadata": {},
     "output_type": "execute_result"
    },
    {
     "data": {
      "image/png": "[encoded data removed]",
      "text/plain": [
       "<Figure size 432x288 with 1 Axes>"
      ]
     },
     "metadata": {
      "needs_background": "light"
     },
     "output_type": "display_data"
    }
   ],
   "source": [
    "plt.plot(x, arima.predict(n_periods=test.shape[0]))"
   ]
  },
  {
   "cell_type": "code",
   "execution_count": 19,
   "metadata": {},
   "outputs": [
    {
     "data": {
      "text/plain": [
       "array([583.72264568, 583.72264568, 583.72264568, 583.72264568,\n",
       "       583.72264568, 583.72264568, 583.72264568, 583.72264568,\n",
       "       583.72264568, 583.72264568, 583.72264568, 583.72264568,\n",
       "       583.72264568, 583.72264568, 583.72264568, 583.72264568,\n",
       "       583.72264568, 583.72264568, 583.72264568, 583.72264568,\n",
       "       583.72264568, 583.72264568, 583.72264568, 583.72264568,\n",
       "       583.72264568, 583.72264568, 583.72264568, 583.72264568,\n",
       "       583.72264568, 583.72264568, 583.72264568, 583.72264568,\n",
       "       583.72264568, 583.72264568, 583.72264568, 583.72264568,\n",
       "       583.72264568, 583.72264568, 583.72264568, 583.72264568,\n",
       "       583.72264568, 583.72264568, 583.72264568, 583.72264568,\n",
       "       583.72264568, 583.72264568, 583.72264568, 583.72264568,\n",
       "       583.72264568, 583.72264568, 583.72264568, 583.72264568,\n",
       "       583.72264568, 583.72264568, 583.72264568, 583.72264568,\n",
       "       583.72264568, 583.72264568, 583.72264568, 583.72264568,\n",
       "       583.72264568, 583.72264568, 583.72264568, 583.72264568,\n",
       "       583.72264568, 583.72264568, 583.72264568, 583.72264568,\n",
       "       583.72264568, 583.72264568, 583.72264568, 583.72264568,\n",
       "       583.72264568, 583.72264568, 583.72264568, 583.72264568])"
      ]
     },
     "execution_count": 19,
     "metadata": {},
     "output_type": "execute_result"
    }
   ],
   "source": [
    "arima.predict(n_periods=test.shape[0])"
   ]
  },
  {
   "cell_type": "code",
   "execution_count": 21,
   "metadata": {},
   "outputs": [
    {
     "data": {
      "text/plain": [
       "<AxesSubplot:xlabel='Timestamp'>"
      ]
     },
     "execution_count": 21,
     "metadata": {},
     "output_type": "execute_result"
    },
    {
     "data": {
      "image/png": "[encoded data removed]",
      "text/plain": [
       "<Figure size 432x288 with 1 Axes>"
      ]
     },
     "metadata": {
      "needs_background": "light"
     },
     "output_type": "display_data"
    }
   ],
   "source": [
    "spot2 = np.log(spot).diff()\n",
    "#spot2 = spot.diff()\n",
    "spot_train2 = spot2.loc[:'2016-07-31'].dropna()\n",
    "spot_train2.plot()\n"
   ]
  },
  {
   "cell_type": "code",
   "execution_count": 22,
   "metadata": {},
   "outputs": [
    {
     "data": {
      "text/plain": [
       "count    150.000000\n",
       "mean       0.001370\n",
       "std        0.087127\n",
       "min       -0.315505\n",
       "25%       -0.039074\n",
       "50%        0.002619\n",
       "75%        0.059761\n",
       "max        0.279404\n",
       "Name: FCPOc1 USD, dtype: float64"
      ]
     },
     "execution_count": 22,
     "metadata": {},
     "output_type": "execute_result"
    }
   ],
   "source": [
    "#statistics\n",
    "\n",
    "#mean\n",
    "#sd\n",
    "#skewness\n",
    "#kurtosis\n",
    "#jb test\n",
    "#Ljung Box Q(6) and Q^2(6)\n",
    "#observations\n",
    "\n",
    "spot_train2.describe()\n",
    "#spot.dropna().describe()"
   ]
  },
  {
   "cell_type": "code",
   "execution_count": 23,
   "metadata": {},
   "outputs": [
    {
     "name": "stdout",
     "output_type": "stream",
     "text": [
      "Skewness spot: -0.35808790742773494\n",
      "Kurtosis spot: 4.354676462793729\n",
      "JB spot: Jarque_beraResult(statistic=14.675350728945148, pvalue=0.0006505610819158569)\n",
      "Q(6) spot:      lb_stat  lb_pvalue\n",
      "6  11.496558    0.07419\n"
     ]
    }
   ],
   "source": [
    "print(\"Skewness spot:\", scipy.stats.skew(spot_train2.dropna(), axis=0, bias=True))\n",
    "#print(\"Skewness logs:\", scipy.stats.skew(np.log(spot2.dropna()), axis=0, bias=True))\n",
    "print(\"Kurtosis spot:\", scipy.stats.kurtosis(spot_train2.dropna(), axis=0, fisher=False, bias=True))\n",
    "#print(\"Kurtosis logs:\", scipy.stats.kurtosis(np.log(spot2.dropna()), fisher=False, axis=0, bias=True))\n",
    "\n",
    "print(\"JB spot:\", scipy.stats.jarque_bera(spot_train2.dropna()))\n",
    "#print(\"JB logs:\", scipy.stats.jarque_bera(np.log(spot2.dropna())))\n",
    "#The Jarque-Bera Test is typically used for large datasets (n > 2000) in which other normality tests (like the Shapiro-Wilk test) are unreliable.\n",
    "\n",
    "print(\"Q(6) spot:\", sm.stats.acorr_ljungbox(spot_train2.dropna(), lags=[6]))\n",
    "#print(\"Q(6) logs:\", sm.stats.acorr_ljungbox(np.log(spot2.dropna()), lags=[6]))"
   ]
  },
  {
   "cell_type": "code",
   "execution_count": 24,
   "metadata": {},
   "outputs": [
    {
     "name": "stdout",
     "output_type": "stream",
     "text": [
      "ADF spot: (-5.651991325855623, 9.812575147996136e-07, 5, 144, {'1%': -3.476597917537401, '5%': -2.8818291230495543, '10%': -2.5775887982253085}, -271.34567735175784)\n",
      "PP spot:      Phillips-Perron Test (Z-tau)    \n",
      "=====================================\n",
      "Test Statistic                -10.599\n",
      "P-value                         0.000\n",
      "Lags                               14\n",
      "-------------------------------------\n",
      "\n",
      "Trend: Constant\n",
      "Critical Values: -3.48 (1%), -2.88 (5%), -2.58 (10%)\n",
      "Null Hypothesis: The process contains a unit root.\n",
      "Alternative Hypothesis: The process is weakly stationary.\n"
     ]
    }
   ],
   "source": [
    "#stationarity\n",
    "\n",
    "#augmented Dickie-Fuller\n",
    "#PP test - Phillips and Perron\n",
    "#KPSS\n",
    "\n",
    "print(\"ADF spot:\", adfuller(spot_train2.dropna()))\n",
    "#print(\"ADF logs:\", adfuller(np.log(spot2.dropna())))\n",
    "\n",
    "print(\"PP spot:\", PhillipsPerron(spot_train2.dropna()).summary().as_text())\n",
    "#print(\"PP logs:\", PhillipsPerron(np.log(spot2.dropna())).summary().as_text())"
   ]
  },
  {
   "cell_type": "code",
   "execution_count": 25,
   "metadata": {},
   "outputs": [
    {
     "name": "stdout",
     "output_type": "stream",
     "text": [
      "KPSS spot:     KPSS Stationarity Test Results   \n",
      "=====================================\n",
      "Test Statistic                  0.110\n",
      "P-value                         0.541\n",
      "Lags                                3\n",
      "-------------------------------------\n",
      "\n",
      "Trend: Constant\n",
      "Critical Values: 0.74 (1%), 0.46 (5%), 0.35 (10%)\n",
      "Null Hypothesis: The process is weakly stationary.\n",
      "Alternative Hypothesis: The process contains a unit root.\n"
     ]
    }
   ],
   "source": [
    "print(\"KPSS spot:\", KPSS(spot_train2.dropna()).summary().as_text())\n",
    "#print(\"KPSS logs:\", KPSS(np.log(spot2.dropna())).summary().as_text())"
   ]
  },
  {
   "cell_type": "code",
   "execution_count": 26,
   "metadata": {},
   "outputs": [
    {
     "name": "stdout",
     "output_type": "stream",
     "text": [
      "ACF and PACF spot:\n"
     ]
    },
    {
     "name": "stderr",
     "output_type": "stream",
     "text": [
      "c:\\Users\\tatuh\\anaconda3\\lib\\site-packages\\statsmodels\\graphics\\tsaplots.py:348: FutureWarning: The default method 'yw' can produce PACF values outside of the [-1,1] interval. After 0.13, the default will change tounadjusted Yule-Walker ('ywm'). You can use this method now by setting method='ywm'.\n",
      "  warnings.warn(\n"
     ]
    },
    {
     "data": {
      "image/png": "[encoded data removed]",
      "text/plain": [
       "<Figure size 432x288 with 1 Axes>"
      ]
     },
     "execution_count": 26,
     "metadata": {},
     "output_type": "execute_result"
    },
    {
     "data": {
      "image/png": "[encoded data removed]",
      "text/plain": [
       "<Figure size 432x288 with 1 Axes>"
      ]
     },
     "metadata": {
      "needs_background": "light"
     },
     "output_type": "display_data"
    },
    {
     "data": {
      "image/png": "[encoded data removed]",
      "text/plain": [
       "<Figure size 432x288 with 1 Axes>"
      ]
     },
     "metadata": {
      "needs_background": "light"
     },
     "output_type": "display_data"
    }
   ],
   "source": [
    "#ACF and PACF\n",
    "\n",
    "print(\"ACF and PACF spot:\")\n",
    "plot_acf(spot_train2.dropna(), lags = 20)\n",
    "plot_pacf(spot_train2.dropna(), lags = 20)\n",
    "\n",
    "\n",
    "#print(\"ACF and PACF logs:\")\n",
    "#plot_acf(np.log(spot2.dropna()), lags = 15)\n",
    "#plot_pacf(np.log(spot2.dropna()), lags = 15)\n"
   ]
  },
  {
   "cell_type": "code",
   "execution_count": 27,
   "metadata": {},
   "outputs": [
    {
     "data": {
      "text/plain": [
       "<AxesSubplot:>"
      ]
     },
     "execution_count": 27,
     "metadata": {},
     "output_type": "execute_result"
    },
    {
     "data": {
      "image/png": "[encoded data removed]",
      "text/plain": [
       "<Figure size 432x288 with 1 Axes>"
      ]
     },
     "metadata": {
      "needs_background": "light"
     },
     "output_type": "display_data"
    }
   ],
   "source": [
    "spot_train2.hist()\n"
   ]
  },
  {
   "cell_type": "code",
   "execution_count": 28,
   "metadata": {},
   "outputs": [],
   "source": [
    "# Load the data and split it into separate pieces\n",
    "data2 = np.array(spot2.dropna())\n",
    "train2, test2 = model_selection.train_test_split(data2, train_size=(spot_train2.shape[0]))"
   ]
  },
  {
   "cell_type": "code",
   "execution_count": 29,
   "metadata": {},
   "outputs": [
    {
     "data": {
      "text/plain": [
       "array([ 9.94141527e-02, -2.25927401e-02,  9.00744900e-02,  5.91221972e-02,\n",
       "       -5.85423189e-02,  1.48669849e-01, -1.05475614e-02,  1.57786720e-01,\n",
       "        5.45437197e-02, -7.34799695e-02, -1.17618250e-01,  1.26586920e-01,\n",
       "        8.63215340e-02,  8.11177619e-02, -6.07512646e-02, -7.07133176e-03,\n",
       "        9.13059727e-02,  6.59656240e-02,  1.21202034e-01, -5.42661867e-02,\n",
       "       -8.85592318e-02, -5.39238007e-02,  6.89565402e-02,  1.12304812e-01,\n",
       "       -6.62473097e-02,  6.50342693e-02,  9.52963868e-02, -2.92512633e-02,\n",
       "        4.30861529e-02,  2.20646648e-02, -6.74258080e-02, -1.17213803e-01,\n",
       "       -5.68007163e-02,  8.48915644e-02, -5.43612092e-02, -5.85318411e-02,\n",
       "        7.53143124e-02,  9.56185974e-02, -6.62985854e-03,  5.74841291e-03,\n",
       "        4.83421480e-02,  7.60166462e-02, -5.82507383e-02,  8.53936157e-02,\n",
       "        1.35187845e-01, -2.64982802e-02,  6.14107592e-02, -1.76291785e-02,\n",
       "        8.21011018e-02,  1.99600865e-03,  1.04602502e-01,  1.37541839e-01,\n",
       "        9.01173639e-02, -1.20307137e-01, -8.34833135e-02, -1.49936279e-01,\n",
       "       -4.07402402e-01, -1.99803548e-01, -1.59806326e-01,  6.34089804e-03,\n",
       "        1.01919998e-02,  6.02819018e-02,  3.13931608e-02,  2.54459085e-01,\n",
       "        5.60894667e-02,  3.40458414e-02, -2.90080474e-02, -8.36221712e-03,\n",
       "        8.50307479e-02,  4.25651552e-02, -6.90539828e-03, -8.66731353e-02,\n",
       "        8.23007003e-02,  6.37810491e-02,  5.57332418e-02, -1.58142320e-01,\n",
       "        4.81091400e-03,  4.13924224e-02, -4.63373038e-02,  9.78160504e-02,\n",
       "        1.01535987e-02,  3.27704251e-02,  9.78252132e-02,  6.39776779e-02,\n",
       "        1.01492039e-01,  4.85345731e-02,  7.01623759e-02, -7.55449341e-02,\n",
       "       -3.70881476e-02,  3.71738117e-02, -1.63223106e-02, -1.11230757e-01,\n",
       "        6.40761722e-02,  8.72415566e-03, -2.88225551e-02,  3.29760599e-02,\n",
       "        1.00066295e-01,  1.79196920e-03, -2.81429756e-02, -1.59367803e-01,\n",
       "       -4.07729136e-02,  7.02735780e-02,  8.79878349e-02, -1.92110244e-02,\n",
       "       -3.33831714e-02,  2.30083355e-02, -1.07942801e-03,  3.91826351e-02,\n",
       "       -3.67555586e-02, -1.22856107e-02, -7.20684665e-02, -1.95311002e-02,\n",
       "        1.74776110e-02,  5.28093724e-02,  5.69365797e-02, -5.07348659e-02,\n",
       "        4.32761598e-03,  7.77929151e-03,  1.00685689e-02, -4.05211974e-02,\n",
       "        2.47843010e-02, -1.20833458e-02,  2.87263321e-03,  1.23231282e-02,\n",
       "        2.66057087e-02, -5.80802467e-02, -2.70558064e-02, -8.61747890e-02,\n",
       "       -9.76790973e-02, -2.02082256e-01, -2.01811760e-01, -7.87208304e-02,\n",
       "        1.66342522e-01, -1.27114550e-01,  1.92072447e-01, -1.84378806e-02,\n",
       "       -3.05095286e-02, -1.97182178e-01,  3.64839260e-02, -1.12878187e-01,\n",
       "        2.43042699e-02, -1.05226008e-01, -1.79501059e-01, -7.05652290e-02,\n",
       "        3.47934969e-02,  9.61438606e-02,  1.95076565e-01,  3.18980223e-02,\n",
       "       -2.01267989e-04, -1.57039981e-01])"
      ]
     },
     "execution_count": 29,
     "metadata": {},
     "output_type": "execute_result"
    }
   ],
   "source": [
    "train2"
   ]
  },
  {
   "cell_type": "code",
   "execution_count": 30,
   "metadata": {},
   "outputs": [
    {
     "name": "stdout",
     "output_type": "stream",
     "text": [
      "Performing stepwise search to minimize aic\n",
      " ARIMA(2,0,2)(0,0,0)[0]             : AIC=-296.359, Time=0.04 sec\n",
      " ARIMA(0,0,0)(0,0,0)[0]             : AIC=-288.825, Time=0.02 sec\n",
      " ARIMA(1,0,0)(0,0,0)[0]             : AIC=-298.902, Time=0.07 sec\n",
      " ARIMA(0,0,1)(0,0,0)[0]             : AIC=-296.306, Time=0.02 sec\n",
      " ARIMA(2,0,0)(0,0,0)[0]             : AIC=-297.814, Time=0.02 sec\n",
      " ARIMA(1,0,1)(0,0,0)[0]             : AIC=-297.394, Time=0.02 sec\n",
      " ARIMA(2,0,1)(0,0,0)[0]             : AIC=-287.640, Time=0.02 sec\n",
      " ARIMA(1,0,0)(0,0,0)[0] intercept   : AIC=-296.957, Time=0.02 sec\n",
      "\n",
      "Best model:  ARIMA(1,0,0)(0,0,0)[0]          \n",
      "Total fit time: 0.239 seconds\n"
     ]
    },
    {
     "data": {
      "image/png": "[encoded data removed]",
      "text/plain": [
       "<Figure size 432x288 with 1 Axes>"
      ]
     },
     "metadata": {
      "needs_background": "light"
     },
     "output_type": "display_data"
    }
   ],
   "source": [
    "# Fit a simple auto_arima model\n",
    "arima2 = pm.auto_arima(train2, error_action='ignore', trace=True,\n",
    "                      suppress_warnings=True, maxiter=5,\n",
    "                      seasonal=False)\n",
    "\n",
    "#arima = pm.auto_arima(train, error_action='ignore', trace=True,\n",
    "                      #suppress_warnings=True, maxiter=5,\n",
    "                      #seasonal=True, m=12)\n",
    "\n",
    "# #############################################################################\n",
    "# Plot actual test vs. forecasts:\n",
    "x2 = np.arange(test2.shape[0])\n",
    "plt.scatter(x2, test2, marker='x')\n",
    "plt.plot(x2, arima2.predict(n_periods=test2.shape[0]))\n",
    "plt.title('Actual test samples vs. forecasts')\n",
    "plt.show()"
   ]
  },
  {
   "cell_type": "code",
   "execution_count": 31,
   "metadata": {},
   "outputs": [
    {
     "data": {
      "text/html": [
       "<table class=\"simpletable\">\n",
       "<caption>SARIMAX Results</caption>\n",
       "<tr>\n",
       "  <th>Dep. Variable:</th>           <td>y</td>        <th>  No. Observations:  </th>    <td>150</td>  \n",
       "</tr>\n",
       "<tr>\n",
       "  <th>Model:</th>           <td>SARIMAX(1, 0, 0)</td> <th>  Log Likelihood     </th>  <td>151.451</td>\n",
       "</tr>\n",
       "<tr>\n",
       "  <th>Date:</th>            <td>Sat, 31 Dec 2022</td> <th>  AIC                </th> <td>-298.902</td>\n",
       "</tr>\n",
       "<tr>\n",
       "  <th>Time:</th>                <td>08:55:51</td>     <th>  BIC                </th> <td>-292.881</td>\n",
       "</tr>\n",
       "<tr>\n",
       "  <th>Sample:</th>                  <td>0</td>        <th>  HQIC               </th> <td>-296.456</td>\n",
       "</tr>\n",
       "<tr>\n",
       "  <th></th>                      <td> - 150</td>      <th>                     </th>     <td> </td>   \n",
       "</tr>\n",
       "<tr>\n",
       "  <th>Covariance Type:</th>        <td>opg</td>       <th>                     </th>     <td> </td>   \n",
       "</tr>\n",
       "</table>\n",
       "<table class=\"simpletable\">\n",
       "<tr>\n",
       "     <td></td>       <th>coef</th>     <th>std err</th>      <th>z</th>      <th>P>|z|</th>  <th>[0.025</th>    <th>0.975]</th>  \n",
       "</tr>\n",
       "<tr>\n",
       "  <th>ar.L1</th>  <td>    0.2807</td> <td>    0.075</td> <td>    3.757</td> <td> 0.000</td> <td>    0.134</td> <td>    0.427</td>\n",
       "</tr>\n",
       "<tr>\n",
       "  <th>sigma2</th> <td>    0.0078</td> <td>    0.001</td> <td>   10.617</td> <td> 0.000</td> <td>    0.006</td> <td>    0.009</td>\n",
       "</tr>\n",
       "</table>\n",
       "<table class=\"simpletable\">\n",
       "<tr>\n",
       "  <th>Ljung-Box (L1) (Q):</th>     <td>0.08</td> <th>  Jarque-Bera (JB):  </th> <td>14.59</td>\n",
       "</tr>\n",
       "<tr>\n",
       "  <th>Prob(Q):</th>                <td>0.78</td> <th>  Prob(JB):          </th> <td>0.00</td> \n",
       "</tr>\n",
       "<tr>\n",
       "  <th>Heteroskedasticity (H):</th> <td>1.22</td> <th>  Skew:              </th> <td>-0.37</td>\n",
       "</tr>\n",
       "<tr>\n",
       "  <th>Prob(H) (two-sided):</th>    <td>0.49</td> <th>  Kurtosis:          </th> <td>4.34</td> \n",
       "</tr>\n",
       "</table><br/><br/>Warnings:<br/>[1] Covariance matrix calculated using the outer product of gradients (complex-step)."
      ],
      "text/plain": [
       "<class 'statsmodels.iolib.summary.Summary'>\n",
       "\"\"\"\n",
       "                               SARIMAX Results                                \n",
       "==============================================================================\n",
       "Dep. Variable:                      y   No. Observations:                  150\n",
       "Model:               SARIMAX(1, 0, 0)   Log Likelihood                 151.451\n",
       "Date:                Sat, 31 Dec 2022   AIC                           -298.902\n",
       "Time:                        08:55:51   BIC                           -292.881\n",
       "Sample:                             0   HQIC                          -296.456\n",
       "                                - 150                                         \n",
       "Covariance Type:                  opg                                         \n",
       "==============================================================================\n",
       "                 coef    std err          z      P>|z|      [0.025      0.975]\n",
       "------------------------------------------------------------------------------\n",
       "ar.L1          0.2807      0.075      3.757      0.000       0.134       0.427\n",
       "sigma2         0.0078      0.001     10.617      0.000       0.006       0.009\n",
       "===================================================================================\n",
       "Ljung-Box (L1) (Q):                   0.08   Jarque-Bera (JB):                14.59\n",
       "Prob(Q):                              0.78   Prob(JB):                         0.00\n",
       "Heteroskedasticity (H):               1.22   Skew:                            -0.37\n",
       "Prob(H) (two-sided):                  0.49   Kurtosis:                         4.34\n",
       "===================================================================================\n",
       "\n",
       "Warnings:\n",
       "[1] Covariance matrix calculated using the outer product of gradients (complex-step).\n",
       "\"\"\""
      ]
     },
     "execution_count": 31,
     "metadata": {},
     "output_type": "execute_result"
    }
   ],
   "source": [
    "arima2.summary()"
   ]
  },
  {
   "cell_type": "code",
   "execution_count": 32,
   "metadata": {},
   "outputs": [
    {
     "data": {
      "text/plain": [
       "[<matplotlib.lines.Line2D at 0x171fe591640>]"
      ]
     },
     "execution_count": 32,
     "metadata": {},
     "output_type": "execute_result"
    },
    {
     "data": {
      "image/png": "[encoded data removed]",
      "text/plain": [
       "<Figure size 432x288 with 1 Axes>"
      ]
     },
     "metadata": {
      "needs_background": "light"
     },
     "output_type": "display_data"
    }
   ],
   "source": [
    "plt.plot(x2, arima2.predict(n_periods=test2.shape[0]))"
   ]
  },
  {
   "cell_type": "code",
   "execution_count": 33,
   "metadata": {},
   "outputs": [
    {
     "data": {
      "text/plain": [
       "array([-4.40798827e-02, -1.23728750e-02, -3.47296832e-03, -9.74834783e-04,\n",
       "       -2.73628426e-04, -7.68053385e-05, -2.15586520e-05, -6.05134339e-06,\n",
       "       -1.69856431e-06, -4.76773589e-07, -1.33826582e-07, -3.75640647e-08,\n",
       "       -1.05439363e-08, -2.95959967e-09, -8.30736259e-10, -2.33181108e-10,\n",
       "       -6.54520958e-11, -1.83718864e-11, -5.15684346e-12, -1.44748524e-12,\n",
       "       -4.06297677e-13, -1.14044550e-13, -3.20114045e-14, -8.98534848e-15,\n",
       "       -2.52211637e-15, -7.07938149e-16, -1.98712648e-16, -5.57770713e-17,\n",
       "       -1.56561835e-17, -4.39456707e-18, -1.23352028e-18, -3.46239401e-19,\n",
       "       -9.71866660e-20, -2.72795297e-20, -7.65714859e-21, -2.14930114e-21,\n",
       "       -6.03291860e-22, -1.69339261e-22, -4.75321935e-23, -1.33419114e-23,\n",
       "       -3.74496917e-24, -1.05118328e-24, -2.95058845e-25, -8.28206879e-26,\n",
       "       -2.32471131e-26, -6.52528108e-27, -1.83159487e-27, -5.14114218e-28,\n",
       "       -1.44307802e-28, -4.05060604e-29, -1.13697313e-29, -3.19139380e-30,\n",
       "       -8.95799039e-31, -2.51443717e-31, -7.05782658e-32, -1.98107619e-32,\n",
       "       -5.56072443e-33, -1.56085144e-33, -4.38118674e-34, -1.22976452e-34,\n",
       "       -3.45185191e-35, -9.68907574e-36, -2.71964705e-36, -7.63383452e-37,\n",
       "       -2.14275707e-37, -6.01454990e-38, -1.68823666e-38, -4.73874701e-39,\n",
       "       -1.33012887e-39, -3.73356670e-40, -1.04798269e-40, -2.94160466e-41,\n",
       "       -8.25685201e-42, -2.31763316e-42, -6.50541327e-43, -1.82601814e-43])"
      ]
     },
     "execution_count": 33,
     "metadata": {},
     "output_type": "execute_result"
    }
   ],
   "source": [
    "tests = arima2.predict(n_periods=test2.shape[0])\n",
    "tests"
   ]
  },
  {
   "cell_type": "code",
   "execution_count": 34,
   "metadata": {},
   "outputs": [
    {
     "data": {
      "image/png": "[encoded data removed]",
      "text/plain": [
       "<Figure size 720x360 with 1 Axes>"
      ]
     },
     "metadata": {
      "needs_background": "light"
     },
     "output_type": "display_data"
    }
   ],
   "source": [
    "cum_res = np.exp(tests.cumsum())*spot.iloc[spot_train.shape[0]-1]\n",
    "#cum_res = tests.cumsum()+spot.iloc[spot_train.shape[0]-1]\n",
    "plt.figure(figsize=(10,5))\n",
    "plt.plot(cum_res, color='g',label = 'NAV Returns')\n",
    "plt.legend()\n",
    "plt.show()"
   ]
  },
  {
   "cell_type": "code",
   "execution_count": 35,
   "metadata": {},
   "outputs": [
    {
     "data": {
      "text/plain": [
       "array([40.62901935, 40.12941869, 39.99029222, 39.95132729, 39.94039697,\n",
       "       39.93732945, 39.93646846, 39.93622679, 39.93615896, 39.93613992,\n",
       "       39.93613458, 39.93613307, 39.93613265, 39.93613254, 39.9361325 ,\n",
       "       39.93613249, 39.93613249, 39.93613249, 39.93613249, 39.93613249,\n",
       "       39.93613249, 39.93613249, 39.93613249, 39.93613249, 39.93613249,\n",
       "       39.93613249, 39.93613249, 39.93613249, 39.93613249, 39.93613249,\n",
       "       39.93613249, 39.93613249, 39.93613249, 39.93613249, 39.93613249,\n",
       "       39.93613249, 39.93613249, 39.93613249, 39.93613249, 39.93613249,\n",
       "       39.93613249, 39.93613249, 39.93613249, 39.93613249, 39.93613249,\n",
       "       39.93613249, 39.93613249, 39.93613249, 39.93613249, 39.93613249,\n",
       "       39.93613249, 39.93613249, 39.93613249, 39.93613249, 39.93613249,\n",
       "       39.93613249, 39.93613249, 39.93613249, 39.93613249, 39.93613249,\n",
       "       39.93613249, 39.93613249, 39.93613249, 39.93613249, 39.93613249,\n",
       "       39.93613249, 39.93613249, 39.93613249, 39.93613249, 39.93613249,\n",
       "       39.93613249, 39.93613249, 39.93613249, 39.93613249, 39.93613249,\n",
       "       39.93613249])"
      ]
     },
     "execution_count": 35,
     "metadata": {},
     "output_type": "execute_result"
    }
   ],
   "source": [
    "cum_res"
   ]
  },
  {
   "cell_type": "code",
   "execution_count": 36,
   "metadata": {},
   "outputs": [],
   "source": [
    "#cointegration tests\n",
    "\n",
    "#normalized cv\n",
    "#LR test"
   ]
  },
  {
   "cell_type": "code",
   "execution_count": 37,
   "metadata": {},
   "outputs": [],
   "source": [
    "#correlaatiomatriisi"
   ]
  },
  {
   "cell_type": "code",
   "execution_count": 38,
   "metadata": {},
   "outputs": [],
   "source": [
    "#np.argwhere(np.isnan(x))"
   ]
  }
 ],
 "metadata": {
  "kernelspec": {
   "display_name": "Python 3.9.7 ('base')",
   "language": "python",
   "name": "python3"
  },
  "language_info": {
   "codemirror_mode": {
    "name": "ipython",
    "version": 3
   },
   "file_extension": ".py",
   "mimetype": "text/x-python",
   "name": "python",
   "nbconvert_exporter": "python",
   "pygments_lexer": "ipython3",
   "version": "3.9.7"
  },
  "orig_nbformat": 4,
  "vscode": {
   "interpreter": {
    "hash": "4166284f6c1be268893ecc7e1723c4ee59a7af301dc502cec5768712e1b57cd0"
   }
  }
 },
 "nbformat": 4,
 "nbformat_minor": 2
}
